{
 "cells": [
  {
   "cell_type": "markdown",
   "metadata": {},
   "source": [
    "# Проверка гипотез по увеличению выручки в интернет-магазине, A/B тест"
   ]
  },
  {
   "cell_type": "markdown",
   "metadata": {},
   "source": [
    "Вы — аналитик крупного интернет-магазина. Вместе с отделом маркетинга вы подготовили список гипотез для увеличения выручки.\n",
    "Приоритизируйте гипотезы, запустите A/B-тест и проанализируйте результаты. "
   ]
  },
  {
   "cell_type": "markdown",
   "metadata": {},
   "source": [
    "Задача: Используя фреймворки ICE и RICE приоритизировать имеющиеся гипотезы. Проанализировать AB-тест"
   ]
  },
  {
   "cell_type": "markdown",
   "metadata": {
    "toc": true
   },
   "source": [
    "<h1>Содержание<span class=\"tocSkip\"></span></h1>\n",
    "<div class=\"toc\"><ul class=\"toc-item\"><li><span><a href=\"#Изучение-данных\" data-toc-modified-id=\"Изучение-данных-1\"><span class=\"toc-item-num\">1&nbsp;&nbsp;</span>Изучение данных</a></span></li><li><span><a href=\"#Приоритизация-гипотез\" data-toc-modified-id=\"Приоритизация-гипотез-2\"><span class=\"toc-item-num\">2&nbsp;&nbsp;</span>Приоритизация гипотез</a></span><ul class=\"toc-item\"><li><span><a href=\"#Применение-фреймворка-ICE-для-приоритизации-гипотез\" data-toc-modified-id=\"Применение-фреймворка-ICE-для-приоритизации-гипотез-2.1\"><span class=\"toc-item-num\">2.1&nbsp;&nbsp;</span>Применение фреймворка ICE для приоритизации гипотез</a></span></li><li><span><a href=\"#Применение-фреймворка-RICE-для-приоритизации-гипотез\" data-toc-modified-id=\"Применение-фреймворка-RICE-для-приоритизации-гипотез-2.2\"><span class=\"toc-item-num\">2.2&nbsp;&nbsp;</span>Применение фреймворка RICE для приоритизации гипотез</a></span></li><li><span><a href=\"#Вывод\" data-toc-modified-id=\"Вывод-2.3\"><span class=\"toc-item-num\">2.3&nbsp;&nbsp;</span>Вывод</a></span></li></ul></li><li><span><a href=\"#Анализ-A/B-теста\" data-toc-modified-id=\"Анализ-A/B-теста-3\"><span class=\"toc-item-num\">3&nbsp;&nbsp;</span>Анализ A/B-теста</a></span><ul class=\"toc-item\"><li><span><a href=\"#Базовая-проверка-данных\" data-toc-modified-id=\"Базовая-проверка-данных-3.1\"><span class=\"toc-item-num\">3.1&nbsp;&nbsp;</span>Базовая проверка данных</a></span><ul class=\"toc-item\"><li><span><a href=\"#Проверка-таблицы-orders\" data-toc-modified-id=\"Проверка-таблицы-orders-3.1.1\"><span class=\"toc-item-num\">3.1.1&nbsp;&nbsp;</span>Проверка таблицы orders</a></span></li><li><span><a href=\"#Проверка-таблицы-visitors\" data-toc-modified-id=\"Проверка-таблицы-visitors-3.1.2\"><span class=\"toc-item-num\">3.1.2&nbsp;&nbsp;</span>Проверка таблицы visitors</a></span></li><li><span><a href=\"#Вывод\" data-toc-modified-id=\"Вывод-3.1.3\"><span class=\"toc-item-num\">3.1.3&nbsp;&nbsp;</span>Вывод</a></span></li></ul></li><li><span><a href=\"#Построение-графика-кумулятивной-выручки-по-группам.\" data-toc-modified-id=\"Построение-графика-кумулятивной-выручки-по-группам.-3.2\"><span class=\"toc-item-num\">3.2&nbsp;&nbsp;</span>Построение графика кумулятивной выручки по группам.</a></span></li><li><span><a href=\"#Построение-графика-кумулятивного-среднего-чека-по-группам.\" data-toc-modified-id=\"Построение-графика-кумулятивного-среднего-чека-по-группам.-3.3\"><span class=\"toc-item-num\">3.3&nbsp;&nbsp;</span>Построение графика кумулятивного среднего чека по группам.</a></span></li><li><span><a href=\"#Построение-графика-относительного-изменения-кумулятивного-среднего-чека-группы-B-к-группе-A.\" data-toc-modified-id=\"Построение-графика-относительного-изменения-кумулятивного-среднего-чека-группы-B-к-группе-A.-3.4\"><span class=\"toc-item-num\">3.4&nbsp;&nbsp;</span>Построение графика относительного изменения кумулятивного среднего чека группы B к группе A.</a></span></li><li><span><a href=\"#Построение-графика-кумулятивного-среднего-количества-заказов-на-посетителя-по-группам.\" data-toc-modified-id=\"Построение-графика-кумулятивного-среднего-количества-заказов-на-посетителя-по-группам.-3.5\"><span class=\"toc-item-num\">3.5&nbsp;&nbsp;</span>Построение графика кумулятивного среднего количества заказов на посетителя по группам.</a></span></li><li><span><a href=\"#Построение-графика-относительного-изменения-кумулятивного-среднего-количества-заказов-на-посетителя-группы-B-к-группе-A.\" data-toc-modified-id=\"Построение-графика-относительного-изменения-кумулятивного-среднего-количества-заказов-на-посетителя-группы-B-к-группе-A.-3.6\"><span class=\"toc-item-num\">3.6&nbsp;&nbsp;</span>Построение графика относительного изменения кумулятивного среднего количества заказов на посетителя группы B к группе A.</a></span></li><li><span><a href=\"#Построение-точечного-графика-количества-заказов-по-пользователям.\" data-toc-modified-id=\"Построение-точечного-графика-количества-заказов-по-пользователям.-3.7\"><span class=\"toc-item-num\">3.7&nbsp;&nbsp;</span>Построение точечного графика количества заказов по пользователям.</a></span></li><li><span><a href=\"#Расчет-95-й-и-99-й-перцентилей-количества-заказов-на-пользователя\" data-toc-modified-id=\"Расчет-95-й-и-99-й-перцентилей-количества-заказов-на-пользователя-3.8\"><span class=\"toc-item-num\">3.8&nbsp;&nbsp;</span>Расчет 95-й и 99-й перцентилей количества заказов на пользователя</a></span></li><li><span><a href=\"#Построение-точечного-графика-стоимостей-заказов\" data-toc-modified-id=\"Построение-точечного-графика-стоимостей-заказов-3.9\"><span class=\"toc-item-num\">3.9&nbsp;&nbsp;</span>Построение точечного графика стоимостей заказов</a></span></li><li><span><a href=\"#Расчет-95-й-и-99-й-перцентилей-стоимости-заказов\" data-toc-modified-id=\"Расчет-95-й-и-99-й-перцентилей-стоимости-заказов-3.10\"><span class=\"toc-item-num\">3.10&nbsp;&nbsp;</span>Расчет 95-й и 99-й перцентилей стоимости заказов</a></span></li><li><span><a href=\"#Расчет-статистической-значимости-различий-в-среднем-количестве-заказов-на-посетителя-между-группами-по-«сырым»-данным\" data-toc-modified-id=\"Расчет-статистической-значимости-различий-в-среднем-количестве-заказов-на-посетителя-между-группами-по-«сырым»-данным-3.11\"><span class=\"toc-item-num\">3.11&nbsp;&nbsp;</span>Расчет статистической значимости различий в среднем количестве заказов на посетителя между группами по «сырым» данным</a></span></li><li><span><a href=\"#Расчет-статистической-значимости-различий-в-среднем-чеке-заказа-между-группами-по-«сырым»-данным.\" data-toc-modified-id=\"Расчет-статистической-значимости-различий-в-среднем-чеке-заказа-между-группами-по-«сырым»-данным.-3.12\"><span class=\"toc-item-num\">3.12&nbsp;&nbsp;</span>Расчет статистической значимости различий в среднем чеке заказа между группами по «сырым» данным.</a></span></li><li><span><a href=\"#Расчет-статистической-значимости-различий-в-среднем-количестве-заказов-на-посетителя-между-группами-по-«очищенным»-данным.\" data-toc-modified-id=\"Расчет-статистической-значимости-различий-в-среднем-количестве-заказов-на-посетителя-между-группами-по-«очищенным»-данным.-3.13\"><span class=\"toc-item-num\">3.13&nbsp;&nbsp;</span>Расчет статистической значимости различий в среднем количестве заказов на посетителя между группами по «очищенным» данным.</a></span></li><li><span><a href=\"#Расчет-статистической-значимости-различий-в-среднем-чеке-заказа-между-группами-по-«очищенным»-данным.\" data-toc-modified-id=\"Расчет-статистической-значимости-различий-в-среднем-чеке-заказа-между-группами-по-«очищенным»-данным.-3.14\"><span class=\"toc-item-num\">3.14&nbsp;&nbsp;</span>Расчет статистической значимости различий в среднем чеке заказа между группами по «очищенным» данным.</a></span></li></ul></li><li><span><a href=\"#Вывод\" data-toc-modified-id=\"Вывод-4\"><span class=\"toc-item-num\">4&nbsp;&nbsp;</span>Вывод</a></span></li></ul></div>"
   ]
  },
  {
   "cell_type": "markdown",
   "metadata": {},
   "source": [
    "## Изучение данных"
   ]
  },
  {
   "cell_type": "code",
   "execution_count": 1,
   "metadata": {},
   "outputs": [],
   "source": [
    "import pandas as pd\n",
    "import datetime as dt\n",
    "import scipy.stats as stats\n",
    "import numpy as np\n",
    "import seaborn as sns\n",
    "import matplotlib.pyplot as plt\n",
    "from pandas.plotting import register_matplotlib_converters\n",
    "import warnings"
   ]
  },
  {
   "cell_type": "code",
   "execution_count": 2,
   "metadata": {},
   "outputs": [],
   "source": [
    "data = pd.read_csv('/datasets/hypothesis.csv')"
   ]
  },
  {
   "cell_type": "code",
   "execution_count": 3,
   "metadata": {},
   "outputs": [
    {
     "data": {
      "text/html": [
       "<div>\n",
       "<style scoped>\n",
       "    .dataframe tbody tr th:only-of-type {\n",
       "        vertical-align: middle;\n",
       "    }\n",
       "\n",
       "    .dataframe tbody tr th {\n",
       "        vertical-align: top;\n",
       "    }\n",
       "\n",
       "    .dataframe thead th {\n",
       "        text-align: right;\n",
       "    }\n",
       "</style>\n",
       "<table border=\"1\" class=\"dataframe\">\n",
       "  <thead>\n",
       "    <tr style=\"text-align: right;\">\n",
       "      <th></th>\n",
       "      <th>Hypothesis</th>\n",
       "      <th>Reach</th>\n",
       "      <th>Impact</th>\n",
       "      <th>Confidence</th>\n",
       "      <th>Efforts</th>\n",
       "    </tr>\n",
       "  </thead>\n",
       "  <tbody>\n",
       "    <tr>\n",
       "      <th>0</th>\n",
       "      <td>Добавить два новых канала привлечения трафика,...</td>\n",
       "      <td>3</td>\n",
       "      <td>10</td>\n",
       "      <td>8</td>\n",
       "      <td>6</td>\n",
       "    </tr>\n",
       "    <tr>\n",
       "      <th>1</th>\n",
       "      <td>Запустить собственную службу доставки, что сок...</td>\n",
       "      <td>2</td>\n",
       "      <td>5</td>\n",
       "      <td>4</td>\n",
       "      <td>10</td>\n",
       "    </tr>\n",
       "    <tr>\n",
       "      <th>2</th>\n",
       "      <td>Добавить блоки рекомендаций товаров на сайт ин...</td>\n",
       "      <td>8</td>\n",
       "      <td>3</td>\n",
       "      <td>7</td>\n",
       "      <td>3</td>\n",
       "    </tr>\n",
       "    <tr>\n",
       "      <th>3</th>\n",
       "      <td>Изменить структура категорий, что увеличит кон...</td>\n",
       "      <td>8</td>\n",
       "      <td>3</td>\n",
       "      <td>3</td>\n",
       "      <td>8</td>\n",
       "    </tr>\n",
       "    <tr>\n",
       "      <th>4</th>\n",
       "      <td>Изменить цвет фона главной страницы, чтобы уве...</td>\n",
       "      <td>3</td>\n",
       "      <td>1</td>\n",
       "      <td>1</td>\n",
       "      <td>1</td>\n",
       "    </tr>\n",
       "    <tr>\n",
       "      <th>5</th>\n",
       "      <td>Добавить страницу отзывов клиентов о магазине,...</td>\n",
       "      <td>3</td>\n",
       "      <td>2</td>\n",
       "      <td>2</td>\n",
       "      <td>3</td>\n",
       "    </tr>\n",
       "    <tr>\n",
       "      <th>6</th>\n",
       "      <td>Показать на главной странице баннеры с актуаль...</td>\n",
       "      <td>5</td>\n",
       "      <td>3</td>\n",
       "      <td>8</td>\n",
       "      <td>3</td>\n",
       "    </tr>\n",
       "    <tr>\n",
       "      <th>7</th>\n",
       "      <td>Добавить форму подписки на все основные страни...</td>\n",
       "      <td>10</td>\n",
       "      <td>7</td>\n",
       "      <td>8</td>\n",
       "      <td>5</td>\n",
       "    </tr>\n",
       "    <tr>\n",
       "      <th>8</th>\n",
       "      <td>Запустить акцию, дающую скидку на товар в день...</td>\n",
       "      <td>1</td>\n",
       "      <td>9</td>\n",
       "      <td>9</td>\n",
       "      <td>5</td>\n",
       "    </tr>\n",
       "  </tbody>\n",
       "</table>\n",
       "</div>"
      ],
      "text/plain": [
       "                                          Hypothesis  Reach  Impact  \\\n",
       "0  Добавить два новых канала привлечения трафика,...      3      10   \n",
       "1  Запустить собственную службу доставки, что сок...      2       5   \n",
       "2  Добавить блоки рекомендаций товаров на сайт ин...      8       3   \n",
       "3  Изменить структура категорий, что увеличит кон...      8       3   \n",
       "4  Изменить цвет фона главной страницы, чтобы уве...      3       1   \n",
       "5  Добавить страницу отзывов клиентов о магазине,...      3       2   \n",
       "6  Показать на главной странице баннеры с актуаль...      5       3   \n",
       "7  Добавить форму подписки на все основные страни...     10       7   \n",
       "8  Запустить акцию, дающую скидку на товар в день...      1       9   \n",
       "\n",
       "   Confidence  Efforts  \n",
       "0           8        6  \n",
       "1           4       10  \n",
       "2           7        3  \n",
       "3           3        8  \n",
       "4           1        1  \n",
       "5           2        3  \n",
       "6           8        3  \n",
       "7           8        5  \n",
       "8           9        5  "
      ]
     },
     "metadata": {},
     "output_type": "display_data"
    }
   ],
   "source": [
    "display(data)"
   ]
  },
  {
   "cell_type": "code",
   "execution_count": 4,
   "metadata": {},
   "outputs": [],
   "source": [
    "data.columns = data.columns.str.lower()"
   ]
  },
  {
   "cell_type": "code",
   "execution_count": 5,
   "metadata": {
    "scrolled": true
   },
   "outputs": [
    {
     "data": {
      "text/html": [
       "<div>\n",
       "<style scoped>\n",
       "    .dataframe tbody tr th:only-of-type {\n",
       "        vertical-align: middle;\n",
       "    }\n",
       "\n",
       "    .dataframe tbody tr th {\n",
       "        vertical-align: top;\n",
       "    }\n",
       "\n",
       "    .dataframe thead th {\n",
       "        text-align: right;\n",
       "    }\n",
       "</style>\n",
       "<table border=\"1\" class=\"dataframe\">\n",
       "  <thead>\n",
       "    <tr style=\"text-align: right;\">\n",
       "      <th></th>\n",
       "      <th>hypothesis</th>\n",
       "      <th>reach</th>\n",
       "      <th>impact</th>\n",
       "      <th>confidence</th>\n",
       "      <th>efforts</th>\n",
       "    </tr>\n",
       "  </thead>\n",
       "  <tbody>\n",
       "    <tr>\n",
       "      <th>0</th>\n",
       "      <td>Добавить два новых канала привлечения трафика,...</td>\n",
       "      <td>3</td>\n",
       "      <td>10</td>\n",
       "      <td>8</td>\n",
       "      <td>6</td>\n",
       "    </tr>\n",
       "    <tr>\n",
       "      <th>1</th>\n",
       "      <td>Запустить собственную службу доставки, что сок...</td>\n",
       "      <td>2</td>\n",
       "      <td>5</td>\n",
       "      <td>4</td>\n",
       "      <td>10</td>\n",
       "    </tr>\n",
       "    <tr>\n",
       "      <th>2</th>\n",
       "      <td>Добавить блоки рекомендаций товаров на сайт ин...</td>\n",
       "      <td>8</td>\n",
       "      <td>3</td>\n",
       "      <td>7</td>\n",
       "      <td>3</td>\n",
       "    </tr>\n",
       "    <tr>\n",
       "      <th>3</th>\n",
       "      <td>Изменить структура категорий, что увеличит кон...</td>\n",
       "      <td>8</td>\n",
       "      <td>3</td>\n",
       "      <td>3</td>\n",
       "      <td>8</td>\n",
       "    </tr>\n",
       "    <tr>\n",
       "      <th>4</th>\n",
       "      <td>Изменить цвет фона главной страницы, чтобы уве...</td>\n",
       "      <td>3</td>\n",
       "      <td>1</td>\n",
       "      <td>1</td>\n",
       "      <td>1</td>\n",
       "    </tr>\n",
       "    <tr>\n",
       "      <th>5</th>\n",
       "      <td>Добавить страницу отзывов клиентов о магазине,...</td>\n",
       "      <td>3</td>\n",
       "      <td>2</td>\n",
       "      <td>2</td>\n",
       "      <td>3</td>\n",
       "    </tr>\n",
       "    <tr>\n",
       "      <th>6</th>\n",
       "      <td>Показать на главной странице баннеры с актуаль...</td>\n",
       "      <td>5</td>\n",
       "      <td>3</td>\n",
       "      <td>8</td>\n",
       "      <td>3</td>\n",
       "    </tr>\n",
       "    <tr>\n",
       "      <th>7</th>\n",
       "      <td>Добавить форму подписки на все основные страни...</td>\n",
       "      <td>10</td>\n",
       "      <td>7</td>\n",
       "      <td>8</td>\n",
       "      <td>5</td>\n",
       "    </tr>\n",
       "    <tr>\n",
       "      <th>8</th>\n",
       "      <td>Запустить акцию, дающую скидку на товар в день...</td>\n",
       "      <td>1</td>\n",
       "      <td>9</td>\n",
       "      <td>9</td>\n",
       "      <td>5</td>\n",
       "    </tr>\n",
       "  </tbody>\n",
       "</table>\n",
       "</div>"
      ],
      "text/plain": [
       "                                          hypothesis  reach  impact  \\\n",
       "0  Добавить два новых канала привлечения трафика,...      3      10   \n",
       "1  Запустить собственную службу доставки, что сок...      2       5   \n",
       "2  Добавить блоки рекомендаций товаров на сайт ин...      8       3   \n",
       "3  Изменить структура категорий, что увеличит кон...      8       3   \n",
       "4  Изменить цвет фона главной страницы, чтобы уве...      3       1   \n",
       "5  Добавить страницу отзывов клиентов о магазине,...      3       2   \n",
       "6  Показать на главной странице баннеры с актуаль...      5       3   \n",
       "7  Добавить форму подписки на все основные страни...     10       7   \n",
       "8  Запустить акцию, дающую скидку на товар в день...      1       9   \n",
       "\n",
       "   confidence  efforts  \n",
       "0           8        6  \n",
       "1           4       10  \n",
       "2           7        3  \n",
       "3           3        8  \n",
       "4           1        1  \n",
       "5           2        3  \n",
       "6           8        3  \n",
       "7           8        5  \n",
       "8           9        5  "
      ]
     },
     "metadata": {},
     "output_type": "display_data"
    }
   ],
   "source": [
    "display(data)"
   ]
  },
  {
   "cell_type": "markdown",
   "metadata": {},
   "source": [
    "В таблицах всего 9 гипотез каждая из которых имеет следующие параметры: Reach(охват), Impact(влияние), Confidence(уверенность в правильной оценке параметров), efforts(усилия). Для удобства заголовки столбцов были приведены к нижнему регистру"
   ]
  },
  {
   "cell_type": "markdown",
   "metadata": {},
   "source": [
    "## Приоритизация гипотез"
   ]
  },
  {
   "cell_type": "markdown",
   "metadata": {},
   "source": [
    "### Применение фреймворка ICE для приоритизации гипотез"
   ]
  },
  {
   "cell_type": "code",
   "execution_count": 6,
   "metadata": {},
   "outputs": [],
   "source": [
    "data['ICE']=(data['impact']*data['confidence'])/data['efforts']\n",
    "pd.options.display.max_colwidth = 210\n",
    "data['ICE']=data['ICE'].round(2)"
   ]
  },
  {
   "cell_type": "code",
   "execution_count": 7,
   "metadata": {},
   "outputs": [
    {
     "data": {
      "text/html": [
       "<div>\n",
       "<style scoped>\n",
       "    .dataframe tbody tr th:only-of-type {\n",
       "        vertical-align: middle;\n",
       "    }\n",
       "\n",
       "    .dataframe tbody tr th {\n",
       "        vertical-align: top;\n",
       "    }\n",
       "\n",
       "    .dataframe thead th {\n",
       "        text-align: right;\n",
       "    }\n",
       "</style>\n",
       "<table border=\"1\" class=\"dataframe\">\n",
       "  <thead>\n",
       "    <tr style=\"text-align: right;\">\n",
       "      <th></th>\n",
       "      <th>hypothesis</th>\n",
       "      <th>ICE</th>\n",
       "    </tr>\n",
       "  </thead>\n",
       "  <tbody>\n",
       "    <tr>\n",
       "      <th>8</th>\n",
       "      <td>Запустить акцию, дающую скидку на товар в день рождения</td>\n",
       "      <td>16.20</td>\n",
       "    </tr>\n",
       "    <tr>\n",
       "      <th>0</th>\n",
       "      <td>Добавить два новых канала привлечения трафика, что позволит привлекать на 30% больше пользователей</td>\n",
       "      <td>13.33</td>\n",
       "    </tr>\n",
       "    <tr>\n",
       "      <th>7</th>\n",
       "      <td>Добавить форму подписки на все основные страницы, чтобы собрать базу клиентов для email-рассылок</td>\n",
       "      <td>11.20</td>\n",
       "    </tr>\n",
       "    <tr>\n",
       "      <th>6</th>\n",
       "      <td>Показать на главной странице баннеры с актуальными акциями и распродажами, чтобы увеличить конверсию</td>\n",
       "      <td>8.00</td>\n",
       "    </tr>\n",
       "    <tr>\n",
       "      <th>2</th>\n",
       "      <td>Добавить блоки рекомендаций товаров на сайт интернет магазина, чтобы повысить конверсию и средний чек заказа</td>\n",
       "      <td>7.00</td>\n",
       "    </tr>\n",
       "    <tr>\n",
       "      <th>1</th>\n",
       "      <td>Запустить собственную службу доставки, что сократит срок доставки заказов</td>\n",
       "      <td>2.00</td>\n",
       "    </tr>\n",
       "    <tr>\n",
       "      <th>5</th>\n",
       "      <td>Добавить страницу отзывов клиентов о магазине, что позволит увеличить количество заказов</td>\n",
       "      <td>1.33</td>\n",
       "    </tr>\n",
       "    <tr>\n",
       "      <th>3</th>\n",
       "      <td>Изменить структура категорий, что увеличит конверсию, т.к. пользователи быстрее найдут нужный товар</td>\n",
       "      <td>1.12</td>\n",
       "    </tr>\n",
       "    <tr>\n",
       "      <th>4</th>\n",
       "      <td>Изменить цвет фона главной страницы, чтобы увеличить вовлеченность пользователей</td>\n",
       "      <td>1.00</td>\n",
       "    </tr>\n",
       "  </tbody>\n",
       "</table>\n",
       "</div>"
      ],
      "text/plain": [
       "                                                                                                     hypothesis  \\\n",
       "8                                                       Запустить акцию, дающую скидку на товар в день рождения   \n",
       "0            Добавить два новых канала привлечения трафика, что позволит привлекать на 30% больше пользователей   \n",
       "7              Добавить форму подписки на все основные страницы, чтобы собрать базу клиентов для email-рассылок   \n",
       "6          Показать на главной странице баннеры с актуальными акциями и распродажами, чтобы увеличить конверсию   \n",
       "2  Добавить блоки рекомендаций товаров на сайт интернет магазина, чтобы повысить конверсию и средний чек заказа   \n",
       "1                                     Запустить собственную службу доставки, что сократит срок доставки заказов   \n",
       "5                      Добавить страницу отзывов клиентов о магазине, что позволит увеличить количество заказов   \n",
       "3           Изменить структура категорий, что увеличит конверсию, т.к. пользователи быстрее найдут нужный товар   \n",
       "4                              Изменить цвет фона главной страницы, чтобы увеличить вовлеченность пользователей   \n",
       "\n",
       "     ICE  \n",
       "8  16.20  \n",
       "0  13.33  \n",
       "7  11.20  \n",
       "6   8.00  \n",
       "2   7.00  \n",
       "1   2.00  \n",
       "5   1.33  \n",
       "3   1.12  \n",
       "4   1.00  "
      ]
     },
     "metadata": {},
     "output_type": "display_data"
    }
   ],
   "source": [
    "display(data[['hypothesis', 'ICE']].sort_values(by='ICE', ascending=False))\n",
    "pd.options.display.max_colwidth = 210"
   ]
  },
  {
   "cell_type": "markdown",
   "metadata": {},
   "source": [
    "Наиболее перспективными гипотезами по ICE являются 8,0,7,6"
   ]
  },
  {
   "cell_type": "markdown",
   "metadata": {},
   "source": [
    "### Применение фреймворка RICE для приоритизации гипотез"
   ]
  },
  {
   "cell_type": "code",
   "execution_count": 8,
   "metadata": {},
   "outputs": [],
   "source": [
    "data['RICE']=(data['reach']*data['impact']*data['confidence'])/data['efforts']"
   ]
  },
  {
   "cell_type": "code",
   "execution_count": 9,
   "metadata": {},
   "outputs": [
    {
     "data": {
      "text/html": [
       "<div>\n",
       "<style scoped>\n",
       "    .dataframe tbody tr th:only-of-type {\n",
       "        vertical-align: middle;\n",
       "    }\n",
       "\n",
       "    .dataframe tbody tr th {\n",
       "        vertical-align: top;\n",
       "    }\n",
       "\n",
       "    .dataframe thead th {\n",
       "        text-align: right;\n",
       "    }\n",
       "</style>\n",
       "<table border=\"1\" class=\"dataframe\">\n",
       "  <thead>\n",
       "    <tr style=\"text-align: right;\">\n",
       "      <th></th>\n",
       "      <th>hypothesis</th>\n",
       "      <th>RICE</th>\n",
       "    </tr>\n",
       "  </thead>\n",
       "  <tbody>\n",
       "    <tr>\n",
       "      <th>7</th>\n",
       "      <td>Добавить форму подписки на все основные страницы, чтобы собрать базу клиентов для email-рассылок</td>\n",
       "      <td>112.0</td>\n",
       "    </tr>\n",
       "    <tr>\n",
       "      <th>2</th>\n",
       "      <td>Добавить блоки рекомендаций товаров на сайт интернет магазина, чтобы повысить конверсию и средний чек заказа</td>\n",
       "      <td>56.0</td>\n",
       "    </tr>\n",
       "    <tr>\n",
       "      <th>0</th>\n",
       "      <td>Добавить два новых канала привлечения трафика, что позволит привлекать на 30% больше пользователей</td>\n",
       "      <td>40.0</td>\n",
       "    </tr>\n",
       "    <tr>\n",
       "      <th>6</th>\n",
       "      <td>Показать на главной странице баннеры с актуальными акциями и распродажами, чтобы увеличить конверсию</td>\n",
       "      <td>40.0</td>\n",
       "    </tr>\n",
       "    <tr>\n",
       "      <th>8</th>\n",
       "      <td>Запустить акцию, дающую скидку на товар в день рождения</td>\n",
       "      <td>16.2</td>\n",
       "    </tr>\n",
       "    <tr>\n",
       "      <th>3</th>\n",
       "      <td>Изменить структура категорий, что увеличит конверсию, т.к. пользователи быстрее найдут нужный товар</td>\n",
       "      <td>9.0</td>\n",
       "    </tr>\n",
       "    <tr>\n",
       "      <th>1</th>\n",
       "      <td>Запустить собственную службу доставки, что сократит срок доставки заказов</td>\n",
       "      <td>4.0</td>\n",
       "    </tr>\n",
       "    <tr>\n",
       "      <th>5</th>\n",
       "      <td>Добавить страницу отзывов клиентов о магазине, что позволит увеличить количество заказов</td>\n",
       "      <td>4.0</td>\n",
       "    </tr>\n",
       "    <tr>\n",
       "      <th>4</th>\n",
       "      <td>Изменить цвет фона главной страницы, чтобы увеличить вовлеченность пользователей</td>\n",
       "      <td>3.0</td>\n",
       "    </tr>\n",
       "  </tbody>\n",
       "</table>\n",
       "</div>"
      ],
      "text/plain": [
       "                                                                                                     hypothesis  \\\n",
       "7              Добавить форму подписки на все основные страницы, чтобы собрать базу клиентов для email-рассылок   \n",
       "2  Добавить блоки рекомендаций товаров на сайт интернет магазина, чтобы повысить конверсию и средний чек заказа   \n",
       "0            Добавить два новых канала привлечения трафика, что позволит привлекать на 30% больше пользователей   \n",
       "6          Показать на главной странице баннеры с актуальными акциями и распродажами, чтобы увеличить конверсию   \n",
       "8                                                       Запустить акцию, дающую скидку на товар в день рождения   \n",
       "3           Изменить структура категорий, что увеличит конверсию, т.к. пользователи быстрее найдут нужный товар   \n",
       "1                                     Запустить собственную службу доставки, что сократит срок доставки заказов   \n",
       "5                      Добавить страницу отзывов клиентов о магазине, что позволит увеличить количество заказов   \n",
       "4                              Изменить цвет фона главной страницы, чтобы увеличить вовлеченность пользователей   \n",
       "\n",
       "    RICE  \n",
       "7  112.0  \n",
       "2   56.0  \n",
       "0   40.0  \n",
       "6   40.0  \n",
       "8   16.2  \n",
       "3    9.0  \n",
       "1    4.0  \n",
       "5    4.0  \n",
       "4    3.0  "
      ]
     },
     "metadata": {},
     "output_type": "display_data"
    }
   ],
   "source": [
    "display(data[['hypothesis', 'RICE']].sort_values(by='RICE', ascending=False))"
   ]
  },
  {
   "cell_type": "markdown",
   "metadata": {},
   "source": [
    "Наиболее перспективными гипотезами по RICE являются 7,2,0,6. \n"
   ]
  },
  {
   "cell_type": "markdown",
   "metadata": {},
   "source": [
    "### Вывод "
   ]
  },
  {
   "cell_type": "markdown",
   "metadata": {},
   "source": [
    "В целом можно сказать, что результаты полученные по ICE и RICE схожие:первая пятерка гипотез совпадает, различия только в их последовательности. Причина этого параметр Reach который учитывается в RICE. Так, например, добавление формы подписки(гипотеза 7) повлияет на большее количество пользователей чем предлагаемая в гипотезе 8 акция в день рождения. Так как эта акция доступна пользователям раз в год. Похожая ситуация с другими гипотезами.\n",
    "\n",
    "Есть смысл рассмотреть гипотезы фреймворка RICE при проведении A/B теста.\n",
    "\n"
   ]
  },
  {
   "cell_type": "markdown",
   "metadata": {},
   "source": [
    "## Анализ A/B-теста"
   ]
  },
  {
   "cell_type": "markdown",
   "metadata": {},
   "source": [
    "### Базовая проверка данных"
   ]
  },
  {
   "cell_type": "code",
   "execution_count": 10,
   "metadata": {},
   "outputs": [],
   "source": [
    "orders = pd.read_csv('/datasets/orders.csv')\n",
    "visitors = pd.read_csv('/datasets/visitors.csv')"
   ]
  },
  {
   "cell_type": "code",
   "execution_count": 11,
   "metadata": {},
   "outputs": [
    {
     "name": "stdout",
     "output_type": "stream",
     "text": [
      "<class 'pandas.core.frame.DataFrame'>\n",
      "RangeIndex: 1197 entries, 0 to 1196\n",
      "Data columns (total 5 columns):\n",
      " #   Column         Non-Null Count  Dtype \n",
      "---  ------         --------------  ----- \n",
      " 0   transactionId  1197 non-null   int64 \n",
      " 1   visitorId      1197 non-null   int64 \n",
      " 2   date           1197 non-null   object\n",
      " 3   revenue        1197 non-null   int64 \n",
      " 4   group          1197 non-null   object\n",
      "dtypes: int64(3), object(2)\n",
      "memory usage: 46.9+ KB\n"
     ]
    }
   ],
   "source": [
    "orders.info()"
   ]
  },
  {
   "cell_type": "code",
   "execution_count": 12,
   "metadata": {},
   "outputs": [
    {
     "name": "stdout",
     "output_type": "stream",
     "text": [
      "<class 'pandas.core.frame.DataFrame'>\n",
      "RangeIndex: 62 entries, 0 to 61\n",
      "Data columns (total 3 columns):\n",
      " #   Column    Non-Null Count  Dtype \n",
      "---  ------    --------------  ----- \n",
      " 0   date      62 non-null     object\n",
      " 1   group     62 non-null     object\n",
      " 2   visitors  62 non-null     int64 \n",
      "dtypes: int64(1), object(2)\n",
      "memory usage: 1.6+ KB\n"
     ]
    }
   ],
   "source": [
    "visitors.info()"
   ]
  },
  {
   "cell_type": "code",
   "execution_count": 13,
   "metadata": {},
   "outputs": [],
   "source": [
    "## преобразование из строки в дату\n",
    "orders['date'] = orders['date'].map(lambda x: dt.datetime.strptime(x, '%Y-%m-%d'))\n",
    "visitors['date'] = visitors['date'].map(lambda x: dt.datetime.strptime(x, '%Y-%m-%d'))"
   ]
  },
  {
   "cell_type": "markdown",
   "metadata": {},
   "source": [
    "#### Проверка таблицы orders"
   ]
  },
  {
   "cell_type": "code",
   "execution_count": 14,
   "metadata": {
    "scrolled": true
   },
   "outputs": [
    {
     "data": {
      "text/html": [
       "<div>\n",
       "<style scoped>\n",
       "    .dataframe tbody tr th:only-of-type {\n",
       "        vertical-align: middle;\n",
       "    }\n",
       "\n",
       "    .dataframe tbody tr th {\n",
       "        vertical-align: top;\n",
       "    }\n",
       "\n",
       "    .dataframe thead th {\n",
       "        text-align: right;\n",
       "    }\n",
       "</style>\n",
       "<table border=\"1\" class=\"dataframe\">\n",
       "  <thead>\n",
       "    <tr style=\"text-align: right;\">\n",
       "      <th></th>\n",
       "      <th>transactionId</th>\n",
       "      <th>visitorId</th>\n",
       "      <th>date</th>\n",
       "      <th>revenue</th>\n",
       "      <th>group</th>\n",
       "    </tr>\n",
       "  </thead>\n",
       "  <tbody>\n",
       "    <tr>\n",
       "      <th>0</th>\n",
       "      <td>3667963787</td>\n",
       "      <td>3312258926</td>\n",
       "      <td>2019-08-15</td>\n",
       "      <td>1650</td>\n",
       "      <td>B</td>\n",
       "    </tr>\n",
       "    <tr>\n",
       "      <th>1</th>\n",
       "      <td>2804400009</td>\n",
       "      <td>3642806036</td>\n",
       "      <td>2019-08-15</td>\n",
       "      <td>730</td>\n",
       "      <td>B</td>\n",
       "    </tr>\n",
       "    <tr>\n",
       "      <th>2</th>\n",
       "      <td>2961555356</td>\n",
       "      <td>4069496402</td>\n",
       "      <td>2019-08-15</td>\n",
       "      <td>400</td>\n",
       "      <td>A</td>\n",
       "    </tr>\n",
       "    <tr>\n",
       "      <th>3</th>\n",
       "      <td>3797467345</td>\n",
       "      <td>1196621759</td>\n",
       "      <td>2019-08-15</td>\n",
       "      <td>9759</td>\n",
       "      <td>B</td>\n",
       "    </tr>\n",
       "    <tr>\n",
       "      <th>4</th>\n",
       "      <td>2282983706</td>\n",
       "      <td>2322279887</td>\n",
       "      <td>2019-08-15</td>\n",
       "      <td>2308</td>\n",
       "      <td>B</td>\n",
       "    </tr>\n",
       "    <tr>\n",
       "      <th>...</th>\n",
       "      <td>...</td>\n",
       "      <td>...</td>\n",
       "      <td>...</td>\n",
       "      <td>...</td>\n",
       "      <td>...</td>\n",
       "    </tr>\n",
       "    <tr>\n",
       "      <th>1192</th>\n",
       "      <td>2662137336</td>\n",
       "      <td>3733762160</td>\n",
       "      <td>2019-08-14</td>\n",
       "      <td>6490</td>\n",
       "      <td>B</td>\n",
       "    </tr>\n",
       "    <tr>\n",
       "      <th>1193</th>\n",
       "      <td>2203539145</td>\n",
       "      <td>370388673</td>\n",
       "      <td>2019-08-14</td>\n",
       "      <td>3190</td>\n",
       "      <td>A</td>\n",
       "    </tr>\n",
       "    <tr>\n",
       "      <th>1194</th>\n",
       "      <td>1807773912</td>\n",
       "      <td>573423106</td>\n",
       "      <td>2019-08-14</td>\n",
       "      <td>10550</td>\n",
       "      <td>A</td>\n",
       "    </tr>\n",
       "    <tr>\n",
       "      <th>1195</th>\n",
       "      <td>1947021204</td>\n",
       "      <td>1614305549</td>\n",
       "      <td>2019-08-14</td>\n",
       "      <td>100</td>\n",
       "      <td>A</td>\n",
       "    </tr>\n",
       "    <tr>\n",
       "      <th>1196</th>\n",
       "      <td>3936777065</td>\n",
       "      <td>2108080724</td>\n",
       "      <td>2019-08-15</td>\n",
       "      <td>202740</td>\n",
       "      <td>B</td>\n",
       "    </tr>\n",
       "  </tbody>\n",
       "</table>\n",
       "<p>1197 rows × 5 columns</p>\n",
       "</div>"
      ],
      "text/plain": [
       "      transactionId   visitorId       date  revenue group\n",
       "0        3667963787  3312258926 2019-08-15     1650     B\n",
       "1        2804400009  3642806036 2019-08-15      730     B\n",
       "2        2961555356  4069496402 2019-08-15      400     A\n",
       "3        3797467345  1196621759 2019-08-15     9759     B\n",
       "4        2282983706  2322279887 2019-08-15     2308     B\n",
       "...             ...         ...        ...      ...   ...\n",
       "1192     2662137336  3733762160 2019-08-14     6490     B\n",
       "1193     2203539145   370388673 2019-08-14     3190     A\n",
       "1194     1807773912   573423106 2019-08-14    10550     A\n",
       "1195     1947021204  1614305549 2019-08-14      100     A\n",
       "1196     3936777065  2108080724 2019-08-15   202740     B\n",
       "\n",
       "[1197 rows x 5 columns]"
      ]
     },
     "metadata": {},
     "output_type": "display_data"
    }
   ],
   "source": [
    "display(orders)"
   ]
  },
  {
   "cell_type": "code",
   "execution_count": 15,
   "metadata": {},
   "outputs": [
    {
     "data": {
      "text/plain": [
       "Timestamp('2019-08-01 00:00:00')"
      ]
     },
     "metadata": {},
     "output_type": "display_data"
    },
    {
     "data": {
      "text/plain": [
       "Timestamp('2019-08-31 00:00:00')"
      ]
     },
     "metadata": {},
     "output_type": "display_data"
    }
   ],
   "source": [
    "#минимальная и максимальная дата\n",
    "display(min(orders['date']))\n",
    "display(max(orders['date']))"
   ]
  },
  {
   "cell_type": "code",
   "execution_count": 16,
   "metadata": {},
   "outputs": [
    {
     "data": {
      "text/plain": [
       "B    640\n",
       "A    557\n",
       "Name: group, dtype: int64"
      ]
     },
     "execution_count": 16,
     "metadata": {},
     "output_type": "execute_result"
    }
   ],
   "source": [
    "#количество заказов  в двух группах\n",
    "orders['group'].value_counts()"
   ]
  },
  {
   "cell_type": "code",
   "execution_count": 17,
   "metadata": {},
   "outputs": [
    {
     "data": {
      "text/plain": [
       "0"
      ]
     },
     "execution_count": 17,
     "metadata": {},
     "output_type": "execute_result"
    }
   ],
   "source": [
    "orders.duplicated().sum()"
   ]
  },
  {
   "cell_type": "markdown",
   "metadata": {},
   "source": [
    "#### Проверка таблицы visitors"
   ]
  },
  {
   "cell_type": "code",
   "execution_count": 18,
   "metadata": {},
   "outputs": [
    {
     "data": {
      "text/html": [
       "<div>\n",
       "<style scoped>\n",
       "    .dataframe tbody tr th:only-of-type {\n",
       "        vertical-align: middle;\n",
       "    }\n",
       "\n",
       "    .dataframe tbody tr th {\n",
       "        vertical-align: top;\n",
       "    }\n",
       "\n",
       "    .dataframe thead th {\n",
       "        text-align: right;\n",
       "    }\n",
       "</style>\n",
       "<table border=\"1\" class=\"dataframe\">\n",
       "  <thead>\n",
       "    <tr style=\"text-align: right;\">\n",
       "      <th></th>\n",
       "      <th>date</th>\n",
       "      <th>group</th>\n",
       "      <th>visitors</th>\n",
       "    </tr>\n",
       "  </thead>\n",
       "  <tbody>\n",
       "    <tr>\n",
       "      <th>0</th>\n",
       "      <td>2019-08-01</td>\n",
       "      <td>A</td>\n",
       "      <td>719</td>\n",
       "    </tr>\n",
       "    <tr>\n",
       "      <th>1</th>\n",
       "      <td>2019-08-02</td>\n",
       "      <td>A</td>\n",
       "      <td>619</td>\n",
       "    </tr>\n",
       "    <tr>\n",
       "      <th>2</th>\n",
       "      <td>2019-08-03</td>\n",
       "      <td>A</td>\n",
       "      <td>507</td>\n",
       "    </tr>\n",
       "    <tr>\n",
       "      <th>3</th>\n",
       "      <td>2019-08-04</td>\n",
       "      <td>A</td>\n",
       "      <td>717</td>\n",
       "    </tr>\n",
       "    <tr>\n",
       "      <th>4</th>\n",
       "      <td>2019-08-05</td>\n",
       "      <td>A</td>\n",
       "      <td>756</td>\n",
       "    </tr>\n",
       "    <tr>\n",
       "      <th>...</th>\n",
       "      <td>...</td>\n",
       "      <td>...</td>\n",
       "      <td>...</td>\n",
       "    </tr>\n",
       "    <tr>\n",
       "      <th>57</th>\n",
       "      <td>2019-08-27</td>\n",
       "      <td>B</td>\n",
       "      <td>720</td>\n",
       "    </tr>\n",
       "    <tr>\n",
       "      <th>58</th>\n",
       "      <td>2019-08-28</td>\n",
       "      <td>B</td>\n",
       "      <td>654</td>\n",
       "    </tr>\n",
       "    <tr>\n",
       "      <th>59</th>\n",
       "      <td>2019-08-29</td>\n",
       "      <td>B</td>\n",
       "      <td>531</td>\n",
       "    </tr>\n",
       "    <tr>\n",
       "      <th>60</th>\n",
       "      <td>2019-08-30</td>\n",
       "      <td>B</td>\n",
       "      <td>490</td>\n",
       "    </tr>\n",
       "    <tr>\n",
       "      <th>61</th>\n",
       "      <td>2019-08-31</td>\n",
       "      <td>B</td>\n",
       "      <td>718</td>\n",
       "    </tr>\n",
       "  </tbody>\n",
       "</table>\n",
       "<p>62 rows × 3 columns</p>\n",
       "</div>"
      ],
      "text/plain": [
       "         date group  visitors\n",
       "0  2019-08-01     A       719\n",
       "1  2019-08-02     A       619\n",
       "2  2019-08-03     A       507\n",
       "3  2019-08-04     A       717\n",
       "4  2019-08-05     A       756\n",
       "..        ...   ...       ...\n",
       "57 2019-08-27     B       720\n",
       "58 2019-08-28     B       654\n",
       "59 2019-08-29     B       531\n",
       "60 2019-08-30     B       490\n",
       "61 2019-08-31     B       718\n",
       "\n",
       "[62 rows x 3 columns]"
      ]
     },
     "metadata": {},
     "output_type": "display_data"
    }
   ],
   "source": [
    "display(visitors)"
   ]
  },
  {
   "cell_type": "code",
   "execution_count": 19,
   "metadata": {},
   "outputs": [
    {
     "data": {
      "text/plain": [
       "A    31\n",
       "B    31\n",
       "Name: group, dtype: int64"
      ]
     },
     "execution_count": 19,
     "metadata": {},
     "output_type": "execute_result"
    }
   ],
   "source": [
    "visitors['group'].value_counts()"
   ]
  },
  {
   "cell_type": "code",
   "execution_count": 20,
   "metadata": {},
   "outputs": [
    {
     "data": {
      "text/plain": [
       "Timestamp('2019-08-01 00:00:00')"
      ]
     },
     "metadata": {},
     "output_type": "display_data"
    },
    {
     "data": {
      "text/plain": [
       "Timestamp('2019-08-31 00:00:00')"
      ]
     },
     "metadata": {},
     "output_type": "display_data"
    }
   ],
   "source": [
    "#минимальная и максимальная дата\n",
    "display(min(visitors['date']))\n",
    "display(max(visitors['date']))"
   ]
  },
  {
   "cell_type": "code",
   "execution_count": 21,
   "metadata": {},
   "outputs": [
    {
     "data": {
      "text/html": [
       "<div>\n",
       "<style scoped>\n",
       "    .dataframe tbody tr th:only-of-type {\n",
       "        vertical-align: middle;\n",
       "    }\n",
       "\n",
       "    .dataframe tbody tr th {\n",
       "        vertical-align: top;\n",
       "    }\n",
       "\n",
       "    .dataframe thead th {\n",
       "        text-align: right;\n",
       "    }\n",
       "</style>\n",
       "<table border=\"1\" class=\"dataframe\">\n",
       "  <thead>\n",
       "    <tr style=\"text-align: right;\">\n",
       "      <th></th>\n",
       "      <th>visitorId</th>\n",
       "    </tr>\n",
       "    <tr>\n",
       "      <th>group</th>\n",
       "      <th></th>\n",
       "    </tr>\n",
       "  </thead>\n",
       "  <tbody>\n",
       "    <tr>\n",
       "      <th>A</th>\n",
       "      <td>503</td>\n",
       "    </tr>\n",
       "    <tr>\n",
       "      <th>B</th>\n",
       "      <td>586</td>\n",
       "    </tr>\n",
       "  </tbody>\n",
       "</table>\n",
       "</div>"
      ],
      "text/plain": [
       "       visitorId\n",
       "group           \n",
       "A            503\n",
       "B            586"
      ]
     },
     "execution_count": 21,
     "metadata": {},
     "output_type": "execute_result"
    }
   ],
   "source": [
    "# общее количество уникальных пользователей в двух группах\n",
    "orders.groupby('group').agg({'visitorId' : 'nunique'})"
   ]
  },
  {
   "cell_type": "code",
   "execution_count": 22,
   "metadata": {},
   "outputs": [
    {
     "data": {
      "text/plain": [
       "58"
      ]
     },
     "execution_count": 22,
     "metadata": {},
     "output_type": "execute_result"
    }
   ],
   "source": [
    "# количество уникальных пользователей, которые оказались одновременно в двух группах\n",
    "unique_visitors = orders.loc[:, ['visitorId', 'group']].drop_duplicates().drop(columns=['group'])\n",
    "unique_visitors.visitorId.duplicated().sum()"
   ]
  },
  {
   "cell_type": "code",
   "execution_count": 23,
   "metadata": {},
   "outputs": [],
   "source": [
    "datesGroups = orders[['date', 'group']].drop_duplicates()"
   ]
  },
  {
   "cell_type": "markdown",
   "metadata": {},
   "source": [
    "#### Вывод "
   ]
  },
  {
   "cell_type": "markdown",
   "metadata": {},
   "source": [
    "В таблице orders всего 1197 строк в ней хранятся данные о идентификаторах заказов и посетителей, дата, чек и тип группы- А или В;\n",
    "В таблице visitors хранятся данные о количестве посетителей на определенную дату и их группа;\n",
    "Анализ общей информации о данных в таблицах показал, что данные в колонках с датами имеют тип \"object\". В связи с чем они были преобразованы в \"datetime64\".\n",
    "Минимальная дата анализа 1 августа 2019 максимальная 31 августа 2019;\n",
    "Дубликаты отсутствуют\n",
    "Общее количество заказов в группах не совпадает. В группе А - 557, а в группе В - 640. То же касается количества уникальных посетителей в группе В их на 83 человека больше. В дополнение к этому в обоих группах оказалось 58 человек одновременно. Это может негативно сказаться на результатах теста.\n"
   ]
  },
  {
   "cell_type": "markdown",
   "metadata": {},
   "source": [
    "### Построение графика кумулятивной выручки по группам."
   ]
  },
  {
   "cell_type": "code",
   "execution_count": 24,
   "metadata": {},
   "outputs": [],
   "source": [
    "ordersAggregated = datesGroups.apply(\n",
    "    lambda x: orders[\n",
    "        np.logical_and(\n",
    "            orders['date'] <= x['date'], orders['group'] == x['group']\n",
    "        )\n",
    "    ].agg(\n",
    "        {\n",
    "            'date': 'max',\n",
    "            'group': 'max',\n",
    "            'transactionId': 'nunique',\n",
    "            'visitorId': 'nunique',\n",
    "            'revenue': 'sum',\n",
    "        }\n",
    "    ),\n",
    "    axis=1,\n",
    ").sort_values(by=['date', 'group'])"
   ]
  },
  {
   "cell_type": "code",
   "execution_count": 25,
   "metadata": {},
   "outputs": [
    {
     "name": "stdout",
     "output_type": "stream",
     "text": [
      "<class 'pandas.core.frame.DataFrame'>\n",
      "Int64Index: 62 entries, 55 to 930\n",
      "Data columns (total 5 columns):\n",
      " #   Column         Non-Null Count  Dtype         \n",
      "---  ------         --------------  -----         \n",
      " 0   date           62 non-null     datetime64[ns]\n",
      " 1   group          62 non-null     object        \n",
      " 2   transactionId  62 non-null     int64         \n",
      " 3   visitorId      62 non-null     int64         \n",
      " 4   revenue        62 non-null     int64         \n",
      "dtypes: datetime64[ns](1), int64(3), object(1)\n",
      "memory usage: 2.9+ KB\n"
     ]
    }
   ],
   "source": [
    "ordersAggregated.info()"
   ]
  },
  {
   "cell_type": "code",
   "execution_count": 26,
   "metadata": {},
   "outputs": [
    {
     "data": {
      "text/html": [
       "<div>\n",
       "<style scoped>\n",
       "    .dataframe tbody tr th:only-of-type {\n",
       "        vertical-align: middle;\n",
       "    }\n",
       "\n",
       "    .dataframe tbody tr th {\n",
       "        vertical-align: top;\n",
       "    }\n",
       "\n",
       "    .dataframe thead th {\n",
       "        text-align: right;\n",
       "    }\n",
       "</style>\n",
       "<table border=\"1\" class=\"dataframe\">\n",
       "  <thead>\n",
       "    <tr style=\"text-align: right;\">\n",
       "      <th></th>\n",
       "      <th>date</th>\n",
       "      <th>group</th>\n",
       "      <th>visitors</th>\n",
       "    </tr>\n",
       "  </thead>\n",
       "  <tbody>\n",
       "    <tr>\n",
       "      <th>0</th>\n",
       "      <td>2019-08-01</td>\n",
       "      <td>A</td>\n",
       "      <td>719</td>\n",
       "    </tr>\n",
       "    <tr>\n",
       "      <th>1</th>\n",
       "      <td>2019-08-02</td>\n",
       "      <td>A</td>\n",
       "      <td>619</td>\n",
       "    </tr>\n",
       "    <tr>\n",
       "      <th>2</th>\n",
       "      <td>2019-08-03</td>\n",
       "      <td>A</td>\n",
       "      <td>507</td>\n",
       "    </tr>\n",
       "    <tr>\n",
       "      <th>3</th>\n",
       "      <td>2019-08-04</td>\n",
       "      <td>A</td>\n",
       "      <td>717</td>\n",
       "    </tr>\n",
       "    <tr>\n",
       "      <th>4</th>\n",
       "      <td>2019-08-05</td>\n",
       "      <td>A</td>\n",
       "      <td>756</td>\n",
       "    </tr>\n",
       "    <tr>\n",
       "      <th>...</th>\n",
       "      <td>...</td>\n",
       "      <td>...</td>\n",
       "      <td>...</td>\n",
       "    </tr>\n",
       "    <tr>\n",
       "      <th>57</th>\n",
       "      <td>2019-08-27</td>\n",
       "      <td>B</td>\n",
       "      <td>720</td>\n",
       "    </tr>\n",
       "    <tr>\n",
       "      <th>58</th>\n",
       "      <td>2019-08-28</td>\n",
       "      <td>B</td>\n",
       "      <td>654</td>\n",
       "    </tr>\n",
       "    <tr>\n",
       "      <th>59</th>\n",
       "      <td>2019-08-29</td>\n",
       "      <td>B</td>\n",
       "      <td>531</td>\n",
       "    </tr>\n",
       "    <tr>\n",
       "      <th>60</th>\n",
       "      <td>2019-08-30</td>\n",
       "      <td>B</td>\n",
       "      <td>490</td>\n",
       "    </tr>\n",
       "    <tr>\n",
       "      <th>61</th>\n",
       "      <td>2019-08-31</td>\n",
       "      <td>B</td>\n",
       "      <td>718</td>\n",
       "    </tr>\n",
       "  </tbody>\n",
       "</table>\n",
       "<p>62 rows × 3 columns</p>\n",
       "</div>"
      ],
      "text/plain": [
       "         date group  visitors\n",
       "0  2019-08-01     A       719\n",
       "1  2019-08-02     A       619\n",
       "2  2019-08-03     A       507\n",
       "3  2019-08-04     A       717\n",
       "4  2019-08-05     A       756\n",
       "..        ...   ...       ...\n",
       "57 2019-08-27     B       720\n",
       "58 2019-08-28     B       654\n",
       "59 2019-08-29     B       531\n",
       "60 2019-08-30     B       490\n",
       "61 2019-08-31     B       718\n",
       "\n",
       "[62 rows x 3 columns]"
      ]
     },
     "metadata": {},
     "output_type": "display_data"
    }
   ],
   "source": [
    "display(visitors)"
   ]
  },
  {
   "cell_type": "code",
   "execution_count": 27,
   "metadata": {},
   "outputs": [],
   "source": [
    "visitorsAggregated = datesGroups.apply(\n",
    "    lambda x: visitors[\n",
    "        np.logical_and(\n",
    "            visitors['date'] <= x['date'], visitors['group'] == x['group']\n",
    "        )\n",
    "    ].agg({'date': 'max', 'group': 'max', 'visitors': 'sum'}),\n",
    "    axis=1,\n",
    ").sort_values(by=['date', 'group'])\n"
   ]
  },
  {
   "cell_type": "code",
   "execution_count": 28,
   "metadata": {},
   "outputs": [
    {
     "name": "stdout",
     "output_type": "stream",
     "text": [
      "<class 'pandas.core.frame.DataFrame'>\n",
      "Int64Index: 62 entries, 55 to 930\n",
      "Data columns (total 3 columns):\n",
      " #   Column    Non-Null Count  Dtype         \n",
      "---  ------    --------------  -----         \n",
      " 0   date      62 non-null     datetime64[ns]\n",
      " 1   group     62 non-null     object        \n",
      " 2   visitors  62 non-null     int64         \n",
      "dtypes: datetime64[ns](1), int64(1), object(1)\n",
      "memory usage: 1.9+ KB\n"
     ]
    }
   ],
   "source": [
    "visitorsAggregated.info()"
   ]
  },
  {
   "cell_type": "code",
   "execution_count": 29,
   "metadata": {},
   "outputs": [
    {
     "data": {
      "image/png": "[encoded data removed]",
      "text/plain": [
       "<Figure size 1440x720 with 1 Axes>"
      ]
     },
     "metadata": {
      "needs_background": "light"
     },
     "output_type": "display_data"
    }
   ],
   "source": [
    "#выручка\n",
    "cumulativeData = ordersAggregated.merge(\n",
    "    visitorsAggregated, left_on=['date', 'group'], right_on=['date', 'group']\n",
    ")\n",
    "cumulativeData.columns = [\n",
    "    'date',\n",
    "    'group',\n",
    "    'orders',\n",
    "    'buyers',\n",
    "    'revenue',\n",
    "    'visitors',\n",
    "]\n",
    "\n",
    "# датафрейм с кумулятивным количеством заказов и кумулятивной выручкой по дням в группе А\n",
    "cumulativeRevenueA = cumulativeData[cumulativeData['group']=='A'][['date','revenue', 'orders']]\n",
    "\n",
    "# датафрейм с кумулятивным количеством заказов и кумулятивной выручкой по дням в группе B\n",
    "cumulativeRevenueB = cumulativeData[cumulativeData['group']=='B'][['date','revenue', 'orders']]\n",
    "\n",
    "plt.figure(figsize=(20, 10))\n",
    "# Строим график выручки группы А\n",
    "plt.plot(cumulativeRevenueA['date'], cumulativeRevenueA['revenue'], label='A')\n",
    "\n",
    "# Строим график выручки группы B\n",
    "plt.plot(cumulativeRevenueB['date'], cumulativeRevenueB['revenue'], label='B')\n",
    "\n",
    "plt.tick_params(axis='x', which='major', labelsize=14)\n",
    "\n",
    "\n",
    "    \n",
    "plt.title('График кумулятивной выручки по группам')\n",
    "plt.xlabel('Дата')\n",
    "\n",
    "plt.legend()\n",
    "plt.show()"
   ]
  },
  {
   "cell_type": "markdown",
   "metadata": {},
   "source": [
    "За все время теста по выручке лидировала группа В, примерно в середине теста сегмент B значительно вырвался вперед.\n",
    " Последнее может говорить о наличии в этой группе слишком больших заказов-выбросов которые влияют на результат."
   ]
  },
  {
   "cell_type": "markdown",
   "metadata": {},
   "source": [
    "### Построение графика кумулятивного среднего чека по группам."
   ]
  },
  {
   "cell_type": "code",
   "execution_count": 30,
   "metadata": {},
   "outputs": [
    {
     "data": {
      "image/png": "[encoded data removed]",
      "text/plain": [
       "<Figure size 1440x720 with 1 Axes>"
      ]
     },
     "metadata": {
      "needs_background": "light"
     },
     "output_type": "display_data"
    }
   ],
   "source": [
    "plt.figure(figsize=(20, 10))\n",
    "plt.plot(cumulativeRevenueA['date'], cumulativeRevenueA['revenue']/cumulativeRevenueA['orders'], label='A')\n",
    "plt.plot(cumulativeRevenueB['date'], cumulativeRevenueB['revenue']/cumulativeRevenueB['orders'], label='B')\n",
    "plt.legend() \n",
    "plt.show()"
   ]
  },
  {
   "cell_type": "markdown",
   "metadata": {},
   "source": [
    "Здесь результаты похожие группа B также значительно превосходит группу А"
   ]
  },
  {
   "cell_type": "markdown",
   "metadata": {},
   "source": [
    "### Построение графика относительного изменения кумулятивного среднего чека группы B к группе A."
   ]
  },
  {
   "cell_type": "code",
   "execution_count": 31,
   "metadata": {},
   "outputs": [
    {
     "data": {
      "image/png": "[encoded data removed]",
      "text/plain": [
       "<Figure size 1440x720 with 1 Axes>"
      ]
     },
     "metadata": {
      "needs_background": "light"
     },
     "output_type": "display_data"
    }
   ],
   "source": [
    "# собираем данные в одном датафрейме\n",
    "mergedCumulativeRevenue = cumulativeRevenueA.merge(cumulativeRevenueB, left_on='date', right_on='date', how='left', suffixes=['A', 'B'])\n",
    "\n",
    "plt.figure(figsize=(20, 10))\n",
    "\n",
    "# cтроим отношение средних чеков\n",
    "plt.plot(mergedCumulativeRevenue['date'], (mergedCumulativeRevenue['revenueB']/mergedCumulativeRevenue['ordersB'])/(mergedCumulativeRevenue['revenueA']/mergedCumulativeRevenue['ordersA'])-1)\n",
    "\n",
    "# добавляем ось X\n",
    "plt.axhline(y=0, color='black', linestyle='--') \n",
    "plt.show()"
   ]
  },
  {
   "cell_type": "markdown",
   "metadata": {},
   "source": [
    "Значения на графике часто менялись в несколько дат. Видимо именно тогда были совершены аномальные заказы"
   ]
  },
  {
   "cell_type": "markdown",
   "metadata": {},
   "source": [
    "### Построение графика кумулятивного среднего количества заказов на посетителя по группам. "
   ]
  },
  {
   "cell_type": "code",
   "execution_count": 32,
   "metadata": {},
   "outputs": [],
   "source": [
    "# считаем кумулятивную конверсию\n",
    "cumulativeData['conversion'] = cumulativeData['orders']/cumulativeData['visitors']\n",
    "\n",
    "# отделяем данные по группе A\n",
    "cumulativeDataA = cumulativeData[cumulativeData['group']=='A']\n",
    "\n",
    "# отделяем данные по группе B\n",
    "cumulativeDataB = cumulativeData[cumulativeData['group']=='B']"
   ]
  },
  {
   "cell_type": "code",
   "execution_count": 33,
   "metadata": {},
   "outputs": [
    {
     "data": {
      "image/png": "[encoded data removed]",
      "text/plain": [
       "<Figure size 1440x720 with 1 Axes>"
      ]
     },
     "metadata": {
      "needs_background": "light"
     },
     "output_type": "display_data"
    }
   ],
   "source": [
    "plt.figure(figsize=(20, 10))\n",
    "plt.plot(cumulativeDataA['date'], cumulativeDataA['conversion'], label='A')\n",
    "plt.plot(cumulativeDataB['date'], cumulativeDataB['conversion'], label='B')\n",
    "plt.legend()\n",
    "plt.show()"
   ]
  },
  {
   "cell_type": "markdown",
   "metadata": {},
   "source": [
    "Абсолютное значение колебания варьируется в небольшом диапазоне - от 2,9% до 3,7%. В начале конверсия у сегмента В была больше сегмента А, но затем конверсия сегмента В немного выросла, а сегмента А снизилась. К 11 августу конверсия у обоих сегментов зафиксировалась и оставалась примерно на одном уровне до конца месяца. В целом, конверсия у группы В оказалась лучше группы А.\n",
    "\n"
   ]
  },
  {
   "cell_type": "markdown",
   "metadata": {},
   "source": [
    "### Построение графика относительного изменения кумулятивного среднего количества заказов на посетителя группы B к группе A."
   ]
  },
  {
   "cell_type": "code",
   "execution_count": 34,
   "metadata": {},
   "outputs": [
    {
     "data": {
      "image/png": "[encoded data removed]",
      "text/plain": [
       "<Figure size 1440x720 with 1 Axes>"
      ]
     },
     "metadata": {
      "needs_background": "light"
     },
     "output_type": "display_data"
    }
   ],
   "source": [
    "mergedCumulativeConversions = cumulativeDataA[['date','conversion']].merge(cumulativeDataB[['date','conversion']], left_on='date', right_on='date', how='left', suffixes=['A', 'B'])\n",
    "plt.figure(figsize=(20, 10))\n",
    "plt.plot(mergedCumulativeConversions['date'], mergedCumulativeConversions['conversionB']/mergedCumulativeConversions['conversionA']-1, label=\"Относительный прирост конверсии группы B относительно группы A\")\n",
    "plt.legend()\n",
    "plt.show()"
   ]
  },
  {
   "cell_type": "markdown",
   "metadata": {},
   "source": [
    "Поначалу группа B проигрывала по количестку заказов группе А, но 6 августа вырвалась вперед. С 8 августа прирост колебался от 10 до 20%"
   ]
  },
  {
   "cell_type": "markdown",
   "metadata": {},
   "source": [
    "### Построение точечного графика количества заказов по пользователям. "
   ]
  },
  {
   "cell_type": "code",
   "execution_count": 35,
   "metadata": {},
   "outputs": [
    {
     "data": {
      "text/html": [
       "<div>\n",
       "<style scoped>\n",
       "    .dataframe tbody tr th:only-of-type {\n",
       "        vertical-align: middle;\n",
       "    }\n",
       "\n",
       "    .dataframe tbody tr th {\n",
       "        vertical-align: top;\n",
       "    }\n",
       "\n",
       "    .dataframe thead th {\n",
       "        text-align: right;\n",
       "    }\n",
       "</style>\n",
       "<table border=\"1\" class=\"dataframe\">\n",
       "  <thead>\n",
       "    <tr style=\"text-align: right;\">\n",
       "      <th></th>\n",
       "      <th>transactionId</th>\n",
       "      <th>visitorId</th>\n",
       "      <th>date</th>\n",
       "      <th>revenue</th>\n",
       "      <th>group</th>\n",
       "    </tr>\n",
       "  </thead>\n",
       "  <tbody>\n",
       "    <tr>\n",
       "      <th>0</th>\n",
       "      <td>3667963787</td>\n",
       "      <td>3312258926</td>\n",
       "      <td>2019-08-15</td>\n",
       "      <td>1650</td>\n",
       "      <td>B</td>\n",
       "    </tr>\n",
       "    <tr>\n",
       "      <th>1</th>\n",
       "      <td>2804400009</td>\n",
       "      <td>3642806036</td>\n",
       "      <td>2019-08-15</td>\n",
       "      <td>730</td>\n",
       "      <td>B</td>\n",
       "    </tr>\n",
       "    <tr>\n",
       "      <th>2</th>\n",
       "      <td>2961555356</td>\n",
       "      <td>4069496402</td>\n",
       "      <td>2019-08-15</td>\n",
       "      <td>400</td>\n",
       "      <td>A</td>\n",
       "    </tr>\n",
       "    <tr>\n",
       "      <th>3</th>\n",
       "      <td>3797467345</td>\n",
       "      <td>1196621759</td>\n",
       "      <td>2019-08-15</td>\n",
       "      <td>9759</td>\n",
       "      <td>B</td>\n",
       "    </tr>\n",
       "    <tr>\n",
       "      <th>4</th>\n",
       "      <td>2282983706</td>\n",
       "      <td>2322279887</td>\n",
       "      <td>2019-08-15</td>\n",
       "      <td>2308</td>\n",
       "      <td>B</td>\n",
       "    </tr>\n",
       "    <tr>\n",
       "      <th>...</th>\n",
       "      <td>...</td>\n",
       "      <td>...</td>\n",
       "      <td>...</td>\n",
       "      <td>...</td>\n",
       "      <td>...</td>\n",
       "    </tr>\n",
       "    <tr>\n",
       "      <th>1192</th>\n",
       "      <td>2662137336</td>\n",
       "      <td>3733762160</td>\n",
       "      <td>2019-08-14</td>\n",
       "      <td>6490</td>\n",
       "      <td>B</td>\n",
       "    </tr>\n",
       "    <tr>\n",
       "      <th>1193</th>\n",
       "      <td>2203539145</td>\n",
       "      <td>370388673</td>\n",
       "      <td>2019-08-14</td>\n",
       "      <td>3190</td>\n",
       "      <td>A</td>\n",
       "    </tr>\n",
       "    <tr>\n",
       "      <th>1194</th>\n",
       "      <td>1807773912</td>\n",
       "      <td>573423106</td>\n",
       "      <td>2019-08-14</td>\n",
       "      <td>10550</td>\n",
       "      <td>A</td>\n",
       "    </tr>\n",
       "    <tr>\n",
       "      <th>1195</th>\n",
       "      <td>1947021204</td>\n",
       "      <td>1614305549</td>\n",
       "      <td>2019-08-14</td>\n",
       "      <td>100</td>\n",
       "      <td>A</td>\n",
       "    </tr>\n",
       "    <tr>\n",
       "      <th>1196</th>\n",
       "      <td>3936777065</td>\n",
       "      <td>2108080724</td>\n",
       "      <td>2019-08-15</td>\n",
       "      <td>202740</td>\n",
       "      <td>B</td>\n",
       "    </tr>\n",
       "  </tbody>\n",
       "</table>\n",
       "<p>1197 rows × 5 columns</p>\n",
       "</div>"
      ],
      "text/plain": [
       "      transactionId   visitorId       date  revenue group\n",
       "0        3667963787  3312258926 2019-08-15     1650     B\n",
       "1        2804400009  3642806036 2019-08-15      730     B\n",
       "2        2961555356  4069496402 2019-08-15      400     A\n",
       "3        3797467345  1196621759 2019-08-15     9759     B\n",
       "4        2282983706  2322279887 2019-08-15     2308     B\n",
       "...             ...         ...        ...      ...   ...\n",
       "1192     2662137336  3733762160 2019-08-14     6490     B\n",
       "1193     2203539145   370388673 2019-08-14     3190     A\n",
       "1194     1807773912   573423106 2019-08-14    10550     A\n",
       "1195     1947021204  1614305549 2019-08-14      100     A\n",
       "1196     3936777065  2108080724 2019-08-15   202740     B\n",
       "\n",
       "[1197 rows x 5 columns]"
      ]
     },
     "metadata": {},
     "output_type": "display_data"
    }
   ],
   "source": [
    "display(orders)"
   ]
  },
  {
   "cell_type": "code",
   "execution_count": 36,
   "metadata": {},
   "outputs": [
    {
     "data": {
      "text/html": [
       "<div>\n",
       "<style scoped>\n",
       "    .dataframe tbody tr th:only-of-type {\n",
       "        vertical-align: middle;\n",
       "    }\n",
       "\n",
       "    .dataframe tbody tr th {\n",
       "        vertical-align: top;\n",
       "    }\n",
       "\n",
       "    .dataframe thead th {\n",
       "        text-align: right;\n",
       "    }\n",
       "</style>\n",
       "<table border=\"1\" class=\"dataframe\">\n",
       "  <thead>\n",
       "    <tr style=\"text-align: right;\">\n",
       "      <th></th>\n",
       "      <th>date</th>\n",
       "      <th>group</th>\n",
       "      <th>visitors</th>\n",
       "    </tr>\n",
       "  </thead>\n",
       "  <tbody>\n",
       "    <tr>\n",
       "      <th>0</th>\n",
       "      <td>2019-08-01</td>\n",
       "      <td>A</td>\n",
       "      <td>719</td>\n",
       "    </tr>\n",
       "    <tr>\n",
       "      <th>1</th>\n",
       "      <td>2019-08-02</td>\n",
       "      <td>A</td>\n",
       "      <td>619</td>\n",
       "    </tr>\n",
       "    <tr>\n",
       "      <th>2</th>\n",
       "      <td>2019-08-03</td>\n",
       "      <td>A</td>\n",
       "      <td>507</td>\n",
       "    </tr>\n",
       "    <tr>\n",
       "      <th>3</th>\n",
       "      <td>2019-08-04</td>\n",
       "      <td>A</td>\n",
       "      <td>717</td>\n",
       "    </tr>\n",
       "    <tr>\n",
       "      <th>4</th>\n",
       "      <td>2019-08-05</td>\n",
       "      <td>A</td>\n",
       "      <td>756</td>\n",
       "    </tr>\n",
       "    <tr>\n",
       "      <th>...</th>\n",
       "      <td>...</td>\n",
       "      <td>...</td>\n",
       "      <td>...</td>\n",
       "    </tr>\n",
       "    <tr>\n",
       "      <th>57</th>\n",
       "      <td>2019-08-27</td>\n",
       "      <td>B</td>\n",
       "      <td>720</td>\n",
       "    </tr>\n",
       "    <tr>\n",
       "      <th>58</th>\n",
       "      <td>2019-08-28</td>\n",
       "      <td>B</td>\n",
       "      <td>654</td>\n",
       "    </tr>\n",
       "    <tr>\n",
       "      <th>59</th>\n",
       "      <td>2019-08-29</td>\n",
       "      <td>B</td>\n",
       "      <td>531</td>\n",
       "    </tr>\n",
       "    <tr>\n",
       "      <th>60</th>\n",
       "      <td>2019-08-30</td>\n",
       "      <td>B</td>\n",
       "      <td>490</td>\n",
       "    </tr>\n",
       "    <tr>\n",
       "      <th>61</th>\n",
       "      <td>2019-08-31</td>\n",
       "      <td>B</td>\n",
       "      <td>718</td>\n",
       "    </tr>\n",
       "  </tbody>\n",
       "</table>\n",
       "<p>62 rows × 3 columns</p>\n",
       "</div>"
      ],
      "text/plain": [
       "         date group  visitors\n",
       "0  2019-08-01     A       719\n",
       "1  2019-08-02     A       619\n",
       "2  2019-08-03     A       507\n",
       "3  2019-08-04     A       717\n",
       "4  2019-08-05     A       756\n",
       "..        ...   ...       ...\n",
       "57 2019-08-27     B       720\n",
       "58 2019-08-28     B       654\n",
       "59 2019-08-29     B       531\n",
       "60 2019-08-30     B       490\n",
       "61 2019-08-31     B       718\n",
       "\n",
       "[62 rows x 3 columns]"
      ]
     },
     "metadata": {},
     "output_type": "display_data"
    }
   ],
   "source": [
    "display(visitors)"
   ]
  },
  {
   "cell_type": "code",
   "execution_count": 37,
   "metadata": {
    "scrolled": true
   },
   "outputs": [
    {
     "data": {
      "image/png": "[encoded data removed]",
      "text/plain": [
       "<Figure size 1440x720 with 1 Axes>"
      ]
     },
     "metadata": {
      "needs_background": "light"
     },
     "output_type": "display_data"
    }
   ],
   "source": [
    "ordersByUsers = (\n",
    "    orders.groupby('visitorId', as_index=False)\n",
    "    .agg({'transactionId': 'nunique'})\n",
    ")\n",
    "\n",
    "x_values = pd.Series(range(0, len(ordersByUsers)))\n",
    "plt.figure(figsize=(20, 10))\n",
    "plt.scatter(x_values, ordersByUsers['transactionId'])\n",
    "plt.show()\n"
   ]
  },
  {
   "cell_type": "markdown",
   "metadata": {},
   "source": [
    "Пользователей кто сделал больше двух заказов очень мало"
   ]
  },
  {
   "cell_type": "markdown",
   "metadata": {},
   "source": [
    "###  Расчет 95-й и 99-й перцентилей количества заказов на пользователя"
   ]
  },
  {
   "cell_type": "code",
   "execution_count": 38,
   "metadata": {},
   "outputs": [
    {
     "name": "stdout",
     "output_type": "stream",
     "text": [
      "[2. 4.]\n"
     ]
    }
   ],
   "source": [
    "print(np.percentile(ordersByUsers['transactionId'], [95, 99])) "
   ]
  },
  {
   "cell_type": "markdown",
   "metadata": {},
   "source": [
    "Не более 5% пользователей сделали 2 заказа и не более одного процента сделали 4 и более. Есть смысл отсеять тех кто сделал больше 2 заказов"
   ]
  },
  {
   "cell_type": "markdown",
   "metadata": {},
   "source": [
    "### Построение точечного графика стоимостей заказов"
   ]
  },
  {
   "cell_type": "code",
   "execution_count": 39,
   "metadata": {},
   "outputs": [
    {
     "data": {
      "image/png": "[encoded data removed]",
      "text/plain": [
       "<Figure size 1440x720 with 1 Axes>"
      ]
     },
     "metadata": {
      "needs_background": "light"
     },
     "output_type": "display_data"
    }
   ],
   "source": [
    "x_values = pd.Series(range(0, len(orders['revenue'])))\n",
    "plt.figure(figsize=(20, 10))\n",
    "plt.scatter(x_values, orders['revenue'])\n",
    "plt.show()"
   ]
  },
  {
   "cell_type": "markdown",
   "metadata": {},
   "source": [
    "На графике всего 2 аномально больших заказа, все остальные заказы меньше 100000 ед."
   ]
  },
  {
   "cell_type": "markdown",
   "metadata": {},
   "source": [
    "###  Расчет 95-й и 99-й перцентилей стоимости заказов"
   ]
  },
  {
   "cell_type": "code",
   "execution_count": 40,
   "metadata": {},
   "outputs": [
    {
     "name": "stdout",
     "output_type": "stream",
     "text": [
      "[28000.  58233.2]\n"
     ]
    }
   ],
   "source": [
    "print(np.percentile(orders['revenue'], [95, 99])) "
   ]
  },
  {
   "cell_type": "markdown",
   "metadata": {},
   "source": [
    "Не более 5 процентов клиентов сделали заказ на более 28000 и менее 1% заказ больше 58233"
   ]
  },
  {
   "cell_type": "markdown",
   "metadata": {},
   "source": [
    "### Расчет статистической значимости различий в среднем количестве заказов на посетителя между группами по «сырым» данным"
   ]
  },
  {
   "cell_type": "markdown",
   "metadata": {},
   "source": [
    "Нулевая гипотеза: различий в конверсии между группами нет.\n",
    "\n",
    "Альтернативная гипотеза: различия в конверсии между группами есть."
   ]
  },
  {
   "cell_type": "code",
   "execution_count": 41,
   "metadata": {},
   "outputs": [],
   "source": [
    "visitorsADaily = visitors[visitors['group'] == 'A'][['date', 'visitors']]\n",
    "visitorsADaily.columns = ['date', 'visitorsPerDateA']\n",
    "\n",
    "visitorsACummulative = visitorsADaily.apply(\n",
    "    lambda x: visitorsADaily[visitorsADaily['date'] <= x['date']].agg(\n",
    "        {'date': 'max', 'visitorsPerDateA': 'sum'}\n",
    "    ),\n",
    "    axis=1,\n",
    ")\n",
    "visitorsACummulative.columns = ['date', 'visitorsCummulativeA']\n",
    "\n",
    "visitorsBDaily = visitors[visitors['group'] == 'B'][['date', 'visitors']]\n",
    "visitorsBDaily.columns = ['date', 'visitorsPerDateB']\n",
    "\n",
    "visitorsBCummulative = visitorsBDaily.apply(\n",
    "    lambda x: visitorsBDaily[visitorsBDaily['date'] <= x['date']].agg(\n",
    "        {'date': 'max', 'visitorsPerDateB': 'sum'}\n",
    "    ),\n",
    "    axis=1,\n",
    ")\n",
    "visitorsBCummulative.columns = ['date', 'visitorsCummulativeB']\n"
   ]
  },
  {
   "cell_type": "code",
   "execution_count": 42,
   "metadata": {},
   "outputs": [
    {
     "data": {
      "text/html": [
       "<div>\n",
       "<style scoped>\n",
       "    .dataframe tbody tr th:only-of-type {\n",
       "        vertical-align: middle;\n",
       "    }\n",
       "\n",
       "    .dataframe tbody tr th {\n",
       "        vertical-align: top;\n",
       "    }\n",
       "\n",
       "    .dataframe thead th {\n",
       "        text-align: right;\n",
       "    }\n",
       "</style>\n",
       "<table border=\"1\" class=\"dataframe\">\n",
       "  <thead>\n",
       "    <tr style=\"text-align: right;\">\n",
       "      <th></th>\n",
       "      <th>transactionId</th>\n",
       "      <th>visitorId</th>\n",
       "      <th>date</th>\n",
       "      <th>revenue</th>\n",
       "      <th>group</th>\n",
       "    </tr>\n",
       "  </thead>\n",
       "  <tbody>\n",
       "    <tr>\n",
       "      <th>0</th>\n",
       "      <td>3667963787</td>\n",
       "      <td>3312258926</td>\n",
       "      <td>2019-08-15</td>\n",
       "      <td>1650</td>\n",
       "      <td>B</td>\n",
       "    </tr>\n",
       "    <tr>\n",
       "      <th>1</th>\n",
       "      <td>2804400009</td>\n",
       "      <td>3642806036</td>\n",
       "      <td>2019-08-15</td>\n",
       "      <td>730</td>\n",
       "      <td>B</td>\n",
       "    </tr>\n",
       "    <tr>\n",
       "      <th>2</th>\n",
       "      <td>2961555356</td>\n",
       "      <td>4069496402</td>\n",
       "      <td>2019-08-15</td>\n",
       "      <td>400</td>\n",
       "      <td>A</td>\n",
       "    </tr>\n",
       "    <tr>\n",
       "      <th>3</th>\n",
       "      <td>3797467345</td>\n",
       "      <td>1196621759</td>\n",
       "      <td>2019-08-15</td>\n",
       "      <td>9759</td>\n",
       "      <td>B</td>\n",
       "    </tr>\n",
       "    <tr>\n",
       "      <th>4</th>\n",
       "      <td>2282983706</td>\n",
       "      <td>2322279887</td>\n",
       "      <td>2019-08-15</td>\n",
       "      <td>2308</td>\n",
       "      <td>B</td>\n",
       "    </tr>\n",
       "    <tr>\n",
       "      <th>...</th>\n",
       "      <td>...</td>\n",
       "      <td>...</td>\n",
       "      <td>...</td>\n",
       "      <td>...</td>\n",
       "      <td>...</td>\n",
       "    </tr>\n",
       "    <tr>\n",
       "      <th>1192</th>\n",
       "      <td>2662137336</td>\n",
       "      <td>3733762160</td>\n",
       "      <td>2019-08-14</td>\n",
       "      <td>6490</td>\n",
       "      <td>B</td>\n",
       "    </tr>\n",
       "    <tr>\n",
       "      <th>1193</th>\n",
       "      <td>2203539145</td>\n",
       "      <td>370388673</td>\n",
       "      <td>2019-08-14</td>\n",
       "      <td>3190</td>\n",
       "      <td>A</td>\n",
       "    </tr>\n",
       "    <tr>\n",
       "      <th>1194</th>\n",
       "      <td>1807773912</td>\n",
       "      <td>573423106</td>\n",
       "      <td>2019-08-14</td>\n",
       "      <td>10550</td>\n",
       "      <td>A</td>\n",
       "    </tr>\n",
       "    <tr>\n",
       "      <th>1195</th>\n",
       "      <td>1947021204</td>\n",
       "      <td>1614305549</td>\n",
       "      <td>2019-08-14</td>\n",
       "      <td>100</td>\n",
       "      <td>A</td>\n",
       "    </tr>\n",
       "    <tr>\n",
       "      <th>1196</th>\n",
       "      <td>3936777065</td>\n",
       "      <td>2108080724</td>\n",
       "      <td>2019-08-15</td>\n",
       "      <td>202740</td>\n",
       "      <td>B</td>\n",
       "    </tr>\n",
       "  </tbody>\n",
       "</table>\n",
       "<p>1197 rows × 5 columns</p>\n",
       "</div>"
      ],
      "text/plain": [
       "      transactionId   visitorId       date  revenue group\n",
       "0        3667963787  3312258926 2019-08-15     1650     B\n",
       "1        2804400009  3642806036 2019-08-15      730     B\n",
       "2        2961555356  4069496402 2019-08-15      400     A\n",
       "3        3797467345  1196621759 2019-08-15     9759     B\n",
       "4        2282983706  2322279887 2019-08-15     2308     B\n",
       "...             ...         ...        ...      ...   ...\n",
       "1192     2662137336  3733762160 2019-08-14     6490     B\n",
       "1193     2203539145   370388673 2019-08-14     3190     A\n",
       "1194     1807773912   573423106 2019-08-14    10550     A\n",
       "1195     1947021204  1614305549 2019-08-14      100     A\n",
       "1196     3936777065  2108080724 2019-08-15   202740     B\n",
       "\n",
       "[1197 rows x 5 columns]"
      ]
     },
     "metadata": {},
     "output_type": "display_data"
    }
   ],
   "source": [
    "display(orders)"
   ]
  },
  {
   "cell_type": "code",
   "execution_count": 43,
   "metadata": {},
   "outputs": [],
   "source": [
    "ordersADaily = (\n",
    "    orders[orders['group'] == 'A'][['date', 'transactionId', 'visitorId', 'revenue']]\n",
    "    .groupby('date', as_index=False)\n",
    "    .agg({'transactionId': pd.Series.nunique, 'revenue': 'sum'})\n",
    ")\n",
    "ordersADaily.columns = ['date', 'ordersPerDateA', 'revenuePerDateA']\n",
    "\n",
    "ordersACummulative = ordersADaily.apply(\n",
    "    lambda x: ordersADaily[ordersADaily['date'] <= x['date']].agg(\n",
    "        {'date': 'max', 'ordersPerDateA': 'sum', 'revenuePerDateA': 'sum'}\n",
    "    ),\n",
    "    axis=1,\n",
    ").sort_values(by=['date'])\n",
    "ordersACummulative.columns = [\n",
    "    'date',\n",
    "    'ordersCummulativeA',\n",
    "    'revenueCummulativeA',\n",
    "]"
   ]
  },
  {
   "cell_type": "code",
   "execution_count": 44,
   "metadata": {},
   "outputs": [],
   "source": [
    "ordersBDaily = (\n",
    "    orders[orders['group'] == 'B'][['date', 'transactionId', 'visitorId', 'revenue']]\n",
    "    .groupby('date', as_index=False)\n",
    "    .agg({'transactionId': pd.Series.nunique, 'revenue': 'sum'})\n",
    ")\n",
    "ordersBDaily.columns = ['date', 'ordersPerDateB', 'revenuePerDateB']\n",
    "\n",
    "ordersBCummulative = ordersBDaily.apply(\n",
    "    lambda x: ordersBDaily[ordersBDaily['date'] <= x['date']].agg(\n",
    "        {'date': 'max', 'ordersPerDateB': 'sum', 'revenuePerDateB': 'sum'}\n",
    "    ),\n",
    "    axis=1,\n",
    ").sort_values(by=['date'])\n",
    "ordersBCummulative.columns = [\n",
    "    'date',\n",
    "    'ordersCummulativeB',\n",
    "    'revenueCummulativeB',\n",
    "]"
   ]
  },
  {
   "cell_type": "code",
   "execution_count": 45,
   "metadata": {},
   "outputs": [],
   "source": [
    "data2 = (\n",
    "    ordersADaily.merge(\n",
    "        ordersBDaily, left_on='date', right_on='date', how='left'\n",
    "    )\n",
    "    .merge(ordersACummulative, left_on='date', right_on='date', how='left')\n",
    "    .merge(ordersBCummulative, left_on='date', right_on='date', how='left')\n",
    "    .merge(visitorsADaily, left_on='date', right_on='date', how='left')\n",
    "    .merge(visitorsBDaily, left_on='date', right_on='date', how='left')\n",
    "    .merge(visitorsACummulative, left_on='date', right_on='date', how='left')\n",
    "    .merge(visitorsBCummulative, left_on='date', right_on='date', how='left'))"
   ]
  },
  {
   "cell_type": "code",
   "execution_count": 46,
   "metadata": {},
   "outputs": [],
   "source": [
    "ordersByUsersA = (\n",
    "    orders[orders['group'] == 'A']\n",
    "    .groupby('visitorId', as_index=False)\n",
    "    .agg({'transactionId': pd.Series.nunique})\n",
    ")\n",
    "\n",
    "ordersByUsersB = (\n",
    "    orders[orders['group'] == 'B']\n",
    "    .groupby('visitorId', as_index=False)\n",
    "    .agg({'transactionId': pd.Series.nunique})\n",
    ")"
   ]
  },
  {
   "cell_type": "code",
   "execution_count": 47,
   "metadata": {},
   "outputs": [
    {
     "data": {
      "text/html": [
       "<div>\n",
       "<style scoped>\n",
       "    .dataframe tbody tr th:only-of-type {\n",
       "        vertical-align: middle;\n",
       "    }\n",
       "\n",
       "    .dataframe tbody tr th {\n",
       "        vertical-align: top;\n",
       "    }\n",
       "\n",
       "    .dataframe thead th {\n",
       "        text-align: right;\n",
       "    }\n",
       "</style>\n",
       "<table border=\"1\" class=\"dataframe\">\n",
       "  <thead>\n",
       "    <tr style=\"text-align: right;\">\n",
       "      <th></th>\n",
       "      <th>visitorId</th>\n",
       "      <th>transactionId</th>\n",
       "    </tr>\n",
       "  </thead>\n",
       "  <tbody>\n",
       "    <tr>\n",
       "      <th>0</th>\n",
       "      <td>8300375</td>\n",
       "      <td>1</td>\n",
       "    </tr>\n",
       "    <tr>\n",
       "      <th>1</th>\n",
       "      <td>11685486</td>\n",
       "      <td>1</td>\n",
       "    </tr>\n",
       "    <tr>\n",
       "      <th>2</th>\n",
       "      <td>54447517</td>\n",
       "      <td>1</td>\n",
       "    </tr>\n",
       "    <tr>\n",
       "      <th>3</th>\n",
       "      <td>66685450</td>\n",
       "      <td>1</td>\n",
       "    </tr>\n",
       "    <tr>\n",
       "      <th>4</th>\n",
       "      <td>78758296</td>\n",
       "      <td>1</td>\n",
       "    </tr>\n",
       "    <tr>\n",
       "      <th>...</th>\n",
       "      <td>...</td>\n",
       "      <td>...</td>\n",
       "    </tr>\n",
       "    <tr>\n",
       "      <th>498</th>\n",
       "      <td>4243832526</td>\n",
       "      <td>1</td>\n",
       "    </tr>\n",
       "    <tr>\n",
       "      <th>499</th>\n",
       "      <td>4256040402</td>\n",
       "      <td>7</td>\n",
       "    </tr>\n",
       "    <tr>\n",
       "      <th>500</th>\n",
       "      <td>4259830713</td>\n",
       "      <td>1</td>\n",
       "    </tr>\n",
       "    <tr>\n",
       "      <th>501</th>\n",
       "      <td>4266935830</td>\n",
       "      <td>1</td>\n",
       "    </tr>\n",
       "    <tr>\n",
       "      <th>502</th>\n",
       "      <td>4278982564</td>\n",
       "      <td>1</td>\n",
       "    </tr>\n",
       "  </tbody>\n",
       "</table>\n",
       "<p>503 rows × 2 columns</p>\n",
       "</div>"
      ],
      "text/plain": [
       "      visitorId  transactionId\n",
       "0       8300375              1\n",
       "1      11685486              1\n",
       "2      54447517              1\n",
       "3      66685450              1\n",
       "4      78758296              1\n",
       "..          ...            ...\n",
       "498  4243832526              1\n",
       "499  4256040402              7\n",
       "500  4259830713              1\n",
       "501  4266935830              1\n",
       "502  4278982564              1\n",
       "\n",
       "[503 rows x 2 columns]"
      ]
     },
     "metadata": {},
     "output_type": "display_data"
    }
   ],
   "source": [
    "display(ordersByUsersA)"
   ]
  },
  {
   "cell_type": "code",
   "execution_count": 48,
   "metadata": {},
   "outputs": [
    {
     "data": {
      "text/html": [
       "<div>\n",
       "<style scoped>\n",
       "    .dataframe tbody tr th:only-of-type {\n",
       "        vertical-align: middle;\n",
       "    }\n",
       "\n",
       "    .dataframe tbody tr th {\n",
       "        vertical-align: top;\n",
       "    }\n",
       "\n",
       "    .dataframe thead th {\n",
       "        text-align: right;\n",
       "    }\n",
       "</style>\n",
       "<table border=\"1\" class=\"dataframe\">\n",
       "  <thead>\n",
       "    <tr style=\"text-align: right;\">\n",
       "      <th></th>\n",
       "      <th>date</th>\n",
       "      <th>ordersPerDateA</th>\n",
       "      <th>revenuePerDateA</th>\n",
       "      <th>ordersPerDateB</th>\n",
       "      <th>revenuePerDateB</th>\n",
       "      <th>ordersCummulativeA</th>\n",
       "      <th>revenueCummulativeA</th>\n",
       "      <th>ordersCummulativeB</th>\n",
       "      <th>revenueCummulativeB</th>\n",
       "      <th>visitorsPerDateA</th>\n",
       "      <th>visitorsPerDateB</th>\n",
       "      <th>visitorsCummulativeA</th>\n",
       "      <th>visitorsCummulativeB</th>\n",
       "    </tr>\n",
       "  </thead>\n",
       "  <tbody>\n",
       "    <tr>\n",
       "      <th>0</th>\n",
       "      <td>2019-08-01</td>\n",
       "      <td>24</td>\n",
       "      <td>148579</td>\n",
       "      <td>21</td>\n",
       "      <td>101217</td>\n",
       "      <td>24</td>\n",
       "      <td>148579</td>\n",
       "      <td>21</td>\n",
       "      <td>101217</td>\n",
       "      <td>719</td>\n",
       "      <td>713</td>\n",
       "      <td>719</td>\n",
       "      <td>713</td>\n",
       "    </tr>\n",
       "    <tr>\n",
       "      <th>1</th>\n",
       "      <td>2019-08-02</td>\n",
       "      <td>20</td>\n",
       "      <td>93822</td>\n",
       "      <td>24</td>\n",
       "      <td>165531</td>\n",
       "      <td>44</td>\n",
       "      <td>242401</td>\n",
       "      <td>45</td>\n",
       "      <td>266748</td>\n",
       "      <td>619</td>\n",
       "      <td>581</td>\n",
       "      <td>1338</td>\n",
       "      <td>1294</td>\n",
       "    </tr>\n",
       "    <tr>\n",
       "      <th>2</th>\n",
       "      <td>2019-08-03</td>\n",
       "      <td>24</td>\n",
       "      <td>112473</td>\n",
       "      <td>16</td>\n",
       "      <td>114248</td>\n",
       "      <td>68</td>\n",
       "      <td>354874</td>\n",
       "      <td>61</td>\n",
       "      <td>380996</td>\n",
       "      <td>507</td>\n",
       "      <td>509</td>\n",
       "      <td>1845</td>\n",
       "      <td>1803</td>\n",
       "    </tr>\n",
       "    <tr>\n",
       "      <th>3</th>\n",
       "      <td>2019-08-04</td>\n",
       "      <td>16</td>\n",
       "      <td>70825</td>\n",
       "      <td>17</td>\n",
       "      <td>108571</td>\n",
       "      <td>84</td>\n",
       "      <td>425699</td>\n",
       "      <td>78</td>\n",
       "      <td>489567</td>\n",
       "      <td>717</td>\n",
       "      <td>770</td>\n",
       "      <td>2562</td>\n",
       "      <td>2573</td>\n",
       "    </tr>\n",
       "    <tr>\n",
       "      <th>4</th>\n",
       "      <td>2019-08-05</td>\n",
       "      <td>25</td>\n",
       "      <td>124218</td>\n",
       "      <td>23</td>\n",
       "      <td>92428</td>\n",
       "      <td>109</td>\n",
       "      <td>549917</td>\n",
       "      <td>101</td>\n",
       "      <td>581995</td>\n",
       "      <td>756</td>\n",
       "      <td>707</td>\n",
       "      <td>3318</td>\n",
       "      <td>3280</td>\n",
       "    </tr>\n",
       "    <tr>\n",
       "      <th>5</th>\n",
       "      <td>2019-08-06</td>\n",
       "      <td>18</td>\n",
       "      <td>48484</td>\n",
       "      <td>28</td>\n",
       "      <td>242342</td>\n",
       "      <td>127</td>\n",
       "      <td>598401</td>\n",
       "      <td>129</td>\n",
       "      <td>824337</td>\n",
       "      <td>667</td>\n",
       "      <td>655</td>\n",
       "      <td>3985</td>\n",
       "      <td>3935</td>\n",
       "    </tr>\n",
       "    <tr>\n",
       "      <th>6</th>\n",
       "      <td>2019-08-07</td>\n",
       "      <td>18</td>\n",
       "      <td>142417</td>\n",
       "      <td>24</td>\n",
       "      <td>225334</td>\n",
       "      <td>145</td>\n",
       "      <td>740818</td>\n",
       "      <td>153</td>\n",
       "      <td>1049671</td>\n",
       "      <td>644</td>\n",
       "      <td>709</td>\n",
       "      <td>4629</td>\n",
       "      <td>4644</td>\n",
       "    </tr>\n",
       "    <tr>\n",
       "      <th>7</th>\n",
       "      <td>2019-08-08</td>\n",
       "      <td>16</td>\n",
       "      <td>96279</td>\n",
       "      <td>27</td>\n",
       "      <td>220918</td>\n",
       "      <td>161</td>\n",
       "      <td>837097</td>\n",
       "      <td>180</td>\n",
       "      <td>1270589</td>\n",
       "      <td>610</td>\n",
       "      <td>654</td>\n",
       "      <td>5239</td>\n",
       "      <td>5298</td>\n",
       "    </tr>\n",
       "    <tr>\n",
       "      <th>8</th>\n",
       "      <td>2019-08-09</td>\n",
       "      <td>16</td>\n",
       "      <td>188506</td>\n",
       "      <td>25</td>\n",
       "      <td>160812</td>\n",
       "      <td>177</td>\n",
       "      <td>1025603</td>\n",
       "      <td>205</td>\n",
       "      <td>1431401</td>\n",
       "      <td>617</td>\n",
       "      <td>610</td>\n",
       "      <td>5856</td>\n",
       "      <td>5908</td>\n",
       "    </tr>\n",
       "    <tr>\n",
       "      <th>9</th>\n",
       "      <td>2019-08-10</td>\n",
       "      <td>16</td>\n",
       "      <td>210495</td>\n",
       "      <td>23</td>\n",
       "      <td>107802</td>\n",
       "      <td>193</td>\n",
       "      <td>1236098</td>\n",
       "      <td>228</td>\n",
       "      <td>1539203</td>\n",
       "      <td>406</td>\n",
       "      <td>369</td>\n",
       "      <td>6262</td>\n",
       "      <td>6277</td>\n",
       "    </tr>\n",
       "    <tr>\n",
       "      <th>10</th>\n",
       "      <td>2019-08-11</td>\n",
       "      <td>13</td>\n",
       "      <td>77585</td>\n",
       "      <td>13</td>\n",
       "      <td>53310</td>\n",
       "      <td>206</td>\n",
       "      <td>1313683</td>\n",
       "      <td>241</td>\n",
       "      <td>1592513</td>\n",
       "      <td>718</td>\n",
       "      <td>721</td>\n",
       "      <td>6980</td>\n",
       "      <td>6998</td>\n",
       "    </tr>\n",
       "    <tr>\n",
       "      <th>11</th>\n",
       "      <td>2019-08-12</td>\n",
       "      <td>24</td>\n",
       "      <td>249190</td>\n",
       "      <td>23</td>\n",
       "      <td>141554</td>\n",
       "      <td>230</td>\n",
       "      <td>1562873</td>\n",
       "      <td>264</td>\n",
       "      <td>1734067</td>\n",
       "      <td>595</td>\n",
       "      <td>543</td>\n",
       "      <td>7575</td>\n",
       "      <td>7541</td>\n",
       "    </tr>\n",
       "    <tr>\n",
       "      <th>12</th>\n",
       "      <td>2019-08-13</td>\n",
       "      <td>14</td>\n",
       "      <td>263638</td>\n",
       "      <td>21</td>\n",
       "      <td>119671</td>\n",
       "      <td>244</td>\n",
       "      <td>1826511</td>\n",
       "      <td>285</td>\n",
       "      <td>1853738</td>\n",
       "      <td>748</td>\n",
       "      <td>769</td>\n",
       "      <td>8323</td>\n",
       "      <td>8310</td>\n",
       "    </tr>\n",
       "    <tr>\n",
       "      <th>13</th>\n",
       "      <td>2019-08-14</td>\n",
       "      <td>24</td>\n",
       "      <td>64341</td>\n",
       "      <td>23</td>\n",
       "      <td>171708</td>\n",
       "      <td>268</td>\n",
       "      <td>1890852</td>\n",
       "      <td>308</td>\n",
       "      <td>2025446</td>\n",
       "      <td>735</td>\n",
       "      <td>746</td>\n",
       "      <td>9058</td>\n",
       "      <td>9056</td>\n",
       "    </tr>\n",
       "    <tr>\n",
       "      <th>14</th>\n",
       "      <td>2019-08-15</td>\n",
       "      <td>15</td>\n",
       "      <td>88205</td>\n",
       "      <td>31</td>\n",
       "      <td>342499</td>\n",
       "      <td>283</td>\n",
       "      <td>1979057</td>\n",
       "      <td>339</td>\n",
       "      <td>2367945</td>\n",
       "      <td>628</td>\n",
       "      <td>544</td>\n",
       "      <td>9686</td>\n",
       "      <td>9600</td>\n",
       "    </tr>\n",
       "    <tr>\n",
       "      <th>15</th>\n",
       "      <td>2019-08-16</td>\n",
       "      <td>18</td>\n",
       "      <td>99851</td>\n",
       "      <td>20</td>\n",
       "      <td>171690</td>\n",
       "      <td>301</td>\n",
       "      <td>2078908</td>\n",
       "      <td>359</td>\n",
       "      <td>2539635</td>\n",
       "      <td>361</td>\n",
       "      <td>413</td>\n",
       "      <td>10047</td>\n",
       "      <td>10013</td>\n",
       "    </tr>\n",
       "    <tr>\n",
       "      <th>16</th>\n",
       "      <td>2019-08-17</td>\n",
       "      <td>10</td>\n",
       "      <td>50861</td>\n",
       "      <td>14</td>\n",
       "      <td>81155</td>\n",
       "      <td>311</td>\n",
       "      <td>2129769</td>\n",
       "      <td>373</td>\n",
       "      <td>2620790</td>\n",
       "      <td>412</td>\n",
       "      <td>421</td>\n",
       "      <td>10459</td>\n",
       "      <td>10434</td>\n",
       "    </tr>\n",
       "    <tr>\n",
       "      <th>17</th>\n",
       "      <td>2019-08-18</td>\n",
       "      <td>17</td>\n",
       "      <td>72398</td>\n",
       "      <td>9</td>\n",
       "      <td>65831</td>\n",
       "      <td>328</td>\n",
       "      <td>2202167</td>\n",
       "      <td>382</td>\n",
       "      <td>2686621</td>\n",
       "      <td>668</td>\n",
       "      <td>737</td>\n",
       "      <td>11127</td>\n",
       "      <td>11171</td>\n",
       "    </tr>\n",
       "    <tr>\n",
       "      <th>18</th>\n",
       "      <td>2019-08-19</td>\n",
       "      <td>22</td>\n",
       "      <td>189743</td>\n",
       "      <td>21</td>\n",
       "      <td>1429920</td>\n",
       "      <td>350</td>\n",
       "      <td>2391910</td>\n",
       "      <td>403</td>\n",
       "      <td>4116541</td>\n",
       "      <td>502</td>\n",
       "      <td>487</td>\n",
       "      <td>11629</td>\n",
       "      <td>11658</td>\n",
       "    </tr>\n",
       "    <tr>\n",
       "      <th>19</th>\n",
       "      <td>2019-08-20</td>\n",
       "      <td>12</td>\n",
       "      <td>77619</td>\n",
       "      <td>20</td>\n",
       "      <td>147274</td>\n",
       "      <td>362</td>\n",
       "      <td>2469529</td>\n",
       "      <td>423</td>\n",
       "      <td>4263815</td>\n",
       "      <td>575</td>\n",
       "      <td>560</td>\n",
       "      <td>12204</td>\n",
       "      <td>12218</td>\n",
       "    </tr>\n",
       "    <tr>\n",
       "      <th>20</th>\n",
       "      <td>2019-08-21</td>\n",
       "      <td>23</td>\n",
       "      <td>174309</td>\n",
       "      <td>14</td>\n",
       "      <td>163077</td>\n",
       "      <td>385</td>\n",
       "      <td>2643838</td>\n",
       "      <td>437</td>\n",
       "      <td>4426892</td>\n",
       "      <td>646</td>\n",
       "      <td>656</td>\n",
       "      <td>12850</td>\n",
       "      <td>12874</td>\n",
       "    </tr>\n",
       "    <tr>\n",
       "      <th>21</th>\n",
       "      <td>2019-08-22</td>\n",
       "      <td>16</td>\n",
       "      <td>112741</td>\n",
       "      <td>25</td>\n",
       "      <td>162355</td>\n",
       "      <td>401</td>\n",
       "      <td>2756579</td>\n",
       "      <td>462</td>\n",
       "      <td>4589247</td>\n",
       "      <td>609</td>\n",
       "      <td>650</td>\n",
       "      <td>13459</td>\n",
       "      <td>13524</td>\n",
       "    </tr>\n",
       "    <tr>\n",
       "      <th>22</th>\n",
       "      <td>2019-08-23</td>\n",
       "      <td>25</td>\n",
       "      <td>117788</td>\n",
       "      <td>15</td>\n",
       "      <td>113969</td>\n",
       "      <td>426</td>\n",
       "      <td>2874367</td>\n",
       "      <td>477</td>\n",
       "      <td>4703216</td>\n",
       "      <td>468</td>\n",
       "      <td>546</td>\n",
       "      <td>13927</td>\n",
       "      <td>14070</td>\n",
       "    </tr>\n",
       "    <tr>\n",
       "      <th>23</th>\n",
       "      <td>2019-08-24</td>\n",
       "      <td>15</td>\n",
       "      <td>127703</td>\n",
       "      <td>16</td>\n",
       "      <td>95506</td>\n",
       "      <td>441</td>\n",
       "      <td>3002070</td>\n",
       "      <td>493</td>\n",
       "      <td>4798722</td>\n",
       "      <td>395</td>\n",
       "      <td>378</td>\n",
       "      <td>14322</td>\n",
       "      <td>14448</td>\n",
       "    </tr>\n",
       "    <tr>\n",
       "      <th>24</th>\n",
       "      <td>2019-08-25</td>\n",
       "      <td>10</td>\n",
       "      <td>68634</td>\n",
       "      <td>14</td>\n",
       "      <td>102862</td>\n",
       "      <td>451</td>\n",
       "      <td>3070704</td>\n",
       "      <td>507</td>\n",
       "      <td>4901584</td>\n",
       "      <td>621</td>\n",
       "      <td>679</td>\n",
       "      <td>14943</td>\n",
       "      <td>15127</td>\n",
       "    </tr>\n",
       "    <tr>\n",
       "      <th>25</th>\n",
       "      <td>2019-08-26</td>\n",
       "      <td>16</td>\n",
       "      <td>157214</td>\n",
       "      <td>25</td>\n",
       "      <td>182999</td>\n",
       "      <td>467</td>\n",
       "      <td>3227918</td>\n",
       "      <td>532</td>\n",
       "      <td>5084583</td>\n",
       "      <td>722</td>\n",
       "      <td>676</td>\n",
       "      <td>15665</td>\n",
       "      <td>15803</td>\n",
       "    </tr>\n",
       "    <tr>\n",
       "      <th>26</th>\n",
       "      <td>2019-08-27</td>\n",
       "      <td>28</td>\n",
       "      <td>286780</td>\n",
       "      <td>16</td>\n",
       "      <td>147677</td>\n",
       "      <td>495</td>\n",
       "      <td>3514698</td>\n",
       "      <td>548</td>\n",
       "      <td>5232260</td>\n",
       "      <td>711</td>\n",
       "      <td>720</td>\n",
       "      <td>16376</td>\n",
       "      <td>16523</td>\n",
       "    </tr>\n",
       "    <tr>\n",
       "      <th>27</th>\n",
       "      <td>2019-08-28</td>\n",
       "      <td>17</td>\n",
       "      <td>101122</td>\n",
       "      <td>28</td>\n",
       "      <td>96008</td>\n",
       "      <td>512</td>\n",
       "      <td>3615820</td>\n",
       "      <td>576</td>\n",
       "      <td>5328268</td>\n",
       "      <td>594</td>\n",
       "      <td>654</td>\n",
       "      <td>16970</td>\n",
       "      <td>17177</td>\n",
       "    </tr>\n",
       "    <tr>\n",
       "      <th>28</th>\n",
       "      <td>2019-08-29</td>\n",
       "      <td>22</td>\n",
       "      <td>320690</td>\n",
       "      <td>20</td>\n",
       "      <td>231130</td>\n",
       "      <td>534</td>\n",
       "      <td>3936510</td>\n",
       "      <td>596</td>\n",
       "      <td>5559398</td>\n",
       "      <td>577</td>\n",
       "      <td>531</td>\n",
       "      <td>17547</td>\n",
       "      <td>17708</td>\n",
       "    </tr>\n",
       "    <tr>\n",
       "      <th>29</th>\n",
       "      <td>2019-08-30</td>\n",
       "      <td>11</td>\n",
       "      <td>86460</td>\n",
       "      <td>24</td>\n",
       "      <td>215233</td>\n",
       "      <td>545</td>\n",
       "      <td>4022970</td>\n",
       "      <td>620</td>\n",
       "      <td>5774631</td>\n",
       "      <td>490</td>\n",
       "      <td>490</td>\n",
       "      <td>18037</td>\n",
       "      <td>18198</td>\n",
       "    </tr>\n",
       "    <tr>\n",
       "      <th>30</th>\n",
       "      <td>2019-08-31</td>\n",
       "      <td>12</td>\n",
       "      <td>61833</td>\n",
       "      <td>20</td>\n",
       "      <td>133129</td>\n",
       "      <td>557</td>\n",
       "      <td>4084803</td>\n",
       "      <td>640</td>\n",
       "      <td>5907760</td>\n",
       "      <td>699</td>\n",
       "      <td>718</td>\n",
       "      <td>18736</td>\n",
       "      <td>18916</td>\n",
       "    </tr>\n",
       "  </tbody>\n",
       "</table>\n",
       "</div>"
      ],
      "text/plain": [
       "         date  ordersPerDateA  revenuePerDateA  ordersPerDateB  \\\n",
       "0  2019-08-01              24           148579              21   \n",
       "1  2019-08-02              20            93822              24   \n",
       "2  2019-08-03              24           112473              16   \n",
       "3  2019-08-04              16            70825              17   \n",
       "4  2019-08-05              25           124218              23   \n",
       "5  2019-08-06              18            48484              28   \n",
       "6  2019-08-07              18           142417              24   \n",
       "7  2019-08-08              16            96279              27   \n",
       "8  2019-08-09              16           188506              25   \n",
       "9  2019-08-10              16           210495              23   \n",
       "10 2019-08-11              13            77585              13   \n",
       "11 2019-08-12              24           249190              23   \n",
       "12 2019-08-13              14           263638              21   \n",
       "13 2019-08-14              24            64341              23   \n",
       "14 2019-08-15              15            88205              31   \n",
       "15 2019-08-16              18            99851              20   \n",
       "16 2019-08-17              10            50861              14   \n",
       "17 2019-08-18              17            72398               9   \n",
       "18 2019-08-19              22           189743              21   \n",
       "19 2019-08-20              12            77619              20   \n",
       "20 2019-08-21              23           174309              14   \n",
       "21 2019-08-22              16           112741              25   \n",
       "22 2019-08-23              25           117788              15   \n",
       "23 2019-08-24              15           127703              16   \n",
       "24 2019-08-25              10            68634              14   \n",
       "25 2019-08-26              16           157214              25   \n",
       "26 2019-08-27              28           286780              16   \n",
       "27 2019-08-28              17           101122              28   \n",
       "28 2019-08-29              22           320690              20   \n",
       "29 2019-08-30              11            86460              24   \n",
       "30 2019-08-31              12            61833              20   \n",
       "\n",
       "    revenuePerDateB  ordersCummulativeA  revenueCummulativeA  \\\n",
       "0            101217                  24               148579   \n",
       "1            165531                  44               242401   \n",
       "2            114248                  68               354874   \n",
       "3            108571                  84               425699   \n",
       "4             92428                 109               549917   \n",
       "5            242342                 127               598401   \n",
       "6            225334                 145               740818   \n",
       "7            220918                 161               837097   \n",
       "8            160812                 177              1025603   \n",
       "9            107802                 193              1236098   \n",
       "10            53310                 206              1313683   \n",
       "11           141554                 230              1562873   \n",
       "12           119671                 244              1826511   \n",
       "13           171708                 268              1890852   \n",
       "14           342499                 283              1979057   \n",
       "15           171690                 301              2078908   \n",
       "16            81155                 311              2129769   \n",
       "17            65831                 328              2202167   \n",
       "18          1429920                 350              2391910   \n",
       "19           147274                 362              2469529   \n",
       "20           163077                 385              2643838   \n",
       "21           162355                 401              2756579   \n",
       "22           113969                 426              2874367   \n",
       "23            95506                 441              3002070   \n",
       "24           102862                 451              3070704   \n",
       "25           182999                 467              3227918   \n",
       "26           147677                 495              3514698   \n",
       "27            96008                 512              3615820   \n",
       "28           231130                 534              3936510   \n",
       "29           215233                 545              4022970   \n",
       "30           133129                 557              4084803   \n",
       "\n",
       "    ordersCummulativeB  revenueCummulativeB  visitorsPerDateA  \\\n",
       "0                   21               101217               719   \n",
       "1                   45               266748               619   \n",
       "2                   61               380996               507   \n",
       "3                   78               489567               717   \n",
       "4                  101               581995               756   \n",
       "5                  129               824337               667   \n",
       "6                  153              1049671               644   \n",
       "7                  180              1270589               610   \n",
       "8                  205              1431401               617   \n",
       "9                  228              1539203               406   \n",
       "10                 241              1592513               718   \n",
       "11                 264              1734067               595   \n",
       "12                 285              1853738               748   \n",
       "13                 308              2025446               735   \n",
       "14                 339              2367945               628   \n",
       "15                 359              2539635               361   \n",
       "16                 373              2620790               412   \n",
       "17                 382              2686621               668   \n",
       "18                 403              4116541               502   \n",
       "19                 423              4263815               575   \n",
       "20                 437              4426892               646   \n",
       "21                 462              4589247               609   \n",
       "22                 477              4703216               468   \n",
       "23                 493              4798722               395   \n",
       "24                 507              4901584               621   \n",
       "25                 532              5084583               722   \n",
       "26                 548              5232260               711   \n",
       "27                 576              5328268               594   \n",
       "28                 596              5559398               577   \n",
       "29                 620              5774631               490   \n",
       "30                 640              5907760               699   \n",
       "\n",
       "    visitorsPerDateB  visitorsCummulativeA  visitorsCummulativeB  \n",
       "0                713                   719                   713  \n",
       "1                581                  1338                  1294  \n",
       "2                509                  1845                  1803  \n",
       "3                770                  2562                  2573  \n",
       "4                707                  3318                  3280  \n",
       "5                655                  3985                  3935  \n",
       "6                709                  4629                  4644  \n",
       "7                654                  5239                  5298  \n",
       "8                610                  5856                  5908  \n",
       "9                369                  6262                  6277  \n",
       "10               721                  6980                  6998  \n",
       "11               543                  7575                  7541  \n",
       "12               769                  8323                  8310  \n",
       "13               746                  9058                  9056  \n",
       "14               544                  9686                  9600  \n",
       "15               413                 10047                 10013  \n",
       "16               421                 10459                 10434  \n",
       "17               737                 11127                 11171  \n",
       "18               487                 11629                 11658  \n",
       "19               560                 12204                 12218  \n",
       "20               656                 12850                 12874  \n",
       "21               650                 13459                 13524  \n",
       "22               546                 13927                 14070  \n",
       "23               378                 14322                 14448  \n",
       "24               679                 14943                 15127  \n",
       "25               676                 15665                 15803  \n",
       "26               720                 16376                 16523  \n",
       "27               654                 16970                 17177  \n",
       "28               531                 17547                 17708  \n",
       "29               490                 18037                 18198  \n",
       "30               718                 18736                 18916  "
      ]
     },
     "metadata": {},
     "output_type": "display_data"
    }
   ],
   "source": [
    "display(data2)"
   ]
  },
  {
   "cell_type": "code",
   "execution_count": 49,
   "metadata": {},
   "outputs": [],
   "source": [
    "sampleA = pd.concat([ordersByUsersA['transactionId'],pd.Series(0, index=np.arange(data2['visitorsPerDateA'].sum() - len(ordersByUsersA['transactionId'])), name='orders')],axis=0)\n",
    "\n",
    "sampleB = pd.concat([ordersByUsersB['transactionId'],pd.Series(0, index=np.arange(data2['visitorsPerDateB'].sum() - len(ordersByUsersB['transactionId'])), name='orders')],axis=0)"
   ]
  },
  {
   "cell_type": "code",
   "execution_count": 50,
   "metadata": {},
   "outputs": [
    {
     "name": "stdout",
     "output_type": "stream",
     "text": [
      "0.01679\n",
      "0.138\n"
     ]
    }
   ],
   "source": [
    "print(\"{0:.5f}\".format(stats.mannwhitneyu(sampleA, sampleB)[1]))\n",
    "\n",
    "print(\"{0:.3f}\".format(sampleB.mean() / sampleA.mean() - 1))"
   ]
  },
  {
   "cell_type": "markdown",
   "metadata": {},
   "source": [
    "Первое число — p-value = 0.01679 меньше 0.05. Значит, нулевую гипотезу о том, что статистически значимых различий в конверсии между группами нет, отвергаем. Относительный прирост конверсии группы В к конверсии группы А равен 13,8%."
   ]
  },
  {
   "cell_type": "markdown",
   "metadata": {},
   "source": [
    "### Расчет статистической значимости различий в среднем чеке заказа между группами по «сырым» данным."
   ]
  },
  {
   "cell_type": "markdown",
   "metadata": {},
   "source": [
    "Нулевая гипотеза: различий в среднем чеке между группами нет.\n",
    "\n",
    "Альтернативная гипотеза: различия в среднем чеке между группами есть."
   ]
  },
  {
   "cell_type": "code",
   "execution_count": 51,
   "metadata": {},
   "outputs": [
    {
     "name": "stdout",
     "output_type": "stream",
     "text": [
      "0.729\n",
      "0.259\n"
     ]
    }
   ],
   "source": [
    "print('{0:.3f}'.format(stats.mannwhitneyu(orders[orders['group']=='A']['revenue'], orders[orders['group']=='B']['revenue'])[1]))\n",
    "print('{0:.3f}'.format(orders[orders['group']=='B']['revenue'].mean()/orders[orders['group']=='A']['revenue'].mean()-1)) "
   ]
  },
  {
   "cell_type": "markdown",
   "metadata": {},
   "source": [
    "P-value гораздо больше 0,05 - статистически значимых отличий в среднем чеке между группами нет. Относительное различие среднего чека между сегментами - 25,9%."
   ]
  },
  {
   "cell_type": "markdown",
   "metadata": {},
   "source": [
    "### Расчет статистической значимости различий в среднем количестве заказов на посетителя между группами по «очищенным» данным."
   ]
  },
  {
   "cell_type": "markdown",
   "metadata": {},
   "source": [
    "Нулевая гипотеза: различий в конверсии между группами нет.\n",
    "\n",
    "Альтернативная гипотеза: различия в конверсии между группами есть."
   ]
  },
  {
   "cell_type": "code",
   "execution_count": 52,
   "metadata": {},
   "outputs": [
    {
     "name": "stdout",
     "output_type": "stream",
     "text": [
      "1099    148427295\n",
      "18      199603092\n",
      "928     204675465\n",
      "23      237748145\n",
      "37      249864742\n",
      "Name: visitorId, dtype: int64\n"
     ]
    }
   ],
   "source": [
    "usersWithManyOrders = pd.concat(\n",
    "    [\n",
    "        ordersByUsersA[ordersByUsersA['transactionId'] > 2]['visitorId'],\n",
    "        ordersByUsersB[ordersByUsersB['transactionId'] > 2]['visitorId'],\n",
    "    ],\n",
    "    axis=0,\n",
    ")\n",
    "usersWithExpensiveOrders = orders[orders['revenue'] > 30000]['visitorId']\n",
    "abnormalUsers = (\n",
    "    pd.concat([usersWithManyOrders, usersWithExpensiveOrders], axis=0)\n",
    "    .drop_duplicates()\n",
    "    .sort_values()\n",
    ")\n",
    "print(abnormalUsers.head(5))"
   ]
  },
  {
   "cell_type": "code",
   "execution_count": 53,
   "metadata": {},
   "outputs": [],
   "source": [
    "sampleAFiltered = pd.concat(\n",
    "    [\n",
    "        ordersByUsersA[\n",
    "            np.logical_not(ordersByUsersA['visitorId'].isin(abnormalUsers))\n",
    "        ]['transactionId'],\n",
    "        pd.Series(\n",
    "            0,\n",
    "            index=np.arange(\n",
    "                data2['visitorsPerDateA'].sum() - len(ordersByUsersA['transactionId'])\n",
    "            ),\n",
    "            name='transactionId',\n",
    "        ),\n",
    "    ],\n",
    "    axis=0,\n",
    ")"
   ]
  },
  {
   "cell_type": "code",
   "execution_count": 54,
   "metadata": {},
   "outputs": [],
   "source": [
    "sampleBFiltered = pd.concat(\n",
    "    [\n",
    "        ordersByUsersB[\n",
    "            np.logical_not(ordersByUsersB['visitorId'].isin(abnormalUsers))\n",
    "        ]['transactionId'],\n",
    "        pd.Series(\n",
    "            0,\n",
    "            index=np.arange(\n",
    "                data2['visitorsPerDateB'].sum() - len(ordersByUsersB['transactionId'])\n",
    "            ),\n",
    "            name='transactionId',\n",
    "        ),\n",
    "    ],\n",
    "    axis=0,)"
   ]
  },
  {
   "cell_type": "code",
   "execution_count": 55,
   "metadata": {},
   "outputs": [
    {
     "name": "stdout",
     "output_type": "stream",
     "text": [
      "0.01334\n",
      "0.172\n"
     ]
    }
   ],
   "source": [
    "print('{0:.5f}'.format(stats.mannwhitneyu(sampleAFiltered, sampleBFiltered)[1]))\n",
    "print('{0:.3f}'.format(sampleBFiltered.mean()/sampleAFiltered.mean()-1)) "
   ]
  },
  {
   "cell_type": "markdown",
   "metadata": {},
   "source": [
    "Нулевая гипотеза отвергается, сегмент B оказался лучше сегмента А на 17%"
   ]
  },
  {
   "cell_type": "markdown",
   "metadata": {},
   "source": [
    "### Расчет статистической значимости различий в среднем чеке заказа между группами по «очищенным» данным. "
   ]
  },
  {
   "cell_type": "markdown",
   "metadata": {},
   "source": [
    "Нулевая гипотеза: различий в среднем чеке между группами нет.\n",
    "\n",
    "Альтернативная гипотеза: различия в среднем чеке между группами есть."
   ]
  },
  {
   "cell_type": "code",
   "execution_count": 56,
   "metadata": {},
   "outputs": [
    {
     "name": "stdout",
     "output_type": "stream",
     "text": [
      "0.720\n",
      "-0.023\n"
     ]
    }
   ],
   "source": [
    "print(\n",
    "    '{0:.3f}'.format(\n",
    "        stats.mannwhitneyu(\n",
    "            orders[\n",
    "                np.logical_and(\n",
    "                    orders['group'] == 'A',\n",
    "                    np.logical_not(orders['visitorId'].isin(abnormalUsers)),\n",
    "                )\n",
    "            ]['revenue'],\n",
    "            orders[\n",
    "                np.logical_and(\n",
    "                    orders['group'] == 'B',\n",
    "                    np.logical_not(orders['visitorId'].isin(abnormalUsers)),\n",
    "                )\n",
    "            ]['revenue'],\n",
    "        )[1]\n",
    "    )\n",
    ")\n",
    "\n",
    "print(\n",
    "    \"{0:.3f}\".format(\n",
    "        orders[\n",
    "            np.logical_and(\n",
    "                orders['group'] == 'B',\n",
    "                np.logical_not(orders['visitorId'].isin(abnormalUsers)),\n",
    "            )\n",
    "        ]['revenue'].mean()\n",
    "        / orders[\n",
    "            np.logical_and(\n",
    "                orders['group'] == 'A',\n",
    "                np.logical_not(orders['visitorId'].isin(abnormalUsers)),\n",
    "            )\n",
    "        ]['revenue'].mean()\n",
    "        - 1\n",
    "    )\n",
    ") "
   ]
  },
  {
   "cell_type": "markdown",
   "metadata": {},
   "source": [
    "Значение p значительно не изменилось, нулевая гипотеза не отвергается. После удаления выбросов разница в чеках по группа всего 2 %. Причем сегмент А стал превосходить сегмент B"
   ]
  },
  {
   "cell_type": "markdown",
   "metadata": {},
   "source": [
    "## Вывод"
   ]
  },
  {
   "cell_type": "markdown",
   "metadata": {},
   "source": [
    "График различия конверсии между группами сообщает, что результаты группы B лучше группы A: зафиксировались около среднего значения.\n",
    "\n",
    "График различия среднего чека сильно колеблется, что свидетельствует о наличии аномалиий.\n",
    "\n",
    "По итогам теста выявлено статистически значимое различие по конверсии между группами как по «сырым», так и по данным после фильтрации аномалий, а вот статистически значимых различий по среднему чеку не были зафиксированы в обоих случаях.\n",
    "\n",
    "Исходя из обнаруженных фактов, тест следует остановить и зафиксировать победу группы В, результаты по конверсии которой оказались лучше группы А на 13,8% и 17,3% до и после \"очистки\" данных соответственно."
   ]
  }
 ],
 "metadata": {
  "ExecuteTimeLog": [
   {
    "duration": 398,
    "start_time": "2023-01-05T10:48:23.215Z"
   },
   {
    "duration": 61,
    "start_time": "2023-01-05T10:48:55.349Z"
   },
   {
    "duration": 13,
    "start_time": "2023-01-05T10:49:07.629Z"
   },
   {
    "duration": 2,
    "start_time": "2023-01-05T10:54:59.743Z"
   },
   {
    "duration": 7,
    "start_time": "2023-01-05T10:55:10.658Z"
   },
   {
    "duration": 2,
    "start_time": "2023-01-05T10:55:39.660Z"
   },
   {
    "duration": 26,
    "start_time": "2023-01-05T10:55:39.825Z"
   },
   {
    "duration": 7,
    "start_time": "2023-01-05T10:55:40.011Z"
   },
   {
    "duration": 3,
    "start_time": "2023-01-05T10:55:40.193Z"
   },
   {
    "duration": 7,
    "start_time": "2023-01-05T10:55:40.634Z"
   },
   {
    "duration": 3,
    "start_time": "2023-01-05T10:58:12.937Z"
   },
   {
    "duration": 2,
    "start_time": "2023-01-05T10:58:13.536Z"
   },
   {
    "duration": 7,
    "start_time": "2023-01-05T10:58:14.049Z"
   },
   {
    "duration": 3,
    "start_time": "2023-01-05T10:58:18.328Z"
   },
   {
    "duration": 2,
    "start_time": "2023-01-05T10:58:18.769Z"
   },
   {
    "duration": 8,
    "start_time": "2023-01-05T10:58:19.153Z"
   },
   {
    "duration": 344,
    "start_time": "2023-01-05T10:58:46.883Z"
   },
   {
    "duration": 26,
    "start_time": "2023-01-05T10:58:47.298Z"
   },
   {
    "duration": 14,
    "start_time": "2023-01-05T10:58:47.687Z"
   },
   {
    "duration": 3,
    "start_time": "2023-01-05T10:58:48.279Z"
   },
   {
    "duration": 2,
    "start_time": "2023-01-05T10:58:48.751Z"
   },
   {
    "duration": 8,
    "start_time": "2023-01-05T10:58:49.231Z"
   },
   {
    "duration": 2,
    "start_time": "2023-01-05T10:59:03.007Z"
   },
   {
    "duration": 25,
    "start_time": "2023-01-05T10:59:03.350Z"
   },
   {
    "duration": 7,
    "start_time": "2023-01-05T10:59:03.687Z"
   },
   {
    "duration": 2,
    "start_time": "2023-01-05T10:59:04.127Z"
   },
   {
    "duration": 3,
    "start_time": "2023-01-05T10:59:04.518Z"
   },
   {
    "duration": 8,
    "start_time": "2023-01-05T10:59:04.895Z"
   },
   {
    "duration": 72,
    "start_time": "2023-01-05T10:59:05.439Z"
   },
   {
    "duration": 2,
    "start_time": "2023-01-05T10:59:25.534Z"
   },
   {
    "duration": 24,
    "start_time": "2023-01-05T10:59:25.734Z"
   },
   {
    "duration": 7,
    "start_time": "2023-01-05T10:59:25.919Z"
   },
   {
    "duration": 3,
    "start_time": "2023-01-05T10:59:26.110Z"
   },
   {
    "duration": 7,
    "start_time": "2023-01-05T10:59:26.303Z"
   },
   {
    "duration": 5,
    "start_time": "2023-01-05T11:00:03.102Z"
   },
   {
    "duration": 8,
    "start_time": "2023-01-05T11:00:29.022Z"
   },
   {
    "duration": 8,
    "start_time": "2023-01-05T11:00:48.253Z"
   },
   {
    "duration": 4,
    "start_time": "2023-01-05T11:01:57.829Z"
   },
   {
    "duration": 7,
    "start_time": "2023-01-05T11:01:58.696Z"
   },
   {
    "duration": 141,
    "start_time": "2023-01-05T11:07:02.012Z"
   },
   {
    "duration": 12,
    "start_time": "2023-01-05T11:08:15.706Z"
   },
   {
    "duration": 10,
    "start_time": "2023-01-05T11:08:29.299Z"
   },
   {
    "duration": 224,
    "start_time": "2023-01-05T11:12:39.920Z"
   },
   {
    "duration": 347,
    "start_time": "2023-01-05T11:12:53.264Z"
   },
   {
    "duration": 26,
    "start_time": "2023-01-05T11:12:53.613Z"
   },
   {
    "duration": 7,
    "start_time": "2023-01-05T11:12:53.682Z"
   },
   {
    "duration": 3,
    "start_time": "2023-01-05T11:12:53.849Z"
   },
   {
    "duration": 7,
    "start_time": "2023-01-05T11:12:54.049Z"
   },
   {
    "duration": 4,
    "start_time": "2023-01-05T11:12:54.232Z"
   },
   {
    "duration": 9,
    "start_time": "2023-01-05T11:12:54.408Z"
   },
   {
    "duration": 6,
    "start_time": "2023-01-05T11:12:54.608Z"
   },
   {
    "duration": 4,
    "start_time": "2023-01-05T11:12:54.808Z"
   },
   {
    "duration": 7,
    "start_time": "2023-01-05T11:12:55.000Z"
   },
   {
    "duration": 58,
    "start_time": "2023-01-05T11:12:55.392Z"
   },
   {
    "duration": 10,
    "start_time": "2023-01-05T11:12:55.712Z"
   },
   {
    "duration": 201,
    "start_time": "2023-01-05T11:12:56.248Z"
   },
   {
    "duration": 10,
    "start_time": "2023-01-05T11:14:16.056Z"
   },
   {
    "duration": 8,
    "start_time": "2023-01-05T11:14:43.031Z"
   },
   {
    "duration": 7,
    "start_time": "2023-01-05T11:14:57.750Z"
   },
   {
    "duration": 5,
    "start_time": "2023-01-05T11:15:07.184Z"
   },
   {
    "duration": 5,
    "start_time": "2023-01-05T11:16:13.886Z"
   },
   {
    "duration": 23,
    "start_time": "2023-01-05T11:16:14.342Z"
   },
   {
    "duration": 146,
    "start_time": "2023-01-05T11:17:10.958Z"
   },
   {
    "duration": 108,
    "start_time": "2023-01-05T11:19:04.598Z"
   },
   {
    "duration": 270,
    "start_time": "2023-01-05T11:19:31.013Z"
   },
   {
    "duration": 241,
    "start_time": "2023-01-05T11:20:27.220Z"
   },
   {
    "duration": 337,
    "start_time": "2023-01-05T11:23:29.867Z"
   },
   {
    "duration": 6,
    "start_time": "2023-01-05T11:25:08.906Z"
   },
   {
    "duration": 300,
    "start_time": "2023-01-05T11:25:52.593Z"
   },
   {
    "duration": 804,
    "start_time": "2023-01-06T10:23:04.807Z"
   },
   {
    "duration": 62,
    "start_time": "2023-01-06T10:23:05.614Z"
   },
   {
    "duration": 13,
    "start_time": "2023-01-06T10:23:05.677Z"
   },
   {
    "duration": 8,
    "start_time": "2023-01-06T10:23:05.692Z"
   },
   {
    "duration": 22,
    "start_time": "2023-01-06T10:23:05.701Z"
   },
   {
    "duration": 14,
    "start_time": "2023-01-06T10:23:05.725Z"
   },
   {
    "duration": 9,
    "start_time": "2023-01-06T10:23:05.855Z"
   },
   {
    "duration": 7,
    "start_time": "2023-01-06T10:23:06.031Z"
   },
   {
    "duration": 4,
    "start_time": "2023-01-06T10:23:06.183Z"
   },
   {
    "duration": 8,
    "start_time": "2023-01-06T10:23:06.375Z"
   },
   {
    "duration": 141,
    "start_time": "2023-01-06T10:23:06.726Z"
   },
   {
    "duration": 13,
    "start_time": "2023-01-06T10:23:06.918Z"
   },
   {
    "duration": 7,
    "start_time": "2023-01-06T10:23:07.103Z"
   },
   {
    "duration": 6,
    "start_time": "2023-01-06T10:23:07.351Z"
   },
   {
    "duration": 172,
    "start_time": "2023-01-06T10:23:07.551Z"
   },
   {
    "duration": 10,
    "start_time": "2023-01-06T10:23:07.743Z"
   },
   {
    "duration": 131,
    "start_time": "2023-01-06T10:23:07.926Z"
   },
   {
    "duration": 280,
    "start_time": "2023-01-06T10:23:08.135Z"
   },
   {
    "duration": 281,
    "start_time": "2023-01-06T10:23:08.417Z"
   },
   {
    "duration": 446,
    "start_time": "2023-01-06T10:23:08.700Z"
   },
   {
    "duration": 7,
    "start_time": "2023-01-06T10:23:09.334Z"
   },
   {
    "duration": 292,
    "start_time": "2023-01-06T10:23:09.535Z"
   },
   {
    "duration": 313,
    "start_time": "2023-01-06T10:23:10.263Z"
   },
   {
    "duration": 73,
    "start_time": "2023-01-06T10:25:05.854Z"
   },
   {
    "duration": 13,
    "start_time": "2023-01-06T10:26:31.205Z"
   },
   {
    "duration": 11,
    "start_time": "2023-01-06T10:26:50.470Z"
   },
   {
    "duration": 10,
    "start_time": "2023-01-06T10:31:12.673Z"
   },
   {
    "duration": 7,
    "start_time": "2023-01-06T10:33:17.928Z"
   },
   {
    "duration": 7,
    "start_time": "2023-01-06T10:33:28.346Z"
   },
   {
    "duration": 10,
    "start_time": "2023-01-06T10:33:43.992Z"
   },
   {
    "duration": 12,
    "start_time": "2023-01-06T10:34:41.858Z"
   },
   {
    "duration": 10,
    "start_time": "2023-01-06T10:35:04.864Z"
   },
   {
    "duration": 15,
    "start_time": "2023-01-06T10:37:43.495Z"
   },
   {
    "duration": 11,
    "start_time": "2023-01-06T10:38:04.382Z"
   },
   {
    "duration": 8,
    "start_time": "2023-01-06T10:38:33.966Z"
   },
   {
    "duration": 136,
    "start_time": "2023-01-06T10:39:19.957Z"
   },
   {
    "duration": 5,
    "start_time": "2023-01-06T10:41:27.758Z"
   },
   {
    "duration": 10,
    "start_time": "2023-01-06T10:52:31.182Z"
   },
   {
    "duration": 111,
    "start_time": "2023-01-06T10:53:50.071Z"
   },
   {
    "duration": 7,
    "start_time": "2023-01-06T10:54:28.293Z"
   },
   {
    "duration": 54,
    "start_time": "2023-01-06T10:54:51.788Z"
   },
   {
    "duration": 89,
    "start_time": "2023-01-06T10:55:08.489Z"
   },
   {
    "duration": 14,
    "start_time": "2023-01-06T10:56:03.795Z"
   },
   {
    "duration": 14,
    "start_time": "2023-01-06T10:56:38.015Z"
   },
   {
    "duration": 13,
    "start_time": "2023-01-06T10:59:11.291Z"
   },
   {
    "duration": 49,
    "start_time": "2023-01-06T10:59:36.577Z"
   },
   {
    "duration": 19,
    "start_time": "2023-01-06T11:00:51.641Z"
   },
   {
    "duration": 86,
    "start_time": "2023-01-06T11:01:03.362Z"
   },
   {
    "duration": 50,
    "start_time": "2023-01-06T11:01:27.544Z"
   },
   {
    "duration": 46,
    "start_time": "2023-01-06T11:01:34.080Z"
   },
   {
    "duration": 26,
    "start_time": "2023-01-06T11:01:46.649Z"
   },
   {
    "duration": 13,
    "start_time": "2023-01-06T11:03:04.687Z"
   },
   {
    "duration": 132,
    "start_time": "2023-01-06T11:04:29.872Z"
   },
   {
    "duration": 771,
    "start_time": "2023-01-06T11:04:42.175Z"
   },
   {
    "duration": 761,
    "start_time": "2023-01-06T11:05:39.270Z"
   },
   {
    "duration": 688,
    "start_time": "2023-01-06T11:06:06.638Z"
   },
   {
    "duration": 739,
    "start_time": "2023-01-06T11:09:17.797Z"
   },
   {
    "duration": 714,
    "start_time": "2023-01-06T11:11:36.572Z"
   },
   {
    "duration": 154,
    "start_time": "2023-01-06T11:13:39.747Z"
   },
   {
    "duration": 12,
    "start_time": "2023-01-06T11:13:59.266Z"
   },
   {
    "duration": 19,
    "start_time": "2023-01-06T11:14:56.715Z"
   },
   {
    "duration": 7,
    "start_time": "2023-01-06T11:16:44.065Z"
   },
   {
    "duration": 15,
    "start_time": "2023-01-06T11:16:59.438Z"
   },
   {
    "duration": 528,
    "start_time": "2023-01-06T11:17:24.600Z"
   },
   {
    "duration": 29,
    "start_time": "2023-01-06T11:17:25.130Z"
   },
   {
    "duration": 9,
    "start_time": "2023-01-06T11:17:25.170Z"
   },
   {
    "duration": 7,
    "start_time": "2023-01-06T11:17:25.347Z"
   },
   {
    "duration": 12,
    "start_time": "2023-01-06T11:17:25.664Z"
   },
   {
    "duration": 6,
    "start_time": "2023-01-06T11:17:25.856Z"
   },
   {
    "duration": 11,
    "start_time": "2023-01-06T11:17:26.032Z"
   },
   {
    "duration": 9,
    "start_time": "2023-01-06T11:17:26.200Z"
   },
   {
    "duration": 6,
    "start_time": "2023-01-06T11:17:26.376Z"
   },
   {
    "duration": 9,
    "start_time": "2023-01-06T11:17:26.544Z"
   },
   {
    "duration": 74,
    "start_time": "2023-01-06T11:17:26.887Z"
   },
   {
    "duration": 14,
    "start_time": "2023-01-06T11:17:27.060Z"
   },
   {
    "duration": 9,
    "start_time": "2023-01-06T11:17:27.253Z"
   },
   {
    "duration": 6,
    "start_time": "2023-01-06T11:17:27.408Z"
   },
   {
    "duration": 190,
    "start_time": "2023-01-06T11:17:27.575Z"
   },
   {
    "duration": 18,
    "start_time": "2023-01-06T11:17:27.931Z"
   },
   {
    "duration": 146,
    "start_time": "2023-01-06T11:17:28.007Z"
   },
   {
    "duration": 293,
    "start_time": "2023-01-06T11:17:28.498Z"
   },
   {
    "duration": 279,
    "start_time": "2023-01-06T11:17:28.793Z"
   },
   {
    "duration": 456,
    "start_time": "2023-01-06T11:17:29.074Z"
   },
   {
    "duration": 16,
    "start_time": "2023-01-06T11:17:29.531Z"
   },
   {
    "duration": 295,
    "start_time": "2023-01-06T11:17:29.551Z"
   },
   {
    "duration": 312,
    "start_time": "2023-01-06T11:17:29.848Z"
   },
   {
    "duration": 12,
    "start_time": "2023-01-06T11:17:30.162Z"
   },
   {
    "duration": 30,
    "start_time": "2023-01-06T11:17:30.176Z"
   },
   {
    "duration": 176,
    "start_time": "2023-01-06T11:17:30.207Z"
   },
   {
    "duration": 5,
    "start_time": "2023-01-06T11:17:30.385Z"
   },
   {
    "duration": 97,
    "start_time": "2023-01-06T11:17:30.824Z"
   },
   {
    "duration": 12,
    "start_time": "2023-01-06T11:17:31.052Z"
   },
   {
    "duration": 62,
    "start_time": "2023-01-06T11:17:31.272Z"
   },
   {
    "duration": 63,
    "start_time": "2023-01-06T11:17:31.496Z"
   },
   {
    "duration": 21,
    "start_time": "2023-01-06T11:17:31.687Z"
   },
   {
    "duration": 132,
    "start_time": "2023-01-06T11:17:31.871Z"
   },
   {
    "duration": 9,
    "start_time": "2023-01-06T11:17:32.072Z"
   },
   {
    "duration": 16,
    "start_time": "2023-01-06T11:17:32.249Z"
   },
   {
    "duration": 8,
    "start_time": "2023-01-06T11:17:32.452Z"
   },
   {
    "duration": 32,
    "start_time": "2023-01-06T11:17:32.646Z"
   },
   {
    "duration": 12,
    "start_time": "2023-01-06T11:18:29.231Z"
   },
   {
    "duration": 887,
    "start_time": "2023-01-06T11:24:36.461Z"
   },
   {
    "duration": 9,
    "start_time": "2023-01-06T11:25:05.516Z"
   },
   {
    "duration": 6,
    "start_time": "2023-01-06T11:28:06.115Z"
   },
   {
    "duration": 132,
    "start_time": "2023-01-06T11:31:42.961Z"
   },
   {
    "duration": 5,
    "start_time": "2023-01-06T11:31:43.408Z"
   },
   {
    "duration": 142,
    "start_time": "2023-01-06T11:31:59.649Z"
   },
   {
    "duration": 769,
    "start_time": "2023-01-06T11:32:45.168Z"
   },
   {
    "duration": 725,
    "start_time": "2023-01-06T11:33:09.256Z"
   },
   {
    "duration": 9,
    "start_time": "2023-01-06T11:33:33.993Z"
   },
   {
    "duration": 838,
    "start_time": "2023-01-06T11:35:39.871Z"
   },
   {
    "duration": 909,
    "start_time": "2023-01-06T11:35:56.408Z"
   },
   {
    "duration": 847,
    "start_time": "2023-01-06T11:36:20.415Z"
   },
   {
    "duration": 7,
    "start_time": "2023-01-06T11:38:34.470Z"
   },
   {
    "duration": 151,
    "start_time": "2023-01-06T11:40:01.814Z"
   },
   {
    "duration": 829,
    "start_time": "2023-01-06T11:40:06.885Z"
   },
   {
    "duration": 7,
    "start_time": "2023-01-06T11:40:19.509Z"
   },
   {
    "duration": 50,
    "start_time": "2023-01-06T11:40:29.909Z"
   },
   {
    "duration": 17,
    "start_time": "2023-01-06T11:42:15.152Z"
   },
   {
    "duration": 93,
    "start_time": "2023-01-09T13:07:15.858Z"
   },
   {
    "duration": 44,
    "start_time": "2023-01-09T13:43:26.305Z"
   },
   {
    "duration": 1211,
    "start_time": "2023-01-11T10:45:00.332Z"
   },
   {
    "duration": 133,
    "start_time": "2023-01-11T10:45:01.678Z"
   },
   {
    "duration": 15,
    "start_time": "2023-01-11T10:45:02.020Z"
   },
   {
    "duration": 5,
    "start_time": "2023-01-11T10:45:02.462Z"
   },
   {
    "duration": 9,
    "start_time": "2023-01-11T10:45:03.149Z"
   },
   {
    "duration": 7,
    "start_time": "2023-01-11T10:45:04.510Z"
   },
   {
    "duration": 108,
    "start_time": "2023-01-11T11:01:49.165Z"
   },
   {
    "duration": 4,
    "start_time": "2023-01-11T11:02:02.850Z"
   },
   {
    "duration": 32,
    "start_time": "2023-01-11T11:02:02.856Z"
   },
   {
    "duration": 7,
    "start_time": "2023-01-11T11:02:02.890Z"
   },
   {
    "duration": 11,
    "start_time": "2023-01-11T11:02:02.899Z"
   },
   {
    "duration": 19,
    "start_time": "2023-01-11T11:02:02.912Z"
   },
   {
    "duration": 42,
    "start_time": "2023-01-11T11:02:02.933Z"
   },
   {
    "duration": 29,
    "start_time": "2023-01-11T11:02:02.977Z"
   },
   {
    "duration": 46,
    "start_time": "2023-01-11T11:02:03.008Z"
   },
   {
    "duration": 24,
    "start_time": "2023-01-11T11:02:03.056Z"
   },
   {
    "duration": 32,
    "start_time": "2023-01-11T11:02:03.082Z"
   },
   {
    "duration": 178,
    "start_time": "2023-01-11T11:02:03.116Z"
   },
   {
    "duration": 13,
    "start_time": "2023-01-11T11:02:03.296Z"
   },
   {
    "duration": 29,
    "start_time": "2023-01-11T11:02:03.311Z"
   },
   {
    "duration": 43,
    "start_time": "2023-01-11T11:02:03.344Z"
   },
   {
    "duration": 202,
    "start_time": "2023-01-11T11:02:03.388Z"
   },
   {
    "duration": 11,
    "start_time": "2023-01-11T11:02:03.592Z"
   },
   {
    "duration": 157,
    "start_time": "2023-01-11T11:02:03.604Z"
   },
   {
    "duration": 344,
    "start_time": "2023-01-11T11:02:03.763Z"
   },
   {
    "duration": 308,
    "start_time": "2023-01-11T11:02:04.109Z"
   },
   {
    "duration": 439,
    "start_time": "2023-01-11T11:02:04.419Z"
   },
   {
    "duration": 7,
    "start_time": "2023-01-11T11:02:04.860Z"
   },
   {
    "duration": 351,
    "start_time": "2023-01-11T11:02:04.868Z"
   },
   {
    "duration": 324,
    "start_time": "2023-01-11T11:02:05.221Z"
   },
   {
    "duration": 16,
    "start_time": "2023-01-11T11:02:05.546Z"
   },
   {
    "duration": 29,
    "start_time": "2023-01-11T11:02:05.563Z"
   },
   {
    "duration": 30,
    "start_time": "2023-01-11T11:02:05.594Z"
   },
   {
    "duration": 0,
    "start_time": "2023-01-11T11:02:05.627Z"
   },
   {
    "duration": 0,
    "start_time": "2023-01-11T11:02:05.628Z"
   },
   {
    "duration": 0,
    "start_time": "2023-01-11T11:02:05.630Z"
   },
   {
    "duration": 0,
    "start_time": "2023-01-11T11:02:05.631Z"
   },
   {
    "duration": 0,
    "start_time": "2023-01-11T11:02:05.632Z"
   },
   {
    "duration": 0,
    "start_time": "2023-01-11T11:02:05.634Z"
   },
   {
    "duration": 0,
    "start_time": "2023-01-11T11:02:05.635Z"
   },
   {
    "duration": 0,
    "start_time": "2023-01-11T11:02:05.636Z"
   },
   {
    "duration": 0,
    "start_time": "2023-01-11T11:02:05.638Z"
   },
   {
    "duration": 0,
    "start_time": "2023-01-11T11:02:05.639Z"
   },
   {
    "duration": 0,
    "start_time": "2023-01-11T11:02:05.641Z"
   },
   {
    "duration": 0,
    "start_time": "2023-01-11T11:02:05.642Z"
   },
   {
    "duration": 0,
    "start_time": "2023-01-11T11:02:05.644Z"
   },
   {
    "duration": 0,
    "start_time": "2023-01-11T11:02:05.645Z"
   },
   {
    "duration": 0,
    "start_time": "2023-01-11T11:02:05.646Z"
   },
   {
    "duration": 0,
    "start_time": "2023-01-11T11:02:05.648Z"
   },
   {
    "duration": 0,
    "start_time": "2023-01-11T11:02:05.649Z"
   },
   {
    "duration": 0,
    "start_time": "2023-01-11T11:02:05.651Z"
   },
   {
    "duration": 0,
    "start_time": "2023-01-11T11:02:05.652Z"
   },
   {
    "duration": 0,
    "start_time": "2023-01-11T11:02:05.654Z"
   },
   {
    "duration": 0,
    "start_time": "2023-01-11T11:02:05.655Z"
   },
   {
    "duration": 0,
    "start_time": "2023-01-11T11:02:05.657Z"
   },
   {
    "duration": 0,
    "start_time": "2023-01-11T11:02:05.658Z"
   },
   {
    "duration": 46,
    "start_time": "2023-01-11T11:39:03.372Z"
   },
   {
    "duration": 158,
    "start_time": "2023-01-11T11:39:10.804Z"
   },
   {
    "duration": 298,
    "start_time": "2023-01-11T11:39:21.091Z"
   },
   {
    "duration": 297,
    "start_time": "2023-01-11T11:41:01.386Z"
   },
   {
    "duration": 320,
    "start_time": "2023-01-11T11:41:40.534Z"
   },
   {
    "duration": 298,
    "start_time": "2023-01-11T11:41:47.668Z"
   },
   {
    "duration": 391,
    "start_time": "2023-01-11T11:41:54.066Z"
   },
   {
    "duration": 347,
    "start_time": "2023-01-11T11:44:07.321Z"
   },
   {
    "duration": 294,
    "start_time": "2023-01-11T11:47:28.882Z"
   },
   {
    "duration": 323,
    "start_time": "2023-01-11T11:48:29.983Z"
   },
   {
    "duration": 299,
    "start_time": "2023-01-11T11:48:37.743Z"
   },
   {
    "duration": 322,
    "start_time": "2023-01-11T11:48:46.480Z"
   },
   {
    "duration": 297,
    "start_time": "2023-01-11T11:52:38.574Z"
   },
   {
    "duration": 313,
    "start_time": "2023-01-11T11:52:47.597Z"
   },
   {
    "duration": 1069,
    "start_time": "2023-01-11T11:53:25.580Z"
   },
   {
    "duration": 83,
    "start_time": "2023-01-11T11:53:26.651Z"
   },
   {
    "duration": 22,
    "start_time": "2023-01-11T11:53:26.736Z"
   },
   {
    "duration": 15,
    "start_time": "2023-01-11T11:53:26.760Z"
   },
   {
    "duration": 21,
    "start_time": "2023-01-11T11:53:26.778Z"
   },
   {
    "duration": 12,
    "start_time": "2023-01-11T11:53:26.801Z"
   },
   {
    "duration": 17,
    "start_time": "2023-01-11T11:53:26.814Z"
   },
   {
    "duration": 29,
    "start_time": "2023-01-11T11:53:26.833Z"
   },
   {
    "duration": 10,
    "start_time": "2023-01-11T11:53:26.864Z"
   },
   {
    "duration": 15,
    "start_time": "2023-01-11T11:53:26.876Z"
   },
   {
    "duration": 57,
    "start_time": "2023-01-11T11:53:26.893Z"
   },
   {
    "duration": 13,
    "start_time": "2023-01-11T11:53:26.952Z"
   },
   {
    "duration": 19,
    "start_time": "2023-01-11T11:53:26.967Z"
   },
   {
    "duration": 10,
    "start_time": "2023-01-11T11:53:26.990Z"
   },
   {
    "duration": 180,
    "start_time": "2023-01-11T11:53:27.002Z"
   },
   {
    "duration": 11,
    "start_time": "2023-01-11T11:53:27.184Z"
   },
   {
    "duration": 129,
    "start_time": "2023-01-11T11:53:27.197Z"
   },
   {
    "duration": 332,
    "start_time": "2023-01-11T11:53:27.328Z"
   },
   {
    "duration": 288,
    "start_time": "2023-01-11T11:53:27.663Z"
   },
   {
    "duration": 368,
    "start_time": "2023-01-11T11:53:27.952Z"
   },
   {
    "duration": 5,
    "start_time": "2023-01-11T11:53:28.322Z"
   },
   {
    "duration": 317,
    "start_time": "2023-01-11T11:53:28.335Z"
   },
   {
    "duration": 312,
    "start_time": "2023-01-11T11:53:28.654Z"
   },
   {
    "duration": 13,
    "start_time": "2023-01-11T11:53:28.968Z"
   },
   {
    "duration": 18,
    "start_time": "2023-01-11T11:53:28.982Z"
   },
   {
    "duration": 112,
    "start_time": "2023-01-11T11:53:29.002Z"
   },
   {
    "duration": 0,
    "start_time": "2023-01-11T11:53:29.116Z"
   },
   {
    "duration": 0,
    "start_time": "2023-01-11T11:53:29.117Z"
   },
   {
    "duration": 0,
    "start_time": "2023-01-11T11:53:29.118Z"
   },
   {
    "duration": 1,
    "start_time": "2023-01-11T11:53:29.119Z"
   },
   {
    "duration": 0,
    "start_time": "2023-01-11T11:53:29.120Z"
   },
   {
    "duration": 0,
    "start_time": "2023-01-11T11:53:29.136Z"
   },
   {
    "duration": 0,
    "start_time": "2023-01-11T11:53:29.137Z"
   },
   {
    "duration": 0,
    "start_time": "2023-01-11T11:53:29.138Z"
   },
   {
    "duration": 0,
    "start_time": "2023-01-11T11:53:29.139Z"
   },
   {
    "duration": 0,
    "start_time": "2023-01-11T11:53:29.140Z"
   },
   {
    "duration": 0,
    "start_time": "2023-01-11T11:53:29.141Z"
   },
   {
    "duration": 0,
    "start_time": "2023-01-11T11:53:29.142Z"
   },
   {
    "duration": 0,
    "start_time": "2023-01-11T11:53:29.144Z"
   },
   {
    "duration": 0,
    "start_time": "2023-01-11T11:53:29.148Z"
   },
   {
    "duration": 0,
    "start_time": "2023-01-11T11:53:29.150Z"
   },
   {
    "duration": 0,
    "start_time": "2023-01-11T11:53:29.151Z"
   },
   {
    "duration": 0,
    "start_time": "2023-01-11T11:53:29.153Z"
   },
   {
    "duration": 0,
    "start_time": "2023-01-11T11:53:29.154Z"
   },
   {
    "duration": 0,
    "start_time": "2023-01-11T11:53:29.155Z"
   },
   {
    "duration": 0,
    "start_time": "2023-01-11T11:53:29.157Z"
   },
   {
    "duration": 0,
    "start_time": "2023-01-11T11:53:29.158Z"
   },
   {
    "duration": 0,
    "start_time": "2023-01-11T11:53:29.160Z"
   },
   {
    "duration": 0,
    "start_time": "2023-01-11T11:53:29.161Z"
   },
   {
    "duration": 360,
    "start_time": "2023-01-11T11:54:37.886Z"
   },
   {
    "duration": 272,
    "start_time": "2023-01-11T11:55:21.341Z"
   },
   {
    "duration": 283,
    "start_time": "2023-01-11T11:55:29.398Z"
   },
   {
    "duration": 280,
    "start_time": "2023-01-11T11:55:50.460Z"
   },
   {
    "duration": 8,
    "start_time": "2023-01-11T12:26:42.784Z"
   },
   {
    "duration": 5,
    "start_time": "2023-01-11T12:32:13.406Z"
   },
   {
    "duration": 11,
    "start_time": "2023-01-11T12:33:08.582Z"
   },
   {
    "duration": 13,
    "start_time": "2023-01-11T12:40:00.623Z"
   },
   {
    "duration": 5,
    "start_time": "2023-01-11T12:40:01.682Z"
   },
   {
    "duration": 159,
    "start_time": "2023-01-11T12:40:02.330Z"
   },
   {
    "duration": 14,
    "start_time": "2023-01-11T12:40:02.658Z"
   },
   {
    "duration": 123,
    "start_time": "2023-01-11T12:40:02.897Z"
   },
   {
    "duration": 20,
    "start_time": "2023-01-11T12:40:03.124Z"
   },
   {
    "duration": 11,
    "start_time": "2023-01-11T12:40:03.377Z"
   },
   {
    "duration": 5,
    "start_time": "2023-01-11T12:40:32.521Z"
   },
   {
    "duration": 25,
    "start_time": "2023-01-11T12:40:32.674Z"
   },
   {
    "duration": 7,
    "start_time": "2023-01-11T12:40:32.858Z"
   },
   {
    "duration": 3,
    "start_time": "2023-01-11T12:40:33.025Z"
   },
   {
    "duration": 9,
    "start_time": "2023-01-11T12:40:33.209Z"
   },
   {
    "duration": 4,
    "start_time": "2023-01-11T12:40:34.105Z"
   },
   {
    "duration": 10,
    "start_time": "2023-01-11T12:40:34.281Z"
   },
   {
    "duration": 7,
    "start_time": "2023-01-11T12:40:34.465Z"
   },
   {
    "duration": 5,
    "start_time": "2023-01-11T12:40:35.041Z"
   },
   {
    "duration": 8,
    "start_time": "2023-01-11T12:40:35.225Z"
   },
   {
    "duration": 60,
    "start_time": "2023-01-11T12:40:37.161Z"
   },
   {
    "duration": 14,
    "start_time": "2023-01-11T12:40:37.656Z"
   },
   {
    "duration": 6,
    "start_time": "2023-01-11T12:40:37.905Z"
   },
   {
    "duration": 13,
    "start_time": "2023-01-11T12:40:38.244Z"
   },
   {
    "duration": 7,
    "start_time": "2023-01-11T12:40:38.753Z"
   },
   {
    "duration": 157,
    "start_time": "2023-01-11T12:40:39.142Z"
   },
   {
    "duration": 328,
    "start_time": "2023-01-11T12:41:14.902Z"
   },
   {
    "duration": 3,
    "start_time": "2023-01-11T12:41:25.503Z"
   },
   {
    "duration": 38,
    "start_time": "2023-01-11T12:41:25.508Z"
   },
   {
    "duration": 8,
    "start_time": "2023-01-11T12:41:25.548Z"
   },
   {
    "duration": 18,
    "start_time": "2023-01-11T12:41:25.558Z"
   },
   {
    "duration": 16,
    "start_time": "2023-01-11T12:41:25.578Z"
   },
   {
    "duration": 21,
    "start_time": "2023-01-11T12:41:25.596Z"
   },
   {
    "duration": 15,
    "start_time": "2023-01-11T12:41:25.619Z"
   },
   {
    "duration": 16,
    "start_time": "2023-01-11T12:41:25.635Z"
   },
   {
    "duration": 21,
    "start_time": "2023-01-11T12:41:25.653Z"
   },
   {
    "duration": 21,
    "start_time": "2023-01-11T12:41:25.677Z"
   },
   {
    "duration": 67,
    "start_time": "2023-01-11T12:41:25.700Z"
   },
   {
    "duration": 11,
    "start_time": "2023-01-11T12:41:25.769Z"
   },
   {
    "duration": 20,
    "start_time": "2023-01-11T12:41:25.782Z"
   },
   {
    "duration": 11,
    "start_time": "2023-01-11T12:41:25.803Z"
   },
   {
    "duration": 158,
    "start_time": "2023-01-11T12:41:25.815Z"
   },
   {
    "duration": 10,
    "start_time": "2023-01-11T12:41:25.974Z"
   },
   {
    "duration": 29,
    "start_time": "2023-01-11T12:41:25.986Z"
   },
   {
    "duration": 140,
    "start_time": "2023-01-11T12:41:26.016Z"
   },
   {
    "duration": 28,
    "start_time": "2023-01-11T12:41:26.158Z"
   },
   {
    "duration": 0,
    "start_time": "2023-01-11T12:41:26.188Z"
   },
   {
    "duration": 0,
    "start_time": "2023-01-11T12:41:26.189Z"
   },
   {
    "duration": 0,
    "start_time": "2023-01-11T12:41:26.190Z"
   },
   {
    "duration": 0,
    "start_time": "2023-01-11T12:41:26.191Z"
   },
   {
    "duration": 0,
    "start_time": "2023-01-11T12:41:26.192Z"
   },
   {
    "duration": 0,
    "start_time": "2023-01-11T12:41:26.193Z"
   },
   {
    "duration": 0,
    "start_time": "2023-01-11T12:41:26.194Z"
   },
   {
    "duration": 0,
    "start_time": "2023-01-11T12:41:26.195Z"
   },
   {
    "duration": 0,
    "start_time": "2023-01-11T12:41:26.197Z"
   },
   {
    "duration": 0,
    "start_time": "2023-01-11T12:41:26.198Z"
   },
   {
    "duration": 0,
    "start_time": "2023-01-11T12:41:26.199Z"
   },
   {
    "duration": 0,
    "start_time": "2023-01-11T12:41:26.199Z"
   },
   {
    "duration": 0,
    "start_time": "2023-01-11T12:41:26.201Z"
   },
   {
    "duration": 0,
    "start_time": "2023-01-11T12:41:26.201Z"
   },
   {
    "duration": 0,
    "start_time": "2023-01-11T12:41:26.202Z"
   },
   {
    "duration": 0,
    "start_time": "2023-01-11T12:41:26.203Z"
   },
   {
    "duration": 0,
    "start_time": "2023-01-11T12:41:26.204Z"
   },
   {
    "duration": 0,
    "start_time": "2023-01-11T12:41:26.205Z"
   },
   {
    "duration": 0,
    "start_time": "2023-01-11T12:41:26.206Z"
   },
   {
    "duration": 0,
    "start_time": "2023-01-11T12:41:26.207Z"
   },
   {
    "duration": 0,
    "start_time": "2023-01-11T12:41:26.208Z"
   },
   {
    "duration": 0,
    "start_time": "2023-01-11T12:41:26.235Z"
   },
   {
    "duration": 0,
    "start_time": "2023-01-11T12:41:26.237Z"
   },
   {
    "duration": 0,
    "start_time": "2023-01-11T12:41:26.238Z"
   },
   {
    "duration": 0,
    "start_time": "2023-01-11T12:41:26.239Z"
   },
   {
    "duration": 0,
    "start_time": "2023-01-11T12:41:26.240Z"
   },
   {
    "duration": 0,
    "start_time": "2023-01-11T12:41:26.241Z"
   },
   {
    "duration": 0,
    "start_time": "2023-01-11T12:41:26.242Z"
   },
   {
    "duration": 0,
    "start_time": "2023-01-11T12:41:26.243Z"
   },
   {
    "duration": 0,
    "start_time": "2023-01-11T12:41:26.244Z"
   },
   {
    "duration": 0,
    "start_time": "2023-01-11T12:41:26.245Z"
   },
   {
    "duration": 207,
    "start_time": "2023-01-11T12:44:56.312Z"
   },
   {
    "duration": 16,
    "start_time": "2023-01-11T12:44:56.928Z"
   },
   {
    "duration": 4,
    "start_time": "2023-01-11T12:45:16.464Z"
   },
   {
    "duration": 26,
    "start_time": "2023-01-11T12:45:16.615Z"
   },
   {
    "duration": 12,
    "start_time": "2023-01-11T12:45:16.788Z"
   },
   {
    "duration": 4,
    "start_time": "2023-01-11T12:45:16.952Z"
   },
   {
    "duration": 9,
    "start_time": "2023-01-11T12:45:17.159Z"
   },
   {
    "duration": 4,
    "start_time": "2023-01-11T12:45:17.879Z"
   },
   {
    "duration": 10,
    "start_time": "2023-01-11T12:45:18.047Z"
   },
   {
    "duration": 7,
    "start_time": "2023-01-11T12:45:18.238Z"
   },
   {
    "duration": 5,
    "start_time": "2023-01-11T12:45:18.815Z"
   },
   {
    "duration": 8,
    "start_time": "2023-01-11T12:45:18.991Z"
   },
   {
    "duration": 59,
    "start_time": "2023-01-11T12:45:20.128Z"
   },
   {
    "duration": 13,
    "start_time": "2023-01-11T12:45:20.344Z"
   },
   {
    "duration": 6,
    "start_time": "2023-01-11T12:45:20.583Z"
   },
   {
    "duration": 6,
    "start_time": "2023-01-11T12:45:20.791Z"
   },
   {
    "duration": 163,
    "start_time": "2023-01-11T12:45:20.993Z"
   },
   {
    "duration": 11,
    "start_time": "2023-01-11T12:45:21.192Z"
   },
   {
    "duration": 209,
    "start_time": "2023-01-11T12:45:21.407Z"
   },
   {
    "duration": 12,
    "start_time": "2023-01-11T12:45:21.687Z"
   },
   {
    "duration": 58,
    "start_time": "2023-01-11T12:45:51.311Z"
   },
   {
    "duration": 14,
    "start_time": "2023-01-11T12:45:51.839Z"
   },
   {
    "duration": 13,
    "start_time": "2023-01-11T12:45:53.263Z"
   },
   {
    "duration": 7,
    "start_time": "2023-01-11T12:45:53.871Z"
   },
   {
    "duration": 5,
    "start_time": "2023-01-11T12:45:54.560Z"
   },
   {
    "duration": 167,
    "start_time": "2023-01-11T12:45:55.895Z"
   },
   {
    "duration": 13,
    "start_time": "2023-01-11T12:46:10.711Z"
   },
   {
    "duration": 11,
    "start_time": "2023-01-11T12:46:35.448Z"
   },
   {
    "duration": 4,
    "start_time": "2023-01-11T12:46:42.644Z"
   },
   {
    "duration": 45,
    "start_time": "2023-01-11T12:46:42.651Z"
   },
   {
    "duration": 9,
    "start_time": "2023-01-11T12:46:42.699Z"
   },
   {
    "duration": 15,
    "start_time": "2023-01-11T12:46:42.710Z"
   },
   {
    "duration": 13,
    "start_time": "2023-01-11T12:46:42.727Z"
   },
   {
    "duration": 24,
    "start_time": "2023-01-11T12:46:42.742Z"
   },
   {
    "duration": 26,
    "start_time": "2023-01-11T12:46:42.768Z"
   },
   {
    "duration": 18,
    "start_time": "2023-01-11T12:46:42.796Z"
   },
   {
    "duration": 15,
    "start_time": "2023-01-11T12:46:42.816Z"
   },
   {
    "duration": 13,
    "start_time": "2023-01-11T12:46:42.834Z"
   },
   {
    "duration": 68,
    "start_time": "2023-01-11T12:46:42.849Z"
   },
   {
    "duration": 13,
    "start_time": "2023-01-11T12:46:42.919Z"
   },
   {
    "duration": 23,
    "start_time": "2023-01-11T12:46:42.934Z"
   },
   {
    "duration": 30,
    "start_time": "2023-01-11T12:46:42.959Z"
   },
   {
    "duration": 10,
    "start_time": "2023-01-11T12:46:42.991Z"
   },
   {
    "duration": 173,
    "start_time": "2023-01-11T12:46:43.003Z"
   },
   {
    "duration": 11,
    "start_time": "2023-01-11T12:46:43.178Z"
   },
   {
    "duration": 29,
    "start_time": "2023-01-11T12:46:43.190Z"
   },
   {
    "duration": 129,
    "start_time": "2023-01-11T12:46:43.221Z"
   },
   {
    "duration": 10,
    "start_time": "2023-01-11T12:46:43.352Z"
   },
   {
    "duration": 27,
    "start_time": "2023-01-11T12:46:43.364Z"
   },
   {
    "duration": 0,
    "start_time": "2023-01-11T12:46:43.394Z"
   },
   {
    "duration": 0,
    "start_time": "2023-01-11T12:46:43.396Z"
   },
   {
    "duration": 0,
    "start_time": "2023-01-11T12:46:43.397Z"
   },
   {
    "duration": 0,
    "start_time": "2023-01-11T12:46:43.399Z"
   },
   {
    "duration": 0,
    "start_time": "2023-01-11T12:46:43.400Z"
   },
   {
    "duration": 0,
    "start_time": "2023-01-11T12:46:43.402Z"
   },
   {
    "duration": 0,
    "start_time": "2023-01-11T12:46:43.404Z"
   },
   {
    "duration": 0,
    "start_time": "2023-01-11T12:46:43.405Z"
   },
   {
    "duration": 0,
    "start_time": "2023-01-11T12:46:43.407Z"
   },
   {
    "duration": 0,
    "start_time": "2023-01-11T12:46:43.436Z"
   },
   {
    "duration": 0,
    "start_time": "2023-01-11T12:46:43.438Z"
   },
   {
    "duration": 0,
    "start_time": "2023-01-11T12:46:43.440Z"
   },
   {
    "duration": 0,
    "start_time": "2023-01-11T12:46:43.441Z"
   },
   {
    "duration": 0,
    "start_time": "2023-01-11T12:46:43.442Z"
   },
   {
    "duration": 0,
    "start_time": "2023-01-11T12:46:43.443Z"
   },
   {
    "duration": 0,
    "start_time": "2023-01-11T12:46:43.444Z"
   },
   {
    "duration": 0,
    "start_time": "2023-01-11T12:46:43.446Z"
   },
   {
    "duration": 0,
    "start_time": "2023-01-11T12:46:43.447Z"
   },
   {
    "duration": 0,
    "start_time": "2023-01-11T12:46:43.448Z"
   },
   {
    "duration": 0,
    "start_time": "2023-01-11T12:46:43.449Z"
   },
   {
    "duration": 0,
    "start_time": "2023-01-11T12:46:43.449Z"
   },
   {
    "duration": 0,
    "start_time": "2023-01-11T12:46:43.450Z"
   },
   {
    "duration": 0,
    "start_time": "2023-01-11T12:46:43.451Z"
   },
   {
    "duration": 0,
    "start_time": "2023-01-11T12:46:43.452Z"
   },
   {
    "duration": 0,
    "start_time": "2023-01-11T12:46:43.453Z"
   },
   {
    "duration": 0,
    "start_time": "2023-01-11T12:46:43.455Z"
   },
   {
    "duration": 0,
    "start_time": "2023-01-11T12:46:43.456Z"
   },
   {
    "duration": 0,
    "start_time": "2023-01-11T12:46:43.457Z"
   },
   {
    "duration": 0,
    "start_time": "2023-01-11T12:46:43.459Z"
   },
   {
    "duration": 0,
    "start_time": "2023-01-11T12:46:43.460Z"
   },
   {
    "duration": 0,
    "start_time": "2023-01-11T12:46:43.461Z"
   },
   {
    "duration": 524,
    "start_time": "2023-01-11T12:47:45.494Z"
   },
   {
    "duration": 14,
    "start_time": "2023-01-11T12:47:46.214Z"
   },
   {
    "duration": 7,
    "start_time": "2023-01-11T12:47:46.422Z"
   },
   {
    "duration": 251,
    "start_time": "2023-01-11T12:48:07.670Z"
   },
   {
    "duration": 3,
    "start_time": "2023-01-11T12:48:20.211Z"
   },
   {
    "duration": 46,
    "start_time": "2023-01-11T12:48:20.216Z"
   },
   {
    "duration": 9,
    "start_time": "2023-01-11T12:48:20.264Z"
   },
   {
    "duration": 14,
    "start_time": "2023-01-11T12:48:20.275Z"
   },
   {
    "duration": 29,
    "start_time": "2023-01-11T12:48:20.290Z"
   },
   {
    "duration": 28,
    "start_time": "2023-01-11T12:48:20.321Z"
   },
   {
    "duration": 44,
    "start_time": "2023-01-11T12:48:20.350Z"
   },
   {
    "duration": 21,
    "start_time": "2023-01-11T12:48:20.396Z"
   },
   {
    "duration": 11,
    "start_time": "2023-01-11T12:48:20.419Z"
   },
   {
    "duration": 15,
    "start_time": "2023-01-11T12:48:20.431Z"
   },
   {
    "duration": 60,
    "start_time": "2023-01-11T12:48:20.447Z"
   },
   {
    "duration": 13,
    "start_time": "2023-01-11T12:48:20.508Z"
   },
   {
    "duration": 21,
    "start_time": "2023-01-11T12:48:20.523Z"
   },
   {
    "duration": 23,
    "start_time": "2023-01-11T12:48:20.545Z"
   },
   {
    "duration": 14,
    "start_time": "2023-01-11T12:48:20.570Z"
   },
   {
    "duration": 175,
    "start_time": "2023-01-11T12:48:20.586Z"
   },
   {
    "duration": 9,
    "start_time": "2023-01-11T12:48:20.763Z"
   },
   {
    "duration": 12,
    "start_time": "2023-01-11T12:48:20.774Z"
   },
   {
    "duration": 140,
    "start_time": "2023-01-11T12:48:20.788Z"
   },
   {
    "duration": 25,
    "start_time": "2023-01-11T12:48:20.935Z"
   },
   {
    "duration": 293,
    "start_time": "2023-01-11T12:48:20.962Z"
   },
   {
    "duration": 11,
    "start_time": "2023-01-11T12:48:21.258Z"
   },
   {
    "duration": 210,
    "start_time": "2023-01-11T12:48:21.271Z"
   },
   {
    "duration": 277,
    "start_time": "2023-01-11T12:48:21.486Z"
   },
   {
    "duration": 5,
    "start_time": "2023-01-11T12:48:21.765Z"
   },
   {
    "duration": 210,
    "start_time": "2023-01-11T12:48:21.772Z"
   },
   {
    "duration": 206,
    "start_time": "2023-01-11T12:48:21.984Z"
   },
   {
    "duration": 13,
    "start_time": "2023-01-11T12:48:22.192Z"
   },
   {
    "duration": 30,
    "start_time": "2023-01-11T12:48:22.207Z"
   },
   {
    "duration": 145,
    "start_time": "2023-01-11T12:48:22.239Z"
   },
   {
    "duration": 47,
    "start_time": "2023-01-11T12:48:22.385Z"
   },
   {
    "duration": 0,
    "start_time": "2023-01-11T12:48:22.435Z"
   },
   {
    "duration": 0,
    "start_time": "2023-01-11T12:48:22.436Z"
   },
   {
    "duration": 0,
    "start_time": "2023-01-11T12:48:22.438Z"
   },
   {
    "duration": 0,
    "start_time": "2023-01-11T12:48:22.439Z"
   },
   {
    "duration": 0,
    "start_time": "2023-01-11T12:48:22.441Z"
   },
   {
    "duration": 0,
    "start_time": "2023-01-11T12:48:22.443Z"
   },
   {
    "duration": 0,
    "start_time": "2023-01-11T12:48:22.444Z"
   },
   {
    "duration": 0,
    "start_time": "2023-01-11T12:48:22.446Z"
   },
   {
    "duration": 0,
    "start_time": "2023-01-11T12:48:22.448Z"
   },
   {
    "duration": 0,
    "start_time": "2023-01-11T12:48:22.449Z"
   },
   {
    "duration": 0,
    "start_time": "2023-01-11T12:48:22.451Z"
   },
   {
    "duration": 0,
    "start_time": "2023-01-11T12:48:22.452Z"
   },
   {
    "duration": 0,
    "start_time": "2023-01-11T12:48:22.454Z"
   },
   {
    "duration": 0,
    "start_time": "2023-01-11T12:48:22.456Z"
   },
   {
    "duration": 0,
    "start_time": "2023-01-11T12:48:22.457Z"
   },
   {
    "duration": 0,
    "start_time": "2023-01-11T12:48:22.459Z"
   },
   {
    "duration": 0,
    "start_time": "2023-01-11T12:48:22.461Z"
   },
   {
    "duration": 0,
    "start_time": "2023-01-11T12:48:22.462Z"
   },
   {
    "duration": 1,
    "start_time": "2023-01-11T12:48:22.464Z"
   },
   {
    "duration": 0,
    "start_time": "2023-01-11T12:48:22.466Z"
   },
   {
    "duration": 0,
    "start_time": "2023-01-11T12:48:22.468Z"
   },
   {
    "duration": 11,
    "start_time": "2023-01-11T12:49:51.686Z"
   },
   {
    "duration": 11,
    "start_time": "2023-01-11T12:49:52.917Z"
   },
   {
    "duration": 4,
    "start_time": "2023-01-11T12:49:58.778Z"
   },
   {
    "duration": 53,
    "start_time": "2023-01-11T12:49:58.784Z"
   },
   {
    "duration": 8,
    "start_time": "2023-01-11T12:49:58.838Z"
   },
   {
    "duration": 23,
    "start_time": "2023-01-11T12:49:58.849Z"
   },
   {
    "duration": 46,
    "start_time": "2023-01-11T12:49:58.874Z"
   },
   {
    "duration": 12,
    "start_time": "2023-01-11T12:49:58.922Z"
   },
   {
    "duration": 30,
    "start_time": "2023-01-11T12:49:58.936Z"
   },
   {
    "duration": 20,
    "start_time": "2023-01-11T12:49:58.968Z"
   },
   {
    "duration": 27,
    "start_time": "2023-01-11T12:49:58.991Z"
   },
   {
    "duration": 30,
    "start_time": "2023-01-11T12:49:59.020Z"
   },
   {
    "duration": 67,
    "start_time": "2023-01-11T12:49:59.051Z"
   },
   {
    "duration": 11,
    "start_time": "2023-01-11T12:49:59.120Z"
   },
   {
    "duration": 40,
    "start_time": "2023-01-11T12:49:59.132Z"
   },
   {
    "duration": 33,
    "start_time": "2023-01-11T12:49:59.174Z"
   },
   {
    "duration": 24,
    "start_time": "2023-01-11T12:49:59.209Z"
   },
   {
    "duration": 18,
    "start_time": "2023-01-11T12:49:59.236Z"
   },
   {
    "duration": 11,
    "start_time": "2023-01-11T12:49:59.256Z"
   },
   {
    "duration": 168,
    "start_time": "2023-01-11T12:49:59.269Z"
   },
   {
    "duration": 12,
    "start_time": "2023-01-11T12:49:59.439Z"
   },
   {
    "duration": 20,
    "start_time": "2023-01-11T12:49:59.453Z"
   },
   {
    "duration": 135,
    "start_time": "2023-01-11T12:49:59.475Z"
   },
   {
    "duration": 21,
    "start_time": "2023-01-11T12:49:59.611Z"
   },
   {
    "duration": 215,
    "start_time": "2023-01-11T12:49:59.635Z"
   },
   {
    "duration": 11,
    "start_time": "2023-01-11T12:49:59.855Z"
   },
   {
    "duration": 203,
    "start_time": "2023-01-11T12:49:59.868Z"
   },
   {
    "duration": 265,
    "start_time": "2023-01-11T12:50:00.074Z"
   },
   {
    "duration": 6,
    "start_time": "2023-01-11T12:50:00.341Z"
   },
   {
    "duration": 224,
    "start_time": "2023-01-11T12:50:00.348Z"
   },
   {
    "duration": 292,
    "start_time": "2023-01-11T12:50:00.574Z"
   },
   {
    "duration": 13,
    "start_time": "2023-01-11T12:50:00.867Z"
   },
   {
    "duration": 57,
    "start_time": "2023-01-11T12:50:00.882Z"
   },
   {
    "duration": 224,
    "start_time": "2023-01-11T12:50:00.941Z"
   },
   {
    "duration": 71,
    "start_time": "2023-01-11T12:50:01.166Z"
   },
   {
    "duration": 0,
    "start_time": "2023-01-11T12:50:01.238Z"
   },
   {
    "duration": 0,
    "start_time": "2023-01-11T12:50:01.240Z"
   },
   {
    "duration": 0,
    "start_time": "2023-01-11T12:50:01.241Z"
   },
   {
    "duration": 0,
    "start_time": "2023-01-11T12:50:01.242Z"
   },
   {
    "duration": 0,
    "start_time": "2023-01-11T12:50:01.243Z"
   },
   {
    "duration": 0,
    "start_time": "2023-01-11T12:50:01.244Z"
   },
   {
    "duration": 0,
    "start_time": "2023-01-11T12:50:01.245Z"
   },
   {
    "duration": 0,
    "start_time": "2023-01-11T12:50:01.246Z"
   },
   {
    "duration": 0,
    "start_time": "2023-01-11T12:50:01.247Z"
   },
   {
    "duration": 0,
    "start_time": "2023-01-11T12:50:01.248Z"
   },
   {
    "duration": 0,
    "start_time": "2023-01-11T12:50:01.249Z"
   },
   {
    "duration": 0,
    "start_time": "2023-01-11T12:50:01.250Z"
   },
   {
    "duration": 0,
    "start_time": "2023-01-11T12:50:01.251Z"
   },
   {
    "duration": 0,
    "start_time": "2023-01-11T12:50:01.252Z"
   },
   {
    "duration": 0,
    "start_time": "2023-01-11T12:50:01.253Z"
   },
   {
    "duration": 0,
    "start_time": "2023-01-11T12:50:01.254Z"
   },
   {
    "duration": 0,
    "start_time": "2023-01-11T12:50:01.255Z"
   },
   {
    "duration": 0,
    "start_time": "2023-01-11T12:50:01.256Z"
   },
   {
    "duration": 0,
    "start_time": "2023-01-11T12:50:01.257Z"
   },
   {
    "duration": 0,
    "start_time": "2023-01-11T12:50:01.258Z"
   },
   {
    "duration": 0,
    "start_time": "2023-01-11T12:50:01.259Z"
   },
   {
    "duration": 200,
    "start_time": "2023-01-11T12:50:38.382Z"
   },
   {
    "duration": 192,
    "start_time": "2023-01-11T12:50:46.070Z"
   },
   {
    "duration": 86,
    "start_time": "2023-01-11T12:51:31.446Z"
   },
   {
    "duration": 166,
    "start_time": "2023-01-11T12:51:38.086Z"
   },
   {
    "duration": 222,
    "start_time": "2023-01-11T12:51:45.726Z"
   },
   {
    "duration": 186,
    "start_time": "2023-01-11T12:52:29.093Z"
   },
   {
    "duration": 319,
    "start_time": "2023-01-11T12:52:47.732Z"
   },
   {
    "duration": 219,
    "start_time": "2023-01-11T12:53:03.748Z"
   },
   {
    "duration": 200,
    "start_time": "2023-01-11T12:53:15.908Z"
   },
   {
    "duration": 216,
    "start_time": "2023-01-11T12:53:21.428Z"
   },
   {
    "duration": 303,
    "start_time": "2023-01-11T12:54:22.891Z"
   },
   {
    "duration": 301,
    "start_time": "2023-01-11T12:55:57.388Z"
   },
   {
    "duration": 340,
    "start_time": "2023-01-11T12:56:20.116Z"
   },
   {
    "duration": 280,
    "start_time": "2023-01-11T12:56:32.386Z"
   },
   {
    "duration": 92,
    "start_time": "2023-01-11T12:57:00.057Z"
   },
   {
    "duration": 190,
    "start_time": "2023-01-11T12:57:33.714Z"
   },
   {
    "duration": 212,
    "start_time": "2023-01-11T12:58:18.726Z"
   },
   {
    "duration": 27,
    "start_time": "2023-01-11T12:58:18.941Z"
   },
   {
    "duration": 8,
    "start_time": "2023-01-11T12:58:18.970Z"
   },
   {
    "duration": 8,
    "start_time": "2023-01-11T12:58:18.980Z"
   },
   {
    "duration": 26,
    "start_time": "2023-01-11T12:58:18.989Z"
   },
   {
    "duration": 14,
    "start_time": "2023-01-11T12:58:19.017Z"
   },
   {
    "duration": 21,
    "start_time": "2023-01-11T12:58:19.034Z"
   },
   {
    "duration": 18,
    "start_time": "2023-01-11T12:58:19.057Z"
   },
   {
    "duration": 12,
    "start_time": "2023-01-11T12:58:19.077Z"
   },
   {
    "duration": 9,
    "start_time": "2023-01-11T12:58:19.093Z"
   },
   {
    "duration": 65,
    "start_time": "2023-01-11T12:58:19.104Z"
   },
   {
    "duration": 12,
    "start_time": "2023-01-11T12:58:19.171Z"
   },
   {
    "duration": 20,
    "start_time": "2023-01-11T12:58:19.185Z"
   },
   {
    "duration": 21,
    "start_time": "2023-01-11T12:58:19.207Z"
   },
   {
    "duration": 23,
    "start_time": "2023-01-11T12:58:19.230Z"
   },
   {
    "duration": 12,
    "start_time": "2023-01-11T12:58:19.256Z"
   },
   {
    "duration": 10,
    "start_time": "2023-01-11T12:58:19.270Z"
   },
   {
    "duration": 191,
    "start_time": "2023-01-11T12:58:19.282Z"
   },
   {
    "duration": 13,
    "start_time": "2023-01-11T12:58:19.476Z"
   },
   {
    "duration": 17,
    "start_time": "2023-01-11T12:58:19.491Z"
   },
   {
    "duration": 134,
    "start_time": "2023-01-11T12:58:19.510Z"
   },
   {
    "duration": 11,
    "start_time": "2023-01-11T12:58:19.646Z"
   },
   {
    "duration": 226,
    "start_time": "2023-01-11T12:58:19.659Z"
   },
   {
    "duration": 11,
    "start_time": "2023-01-11T12:58:19.887Z"
   },
   {
    "duration": 365,
    "start_time": "2023-01-11T12:58:19.899Z"
   },
   {
    "duration": 409,
    "start_time": "2023-01-11T12:58:20.265Z"
   },
   {
    "duration": 7,
    "start_time": "2023-01-11T12:58:20.676Z"
   },
   {
    "duration": 365,
    "start_time": "2023-01-11T12:58:20.688Z"
   },
   {
    "duration": 493,
    "start_time": "2023-01-11T12:58:21.056Z"
   },
   {
    "duration": 14,
    "start_time": "2023-01-11T12:58:21.551Z"
   },
   {
    "duration": 69,
    "start_time": "2023-01-11T12:58:21.567Z"
   },
   {
    "duration": 411,
    "start_time": "2023-01-11T12:58:21.638Z"
   },
   {
    "duration": 49,
    "start_time": "2023-01-11T12:58:22.051Z"
   },
   {
    "duration": 0,
    "start_time": "2023-01-11T12:58:22.102Z"
   },
   {
    "duration": 0,
    "start_time": "2023-01-11T12:58:22.103Z"
   },
   {
    "duration": 0,
    "start_time": "2023-01-11T12:58:22.104Z"
   },
   {
    "duration": 0,
    "start_time": "2023-01-11T12:58:22.135Z"
   },
   {
    "duration": 0,
    "start_time": "2023-01-11T12:58:22.137Z"
   },
   {
    "duration": 0,
    "start_time": "2023-01-11T12:58:22.138Z"
   },
   {
    "duration": 0,
    "start_time": "2023-01-11T12:58:22.140Z"
   },
   {
    "duration": 0,
    "start_time": "2023-01-11T12:58:22.141Z"
   },
   {
    "duration": 0,
    "start_time": "2023-01-11T12:58:22.142Z"
   },
   {
    "duration": 0,
    "start_time": "2023-01-11T12:58:22.143Z"
   },
   {
    "duration": 0,
    "start_time": "2023-01-11T12:58:22.144Z"
   },
   {
    "duration": 0,
    "start_time": "2023-01-11T12:58:22.145Z"
   },
   {
    "duration": 0,
    "start_time": "2023-01-11T12:58:22.146Z"
   },
   {
    "duration": 0,
    "start_time": "2023-01-11T12:58:22.147Z"
   },
   {
    "duration": 0,
    "start_time": "2023-01-11T12:58:22.149Z"
   },
   {
    "duration": 0,
    "start_time": "2023-01-11T12:58:22.150Z"
   },
   {
    "duration": 0,
    "start_time": "2023-01-11T12:58:22.151Z"
   },
   {
    "duration": 0,
    "start_time": "2023-01-11T12:58:22.153Z"
   },
   {
    "duration": 0,
    "start_time": "2023-01-11T12:58:22.154Z"
   },
   {
    "duration": 0,
    "start_time": "2023-01-11T12:58:22.155Z"
   },
   {
    "duration": 0,
    "start_time": "2023-01-11T12:58:22.156Z"
   },
   {
    "duration": 328,
    "start_time": "2023-01-11T12:58:53.097Z"
   },
   {
    "duration": 4,
    "start_time": "2023-01-11T12:59:19.213Z"
   },
   {
    "duration": 42,
    "start_time": "2023-01-11T12:59:19.219Z"
   },
   {
    "duration": 9,
    "start_time": "2023-01-11T12:59:19.262Z"
   },
   {
    "duration": 13,
    "start_time": "2023-01-11T12:59:19.274Z"
   },
   {
    "duration": 29,
    "start_time": "2023-01-11T12:59:19.289Z"
   },
   {
    "duration": 17,
    "start_time": "2023-01-11T12:59:19.319Z"
   },
   {
    "duration": 18,
    "start_time": "2023-01-11T12:59:19.338Z"
   },
   {
    "duration": 20,
    "start_time": "2023-01-11T12:59:19.358Z"
   },
   {
    "duration": 11,
    "start_time": "2023-01-11T12:59:19.380Z"
   },
   {
    "duration": 13,
    "start_time": "2023-01-11T12:59:19.393Z"
   },
   {
    "duration": 62,
    "start_time": "2023-01-11T12:59:19.408Z"
   },
   {
    "duration": 14,
    "start_time": "2023-01-11T12:59:19.472Z"
   },
   {
    "duration": 29,
    "start_time": "2023-01-11T12:59:19.488Z"
   },
   {
    "duration": 20,
    "start_time": "2023-01-11T12:59:19.519Z"
   },
   {
    "duration": 20,
    "start_time": "2023-01-11T12:59:19.541Z"
   },
   {
    "duration": 12,
    "start_time": "2023-01-11T12:59:19.563Z"
   },
   {
    "duration": 8,
    "start_time": "2023-01-11T12:59:19.577Z"
   },
   {
    "duration": 172,
    "start_time": "2023-01-11T12:59:19.587Z"
   },
   {
    "duration": 10,
    "start_time": "2023-01-11T12:59:19.761Z"
   },
   {
    "duration": 16,
    "start_time": "2023-01-11T12:59:19.773Z"
   },
   {
    "duration": 151,
    "start_time": "2023-01-11T12:59:19.791Z"
   },
   {
    "duration": 52,
    "start_time": "2023-01-11T12:59:19.945Z"
   },
   {
    "duration": 379,
    "start_time": "2023-01-11T12:59:19.999Z"
   },
   {
    "duration": 374,
    "start_time": "2023-01-11T12:59:20.384Z"
   },
   {
    "duration": 418,
    "start_time": "2023-01-11T12:59:20.760Z"
   },
   {
    "duration": 6,
    "start_time": "2023-01-11T12:59:21.180Z"
   },
   {
    "duration": 336,
    "start_time": "2023-01-11T12:59:21.187Z"
   },
   {
    "duration": 346,
    "start_time": "2023-01-11T12:59:21.524Z"
   },
   {
    "duration": 14,
    "start_time": "2023-01-11T12:59:21.872Z"
   },
   {
    "duration": 25,
    "start_time": "2023-01-11T12:59:21.888Z"
   },
   {
    "duration": 213,
    "start_time": "2023-01-11T12:59:21.916Z"
   },
   {
    "duration": 48,
    "start_time": "2023-01-11T12:59:22.130Z"
   },
   {
    "duration": 0,
    "start_time": "2023-01-11T12:59:22.180Z"
   },
   {
    "duration": 0,
    "start_time": "2023-01-11T12:59:22.181Z"
   },
   {
    "duration": 0,
    "start_time": "2023-01-11T12:59:22.182Z"
   },
   {
    "duration": 0,
    "start_time": "2023-01-11T12:59:22.184Z"
   },
   {
    "duration": 0,
    "start_time": "2023-01-11T12:59:22.185Z"
   },
   {
    "duration": 0,
    "start_time": "2023-01-11T12:59:22.186Z"
   },
   {
    "duration": 0,
    "start_time": "2023-01-11T12:59:22.188Z"
   },
   {
    "duration": 0,
    "start_time": "2023-01-11T12:59:22.190Z"
   },
   {
    "duration": 0,
    "start_time": "2023-01-11T12:59:22.192Z"
   },
   {
    "duration": 0,
    "start_time": "2023-01-11T12:59:22.194Z"
   },
   {
    "duration": 0,
    "start_time": "2023-01-11T12:59:22.195Z"
   },
   {
    "duration": 0,
    "start_time": "2023-01-11T12:59:22.197Z"
   },
   {
    "duration": 0,
    "start_time": "2023-01-11T12:59:22.199Z"
   },
   {
    "duration": 0,
    "start_time": "2023-01-11T12:59:22.201Z"
   },
   {
    "duration": 0,
    "start_time": "2023-01-11T12:59:22.202Z"
   },
   {
    "duration": 0,
    "start_time": "2023-01-11T12:59:22.203Z"
   },
   {
    "duration": 0,
    "start_time": "2023-01-11T12:59:22.205Z"
   },
   {
    "duration": 0,
    "start_time": "2023-01-11T12:59:22.207Z"
   },
   {
    "duration": 0,
    "start_time": "2023-01-11T12:59:22.209Z"
   },
   {
    "duration": 0,
    "start_time": "2023-01-11T12:59:22.210Z"
   },
   {
    "duration": 0,
    "start_time": "2023-01-11T12:59:22.212Z"
   },
   {
    "duration": 1576,
    "start_time": "2023-01-12T11:28:30.747Z"
   },
   {
    "duration": 70,
    "start_time": "2023-01-12T11:28:32.326Z"
   },
   {
    "duration": 13,
    "start_time": "2023-01-12T11:28:32.398Z"
   },
   {
    "duration": 10,
    "start_time": "2023-01-12T11:28:32.413Z"
   },
   {
    "duration": 12,
    "start_time": "2023-01-12T11:28:32.425Z"
   },
   {
    "duration": 17,
    "start_time": "2023-01-12T11:28:32.439Z"
   },
   {
    "duration": 32,
    "start_time": "2023-01-12T11:28:32.458Z"
   },
   {
    "duration": 11,
    "start_time": "2023-01-12T11:28:32.493Z"
   },
   {
    "duration": 8,
    "start_time": "2023-01-12T11:28:32.506Z"
   },
   {
    "duration": 15,
    "start_time": "2023-01-12T11:28:32.516Z"
   },
   {
    "duration": 166,
    "start_time": "2023-01-12T11:28:32.533Z"
   },
   {
    "duration": 18,
    "start_time": "2023-01-12T11:28:32.701Z"
   },
   {
    "duration": 20,
    "start_time": "2023-01-12T11:28:32.721Z"
   },
   {
    "duration": 28,
    "start_time": "2023-01-12T11:28:32.746Z"
   },
   {
    "duration": 23,
    "start_time": "2023-01-12T11:28:32.777Z"
   },
   {
    "duration": 16,
    "start_time": "2023-01-12T11:28:32.802Z"
   },
   {
    "duration": 8,
    "start_time": "2023-01-12T11:28:32.820Z"
   },
   {
    "duration": 195,
    "start_time": "2023-01-12T11:28:32.830Z"
   },
   {
    "duration": 12,
    "start_time": "2023-01-12T11:28:33.027Z"
   },
   {
    "duration": 20,
    "start_time": "2023-01-12T11:28:33.052Z"
   },
   {
    "duration": 167,
    "start_time": "2023-01-12T11:28:33.074Z"
   },
   {
    "duration": 25,
    "start_time": "2023-01-12T11:28:33.243Z"
   },
   {
    "duration": 321,
    "start_time": "2023-01-12T11:28:33.270Z"
   },
   {
    "duration": 210,
    "start_time": "2023-01-12T11:28:33.593Z"
   },
   {
    "duration": 389,
    "start_time": "2023-01-12T11:28:33.804Z"
   },
   {
    "duration": 9,
    "start_time": "2023-01-12T11:28:34.196Z"
   },
   {
    "duration": 298,
    "start_time": "2023-01-12T11:28:34.207Z"
   },
   {
    "duration": 229,
    "start_time": "2023-01-12T11:28:34.508Z"
   },
   {
    "duration": 30,
    "start_time": "2023-01-12T11:28:34.739Z"
   },
   {
    "duration": 24,
    "start_time": "2023-01-12T11:28:34.771Z"
   },
   {
    "duration": 134,
    "start_time": "2023-01-12T11:28:34.797Z"
   },
   {
    "duration": 24,
    "start_time": "2023-01-12T11:28:34.933Z"
   },
   {
    "duration": 209,
    "start_time": "2023-01-12T11:28:34.959Z"
   },
   {
    "duration": 132,
    "start_time": "2023-01-12T11:28:35.170Z"
   },
   {
    "duration": 0,
    "start_time": "2023-01-12T11:28:35.310Z"
   },
   {
    "duration": 0,
    "start_time": "2023-01-12T11:28:35.313Z"
   },
   {
    "duration": 0,
    "start_time": "2023-01-12T11:28:35.315Z"
   },
   {
    "duration": 0,
    "start_time": "2023-01-12T11:28:35.316Z"
   },
   {
    "duration": 0,
    "start_time": "2023-01-12T11:28:35.318Z"
   },
   {
    "duration": 0,
    "start_time": "2023-01-12T11:28:35.320Z"
   },
   {
    "duration": 0,
    "start_time": "2023-01-12T11:28:35.322Z"
   },
   {
    "duration": 0,
    "start_time": "2023-01-12T11:28:35.323Z"
   },
   {
    "duration": 0,
    "start_time": "2023-01-12T11:28:35.324Z"
   },
   {
    "duration": 0,
    "start_time": "2023-01-12T11:28:35.326Z"
   },
   {
    "duration": 0,
    "start_time": "2023-01-12T11:28:35.329Z"
   },
   {
    "duration": 0,
    "start_time": "2023-01-12T11:28:35.330Z"
   },
   {
    "duration": 0,
    "start_time": "2023-01-12T11:28:35.332Z"
   },
   {
    "duration": 0,
    "start_time": "2023-01-12T11:28:35.335Z"
   },
   {
    "duration": 0,
    "start_time": "2023-01-12T11:28:35.336Z"
   },
   {
    "duration": 0,
    "start_time": "2023-01-12T11:28:35.338Z"
   },
   {
    "duration": 0,
    "start_time": "2023-01-12T11:28:35.341Z"
   },
   {
    "duration": 0,
    "start_time": "2023-01-12T11:28:35.342Z"
   },
   {
    "duration": 247,
    "start_time": "2023-01-12T11:31:34.462Z"
   },
   {
    "duration": 305,
    "start_time": "2023-01-12T11:31:38.601Z"
   },
   {
    "duration": 5,
    "start_time": "2023-01-12T11:33:45.314Z"
   },
   {
    "duration": 100,
    "start_time": "2023-01-12T11:33:46.690Z"
   },
   {
    "duration": 17,
    "start_time": "2023-01-12T11:33:47.618Z"
   },
   {
    "duration": 63,
    "start_time": "2023-01-12T11:33:48.365Z"
   },
   {
    "duration": 63,
    "start_time": "2023-01-12T11:33:48.820Z"
   },
   {
    "duration": 27,
    "start_time": "2023-01-12T11:33:49.037Z"
   },
   {
    "duration": 201,
    "start_time": "2023-01-12T11:33:49.176Z"
   },
   {
    "duration": 11,
    "start_time": "2023-01-12T11:33:49.381Z"
   },
   {
    "duration": 18,
    "start_time": "2023-01-12T11:33:49.521Z"
   },
   {
    "duration": 8,
    "start_time": "2023-01-12T11:33:52.700Z"
   },
   {
    "duration": 25,
    "start_time": "2023-01-12T11:33:52.869Z"
   },
   {
    "duration": 13,
    "start_time": "2023-01-12T11:36:02.495Z"
   },
   {
    "duration": 20,
    "start_time": "2023-01-12T11:36:26.745Z"
   },
   {
    "duration": 6,
    "start_time": "2023-01-12T11:36:27.100Z"
   },
   {
    "duration": 10,
    "start_time": "2023-01-12T11:36:27.284Z"
   },
   {
    "duration": 41,
    "start_time": "2023-01-12T11:36:27.878Z"
   },
   {
    "duration": 121,
    "start_time": "2023-01-12T11:36:28.422Z"
   },
   {
    "duration": 23,
    "start_time": "2023-01-12T11:36:28.767Z"
   },
   {
    "duration": 1356,
    "start_time": "2023-01-12T13:16:56.971Z"
   },
   {
    "duration": 64,
    "start_time": "2023-01-12T13:16:58.329Z"
   },
   {
    "duration": 13,
    "start_time": "2023-01-12T13:16:58.395Z"
   },
   {
    "duration": 3,
    "start_time": "2023-01-12T13:16:58.410Z"
   },
   {
    "duration": 14,
    "start_time": "2023-01-12T13:16:58.414Z"
   },
   {
    "duration": 10,
    "start_time": "2023-01-12T13:16:58.429Z"
   },
   {
    "duration": 10,
    "start_time": "2023-01-12T13:16:58.500Z"
   },
   {
    "duration": 8,
    "start_time": "2023-01-12T13:16:58.864Z"
   },
   {
    "duration": 4,
    "start_time": "2023-01-12T13:16:59.968Z"
   },
   {
    "duration": 7,
    "start_time": "2023-01-12T13:17:00.328Z"
   },
   {
    "duration": 149,
    "start_time": "2023-01-12T13:17:08.400Z"
   },
   {
    "duration": 11,
    "start_time": "2023-01-12T13:17:08.592Z"
   },
   {
    "duration": 11,
    "start_time": "2023-01-12T13:17:08.799Z"
   },
   {
    "duration": 15,
    "start_time": "2023-01-12T13:17:09.063Z"
   },
   {
    "duration": 13,
    "start_time": "2023-01-12T13:17:09.240Z"
   },
   {
    "duration": 8,
    "start_time": "2023-01-12T13:17:09.544Z"
   },
   {
    "duration": 5,
    "start_time": "2023-01-12T13:17:09.815Z"
   },
   {
    "duration": 182,
    "start_time": "2023-01-12T13:17:10.080Z"
   },
   {
    "duration": 11,
    "start_time": "2023-01-12T13:17:10.305Z"
   },
   {
    "duration": 11,
    "start_time": "2023-01-12T13:17:10.511Z"
   },
   {
    "duration": 139,
    "start_time": "2023-01-12T13:17:10.752Z"
   },
   {
    "duration": 13,
    "start_time": "2023-01-12T13:17:10.991Z"
   },
   {
    "duration": 278,
    "start_time": "2023-01-12T13:17:15.488Z"
   },
   {
    "duration": 364,
    "start_time": "2023-01-12T13:17:24.712Z"
   },
   {
    "duration": 275,
    "start_time": "2023-01-12T13:17:39.544Z"
   },
   {
    "duration": 258,
    "start_time": "2023-01-12T13:19:29.719Z"
   },
   {
    "duration": 230,
    "start_time": "2023-01-12T13:19:50.951Z"
   },
   {
    "duration": 417,
    "start_time": "2023-01-12T13:20:12.678Z"
   },
   {
    "duration": 102,
    "start_time": "2023-01-12T13:20:33.702Z"
   },
   {
    "duration": 8,
    "start_time": "2023-01-12T13:20:38.399Z"
   },
   {
    "duration": 289,
    "start_time": "2023-01-12T13:20:38.847Z"
   },
   {
    "duration": 326,
    "start_time": "2023-01-12T13:21:15.334Z"
   },
   {
    "duration": 111,
    "start_time": "2023-01-12T13:21:43.071Z"
   },
   {
    "duration": 177,
    "start_time": "2023-01-12T13:21:58.533Z"
   },
   {
    "duration": 181,
    "start_time": "2023-01-12T13:22:29.973Z"
   },
   {
    "duration": 4,
    "start_time": "2023-01-12T13:24:23.172Z"
   },
   {
    "duration": 11,
    "start_time": "2023-01-12T13:24:23.500Z"
   },
   {
    "duration": 6,
    "start_time": "2023-01-12T13:24:37.916Z"
   },
   {
    "duration": 7,
    "start_time": "2023-01-12T13:24:43.188Z"
   },
   {
    "duration": 6,
    "start_time": "2023-01-12T13:24:47.852Z"
   },
   {
    "duration": 6,
    "start_time": "2023-01-12T13:24:51.435Z"
   },
   {
    "duration": 1205,
    "start_time": "2023-01-12T13:25:11.117Z"
   },
   {
    "duration": 29,
    "start_time": "2023-01-12T13:25:12.324Z"
   },
   {
    "duration": 12,
    "start_time": "2023-01-12T13:25:12.355Z"
   },
   {
    "duration": 3,
    "start_time": "2023-01-12T13:25:12.370Z"
   },
   {
    "duration": 14,
    "start_time": "2023-01-12T13:25:12.374Z"
   },
   {
    "duration": 6,
    "start_time": "2023-01-12T13:25:12.390Z"
   },
   {
    "duration": 10,
    "start_time": "2023-01-12T13:25:12.398Z"
   },
   {
    "duration": 47,
    "start_time": "2023-01-12T13:25:12.412Z"
   },
   {
    "duration": 8,
    "start_time": "2023-01-12T13:25:12.461Z"
   },
   {
    "duration": 14,
    "start_time": "2023-01-12T13:25:12.471Z"
   },
   {
    "duration": 62,
    "start_time": "2023-01-12T13:25:12.487Z"
   },
   {
    "duration": 12,
    "start_time": "2023-01-12T13:25:12.550Z"
   },
   {
    "duration": 12,
    "start_time": "2023-01-12T13:25:12.564Z"
   },
   {
    "duration": 16,
    "start_time": "2023-01-12T13:25:12.578Z"
   },
   {
    "duration": 17,
    "start_time": "2023-01-12T13:25:12.596Z"
   },
   {
    "duration": 15,
    "start_time": "2023-01-12T13:25:12.616Z"
   },
   {
    "duration": 14,
    "start_time": "2023-01-12T13:25:12.632Z"
   },
   {
    "duration": 173,
    "start_time": "2023-01-12T13:25:12.647Z"
   },
   {
    "duration": 12,
    "start_time": "2023-01-12T13:25:12.822Z"
   },
   {
    "duration": 12,
    "start_time": "2023-01-12T13:25:12.836Z"
   },
   {
    "duration": 148,
    "start_time": "2023-01-12T13:25:12.850Z"
   },
   {
    "duration": 19,
    "start_time": "2023-01-12T13:25:13.000Z"
   },
   {
    "duration": 366,
    "start_time": "2023-01-12T13:25:13.021Z"
   },
   {
    "duration": 256,
    "start_time": "2023-01-12T13:25:13.388Z"
   },
   {
    "duration": 327,
    "start_time": "2023-01-12T13:25:13.646Z"
   },
   {
    "duration": 6,
    "start_time": "2023-01-12T13:25:13.975Z"
   },
   {
    "duration": 309,
    "start_time": "2023-01-12T13:25:13.982Z"
   },
   {
    "duration": 234,
    "start_time": "2023-01-12T13:25:14.295Z"
   },
   {
    "duration": 13,
    "start_time": "2023-01-12T13:25:14.531Z"
   },
   {
    "duration": 15,
    "start_time": "2023-01-12T13:25:14.546Z"
   },
   {
    "duration": 181,
    "start_time": "2023-01-12T13:25:14.562Z"
   },
   {
    "duration": 4,
    "start_time": "2023-01-12T13:25:14.745Z"
   },
   {
    "duration": 207,
    "start_time": "2023-01-12T13:25:14.750Z"
   },
   {
    "duration": 4,
    "start_time": "2023-01-12T13:25:14.959Z"
   },
   {
    "duration": 102,
    "start_time": "2023-01-12T13:25:14.965Z"
   },
   {
    "duration": 15,
    "start_time": "2023-01-12T13:25:15.069Z"
   },
   {
    "duration": 76,
    "start_time": "2023-01-12T13:25:15.085Z"
   },
   {
    "duration": 69,
    "start_time": "2023-01-12T13:25:15.163Z"
   },
   {
    "duration": 22,
    "start_time": "2023-01-12T13:25:15.234Z"
   },
   {
    "duration": 180,
    "start_time": "2023-01-12T13:25:15.258Z"
   },
   {
    "duration": 9,
    "start_time": "2023-01-12T13:25:15.440Z"
   },
   {
    "duration": 20,
    "start_time": "2023-01-12T13:25:15.451Z"
   },
   {
    "duration": 7,
    "start_time": "2023-01-12T13:25:15.473Z"
   },
   {
    "duration": 46,
    "start_time": "2023-01-12T13:25:15.481Z"
   },
   {
    "duration": 12,
    "start_time": "2023-01-12T13:25:15.529Z"
   },
   {
    "duration": 15,
    "start_time": "2023-01-12T13:25:15.543Z"
   },
   {
    "duration": 10,
    "start_time": "2023-01-12T13:25:15.560Z"
   },
   {
    "duration": 6,
    "start_time": "2023-01-12T13:25:15.572Z"
   },
   {
    "duration": 52,
    "start_time": "2023-01-12T13:25:15.579Z"
   },
   {
    "duration": 15,
    "start_time": "2023-01-12T13:25:15.632Z"
   },
   {
    "duration": 7,
    "start_time": "2023-01-12T13:25:42.842Z"
   },
   {
    "duration": 8,
    "start_time": "2023-01-12T13:25:47.339Z"
   },
   {
    "duration": 8,
    "start_time": "2023-01-12T13:25:51.570Z"
   },
   {
    "duration": 7,
    "start_time": "2023-01-12T13:26:03.571Z"
   },
   {
    "duration": 7,
    "start_time": "2023-01-12T13:26:10.563Z"
   },
   {
    "duration": 9,
    "start_time": "2023-01-12T13:26:16.227Z"
   },
   {
    "duration": 9,
    "start_time": "2023-01-12T13:26:19.948Z"
   },
   {
    "duration": 10,
    "start_time": "2023-01-12T13:26:23.603Z"
   },
   {
    "duration": 7,
    "start_time": "2023-01-12T13:26:27.442Z"
   },
   {
    "duration": 8,
    "start_time": "2023-01-12T13:26:31.178Z"
   },
   {
    "duration": 7,
    "start_time": "2023-01-12T13:26:35.523Z"
   },
   {
    "duration": 7,
    "start_time": "2023-01-12T13:26:39.626Z"
   },
   {
    "duration": 8,
    "start_time": "2023-01-12T13:26:46.161Z"
   },
   {
    "duration": 8,
    "start_time": "2023-01-12T13:26:50.226Z"
   },
   {
    "duration": 10,
    "start_time": "2023-01-12T13:26:53.986Z"
   },
   {
    "duration": 7,
    "start_time": "2023-01-12T13:26:58.530Z"
   },
   {
    "duration": 5,
    "start_time": "2023-01-12T13:28:01.929Z"
   },
   {
    "duration": 10,
    "start_time": "2023-01-12T13:28:02.787Z"
   },
   {
    "duration": 7,
    "start_time": "2023-01-12T13:28:11.123Z"
   },
   {
    "duration": 15,
    "start_time": "2023-01-12T13:28:12.481Z"
   },
   {
    "duration": 5,
    "start_time": "2023-01-12T13:28:18.113Z"
   },
   {
    "duration": 11,
    "start_time": "2023-01-12T13:28:18.345Z"
   },
   {
    "duration": 9,
    "start_time": "2023-01-12T13:28:29.104Z"
   },
   {
    "duration": 12,
    "start_time": "2023-01-12T13:28:33.945Z"
   },
   {
    "duration": 12,
    "start_time": "2023-01-12T13:28:37.496Z"
   },
   {
    "duration": 8,
    "start_time": "2023-01-12T13:28:41.336Z"
   },
   {
    "duration": 9,
    "start_time": "2023-01-12T13:28:45.416Z"
   },
   {
    "duration": 9,
    "start_time": "2023-01-12T13:29:00.857Z"
   },
   {
    "duration": 8,
    "start_time": "2023-01-12T13:29:08.336Z"
   },
   {
    "duration": 1201,
    "start_time": "2023-01-12T13:29:20.828Z"
   },
   {
    "duration": 28,
    "start_time": "2023-01-12T13:29:22.032Z"
   },
   {
    "duration": 11,
    "start_time": "2023-01-12T13:29:22.063Z"
   },
   {
    "duration": 3,
    "start_time": "2023-01-12T13:29:22.076Z"
   },
   {
    "duration": 10,
    "start_time": "2023-01-12T13:29:22.081Z"
   },
   {
    "duration": 6,
    "start_time": "2023-01-12T13:29:22.093Z"
   },
   {
    "duration": 11,
    "start_time": "2023-01-12T13:29:22.101Z"
   },
   {
    "duration": 9,
    "start_time": "2023-01-12T13:29:22.113Z"
   },
   {
    "duration": 7,
    "start_time": "2023-01-12T13:29:22.124Z"
   },
   {
    "duration": 17,
    "start_time": "2023-01-12T13:29:22.132Z"
   },
   {
    "duration": 60,
    "start_time": "2023-01-12T13:29:22.151Z"
   },
   {
    "duration": 13,
    "start_time": "2023-01-12T13:29:22.213Z"
   },
   {
    "duration": 12,
    "start_time": "2023-01-12T13:29:22.228Z"
   },
   {
    "duration": 13,
    "start_time": "2023-01-12T13:29:22.243Z"
   },
   {
    "duration": 13,
    "start_time": "2023-01-12T13:29:22.257Z"
   },
   {
    "duration": 13,
    "start_time": "2023-01-12T13:29:22.273Z"
   },
   {
    "duration": 28,
    "start_time": "2023-01-12T13:29:22.288Z"
   },
   {
    "duration": 174,
    "start_time": "2023-01-12T13:29:22.318Z"
   },
   {
    "duration": 19,
    "start_time": "2023-01-12T13:29:22.493Z"
   },
   {
    "duration": 12,
    "start_time": "2023-01-12T13:29:22.514Z"
   },
   {
    "duration": 135,
    "start_time": "2023-01-12T13:29:22.528Z"
   },
   {
    "duration": 10,
    "start_time": "2023-01-12T13:29:22.665Z"
   },
   {
    "duration": 354,
    "start_time": "2023-01-12T13:29:22.677Z"
   },
   {
    "duration": 255,
    "start_time": "2023-01-12T13:29:23.033Z"
   },
   {
    "duration": 348,
    "start_time": "2023-01-12T13:29:23.290Z"
   },
   {
    "duration": 6,
    "start_time": "2023-01-12T13:29:23.639Z"
   },
   {
    "duration": 289,
    "start_time": "2023-01-12T13:29:23.646Z"
   },
   {
    "duration": 233,
    "start_time": "2023-01-12T13:29:23.937Z"
   },
   {
    "duration": 13,
    "start_time": "2023-01-12T13:29:24.171Z"
   },
   {
    "duration": 36,
    "start_time": "2023-01-12T13:29:24.186Z"
   },
   {
    "duration": 177,
    "start_time": "2023-01-12T13:29:24.223Z"
   },
   {
    "duration": 4,
    "start_time": "2023-01-12T13:29:24.402Z"
   },
   {
    "duration": 208,
    "start_time": "2023-01-12T13:29:24.408Z"
   },
   {
    "duration": 4,
    "start_time": "2023-01-12T13:29:24.617Z"
   },
   {
    "duration": 112,
    "start_time": "2023-01-12T13:29:24.622Z"
   },
   {
    "duration": 21,
    "start_time": "2023-01-12T13:29:24.735Z"
   },
   {
    "duration": 74,
    "start_time": "2023-01-12T13:29:24.758Z"
   },
   {
    "duration": 65,
    "start_time": "2023-01-12T13:29:24.834Z"
   },
   {
    "duration": 20,
    "start_time": "2023-01-12T13:29:24.912Z"
   },
   {
    "duration": 167,
    "start_time": "2023-01-12T13:29:24.936Z"
   },
   {
    "duration": 9,
    "start_time": "2023-01-12T13:29:25.114Z"
   },
   {
    "duration": 17,
    "start_time": "2023-01-12T13:29:25.125Z"
   },
   {
    "duration": 8,
    "start_time": "2023-01-12T13:29:25.144Z"
   },
   {
    "duration": 24,
    "start_time": "2023-01-12T13:29:25.154Z"
   },
   {
    "duration": 12,
    "start_time": "2023-01-12T13:29:25.179Z"
   },
   {
    "duration": 27,
    "start_time": "2023-01-12T13:29:25.192Z"
   },
   {
    "duration": 7,
    "start_time": "2023-01-12T13:29:25.221Z"
   },
   {
    "duration": 8,
    "start_time": "2023-01-12T13:29:25.229Z"
   },
   {
    "duration": 22,
    "start_time": "2023-01-12T13:29:25.238Z"
   },
   {
    "duration": 15,
    "start_time": "2023-01-12T13:29:25.262Z"
   },
   {
    "duration": 7,
    "start_time": "2023-01-12T13:29:38.068Z"
   },
   {
    "duration": 8,
    "start_time": "2023-01-12T13:30:23.849Z"
   },
   {
    "duration": 7,
    "start_time": "2023-01-12T13:30:46.998Z"
   },
   {
    "duration": 10,
    "start_time": "2023-01-12T13:30:55.048Z"
   },
   {
    "duration": 10,
    "start_time": "2023-01-12T13:31:04.161Z"
   },
   {
    "duration": 5,
    "start_time": "2023-01-12T13:31:11.000Z"
   },
   {
    "duration": 10,
    "start_time": "2023-01-12T13:31:11.640Z"
   },
   {
    "duration": 10,
    "start_time": "2023-01-12T13:31:28.784Z"
   },
   {
    "duration": 11,
    "start_time": "2023-01-12T13:35:19.942Z"
   },
   {
    "duration": 17,
    "start_time": "2023-01-12T13:37:14.923Z"
   },
   {
    "duration": 6,
    "start_time": "2023-01-12T13:37:34.443Z"
   },
   {
    "duration": 4,
    "start_time": "2023-01-12T13:39:36.738Z"
   },
   {
    "duration": 6,
    "start_time": "2023-01-12T13:40:02.089Z"
   },
   {
    "duration": 7,
    "start_time": "2023-01-12T13:40:29.129Z"
   },
   {
    "duration": 7,
    "start_time": "2023-01-12T13:40:45.312Z"
   },
   {
    "duration": 7,
    "start_time": "2023-01-12T13:40:48.120Z"
   },
   {
    "duration": 97,
    "start_time": "2023-01-12T13:41:11.665Z"
   },
   {
    "duration": 4,
    "start_time": "2023-01-12T13:41:42.337Z"
   },
   {
    "duration": 5,
    "start_time": "2023-01-12T13:41:45.704Z"
   },
   {
    "duration": 6,
    "start_time": "2023-01-12T13:42:05.534Z"
   },
   {
    "duration": 5,
    "start_time": "2023-01-12T13:46:32.477Z"
   },
   {
    "duration": 128,
    "start_time": "2023-01-12T13:47:18.445Z"
   },
   {
    "duration": 4,
    "start_time": "2023-01-12T13:47:30.756Z"
   },
   {
    "duration": 6,
    "start_time": "2023-01-12T13:47:40.048Z"
   },
   {
    "duration": 5,
    "start_time": "2023-01-12T13:47:43.343Z"
   },
   {
    "duration": 349,
    "start_time": "2023-01-12T13:47:47.356Z"
   },
   {
    "duration": 0,
    "start_time": "2023-01-12T13:47:47.708Z"
   },
   {
    "duration": 5,
    "start_time": "2023-01-12T13:47:47.762Z"
   },
   {
    "duration": 4,
    "start_time": "2023-01-12T13:47:58.059Z"
   },
   {
    "duration": 1195,
    "start_time": "2023-01-12T13:48:23.884Z"
   },
   {
    "duration": 29,
    "start_time": "2023-01-12T13:48:25.082Z"
   },
   {
    "duration": 14,
    "start_time": "2023-01-12T13:48:25.113Z"
   },
   {
    "duration": 4,
    "start_time": "2023-01-12T13:48:25.129Z"
   },
   {
    "duration": 13,
    "start_time": "2023-01-12T13:48:25.136Z"
   },
   {
    "duration": 7,
    "start_time": "2023-01-12T13:48:25.151Z"
   },
   {
    "duration": 16,
    "start_time": "2023-01-12T13:48:25.161Z"
   },
   {
    "duration": 38,
    "start_time": "2023-01-12T13:48:25.179Z"
   },
   {
    "duration": 12,
    "start_time": "2023-01-12T13:48:25.219Z"
   },
   {
    "duration": 55,
    "start_time": "2023-01-12T13:48:25.232Z"
   },
   {
    "duration": 11,
    "start_time": "2023-01-12T13:48:25.289Z"
   },
   {
    "duration": 13,
    "start_time": "2023-01-12T13:48:25.302Z"
   },
   {
    "duration": 17,
    "start_time": "2023-01-12T13:48:25.317Z"
   },
   {
    "duration": 15,
    "start_time": "2023-01-12T13:48:25.337Z"
   },
   {
    "duration": 5,
    "start_time": "2023-01-12T13:48:25.354Z"
   },
   {
    "duration": 11,
    "start_time": "2023-01-12T13:48:25.360Z"
   },
   {
    "duration": 6,
    "start_time": "2023-01-12T13:48:25.374Z"
   },
   {
    "duration": 38,
    "start_time": "2023-01-12T13:48:25.382Z"
   },
   {
    "duration": 9,
    "start_time": "2023-01-12T13:48:25.422Z"
   },
   {
    "duration": 11,
    "start_time": "2023-01-12T13:48:25.433Z"
   },
   {
    "duration": 8,
    "start_time": "2023-01-12T13:48:25.446Z"
   },
   {
    "duration": 15,
    "start_time": "2023-01-12T13:48:25.455Z"
   },
   {
    "duration": 200,
    "start_time": "2023-01-12T13:48:25.473Z"
   },
   {
    "duration": 12,
    "start_time": "2023-01-12T13:48:25.674Z"
   },
   {
    "duration": 29,
    "start_time": "2023-01-12T13:48:25.688Z"
   },
   {
    "duration": 142,
    "start_time": "2023-01-12T13:48:25.719Z"
   },
   {
    "duration": 12,
    "start_time": "2023-01-12T13:48:25.863Z"
   },
   {
    "duration": 402,
    "start_time": "2023-01-12T13:48:25.877Z"
   },
   {
    "duration": 320,
    "start_time": "2023-01-12T13:48:26.281Z"
   },
   {
    "duration": 359,
    "start_time": "2023-01-12T13:48:26.602Z"
   },
   {
    "duration": 6,
    "start_time": "2023-01-12T13:48:26.963Z"
   },
   {
    "duration": 277,
    "start_time": "2023-01-12T13:48:26.970Z"
   },
   {
    "duration": 232,
    "start_time": "2023-01-12T13:48:27.249Z"
   },
   {
    "duration": 13,
    "start_time": "2023-01-12T13:48:27.483Z"
   },
   {
    "duration": 19,
    "start_time": "2023-01-12T13:48:27.498Z"
   },
   {
    "duration": 176,
    "start_time": "2023-01-12T13:48:27.519Z"
   },
   {
    "duration": 4,
    "start_time": "2023-01-12T13:48:27.697Z"
   },
   {
    "duration": 184,
    "start_time": "2023-01-12T13:48:27.703Z"
   },
   {
    "duration": 5,
    "start_time": "2023-01-12T13:48:27.888Z"
   },
   {
    "duration": 100,
    "start_time": "2023-01-12T13:48:27.895Z"
   },
   {
    "duration": 22,
    "start_time": "2023-01-12T13:48:28.000Z"
   },
   {
    "duration": 61,
    "start_time": "2023-01-12T13:48:28.024Z"
   },
   {
    "duration": 76,
    "start_time": "2023-01-12T13:48:28.087Z"
   },
   {
    "duration": 26,
    "start_time": "2023-01-12T13:48:28.165Z"
   },
   {
    "duration": 176,
    "start_time": "2023-01-12T13:48:28.193Z"
   },
   {
    "duration": 10,
    "start_time": "2023-01-12T13:48:28.371Z"
   },
   {
    "duration": 31,
    "start_time": "2023-01-12T13:48:28.383Z"
   },
   {
    "duration": 6,
    "start_time": "2023-01-12T13:48:28.416Z"
   },
   {
    "duration": 24,
    "start_time": "2023-01-12T13:48:28.423Z"
   },
   {
    "duration": 12,
    "start_time": "2023-01-12T13:48:28.450Z"
   },
   {
    "duration": 22,
    "start_time": "2023-01-12T13:48:28.464Z"
   },
   {
    "duration": 25,
    "start_time": "2023-01-12T13:48:28.488Z"
   },
   {
    "duration": 8,
    "start_time": "2023-01-12T13:48:28.516Z"
   },
   {
    "duration": 23,
    "start_time": "2023-01-12T13:48:28.526Z"
   },
   {
    "duration": 14,
    "start_time": "2023-01-12T13:48:28.551Z"
   },
   {
    "duration": 66,
    "start_time": "2023-01-12T13:48:48.867Z"
   },
   {
    "duration": 3,
    "start_time": "2023-01-12T13:48:53.938Z"
   },
   {
    "duration": 4,
    "start_time": "2023-01-12T13:49:13.731Z"
   },
   {
    "duration": 8,
    "start_time": "2023-01-12T13:53:23.787Z"
   },
   {
    "duration": 57,
    "start_time": "2023-01-13T09:03:40.809Z"
   },
   {
    "duration": 1563,
    "start_time": "2023-01-13T09:04:39.083Z"
   },
   {
    "duration": 60,
    "start_time": "2023-01-13T09:04:40.648Z"
   },
   {
    "duration": 17,
    "start_time": "2023-01-13T09:04:40.711Z"
   },
   {
    "duration": 3,
    "start_time": "2023-01-13T09:04:40.730Z"
   },
   {
    "duration": 13,
    "start_time": "2023-01-13T09:04:40.736Z"
   },
   {
    "duration": 9,
    "start_time": "2023-01-13T09:04:40.751Z"
   },
   {
    "duration": 11,
    "start_time": "2023-01-13T09:04:40.761Z"
   },
   {
    "duration": 7,
    "start_time": "2023-01-13T09:04:40.775Z"
   },
   {
    "duration": 12,
    "start_time": "2023-01-13T09:04:40.784Z"
   },
   {
    "duration": 130,
    "start_time": "2023-01-13T09:04:40.798Z"
   },
   {
    "duration": 14,
    "start_time": "2023-01-13T09:04:40.931Z"
   },
   {
    "duration": 17,
    "start_time": "2023-01-13T09:04:40.947Z"
   },
   {
    "duration": 16,
    "start_time": "2023-01-13T09:04:40.965Z"
   },
   {
    "duration": 30,
    "start_time": "2023-01-13T09:04:40.986Z"
   },
   {
    "duration": 11,
    "start_time": "2023-01-13T09:04:41.017Z"
   },
   {
    "duration": 8,
    "start_time": "2023-01-13T09:04:41.030Z"
   },
   {
    "duration": 10,
    "start_time": "2023-01-13T09:04:41.041Z"
   },
   {
    "duration": 33,
    "start_time": "2023-01-13T09:04:41.053Z"
   },
   {
    "duration": 7,
    "start_time": "2023-01-13T09:04:41.088Z"
   },
   {
    "duration": 8,
    "start_time": "2023-01-13T09:04:41.097Z"
   },
   {
    "duration": 18,
    "start_time": "2023-01-13T09:04:41.107Z"
   },
   {
    "duration": 10,
    "start_time": "2023-01-13T09:04:41.127Z"
   },
   {
    "duration": 39,
    "start_time": "2023-01-13T09:04:41.139Z"
   },
   {
    "duration": 200,
    "start_time": "2023-01-13T09:04:41.181Z"
   },
   {
    "duration": 13,
    "start_time": "2023-01-13T09:04:41.387Z"
   },
   {
    "duration": 20,
    "start_time": "2023-01-13T09:04:41.403Z"
   },
   {
    "duration": 153,
    "start_time": "2023-01-13T09:04:41.425Z"
   },
   {
    "duration": 15,
    "start_time": "2023-01-13T09:04:41.580Z"
   },
   {
    "duration": 432,
    "start_time": "2023-01-13T09:04:41.596Z"
   },
   {
    "duration": 282,
    "start_time": "2023-01-13T09:04:42.030Z"
   },
   {
    "duration": 455,
    "start_time": "2023-01-13T09:04:42.316Z"
   },
   {
    "duration": 11,
    "start_time": "2023-01-13T09:04:42.773Z"
   },
   {
    "duration": 354,
    "start_time": "2023-01-13T09:04:42.786Z"
   },
   {
    "duration": 281,
    "start_time": "2023-01-13T09:04:43.143Z"
   },
   {
    "duration": 16,
    "start_time": "2023-01-13T09:04:43.427Z"
   },
   {
    "duration": 13,
    "start_time": "2023-01-13T09:04:43.445Z"
   },
   {
    "duration": 213,
    "start_time": "2023-01-13T09:04:43.479Z"
   },
   {
    "duration": 5,
    "start_time": "2023-01-13T09:04:43.695Z"
   },
   {
    "duration": 231,
    "start_time": "2023-01-13T09:04:43.702Z"
   },
   {
    "duration": 7,
    "start_time": "2023-01-13T09:04:43.935Z"
   },
   {
    "duration": 112,
    "start_time": "2023-01-13T09:04:43.948Z"
   },
   {
    "duration": 25,
    "start_time": "2023-01-13T09:04:44.062Z"
   },
   {
    "duration": 67,
    "start_time": "2023-01-13T09:04:44.089Z"
   },
   {
    "duration": 83,
    "start_time": "2023-01-13T09:04:44.158Z"
   },
   {
    "duration": 37,
    "start_time": "2023-01-13T09:04:44.243Z"
   },
   {
    "duration": 174,
    "start_time": "2023-01-13T09:04:44.283Z"
   },
   {
    "duration": 10,
    "start_time": "2023-01-13T09:04:44.459Z"
   },
   {
    "duration": 20,
    "start_time": "2023-01-13T09:04:44.478Z"
   },
   {
    "duration": 11,
    "start_time": "2023-01-13T09:04:44.501Z"
   },
   {
    "duration": 28,
    "start_time": "2023-01-13T09:04:44.513Z"
   },
   {
    "duration": 39,
    "start_time": "2023-01-13T09:04:44.543Z"
   },
   {
    "duration": 11,
    "start_time": "2023-01-13T09:04:44.584Z"
   },
   {
    "duration": 13,
    "start_time": "2023-01-13T09:04:44.597Z"
   },
   {
    "duration": 10,
    "start_time": "2023-01-13T09:04:44.613Z"
   },
   {
    "duration": 29,
    "start_time": "2023-01-13T09:04:44.625Z"
   },
   {
    "duration": 32,
    "start_time": "2023-01-13T09:04:44.656Z"
   },
   {
    "duration": 1354,
    "start_time": "2023-01-13T09:11:49.871Z"
   },
   {
    "duration": 28,
    "start_time": "2023-01-13T09:11:51.227Z"
   },
   {
    "duration": 12,
    "start_time": "2023-01-13T09:11:51.257Z"
   },
   {
    "duration": 13,
    "start_time": "2023-01-13T09:11:51.270Z"
   },
   {
    "duration": 28,
    "start_time": "2023-01-13T09:11:51.287Z"
   },
   {
    "duration": 16,
    "start_time": "2023-01-13T09:11:51.318Z"
   },
   {
    "duration": 16,
    "start_time": "2023-01-13T09:11:51.336Z"
   },
   {
    "duration": 14,
    "start_time": "2023-01-13T09:11:51.354Z"
   },
   {
    "duration": 22,
    "start_time": "2023-01-13T09:11:51.370Z"
   },
   {
    "duration": 62,
    "start_time": "2023-01-13T09:11:51.394Z"
   },
   {
    "duration": 14,
    "start_time": "2023-01-13T09:11:51.458Z"
   },
   {
    "duration": 33,
    "start_time": "2023-01-13T09:11:51.473Z"
   },
   {
    "duration": 28,
    "start_time": "2023-01-13T09:11:51.508Z"
   },
   {
    "duration": 22,
    "start_time": "2023-01-13T09:11:51.541Z"
   },
   {
    "duration": 16,
    "start_time": "2023-01-13T09:11:51.566Z"
   },
   {
    "duration": 11,
    "start_time": "2023-01-13T09:11:51.588Z"
   },
   {
    "duration": 15,
    "start_time": "2023-01-13T09:11:51.601Z"
   },
   {
    "duration": 13,
    "start_time": "2023-01-13T09:11:51.618Z"
   },
   {
    "duration": 7,
    "start_time": "2023-01-13T09:11:51.633Z"
   },
   {
    "duration": 10,
    "start_time": "2023-01-13T09:11:51.642Z"
   },
   {
    "duration": 29,
    "start_time": "2023-01-13T09:11:51.654Z"
   },
   {
    "duration": 13,
    "start_time": "2023-01-13T09:11:51.685Z"
   },
   {
    "duration": 10,
    "start_time": "2023-01-13T09:11:51.700Z"
   },
   {
    "duration": 212,
    "start_time": "2023-01-13T09:11:51.712Z"
   },
   {
    "duration": 14,
    "start_time": "2023-01-13T09:11:51.926Z"
   },
   {
    "duration": 22,
    "start_time": "2023-01-13T09:11:51.942Z"
   },
   {
    "duration": 160,
    "start_time": "2023-01-13T09:11:51.966Z"
   },
   {
    "duration": 13,
    "start_time": "2023-01-13T09:11:52.128Z"
   },
   {
    "duration": 392,
    "start_time": "2023-01-13T09:11:52.143Z"
   },
   {
    "duration": 294,
    "start_time": "2023-01-13T09:11:52.537Z"
   },
   {
    "duration": 370,
    "start_time": "2023-01-13T09:11:52.834Z"
   },
   {
    "duration": 6,
    "start_time": "2023-01-13T09:11:53.206Z"
   },
   {
    "duration": 330,
    "start_time": "2023-01-13T09:11:53.214Z"
   },
   {
    "duration": 270,
    "start_time": "2023-01-13T09:11:53.547Z"
   },
   {
    "duration": 12,
    "start_time": "2023-01-13T09:11:53.819Z"
   },
   {
    "duration": 24,
    "start_time": "2023-01-13T09:11:53.833Z"
   },
   {
    "duration": 223,
    "start_time": "2023-01-13T09:11:53.859Z"
   },
   {
    "duration": 6,
    "start_time": "2023-01-13T09:11:54.083Z"
   },
   {
    "duration": 253,
    "start_time": "2023-01-13T09:11:54.091Z"
   },
   {
    "duration": 4,
    "start_time": "2023-01-13T09:11:54.346Z"
   },
   {
    "duration": 133,
    "start_time": "2023-01-13T09:11:54.354Z"
   },
   {
    "duration": 32,
    "start_time": "2023-01-13T09:11:54.490Z"
   },
   {
    "duration": 106,
    "start_time": "2023-01-13T09:11:54.524Z"
   },
   {
    "duration": 75,
    "start_time": "2023-01-13T09:11:54.633Z"
   },
   {
    "duration": 24,
    "start_time": "2023-01-13T09:11:54.709Z"
   },
   {
    "duration": 205,
    "start_time": "2023-01-13T09:11:54.735Z"
   },
   {
    "duration": 10,
    "start_time": "2023-01-13T09:11:54.942Z"
   },
   {
    "duration": 47,
    "start_time": "2023-01-13T09:11:54.955Z"
   },
   {
    "duration": 8,
    "start_time": "2023-01-13T09:11:55.004Z"
   },
   {
    "duration": 58,
    "start_time": "2023-01-13T09:11:55.014Z"
   },
   {
    "duration": 14,
    "start_time": "2023-01-13T09:11:55.074Z"
   },
   {
    "duration": 27,
    "start_time": "2023-01-13T09:11:55.091Z"
   },
   {
    "duration": 26,
    "start_time": "2023-01-13T09:11:55.119Z"
   },
   {
    "duration": 15,
    "start_time": "2023-01-13T09:11:55.147Z"
   },
   {
    "duration": 54,
    "start_time": "2023-01-13T09:11:55.164Z"
   },
   {
    "duration": 15,
    "start_time": "2023-01-13T09:11:55.220Z"
   },
   {
    "duration": 1456,
    "start_time": "2023-01-13T15:15:06.911Z"
   },
   {
    "duration": 77,
    "start_time": "2023-01-13T15:15:08.369Z"
   },
   {
    "duration": 12,
    "start_time": "2023-01-13T15:15:08.447Z"
   },
   {
    "duration": 3,
    "start_time": "2023-01-13T15:15:08.461Z"
   },
   {
    "duration": 12,
    "start_time": "2023-01-13T15:15:08.466Z"
   },
   {
    "duration": 9,
    "start_time": "2023-01-13T15:15:08.480Z"
   },
   {
    "duration": 10,
    "start_time": "2023-01-13T15:15:08.491Z"
   },
   {
    "duration": 11,
    "start_time": "2023-01-13T15:15:08.503Z"
   },
   {
    "duration": 13,
    "start_time": "2023-01-13T15:15:08.515Z"
   },
   {
    "duration": 146,
    "start_time": "2023-01-13T15:15:08.530Z"
   },
   {
    "duration": 12,
    "start_time": "2023-01-13T15:15:08.678Z"
   },
   {
    "duration": 14,
    "start_time": "2023-01-13T15:15:08.692Z"
   },
   {
    "duration": 20,
    "start_time": "2023-01-13T15:15:08.707Z"
   },
   {
    "duration": 21,
    "start_time": "2023-01-13T15:15:08.734Z"
   },
   {
    "duration": 10,
    "start_time": "2023-01-13T15:15:08.757Z"
   },
   {
    "duration": 7,
    "start_time": "2023-01-13T15:15:08.768Z"
   },
   {
    "duration": 10,
    "start_time": "2023-01-13T15:15:08.776Z"
   },
   {
    "duration": 19,
    "start_time": "2023-01-13T15:15:08.787Z"
   },
   {
    "duration": 10,
    "start_time": "2023-01-13T15:15:08.808Z"
   },
   {
    "duration": 20,
    "start_time": "2023-01-13T15:15:08.820Z"
   },
   {
    "duration": 12,
    "start_time": "2023-01-13T15:15:08.842Z"
   },
   {
    "duration": 8,
    "start_time": "2023-01-13T15:15:08.855Z"
   },
   {
    "duration": 8,
    "start_time": "2023-01-13T15:15:08.864Z"
   },
   {
    "duration": 176,
    "start_time": "2023-01-13T15:15:08.873Z"
   },
   {
    "duration": 10,
    "start_time": "2023-01-13T15:15:09.050Z"
   },
   {
    "duration": 11,
    "start_time": "2023-01-13T15:15:09.062Z"
   },
   {
    "duration": 140,
    "start_time": "2023-01-13T15:15:09.075Z"
   },
   {
    "duration": 19,
    "start_time": "2023-01-13T15:15:09.216Z"
   },
   {
    "duration": 353,
    "start_time": "2023-01-13T15:15:09.240Z"
   },
   {
    "duration": 313,
    "start_time": "2023-01-13T15:15:09.595Z"
   },
   {
    "duration": 395,
    "start_time": "2023-01-13T15:15:09.910Z"
   },
   {
    "duration": 7,
    "start_time": "2023-01-13T15:15:10.306Z"
   },
   {
    "duration": 297,
    "start_time": "2023-01-13T15:15:10.322Z"
   },
   {
    "duration": 278,
    "start_time": "2023-01-13T15:15:10.621Z"
   },
   {
    "duration": 33,
    "start_time": "2023-01-13T15:15:10.901Z"
   },
   {
    "duration": 12,
    "start_time": "2023-01-13T15:15:10.938Z"
   },
   {
    "duration": 182,
    "start_time": "2023-01-13T15:15:10.952Z"
   },
   {
    "duration": 5,
    "start_time": "2023-01-13T15:15:11.136Z"
   },
   {
    "duration": 219,
    "start_time": "2023-01-13T15:15:11.143Z"
   },
   {
    "duration": 5,
    "start_time": "2023-01-13T15:15:11.364Z"
   },
   {
    "duration": 115,
    "start_time": "2023-01-13T15:15:11.374Z"
   },
   {
    "duration": 14,
    "start_time": "2023-01-13T15:15:11.491Z"
   },
   {
    "duration": 79,
    "start_time": "2023-01-13T15:15:11.506Z"
   },
   {
    "duration": 101,
    "start_time": "2023-01-13T15:15:11.587Z"
   },
   {
    "duration": 38,
    "start_time": "2023-01-13T15:15:11.690Z"
   },
   {
    "duration": 157,
    "start_time": "2023-01-13T15:15:11.732Z"
   },
   {
    "duration": 9,
    "start_time": "2023-01-13T15:15:11.891Z"
   },
   {
    "duration": 24,
    "start_time": "2023-01-13T15:15:11.901Z"
   },
   {
    "duration": 14,
    "start_time": "2023-01-13T15:15:11.931Z"
   },
   {
    "duration": 28,
    "start_time": "2023-01-13T15:15:11.947Z"
   },
   {
    "duration": 10,
    "start_time": "2023-01-13T15:15:11.977Z"
   },
   {
    "duration": 42,
    "start_time": "2023-01-13T15:15:11.988Z"
   },
   {
    "duration": 30,
    "start_time": "2023-01-13T15:15:12.035Z"
   },
   {
    "duration": 32,
    "start_time": "2023-01-13T15:15:12.067Z"
   },
   {
    "duration": 44,
    "start_time": "2023-01-13T15:15:12.101Z"
   },
   {
    "duration": 20,
    "start_time": "2023-01-13T15:15:12.146Z"
   },
   {
    "duration": 1187,
    "start_time": "2023-01-13T15:19:10.944Z"
   },
   {
    "duration": 28,
    "start_time": "2023-01-13T15:19:12.140Z"
   },
   {
    "duration": 13,
    "start_time": "2023-01-13T15:19:12.170Z"
   },
   {
    "duration": 3,
    "start_time": "2023-01-13T15:19:12.184Z"
   },
   {
    "duration": 12,
    "start_time": "2023-01-13T15:19:12.189Z"
   },
   {
    "duration": 8,
    "start_time": "2023-01-13T15:19:12.203Z"
   },
   {
    "duration": 23,
    "start_time": "2023-01-13T15:19:12.213Z"
   },
   {
    "duration": 18,
    "start_time": "2023-01-13T15:19:12.239Z"
   },
   {
    "duration": 29,
    "start_time": "2023-01-13T15:19:12.259Z"
   },
   {
    "duration": 61,
    "start_time": "2023-01-13T15:19:12.291Z"
   },
   {
    "duration": 12,
    "start_time": "2023-01-13T15:19:12.354Z"
   },
   {
    "duration": 13,
    "start_time": "2023-01-13T15:19:12.368Z"
   },
   {
    "duration": 21,
    "start_time": "2023-01-13T15:19:12.384Z"
   },
   {
    "duration": 27,
    "start_time": "2023-01-13T15:19:12.409Z"
   },
   {
    "duration": 9,
    "start_time": "2023-01-13T15:19:12.438Z"
   },
   {
    "duration": 7,
    "start_time": "2023-01-13T15:19:12.449Z"
   },
   {
    "duration": 9,
    "start_time": "2023-01-13T15:19:12.458Z"
   },
   {
    "duration": 11,
    "start_time": "2023-01-13T15:19:12.468Z"
   },
   {
    "duration": 9,
    "start_time": "2023-01-13T15:19:12.481Z"
   },
   {
    "duration": 11,
    "start_time": "2023-01-13T15:19:12.491Z"
   },
   {
    "duration": 35,
    "start_time": "2023-01-13T15:19:12.503Z"
   },
   {
    "duration": 8,
    "start_time": "2023-01-13T15:19:12.540Z"
   },
   {
    "duration": 6,
    "start_time": "2023-01-13T15:19:12.549Z"
   },
   {
    "duration": 193,
    "start_time": "2023-01-13T15:19:12.557Z"
   },
   {
    "duration": 10,
    "start_time": "2023-01-13T15:19:12.752Z"
   },
   {
    "duration": 10,
    "start_time": "2023-01-13T15:19:12.764Z"
   },
   {
    "duration": 154,
    "start_time": "2023-01-13T15:19:12.776Z"
   },
   {
    "duration": 17,
    "start_time": "2023-01-13T15:19:12.932Z"
   },
   {
    "duration": 387,
    "start_time": "2023-01-13T15:19:12.951Z"
   },
   {
    "duration": 262,
    "start_time": "2023-01-13T15:19:13.339Z"
   },
   {
    "duration": 374,
    "start_time": "2023-01-13T15:19:13.603Z"
   },
   {
    "duration": 6,
    "start_time": "2023-01-13T15:19:13.979Z"
   },
   {
    "duration": 365,
    "start_time": "2023-01-13T15:19:13.987Z"
   },
   {
    "duration": 267,
    "start_time": "2023-01-13T15:19:14.354Z"
   },
   {
    "duration": 16,
    "start_time": "2023-01-13T15:19:14.631Z"
   },
   {
    "duration": 14,
    "start_time": "2023-01-13T15:19:14.649Z"
   },
   {
    "duration": 181,
    "start_time": "2023-01-13T15:19:14.664Z"
   },
   {
    "duration": 4,
    "start_time": "2023-01-13T15:19:14.847Z"
   },
   {
    "duration": 236,
    "start_time": "2023-01-13T15:19:14.853Z"
   },
   {
    "duration": 5,
    "start_time": "2023-01-13T15:19:15.090Z"
   },
   {
    "duration": 112,
    "start_time": "2023-01-13T15:19:15.099Z"
   },
   {
    "duration": 22,
    "start_time": "2023-01-13T15:19:15.213Z"
   },
   {
    "duration": 68,
    "start_time": "2023-01-13T15:19:15.241Z"
   },
   {
    "duration": 67,
    "start_time": "2023-01-13T15:19:15.311Z"
   },
   {
    "duration": 23,
    "start_time": "2023-01-13T15:19:15.380Z"
   },
   {
    "duration": 161,
    "start_time": "2023-01-13T15:19:15.404Z"
   },
   {
    "duration": 10,
    "start_time": "2023-01-13T15:19:15.567Z"
   },
   {
    "duration": 20,
    "start_time": "2023-01-13T15:19:15.578Z"
   },
   {
    "duration": 7,
    "start_time": "2023-01-13T15:19:15.600Z"
   },
   {
    "duration": 27,
    "start_time": "2023-01-13T15:19:15.622Z"
   },
   {
    "duration": 11,
    "start_time": "2023-01-13T15:19:15.651Z"
   },
   {
    "duration": 13,
    "start_time": "2023-01-13T15:19:15.664Z"
   },
   {
    "duration": 11,
    "start_time": "2023-01-13T15:19:15.679Z"
   },
   {
    "duration": 32,
    "start_time": "2023-01-13T15:19:15.692Z"
   },
   {
    "duration": 29,
    "start_time": "2023-01-13T15:19:15.727Z"
   },
   {
    "duration": 14,
    "start_time": "2023-01-13T15:19:15.758Z"
   }
  ],
  "kernelspec": {
   "display_name": "Python 3 (ipykernel)",
   "language": "python",
   "name": "python3"
  },
  "language_info": {
   "codemirror_mode": {
    "name": "ipython",
    "version": 3
   },
   "file_extension": ".py",
   "mimetype": "text/x-python",
   "name": "python",
   "nbconvert_exporter": "python",
   "pygments_lexer": "ipython3",
   "version": "3.9.13"
  },
  "toc": {
   "base_numbering": 1,
   "nav_menu": {
    "height": "200.996px",
    "width": "566.992px"
   },
   "number_sections": true,
   "sideBar": true,
   "skip_h1_title": true,
   "title_cell": "Содержание",
   "title_sidebar": "Contents",
   "toc_cell": true,
   "toc_position": {
    "height": "calc(100% - 180px)",
    "left": "10px",
    "top": "150px",
    "width": "322.246px"
   },
   "toc_section_display": true,
   "toc_window_display": false
  }
 },
 "nbformat": 4,
 "nbformat_minor": 2
}
