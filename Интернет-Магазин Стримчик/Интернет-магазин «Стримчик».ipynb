{
 "cells": [
  {
   "cell_type": "markdown",
   "metadata": {},
   "source": [
    "# Сборный проект №1 Интернет-магазин «Стримчик»"
   ]
  },
  {
   "cell_type": "markdown",
   "metadata": {},
   "source": [
    "Цель проекта: выявить определяющие успешность игры закономерности. Это позволит сделать ставку на потенциально популярный продукт и спланировать рекламные кампании."
   ]
  },
  {
   "cell_type": "markdown",
   "metadata": {},
   "source": [
    "Задачи проекта: Провести исследовательский анализ исторических данных  о продажах игр, оценки пользователей и экспертов, жанры и платформы, составить портрет пользователя каждого региона проверить поставленные гипотезы"
   ]
  },
  {
   "cell_type": "markdown",
   "metadata": {
    "toc": true
   },
   "source": [
    "<h1>Содержание<span class=\"tocSkip\"></span></h1>\n",
    "<div class=\"toc\"><ul class=\"toc-item\"><li><span><a href=\"#Загрузка-данных-и-их-подготовка-к-анализу\" data-toc-modified-id=\"Загрузка-данных-и-их-подготовка-к-анализу-1\"><span class=\"toc-item-num\">1&nbsp;&nbsp;</span>Загрузка данных и их подготовка к анализу</a></span><ul class=\"toc-item\"><li><span><a href=\"#Выгрузка-данных-и-их-изучение\" data-toc-modified-id=\"Выгрузка-данных-и-их-изучение-1.1\"><span class=\"toc-item-num\">1.1&nbsp;&nbsp;</span>Выгрузка данных и их изучение</a></span></li><li><span><a href=\"#Проверка-данных-на-наличие-пропусков\" data-toc-modified-id=\"Проверка-данных-на-наличие-пропусков-1.2\"><span class=\"toc-item-num\">1.2&nbsp;&nbsp;</span>Проверка данных на наличие пропусков</a></span></li><li><span><a href=\"#Проверка-на-наличие-дубликатов-и-изменение-типов-данных\" data-toc-modified-id=\"Проверка-на-наличие-дубликатов-и-изменение-типов-данных-1.3\"><span class=\"toc-item-num\">1.3&nbsp;&nbsp;</span>Проверка на наличие дубликатов и изменение типов данных</a></span></li></ul></li><li><span><a href=\"#Исследовательский-анализ-данных\" data-toc-modified-id=\"Исследовательский-анализ-данных-2\"><span class=\"toc-item-num\">2&nbsp;&nbsp;</span>Исследовательский анализ данных</a></span><ul class=\"toc-item\"><li><span><a href=\"#График-количества-выпущенных-игр-по-годам\" data-toc-modified-id=\"График-количества-выпущенных-игр-по-годам-2.1\"><span class=\"toc-item-num\">2.1&nbsp;&nbsp;</span>График количества выпущенных игр по годам</a></span></li><li><span><a href=\"#График-распределения-игр-по-платформам\" data-toc-modified-id=\"График-распределения-игр-по-платформам-2.2\"><span class=\"toc-item-num\">2.2&nbsp;&nbsp;</span>График распределения игр по платформам</a></span></li><li><span><a href=\"#Изменение-продаж-по-платформам.-Определение-актуального-периода-существования-платформы\" data-toc-modified-id=\"Изменение-продаж-по-платформам.-Определение-актуального-периода-существования-платформы-2.3\"><span class=\"toc-item-num\">2.3&nbsp;&nbsp;</span>Изменение продаж по платформам. Определение актуального периода существования платформы</a></span></li><li><span><a href=\"#Определение-лидирующих-платформ-на-основе-отобранного-актуального-периода-и-анализ\" data-toc-modified-id=\"Определение-лидирующих-платформ-на-основе-отобранного-актуального-периода-и-анализ-2.4\"><span class=\"toc-item-num\">2.4&nbsp;&nbsp;</span>Определение лидирующих платформ на основе отобранного актуального периода и анализ</a></span></li><li><span><a href=\"#Оценить-влияние-отзывов-от-критиков-и-пользователей-на-продажи\" data-toc-modified-id=\"Оценить-влияние-отзывов-от-критиков-и-пользователей-на-продажи-2.5\"><span class=\"toc-item-num\">2.5&nbsp;&nbsp;</span>Оценить влияние отзывов от критиков и пользователей на продажи</a></span></li><li><span><a href=\"#График-распределения-игр-по-жанрам\" data-toc-modified-id=\"График-распределения-игр-по-жанрам-2.6\"><span class=\"toc-item-num\">2.6&nbsp;&nbsp;</span>График распределения игр по жанрам</a></span></li></ul></li><li><span><a href=\"#Составление-портрета-пользователя-каждого-региона\" data-toc-modified-id=\"Составление-портрета-пользователя-каждого-региона-3\"><span class=\"toc-item-num\">3&nbsp;&nbsp;</span>Составление портрета пользователя каждого региона</a></span><ul class=\"toc-item\"><li><span><a href=\"#Самые-популярные-платформы\" data-toc-modified-id=\"Самые-популярные-платформы-3.1\"><span class=\"toc-item-num\">3.1&nbsp;&nbsp;</span>Самые популярные платформы</a></span></li><li><span><a href=\"#Самые-популярные-жанры-(топ-5).-Поясните-разницу.\" data-toc-modified-id=\"Самые-популярные-жанры-(топ-5).-Поясните-разницу.-3.2\"><span class=\"toc-item-num\">3.2&nbsp;&nbsp;</span>Самые популярные жанры (топ-5). Поясните разницу.</a></span></li><li><span><a href=\"#Оценка-влияния-рейтинга-ESRB-на-продажи-в-отдельном-регионе?\" data-toc-modified-id=\"Оценка-влияния-рейтинга-ESRB-на-продажи-в-отдельном-регионе?-3.3\"><span class=\"toc-item-num\">3.3&nbsp;&nbsp;</span>Оценка влияния рейтинга ESRB на продажи в отдельном регионе?</a></span></li></ul></li><li><span><a href=\"#Проверка-гипотез\" data-toc-modified-id=\"Проверка-гипотез-4\"><span class=\"toc-item-num\">4&nbsp;&nbsp;</span>Проверка гипотез</a></span><ul class=\"toc-item\"><li><span><a href=\"#Средние-пользовательские-рейтинги-платформ-Xbox-One-и-PC-одинаковые\" data-toc-modified-id=\"Средние-пользовательские-рейтинги-платформ-Xbox-One-и-PC-одинаковые-4.1\"><span class=\"toc-item-num\">4.1&nbsp;&nbsp;</span>Средние пользовательские рейтинги платформ Xbox One и PC одинаковые</a></span></li><li><span><a href=\"#Средние-пользовательские-рейтинги-жанров-Action-(англ.-«действие»,-экшен-игры)-и-Sports-(англ.-«спортивные-соревнования»)-разные.\" data-toc-modified-id=\"Средние-пользовательские-рейтинги-жанров-Action-(англ.-«действие»,-экшен-игры)-и-Sports-(англ.-«спортивные-соревнования»)-разные.-4.2\"><span class=\"toc-item-num\">4.2&nbsp;&nbsp;</span>Средние пользовательские рейтинги жанров Action (англ. «действие», экшен-игры) и Sports (англ. «спортивные соревнования») разные.</a></span></li><li><span><a href=\"#Вывод\" data-toc-modified-id=\"Вывод-4.3\"><span class=\"toc-item-num\">4.3&nbsp;&nbsp;</span>Вывод</a></span></li></ul></li><li><span><a href=\"#Общий-вывод\" data-toc-modified-id=\"Общий-вывод-5\"><span class=\"toc-item-num\">5&nbsp;&nbsp;</span>Общий вывод</a></span><ul class=\"toc-item\"><li><span><a href=\"#Предобработка\" data-toc-modified-id=\"Предобработка-5.1\"><span class=\"toc-item-num\">5.1&nbsp;&nbsp;</span>Предобработка</a></span></li><li><span><a href=\"#Анализ-данных\" data-toc-modified-id=\"Анализ-данных-5.2\"><span class=\"toc-item-num\">5.2&nbsp;&nbsp;</span>Анализ данных</a></span></li><li><span><a href=\"#Портреты-пользователей\" data-toc-modified-id=\"Портреты-пользователей-5.3\"><span class=\"toc-item-num\">5.3&nbsp;&nbsp;</span>Портреты пользователей</a></span></li><li><span><a href=\"#Проверка-гипотез\" data-toc-modified-id=\"Проверка-гипотез-5.4\"><span class=\"toc-item-num\">5.4&nbsp;&nbsp;</span>Проверка гипотез</a></span></li></ul></li></ul></div>"
   ]
  },
  {
   "cell_type": "markdown",
   "metadata": {},
   "source": [
    "## Загрузка данных и их подготовка к анализу"
   ]
  },
  {
   "cell_type": "markdown",
   "metadata": {},
   "source": [
    "### Выгрузка данных и их изучение"
   ]
  },
  {
   "cell_type": "code",
   "execution_count": 1,
   "metadata": {},
   "outputs": [],
   "source": [
    "import pandas as pd\n",
    "import numpy as np\n",
    "import matplotlib.pyplot as plt \n",
    "from scipy import stats as st\n",
    "import warnings\n",
    "\n",
    "warnings.filterwarnings('ignore')"
   ]
  },
  {
   "cell_type": "code",
   "execution_count": 2,
   "metadata": {},
   "outputs": [],
   "source": [
    "data=pd.read_csv('/datasets/games.csv')"
   ]
  },
  {
   "cell_type": "code",
   "execution_count": 3,
   "metadata": {
    "scrolled": true
   },
   "outputs": [
    {
     "data": {
      "text/html": [
       "<div>\n",
       "<style scoped>\n",
       "    .dataframe tbody tr th:only-of-type {\n",
       "        vertical-align: middle;\n",
       "    }\n",
       "\n",
       "    .dataframe tbody tr th {\n",
       "        vertical-align: top;\n",
       "    }\n",
       "\n",
       "    .dataframe thead th {\n",
       "        text-align: right;\n",
       "    }\n",
       "</style>\n",
       "<table border=\"1\" class=\"dataframe\">\n",
       "  <thead>\n",
       "    <tr style=\"text-align: right;\">\n",
       "      <th></th>\n",
       "      <th>Name</th>\n",
       "      <th>Platform</th>\n",
       "      <th>Year_of_Release</th>\n",
       "      <th>Genre</th>\n",
       "      <th>NA_sales</th>\n",
       "      <th>EU_sales</th>\n",
       "      <th>JP_sales</th>\n",
       "      <th>Other_sales</th>\n",
       "      <th>Critic_Score</th>\n",
       "      <th>User_Score</th>\n",
       "      <th>Rating</th>\n",
       "    </tr>\n",
       "  </thead>\n",
       "  <tbody>\n",
       "    <tr>\n",
       "      <th>0</th>\n",
       "      <td>Wii Sports</td>\n",
       "      <td>Wii</td>\n",
       "      <td>2006.0</td>\n",
       "      <td>Sports</td>\n",
       "      <td>41.36</td>\n",
       "      <td>28.96</td>\n",
       "      <td>3.77</td>\n",
       "      <td>8.45</td>\n",
       "      <td>76.0</td>\n",
       "      <td>8</td>\n",
       "      <td>E</td>\n",
       "    </tr>\n",
       "    <tr>\n",
       "      <th>1</th>\n",
       "      <td>Super Mario Bros.</td>\n",
       "      <td>NES</td>\n",
       "      <td>1985.0</td>\n",
       "      <td>Platform</td>\n",
       "      <td>29.08</td>\n",
       "      <td>3.58</td>\n",
       "      <td>6.81</td>\n",
       "      <td>0.77</td>\n",
       "      <td>NaN</td>\n",
       "      <td>NaN</td>\n",
       "      <td>NaN</td>\n",
       "    </tr>\n",
       "    <tr>\n",
       "      <th>2</th>\n",
       "      <td>Mario Kart Wii</td>\n",
       "      <td>Wii</td>\n",
       "      <td>2008.0</td>\n",
       "      <td>Racing</td>\n",
       "      <td>15.68</td>\n",
       "      <td>12.76</td>\n",
       "      <td>3.79</td>\n",
       "      <td>3.29</td>\n",
       "      <td>82.0</td>\n",
       "      <td>8.3</td>\n",
       "      <td>E</td>\n",
       "    </tr>\n",
       "    <tr>\n",
       "      <th>3</th>\n",
       "      <td>Wii Sports Resort</td>\n",
       "      <td>Wii</td>\n",
       "      <td>2009.0</td>\n",
       "      <td>Sports</td>\n",
       "      <td>15.61</td>\n",
       "      <td>10.93</td>\n",
       "      <td>3.28</td>\n",
       "      <td>2.95</td>\n",
       "      <td>80.0</td>\n",
       "      <td>8</td>\n",
       "      <td>E</td>\n",
       "    </tr>\n",
       "    <tr>\n",
       "      <th>4</th>\n",
       "      <td>Pokemon Red/Pokemon Blue</td>\n",
       "      <td>GB</td>\n",
       "      <td>1996.0</td>\n",
       "      <td>Role-Playing</td>\n",
       "      <td>11.27</td>\n",
       "      <td>8.89</td>\n",
       "      <td>10.22</td>\n",
       "      <td>1.00</td>\n",
       "      <td>NaN</td>\n",
       "      <td>NaN</td>\n",
       "      <td>NaN</td>\n",
       "    </tr>\n",
       "    <tr>\n",
       "      <th>5</th>\n",
       "      <td>Tetris</td>\n",
       "      <td>GB</td>\n",
       "      <td>1989.0</td>\n",
       "      <td>Puzzle</td>\n",
       "      <td>23.20</td>\n",
       "      <td>2.26</td>\n",
       "      <td>4.22</td>\n",
       "      <td>0.58</td>\n",
       "      <td>NaN</td>\n",
       "      <td>NaN</td>\n",
       "      <td>NaN</td>\n",
       "    </tr>\n",
       "    <tr>\n",
       "      <th>6</th>\n",
       "      <td>New Super Mario Bros.</td>\n",
       "      <td>DS</td>\n",
       "      <td>2006.0</td>\n",
       "      <td>Platform</td>\n",
       "      <td>11.28</td>\n",
       "      <td>9.14</td>\n",
       "      <td>6.50</td>\n",
       "      <td>2.88</td>\n",
       "      <td>89.0</td>\n",
       "      <td>8.5</td>\n",
       "      <td>E</td>\n",
       "    </tr>\n",
       "    <tr>\n",
       "      <th>7</th>\n",
       "      <td>Wii Play</td>\n",
       "      <td>Wii</td>\n",
       "      <td>2006.0</td>\n",
       "      <td>Misc</td>\n",
       "      <td>13.96</td>\n",
       "      <td>9.18</td>\n",
       "      <td>2.93</td>\n",
       "      <td>2.84</td>\n",
       "      <td>58.0</td>\n",
       "      <td>6.6</td>\n",
       "      <td>E</td>\n",
       "    </tr>\n",
       "    <tr>\n",
       "      <th>8</th>\n",
       "      <td>New Super Mario Bros. Wii</td>\n",
       "      <td>Wii</td>\n",
       "      <td>2009.0</td>\n",
       "      <td>Platform</td>\n",
       "      <td>14.44</td>\n",
       "      <td>6.94</td>\n",
       "      <td>4.70</td>\n",
       "      <td>2.24</td>\n",
       "      <td>87.0</td>\n",
       "      <td>8.4</td>\n",
       "      <td>E</td>\n",
       "    </tr>\n",
       "    <tr>\n",
       "      <th>9</th>\n",
       "      <td>Duck Hunt</td>\n",
       "      <td>NES</td>\n",
       "      <td>1984.0</td>\n",
       "      <td>Shooter</td>\n",
       "      <td>26.93</td>\n",
       "      <td>0.63</td>\n",
       "      <td>0.28</td>\n",
       "      <td>0.47</td>\n",
       "      <td>NaN</td>\n",
       "      <td>NaN</td>\n",
       "      <td>NaN</td>\n",
       "    </tr>\n",
       "    <tr>\n",
       "      <th>10</th>\n",
       "      <td>Nintendogs</td>\n",
       "      <td>DS</td>\n",
       "      <td>2005.0</td>\n",
       "      <td>Simulation</td>\n",
       "      <td>9.05</td>\n",
       "      <td>10.95</td>\n",
       "      <td>1.93</td>\n",
       "      <td>2.74</td>\n",
       "      <td>NaN</td>\n",
       "      <td>NaN</td>\n",
       "      <td>NaN</td>\n",
       "    </tr>\n",
       "    <tr>\n",
       "      <th>11</th>\n",
       "      <td>Mario Kart DS</td>\n",
       "      <td>DS</td>\n",
       "      <td>2005.0</td>\n",
       "      <td>Racing</td>\n",
       "      <td>9.71</td>\n",
       "      <td>7.47</td>\n",
       "      <td>4.13</td>\n",
       "      <td>1.90</td>\n",
       "      <td>91.0</td>\n",
       "      <td>8.6</td>\n",
       "      <td>E</td>\n",
       "    </tr>\n",
       "    <tr>\n",
       "      <th>12</th>\n",
       "      <td>Pokemon Gold/Pokemon Silver</td>\n",
       "      <td>GB</td>\n",
       "      <td>1999.0</td>\n",
       "      <td>Role-Playing</td>\n",
       "      <td>9.00</td>\n",
       "      <td>6.18</td>\n",
       "      <td>7.20</td>\n",
       "      <td>0.71</td>\n",
       "      <td>NaN</td>\n",
       "      <td>NaN</td>\n",
       "      <td>NaN</td>\n",
       "    </tr>\n",
       "    <tr>\n",
       "      <th>13</th>\n",
       "      <td>Wii Fit</td>\n",
       "      <td>Wii</td>\n",
       "      <td>2007.0</td>\n",
       "      <td>Sports</td>\n",
       "      <td>8.92</td>\n",
       "      <td>8.03</td>\n",
       "      <td>3.60</td>\n",
       "      <td>2.15</td>\n",
       "      <td>80.0</td>\n",
       "      <td>7.7</td>\n",
       "      <td>E</td>\n",
       "    </tr>\n",
       "    <tr>\n",
       "      <th>14</th>\n",
       "      <td>Kinect Adventures!</td>\n",
       "      <td>X360</td>\n",
       "      <td>2010.0</td>\n",
       "      <td>Misc</td>\n",
       "      <td>15.00</td>\n",
       "      <td>4.89</td>\n",
       "      <td>0.24</td>\n",
       "      <td>1.69</td>\n",
       "      <td>61.0</td>\n",
       "      <td>6.3</td>\n",
       "      <td>E</td>\n",
       "    </tr>\n",
       "    <tr>\n",
       "      <th>15</th>\n",
       "      <td>Wii Fit Plus</td>\n",
       "      <td>Wii</td>\n",
       "      <td>2009.0</td>\n",
       "      <td>Sports</td>\n",
       "      <td>9.01</td>\n",
       "      <td>8.49</td>\n",
       "      <td>2.53</td>\n",
       "      <td>1.77</td>\n",
       "      <td>80.0</td>\n",
       "      <td>7.4</td>\n",
       "      <td>E</td>\n",
       "    </tr>\n",
       "    <tr>\n",
       "      <th>16</th>\n",
       "      <td>Grand Theft Auto V</td>\n",
       "      <td>PS3</td>\n",
       "      <td>2013.0</td>\n",
       "      <td>Action</td>\n",
       "      <td>7.02</td>\n",
       "      <td>9.09</td>\n",
       "      <td>0.98</td>\n",
       "      <td>3.96</td>\n",
       "      <td>97.0</td>\n",
       "      <td>8.2</td>\n",
       "      <td>M</td>\n",
       "    </tr>\n",
       "    <tr>\n",
       "      <th>17</th>\n",
       "      <td>Grand Theft Auto: San Andreas</td>\n",
       "      <td>PS2</td>\n",
       "      <td>2004.0</td>\n",
       "      <td>Action</td>\n",
       "      <td>9.43</td>\n",
       "      <td>0.40</td>\n",
       "      <td>0.41</td>\n",
       "      <td>10.57</td>\n",
       "      <td>95.0</td>\n",
       "      <td>9</td>\n",
       "      <td>M</td>\n",
       "    </tr>\n",
       "    <tr>\n",
       "      <th>18</th>\n",
       "      <td>Super Mario World</td>\n",
       "      <td>SNES</td>\n",
       "      <td>1990.0</td>\n",
       "      <td>Platform</td>\n",
       "      <td>12.78</td>\n",
       "      <td>3.75</td>\n",
       "      <td>3.54</td>\n",
       "      <td>0.55</td>\n",
       "      <td>NaN</td>\n",
       "      <td>NaN</td>\n",
       "      <td>NaN</td>\n",
       "    </tr>\n",
       "    <tr>\n",
       "      <th>19</th>\n",
       "      <td>Brain Age: Train Your Brain in Minutes a Day</td>\n",
       "      <td>DS</td>\n",
       "      <td>2005.0</td>\n",
       "      <td>Misc</td>\n",
       "      <td>4.74</td>\n",
       "      <td>9.20</td>\n",
       "      <td>4.16</td>\n",
       "      <td>2.04</td>\n",
       "      <td>77.0</td>\n",
       "      <td>7.9</td>\n",
       "      <td>E</td>\n",
       "    </tr>\n",
       "    <tr>\n",
       "      <th>20</th>\n",
       "      <td>Pokemon Diamond/Pokemon Pearl</td>\n",
       "      <td>DS</td>\n",
       "      <td>2006.0</td>\n",
       "      <td>Role-Playing</td>\n",
       "      <td>6.38</td>\n",
       "      <td>4.46</td>\n",
       "      <td>6.04</td>\n",
       "      <td>1.36</td>\n",
       "      <td>NaN</td>\n",
       "      <td>NaN</td>\n",
       "      <td>NaN</td>\n",
       "    </tr>\n",
       "    <tr>\n",
       "      <th>21</th>\n",
       "      <td>Super Mario Land</td>\n",
       "      <td>GB</td>\n",
       "      <td>1989.0</td>\n",
       "      <td>Platform</td>\n",
       "      <td>10.83</td>\n",
       "      <td>2.71</td>\n",
       "      <td>4.18</td>\n",
       "      <td>0.42</td>\n",
       "      <td>NaN</td>\n",
       "      <td>NaN</td>\n",
       "      <td>NaN</td>\n",
       "    </tr>\n",
       "    <tr>\n",
       "      <th>22</th>\n",
       "      <td>Super Mario Bros. 3</td>\n",
       "      <td>NES</td>\n",
       "      <td>1988.0</td>\n",
       "      <td>Platform</td>\n",
       "      <td>9.54</td>\n",
       "      <td>3.44</td>\n",
       "      <td>3.84</td>\n",
       "      <td>0.46</td>\n",
       "      <td>NaN</td>\n",
       "      <td>NaN</td>\n",
       "      <td>NaN</td>\n",
       "    </tr>\n",
       "    <tr>\n",
       "      <th>23</th>\n",
       "      <td>Grand Theft Auto V</td>\n",
       "      <td>X360</td>\n",
       "      <td>2013.0</td>\n",
       "      <td>Action</td>\n",
       "      <td>9.66</td>\n",
       "      <td>5.14</td>\n",
       "      <td>0.06</td>\n",
       "      <td>1.41</td>\n",
       "      <td>97.0</td>\n",
       "      <td>8.1</td>\n",
       "      <td>M</td>\n",
       "    </tr>\n",
       "    <tr>\n",
       "      <th>24</th>\n",
       "      <td>Grand Theft Auto: Vice City</td>\n",
       "      <td>PS2</td>\n",
       "      <td>2002.0</td>\n",
       "      <td>Action</td>\n",
       "      <td>8.41</td>\n",
       "      <td>5.49</td>\n",
       "      <td>0.47</td>\n",
       "      <td>1.78</td>\n",
       "      <td>95.0</td>\n",
       "      <td>8.7</td>\n",
       "      <td>M</td>\n",
       "    </tr>\n",
       "    <tr>\n",
       "      <th>25</th>\n",
       "      <td>Pokemon Ruby/Pokemon Sapphire</td>\n",
       "      <td>GBA</td>\n",
       "      <td>2002.0</td>\n",
       "      <td>Role-Playing</td>\n",
       "      <td>6.06</td>\n",
       "      <td>3.90</td>\n",
       "      <td>5.38</td>\n",
       "      <td>0.50</td>\n",
       "      <td>NaN</td>\n",
       "      <td>NaN</td>\n",
       "      <td>NaN</td>\n",
       "    </tr>\n",
       "    <tr>\n",
       "      <th>26</th>\n",
       "      <td>Brain Age 2: More Training in Minutes a Day</td>\n",
       "      <td>DS</td>\n",
       "      <td>2005.0</td>\n",
       "      <td>Puzzle</td>\n",
       "      <td>3.43</td>\n",
       "      <td>5.35</td>\n",
       "      <td>5.32</td>\n",
       "      <td>1.18</td>\n",
       "      <td>77.0</td>\n",
       "      <td>7.1</td>\n",
       "      <td>E</td>\n",
       "    </tr>\n",
       "    <tr>\n",
       "      <th>27</th>\n",
       "      <td>Pokemon Black/Pokemon White</td>\n",
       "      <td>DS</td>\n",
       "      <td>2010.0</td>\n",
       "      <td>Role-Playing</td>\n",
       "      <td>5.51</td>\n",
       "      <td>3.17</td>\n",
       "      <td>5.65</td>\n",
       "      <td>0.80</td>\n",
       "      <td>NaN</td>\n",
       "      <td>NaN</td>\n",
       "      <td>NaN</td>\n",
       "    </tr>\n",
       "    <tr>\n",
       "      <th>28</th>\n",
       "      <td>Gran Turismo 3: A-Spec</td>\n",
       "      <td>PS2</td>\n",
       "      <td>2001.0</td>\n",
       "      <td>Racing</td>\n",
       "      <td>6.85</td>\n",
       "      <td>5.09</td>\n",
       "      <td>1.87</td>\n",
       "      <td>1.16</td>\n",
       "      <td>95.0</td>\n",
       "      <td>8.4</td>\n",
       "      <td>E</td>\n",
       "    </tr>\n",
       "    <tr>\n",
       "      <th>29</th>\n",
       "      <td>Call of Duty: Modern Warfare 3</td>\n",
       "      <td>X360</td>\n",
       "      <td>2011.0</td>\n",
       "      <td>Shooter</td>\n",
       "      <td>9.04</td>\n",
       "      <td>4.24</td>\n",
       "      <td>0.13</td>\n",
       "      <td>1.32</td>\n",
       "      <td>88.0</td>\n",
       "      <td>3.4</td>\n",
       "      <td>M</td>\n",
       "    </tr>\n",
       "  </tbody>\n",
       "</table>\n",
       "</div>"
      ],
      "text/plain": [
       "                                            Name Platform  Year_of_Release  \\\n",
       "0                                     Wii Sports      Wii           2006.0   \n",
       "1                              Super Mario Bros.      NES           1985.0   \n",
       "2                                 Mario Kart Wii      Wii           2008.0   \n",
       "3                              Wii Sports Resort      Wii           2009.0   \n",
       "4                       Pokemon Red/Pokemon Blue       GB           1996.0   \n",
       "5                                         Tetris       GB           1989.0   \n",
       "6                          New Super Mario Bros.       DS           2006.0   \n",
       "7                                       Wii Play      Wii           2006.0   \n",
       "8                      New Super Mario Bros. Wii      Wii           2009.0   \n",
       "9                                      Duck Hunt      NES           1984.0   \n",
       "10                                    Nintendogs       DS           2005.0   \n",
       "11                                 Mario Kart DS       DS           2005.0   \n",
       "12                   Pokemon Gold/Pokemon Silver       GB           1999.0   \n",
       "13                                       Wii Fit      Wii           2007.0   \n",
       "14                            Kinect Adventures!     X360           2010.0   \n",
       "15                                  Wii Fit Plus      Wii           2009.0   \n",
       "16                            Grand Theft Auto V      PS3           2013.0   \n",
       "17                 Grand Theft Auto: San Andreas      PS2           2004.0   \n",
       "18                             Super Mario World     SNES           1990.0   \n",
       "19  Brain Age: Train Your Brain in Minutes a Day       DS           2005.0   \n",
       "20                 Pokemon Diamond/Pokemon Pearl       DS           2006.0   \n",
       "21                              Super Mario Land       GB           1989.0   \n",
       "22                           Super Mario Bros. 3      NES           1988.0   \n",
       "23                            Grand Theft Auto V     X360           2013.0   \n",
       "24                   Grand Theft Auto: Vice City      PS2           2002.0   \n",
       "25                 Pokemon Ruby/Pokemon Sapphire      GBA           2002.0   \n",
       "26   Brain Age 2: More Training in Minutes a Day       DS           2005.0   \n",
       "27                   Pokemon Black/Pokemon White       DS           2010.0   \n",
       "28                        Gran Turismo 3: A-Spec      PS2           2001.0   \n",
       "29                Call of Duty: Modern Warfare 3     X360           2011.0   \n",
       "\n",
       "           Genre  NA_sales  EU_sales  JP_sales  Other_sales  Critic_Score  \\\n",
       "0         Sports     41.36     28.96      3.77         8.45          76.0   \n",
       "1       Platform     29.08      3.58      6.81         0.77           NaN   \n",
       "2         Racing     15.68     12.76      3.79         3.29          82.0   \n",
       "3         Sports     15.61     10.93      3.28         2.95          80.0   \n",
       "4   Role-Playing     11.27      8.89     10.22         1.00           NaN   \n",
       "5         Puzzle     23.20      2.26      4.22         0.58           NaN   \n",
       "6       Platform     11.28      9.14      6.50         2.88          89.0   \n",
       "7           Misc     13.96      9.18      2.93         2.84          58.0   \n",
       "8       Platform     14.44      6.94      4.70         2.24          87.0   \n",
       "9        Shooter     26.93      0.63      0.28         0.47           NaN   \n",
       "10    Simulation      9.05     10.95      1.93         2.74           NaN   \n",
       "11        Racing      9.71      7.47      4.13         1.90          91.0   \n",
       "12  Role-Playing      9.00      6.18      7.20         0.71           NaN   \n",
       "13        Sports      8.92      8.03      3.60         2.15          80.0   \n",
       "14          Misc     15.00      4.89      0.24         1.69          61.0   \n",
       "15        Sports      9.01      8.49      2.53         1.77          80.0   \n",
       "16        Action      7.02      9.09      0.98         3.96          97.0   \n",
       "17        Action      9.43      0.40      0.41        10.57          95.0   \n",
       "18      Platform     12.78      3.75      3.54         0.55           NaN   \n",
       "19          Misc      4.74      9.20      4.16         2.04          77.0   \n",
       "20  Role-Playing      6.38      4.46      6.04         1.36           NaN   \n",
       "21      Platform     10.83      2.71      4.18         0.42           NaN   \n",
       "22      Platform      9.54      3.44      3.84         0.46           NaN   \n",
       "23        Action      9.66      5.14      0.06         1.41          97.0   \n",
       "24        Action      8.41      5.49      0.47         1.78          95.0   \n",
       "25  Role-Playing      6.06      3.90      5.38         0.50           NaN   \n",
       "26        Puzzle      3.43      5.35      5.32         1.18          77.0   \n",
       "27  Role-Playing      5.51      3.17      5.65         0.80           NaN   \n",
       "28        Racing      6.85      5.09      1.87         1.16          95.0   \n",
       "29       Shooter      9.04      4.24      0.13         1.32          88.0   \n",
       "\n",
       "   User_Score Rating  \n",
       "0           8      E  \n",
       "1         NaN    NaN  \n",
       "2         8.3      E  \n",
       "3           8      E  \n",
       "4         NaN    NaN  \n",
       "5         NaN    NaN  \n",
       "6         8.5      E  \n",
       "7         6.6      E  \n",
       "8         8.4      E  \n",
       "9         NaN    NaN  \n",
       "10        NaN    NaN  \n",
       "11        8.6      E  \n",
       "12        NaN    NaN  \n",
       "13        7.7      E  \n",
       "14        6.3      E  \n",
       "15        7.4      E  \n",
       "16        8.2      M  \n",
       "17          9      M  \n",
       "18        NaN    NaN  \n",
       "19        7.9      E  \n",
       "20        NaN    NaN  \n",
       "21        NaN    NaN  \n",
       "22        NaN    NaN  \n",
       "23        8.1      M  \n",
       "24        8.7      M  \n",
       "25        NaN    NaN  \n",
       "26        7.1      E  \n",
       "27        NaN    NaN  \n",
       "28        8.4      E  \n",
       "29        3.4      M  "
      ]
     },
     "execution_count": 3,
     "metadata": {},
     "output_type": "execute_result"
    }
   ],
   "source": [
    "data.head(30)"
   ]
  },
  {
   "cell_type": "code",
   "execution_count": 4,
   "metadata": {},
   "outputs": [
    {
     "name": "stdout",
     "output_type": "stream",
     "text": [
      "<class 'pandas.core.frame.DataFrame'>\n",
      "RangeIndex: 16715 entries, 0 to 16714\n",
      "Data columns (total 11 columns):\n",
      " #   Column           Non-Null Count  Dtype  \n",
      "---  ------           --------------  -----  \n",
      " 0   Name             16713 non-null  object \n",
      " 1   Platform         16715 non-null  object \n",
      " 2   Year_of_Release  16446 non-null  float64\n",
      " 3   Genre            16713 non-null  object \n",
      " 4   NA_sales         16715 non-null  float64\n",
      " 5   EU_sales         16715 non-null  float64\n",
      " 6   JP_sales         16715 non-null  float64\n",
      " 7   Other_sales      16715 non-null  float64\n",
      " 8   Critic_Score     8137 non-null   float64\n",
      " 9   User_Score       10014 non-null  object \n",
      " 10  Rating           9949 non-null   object \n",
      "dtypes: float64(6), object(5)\n",
      "memory usage: 1.4+ MB\n"
     ]
    }
   ],
   "source": [
    "data.info()"
   ]
  },
  {
   "cell_type": "markdown",
   "metadata": {},
   "source": [
    "Датафрейм содержит 16715 строк и 11 столбов: name - с названием игры, platform - с названием платформы на которой вышла игра, Year_of_Release - год релиза,genre-жанр, NA_sales - продажи в Северной Америке,\tEU_sales - продажи в Европе, JP_sales - продажи в Японии, Other_sales - Продажи в других регионах, \tCritic_Score - Оценка критиков,\tUser_Score - Оценка пользователей, Rating - Рейтинг.\n",
    "Также можно заметить, что в некоторых столбцах неверные типы данных. Это касается столбца с годом релиза и оценкой от пользователей"
   ]
  },
  {
   "cell_type": "markdown",
   "metadata": {},
   "source": [
    "### Проверка данных на наличие пропусков"
   ]
  },
  {
   "cell_type": "code",
   "execution_count": 5,
   "metadata": {},
   "outputs": [
    {
     "data": {
      "text/plain": [
       "Name                  2\n",
       "Platform              0\n",
       "Year_of_Release     269\n",
       "Genre                 2\n",
       "NA_sales              0\n",
       "EU_sales              0\n",
       "JP_sales              0\n",
       "Other_sales           0\n",
       "Critic_Score       8578\n",
       "User_Score         6701\n",
       "Rating             6766\n",
       "dtype: int64"
      ]
     },
     "execution_count": 5,
     "metadata": {},
     "output_type": "execute_result"
    }
   ],
   "source": [
    "data.isna().sum()"
   ]
  },
  {
   "cell_type": "code",
   "execution_count": 6,
   "metadata": {},
   "outputs": [],
   "source": [
    "data = data[~data['Name'].isna()]\n",
    "data = data[~data['Year_of_Release'].isna()]\n",
    "data = data[~data['Genre'].isna()]"
   ]
  },
  {
   "cell_type": "code",
   "execution_count": 7,
   "metadata": {},
   "outputs": [
    {
     "data": {
      "text/plain": [
       "Name                  0\n",
       "Platform              0\n",
       "Year_of_Release       0\n",
       "Genre                 0\n",
       "NA_sales              0\n",
       "EU_sales              0\n",
       "JP_sales              0\n",
       "Other_sales           0\n",
       "Critic_Score       8461\n",
       "User_Score         6605\n",
       "Rating             6676\n",
       "dtype: int64"
      ]
     },
     "execution_count": 7,
     "metadata": {},
     "output_type": "execute_result"
    }
   ],
   "source": [
    "data.isna().sum()"
   ]
  },
  {
   "cell_type": "markdown",
   "metadata": {},
   "source": [
    "Обработаем пропуски, в целом основная сумма пропусков находится в столбцах с рейтинга, видимо данные неизвестны. Остальные пропуски в названии игры, годе релиза и жанре. Так как эти данные заменить нечем и они могут повлиять на дальнейшую работу, есть смысла эти значения удалить, их немного и это будет некритично.\n",
    "Также можно заметить довольно большое количество пропусков в столбцах с оценками от критиков и пользователей. Такие пропуски могли появиться по многим причинам, но на мой взгляд основными является просто отсутствие данных и, возможно, по новым играм которые еще не успели выйти. Заменить эти данные тоже нечем, заполнять их медианой по жанру неправильно, нулями тоже, указывать на месте пропусков 'нет данных' тоже плохая идея, так как это будет мешать анализу. Предлагаю оставить все как есть."
   ]
  },
  {
   "cell_type": "markdown",
   "metadata": {},
   "source": [
    "### Проверка на наличие дубликатов и изменение типов данных"
   ]
  },
  {
   "cell_type": "code",
   "execution_count": 8,
   "metadata": {},
   "outputs": [
    {
     "data": {
      "text/html": [
       "<div>\n",
       "<style scoped>\n",
       "    .dataframe tbody tr th:only-of-type {\n",
       "        vertical-align: middle;\n",
       "    }\n",
       "\n",
       "    .dataframe tbody tr th {\n",
       "        vertical-align: top;\n",
       "    }\n",
       "\n",
       "    .dataframe thead th {\n",
       "        text-align: right;\n",
       "    }\n",
       "</style>\n",
       "<table border=\"1\" class=\"dataframe\">\n",
       "  <thead>\n",
       "    <tr style=\"text-align: right;\">\n",
       "      <th></th>\n",
       "      <th>name</th>\n",
       "      <th>platform</th>\n",
       "      <th>year_of_release</th>\n",
       "      <th>genre</th>\n",
       "      <th>na_sales</th>\n",
       "      <th>eu_sales</th>\n",
       "      <th>jp_sales</th>\n",
       "      <th>other_sales</th>\n",
       "      <th>critic_score</th>\n",
       "      <th>user_score</th>\n",
       "      <th>rating</th>\n",
       "    </tr>\n",
       "  </thead>\n",
       "  <tbody>\n",
       "    <tr>\n",
       "      <th>0</th>\n",
       "      <td>Wii Sports</td>\n",
       "      <td>Wii</td>\n",
       "      <td>2006.0</td>\n",
       "      <td>Sports</td>\n",
       "      <td>41.36</td>\n",
       "      <td>28.96</td>\n",
       "      <td>3.77</td>\n",
       "      <td>8.45</td>\n",
       "      <td>76.0</td>\n",
       "      <td>8</td>\n",
       "      <td>E</td>\n",
       "    </tr>\n",
       "    <tr>\n",
       "      <th>1</th>\n",
       "      <td>Super Mario Bros.</td>\n",
       "      <td>NES</td>\n",
       "      <td>1985.0</td>\n",
       "      <td>Platform</td>\n",
       "      <td>29.08</td>\n",
       "      <td>3.58</td>\n",
       "      <td>6.81</td>\n",
       "      <td>0.77</td>\n",
       "      <td>NaN</td>\n",
       "      <td>NaN</td>\n",
       "      <td>NaN</td>\n",
       "    </tr>\n",
       "    <tr>\n",
       "      <th>2</th>\n",
       "      <td>Mario Kart Wii</td>\n",
       "      <td>Wii</td>\n",
       "      <td>2008.0</td>\n",
       "      <td>Racing</td>\n",
       "      <td>15.68</td>\n",
       "      <td>12.76</td>\n",
       "      <td>3.79</td>\n",
       "      <td>3.29</td>\n",
       "      <td>82.0</td>\n",
       "      <td>8.3</td>\n",
       "      <td>E</td>\n",
       "    </tr>\n",
       "    <tr>\n",
       "      <th>3</th>\n",
       "      <td>Wii Sports Resort</td>\n",
       "      <td>Wii</td>\n",
       "      <td>2009.0</td>\n",
       "      <td>Sports</td>\n",
       "      <td>15.61</td>\n",
       "      <td>10.93</td>\n",
       "      <td>3.28</td>\n",
       "      <td>2.95</td>\n",
       "      <td>80.0</td>\n",
       "      <td>8</td>\n",
       "      <td>E</td>\n",
       "    </tr>\n",
       "    <tr>\n",
       "      <th>4</th>\n",
       "      <td>Pokemon Red/Pokemon Blue</td>\n",
       "      <td>GB</td>\n",
       "      <td>1996.0</td>\n",
       "      <td>Role-Playing</td>\n",
       "      <td>11.27</td>\n",
       "      <td>8.89</td>\n",
       "      <td>10.22</td>\n",
       "      <td>1.00</td>\n",
       "      <td>NaN</td>\n",
       "      <td>NaN</td>\n",
       "      <td>NaN</td>\n",
       "    </tr>\n",
       "  </tbody>\n",
       "</table>\n",
       "</div>"
      ],
      "text/plain": [
       "                       name platform  year_of_release         genre  na_sales  \\\n",
       "0                Wii Sports      Wii           2006.0        Sports     41.36   \n",
       "1         Super Mario Bros.      NES           1985.0      Platform     29.08   \n",
       "2            Mario Kart Wii      Wii           2008.0        Racing     15.68   \n",
       "3         Wii Sports Resort      Wii           2009.0        Sports     15.61   \n",
       "4  Pokemon Red/Pokemon Blue       GB           1996.0  Role-Playing     11.27   \n",
       "\n",
       "   eu_sales  jp_sales  other_sales  critic_score user_score rating  \n",
       "0     28.96      3.77         8.45          76.0          8      E  \n",
       "1      3.58      6.81         0.77           NaN        NaN    NaN  \n",
       "2     12.76      3.79         3.29          82.0        8.3      E  \n",
       "3     10.93      3.28         2.95          80.0          8      E  \n",
       "4      8.89     10.22         1.00           NaN        NaN    NaN  "
      ]
     },
     "execution_count": 8,
     "metadata": {},
     "output_type": "execute_result"
    }
   ],
   "source": [
    "data.columns = data.columns.str.lower()\n",
    "data.head()"
   ]
  },
  {
   "cell_type": "code",
   "execution_count": 9,
   "metadata": {},
   "outputs": [
    {
     "name": "stdout",
     "output_type": "stream",
     "text": [
      "<class 'pandas.core.frame.DataFrame'>\n",
      "Int64Index: 16444 entries, 0 to 16714\n",
      "Data columns (total 11 columns):\n",
      " #   Column           Non-Null Count  Dtype  \n",
      "---  ------           --------------  -----  \n",
      " 0   name             16444 non-null  object \n",
      " 1   platform         16444 non-null  object \n",
      " 2   year_of_release  16444 non-null  int64  \n",
      " 3   genre            16444 non-null  object \n",
      " 4   na_sales         16444 non-null  float64\n",
      " 5   eu_sales         16444 non-null  float64\n",
      " 6   jp_sales         16444 non-null  float64\n",
      " 7   other_sales      16444 non-null  float64\n",
      " 8   critic_score     7983 non-null   float64\n",
      " 9   user_score       7463 non-null   float64\n",
      " 10  rating           9768 non-null   object \n",
      "dtypes: float64(6), int64(1), object(4)\n",
      "memory usage: 1.5+ MB\n"
     ]
    }
   ],
   "source": [
    "#меняем тип данных в столбцах на нужный\n",
    "data['year_of_release']=data['year_of_release'].astype('int')\n",
    "pd.to_datetime(data['year_of_release'], format = '%Y')\n",
    "#data['year_of_release'].unique()\n",
    "\n",
    "data=data.replace('tbd',np.nan)\n",
    "\n",
    "data['user_score']=data['user_score'].astype('float')\n",
    "\n",
    "data.drop_duplicates()\n",
    "data.info()\n",
    "#Дубликатов нет"
   ]
  },
  {
   "cell_type": "markdown",
   "metadata": {},
   "source": [
    "Неправильные типы данных обнаружены в столбцах 'year_of_release' и 'user_score'. В первом столбце года были записаны в десятичном формате в чем нет смысла. Во втором столбце  во втором столбце рейтинг от пользователей был указан в виде текста, что тоже не логично. Сперва значения tbd(подлежит уточнению) были заменены на NaN(неизвестно), далее приведены к типу float, так как чаще всего оценка бывает не целочисленной."
   ]
  },
  {
   "cell_type": "code",
   "execution_count": 10,
   "metadata": {},
   "outputs": [],
   "source": [
    "#посчитаем общие продажи игр и запишем их в отдельный столбец\n",
    "data['sum_sales_game'] =  data[['na_sales','eu_sales','jp_sales', 'other_sales']].sum(axis = 1)\n",
    "#print(data)"
   ]
  },
  {
   "cell_type": "markdown",
   "metadata": {},
   "source": [
    "В целом основная сумма пропусков находится в столбцах с рейтинга, видимо данные неизвестны. Остальные пропуски в названии игры, годе релиза и жанре. Так как эти данные заменить нечем и они могут повлиять на дальнейшую работу, есть смысла эти значения удалить, их немного и это будет некритично.Также можно заметить довольно большое количество пропусков в столбцах с оценками от критиков и пользователей. Такие пропуски могли появиться по многим причинам, но на мой взгляд основными является просто отсутствие данных и, возможно, по новым играм которые еще не успели выйти. Заменить эти данные тоже нечем, заполнять их медианой по жанру неправильно, нулями тоже, указывать на месте пропусков 'нет данных' тоже плохая идея, так как это будет мешать анализу. Предлагаю оставить все как есть.\n",
    "Неправильные типы данных обнаружены в столбцах 'year_of_release' и 'user_score'. В первом столбце года были записаны в десятичном формате в чем нет смысла. Во втором столбце  во втором столбце рейтинг от пользователей был указан в виде текста, что тоже не логично. Сперва значения tbd(подлежит уточнению) были заменены на NaN(неизвестно), далее приведены к типу float, так чаще всего оценка бывает не целочисленной."
   ]
  },
  {
   "cell_type": "markdown",
   "metadata": {},
   "source": [
    "## Исследовательский анализ данных"
   ]
  },
  {
   "cell_type": "markdown",
   "metadata": {},
   "source": [
    "###  График количества выпущенных игр по годам"
   ]
  },
  {
   "cell_type": "code",
   "execution_count": 11,
   "metadata": {},
   "outputs": [
    {
     "data": {
      "image/png": "[encoded data removed]",
      "text/plain": [
       "<Figure size 1080x720 with 1 Axes>"
      ]
     },
     "metadata": {
      "needs_background": "light"
     },
     "output_type": "display_data"
    }
   ],
   "source": [
    "data['year_of_release'].hist(figsize=(15, 10), bins=70)\n",
    "plt.title('Количество выпущенных игр по годам')\n",
    "plt.xlabel('Год')\n",
    "plt.ylabel('Количество игр')\n",
    "plt.show()"
   ]
  },
  {
   "cell_type": "markdown",
   "metadata": {},
   "source": [
    "Как видно из графика рост игровой индустрии начался в 1994 (до этого игры выпускались в совсем небольшом количестве, эти данные для анализа не так важны) и достиг своего пика в конце-нулевых и начале десятых после чего пошел резкий спад."
   ]
  },
  {
   "cell_type": "markdown",
   "metadata": {},
   "source": [
    "### График распределения игр по платформам"
   ]
  },
  {
   "cell_type": "code",
   "execution_count": 12,
   "metadata": {},
   "outputs": [
    {
     "data": {
      "image/png": "[encoded data removed]",
      "text/plain": [
       "<Figure size 1080x720 with 1 Axes>"
      ]
     },
     "metadata": {
      "needs_background": "light"
     },
     "output_type": "display_data"
    }
   ],
   "source": [
    "data['platform'].hist(figsize=(15, 10),bins=20)\n",
    "plt.title('Количество выпущенных игр по платформам')\n",
    "plt.xlabel('Платформа')\n",
    "plt.ylabel('Количество игр')\n",
    "plt.show()\n"
   ]
  },
  {
   "cell_type": "markdown",
   "metadata": {},
   "source": [
    "Больше всего игр выпускалось на платформах DS и X360"
   ]
  },
  {
   "cell_type": "markdown",
   "metadata": {},
   "source": [
    "### Изменение продаж по платформам. Определение актуального периода существования платформы"
   ]
  },
  {
   "cell_type": "code",
   "execution_count": 13,
   "metadata": {
    "scrolled": true
   },
   "outputs": [
    {
     "data": {
      "text/html": [
       "<div>\n",
       "<style scoped>\n",
       "    .dataframe tbody tr th:only-of-type {\n",
       "        vertical-align: middle;\n",
       "    }\n",
       "\n",
       "    .dataframe tbody tr th {\n",
       "        vertical-align: top;\n",
       "    }\n",
       "\n",
       "    .dataframe thead th {\n",
       "        text-align: right;\n",
       "    }\n",
       "</style>\n",
       "<table border=\"1\" class=\"dataframe\">\n",
       "  <thead>\n",
       "    <tr style=\"text-align: right;\">\n",
       "      <th></th>\n",
       "      <th>na_sales</th>\n",
       "      <th>eu_sales</th>\n",
       "      <th>jp_sales</th>\n",
       "      <th>other_sales</th>\n",
       "      <th>sum_sales_game</th>\n",
       "    </tr>\n",
       "    <tr>\n",
       "      <th>platform</th>\n",
       "      <th></th>\n",
       "      <th></th>\n",
       "      <th></th>\n",
       "      <th></th>\n",
       "      <th></th>\n",
       "    </tr>\n",
       "  </thead>\n",
       "  <tbody>\n",
       "    <tr>\n",
       "      <th>PS2</th>\n",
       "      <td>572.92</td>\n",
       "      <td>332.63</td>\n",
       "      <td>137.54</td>\n",
       "      <td>190.47</td>\n",
       "      <td>1233.56</td>\n",
       "    </tr>\n",
       "    <tr>\n",
       "      <th>X360</th>\n",
       "      <td>595.74</td>\n",
       "      <td>268.32</td>\n",
       "      <td>12.30</td>\n",
       "      <td>84.88</td>\n",
       "      <td>961.24</td>\n",
       "    </tr>\n",
       "    <tr>\n",
       "      <th>PS3</th>\n",
       "      <td>390.13</td>\n",
       "      <td>327.21</td>\n",
       "      <td>79.41</td>\n",
       "      <td>134.59</td>\n",
       "      <td>931.34</td>\n",
       "    </tr>\n",
       "    <tr>\n",
       "      <th>Wii</th>\n",
       "      <td>486.87</td>\n",
       "      <td>258.32</td>\n",
       "      <td>68.28</td>\n",
       "      <td>77.71</td>\n",
       "      <td>891.18</td>\n",
       "    </tr>\n",
       "    <tr>\n",
       "      <th>DS</th>\n",
       "      <td>380.31</td>\n",
       "      <td>188.41</td>\n",
       "      <td>175.02</td>\n",
       "      <td>59.04</td>\n",
       "      <td>802.78</td>\n",
       "    </tr>\n",
       "    <tr>\n",
       "      <th>PS</th>\n",
       "      <td>334.72</td>\n",
       "      <td>212.39</td>\n",
       "      <td>139.78</td>\n",
       "      <td>40.69</td>\n",
       "      <td>727.58</td>\n",
       "    </tr>\n",
       "    <tr>\n",
       "      <th>PS4</th>\n",
       "      <td>108.74</td>\n",
       "      <td>141.09</td>\n",
       "      <td>15.96</td>\n",
       "      <td>48.35</td>\n",
       "      <td>314.14</td>\n",
       "    </tr>\n",
       "    <tr>\n",
       "      <th>GBA</th>\n",
       "      <td>184.12</td>\n",
       "      <td>74.59</td>\n",
       "      <td>46.56</td>\n",
       "      <td>7.61</td>\n",
       "      <td>312.88</td>\n",
       "    </tr>\n",
       "    <tr>\n",
       "      <th>PSP</th>\n",
       "      <td>107.27</td>\n",
       "      <td>65.62</td>\n",
       "      <td>75.88</td>\n",
       "      <td>40.76</td>\n",
       "      <td>289.53</td>\n",
       "    </tr>\n",
       "    <tr>\n",
       "      <th>3DS</th>\n",
       "      <td>82.65</td>\n",
       "      <td>61.27</td>\n",
       "      <td>100.62</td>\n",
       "      <td>13.27</td>\n",
       "      <td>257.81</td>\n",
       "    </tr>\n",
       "  </tbody>\n",
       "</table>\n",
       "</div>"
      ],
      "text/plain": [
       "          na_sales  eu_sales  jp_sales  other_sales  sum_sales_game\n",
       "platform                                                           \n",
       "PS2         572.92    332.63    137.54       190.47         1233.56\n",
       "X360        595.74    268.32     12.30        84.88          961.24\n",
       "PS3         390.13    327.21     79.41       134.59          931.34\n",
       "Wii         486.87    258.32     68.28        77.71          891.18\n",
       "DS          380.31    188.41    175.02        59.04          802.78\n",
       "PS          334.72    212.39    139.78        40.69          727.58\n",
       "PS4         108.74    141.09     15.96        48.35          314.14\n",
       "GBA         184.12     74.59     46.56         7.61          312.88\n",
       "PSP         107.27     65.62     75.88        40.76          289.53\n",
       "3DS          82.65     61.27    100.62        13.27          257.81"
      ]
     },
     "metadata": {},
     "output_type": "display_data"
    }
   ],
   "source": [
    "#Определим топ 10 платформ основываясь на объеме продаж\n",
    "top10=data.groupby(['platform'])['na_sales', 'eu_sales', 'jp_sales', 'other_sales', 'sum_sales_game'].sum()\n",
    "top10=top10.sort_values(by='sum_sales_game',ascending = False).head(10)\n",
    "display(top10)"
   ]
  },
  {
   "cell_type": "markdown",
   "metadata": {},
   "source": [
    "Далее построим распределение по годам. Так как платформ 10, для удобства отобразим их в двух группах и соответственно в двух графиках"
   ]
  },
  {
   "cell_type": "code",
   "execution_count": 14,
   "metadata": {},
   "outputs": [],
   "source": [
    "group1=data.query((\"platform == ['PS2','GBA','PS','Wii','DS']\"))\n",
    "group2=data.query((\"platform == ['PS3','PS4','X360','PSP','3DS']\"))"
   ]
  },
  {
   "cell_type": "code",
   "execution_count": 15,
   "metadata": {},
   "outputs": [
    {
     "data": {
      "image/png": "[encoded data removed]",
      "text/plain": [
       "<Figure size 864x504 with 1 Axes>"
      ]
     },
     "metadata": {
      "needs_background": "light"
     },
     "output_type": "display_data"
    }
   ],
   "source": [
    "loc1 = group1.pivot_table(index = ['year_of_release'], values = 'sum_sales_game', columns='platform',aggfunc=['sum'])\n",
    "loc1.plot(figsize=(12,7),grid=True)\n",
    "plt.xlim(1993,2016)\n",
    "\n",
    "plt.title('Срок существования платформы')\n",
    "plt.xlabel('Платформа')\n",
    "plt.ylabel('Продажи')\n",
    "plt.show()\n"
   ]
  },
  {
   "cell_type": "code",
   "execution_count": 16,
   "metadata": {},
   "outputs": [
    {
     "data": {
      "image/png": "[encoded data removed]",
      "text/plain": [
       "<Figure size 864x504 with 1 Axes>"
      ]
     },
     "metadata": {
      "needs_background": "light"
     },
     "output_type": "display_data"
    }
   ],
   "source": [
    "loc2 = group2.pivot_table(index = ['year_of_release'], values = 'sum_sales_game', columns='platform',aggfunc=['sum'])\n",
    "loc2.plot(figsize=(12,7),grid=True)\n",
    "plt.title('Срок существования платформы')\n",
    "plt.xlabel('Платформа')\n",
    "plt.ylabel('Продажи')\n",
    "plt.show()\n"
   ]
  },
  {
   "cell_type": "markdown",
   "metadata": {},
   "source": [
    "Как можно заметить в целом каждая из платформ существует всего около 10 лет, но это полное существование, а продажи начинают скатываться за более быстрый срок. Как правило для платформ характерен резкий рост продаж за пару лет и далее продолжительный спад. Для расчета медианного актуального срока жизни платформы примем минимальные продажи равными 10"
   ]
  },
  {
   "cell_type": "code",
   "execution_count": 17,
   "metadata": {},
   "outputs": [
    {
     "name": "stdout",
     "output_type": "stream",
     "text": [
      "Медианное время жизни платформы при уровне минимальных продаж 10 млн. составляет 6 лет\n"
     ]
    }
   ],
   "source": [
    "threshold=10\n",
    "report=data.groupby(['platform','year_of_release']).agg({'sum_sales_game':'sum'}).reset_index()\n",
    "report=report.query('sum_sales_game>@threshold')\n",
    "report=report.groupby(['platform']).agg({'year_of_release':'nunique'}).rename(columns={'year_of_release':'lifetime'})\n",
    "median_platform_lifetime=int(report.median()[0])\n",
    "print('Медианное время жизни платформы при уровне минимальных продаж {} млн. составляет {} лет'.format(threshold,median_platform_lifetime))"
   ]
  },
  {
   "cell_type": "markdown",
   "metadata": {},
   "source": [
    "Актуальный период составит примерно половину этого времени потому, что половину жизненного цикла платформы растут, а вторую половину - падают."
   ]
  },
  {
   "cell_type": "markdown",
   "metadata": {},
   "source": [
    "### Определение лидирующих платформ на основе отобранного актуального периода и анализ"
   ]
  },
  {
   "cell_type": "markdown",
   "metadata": {},
   "source": [
    "Сделаем срез данных для дальнейшеого анализа основываясь на ранее рассчитанном актуальном периоде существования платформы"
   ]
  },
  {
   "cell_type": "code",
   "execution_count": 18,
   "metadata": {
    "scrolled": true
   },
   "outputs": [
    {
     "data": {
      "text/html": [
       "<div>\n",
       "<style scoped>\n",
       "    .dataframe tbody tr th:only-of-type {\n",
       "        vertical-align: middle;\n",
       "    }\n",
       "\n",
       "    .dataframe tbody tr th {\n",
       "        vertical-align: top;\n",
       "    }\n",
       "\n",
       "    .dataframe thead tr th {\n",
       "        text-align: left;\n",
       "    }\n",
       "\n",
       "    .dataframe thead tr:last-of-type th {\n",
       "        text-align: right;\n",
       "    }\n",
       "</style>\n",
       "<table border=\"1\" class=\"dataframe\">\n",
       "  <thead>\n",
       "    <tr>\n",
       "      <th></th>\n",
       "      <th colspan=\"10\" halign=\"left\">sum</th>\n",
       "    </tr>\n",
       "    <tr>\n",
       "      <th>platform</th>\n",
       "      <th>3DS</th>\n",
       "      <th>PC</th>\n",
       "      <th>PS3</th>\n",
       "      <th>PS4</th>\n",
       "      <th>PSP</th>\n",
       "      <th>PSV</th>\n",
       "      <th>Wii</th>\n",
       "      <th>WiiU</th>\n",
       "      <th>X360</th>\n",
       "      <th>XOne</th>\n",
       "    </tr>\n",
       "    <tr>\n",
       "      <th>year_of_release</th>\n",
       "      <th></th>\n",
       "      <th></th>\n",
       "      <th></th>\n",
       "      <th></th>\n",
       "      <th></th>\n",
       "      <th></th>\n",
       "      <th></th>\n",
       "      <th></th>\n",
       "      <th></th>\n",
       "      <th></th>\n",
       "    </tr>\n",
       "  </thead>\n",
       "  <tbody>\n",
       "    <tr>\n",
       "      <th>2014</th>\n",
       "      <td>43.76</td>\n",
       "      <td>13.28</td>\n",
       "      <td>47.76</td>\n",
       "      <td>100.00</td>\n",
       "      <td>0.24</td>\n",
       "      <td>11.90</td>\n",
       "      <td>3.75</td>\n",
       "      <td>22.03</td>\n",
       "      <td>34.74</td>\n",
       "      <td>54.07</td>\n",
       "    </tr>\n",
       "    <tr>\n",
       "      <th>2015</th>\n",
       "      <td>27.78</td>\n",
       "      <td>8.52</td>\n",
       "      <td>16.82</td>\n",
       "      <td>118.90</td>\n",
       "      <td>0.12</td>\n",
       "      <td>6.25</td>\n",
       "      <td>1.14</td>\n",
       "      <td>16.35</td>\n",
       "      <td>11.96</td>\n",
       "      <td>60.14</td>\n",
       "    </tr>\n",
       "    <tr>\n",
       "      <th>2016</th>\n",
       "      <td>15.14</td>\n",
       "      <td>5.25</td>\n",
       "      <td>3.60</td>\n",
       "      <td>69.25</td>\n",
       "      <td>NaN</td>\n",
       "      <td>4.25</td>\n",
       "      <td>0.18</td>\n",
       "      <td>4.60</td>\n",
       "      <td>1.52</td>\n",
       "      <td>26.15</td>\n",
       "    </tr>\n",
       "  </tbody>\n",
       "</table>\n",
       "</div>"
      ],
      "text/plain": [
       "                   sum                                                         \\\n",
       "platform           3DS     PC    PS3     PS4   PSP    PSV   Wii   WiiU   X360   \n",
       "year_of_release                                                                 \n",
       "2014             43.76  13.28  47.76  100.00  0.24  11.90  3.75  22.03  34.74   \n",
       "2015             27.78   8.52  16.82  118.90  0.12   6.25  1.14  16.35  11.96   \n",
       "2016             15.14   5.25   3.60   69.25   NaN   4.25  0.18   4.60   1.52   \n",
       "\n",
       "                        \n",
       "platform          XOne  \n",
       "year_of_release         \n",
       "2014             54.07  \n",
       "2015             60.14  \n",
       "2016             26.15  "
      ]
     },
     "metadata": {},
     "output_type": "display_data"
    }
   ],
   "source": [
    "data1=data.query('year_of_release>=2014')\n",
    "pivot_table = data1.pivot_table(index = ['year_of_release'], values = 'sum_sales_game', columns='platform',aggfunc=['sum'])\n",
    "display(pivot_table)"
   ]
  },
  {
   "cell_type": "markdown",
   "metadata": {},
   "source": [
    "Как можно заметить некоторые платформы с 2014 года уже не так популярны, это касается уже старых PSP и Wii, есть смысл их убрать"
   ]
  },
  {
   "cell_type": "code",
   "execution_count": 19,
   "metadata": {},
   "outputs": [
    {
     "data": {
      "image/png": "[encoded data removed]",
      "text/plain": [
       "<Figure size 1080x504 with 1 Axes>"
      ]
     },
     "metadata": {
      "needs_background": "light"
     },
     "output_type": "display_data"
    }
   ],
   "source": [
    "data1=data1.query('platform!=\"PSP\" and platform!=\"Wii\"')\n",
    "\n",
    "#Рассмотрим какие платформы лидируют по продажам\n",
    "pivot_table2= data1.pivot_table(index = ['year_of_release'], values = 'sum_sales_game', columns='platform',aggfunc=['sum'])\n",
    "pivot_table2.plot(kind = 'bar',figsize=(15,7), grid=True)\n",
    "plt.title('Продажи по годам')\n",
    "plt.xlabel('Платформа')\n",
    "plt.ylabel('Продажи')\n",
    "plt.show()\n"
   ]
  },
  {
   "cell_type": "markdown",
   "metadata": {},
   "source": [
    "Вывод: Как можно заметить в целом лидируют всего три платформы это XOne, PS4 и 3DS. Они же самые прибыльные. В 2015 году по сравнению с 2014 годом увеличились продажи на основных платформах PS4 и XOne, в то время как стали уменьшаться доли продаж на других платформах в том числе 3DS. В 2016 году произошел резкий спад продаж, вызван он был уменьшением количества выпущенных игр и соответственно продаж, лидеры все те же."
   ]
  },
  {
   "cell_type": "code",
   "execution_count": 20,
   "metadata": {},
   "outputs": [
    {
     "data": {
      "image/png": "[encoded data removed]",
      "text/plain": [
       "<Figure size 864x648 with 1 Axes>"
      ]
     },
     "metadata": {
      "needs_background": "light"
     },
     "output_type": "display_data"
    }
   ],
   "source": [
    "data1.boxplot(by ='platform', column =['sum_sales_game'], grid = True,figsize=(12,9))\n",
    "plt.ylim(0,2)\n",
    "plt.title('Диаграмма размаха по сумме продаж в разделе платформ')\n",
    "plt.xlabel('Платформа')\n",
    "plt.ylabel('Продажи')\n",
    "plt.show()\n"
   ]
  },
  {
   "cell_type": "markdown",
   "metadata": {},
   "source": [
    "Исходя из графиков видно, что медиана протекает у всех по-разному. По продажам лидируют PS4 и X0ne."
   ]
  },
  {
   "cell_type": "markdown",
   "metadata": {},
   "source": [
    "### Оценить влияние отзывов от критиков и пользователей на продажи"
   ]
  },
  {
   "cell_type": "markdown",
   "metadata": {},
   "source": [
    "Рассмотрим как влияют на продажи внутри одной популярной платформы отзывы пользователей и критиков. "
   ]
  },
  {
   "cell_type": "code",
   "execution_count": 21,
   "metadata": {},
   "outputs": [
    {
     "data": {
      "text/plain": [
       "0.42867694370333226"
      ]
     },
     "execution_count": 21,
     "metadata": {},
     "output_type": "execute_result"
    },
    {
     "data": {
      "image/png": "[encoded data removed]",
      "text/plain": [
       "<Figure size 720x360 with 1 Axes>"
      ]
     },
     "metadata": {
      "needs_background": "light"
     },
     "output_type": "display_data"
    },
    {
     "data": {
      "image/png": "[encoded data removed]",
      "text/plain": [
       "<Figure size 720x360 with 1 Axes>"
      ]
     },
     "metadata": {
      "needs_background": "light"
     },
     "output_type": "display_data"
    },
    {
     "data": {
      "image/png": "[encoded data removed]",
      "text/plain": [
       "<Figure size 720x360 with 1 Axes>"
      ]
     },
     "metadata": {
      "needs_background": "light"
     },
     "output_type": "display_data"
    },
    {
     "data": {
      "image/png": "[encoded data removed]",
      "text/plain": [
       "<Figure size 720x360 with 1 Axes>"
      ]
     },
     "metadata": {
      "needs_background": "light"
     },
     "output_type": "display_data"
    }
   ],
   "source": [
    "#PS4\n",
    "ps4_corr=data1[data1['platform']=='PS4']\n",
    "ps4_corr.plot(x='user_score', y='sum_sales_game', kind='scatter', alpha=0.6, figsize=(10,5), grid=True,xlabel='Оценки пользователей PS4', ylabel='Продажи PS4')\n",
    "plt.ylim(0,2)\n",
    "ps4_corr['user_score'].corr(ps4_corr['sum_sales_game'])\n",
    "#-0,04 связи нет\n",
    "\n",
    "ps4_corr.plot(x='critic_score', y='sum_sales_game', kind='scatter', alpha=0.6, figsize=(10,5), grid=True, xlabel='Оценки критиков PS4', ylabel='Продажи PS4')\n",
    "plt.ylim(0,2)\n",
    "ps4_corr['critic_score'].corr(ps4_corr['sum_sales_game'])\n",
    "#0,4 связь умеренная\n",
    "\n",
    "#XOne\n",
    "xone_corr=data1[data1['platform']=='XOne']\n",
    "xone_corr.plot(x='user_score', y='sum_sales_game', kind='scatter', alpha=0.6, figsize=(10,5), grid=True, xlabel='Оценки пользователей XOne', ylabel='Продажи XOne')\n",
    "plt.ylim(0,2)\n",
    "xone_corr['user_score'].corr(xone_corr['sum_sales_game'])\n",
    "#-0,07 связи нет\n",
    "\n",
    "xone_corr.plot(x='critic_score', y='sum_sales_game', kind='scatter', alpha=0.6, figsize=(10,5), grid=True, xlabel='Оценки критиков XOne' , ylabel='Продажи XOne')\n",
    "plt.ylim(0,2)\n",
    "xone_corr['critic_score'].corr(xone_corr['sum_sales_game'])\n",
    "#0,42 связь умеренная"
   ]
  },
  {
   "cell_type": "code",
   "execution_count": 22,
   "metadata": {},
   "outputs": [
    {
     "data": {
      "text/plain": [
       "0.44657460493190704"
      ]
     },
     "execution_count": 22,
     "metadata": {},
     "output_type": "execute_result"
    },
    {
     "data": {
      "image/png": "[encoded data removed]",
      "text/plain": [
       "<Figure size 720x360 with 1 Axes>"
      ]
     },
     "metadata": {
      "needs_background": "light"
     },
     "output_type": "display_data"
    },
    {
     "data": {
      "image/png": "[encoded data removed]",
      "text/plain": [
       "<Figure size 720x360 with 1 Axes>"
      ]
     },
     "metadata": {
      "needs_background": "light"
     },
     "output_type": "display_data"
    },
    {
     "data": {
      "image/png": "[encoded data removed]",
      "text/plain": [
       "<Figure size 720x360 with 1 Axes>"
      ]
     },
     "metadata": {
      "needs_background": "light"
     },
     "output_type": "display_data"
    },
    {
     "data": {
      "image/png": "[encoded data removed]",
      "text/plain": [
       "<Figure size 720x360 with 1 Axes>"
      ]
     },
     "metadata": {
      "needs_background": "light"
     },
     "output_type": "display_data"
    }
   ],
   "source": [
    "#3DS\n",
    "ds_corr=data1[data1['platform']=='3DS']\n",
    "ds_corr.plot(x='user_score', y='sum_sales_game', kind='scatter', alpha=0.6, figsize=(10,5), grid=True, xlabel='Оценки пользователей 3ds', ylabel='Продажи')\n",
    "plt.ylim(0,2)\n",
    "ds_corr['user_score'].corr(ds_corr['sum_sales_game'])\n",
    "#-0,07 связи нет\n",
    "\n",
    "ds_corr.plot(x='critic_score', y='sum_sales_game', kind='scatter', alpha=0.6, figsize=(10,5), grid=True, xlabel='Оценки критиков 3ds', ylabel='Продажи')\n",
    "plt.ylim(0,2)\n",
    "ds_corr['critic_score'].corr(ds_corr['sum_sales_game'])\n",
    "#0.31 связь умеренная\n",
    "\n",
    "#PS3\n",
    "ps3_corr=data1[data1['platform']=='PS3']\n",
    "ps3_corr.plot(x='user_score', y='sum_sales_game', kind='scatter', alpha=0.6, figsize=(10,5), grid=True, xlabel='Оценки пользователей PS3', ylabel='Продажи')\n",
    "plt.ylim(0,2)\n",
    "ps3_corr['user_score'].corr(ps3_corr['sum_sales_game'])\n",
    "#-0,17 связь слабая\n",
    "\n",
    "ps3_corr.plot(x='critic_score', y='sum_sales_game', kind='scatter', alpha=0.6, figsize=(10,5), grid=True, xlabel='Оценки критиков PS3', ylabel='Продажи')\n",
    "plt.ylim(0,2)\n",
    "ps3_corr['critic_score'].corr(ps3_corr['sum_sales_game'])\n",
    "#0,45 связь умеренная\n",
    "\n"
   ]
  },
  {
   "cell_type": "code",
   "execution_count": 23,
   "metadata": {},
   "outputs": [
    {
     "data": {
      "text/plain": [
       "0.04266490657009526"
      ]
     },
     "execution_count": 23,
     "metadata": {},
     "output_type": "execute_result"
    },
    {
     "data": {
      "image/png": "[encoded data removed]",
      "text/plain": [
       "<Figure size 720x360 with 1 Axes>"
      ]
     },
     "metadata": {
      "needs_background": "light"
     },
     "output_type": "display_data"
    },
    {
     "data": {
      "image/png": "[encoded data removed]",
      "text/plain": [
       "<Figure size 720x360 with 1 Axes>"
      ]
     },
     "metadata": {
      "needs_background": "light"
     },
     "output_type": "display_data"
    },
    {
     "data": {
      "image/png": "[encoded data removed]",
      "text/plain": [
       "<Figure size 720x360 with 1 Axes>"
      ]
     },
     "metadata": {
      "needs_background": "light"
     },
     "output_type": "display_data"
    },
    {
     "data": {
      "image/png": "[encoded data removed]",
      "text/plain": [
       "<Figure size 720x360 with 1 Axes>"
      ]
     },
     "metadata": {
      "needs_background": "light"
     },
     "output_type": "display_data"
    }
   ],
   "source": [
    "wiiu_corr=data1[data1['platform']=='WiiU']\n",
    "wiiu_corr.plot(x='user_score', y='sum_sales_game', kind='scatter', alpha=0.6, figsize=(10,5), grid=True, xlabel='Оценки пользователей WiiU', ylabel='Продажи')\n",
    "plt.ylim(0,2)\n",
    "wiiu_corr['user_score'].corr(wiiu_corr['sum_sales_game'])\n",
    "#0,4 связь умеренная\n",
    "\n",
    "wiiu_corr.plot(x='critic_score', y='sum_sales_game', kind='scatter', alpha=0.6, figsize=(10,5), grid=True, xlabel='Оценки критиков WiiU', ylabel='Продажи')\n",
    "plt.ylim(0,2)\n",
    "wiiu_corr['critic_score'].corr(wiiu_corr['sum_sales_game'])\n",
    "#0,37 связь умеренная\n",
    "\n",
    "psv_corr=data1[data1['platform']=='PSV']\n",
    "psv_corr.plot(x='user_score', y='sum_sales_game', kind='scatter', alpha=0.6, figsize=(10,5), grid=True, xlabel='Оценки пользователей PSV', ylabel='Продажи')\n",
    "plt.ylim(0,2)\n",
    "psv_corr['user_score'].corr(psv_corr['sum_sales_game'])\n",
    "#-0,17 связь слабая\n",
    "\n",
    "psv_corr.plot(x='critic_score', y='sum_sales_game', kind='scatter', alpha=0.6, figsize=(10,5), grid=True, xlabel='Оценки критиков PSV', ylabel='Продажи')\n",
    "plt.ylim(0,2)\n",
    "psv_corr['critic_score'].corr(psv_corr['sum_sales_game'])\n",
    "#0,042 связи нет"
   ]
  },
  {
   "cell_type": "code",
   "execution_count": 24,
   "metadata": {},
   "outputs": [
    {
     "data": {
      "text/plain": [
       "0.17463413769350036"
      ]
     },
     "execution_count": 24,
     "metadata": {},
     "output_type": "execute_result"
    },
    {
     "data": {
      "image/png": "[encoded data removed]",
      "text/plain": [
       "<Figure size 720x360 with 1 Axes>"
      ]
     },
     "metadata": {
      "needs_background": "light"
     },
     "output_type": "display_data"
    },
    {
     "data": {
      "image/png": "[encoded data removed]",
      "text/plain": [
       "<Figure size 720x360 with 1 Axes>"
      ]
     },
     "metadata": {
      "needs_background": "light"
     },
     "output_type": "display_data"
    },
    {
     "data": {
      "image/png": "[encoded data removed]",
      "text/plain": [
       "<Figure size 720x360 with 1 Axes>"
      ]
     },
     "metadata": {
      "needs_background": "light"
     },
     "output_type": "display_data"
    },
    {
     "data": {
      "image/png": "[encoded data removed]",
      "text/plain": [
       "<Figure size 720x360 with 1 Axes>"
      ]
     },
     "metadata": {
      "needs_background": "light"
     },
     "output_type": "display_data"
    }
   ],
   "source": [
    "#X360\n",
    "x360_corr=data1[data1['platform']=='X360']\n",
    "x360_corr.plot(x='user_score', y='sum_sales_game', kind='scatter', alpha=0.6, figsize=(10,5), grid=True, xlabel='Оценки пользователей X360', ylabel='Продажи')\n",
    "plt.ylim(0,2)\n",
    "x360_corr['user_score'].corr(x360_corr['sum_sales_game'])\n",
    "#-0,14 связь слабая\n",
    "\n",
    "x360_corr.plot(x='critic_score', y='sum_sales_game', kind='scatter', alpha=0.6, figsize=(10,5), grid=True, xlabel='Оценки критиков X360', ylabel='Продажи')\n",
    "plt.ylim(0,2)\n",
    "x360_corr['critic_score'].corr(x360_corr['sum_sales_game'])\n",
    "#0,52 связь заметная\n",
    "\n",
    "#PC\n",
    "pc_corr=data1[data1['platform']=='PC']\n",
    "pc_corr.plot(x='user_score', y='sum_sales_game', kind='scatter', alpha=0.6, figsize=(10,5), grid=True, xlabel='Оценки пользователей PC', ylabel='Продажи')\n",
    "plt.ylim(0,2)\n",
    "pc_corr['user_score'].corr(pc_corr['sum_sales_game'])\n",
    "#-0,07 связи нет\n",
    "\n",
    "pc_corr.plot(x='critic_score', y='sum_sales_game', kind='scatter', alpha=0.6, figsize=(10,5), grid=True, xlabel='Оценки критиков PC', ylabel='Продажи')\n",
    "plt.ylim(0,2)\n",
    "pc_corr['critic_score'].corr(pc_corr['sum_sales_game'])\n",
    "#0,17 связь слабая\n",
    "\n",
    "\n"
   ]
  },
  {
   "cell_type": "markdown",
   "metadata": {},
   "source": [
    "По результатам анализа можно четко сказать что оценки пользователей мало влияют на продажи игр. Большую роль играют оценки от критиков, хотя влияние здесь тоже не самое сильное. Исключение составляет WiiU здесь на продажи игр влияют как обычные пользователи так и критики. Люди пользующиеся PSV и PC не волнует мнение ни пользователей, ни критиков."
   ]
  },
  {
   "cell_type": "markdown",
   "metadata": {},
   "source": [
    "### График распределения игр по жанрам"
   ]
  },
  {
   "cell_type": "code",
   "execution_count": 25,
   "metadata": {},
   "outputs": [
    {
     "data": {
      "image/png": "[encoded data removed]",
      "text/plain": [
       "<Figure size 720x360 with 1 Axes>"
      ]
     },
     "metadata": {
      "needs_background": "light"
     },
     "output_type": "display_data"
    }
   ],
   "source": [
    "#Рассмотрим распределение продаж по жанрам\n",
    "genre=data1.pivot_table(index = ['genre'], values = 'sum_sales_game',aggfunc=['sum'])\n",
    "genre.plot(figsize=(10,5), grid=True)\n",
    "plt.title('График по сумме продаж в разрезе платформ')\n",
    "plt.xlabel('Платформа')\n",
    "plt.ylabel('Продажи')\n",
    "plt.show()\n",
    "\n"
   ]
  },
  {
   "cell_type": "code",
   "execution_count": 26,
   "metadata": {},
   "outputs": [
    {
     "data": {
      "image/png": "[encoded data removed]",
      "text/plain": [
       "<Figure size 864x576 with 1 Axes>"
      ]
     },
     "metadata": {
      "needs_background": "light"
     },
     "output_type": "display_data"
    }
   ],
   "source": [
    "data1.boxplot(by ='genre', column =['sum_sales_game'], grid = True,figsize=(12,8))\n",
    "plt.ylim(0,6)\n",
    "plt.title('Диаграмма размаха по сумме продаж в разделе жанров')\n",
    "plt.xlabel('Платформа')\n",
    "plt.show()\n"
   ]
  },
  {
   "cell_type": "markdown",
   "metadata": {},
   "source": [
    "В продажах в разреже жанров лидируют  шутеры, экшн-игры, спортивные игры. Менее популярны игры в жанре стратегий, приключений и паззлы."
   ]
  },
  {
   "cell_type": "markdown",
   "metadata": {},
   "source": [
    "## Составление портрета пользователя каждого региона"
   ]
  },
  {
   "cell_type": "markdown",
   "metadata": {},
   "source": [
    "### Самые популярные платформы"
   ]
  },
  {
   "cell_type": "code",
   "execution_count": 27,
   "metadata": {},
   "outputs": [
    {
     "data": {
      "text/html": [
       "<div>\n",
       "<style scoped>\n",
       "    .dataframe tbody tr th:only-of-type {\n",
       "        vertical-align: middle;\n",
       "    }\n",
       "\n",
       "    .dataframe tbody tr th {\n",
       "        vertical-align: top;\n",
       "    }\n",
       "\n",
       "    .dataframe thead th {\n",
       "        text-align: right;\n",
       "    }\n",
       "</style>\n",
       "<table border=\"1\" class=\"dataframe\">\n",
       "  <thead>\n",
       "    <tr style=\"text-align: right;\">\n",
       "      <th></th>\n",
       "      <th>продажи</th>\n",
       "      <th>число игр</th>\n",
       "      <th>доля продаж</th>\n",
       "    </tr>\n",
       "    <tr>\n",
       "      <th>platform</th>\n",
       "      <th></th>\n",
       "      <th></th>\n",
       "      <th></th>\n",
       "    </tr>\n",
       "  </thead>\n",
       "  <tbody>\n",
       "    <tr>\n",
       "      <th>PS4</th>\n",
       "      <td>98.61</td>\n",
       "      <td>376</td>\n",
       "      <td>0.35</td>\n",
       "    </tr>\n",
       "    <tr>\n",
       "      <th>XOne</th>\n",
       "      <td>81.27</td>\n",
       "      <td>228</td>\n",
       "      <td>0.29</td>\n",
       "    </tr>\n",
       "    <tr>\n",
       "      <th>3DS</th>\n",
       "      <td>22.64</td>\n",
       "      <td>212</td>\n",
       "      <td>0.08</td>\n",
       "    </tr>\n",
       "    <tr>\n",
       "      <th>PS3</th>\n",
       "      <td>22.05</td>\n",
       "      <td>219</td>\n",
       "      <td>0.08</td>\n",
       "    </tr>\n",
       "    <tr>\n",
       "      <th>PSV</th>\n",
       "      <td>2.52</td>\n",
       "      <td>295</td>\n",
       "      <td>0.01</td>\n",
       "    </tr>\n",
       "  </tbody>\n",
       "</table>\n",
       "</div>"
      ],
      "text/plain": [
       "          продажи  число игр  доля продаж\n",
       "platform                                 \n",
       "PS4         98.61        376         0.35\n",
       "XOne        81.27        228         0.29\n",
       "3DS         22.64        212         0.08\n",
       "PS3         22.05        219         0.08\n",
       "PSV          2.52        295         0.01"
      ]
     },
     "metadata": {},
     "output_type": "display_data"
    }
   ],
   "source": [
    "na=data1.pivot_table(index = ['platform'], values = 'na_sales',aggfunc=['sum','count'])\n",
    "na['na_sales_sh']=na['sum']/na['sum'].sum()\n",
    "na.columns=['продажи','число игр','доля продаж']\n",
    "\n",
    "na = na.sort_values('число игр', ascending = False).head()\n",
    "na=na.sort_values('продажи', ascending = False)\n",
    "na=na.sort_values('доля продаж', ascending = False).round(2)\n",
    "display(na)\n"
   ]
  },
  {
   "cell_type": "markdown",
   "metadata": {},
   "source": [
    "В Северной Америке ожидаемо лидирует платформы PS4 и XOne. Вместе они составляют более 64% от всех продаж. Далее следуют 3DS и PS3 по 8%."
   ]
  },
  {
   "cell_type": "code",
   "execution_count": 28,
   "metadata": {},
   "outputs": [
    {
     "data": {
      "text/html": [
       "<div>\n",
       "<style scoped>\n",
       "    .dataframe tbody tr th:only-of-type {\n",
       "        vertical-align: middle;\n",
       "    }\n",
       "\n",
       "    .dataframe tbody tr th {\n",
       "        vertical-align: top;\n",
       "    }\n",
       "\n",
       "    .dataframe thead th {\n",
       "        text-align: right;\n",
       "    }\n",
       "</style>\n",
       "<table border=\"1\" class=\"dataframe\">\n",
       "  <thead>\n",
       "    <tr style=\"text-align: right;\">\n",
       "      <th></th>\n",
       "      <th>продажи</th>\n",
       "      <th>число игр</th>\n",
       "      <th>доля продаж</th>\n",
       "    </tr>\n",
       "    <tr>\n",
       "      <th>platform</th>\n",
       "      <th></th>\n",
       "      <th></th>\n",
       "      <th></th>\n",
       "    </tr>\n",
       "  </thead>\n",
       "  <tbody>\n",
       "    <tr>\n",
       "      <th>PS4</th>\n",
       "      <td>130.04</td>\n",
       "      <td>376</td>\n",
       "      <td>0.49</td>\n",
       "    </tr>\n",
       "    <tr>\n",
       "      <th>XOne</th>\n",
       "      <td>46.25</td>\n",
       "      <td>228</td>\n",
       "      <td>0.17</td>\n",
       "    </tr>\n",
       "    <tr>\n",
       "      <th>PS3</th>\n",
       "      <td>25.54</td>\n",
       "      <td>219</td>\n",
       "      <td>0.10</td>\n",
       "    </tr>\n",
       "    <tr>\n",
       "      <th>3DS</th>\n",
       "      <td>16.12</td>\n",
       "      <td>212</td>\n",
       "      <td>0.06</td>\n",
       "    </tr>\n",
       "    <tr>\n",
       "      <th>PSV</th>\n",
       "      <td>3.53</td>\n",
       "      <td>295</td>\n",
       "      <td>0.01</td>\n",
       "    </tr>\n",
       "  </tbody>\n",
       "</table>\n",
       "</div>"
      ],
      "text/plain": [
       "          продажи  число игр  доля продаж\n",
       "platform                                 \n",
       "PS4        130.04        376         0.49\n",
       "XOne        46.25        228         0.17\n",
       "PS3         25.54        219         0.10\n",
       "3DS         16.12        212         0.06\n",
       "PSV          3.53        295         0.01"
      ]
     },
     "metadata": {},
     "output_type": "display_data"
    }
   ],
   "source": [
    "eu=data1.pivot_table(index = ['platform'], values = 'eu_sales',aggfunc=['sum','count'])\n",
    "eu['eu_sales_sh']=eu['sum']/eu['sum'].sum()\n",
    "eu.columns=['продажи','число игр','доля продаж']\n",
    "\n",
    "eu = eu.sort_values('число игр', ascending = False).head()\n",
    "eu=eu.sort_values('продажи', ascending = False)\n",
    "eu=eu.sort_values('доля продаж', ascending = False).round(2)\n",
    "display(eu)"
   ]
  },
  {
   "cell_type": "markdown",
   "metadata": {},
   "source": [
    "в Европе ситуация схожая, однако европейские игроки большее предпочтение дают PS4 - 49%, а только потом уже Xone - 0,17. Далее следуют 3DS и PS3: 6% и 10% соответственно."
   ]
  },
  {
   "cell_type": "code",
   "execution_count": 29,
   "metadata": {},
   "outputs": [
    {
     "data": {
      "text/html": [
       "<div>\n",
       "<style scoped>\n",
       "    .dataframe tbody tr th:only-of-type {\n",
       "        vertical-align: middle;\n",
       "    }\n",
       "\n",
       "    .dataframe tbody tr th {\n",
       "        vertical-align: top;\n",
       "    }\n",
       "\n",
       "    .dataframe thead th {\n",
       "        text-align: right;\n",
       "    }\n",
       "</style>\n",
       "<table border=\"1\" class=\"dataframe\">\n",
       "  <thead>\n",
       "    <tr style=\"text-align: right;\">\n",
       "      <th></th>\n",
       "      <th>продажи</th>\n",
       "      <th>число игр</th>\n",
       "      <th>доля продаж</th>\n",
       "    </tr>\n",
       "    <tr>\n",
       "      <th>platform</th>\n",
       "      <th></th>\n",
       "      <th></th>\n",
       "      <th></th>\n",
       "    </tr>\n",
       "  </thead>\n",
       "  <tbody>\n",
       "    <tr>\n",
       "      <th>3DS</th>\n",
       "      <td>44.24</td>\n",
       "      <td>212</td>\n",
       "      <td>0.48</td>\n",
       "    </tr>\n",
       "    <tr>\n",
       "      <th>PS4</th>\n",
       "      <td>15.02</td>\n",
       "      <td>376</td>\n",
       "      <td>0.16</td>\n",
       "    </tr>\n",
       "    <tr>\n",
       "      <th>PSV</th>\n",
       "      <td>14.54</td>\n",
       "      <td>295</td>\n",
       "      <td>0.16</td>\n",
       "    </tr>\n",
       "    <tr>\n",
       "      <th>PS3</th>\n",
       "      <td>11.22</td>\n",
       "      <td>219</td>\n",
       "      <td>0.12</td>\n",
       "    </tr>\n",
       "    <tr>\n",
       "      <th>XOne</th>\n",
       "      <td>0.32</td>\n",
       "      <td>228</td>\n",
       "      <td>0.00</td>\n",
       "    </tr>\n",
       "  </tbody>\n",
       "</table>\n",
       "</div>"
      ],
      "text/plain": [
       "          продажи  число игр  доля продаж\n",
       "platform                                 \n",
       "3DS         44.24        212         0.48\n",
       "PS4         15.02        376         0.16\n",
       "PSV         14.54        295         0.16\n",
       "PS3         11.22        219         0.12\n",
       "XOne         0.32        228         0.00"
      ]
     },
     "metadata": {},
     "output_type": "display_data"
    }
   ],
   "source": [
    "jp=data1.pivot_table(index = ['platform'], values = 'jp_sales',aggfunc=['sum','count'])\n",
    "jp['jp_sales_sh']=jp['sum']/jp['sum'].sum()\n",
    "jp.columns=['продажи','число игр','доля продаж']\n",
    "\n",
    "jp = jp.sort_values('число игр', ascending = False).head()\n",
    "jp=jp.sort_values('продажи', ascending = False)\n",
    "jp=jp.sort_values('доля продаж', ascending = False).round(2)\n",
    "display(jp)\n"
   ]
  },
  {
   "cell_type": "markdown",
   "metadata": {},
   "source": [
    "В Японии ситуаия же совсем иная. Здесь лидирует 3DS -48% продаж и только потом уже идут PS4 и PSV. Xone же в японии совсем не популярен. Японский рынок весьма специфичный."
   ]
  },
  {
   "cell_type": "markdown",
   "metadata": {},
   "source": [
    "### Самые популярные жанры (топ-5). Поясните разницу. "
   ]
  },
  {
   "cell_type": "code",
   "execution_count": 30,
   "metadata": {},
   "outputs": [
    {
     "data": {
      "text/html": [
       "<div>\n",
       "<style scoped>\n",
       "    .dataframe tbody tr th:only-of-type {\n",
       "        vertical-align: middle;\n",
       "    }\n",
       "\n",
       "    .dataframe tbody tr th {\n",
       "        vertical-align: top;\n",
       "    }\n",
       "\n",
       "    .dataframe thead th {\n",
       "        text-align: right;\n",
       "    }\n",
       "</style>\n",
       "<table border=\"1\" class=\"dataframe\">\n",
       "  <thead>\n",
       "    <tr style=\"text-align: right;\">\n",
       "      <th></th>\n",
       "      <th>продажи</th>\n",
       "      <th>число игр</th>\n",
       "      <th>доля продаж</th>\n",
       "    </tr>\n",
       "    <tr>\n",
       "      <th>genre</th>\n",
       "      <th></th>\n",
       "      <th></th>\n",
       "      <th></th>\n",
       "    </tr>\n",
       "  </thead>\n",
       "  <tbody>\n",
       "    <tr>\n",
       "      <th>Shooter</th>\n",
       "      <td>79.02</td>\n",
       "      <td>128</td>\n",
       "      <td>0.28</td>\n",
       "    </tr>\n",
       "    <tr>\n",
       "      <th>Action</th>\n",
       "      <td>72.10</td>\n",
       "      <td>607</td>\n",
       "      <td>0.26</td>\n",
       "    </tr>\n",
       "    <tr>\n",
       "      <th>Sports</th>\n",
       "      <td>45.98</td>\n",
       "      <td>159</td>\n",
       "      <td>0.16</td>\n",
       "    </tr>\n",
       "    <tr>\n",
       "      <th>Role-Playing</th>\n",
       "      <td>33.47</td>\n",
       "      <td>221</td>\n",
       "      <td>0.12</td>\n",
       "    </tr>\n",
       "    <tr>\n",
       "      <th>Adventure</th>\n",
       "      <td>5.60</td>\n",
       "      <td>180</td>\n",
       "      <td>0.02</td>\n",
       "    </tr>\n",
       "  </tbody>\n",
       "</table>\n",
       "</div>"
      ],
      "text/plain": [
       "              продажи  число игр  доля продаж\n",
       "genre                                        \n",
       "Shooter         79.02        128         0.28\n",
       "Action          72.10        607         0.26\n",
       "Sports          45.98        159         0.16\n",
       "Role-Playing    33.47        221         0.12\n",
       "Adventure        5.60        180         0.02"
      ]
     },
     "metadata": {},
     "output_type": "display_data"
    }
   ],
   "source": [
    "america=data1.pivot_table(index = ['genre'], values = 'na_sales',aggfunc=['sum','count'])\n",
    "america['na_sales_sh']=america['sum']/america['sum'].sum()\n",
    "america.columns=['продажи','число игр','доля продаж']\n",
    "\n",
    "america = america.sort_values('число игр', ascending = False).head()\n",
    "america=america.sort_values('продажи', ascending = False)\n",
    "america=america.sort_values('доля продаж', ascending = False).round(2)\n",
    "display(america)\n"
   ]
  },
  {
   "cell_type": "markdown",
   "metadata": {},
   "source": [
    "В Америке популярны игры в жанре шутер, экшн и спорт. Вместе 70% от всех продаж."
   ]
  },
  {
   "cell_type": "code",
   "execution_count": 31,
   "metadata": {},
   "outputs": [
    {
     "data": {
      "text/html": [
       "<div>\n",
       "<style scoped>\n",
       "    .dataframe tbody tr th:only-of-type {\n",
       "        vertical-align: middle;\n",
       "    }\n",
       "\n",
       "    .dataframe tbody tr th {\n",
       "        vertical-align: top;\n",
       "    }\n",
       "\n",
       "    .dataframe thead th {\n",
       "        text-align: right;\n",
       "    }\n",
       "</style>\n",
       "<table border=\"1\" class=\"dataframe\">\n",
       "  <thead>\n",
       "    <tr style=\"text-align: right;\">\n",
       "      <th></th>\n",
       "      <th>продажи</th>\n",
       "      <th>число игр</th>\n",
       "      <th>доля продаж</th>\n",
       "    </tr>\n",
       "    <tr>\n",
       "      <th>genre</th>\n",
       "      <th></th>\n",
       "      <th></th>\n",
       "      <th></th>\n",
       "    </tr>\n",
       "  </thead>\n",
       "  <tbody>\n",
       "    <tr>\n",
       "      <th>Action</th>\n",
       "      <td>74.01</td>\n",
       "      <td>607</td>\n",
       "      <td>0.28</td>\n",
       "    </tr>\n",
       "    <tr>\n",
       "      <th>Shooter</th>\n",
       "      <td>65.52</td>\n",
       "      <td>128</td>\n",
       "      <td>0.24</td>\n",
       "    </tr>\n",
       "    <tr>\n",
       "      <th>Sports</th>\n",
       "      <td>45.36</td>\n",
       "      <td>159</td>\n",
       "      <td>0.17</td>\n",
       "    </tr>\n",
       "    <tr>\n",
       "      <th>Role-Playing</th>\n",
       "      <td>28.17</td>\n",
       "      <td>221</td>\n",
       "      <td>0.11</td>\n",
       "    </tr>\n",
       "    <tr>\n",
       "      <th>Adventure</th>\n",
       "      <td>6.36</td>\n",
       "      <td>180</td>\n",
       "      <td>0.02</td>\n",
       "    </tr>\n",
       "  </tbody>\n",
       "</table>\n",
       "</div>"
      ],
      "text/plain": [
       "              продажи  число игр  доля продаж\n",
       "genre                                        \n",
       "Action          74.01        607         0.28\n",
       "Shooter         65.52        128         0.24\n",
       "Sports          45.36        159         0.17\n",
       "Role-Playing    28.17        221         0.11\n",
       "Adventure        6.36        180         0.02"
      ]
     },
     "metadata": {},
     "output_type": "display_data"
    }
   ],
   "source": [
    "europe=data1.pivot_table(index = ['genre'], values = 'eu_sales',aggfunc=['sum','count'])\n",
    "europe['eu_sales_sh']=europe['sum']/europe['sum'].sum()\n",
    "europe.columns=['продажи','число игр','доля продаж']\n",
    "\n",
    "europe = europe.sort_values('число игр', ascending = False).head()\n",
    "europe=europe.sort_values('продажи', ascending = False)\n",
    "europe=europe.sort_values('доля продаж', ascending = False).round(2)\n",
    "display(europe)"
   ]
  },
  {
   "cell_type": "markdown",
   "metadata": {},
   "source": [
    "В Европе ситуация идентичная."
   ]
  },
  {
   "cell_type": "code",
   "execution_count": 32,
   "metadata": {},
   "outputs": [
    {
     "data": {
      "text/html": [
       "<div>\n",
       "<style scoped>\n",
       "    .dataframe tbody tr th:only-of-type {\n",
       "        vertical-align: middle;\n",
       "    }\n",
       "\n",
       "    .dataframe tbody tr th {\n",
       "        vertical-align: top;\n",
       "    }\n",
       "\n",
       "    .dataframe thead th {\n",
       "        text-align: right;\n",
       "    }\n",
       "</style>\n",
       "<table border=\"1\" class=\"dataframe\">\n",
       "  <thead>\n",
       "    <tr style=\"text-align: right;\">\n",
       "      <th></th>\n",
       "      <th>продажи</th>\n",
       "      <th>число игр</th>\n",
       "      <th>доля продаж</th>\n",
       "    </tr>\n",
       "    <tr>\n",
       "      <th>genre</th>\n",
       "      <th></th>\n",
       "      <th></th>\n",
       "      <th></th>\n",
       "    </tr>\n",
       "  </thead>\n",
       "  <tbody>\n",
       "    <tr>\n",
       "      <th>Role-Playing</th>\n",
       "      <td>31.16</td>\n",
       "      <td>221</td>\n",
       "      <td>0.34</td>\n",
       "    </tr>\n",
       "    <tr>\n",
       "      <th>Action</th>\n",
       "      <td>29.38</td>\n",
       "      <td>607</td>\n",
       "      <td>0.32</td>\n",
       "    </tr>\n",
       "    <tr>\n",
       "      <th>Shooter</th>\n",
       "      <td>4.87</td>\n",
       "      <td>128</td>\n",
       "      <td>0.05</td>\n",
       "    </tr>\n",
       "    <tr>\n",
       "      <th>Adventure</th>\n",
       "      <td>3.55</td>\n",
       "      <td>180</td>\n",
       "      <td>0.04</td>\n",
       "    </tr>\n",
       "    <tr>\n",
       "      <th>Sports</th>\n",
       "      <td>3.17</td>\n",
       "      <td>159</td>\n",
       "      <td>0.03</td>\n",
       "    </tr>\n",
       "  </tbody>\n",
       "</table>\n",
       "</div>"
      ],
      "text/plain": [
       "              продажи  число игр  доля продаж\n",
       "genre                                        \n",
       "Role-Playing    31.16        221         0.34\n",
       "Action          29.38        607         0.32\n",
       "Shooter          4.87        128         0.05\n",
       "Adventure        3.55        180         0.04\n",
       "Sports           3.17        159         0.03"
      ]
     },
     "metadata": {},
     "output_type": "display_data"
    }
   ],
   "source": [
    "japan=data1.pivot_table(index = ['genre'], values = 'jp_sales',aggfunc=['sum','count'])\n",
    "japan['jp_sales_sh']=japan['sum']/japan['sum'].sum()\n",
    "japan.columns=['продажи','число игр','доля продаж']\n",
    "\n",
    "japan = japan.sort_values('число игр', ascending = False).head()\n",
    "japan=japan.sort_values('продажи', ascending = False)\n",
    "japan=japan.sort_values('доля продаж', ascending = False).round(2)\n",
    "display(japan)"
   ]
  },
  {
   "cell_type": "markdown",
   "metadata": {},
   "source": [
    "В Японии сиуация иная. Здесь предпочитают ролевые игры и экшн. Шутеры не в тренде."
   ]
  },
  {
   "cell_type": "markdown",
   "metadata": {},
   "source": [
    "### Оценка влияния рейтинга ESRB на продажи в отдельном регионе?"
   ]
  },
  {
   "cell_type": "code",
   "execution_count": 33,
   "metadata": {},
   "outputs": [
    {
     "data": {
      "text/html": [
       "<div>\n",
       "<style scoped>\n",
       "    .dataframe tbody tr th:only-of-type {\n",
       "        vertical-align: middle;\n",
       "    }\n",
       "\n",
       "    .dataframe tbody tr th {\n",
       "        vertical-align: top;\n",
       "    }\n",
       "\n",
       "    .dataframe thead th {\n",
       "        text-align: right;\n",
       "    }\n",
       "</style>\n",
       "<table border=\"1\" class=\"dataframe\">\n",
       "  <thead>\n",
       "    <tr style=\"text-align: right;\">\n",
       "      <th></th>\n",
       "      <th>na_sales</th>\n",
       "      <th>rating</th>\n",
       "    </tr>\n",
       "  </thead>\n",
       "  <tbody>\n",
       "    <tr>\n",
       "      <th>na_sales</th>\n",
       "      <td>1.000000</td>\n",
       "      <td>-0.165396</td>\n",
       "    </tr>\n",
       "    <tr>\n",
       "      <th>rating</th>\n",
       "      <td>-0.165396</td>\n",
       "      <td>1.000000</td>\n",
       "    </tr>\n",
       "  </tbody>\n",
       "</table>\n",
       "</div>"
      ],
      "text/plain": [
       "          na_sales    rating\n",
       "na_sales  1.000000 -0.165396\n",
       "rating   -0.165396  1.000000"
      ]
     },
     "metadata": {},
     "output_type": "display_data"
    }
   ],
   "source": [
    "rating_na = data1.groupby('rating').agg({'na_sales':'median','rating':'count'}).corr()\n",
    "display(rating_na)\n",
    "#не влияет"
   ]
  },
  {
   "cell_type": "code",
   "execution_count": 34,
   "metadata": {},
   "outputs": [
    {
     "data": {
      "text/html": [
       "<div>\n",
       "<style scoped>\n",
       "    .dataframe tbody tr th:only-of-type {\n",
       "        vertical-align: middle;\n",
       "    }\n",
       "\n",
       "    .dataframe tbody tr th {\n",
       "        vertical-align: top;\n",
       "    }\n",
       "\n",
       "    .dataframe thead th {\n",
       "        text-align: right;\n",
       "    }\n",
       "</style>\n",
       "<table border=\"1\" class=\"dataframe\">\n",
       "  <thead>\n",
       "    <tr style=\"text-align: right;\">\n",
       "      <th></th>\n",
       "      <th>eu_sales</th>\n",
       "      <th>rating</th>\n",
       "    </tr>\n",
       "  </thead>\n",
       "  <tbody>\n",
       "    <tr>\n",
       "      <th>eu_sales</th>\n",
       "      <td>1.000000</td>\n",
       "      <td>0.062787</td>\n",
       "    </tr>\n",
       "    <tr>\n",
       "      <th>rating</th>\n",
       "      <td>0.062787</td>\n",
       "      <td>1.000000</td>\n",
       "    </tr>\n",
       "  </tbody>\n",
       "</table>\n",
       "</div>"
      ],
      "text/plain": [
       "          eu_sales    rating\n",
       "eu_sales  1.000000  0.062787\n",
       "rating    0.062787  1.000000"
      ]
     },
     "metadata": {},
     "output_type": "display_data"
    }
   ],
   "source": [
    "rating_eu = data1.groupby('rating').agg({'eu_sales':'median','rating':'count'}).corr()\n",
    "display(rating_eu)\n",
    "#не влияет"
   ]
  },
  {
   "cell_type": "code",
   "execution_count": 35,
   "metadata": {},
   "outputs": [
    {
     "data": {
      "text/html": [
       "<div>\n",
       "<style scoped>\n",
       "    .dataframe tbody tr th:only-of-type {\n",
       "        vertical-align: middle;\n",
       "    }\n",
       "\n",
       "    .dataframe tbody tr th {\n",
       "        vertical-align: top;\n",
       "    }\n",
       "\n",
       "    .dataframe thead th {\n",
       "        text-align: right;\n",
       "    }\n",
       "</style>\n",
       "<table border=\"1\" class=\"dataframe\">\n",
       "  <thead>\n",
       "    <tr style=\"text-align: right;\">\n",
       "      <th></th>\n",
       "      <th>jp_sales</th>\n",
       "      <th>rating</th>\n",
       "    </tr>\n",
       "  </thead>\n",
       "  <tbody>\n",
       "    <tr>\n",
       "      <th>jp_sales</th>\n",
       "      <td>1.000000</td>\n",
       "      <td>0.590171</td>\n",
       "    </tr>\n",
       "    <tr>\n",
       "      <th>rating</th>\n",
       "      <td>0.590171</td>\n",
       "      <td>1.000000</td>\n",
       "    </tr>\n",
       "  </tbody>\n",
       "</table>\n",
       "</div>"
      ],
      "text/plain": [
       "          jp_sales    rating\n",
       "jp_sales  1.000000  0.590171\n",
       "rating    0.590171  1.000000"
      ]
     },
     "metadata": {},
     "output_type": "display_data"
    }
   ],
   "source": [
    "rating_jp = data1.groupby('rating').agg({'jp_sales':'median','rating':'count'}).corr()\n",
    "display(rating_jp)\n",
    "# влияет"
   ]
  },
  {
   "cell_type": "markdown",
   "metadata": {},
   "source": [
    "Рейтинг ERSB на продажи влияет только в Японии"
   ]
  },
  {
   "cell_type": "markdown",
   "metadata": {},
   "source": [
    "## Проверка гипотез"
   ]
  },
  {
   "cell_type": "markdown",
   "metadata": {},
   "source": [
    "### Средние пользовательские рейтинги платформ Xbox One и PC одинаковые"
   ]
  },
  {
   "cell_type": "markdown",
   "metadata": {},
   "source": [
    "Нулевая гипотеза H₀: Средние пользовательские рейтинги платформ Xbox One и PC одинаковые;\n",
    "Альтернативная гипотеза H₁: Средние пользовательские рейтинги платформ Xbox One и PC НЕ одинаковые"
   ]
  },
  {
   "cell_type": "code",
   "execution_count": 36,
   "metadata": {},
   "outputs": [
    {
     "name": "stdout",
     "output_type": "stream",
     "text": [
      "p-значение: 0.09571225278268487\n",
      "Не получилось отвергнуть нулевую гипотезу\n"
     ]
    }
   ],
   "source": [
    "ps4 = data1[(data1['platform'] == 'PS4') & (data1['user_score'] > 0)]['user_score']\n",
    "xone = data1[(data1['platform'] == 'XOne') & (data1['user_score'] > 0)]['user_score']\n",
    "\n",
    "alpha = .05 # критический уровень статистической значимости\n",
    "            \n",
    "results = st.ttest_ind(ps4, xone, equal_var=False)\n",
    "\n",
    "\n",
    "print('p-значение:', results.pvalue)\n",
    "\n",
    "if results.pvalue < alpha:\n",
    "    print(\"Отвергаем нулевую гипотезу\")\n",
    "else:\n",
    "    print(\"Не получилось отвергнуть нулевую гипотезу\") "
   ]
  },
  {
   "cell_type": "markdown",
   "metadata": {},
   "source": [
    "Вывод: Получив p-value, не удалось отвергнуть нулевую гипотезу. Таким образом, есть вероятность получить одинакове средние рейнтинги по двум платформам."
   ]
  },
  {
   "cell_type": "markdown",
   "metadata": {},
   "source": [
    "### Средние пользовательские рейтинги жанров Action (англ. «действие», экшен-игры) и Sports (англ. «спортивные соревнования») разные."
   ]
  },
  {
   "cell_type": "markdown",
   "metadata": {},
   "source": [
    "Нулевая гипотеза H₀: Средние пользовательские рейтинги платформ жанров Action и Sports одинаковые; Альтернативная гипотеза H₁: Средние пользовательские рейтинги платформ жанров Action и Sports НЕ одинаковые"
   ]
  },
  {
   "cell_type": "code",
   "execution_count": 37,
   "metadata": {},
   "outputs": [
    {
     "name": "stdout",
     "output_type": "stream",
     "text": [
      "p-значение: 2.132579125573844e-14\n",
      "Отвергаем нулевую гипотезу\n"
     ]
    }
   ],
   "source": [
    "action = data1[(data1['genre'] == 'Action') & (data1['user_score'] > 0)]['user_score']\n",
    "sports = data1[(data1['genre'] == 'Sports') & (data1['user_score'] > 0)]['user_score']\n",
    "\n",
    "alpha = .05 # критический уровень статистической значимости\n",
    "            \n",
    "results = st.ttest_ind(action, sports, equal_var=False)\n",
    "\n",
    "\n",
    "print('p-значение:', results.pvalue)\n",
    "\n",
    "if results.pvalue < alpha:\n",
    "    print(\"Отвергаем нулевую гипотезу\")\n",
    "else:\n",
    "    print(\"Не получилось отвергнуть нулевую гипотезу\") "
   ]
  },
  {
   "cell_type": "markdown",
   "metadata": {},
   "source": [
    "### Вывод "
   ]
  },
  {
   "cell_type": "markdown",
   "metadata": {},
   "source": [
    "Вывод: Получив p-value, мы отвергли Нулевую гипотезу. Таким образом, у нас практически нет вероятности получить одинакове средние рейнтинги по двум жанрам."
   ]
  },
  {
   "cell_type": "markdown",
   "metadata": {},
   "source": [
    "Нулевой гипотезой будет считаться само предположение. Например: Средние пользовательские рейтинги платформ жанров Action и Sports одинаковые; Альтернативной же обратное, что они не равны. Для проверки гипотез применил критерий t-тест так как сраниваю средние значения."
   ]
  },
  {
   "cell_type": "markdown",
   "metadata": {},
   "source": [
    "## Общий вывод"
   ]
  },
  {
   "cell_type": "markdown",
   "metadata": {},
   "source": [
    "### Предобработка"
   ]
  },
  {
   "cell_type": "markdown",
   "metadata": {},
   "source": [
    "На этапе предобработки данных были изменены типы данных, удалены нерелевантные значения в столбцах. На основе всех данных были рассмотрены значения по количеству игр выпущенных в разные годы, оценены продажи игр  и определены средние сроки жизни платформы. На основе которых был выведен актульнйы период жизни платформы. На основе этого в дальнейшем в работе были исследованы данные по продажам игры в разрезе годов, платформ, жанров, суммы продаж. Были исследованы предпочтения пользователей живущих в разных регионах планеты, определены самые популярные платформы и жанры. А также изучено влияние оценок критиков и пользователей на продажи игр. \n",
    "\n",
    "в целом основная сумма пропусков находится в столбцах с рейтинга, где видимо данные неизвестны. Остальные пропуски в названии игры, годе релиза и жанре. Так как эти данные заменить нечем и они могут повлиять на дальнейшую работу, есть смысла эти значения удалить, их немного и это будет некритично.\n",
    "\n",
    "Неправильные типы данных обнаружены в столбцах 'year_of_release' и 'user_score'. В первом столбце года были записаны в десятичном формате в чем нет смысла. Во втором столбце во втором столбце рейтинг от пользователей был указан в виде текста, что тоже не логично. Сперва значения tbd(подлежит уточнению) были заменены на NaN(неизвестно), далее приведены к типу float, так чаще всего оценка бывает не целочисленной.\n",
    "\n"
   ]
  },
  {
   "cell_type": "markdown",
   "metadata": {},
   "source": [
    "### Анализ данных"
   ]
  },
  {
   "cell_type": "markdown",
   "metadata": {},
   "source": [
    "В целом каждая из платформ существует всего около 10 лет, но это полное существование, а продажи начинают скатываться за более быстрый срок. Как правило для платформ характерен резкий рост продаж за пару лет и далее продолжительный спад. Для расчета медианного актуального срока жизни платформы примем минимальные продажи равными 10. Медианное время жизни платформы при уровне минимальных продаж 10 млн. составляет 6 лет.\n",
    "\n",
    "Актуальный период составит примерно половину этого времени потому, что половину жизненного цикла платформы растут, а вторую половину - падают.\n",
    "\n",
    "Лидируют всего три платформы это XOne, PS4 и 3DS. Они же самые прибыльные. В 2015 году по сравнению с 2014 годом увеличились продажи на основных платформах PS4 и XOne, в то время как стали уменьшаться доли продаж на других платформах в том числе 3DS. В 2016 году произошел резкий спад продаж, вызван он был уменьшением количества выпущенных игр и соответственно продаж, лидеры все те же.\n",
    "\n",
    "По результатам анализа можно четко сказать что оценки пользователей мало влияют на продажи игр. Большую роль играют оценки от критиков, хотя влияние здесь тоже не самое сильное. Исключение здесь составляет WiiU здесь на продажи игр влияют как обычные пользователи так и критики. Люди пользующиеся PSV и PC не волнует мнение ни пользователей, ни критиков.\n",
    "\n",
    "В продажах в разреже жанров лидируют  шутеры, экшн-игры, спортивные игры. Менее популярны игры в жанре стратегий, приключений и паззлы.\n",
    "\n"
   ]
  },
  {
   "cell_type": "markdown",
   "metadata": {},
   "source": [
    "### Портреты пользователей"
   ]
  },
  {
   "cell_type": "markdown",
   "metadata": {},
   "source": [
    "В Северной Америке ожидаемо лидирует платформы PS4 и XOne. Вместе они составляют более 64% от всех продажю . Далее следуют 3DS и PS3 ПО 8%.в Европе ситуация схожая, однако европейские игроки большее предпочтение дают PS4 - 49%, а только потом уже Xone - 0,17. Далее следуют 3DS и PS3: 6% и 10% соответственно.В Японии ситуаия же совсем иная. Здесь лидирует 3DS -48% продаж и только потом уже идут PS4 и PSV. Xone же в японии совсем не популярен. Японский рынок весьма специфичный.\n",
    "\n",
    "В Америке популярны игры в жанре шутер, экшн и спорт. Вместе 70% от всех продаж. В Европе ситуация идентичная.В Японии сиуация иная. Здесь предпочитают ролевые игры и экшн. Шутеры не в тренде.\n",
    "\n",
    "Рейтинг ERSB на продажи влияет только в Японии"
   ]
  },
  {
   "cell_type": "markdown",
   "metadata": {},
   "source": [
    "### Проверка гипотез"
   ]
  },
  {
   "cell_type": "markdown",
   "metadata": {},
   "source": [
    "Гипотеза 1. Средние пользовательские рейтинги платформ Xbox One и PC одинаковые.Получив p-value, не удалось отвергнуть нулевую гипотезу. Таким образом, есть вероятность получить одинакове средние рейнтинги по двум платформам.\n",
    "\n",
    "Гипотеза 2 Средние пользовательские рейтинги жанров Action (англ. «действие», экшен-игры) и Sports (англ. «спортивные соревнования») разные. Получив p-value, мы отвергли Нулевую гипотезу. Таким образом, у нас практически нет вероятности получить одинакове средние рейнтинги по двум жанрам."
   ]
  }
 ],
 "metadata": {
  "ExecuteTimeLog": [
   {
    "duration": 471,
    "start_time": "2022-10-31T17:42:45.031Z"
   },
   {
    "duration": 89,
    "start_time": "2022-10-31T17:42:59.119Z"
   },
   {
    "duration": 58,
    "start_time": "2022-10-31T17:43:01.152Z"
   },
   {
    "duration": 25,
    "start_time": "2022-10-31T17:43:10.983Z"
   },
   {
    "duration": 13,
    "start_time": "2022-10-31T17:43:29.777Z"
   },
   {
    "duration": 13,
    "start_time": "2022-10-31T17:44:13.337Z"
   },
   {
    "duration": 9,
    "start_time": "2022-10-31T17:45:07.921Z"
   },
   {
    "duration": 7,
    "start_time": "2022-10-31T17:46:53.400Z"
   },
   {
    "duration": 5,
    "start_time": "2022-10-31T17:47:21.064Z"
   },
   {
    "duration": 6,
    "start_time": "2022-10-31T17:47:36.192Z"
   },
   {
    "duration": 6,
    "start_time": "2022-10-31T17:47:45.920Z"
   },
   {
    "duration": 5,
    "start_time": "2022-10-31T17:50:52.649Z"
   },
   {
    "duration": 6,
    "start_time": "2022-10-31T17:51:03.488Z"
   },
   {
    "duration": 45,
    "start_time": "2022-10-31T17:51:05.920Z"
   },
   {
    "duration": 13,
    "start_time": "2022-10-31T17:51:06.346Z"
   },
   {
    "duration": 12,
    "start_time": "2022-10-31T17:51:06.872Z"
   },
   {
    "duration": 9,
    "start_time": "2022-10-31T17:51:07.431Z"
   },
   {
    "duration": 5,
    "start_time": "2022-10-31T17:51:08.088Z"
   },
   {
    "duration": 8,
    "start_time": "2022-10-31T17:51:29.759Z"
   },
   {
    "duration": 8,
    "start_time": "2022-10-31T17:51:35.952Z"
   },
   {
    "duration": 2,
    "start_time": "2022-10-31T17:53:05.297Z"
   },
   {
    "duration": 802,
    "start_time": "2022-10-31T17:54:59.344Z"
   },
   {
    "duration": 50,
    "start_time": "2022-10-31T17:55:08.342Z"
   },
   {
    "duration": 14,
    "start_time": "2022-10-31T17:55:08.800Z"
   },
   {
    "duration": 12,
    "start_time": "2022-10-31T17:55:09.191Z"
   },
   {
    "duration": 9,
    "start_time": "2022-10-31T17:55:09.679Z"
   },
   {
    "duration": 12,
    "start_time": "2022-10-31T17:55:10.239Z"
   },
   {
    "duration": 9,
    "start_time": "2022-10-31T17:55:11.119Z"
   },
   {
    "duration": 3,
    "start_time": "2022-10-31T17:55:12.215Z"
   },
   {
    "duration": 4,
    "start_time": "2022-10-31T17:55:34.159Z"
   },
   {
    "duration": 1697,
    "start_time": "2022-10-31T17:56:21.710Z"
   },
   {
    "duration": 45,
    "start_time": "2022-10-31T17:56:33.679Z"
   },
   {
    "duration": 13,
    "start_time": "2022-10-31T17:56:33.879Z"
   },
   {
    "duration": 13,
    "start_time": "2022-10-31T17:56:34.111Z"
   },
   {
    "duration": 8,
    "start_time": "2022-10-31T17:56:34.383Z"
   },
   {
    "duration": 11,
    "start_time": "2022-10-31T17:56:34.670Z"
   },
   {
    "duration": 9,
    "start_time": "2022-10-31T17:56:35.142Z"
   },
   {
    "duration": 3,
    "start_time": "2022-10-31T17:56:35.494Z"
   },
   {
    "duration": 576,
    "start_time": "2022-10-31T17:56:35.942Z"
   },
   {
    "duration": 620,
    "start_time": "2022-10-31T17:56:46.655Z"
   },
   {
    "duration": 518,
    "start_time": "2022-10-31T17:57:01.966Z"
   },
   {
    "duration": 8,
    "start_time": "2022-10-31T17:57:14.319Z"
   },
   {
    "duration": 9,
    "start_time": "2022-10-31T17:57:23.126Z"
   },
   {
    "duration": 46,
    "start_time": "2022-10-31T17:57:31.942Z"
   },
   {
    "duration": 13,
    "start_time": "2022-10-31T17:57:32.174Z"
   },
   {
    "duration": 13,
    "start_time": "2022-10-31T17:57:32.390Z"
   },
   {
    "duration": 9,
    "start_time": "2022-10-31T17:57:32.606Z"
   },
   {
    "duration": 10,
    "start_time": "2022-10-31T17:57:32.910Z"
   },
   {
    "duration": 9,
    "start_time": "2022-10-31T17:57:33.366Z"
   },
   {
    "duration": 8,
    "start_time": "2022-10-31T17:57:34.046Z"
   },
   {
    "duration": 659,
    "start_time": "2022-10-31T17:57:34.982Z"
   },
   {
    "duration": 3,
    "start_time": "2022-10-31T17:57:55.662Z"
   },
   {
    "duration": 19,
    "start_time": "2022-10-31T17:58:07.278Z"
   },
   {
    "duration": 506,
    "start_time": "2022-10-31T17:58:22.422Z"
   },
   {
    "duration": 45,
    "start_time": "2022-10-31T17:59:15.656Z"
   },
   {
    "duration": 13,
    "start_time": "2022-10-31T17:59:15.882Z"
   },
   {
    "duration": 12,
    "start_time": "2022-10-31T17:59:16.114Z"
   },
   {
    "duration": 10,
    "start_time": "2022-10-31T17:59:16.394Z"
   },
   {
    "duration": 12,
    "start_time": "2022-10-31T17:59:16.626Z"
   },
   {
    "duration": 9,
    "start_time": "2022-10-31T17:59:17.154Z"
   },
   {
    "duration": 13,
    "start_time": "2022-10-31T17:59:17.539Z"
   },
   {
    "duration": 514,
    "start_time": "2022-10-31T17:59:18.042Z"
   },
   {
    "duration": 823,
    "start_time": "2022-10-31T17:59:50.971Z"
   },
   {
    "duration": 14,
    "start_time": "2022-10-31T18:00:04.450Z"
   },
   {
    "duration": 4,
    "start_time": "2022-10-31T18:00:15.146Z"
   },
   {
    "duration": 13,
    "start_time": "2022-10-31T18:00:21.506Z"
   },
   {
    "duration": 14,
    "start_time": "2022-10-31T18:01:58.995Z"
   },
   {
    "duration": 3,
    "start_time": "2022-10-31T18:05:49.879Z"
   },
   {
    "duration": 10,
    "start_time": "2022-10-31T18:06:00.288Z"
   },
   {
    "duration": 53,
    "start_time": "2022-10-31T18:08:00.230Z"
   },
   {
    "duration": 6,
    "start_time": "2022-10-31T18:11:01.989Z"
   },
   {
    "duration": 6,
    "start_time": "2022-10-31T18:12:27.780Z"
   },
   {
    "duration": 13,
    "start_time": "2022-10-31T18:13:09.581Z"
   },
   {
    "duration": 6,
    "start_time": "2022-10-31T18:13:16.060Z"
   },
   {
    "duration": 8,
    "start_time": "2022-10-31T18:14:21.627Z"
   },
   {
    "duration": 7,
    "start_time": "2022-10-31T18:15:01.467Z"
   },
   {
    "duration": 7,
    "start_time": "2022-10-31T18:15:06.460Z"
   },
   {
    "duration": 8,
    "start_time": "2022-10-31T18:16:49.547Z"
   },
   {
    "duration": 49,
    "start_time": "2022-10-31T18:17:06.970Z"
   },
   {
    "duration": 15,
    "start_time": "2022-10-31T18:17:07.419Z"
   },
   {
    "duration": 13,
    "start_time": "2022-10-31T18:17:07.737Z"
   },
   {
    "duration": 9,
    "start_time": "2022-10-31T18:17:08.089Z"
   },
   {
    "duration": 10,
    "start_time": "2022-10-31T18:17:08.474Z"
   },
   {
    "duration": 12,
    "start_time": "2022-10-31T18:17:08.881Z"
   },
   {
    "duration": 13,
    "start_time": "2022-10-31T18:17:09.258Z"
   },
   {
    "duration": 4,
    "start_time": "2022-10-31T18:17:09.689Z"
   },
   {
    "duration": 8,
    "start_time": "2022-10-31T18:17:10.130Z"
   },
   {
    "duration": 11,
    "start_time": "2022-10-31T18:17:40.185Z"
   },
   {
    "duration": 18,
    "start_time": "2022-10-31T18:18:12.506Z"
   },
   {
    "duration": 4,
    "start_time": "2022-10-31T18:19:55.912Z"
   },
   {
    "duration": 16,
    "start_time": "2022-10-31T18:20:08.903Z"
   },
   {
    "duration": 15,
    "start_time": "2022-10-31T18:22:46.063Z"
   },
   {
    "duration": 20,
    "start_time": "2022-10-31T18:22:58.694Z"
   },
   {
    "duration": 15,
    "start_time": "2022-10-31T18:22:59.150Z"
   },
   {
    "duration": 48,
    "start_time": "2022-10-31T18:23:41.238Z"
   },
   {
    "duration": 13,
    "start_time": "2022-10-31T18:23:41.431Z"
   },
   {
    "duration": 15,
    "start_time": "2022-10-31T18:23:41.623Z"
   },
   {
    "duration": 8,
    "start_time": "2022-10-31T18:23:41.790Z"
   },
   {
    "duration": 9,
    "start_time": "2022-10-31T18:23:41.981Z"
   },
   {
    "duration": 9,
    "start_time": "2022-10-31T18:23:42.190Z"
   },
   {
    "duration": 14,
    "start_time": "2022-10-31T18:23:42.374Z"
   },
   {
    "duration": 4,
    "start_time": "2022-10-31T18:23:42.590Z"
   },
   {
    "duration": 20,
    "start_time": "2022-10-31T18:23:42.918Z"
   },
   {
    "duration": 14,
    "start_time": "2022-10-31T18:23:43.374Z"
   },
   {
    "duration": 22,
    "start_time": "2022-10-31T18:30:20.298Z"
   },
   {
    "duration": 85,
    "start_time": "2022-11-01T16:26:33.436Z"
   },
   {
    "duration": 579,
    "start_time": "2022-11-01T16:26:37.931Z"
   },
   {
    "duration": 33,
    "start_time": "2022-11-01T16:26:38.512Z"
   },
   {
    "duration": 24,
    "start_time": "2022-11-01T16:26:38.547Z"
   },
   {
    "duration": 21,
    "start_time": "2022-11-01T16:26:38.575Z"
   },
   {
    "duration": 10,
    "start_time": "2022-11-01T16:26:38.706Z"
   },
   {
    "duration": 10,
    "start_time": "2022-11-01T16:26:38.874Z"
   },
   {
    "duration": 23,
    "start_time": "2022-11-01T16:26:39.060Z"
   },
   {
    "duration": 6,
    "start_time": "2022-11-01T16:26:39.491Z"
   },
   {
    "duration": 22,
    "start_time": "2022-11-01T16:26:39.978Z"
   },
   {
    "duration": 16,
    "start_time": "2022-11-01T16:26:40.394Z"
   },
   {
    "duration": 11,
    "start_time": "2022-11-01T16:26:41.211Z"
   },
   {
    "duration": 8,
    "start_time": "2022-11-01T16:26:41.749Z"
   },
   {
    "duration": 10,
    "start_time": "2022-11-01T16:28:06.274Z"
   },
   {
    "duration": 9,
    "start_time": "2022-11-01T16:28:14.369Z"
   },
   {
    "duration": 11,
    "start_time": "2022-11-01T16:28:56.698Z"
   },
   {
    "duration": 36,
    "start_time": "2022-11-01T16:32:41.487Z"
   },
   {
    "duration": 695,
    "start_time": "2022-11-01T16:34:41.822Z"
   },
   {
    "duration": 385,
    "start_time": "2022-11-01T16:36:58.310Z"
   },
   {
    "duration": 300,
    "start_time": "2022-11-01T16:37:13.805Z"
   },
   {
    "duration": 363,
    "start_time": "2022-11-01T16:37:25.501Z"
   },
   {
    "duration": 564,
    "start_time": "2022-11-01T16:37:56.349Z"
   },
   {
    "duration": 400,
    "start_time": "2022-11-01T16:38:05.556Z"
   },
   {
    "duration": 310,
    "start_time": "2022-11-01T16:38:21.972Z"
   },
   {
    "duration": 250,
    "start_time": "2022-11-01T16:38:30.013Z"
   },
   {
    "duration": 349,
    "start_time": "2022-11-01T16:38:35.693Z"
   },
   {
    "duration": 4,
    "start_time": "2022-11-01T16:40:54.060Z"
   },
   {
    "duration": 3,
    "start_time": "2022-11-01T16:41:00.089Z"
   },
   {
    "duration": 11,
    "start_time": "2022-11-01T16:44:59.073Z"
   },
   {
    "duration": 14,
    "start_time": "2022-11-01T16:45:11.320Z"
   },
   {
    "duration": 18,
    "start_time": "2022-11-01T16:45:43.090Z"
   },
   {
    "duration": 18,
    "start_time": "2022-11-01T16:48:56.144Z"
   },
   {
    "duration": 8,
    "start_time": "2022-11-01T16:50:27.131Z"
   },
   {
    "duration": 13,
    "start_time": "2022-11-01T16:50:40.502Z"
   },
   {
    "duration": 35,
    "start_time": "2022-11-01T16:50:59.624Z"
   },
   {
    "duration": 29,
    "start_time": "2022-11-01T17:01:35.640Z"
   },
   {
    "duration": 21,
    "start_time": "2022-11-01T17:01:56.042Z"
   },
   {
    "duration": 17,
    "start_time": "2022-11-01T17:11:37.459Z"
   },
   {
    "duration": 19,
    "start_time": "2022-11-01T17:11:56.956Z"
   },
   {
    "duration": 18,
    "start_time": "2022-11-01T17:12:22.843Z"
   },
   {
    "duration": 13,
    "start_time": "2022-11-01T17:15:22.305Z"
   },
   {
    "duration": 16,
    "start_time": "2022-11-01T17:15:32.008Z"
   },
   {
    "duration": 18,
    "start_time": "2022-11-01T17:20:13.255Z"
   },
   {
    "duration": 14,
    "start_time": "2022-11-01T17:32:51.024Z"
   },
   {
    "duration": 39,
    "start_time": "2022-11-01T17:32:57.568Z"
   },
   {
    "duration": 592,
    "start_time": "2022-11-01T17:33:41.256Z"
   },
   {
    "duration": 24,
    "start_time": "2022-11-01T17:35:34.134Z"
   },
   {
    "duration": 6,
    "start_time": "2022-11-01T17:35:45.792Z"
   },
   {
    "duration": 295,
    "start_time": "2022-11-01T17:36:21.029Z"
   },
   {
    "duration": 12,
    "start_time": "2022-11-01T17:37:23.797Z"
   },
   {
    "duration": 8,
    "start_time": "2022-11-01T17:37:56.141Z"
   },
   {
    "duration": 282,
    "start_time": "2022-11-01T17:37:56.573Z"
   },
   {
    "duration": 289,
    "start_time": "2022-11-01T17:39:09.589Z"
   },
   {
    "duration": 10,
    "start_time": "2022-11-01T17:39:14.228Z"
   },
   {
    "duration": 405,
    "start_time": "2022-11-01T17:39:15.124Z"
   },
   {
    "duration": 11,
    "start_time": "2022-11-01T17:46:33.049Z"
   },
   {
    "duration": 10,
    "start_time": "2022-11-01T17:46:39.353Z"
   },
   {
    "duration": 6,
    "start_time": "2022-11-01T17:47:02.705Z"
   },
   {
    "duration": 7,
    "start_time": "2022-11-01T17:47:05.208Z"
   },
   {
    "duration": 49,
    "start_time": "2022-11-01T17:47:09.073Z"
   },
   {
    "duration": 23,
    "start_time": "2022-11-01T17:47:09.275Z"
   },
   {
    "duration": 19,
    "start_time": "2022-11-01T17:47:09.456Z"
   },
   {
    "duration": 8,
    "start_time": "2022-11-01T17:47:09.625Z"
   },
   {
    "duration": 10,
    "start_time": "2022-11-01T17:47:09.816Z"
   },
   {
    "duration": 10,
    "start_time": "2022-11-01T17:47:09.984Z"
   },
   {
    "duration": 17,
    "start_time": "2022-11-01T17:47:10.177Z"
   },
   {
    "duration": 4,
    "start_time": "2022-11-01T17:47:10.328Z"
   },
   {
    "duration": 27,
    "start_time": "2022-11-01T17:47:10.528Z"
   },
   {
    "duration": 22,
    "start_time": "2022-11-01T17:47:10.705Z"
   },
   {
    "duration": 3,
    "start_time": "2022-11-01T17:47:10.896Z"
   },
   {
    "duration": 3,
    "start_time": "2022-11-01T17:47:11.080Z"
   },
   {
    "duration": 13,
    "start_time": "2022-11-01T17:47:11.273Z"
   },
   {
    "duration": 12,
    "start_time": "2022-11-01T17:47:11.456Z"
   },
   {
    "duration": 379,
    "start_time": "2022-11-01T17:47:11.640Z"
   },
   {
    "duration": 7,
    "start_time": "2022-11-01T17:47:12.021Z"
   },
   {
    "duration": 6,
    "start_time": "2022-11-01T17:47:48.424Z"
   },
   {
    "duration": 6,
    "start_time": "2022-11-01T17:47:54.432Z"
   },
   {
    "duration": 11,
    "start_time": "2022-11-01T17:48:02.768Z"
   },
   {
    "duration": 8,
    "start_time": "2022-11-01T17:48:45.888Z"
   },
   {
    "duration": 5,
    "start_time": "2022-11-01T17:48:55.096Z"
   },
   {
    "duration": 4,
    "start_time": "2022-11-01T17:49:09.551Z"
   },
   {
    "duration": 9,
    "start_time": "2022-11-01T17:49:35.208Z"
   },
   {
    "duration": 5,
    "start_time": "2022-11-01T17:49:35.991Z"
   },
   {
    "duration": 63,
    "start_time": "2022-11-01T17:49:55.117Z"
   },
   {
    "duration": 23,
    "start_time": "2022-11-01T17:49:55.394Z"
   },
   {
    "duration": 15,
    "start_time": "2022-11-01T17:49:55.872Z"
   },
   {
    "duration": 12,
    "start_time": "2022-11-01T17:49:56.344Z"
   },
   {
    "duration": 10,
    "start_time": "2022-11-01T17:49:56.880Z"
   },
   {
    "duration": 10,
    "start_time": "2022-11-01T17:49:57.438Z"
   },
   {
    "duration": 14,
    "start_time": "2022-11-01T17:49:57.808Z"
   },
   {
    "duration": 5,
    "start_time": "2022-11-01T17:49:59.904Z"
   },
   {
    "duration": 21,
    "start_time": "2022-11-01T17:50:04.280Z"
   },
   {
    "duration": 23,
    "start_time": "2022-11-01T17:50:04.836Z"
   },
   {
    "duration": 2,
    "start_time": "2022-11-01T17:50:10.040Z"
   },
   {
    "duration": 4,
    "start_time": "2022-11-01T17:50:10.640Z"
   },
   {
    "duration": 14,
    "start_time": "2022-11-01T17:50:11.039Z"
   },
   {
    "duration": 11,
    "start_time": "2022-11-01T17:50:11.826Z"
   },
   {
    "duration": 389,
    "start_time": "2022-11-01T17:50:12.352Z"
   },
   {
    "duration": 28,
    "start_time": "2022-11-01T17:50:13.276Z"
   },
   {
    "duration": 10,
    "start_time": "2022-11-01T17:50:29.393Z"
   },
   {
    "duration": 11,
    "start_time": "2022-11-01T17:50:32.040Z"
   },
   {
    "duration": 30,
    "start_time": "2022-11-01T17:50:39.768Z"
   },
   {
    "duration": 20,
    "start_time": "2022-11-01T17:51:16.136Z"
   },
   {
    "duration": 9,
    "start_time": "2022-11-01T17:51:57.496Z"
   },
   {
    "duration": 1366,
    "start_time": "2022-11-01T17:52:30.263Z"
   },
   {
    "duration": 49,
    "start_time": "2022-11-01T17:52:39.295Z"
   },
   {
    "duration": 23,
    "start_time": "2022-11-01T17:52:39.505Z"
   },
   {
    "duration": 16,
    "start_time": "2022-11-01T17:52:39.895Z"
   },
   {
    "duration": 10,
    "start_time": "2022-11-01T17:52:40.248Z"
   },
   {
    "duration": 869,
    "start_time": "2022-11-01T17:52:40.679Z"
   },
   {
    "duration": 50,
    "start_time": "2022-11-01T17:52:58.911Z"
   },
   {
    "duration": 23,
    "start_time": "2022-11-01T17:52:59.116Z"
   },
   {
    "duration": 16,
    "start_time": "2022-11-01T17:52:59.290Z"
   },
   {
    "duration": 9,
    "start_time": "2022-11-01T17:52:59.498Z"
   },
   {
    "duration": 784,
    "start_time": "2022-11-01T17:52:59.818Z"
   },
   {
    "duration": 62,
    "start_time": "2022-11-01T17:53:31.015Z"
   },
   {
    "duration": 24,
    "start_time": "2022-11-01T17:53:31.245Z"
   },
   {
    "duration": 33,
    "start_time": "2022-11-01T17:53:31.456Z"
   },
   {
    "duration": 13,
    "start_time": "2022-11-01T17:53:31.860Z"
   },
   {
    "duration": 735,
    "start_time": "2022-11-01T17:53:32.171Z"
   },
   {
    "duration": 0,
    "start_time": "2022-11-01T17:53:32.907Z"
   },
   {
    "duration": 17,
    "start_time": "2022-11-01T17:53:49.571Z"
   },
   {
    "duration": 15,
    "start_time": "2022-11-01T17:54:38.642Z"
   },
   {
    "duration": 27,
    "start_time": "2022-11-01T17:55:27.410Z"
   },
   {
    "duration": 47,
    "start_time": "2022-11-01T17:55:35.888Z"
   },
   {
    "duration": 31,
    "start_time": "2022-11-01T17:55:36.066Z"
   },
   {
    "duration": 23,
    "start_time": "2022-11-01T17:55:36.254Z"
   },
   {
    "duration": 9,
    "start_time": "2022-11-01T17:55:36.442Z"
   },
   {
    "duration": 13,
    "start_time": "2022-11-01T17:55:36.635Z"
   },
   {
    "duration": 11,
    "start_time": "2022-11-01T17:55:36.837Z"
   },
   {
    "duration": 13,
    "start_time": "2022-11-01T17:55:37.027Z"
   },
   {
    "duration": 8,
    "start_time": "2022-11-01T17:55:37.200Z"
   },
   {
    "duration": 23,
    "start_time": "2022-11-01T17:55:37.394Z"
   },
   {
    "duration": 15,
    "start_time": "2022-11-01T17:55:37.601Z"
   },
   {
    "duration": 3,
    "start_time": "2022-11-01T17:55:37.808Z"
   },
   {
    "duration": 3,
    "start_time": "2022-11-01T17:55:38.049Z"
   },
   {
    "duration": 12,
    "start_time": "2022-11-01T17:55:38.321Z"
   },
   {
    "duration": 15,
    "start_time": "2022-11-01T17:55:38.539Z"
   },
   {
    "duration": 403,
    "start_time": "2022-11-01T17:55:38.857Z"
   },
   {
    "duration": 25,
    "start_time": "2022-11-01T17:55:39.354Z"
   },
   {
    "duration": 11,
    "start_time": "2022-11-01T17:57:01.449Z"
   },
   {
    "duration": 14,
    "start_time": "2022-11-01T17:57:50.713Z"
   },
   {
    "duration": 5,
    "start_time": "2022-11-01T17:57:56.240Z"
   },
   {
    "duration": 5,
    "start_time": "2022-11-01T17:59:01.087Z"
   },
   {
    "duration": 10,
    "start_time": "2022-11-01T17:59:07.808Z"
   },
   {
    "duration": 22,
    "start_time": "2022-11-01T17:59:22.096Z"
   },
   {
    "duration": 32,
    "start_time": "2022-11-01T17:59:44.839Z"
   },
   {
    "duration": 10,
    "start_time": "2022-11-01T18:02:26.294Z"
   },
   {
    "duration": 20,
    "start_time": "2022-11-01T18:04:10.629Z"
   },
   {
    "duration": 42,
    "start_time": "2022-11-01T18:04:34.328Z"
   },
   {
    "duration": 5,
    "start_time": "2022-11-01T18:05:03.525Z"
   },
   {
    "duration": 12,
    "start_time": "2022-11-01T18:08:03.142Z"
   },
   {
    "duration": 98,
    "start_time": "2022-11-01T18:08:16.652Z"
   },
   {
    "duration": 21,
    "start_time": "2022-11-01T18:09:37.691Z"
   },
   {
    "duration": 245,
    "start_time": "2022-11-01T18:10:38.878Z"
   },
   {
    "duration": 226,
    "start_time": "2022-11-01T18:11:32.762Z"
   },
   {
    "duration": 225,
    "start_time": "2022-11-01T18:13:32.562Z"
   },
   {
    "duration": 18,
    "start_time": "2022-11-01T18:15:00.000Z"
   },
   {
    "duration": 226,
    "start_time": "2022-11-01T18:15:14.208Z"
   },
   {
    "duration": 6,
    "start_time": "2022-11-01T18:17:15.390Z"
   },
   {
    "duration": 334,
    "start_time": "2022-11-01T18:18:07.086Z"
   },
   {
    "duration": 286,
    "start_time": "2022-11-01T18:18:18.863Z"
   },
   {
    "duration": 301,
    "start_time": "2022-11-01T18:18:45.125Z"
   },
   {
    "duration": 286,
    "start_time": "2022-11-01T18:18:49.804Z"
   },
   {
    "duration": 15,
    "start_time": "2022-11-01T18:19:14.825Z"
   },
   {
    "duration": 22,
    "start_time": "2022-11-01T18:19:40.540Z"
   },
   {
    "duration": 18,
    "start_time": "2022-11-01T18:19:50.988Z"
   },
   {
    "duration": 155,
    "start_time": "2022-11-01T18:19:58.684Z"
   },
   {
    "duration": 555,
    "start_time": "2022-11-02T16:04:03.808Z"
   },
   {
    "duration": 36,
    "start_time": "2022-11-02T16:04:04.365Z"
   },
   {
    "duration": 14,
    "start_time": "2022-11-02T16:04:04.403Z"
   },
   {
    "duration": 9,
    "start_time": "2022-11-02T16:04:04.419Z"
   },
   {
    "duration": 12,
    "start_time": "2022-11-02T16:04:04.591Z"
   },
   {
    "duration": 8,
    "start_time": "2022-11-02T16:04:04.784Z"
   },
   {
    "duration": 12,
    "start_time": "2022-11-02T16:04:05.351Z"
   },
   {
    "duration": 5,
    "start_time": "2022-11-02T16:04:05.567Z"
   },
   {
    "duration": 19,
    "start_time": "2022-11-02T16:04:05.775Z"
   },
   {
    "duration": 16,
    "start_time": "2022-11-02T16:04:06.143Z"
   },
   {
    "duration": 2,
    "start_time": "2022-11-02T16:04:06.351Z"
   },
   {
    "duration": 2,
    "start_time": "2022-11-02T16:04:06.670Z"
   },
   {
    "duration": 13,
    "start_time": "2022-11-02T16:04:06.960Z"
   },
   {
    "duration": 13,
    "start_time": "2022-11-02T16:04:07.246Z"
   },
   {
    "duration": 789,
    "start_time": "2022-11-02T16:04:07.844Z"
   },
   {
    "duration": 246,
    "start_time": "2022-11-02T16:04:08.635Z"
   },
   {
    "duration": 183,
    "start_time": "2022-11-02T16:04:08.882Z"
   },
   {
    "duration": 547,
    "start_time": "2022-11-02T16:04:09.067Z"
   },
   {
    "duration": 211,
    "start_time": "2022-11-02T16:04:26.647Z"
   },
   {
    "duration": 152,
    "start_time": "2022-11-02T16:41:18.636Z"
   },
   {
    "duration": 183,
    "start_time": "2022-11-02T16:41:30.694Z"
   },
   {
    "duration": 153,
    "start_time": "2022-11-02T16:42:19.628Z"
   },
   {
    "duration": 167,
    "start_time": "2022-11-02T16:43:02.091Z"
   },
   {
    "duration": 162,
    "start_time": "2022-11-02T16:45:16.386Z"
   },
   {
    "duration": 201,
    "start_time": "2022-11-02T16:45:17.474Z"
   },
   {
    "duration": 3,
    "start_time": "2022-11-02T16:50:35.312Z"
   },
   {
    "duration": 3,
    "start_time": "2022-11-02T16:50:48.399Z"
   },
   {
    "duration": 4,
    "start_time": "2022-11-02T16:51:00.638Z"
   },
   {
    "duration": 9,
    "start_time": "2022-11-02T16:51:13.991Z"
   },
   {
    "duration": 5,
    "start_time": "2022-11-02T16:51:19.239Z"
   },
   {
    "duration": 57,
    "start_time": "2022-11-02T16:52:10.863Z"
   },
   {
    "duration": 12,
    "start_time": "2022-11-02T16:52:20.687Z"
   },
   {
    "duration": 6,
    "start_time": "2022-11-02T16:52:45.262Z"
   },
   {
    "duration": 5,
    "start_time": "2022-11-02T16:52:51.759Z"
   },
   {
    "duration": 5,
    "start_time": "2022-11-02T16:52:55.606Z"
   },
   {
    "duration": 12,
    "start_time": "2022-11-02T16:53:54.278Z"
   },
   {
    "duration": 10,
    "start_time": "2022-11-02T16:54:07.982Z"
   },
   {
    "duration": 50,
    "start_time": "2022-11-02T16:54:12.965Z"
   },
   {
    "duration": 24,
    "start_time": "2022-11-02T16:54:13.168Z"
   },
   {
    "duration": 14,
    "start_time": "2022-11-02T16:54:13.341Z"
   },
   {
    "duration": 9,
    "start_time": "2022-11-02T16:54:13.517Z"
   },
   {
    "duration": 12,
    "start_time": "2022-11-02T16:54:13.693Z"
   },
   {
    "duration": 15,
    "start_time": "2022-11-02T16:54:13.861Z"
   },
   {
    "duration": 16,
    "start_time": "2022-11-02T16:54:14.073Z"
   },
   {
    "duration": 5,
    "start_time": "2022-11-02T16:54:14.238Z"
   },
   {
    "duration": 21,
    "start_time": "2022-11-02T16:54:14.414Z"
   },
   {
    "duration": 21,
    "start_time": "2022-11-02T16:54:14.598Z"
   },
   {
    "duration": 2,
    "start_time": "2022-11-02T16:54:14.773Z"
   },
   {
    "duration": 3,
    "start_time": "2022-11-02T16:54:14.941Z"
   },
   {
    "duration": 14,
    "start_time": "2022-11-02T16:54:15.153Z"
   },
   {
    "duration": 10,
    "start_time": "2022-11-02T16:54:15.309Z"
   },
   {
    "duration": 372,
    "start_time": "2022-11-02T16:54:15.493Z"
   },
   {
    "duration": 251,
    "start_time": "2022-11-02T16:54:15.866Z"
   },
   {
    "duration": 180,
    "start_time": "2022-11-02T16:54:16.119Z"
   },
   {
    "duration": 239,
    "start_time": "2022-11-02T16:54:16.308Z"
   },
   {
    "duration": 193,
    "start_time": "2022-11-02T16:54:16.550Z"
   },
   {
    "duration": 213,
    "start_time": "2022-11-02T16:54:16.745Z"
   },
   {
    "duration": 15,
    "start_time": "2022-11-02T16:54:16.960Z"
   },
   {
    "duration": 18,
    "start_time": "2022-11-02T16:54:32.021Z"
   },
   {
    "duration": 140,
    "start_time": "2022-11-02T16:56:09.892Z"
   },
   {
    "duration": 62,
    "start_time": "2022-11-02T17:09:53.400Z"
   },
   {
    "duration": 850,
    "start_time": "2022-11-02T17:10:01.170Z"
   },
   {
    "duration": 30,
    "start_time": "2022-11-02T17:10:02.022Z"
   },
   {
    "duration": 13,
    "start_time": "2022-11-02T17:10:02.054Z"
   },
   {
    "duration": 8,
    "start_time": "2022-11-02T17:10:02.069Z"
   },
   {
    "duration": 36,
    "start_time": "2022-11-02T17:10:02.113Z"
   },
   {
    "duration": 10,
    "start_time": "2022-11-02T17:10:02.416Z"
   },
   {
    "duration": 16,
    "start_time": "2022-11-02T17:10:02.848Z"
   },
   {
    "duration": 7,
    "start_time": "2022-11-02T17:10:03.015Z"
   },
   {
    "duration": 27,
    "start_time": "2022-11-02T17:10:03.161Z"
   },
   {
    "duration": 16,
    "start_time": "2022-11-02T17:10:03.345Z"
   },
   {
    "duration": 3,
    "start_time": "2022-11-02T17:10:03.537Z"
   },
   {
    "duration": 3,
    "start_time": "2022-11-02T17:10:03.688Z"
   },
   {
    "duration": 14,
    "start_time": "2022-11-02T17:10:03.897Z"
   },
   {
    "duration": 11,
    "start_time": "2022-11-02T17:10:04.080Z"
   },
   {
    "duration": 840,
    "start_time": "2022-11-02T17:10:04.288Z"
   },
   {
    "duration": 276,
    "start_time": "2022-11-02T17:10:05.130Z"
   },
   {
    "duration": 187,
    "start_time": "2022-11-02T17:10:05.408Z"
   },
   {
    "duration": 286,
    "start_time": "2022-11-02T17:10:05.597Z"
   },
   {
    "duration": 172,
    "start_time": "2022-11-02T17:10:05.885Z"
   },
   {
    "duration": 165,
    "start_time": "2022-11-02T17:10:06.059Z"
   },
   {
    "duration": 160,
    "start_time": "2022-11-02T17:10:06.226Z"
   },
   {
    "duration": 4,
    "start_time": "2022-11-02T17:10:06.391Z"
   },
   {
    "duration": 22,
    "start_time": "2022-11-02T17:12:01.048Z"
   },
   {
    "duration": 16,
    "start_time": "2022-11-02T17:13:01.256Z"
   },
   {
    "duration": 16,
    "start_time": "2022-11-02T17:13:04.263Z"
   },
   {
    "duration": 147,
    "start_time": "2022-11-02T17:13:17.231Z"
   },
   {
    "duration": 185,
    "start_time": "2022-11-02T17:13:45.415Z"
   },
   {
    "duration": 153,
    "start_time": "2022-11-02T17:14:07.303Z"
   },
   {
    "duration": 167,
    "start_time": "2022-11-02T17:16:10.486Z"
   },
   {
    "duration": 12,
    "start_time": "2022-11-02T17:16:38.309Z"
   },
   {
    "duration": 13,
    "start_time": "2022-11-02T17:16:44.749Z"
   },
   {
    "duration": 16,
    "start_time": "2022-11-02T17:17:05.757Z"
   },
   {
    "duration": 21,
    "start_time": "2022-11-02T17:18:19.230Z"
   },
   {
    "duration": 14,
    "start_time": "2022-11-02T17:20:11.140Z"
   },
   {
    "duration": 19,
    "start_time": "2022-11-02T17:22:50.210Z"
   },
   {
    "duration": 19,
    "start_time": "2022-11-02T17:25:44.977Z"
   },
   {
    "duration": 21,
    "start_time": "2022-11-02T17:25:47.608Z"
   },
   {
    "duration": 21,
    "start_time": "2022-11-02T17:25:51.657Z"
   },
   {
    "duration": 20,
    "start_time": "2022-11-02T17:26:01.329Z"
   },
   {
    "duration": 52,
    "start_time": "2022-11-02T17:26:21.469Z"
   },
   {
    "duration": 23,
    "start_time": "2022-11-02T17:26:21.659Z"
   },
   {
    "duration": 14,
    "start_time": "2022-11-02T17:26:21.848Z"
   },
   {
    "duration": 9,
    "start_time": "2022-11-02T17:26:22.032Z"
   },
   {
    "duration": 23,
    "start_time": "2022-11-02T17:26:22.224Z"
   },
   {
    "duration": 10,
    "start_time": "2022-11-02T17:26:22.416Z"
   },
   {
    "duration": 13,
    "start_time": "2022-11-02T17:26:22.586Z"
   },
   {
    "duration": 5,
    "start_time": "2022-11-02T17:26:22.776Z"
   },
   {
    "duration": 19,
    "start_time": "2022-11-02T17:26:22.960Z"
   },
   {
    "duration": 15,
    "start_time": "2022-11-02T17:26:23.168Z"
   },
   {
    "duration": 2,
    "start_time": "2022-11-02T17:26:23.656Z"
   },
   {
    "duration": 3,
    "start_time": "2022-11-02T17:26:23.856Z"
   },
   {
    "duration": 12,
    "start_time": "2022-11-02T17:26:24.048Z"
   },
   {
    "duration": 10,
    "start_time": "2022-11-02T17:26:35.393Z"
   },
   {
    "duration": 373,
    "start_time": "2022-11-02T17:26:36.000Z"
   },
   {
    "duration": 387,
    "start_time": "2022-11-02T17:26:36.375Z"
   },
   {
    "duration": 163,
    "start_time": "2022-11-02T17:26:36.763Z"
   },
   {
    "duration": 222,
    "start_time": "2022-11-02T17:26:36.935Z"
   },
   {
    "duration": 156,
    "start_time": "2022-11-02T17:26:37.441Z"
   },
   {
    "duration": 179,
    "start_time": "2022-11-02T17:26:37.688Z"
   },
   {
    "duration": 157,
    "start_time": "2022-11-02T17:26:37.936Z"
   },
   {
    "duration": 21,
    "start_time": "2022-11-02T17:26:38.145Z"
   },
   {
    "duration": 19,
    "start_time": "2022-11-02T17:26:38.424Z"
   },
   {
    "duration": 14,
    "start_time": "2022-11-02T17:26:38.681Z"
   },
   {
    "duration": 20,
    "start_time": "2022-11-02T17:27:19.152Z"
   },
   {
    "duration": 20,
    "start_time": "2022-11-02T17:27:27.600Z"
   },
   {
    "duration": 15,
    "start_time": "2022-11-02T17:27:28.208Z"
   },
   {
    "duration": 49,
    "start_time": "2022-11-02T17:28:01.657Z"
   },
   {
    "duration": 24,
    "start_time": "2022-11-02T17:28:01.862Z"
   },
   {
    "duration": 14,
    "start_time": "2022-11-02T17:28:02.052Z"
   },
   {
    "duration": 9,
    "start_time": "2022-11-02T17:28:02.229Z"
   },
   {
    "duration": 17,
    "start_time": "2022-11-02T17:28:02.429Z"
   },
   {
    "duration": 10,
    "start_time": "2022-11-02T17:28:02.597Z"
   },
   {
    "duration": 14,
    "start_time": "2022-11-02T17:28:02.789Z"
   },
   {
    "duration": 6,
    "start_time": "2022-11-02T17:28:02.980Z"
   },
   {
    "duration": 19,
    "start_time": "2022-11-02T17:28:03.180Z"
   },
   {
    "duration": 16,
    "start_time": "2022-11-02T17:28:03.356Z"
   },
   {
    "duration": 2,
    "start_time": "2022-11-02T17:28:03.548Z"
   },
   {
    "duration": 2,
    "start_time": "2022-11-02T17:28:03.740Z"
   },
   {
    "duration": 13,
    "start_time": "2022-11-02T17:28:03.916Z"
   },
   {
    "duration": 11,
    "start_time": "2022-11-02T17:28:04.100Z"
   },
   {
    "duration": 385,
    "start_time": "2022-11-02T17:28:04.284Z"
   },
   {
    "duration": 249,
    "start_time": "2022-11-02T17:28:04.672Z"
   },
   {
    "duration": 170,
    "start_time": "2022-11-02T17:28:04.922Z"
   },
   {
    "duration": 288,
    "start_time": "2022-11-02T17:28:05.094Z"
   },
   {
    "duration": 173,
    "start_time": "2022-11-02T17:28:05.383Z"
   },
   {
    "duration": 174,
    "start_time": "2022-11-02T17:28:05.559Z"
   },
   {
    "duration": 158,
    "start_time": "2022-11-02T17:28:05.734Z"
   },
   {
    "duration": 20,
    "start_time": "2022-11-02T17:28:05.895Z"
   },
   {
    "duration": 14,
    "start_time": "2022-11-02T17:28:05.917Z"
   },
   {
    "duration": 15,
    "start_time": "2022-11-02T17:28:06.029Z"
   },
   {
    "duration": 1084,
    "start_time": "2022-11-02T17:29:36.012Z"
   },
   {
    "duration": 47,
    "start_time": "2022-11-02T17:29:42.675Z"
   },
   {
    "duration": 22,
    "start_time": "2022-11-02T17:29:42.893Z"
   },
   {
    "duration": 16,
    "start_time": "2022-11-02T17:29:43.075Z"
   },
   {
    "duration": 9,
    "start_time": "2022-11-02T17:29:43.275Z"
   },
   {
    "duration": 1083,
    "start_time": "2022-11-02T17:29:43.859Z"
   },
   {
    "duration": 0,
    "start_time": "2022-11-02T17:29:44.944Z"
   },
   {
    "duration": 16,
    "start_time": "2022-11-02T17:29:58.948Z"
   },
   {
    "duration": 15,
    "start_time": "2022-11-02T17:30:10.868Z"
   },
   {
    "duration": 9,
    "start_time": "2022-11-02T17:30:11.363Z"
   },
   {
    "duration": 16,
    "start_time": "2022-11-02T17:30:12.115Z"
   },
   {
    "duration": 7,
    "start_time": "2022-11-02T17:30:12.508Z"
   },
   {
    "duration": 19,
    "start_time": "2022-11-02T17:30:15.107Z"
   },
   {
    "duration": 16,
    "start_time": "2022-11-02T17:30:17.467Z"
   },
   {
    "duration": 3,
    "start_time": "2022-11-02T17:30:18.059Z"
   },
   {
    "duration": 3,
    "start_time": "2022-11-02T17:30:18.595Z"
   },
   {
    "duration": 12,
    "start_time": "2022-11-02T17:30:19.139Z"
   },
   {
    "duration": 11,
    "start_time": "2022-11-02T17:30:19.643Z"
   },
   {
    "duration": 407,
    "start_time": "2022-11-02T17:30:44.259Z"
   },
   {
    "duration": 19,
    "start_time": "2022-11-02T17:32:32.227Z"
   },
   {
    "duration": 20,
    "start_time": "2022-11-02T17:34:31.441Z"
   },
   {
    "duration": 20,
    "start_time": "2022-11-02T17:34:55.001Z"
   },
   {
    "duration": 28,
    "start_time": "2022-11-02T17:40:34.435Z"
   },
   {
    "duration": 20,
    "start_time": "2022-11-02T17:40:46.174Z"
   },
   {
    "duration": 486,
    "start_time": "2022-11-04T07:06:06.232Z"
   },
   {
    "duration": 30,
    "start_time": "2022-11-04T07:06:06.719Z"
   },
   {
    "duration": 12,
    "start_time": "2022-11-04T07:06:06.751Z"
   },
   {
    "duration": 9,
    "start_time": "2022-11-04T07:06:06.765Z"
   },
   {
    "duration": 16,
    "start_time": "2022-11-04T07:06:06.884Z"
   },
   {
    "duration": 8,
    "start_time": "2022-11-04T07:06:07.070Z"
   },
   {
    "duration": 13,
    "start_time": "2022-11-04T07:06:07.230Z"
   },
   {
    "duration": 5,
    "start_time": "2022-11-04T07:06:07.430Z"
   },
   {
    "duration": 18,
    "start_time": "2022-11-04T07:06:07.596Z"
   },
   {
    "duration": 16,
    "start_time": "2022-11-04T07:06:08.021Z"
   },
   {
    "duration": 2,
    "start_time": "2022-11-04T07:06:08.196Z"
   },
   {
    "duration": 2,
    "start_time": "2022-11-04T07:06:08.348Z"
   },
   {
    "duration": 12,
    "start_time": "2022-11-04T07:06:08.532Z"
   },
   {
    "duration": 10,
    "start_time": "2022-11-04T07:06:08.704Z"
   },
   {
    "duration": 766,
    "start_time": "2022-11-04T07:06:08.900Z"
   },
   {
    "duration": 235,
    "start_time": "2022-11-04T07:06:09.668Z"
   },
   {
    "duration": 161,
    "start_time": "2022-11-04T07:06:09.909Z"
   },
   {
    "duration": 255,
    "start_time": "2022-11-04T07:06:10.073Z"
   },
   {
    "duration": 253,
    "start_time": "2022-11-04T07:06:10.330Z"
   },
   {
    "duration": 0,
    "start_time": "2022-11-04T07:06:10.585Z"
   },
   {
    "duration": 0,
    "start_time": "2022-11-04T07:06:10.586Z"
   },
   {
    "duration": 0,
    "start_time": "2022-11-04T07:06:10.587Z"
   },
   {
    "duration": 0,
    "start_time": "2022-11-04T07:06:10.588Z"
   },
   {
    "duration": 0,
    "start_time": "2022-11-04T07:06:10.589Z"
   },
   {
    "duration": 160,
    "start_time": "2022-11-04T07:06:38.894Z"
   },
   {
    "duration": 169,
    "start_time": "2022-11-04T07:06:47.277Z"
   },
   {
    "duration": 303,
    "start_time": "2022-11-04T07:06:58.413Z"
   },
   {
    "duration": 156,
    "start_time": "2022-11-04T07:07:19.637Z"
   },
   {
    "duration": 146,
    "start_time": "2022-11-04T07:07:45.014Z"
   },
   {
    "duration": 20,
    "start_time": "2022-11-04T07:12:39.555Z"
   },
   {
    "duration": 24,
    "start_time": "2022-11-04T07:13:18.026Z"
   },
   {
    "duration": 19,
    "start_time": "2022-11-04T07:13:23.202Z"
   },
   {
    "duration": 20,
    "start_time": "2022-11-04T07:13:36.041Z"
   },
   {
    "duration": 24,
    "start_time": "2022-11-04T07:20:27.830Z"
   },
   {
    "duration": 22,
    "start_time": "2022-11-04T07:20:46.062Z"
   },
   {
    "duration": 21,
    "start_time": "2022-11-04T07:21:56.397Z"
   },
   {
    "duration": 23,
    "start_time": "2022-11-04T07:22:36.525Z"
   },
   {
    "duration": 22,
    "start_time": "2022-11-04T07:22:42.613Z"
   },
   {
    "duration": 24,
    "start_time": "2022-11-04T07:22:59.021Z"
   },
   {
    "duration": 24,
    "start_time": "2022-11-04T07:24:22.725Z"
   },
   {
    "duration": 647,
    "start_time": "2022-11-04T07:31:35.855Z"
   },
   {
    "duration": 23,
    "start_time": "2022-11-04T07:32:23.185Z"
   },
   {
    "duration": 57,
    "start_time": "2022-11-04T07:52:07.189Z"
   },
   {
    "duration": 45,
    "start_time": "2022-11-04T07:52:48.333Z"
   },
   {
    "duration": 41,
    "start_time": "2022-11-04T07:53:00.540Z"
   },
   {
    "duration": 10,
    "start_time": "2022-11-04T07:53:56.882Z"
   },
   {
    "duration": 13,
    "start_time": "2022-11-04T07:54:36.940Z"
   },
   {
    "duration": 21,
    "start_time": "2022-11-04T07:55:05.308Z"
   },
   {
    "duration": 15,
    "start_time": "2022-11-04T07:56:21.243Z"
   },
   {
    "duration": 14,
    "start_time": "2022-11-04T07:57:49.442Z"
   },
   {
    "duration": 15,
    "start_time": "2022-11-04T07:59:48.217Z"
   },
   {
    "duration": 242,
    "start_time": "2022-11-04T08:01:47.751Z"
   },
   {
    "duration": 244,
    "start_time": "2022-11-04T08:17:55.247Z"
   },
   {
    "duration": 235,
    "start_time": "2022-11-04T08:17:55.492Z"
   },
   {
    "duration": 228,
    "start_time": "2022-11-04T08:17:55.806Z"
   },
   {
    "duration": 219,
    "start_time": "2022-11-04T08:19:33.110Z"
   },
   {
    "duration": 51,
    "start_time": "2022-11-04T08:20:29.429Z"
   },
   {
    "duration": 22,
    "start_time": "2022-11-04T08:20:29.647Z"
   },
   {
    "duration": 14,
    "start_time": "2022-11-04T08:20:29.869Z"
   },
   {
    "duration": 8,
    "start_time": "2022-11-04T08:20:30.070Z"
   },
   {
    "duration": 14,
    "start_time": "2022-11-04T08:20:30.269Z"
   },
   {
    "duration": 8,
    "start_time": "2022-11-04T08:20:30.462Z"
   },
   {
    "duration": 13,
    "start_time": "2022-11-04T08:20:30.646Z"
   },
   {
    "duration": 6,
    "start_time": "2022-11-04T08:20:30.853Z"
   },
   {
    "duration": 18,
    "start_time": "2022-11-04T08:20:31.022Z"
   },
   {
    "duration": 16,
    "start_time": "2022-11-04T08:20:31.253Z"
   },
   {
    "duration": 2,
    "start_time": "2022-11-04T08:20:31.693Z"
   },
   {
    "duration": 46,
    "start_time": "2022-11-04T08:20:31.698Z"
   },
   {
    "duration": 16,
    "start_time": "2022-11-04T08:20:32.045Z"
   },
   {
    "duration": 11,
    "start_time": "2022-11-04T08:20:32.349Z"
   },
   {
    "duration": 423,
    "start_time": "2022-11-04T08:20:32.534Z"
   },
   {
    "duration": 15,
    "start_time": "2022-11-04T08:20:32.959Z"
   },
   {
    "duration": 257,
    "start_time": "2022-11-04T08:20:33.431Z"
   },
   {
    "duration": 192,
    "start_time": "2022-11-04T08:20:33.690Z"
   },
   {
    "duration": 214,
    "start_time": "2022-11-04T08:20:33.933Z"
   },
   {
    "duration": 247,
    "start_time": "2022-11-04T08:20:34.670Z"
   },
   {
    "duration": 212,
    "start_time": "2022-11-04T08:20:47.877Z"
   },
   {
    "duration": 427,
    "start_time": "2022-11-04T08:22:35.156Z"
   },
   {
    "duration": 472,
    "start_time": "2022-11-04T08:22:46.837Z"
   },
   {
    "duration": 101,
    "start_time": "2022-11-04T08:25:05.197Z"
   },
   {
    "duration": 58,
    "start_time": "2022-11-04T08:25:16.827Z"
   },
   {
    "duration": 23,
    "start_time": "2022-11-04T08:25:17.020Z"
   },
   {
    "duration": 13,
    "start_time": "2022-11-04T08:25:17.203Z"
   },
   {
    "duration": 9,
    "start_time": "2022-11-04T08:25:17.378Z"
   },
   {
    "duration": 14,
    "start_time": "2022-11-04T08:25:17.587Z"
   },
   {
    "duration": 9,
    "start_time": "2022-11-04T08:25:17.778Z"
   },
   {
    "duration": 13,
    "start_time": "2022-11-04T08:25:17.963Z"
   },
   {
    "duration": 6,
    "start_time": "2022-11-04T08:25:18.147Z"
   },
   {
    "duration": 19,
    "start_time": "2022-11-04T08:25:18.331Z"
   },
   {
    "duration": 17,
    "start_time": "2022-11-04T08:25:18.506Z"
   },
   {
    "duration": 3,
    "start_time": "2022-11-04T08:25:18.698Z"
   },
   {
    "duration": 2,
    "start_time": "2022-11-04T08:25:18.883Z"
   },
   {
    "duration": 13,
    "start_time": "2022-11-04T08:25:19.083Z"
   },
   {
    "duration": 11,
    "start_time": "2022-11-04T08:25:19.282Z"
   },
   {
    "duration": 435,
    "start_time": "2022-11-04T08:25:19.475Z"
   },
   {
    "duration": 15,
    "start_time": "2022-11-04T08:25:19.912Z"
   },
   {
    "duration": 244,
    "start_time": "2022-11-04T08:25:20.027Z"
   },
   {
    "duration": 172,
    "start_time": "2022-11-04T08:25:20.275Z"
   },
   {
    "duration": 102,
    "start_time": "2022-11-04T08:25:20.691Z"
   },
   {
    "duration": 211,
    "start_time": "2022-11-04T08:27:15.092Z"
   },
   {
    "duration": 9,
    "start_time": "2022-11-04T08:28:38.033Z"
   },
   {
    "duration": 7,
    "start_time": "2022-11-04T08:29:17.129Z"
   },
   {
    "duration": 233,
    "start_time": "2022-11-04T08:30:51.183Z"
   },
   {
    "duration": 215,
    "start_time": "2022-11-04T08:35:48.206Z"
   },
   {
    "duration": 335,
    "start_time": "2022-11-04T08:36:21.271Z"
   },
   {
    "duration": 20,
    "start_time": "2022-11-04T08:51:22.941Z"
   },
   {
    "duration": 282,
    "start_time": "2022-11-04T08:51:27.149Z"
   },
   {
    "duration": 241,
    "start_time": "2022-11-04T08:51:35.933Z"
   },
   {
    "duration": 297,
    "start_time": "2022-11-04T08:52:17.941Z"
   },
   {
    "duration": 351,
    "start_time": "2022-11-04T08:52:25.020Z"
   },
   {
    "duration": 177,
    "start_time": "2022-11-04T09:05:21.967Z"
   },
   {
    "duration": 134,
    "start_time": "2022-11-04T09:06:27.749Z"
   },
   {
    "duration": 173,
    "start_time": "2022-11-04T09:06:36.645Z"
   },
   {
    "duration": 177,
    "start_time": "2022-11-04T09:06:50.037Z"
   },
   {
    "duration": 145,
    "start_time": "2022-11-04T09:06:57.868Z"
   },
   {
    "duration": 164,
    "start_time": "2022-11-04T09:07:20.101Z"
   },
   {
    "duration": 204,
    "start_time": "2022-11-04T09:08:30.212Z"
   },
   {
    "duration": 150,
    "start_time": "2022-11-04T09:08:36.444Z"
   },
   {
    "duration": 32,
    "start_time": "2022-11-04T09:12:14.242Z"
   },
   {
    "duration": 30,
    "start_time": "2022-11-04T09:12:26.715Z"
   },
   {
    "duration": 29,
    "start_time": "2022-11-04T09:12:36.555Z"
   },
   {
    "duration": 266,
    "start_time": "2022-11-04T09:12:45.219Z"
   },
   {
    "duration": 286,
    "start_time": "2022-11-04T09:13:24.522Z"
   },
   {
    "duration": 265,
    "start_time": "2022-11-04T09:14:58.363Z"
   },
   {
    "duration": 277,
    "start_time": "2022-11-04T09:15:12.856Z"
   },
   {
    "duration": 352,
    "start_time": "2022-11-04T09:15:36.992Z"
   },
   {
    "duration": 309,
    "start_time": "2022-11-04T09:15:42.407Z"
   },
   {
    "duration": 511,
    "start_time": "2022-11-04T09:16:01.871Z"
   },
   {
    "duration": 31,
    "start_time": "2022-11-04T09:19:44.708Z"
   },
   {
    "duration": 24,
    "start_time": "2022-11-04T09:19:44.765Z"
   },
   {
    "duration": 14,
    "start_time": "2022-11-04T09:19:44.809Z"
   },
   {
    "duration": 9,
    "start_time": "2022-11-04T09:19:44.825Z"
   },
   {
    "duration": 29,
    "start_time": "2022-11-04T09:19:44.835Z"
   },
   {
    "duration": 10,
    "start_time": "2022-11-04T09:19:44.865Z"
   },
   {
    "duration": 34,
    "start_time": "2022-11-04T09:19:44.877Z"
   },
   {
    "duration": 15,
    "start_time": "2022-11-04T09:19:44.912Z"
   },
   {
    "duration": 19,
    "start_time": "2022-11-04T09:19:44.929Z"
   },
   {
    "duration": 15,
    "start_time": "2022-11-04T09:19:44.949Z"
   },
   {
    "duration": 231,
    "start_time": "2022-11-04T09:19:44.966Z"
   },
   {
    "duration": 312,
    "start_time": "2022-11-04T09:19:45.198Z"
   },
   {
    "duration": 13,
    "start_time": "2022-11-04T09:19:45.512Z"
   },
   {
    "duration": 10,
    "start_time": "2022-11-04T09:19:45.526Z"
   },
   {
    "duration": 373,
    "start_time": "2022-11-04T09:19:45.538Z"
   },
   {
    "duration": 14,
    "start_time": "2022-11-04T09:19:45.913Z"
   },
   {
    "duration": 153,
    "start_time": "2022-11-04T09:20:17.263Z"
   },
   {
    "duration": 155,
    "start_time": "2022-11-04T09:20:17.417Z"
   },
   {
    "duration": 170,
    "start_time": "2022-11-04T09:20:17.574Z"
   },
   {
    "duration": 25,
    "start_time": "2022-11-04T09:20:17.745Z"
   },
   {
    "duration": 44,
    "start_time": "2022-11-04T09:20:17.771Z"
   },
   {
    "duration": 18,
    "start_time": "2022-11-04T09:20:17.817Z"
   },
   {
    "duration": 209,
    "start_time": "2022-11-04T09:21:21.612Z"
   },
   {
    "duration": 24,
    "start_time": "2022-11-04T09:21:54.716Z"
   },
   {
    "duration": 316,
    "start_time": "2022-11-04T09:21:54.741Z"
   },
   {
    "duration": 149,
    "start_time": "2022-11-04T09:22:44.240Z"
   },
   {
    "duration": 129,
    "start_time": "2022-11-04T09:22:53.256Z"
   },
   {
    "duration": 212,
    "start_time": "2022-11-04T09:23:05.976Z"
   },
   {
    "duration": 500,
    "start_time": "2022-11-04T09:23:14.040Z"
   },
   {
    "duration": 259,
    "start_time": "2022-11-04T09:23:17.912Z"
   },
   {
    "duration": 11,
    "start_time": "2022-11-04T09:23:33.624Z"
   },
   {
    "duration": 10,
    "start_time": "2022-11-04T09:23:33.863Z"
   },
   {
    "duration": 370,
    "start_time": "2022-11-04T09:23:34.095Z"
   },
   {
    "duration": 17,
    "start_time": "2022-11-04T09:23:34.467Z"
   },
   {
    "duration": 24,
    "start_time": "2022-11-04T09:23:35.063Z"
   },
   {
    "duration": 213,
    "start_time": "2022-11-04T09:23:36.575Z"
   },
   {
    "duration": 145,
    "start_time": "2022-11-04T09:23:37.200Z"
   },
   {
    "duration": 145,
    "start_time": "2022-11-04T09:23:38.047Z"
   },
   {
    "duration": 32465,
    "start_time": "2022-11-04T09:23:58.864Z"
   },
   {
    "duration": 51,
    "start_time": "2022-11-04T09:24:31.331Z"
   },
   {
    "duration": 3,
    "start_time": "2022-11-04T09:24:31.383Z"
   },
   {
    "duration": 5,
    "start_time": "2022-11-04T09:24:31.388Z"
   },
   {
    "duration": 5,
    "start_time": "2022-11-04T09:24:31.394Z"
   },
   {
    "duration": 19,
    "start_time": "2022-11-04T09:24:31.400Z"
   },
   {
    "duration": 2,
    "start_time": "2022-11-04T09:24:31.421Z"
   },
   {
    "duration": 6,
    "start_time": "2022-11-04T09:24:31.424Z"
   },
   {
    "duration": 6,
    "start_time": "2022-11-04T09:24:31.457Z"
   },
   {
    "duration": 10,
    "start_time": "2022-11-04T09:24:31.647Z"
   },
   {
    "duration": 7,
    "start_time": "2022-11-04T09:24:32.071Z"
   },
   {
    "duration": 2,
    "start_time": "2022-11-04T09:24:32.319Z"
   },
   {
    "duration": 3,
    "start_time": "2022-11-04T09:24:32.679Z"
   },
   {
    "duration": 9,
    "start_time": "2022-11-04T09:24:32.927Z"
   },
   {
    "duration": 12,
    "start_time": "2022-11-04T09:24:33.463Z"
   },
   {
    "duration": 25,
    "start_time": "2022-11-04T09:24:33.727Z"
   },
   {
    "duration": 16,
    "start_time": "2022-11-04T09:24:34.199Z"
   },
   {
    "duration": 32948,
    "start_time": "2022-11-04T09:25:25.299Z"
   },
   {
    "duration": 230,
    "start_time": "2022-11-04T09:26:35.062Z"
   },
   {
    "duration": 266,
    "start_time": "2022-11-04T09:27:30.926Z"
   },
   {
    "duration": 21,
    "start_time": "2022-11-04T09:31:00.245Z"
   },
   {
    "duration": 251,
    "start_time": "2022-11-04T09:31:22.093Z"
   },
   {
    "duration": 279,
    "start_time": "2022-11-04T09:32:22.969Z"
   },
   {
    "duration": 179,
    "start_time": "2022-11-04T09:32:32.859Z"
   },
   {
    "duration": 31,
    "start_time": "2022-11-04T09:36:34.194Z"
   },
   {
    "duration": 731,
    "start_time": "2022-11-04T09:36:48.193Z"
   },
   {
    "duration": 20,
    "start_time": "2022-11-04T09:38:44.265Z"
   },
   {
    "duration": 25,
    "start_time": "2022-11-04T09:39:55.017Z"
   },
   {
    "duration": 53,
    "start_time": "2022-11-04T09:40:29.248Z"
   },
   {
    "duration": 272,
    "start_time": "2022-11-04T09:45:11.253Z"
   },
   {
    "duration": 291,
    "start_time": "2022-11-04T09:45:24.421Z"
   },
   {
    "duration": 23,
    "start_time": "2022-11-04T09:45:35.877Z"
   },
   {
    "duration": 266,
    "start_time": "2022-11-04T09:48:20.140Z"
   },
   {
    "duration": 251,
    "start_time": "2022-11-04T09:48:31.730Z"
   },
   {
    "duration": 194,
    "start_time": "2022-11-04T09:49:19.410Z"
   },
   {
    "duration": 233,
    "start_time": "2022-11-04T09:50:07.963Z"
   },
   {
    "duration": 207,
    "start_time": "2022-11-04T09:50:17.042Z"
   },
   {
    "duration": 153,
    "start_time": "2022-11-04T09:53:46.569Z"
   },
   {
    "duration": 160,
    "start_time": "2022-11-04T10:07:21.860Z"
   },
   {
    "duration": 167,
    "start_time": "2022-11-04T10:08:41.138Z"
   },
   {
    "duration": 321,
    "start_time": "2022-11-04T10:09:07.504Z"
   },
   {
    "duration": 322,
    "start_time": "2022-11-04T10:09:26.648Z"
   },
   {
    "duration": 314,
    "start_time": "2022-11-04T10:09:39.105Z"
   },
   {
    "duration": 328,
    "start_time": "2022-11-04T10:09:49.008Z"
   },
   {
    "duration": 156,
    "start_time": "2022-11-04T10:09:50.984Z"
   },
   {
    "duration": 156,
    "start_time": "2022-11-04T10:09:51.776Z"
   },
   {
    "duration": 159,
    "start_time": "2022-11-04T10:10:01.120Z"
   },
   {
    "duration": 310,
    "start_time": "2022-11-04T10:10:21.351Z"
   },
   {
    "duration": 330,
    "start_time": "2022-11-04T10:13:39.094Z"
   },
   {
    "duration": 154,
    "start_time": "2022-11-04T10:14:34.517Z"
   },
   {
    "duration": 315,
    "start_time": "2022-11-04T10:17:58.781Z"
   },
   {
    "duration": 157,
    "start_time": "2022-11-04T10:20:16.892Z"
   },
   {
    "duration": 335,
    "start_time": "2022-11-04T10:20:30.115Z"
   },
   {
    "duration": 322,
    "start_time": "2022-11-04T10:24:01.682Z"
   },
   {
    "duration": 313,
    "start_time": "2022-11-04T10:24:47.081Z"
   },
   {
    "duration": 316,
    "start_time": "2022-11-04T10:25:45.712Z"
   },
   {
    "duration": 631,
    "start_time": "2022-11-04T10:26:14.171Z"
   },
   {
    "duration": 43,
    "start_time": "2022-11-04T10:27:36.912Z"
   },
   {
    "duration": 40,
    "start_time": "2022-11-04T10:27:57.911Z"
   },
   {
    "duration": 696,
    "start_time": "2022-11-04T10:28:42.198Z"
   },
   {
    "duration": 152,
    "start_time": "2022-11-04T10:33:33.412Z"
   },
   {
    "duration": 291,
    "start_time": "2022-11-04T10:33:50.412Z"
   },
   {
    "duration": 313,
    "start_time": "2022-11-04T10:34:32.300Z"
   },
   {
    "duration": 293,
    "start_time": "2022-11-04T10:36:33.786Z"
   },
   {
    "duration": 4,
    "start_time": "2022-11-04T10:38:43.881Z"
   },
   {
    "duration": 5,
    "start_time": "2022-11-04T10:38:56.209Z"
   },
   {
    "duration": 50,
    "start_time": "2022-11-04T10:40:29.342Z"
   },
   {
    "duration": 3,
    "start_time": "2022-11-04T10:40:29.528Z"
   },
   {
    "duration": 3,
    "start_time": "2022-11-04T10:40:29.896Z"
   },
   {
    "duration": 2,
    "start_time": "2022-11-04T10:40:30.121Z"
   },
   {
    "duration": 17,
    "start_time": "2022-11-04T10:40:30.465Z"
   },
   {
    "duration": 7,
    "start_time": "2022-11-04T10:40:30.872Z"
   },
   {
    "duration": 3,
    "start_time": "2022-11-04T10:40:31.192Z"
   },
   {
    "duration": 6,
    "start_time": "2022-11-04T10:40:31.608Z"
   },
   {
    "duration": 9,
    "start_time": "2022-11-04T10:40:32.248Z"
   },
   {
    "duration": 7,
    "start_time": "2022-11-04T10:40:32.568Z"
   },
   {
    "duration": 3,
    "start_time": "2022-11-04T10:40:33.104Z"
   },
   {
    "duration": 3,
    "start_time": "2022-11-04T10:40:33.624Z"
   },
   {
    "duration": 10,
    "start_time": "2022-11-04T10:40:34.096Z"
   },
   {
    "duration": 11,
    "start_time": "2022-11-04T10:40:34.401Z"
   },
   {
    "duration": 22,
    "start_time": "2022-11-04T10:40:34.840Z"
   },
   {
    "duration": 15,
    "start_time": "2022-11-04T10:40:35.336Z"
   },
   {
    "duration": 19,
    "start_time": "2022-11-04T10:40:36.056Z"
   },
   {
    "duration": 251,
    "start_time": "2022-11-04T10:40:36.512Z"
   },
   {
    "duration": 214,
    "start_time": "2022-11-04T10:40:38.144Z"
   },
   {
    "duration": 634,
    "start_time": "2022-11-04T10:40:38.688Z"
   },
   {
    "duration": 4,
    "start_time": "2022-11-04T10:40:39.823Z"
   },
   {
    "duration": 299,
    "start_time": "2022-11-04T10:40:40.616Z"
   },
   {
    "duration": 12,
    "start_time": "2022-11-04T10:41:17.344Z"
   },
   {
    "duration": 303,
    "start_time": "2022-11-04T10:45:34.374Z"
   },
   {
    "duration": 309,
    "start_time": "2022-11-04T10:45:44.726Z"
   },
   {
    "duration": 138,
    "start_time": "2022-11-04T10:46:43.326Z"
   },
   {
    "duration": 304,
    "start_time": "2022-11-04T10:48:19.941Z"
   },
   {
    "duration": 299,
    "start_time": "2022-11-04T10:50:16.989Z"
   },
   {
    "duration": 652,
    "start_time": "2022-11-04T10:50:42.499Z"
   },
   {
    "duration": 325,
    "start_time": "2022-11-04T10:51:51.546Z"
   },
   {
    "duration": 309,
    "start_time": "2022-11-04T10:54:04.889Z"
   },
   {
    "duration": 595,
    "start_time": "2022-11-04T10:55:19.416Z"
   },
   {
    "duration": 146,
    "start_time": "2022-11-04T10:55:47.464Z"
   },
   {
    "duration": 4,
    "start_time": "2022-11-04T10:56:59.823Z"
   },
   {
    "duration": 68,
    "start_time": "2022-11-04T10:57:04.616Z"
   },
   {
    "duration": 151,
    "start_time": "2022-11-04T10:57:13.759Z"
   },
   {
    "duration": 171,
    "start_time": "2022-11-04T10:58:53.710Z"
   },
   {
    "duration": 253,
    "start_time": "2022-11-04T11:02:18.612Z"
   },
   {
    "duration": 249,
    "start_time": "2022-11-04T11:03:18.580Z"
   },
   {
    "duration": 277,
    "start_time": "2022-11-04T11:03:27.764Z"
   },
   {
    "duration": 42,
    "start_time": "2022-11-04T11:04:44.540Z"
   },
   {
    "duration": 269,
    "start_time": "2022-11-04T11:05:34.130Z"
   },
   {
    "duration": 260,
    "start_time": "2022-11-04T11:06:01.746Z"
   },
   {
    "duration": 243,
    "start_time": "2022-11-04T11:06:10.849Z"
   },
   {
    "duration": 28,
    "start_time": "2022-11-04T11:13:31.542Z"
   },
   {
    "duration": 23,
    "start_time": "2022-11-04T11:13:32.438Z"
   },
   {
    "duration": 21,
    "start_time": "2022-11-04T11:13:33.062Z"
   },
   {
    "duration": 30,
    "start_time": "2022-11-04T11:13:49.493Z"
   },
   {
    "duration": 31,
    "start_time": "2022-11-04T11:13:49.933Z"
   },
   {
    "duration": 21,
    "start_time": "2022-11-04T11:13:50.317Z"
   },
   {
    "duration": 26,
    "start_time": "2022-11-04T11:15:34.724Z"
   },
   {
    "duration": 693,
    "start_time": "2022-11-04T11:18:44.259Z"
   },
   {
    "duration": 25,
    "start_time": "2022-11-04T11:19:01.534Z"
   },
   {
    "duration": 32,
    "start_time": "2022-11-04T11:19:17.202Z"
   },
   {
    "duration": 24,
    "start_time": "2022-11-04T11:20:51.866Z"
   },
   {
    "duration": 23,
    "start_time": "2022-11-04T11:22:14.017Z"
   },
   {
    "duration": 644,
    "start_time": "2022-11-04T11:32:14.291Z"
   },
   {
    "duration": 10,
    "start_time": "2022-11-04T11:32:42.635Z"
   },
   {
    "duration": 131,
    "start_time": "2022-11-04T11:35:48.525Z"
   },
   {
    "duration": 13,
    "start_time": "2022-11-04T11:36:19.641Z"
   },
   {
    "duration": 19,
    "start_time": "2022-11-04T11:36:39.257Z"
   },
   {
    "duration": 15,
    "start_time": "2022-11-04T11:36:54.505Z"
   },
   {
    "duration": 5,
    "start_time": "2022-11-04T11:53:24.680Z"
   },
   {
    "duration": 7,
    "start_time": "2022-11-04T11:53:39.455Z"
   },
   {
    "duration": 125,
    "start_time": "2022-11-04T12:00:00.852Z"
   },
   {
    "duration": 6,
    "start_time": "2022-11-04T12:00:52.156Z"
   },
   {
    "duration": 74,
    "start_time": "2022-11-04T12:01:09.299Z"
   },
   {
    "duration": 12,
    "start_time": "2022-11-04T12:01:13.891Z"
   },
   {
    "duration": 12,
    "start_time": "2022-11-04T12:02:02.723Z"
   },
   {
    "duration": 10,
    "start_time": "2022-11-04T12:03:29.282Z"
   },
   {
    "duration": 9,
    "start_time": "2022-11-04T12:03:51.306Z"
   },
   {
    "duration": 9,
    "start_time": "2022-11-04T12:03:53.426Z"
   },
   {
    "duration": 8,
    "start_time": "2022-11-04T12:04:36.232Z"
   },
   {
    "duration": 8,
    "start_time": "2022-11-04T12:04:46.641Z"
   },
   {
    "duration": 892,
    "start_time": "2022-11-05T07:17:36.254Z"
   },
   {
    "duration": 2,
    "start_time": "2022-11-05T07:17:37.148Z"
   },
   {
    "duration": 17,
    "start_time": "2022-11-05T07:17:37.152Z"
   },
   {
    "duration": 2,
    "start_time": "2022-11-05T07:17:37.170Z"
   },
   {
    "duration": 16,
    "start_time": "2022-11-05T07:17:37.173Z"
   },
   {
    "duration": 2,
    "start_time": "2022-11-05T07:17:37.276Z"
   },
   {
    "duration": 3,
    "start_time": "2022-11-05T07:17:37.478Z"
   },
   {
    "duration": 6,
    "start_time": "2022-11-05T07:17:37.677Z"
   },
   {
    "duration": 9,
    "start_time": "2022-11-05T07:17:37.885Z"
   },
   {
    "duration": 6,
    "start_time": "2022-11-05T07:17:38.093Z"
   },
   {
    "duration": 2,
    "start_time": "2022-11-05T07:17:38.292Z"
   },
   {
    "duration": 2,
    "start_time": "2022-11-05T07:17:38.501Z"
   },
   {
    "duration": 7,
    "start_time": "2022-11-05T07:17:38.725Z"
   },
   {
    "duration": 12,
    "start_time": "2022-11-05T07:17:38.909Z"
   },
   {
    "duration": 21,
    "start_time": "2022-11-05T07:17:39.141Z"
   },
   {
    "duration": 15,
    "start_time": "2022-11-05T07:17:39.925Z"
   },
   {
    "duration": 22,
    "start_time": "2022-11-05T07:17:40.412Z"
   },
   {
    "duration": 261,
    "start_time": "2022-11-05T07:17:40.605Z"
   },
   {
    "duration": 208,
    "start_time": "2022-11-05T07:17:41.061Z"
   },
   {
    "duration": 241,
    "start_time": "2022-11-05T07:17:41.271Z"
   },
   {
    "duration": 0,
    "start_time": "2022-11-05T07:17:41.514Z"
   },
   {
    "duration": 673,
    "start_time": "2022-11-05T07:17:41.693Z"
   },
   {
    "duration": 620,
    "start_time": "2022-11-05T07:17:42.368Z"
   },
   {
    "duration": 164,
    "start_time": "2022-11-05T07:17:42.989Z"
   },
   {
    "duration": 247,
    "start_time": "2022-11-05T07:17:43.155Z"
   },
   {
    "duration": 17,
    "start_time": "2022-11-05T07:43:10.675Z"
   },
   {
    "duration": 9,
    "start_time": "2022-11-05T07:45:21.296Z"
   },
   {
    "duration": 10,
    "start_time": "2022-11-05T07:45:28.688Z"
   },
   {
    "duration": 7,
    "start_time": "2022-11-05T07:45:57.832Z"
   },
   {
    "duration": 8,
    "start_time": "2022-11-05T07:46:09.399Z"
   },
   {
    "duration": 9,
    "start_time": "2022-11-05T07:46:20.696Z"
   },
   {
    "duration": 9,
    "start_time": "2022-11-05T07:46:49.222Z"
   },
   {
    "duration": 9,
    "start_time": "2022-11-05T07:47:04.255Z"
   },
   {
    "duration": 5,
    "start_time": "2022-11-05T07:47:07.774Z"
   },
   {
    "duration": 9,
    "start_time": "2022-11-05T07:47:15.223Z"
   },
   {
    "duration": 11,
    "start_time": "2022-11-05T07:48:29.111Z"
   },
   {
    "duration": 9,
    "start_time": "2022-11-05T07:48:36.902Z"
   },
   {
    "duration": 9,
    "start_time": "2022-11-05T07:55:55.115Z"
   },
   {
    "duration": 50,
    "start_time": "2022-11-05T07:56:17.524Z"
   },
   {
    "duration": 3,
    "start_time": "2022-11-05T07:56:17.718Z"
   },
   {
    "duration": 12,
    "start_time": "2022-11-05T07:56:17.903Z"
   },
   {
    "duration": 3,
    "start_time": "2022-11-05T07:56:18.079Z"
   },
   {
    "duration": 13,
    "start_time": "2022-11-05T07:56:18.230Z"
   },
   {
    "duration": 3,
    "start_time": "2022-11-05T07:56:18.414Z"
   },
   {
    "duration": 4,
    "start_time": "2022-11-05T07:56:18.766Z"
   },
   {
    "duration": 6,
    "start_time": "2022-11-05T07:56:18.950Z"
   },
   {
    "duration": 15,
    "start_time": "2022-11-05T07:56:19.126Z"
   },
   {
    "duration": 8,
    "start_time": "2022-11-05T07:56:19.350Z"
   },
   {
    "duration": 2,
    "start_time": "2022-11-05T07:56:19.542Z"
   },
   {
    "duration": 3,
    "start_time": "2022-11-05T07:56:19.750Z"
   },
   {
    "duration": 10,
    "start_time": "2022-11-05T07:56:20.006Z"
   },
   {
    "duration": 12,
    "start_time": "2022-11-05T07:56:20.206Z"
   },
   {
    "duration": 27,
    "start_time": "2022-11-05T07:56:20.398Z"
   },
   {
    "duration": 15,
    "start_time": "2022-11-05T07:56:20.606Z"
   },
   {
    "duration": 22,
    "start_time": "2022-11-05T07:56:20.998Z"
   },
   {
    "duration": 235,
    "start_time": "2022-11-05T07:56:21.190Z"
   },
   {
    "duration": 200,
    "start_time": "2022-11-05T07:56:22.119Z"
   },
   {
    "duration": 10,
    "start_time": "2022-11-05T07:59:42.949Z"
   },
   {
    "duration": 1165,
    "start_time": "2022-11-05T07:59:58.333Z"
   },
   {
    "duration": 7,
    "start_time": "2022-11-05T08:00:13.029Z"
   },
   {
    "duration": 10,
    "start_time": "2022-11-05T08:21:22.986Z"
   },
   {
    "duration": 12,
    "start_time": "2022-11-05T08:21:53.244Z"
   },
   {
    "duration": 535,
    "start_time": "2022-11-05T08:22:55.753Z"
   },
   {
    "duration": 13,
    "start_time": "2022-11-05T08:24:13.665Z"
   },
   {
    "duration": 10,
    "start_time": "2022-11-05T08:26:35.048Z"
   },
   {
    "duration": 6,
    "start_time": "2022-11-05T08:45:42.978Z"
   },
   {
    "duration": 25,
    "start_time": "2022-11-05T08:45:53.912Z"
   },
   {
    "duration": 8,
    "start_time": "2022-11-05T08:47:37.033Z"
   },
   {
    "duration": 6,
    "start_time": "2022-11-05T08:47:52.591Z"
   },
   {
    "duration": 9,
    "start_time": "2022-11-05T08:49:42.183Z"
   },
   {
    "duration": 8,
    "start_time": "2022-11-05T08:50:03.566Z"
   },
   {
    "duration": 8,
    "start_time": "2022-11-05T08:50:49.701Z"
   },
   {
    "duration": 8,
    "start_time": "2022-11-05T08:51:56.429Z"
   },
   {
    "duration": 10,
    "start_time": "2022-11-05T08:52:01.733Z"
   },
   {
    "duration": 10,
    "start_time": "2022-11-05T08:54:37.580Z"
   },
   {
    "duration": 10,
    "start_time": "2022-11-05T08:54:53.444Z"
   },
   {
    "duration": 10,
    "start_time": "2022-11-05T08:55:36.204Z"
   },
   {
    "duration": 10,
    "start_time": "2022-11-05T08:56:45.627Z"
   },
   {
    "duration": 20,
    "start_time": "2022-11-05T09:03:04.759Z"
   },
   {
    "duration": 20,
    "start_time": "2022-11-05T09:03:56.391Z"
   },
   {
    "duration": 23,
    "start_time": "2022-11-05T09:04:40.719Z"
   },
   {
    "duration": 12,
    "start_time": "2022-11-05T09:05:33.846Z"
   },
   {
    "duration": 18,
    "start_time": "2022-11-05T09:09:18.020Z"
   },
   {
    "duration": 49,
    "start_time": "2022-11-05T09:13:58.647Z"
   },
   {
    "duration": 2,
    "start_time": "2022-11-05T09:13:58.833Z"
   },
   {
    "duration": 13,
    "start_time": "2022-11-05T09:13:59.034Z"
   },
   {
    "duration": 2,
    "start_time": "2022-11-05T09:13:59.249Z"
   },
   {
    "duration": 13,
    "start_time": "2022-11-05T09:13:59.409Z"
   },
   {
    "duration": 2,
    "start_time": "2022-11-05T09:13:59.642Z"
   },
   {
    "duration": 3,
    "start_time": "2022-11-05T09:13:59.857Z"
   },
   {
    "duration": 6,
    "start_time": "2022-11-05T09:14:00.066Z"
   },
   {
    "duration": 9,
    "start_time": "2022-11-05T09:14:00.249Z"
   },
   {
    "duration": 8,
    "start_time": "2022-11-05T09:14:00.489Z"
   },
   {
    "duration": 3,
    "start_time": "2022-11-05T09:14:00.890Z"
   },
   {
    "duration": 2,
    "start_time": "2022-11-05T09:14:01.154Z"
   },
   {
    "duration": 9,
    "start_time": "2022-11-05T09:14:01.362Z"
   },
   {
    "duration": 11,
    "start_time": "2022-11-05T09:14:01.545Z"
   },
   {
    "duration": 23,
    "start_time": "2022-11-05T09:14:01.737Z"
   },
   {
    "duration": 14,
    "start_time": "2022-11-05T09:14:01.929Z"
   },
   {
    "duration": 20,
    "start_time": "2022-11-05T09:14:02.457Z"
   },
   {
    "duration": 216,
    "start_time": "2022-11-05T09:14:02.642Z"
   },
   {
    "duration": 193,
    "start_time": "2022-11-05T09:14:03.057Z"
   },
   {
    "duration": 155,
    "start_time": "2022-11-05T09:14:03.410Z"
   },
   {
    "duration": 538,
    "start_time": "2022-11-05T09:14:03.627Z"
   },
   {
    "duration": 625,
    "start_time": "2022-11-05T09:14:04.167Z"
   },
   {
    "duration": 565,
    "start_time": "2022-11-05T09:14:04.794Z"
   },
   {
    "duration": 162,
    "start_time": "2022-11-05T09:14:05.360Z"
   },
   {
    "duration": 258,
    "start_time": "2022-11-05T09:14:05.523Z"
   },
   {
    "duration": 22,
    "start_time": "2022-11-05T09:14:05.782Z"
   },
   {
    "duration": 22,
    "start_time": "2022-11-05T09:14:05.881Z"
   },
   {
    "duration": 21,
    "start_time": "2022-11-05T09:14:06.345Z"
   },
   {
    "duration": 22,
    "start_time": "2022-11-05T09:14:06.753Z"
   },
   {
    "duration": 9,
    "start_time": "2022-11-05T09:14:07.001Z"
   },
   {
    "duration": 22,
    "start_time": "2022-11-05T09:14:07.226Z"
   },
   {
    "duration": 10,
    "start_time": "2022-11-05T09:14:07.872Z"
   },
   {
    "duration": 9,
    "start_time": "2022-11-05T09:14:08.065Z"
   },
   {
    "duration": 9,
    "start_time": "2022-11-05T09:14:08.305Z"
   },
   {
    "duration": 17,
    "start_time": "2022-11-05T09:14:09.034Z"
   },
   {
    "duration": 76,
    "start_time": "2022-11-05T09:16:53.112Z"
   },
   {
    "duration": 20,
    "start_time": "2022-11-05T09:16:57.784Z"
   },
   {
    "duration": 14,
    "start_time": "2022-11-05T09:29:14.644Z"
   },
   {
    "duration": 10,
    "start_time": "2022-11-05T09:29:46.898Z"
   },
   {
    "duration": 11,
    "start_time": "2022-11-05T09:30:19.434Z"
   },
   {
    "duration": 10,
    "start_time": "2022-11-05T09:30:25.289Z"
   },
   {
    "duration": 19,
    "start_time": "2022-11-05T09:33:16.201Z"
   },
   {
    "duration": 9,
    "start_time": "2022-11-05T09:35:20.552Z"
   },
   {
    "duration": 9,
    "start_time": "2022-11-05T09:42:07.717Z"
   },
   {
    "duration": 8,
    "start_time": "2022-11-05T09:43:07.404Z"
   },
   {
    "duration": 11,
    "start_time": "2022-11-05T09:48:01.659Z"
   },
   {
    "duration": 4,
    "start_time": "2022-11-05T09:51:54.706Z"
   },
   {
    "duration": 6,
    "start_time": "2022-11-05T09:52:33.225Z"
   },
   {
    "duration": 7,
    "start_time": "2022-11-05T09:52:48.912Z"
   },
   {
    "duration": 16,
    "start_time": "2022-11-05T09:53:14.664Z"
   },
   {
    "duration": 1163,
    "start_time": "2022-11-05T09:56:23.022Z"
   },
   {
    "duration": 6,
    "start_time": "2022-11-05T09:56:25.271Z"
   },
   {
    "duration": 23,
    "start_time": "2022-11-05T09:56:38.591Z"
   },
   {
    "duration": 6,
    "start_time": "2022-11-05T09:56:42.678Z"
   },
   {
    "duration": 3,
    "start_time": "2022-11-05T09:56:42.862Z"
   },
   {
    "duration": 3,
    "start_time": "2022-11-05T09:56:43.062Z"
   },
   {
    "duration": 12,
    "start_time": "2022-11-05T09:56:44.606Z"
   },
   {
    "duration": 1156,
    "start_time": "2022-11-05T09:58:47.855Z"
   },
   {
    "duration": 2,
    "start_time": "2022-11-05T09:58:49.389Z"
   },
   {
    "duration": 103,
    "start_time": "2022-11-05T09:58:53.782Z"
   },
   {
    "duration": 3,
    "start_time": "2022-11-05T09:58:53.997Z"
   },
   {
    "duration": 13,
    "start_time": "2022-11-05T09:58:54.189Z"
   },
   {
    "duration": 9,
    "start_time": "2022-11-05T09:58:54.389Z"
   },
   {
    "duration": 10,
    "start_time": "2022-11-05T09:58:54.639Z"
   },
   {
    "duration": 1120,
    "start_time": "2022-11-05T09:59:29.701Z"
   },
   {
    "duration": 4,
    "start_time": "2022-11-05T09:59:48.861Z"
   },
   {
    "duration": 15,
    "start_time": "2022-11-05T09:59:49.093Z"
   },
   {
    "duration": 22,
    "start_time": "2022-11-05T10:13:45.310Z"
   },
   {
    "duration": 7,
    "start_time": "2022-11-05T10:14:00.128Z"
   },
   {
    "duration": 124,
    "start_time": "2022-11-05T10:18:26.852Z"
   },
   {
    "duration": 285,
    "start_time": "2022-11-05T10:26:00.881Z"
   },
   {
    "duration": 12,
    "start_time": "2022-11-05T10:27:30.648Z"
   },
   {
    "duration": 10,
    "start_time": "2022-11-05T10:32:42.509Z"
   },
   {
    "duration": 49,
    "start_time": "2022-11-05T10:32:54.270Z"
   },
   {
    "duration": 2,
    "start_time": "2022-11-05T10:32:54.677Z"
   },
   {
    "duration": 17,
    "start_time": "2022-11-05T10:32:54.846Z"
   },
   {
    "duration": 12,
    "start_time": "2022-11-05T10:32:55.039Z"
   },
   {
    "duration": 16,
    "start_time": "2022-11-05T10:32:55.214Z"
   },
   {
    "duration": 3,
    "start_time": "2022-11-05T10:32:55.389Z"
   },
   {
    "duration": 4,
    "start_time": "2022-11-05T10:32:55.764Z"
   },
   {
    "duration": 11,
    "start_time": "2022-11-05T10:32:55.957Z"
   },
   {
    "duration": 7,
    "start_time": "2022-11-05T10:32:56.540Z"
   },
   {
    "duration": 167,
    "start_time": "2022-11-05T10:32:57.045Z"
   },
   {
    "duration": 253,
    "start_time": "2022-11-05T10:32:57.621Z"
   },
   {
    "duration": 12,
    "start_time": "2022-11-05T10:32:58.165Z"
   },
   {
    "duration": 14,
    "start_time": "2022-11-05T10:32:59.442Z"
   },
   {
    "duration": 299,
    "start_time": "2022-11-05T10:33:00.006Z"
   },
   {
    "duration": 490,
    "start_time": "2022-11-05T10:33:12.336Z"
   },
   {
    "duration": 9,
    "start_time": "2022-11-05T10:36:34.708Z"
   },
   {
    "duration": 381,
    "start_time": "2022-11-05T10:36:35.460Z"
   },
   {
    "duration": 663,
    "start_time": "2022-11-05T10:38:46.483Z"
   },
   {
    "duration": 370,
    "start_time": "2022-11-05T10:38:55.314Z"
   },
   {
    "duration": 476,
    "start_time": "2022-11-05T10:39:47.114Z"
   },
   {
    "duration": 414,
    "start_time": "2022-11-05T10:40:05.866Z"
   },
   {
    "duration": 440,
    "start_time": "2022-11-05T10:40:35.009Z"
   },
   {
    "duration": 521,
    "start_time": "2022-11-05T10:40:51.921Z"
   },
   {
    "duration": 491,
    "start_time": "2022-11-05T10:41:12.793Z"
   },
   {
    "duration": 410,
    "start_time": "2022-11-05T10:42:29.072Z"
   },
   {
    "duration": 18,
    "start_time": "2022-11-05T10:51:56.956Z"
   },
   {
    "duration": 247,
    "start_time": "2022-11-05T10:52:25.316Z"
   },
   {
    "duration": 8,
    "start_time": "2022-11-05T11:02:18.207Z"
   },
   {
    "duration": 23,
    "start_time": "2022-11-05T11:03:30.166Z"
   },
   {
    "duration": 15,
    "start_time": "2022-11-05T11:03:35.870Z"
   },
   {
    "duration": 27,
    "start_time": "2022-11-05T11:03:36.701Z"
   },
   {
    "duration": 14,
    "start_time": "2022-11-05T11:03:50.526Z"
   },
   {
    "duration": 15,
    "start_time": "2022-11-05T11:04:01.613Z"
   },
   {
    "duration": 47,
    "start_time": "2022-11-05T11:04:20.447Z"
   },
   {
    "duration": 2,
    "start_time": "2022-11-05T11:04:20.777Z"
   },
   {
    "duration": 13,
    "start_time": "2022-11-05T11:04:20.953Z"
   },
   {
    "duration": 9,
    "start_time": "2022-11-05T11:04:21.153Z"
   },
   {
    "duration": 9,
    "start_time": "2022-11-05T11:04:21.377Z"
   },
   {
    "duration": 2,
    "start_time": "2022-11-05T11:04:21.602Z"
   },
   {
    "duration": 3,
    "start_time": "2022-11-05T11:04:21.994Z"
   },
   {
    "duration": 11,
    "start_time": "2022-11-05T11:04:22.169Z"
   },
   {
    "duration": 6,
    "start_time": "2022-11-05T11:04:22.849Z"
   },
   {
    "duration": 126,
    "start_time": "2022-11-05T11:04:23.489Z"
   },
   {
    "duration": 340,
    "start_time": "2022-11-05T11:04:24.450Z"
   },
   {
    "duration": 13,
    "start_time": "2022-11-05T11:04:25.634Z"
   },
   {
    "duration": 22,
    "start_time": "2022-11-05T11:04:27.850Z"
   },
   {
    "duration": 16,
    "start_time": "2022-11-05T11:04:32.738Z"
   },
   {
    "duration": 14,
    "start_time": "2022-11-05T11:04:49.577Z"
   },
   {
    "duration": 10,
    "start_time": "2022-11-05T11:06:40.369Z"
   },
   {
    "duration": 8,
    "start_time": "2022-11-05T11:06:50.705Z"
   },
   {
    "duration": 118,
    "start_time": "2022-11-05T11:06:58.352Z"
   },
   {
    "duration": 143,
    "start_time": "2022-11-05T11:07:06.280Z"
   },
   {
    "duration": 131,
    "start_time": "2022-11-05T11:07:15.449Z"
   },
   {
    "duration": 849,
    "start_time": "2022-11-05T11:07:55.145Z"
   },
   {
    "duration": 128,
    "start_time": "2022-11-05T11:10:34.655Z"
   },
   {
    "duration": 162,
    "start_time": "2022-11-05T11:10:44.167Z"
   },
   {
    "duration": 309,
    "start_time": "2022-11-05T11:10:51.310Z"
   },
   {
    "duration": 209,
    "start_time": "2022-11-05T11:10:59.991Z"
   },
   {
    "duration": 187,
    "start_time": "2022-11-05T11:11:07.750Z"
   },
   {
    "duration": 150,
    "start_time": "2022-11-05T11:11:56.255Z"
   },
   {
    "duration": 179,
    "start_time": "2022-11-05T11:12:04.518Z"
   },
   {
    "duration": 278,
    "start_time": "2022-11-05T11:15:21.644Z"
   },
   {
    "duration": 251,
    "start_time": "2022-11-05T11:15:27.908Z"
   },
   {
    "duration": 237,
    "start_time": "2022-11-05T11:15:32.164Z"
   },
   {
    "duration": 265,
    "start_time": "2022-11-05T11:15:37.709Z"
   },
   {
    "duration": 398,
    "start_time": "2022-11-05T11:28:55.679Z"
   },
   {
    "duration": 16,
    "start_time": "2022-11-05T11:29:29.990Z"
   },
   {
    "duration": 32,
    "start_time": "2022-11-05T11:29:30.574Z"
   },
   {
    "duration": 312,
    "start_time": "2022-11-05T11:29:30.823Z"
   },
   {
    "duration": 239,
    "start_time": "2022-11-05T11:29:31.622Z"
   },
   {
    "duration": 167,
    "start_time": "2022-11-05T11:31:26.430Z"
   },
   {
    "duration": 708,
    "start_time": "2022-11-05T11:31:42.326Z"
   },
   {
    "duration": 155,
    "start_time": "2022-11-05T11:31:51.126Z"
   },
   {
    "duration": 562,
    "start_time": "2022-11-05T11:32:46.310Z"
   },
   {
    "duration": 297,
    "start_time": "2022-11-05T11:34:46.317Z"
   },
   {
    "duration": 652,
    "start_time": "2022-11-05T11:35:27.284Z"
   },
   {
    "duration": 431,
    "start_time": "2022-11-05T11:35:33.645Z"
   },
   {
    "duration": 154,
    "start_time": "2022-11-05T11:36:27.244Z"
   },
   {
    "duration": 305,
    "start_time": "2022-11-05T11:36:47.691Z"
   },
   {
    "duration": 704,
    "start_time": "2022-11-05T11:37:06.539Z"
   },
   {
    "duration": 558,
    "start_time": "2022-11-05T11:37:12.020Z"
   },
   {
    "duration": 481,
    "start_time": "2022-11-05T11:37:50.811Z"
   },
   {
    "duration": 797,
    "start_time": "2022-11-05T11:37:55.883Z"
   },
   {
    "duration": 605,
    "start_time": "2022-11-05T11:38:17.122Z"
   },
   {
    "duration": 429,
    "start_time": "2022-11-05T11:38:37.859Z"
   },
   {
    "duration": 431,
    "start_time": "2022-11-05T11:39:33.250Z"
   },
   {
    "duration": 553,
    "start_time": "2022-11-05T11:39:50.562Z"
   },
   {
    "duration": 151,
    "start_time": "2022-11-05T11:40:48.610Z"
   },
   {
    "duration": 464,
    "start_time": "2022-11-05T11:40:58.593Z"
   },
   {
    "duration": 185,
    "start_time": "2022-11-05T11:59:12.085Z"
   },
   {
    "duration": 160,
    "start_time": "2022-11-05T11:59:17.689Z"
   },
   {
    "duration": 31,
    "start_time": "2022-11-05T12:11:19.508Z"
   },
   {
    "duration": 24,
    "start_time": "2022-11-05T12:13:34.475Z"
   },
   {
    "duration": 26,
    "start_time": "2022-11-05T12:13:55.619Z"
   },
   {
    "duration": 67,
    "start_time": "2022-11-05T12:51:56.172Z"
   },
   {
    "duration": 23,
    "start_time": "2022-11-05T12:51:56.495Z"
   },
   {
    "duration": 17,
    "start_time": "2022-11-05T12:51:56.664Z"
   },
   {
    "duration": 11,
    "start_time": "2022-11-05T12:51:56.848Z"
   },
   {
    "duration": 11,
    "start_time": "2022-11-05T12:51:57.031Z"
   },
   {
    "duration": 11,
    "start_time": "2022-11-05T12:51:57.207Z"
   },
   {
    "duration": 15,
    "start_time": "2022-11-05T12:51:57.567Z"
   },
   {
    "duration": 10,
    "start_time": "2022-11-05T12:51:57.760Z"
   },
   {
    "duration": 6,
    "start_time": "2022-11-05T12:51:58.392Z"
   },
   {
    "duration": 179,
    "start_time": "2022-11-05T12:51:58.768Z"
   },
   {
    "duration": 241,
    "start_time": "2022-11-05T12:51:59.136Z"
   },
   {
    "duration": 13,
    "start_time": "2022-11-05T12:51:59.379Z"
   },
   {
    "duration": 14,
    "start_time": "2022-11-05T12:51:59.664Z"
   },
   {
    "duration": 422,
    "start_time": "2022-11-05T12:51:59.856Z"
   },
   {
    "duration": 15,
    "start_time": "2022-11-05T12:52:00.280Z"
   },
   {
    "duration": 21,
    "start_time": "2022-11-05T12:52:00.816Z"
   },
   {
    "duration": 286,
    "start_time": "2022-11-05T12:52:00.999Z"
   },
   {
    "duration": 238,
    "start_time": "2022-11-05T12:52:01.392Z"
   },
   {
    "duration": 73,
    "start_time": "2022-11-05T12:52:01.775Z"
   },
   {
    "duration": 656,
    "start_time": "2022-11-05T12:52:01.952Z"
   },
   {
    "duration": 580,
    "start_time": "2022-11-05T12:52:02.610Z"
   },
   {
    "duration": 601,
    "start_time": "2022-11-05T12:52:03.192Z"
   },
   {
    "duration": 757,
    "start_time": "2022-11-05T12:52:03.795Z"
   },
   {
    "duration": 168,
    "start_time": "2022-11-05T12:52:04.553Z"
   },
   {
    "duration": 247,
    "start_time": "2022-11-05T12:52:04.723Z"
   },
   {
    "duration": 24,
    "start_time": "2022-11-05T12:52:04.971Z"
   },
   {
    "duration": 48,
    "start_time": "2022-11-05T12:52:04.997Z"
   },
   {
    "duration": 0,
    "start_time": "2022-11-05T12:52:05.047Z"
   },
   {
    "duration": 0,
    "start_time": "2022-11-05T12:52:05.048Z"
   },
   {
    "duration": 33,
    "start_time": "2022-11-05T12:52:05.344Z"
   },
   {
    "duration": 68,
    "start_time": "2022-11-05T12:52:05.520Z"
   },
   {
    "duration": 35,
    "start_time": "2022-11-05T12:52:05.712Z"
   },
   {
    "duration": 66,
    "start_time": "2022-11-05T12:52:05.904Z"
   },
   {
    "duration": 9,
    "start_time": "2022-11-05T12:52:06.263Z"
   },
   {
    "duration": 8,
    "start_time": "2022-11-05T12:52:06.472Z"
   },
   {
    "duration": 10,
    "start_time": "2022-11-05T12:52:12.416Z"
   },
   {
    "duration": 10,
    "start_time": "2022-11-05T12:52:12.616Z"
   },
   {
    "duration": 8,
    "start_time": "2022-11-05T12:52:12.928Z"
   },
   {
    "duration": 8,
    "start_time": "2022-11-05T12:52:13.768Z"
   },
   {
    "duration": 88,
    "start_time": "2022-11-05T12:52:13.967Z"
   },
   {
    "duration": 8,
    "start_time": "2022-11-05T12:52:20.047Z"
   },
   {
    "duration": 75,
    "start_time": "2022-11-05T12:52:20.352Z"
   },
   {
    "duration": 27,
    "start_time": "2022-11-05T12:52:55.641Z"
   },
   {
    "duration": 24,
    "start_time": "2022-11-05T12:53:15.624Z"
   },
   {
    "duration": 23,
    "start_time": "2022-11-05T12:53:18.679Z"
   },
   {
    "duration": 22,
    "start_time": "2022-11-05T12:53:19.567Z"
   },
   {
    "duration": 22,
    "start_time": "2022-11-05T12:53:19.983Z"
   },
   {
    "duration": 68,
    "start_time": "2022-11-05T12:53:20.143Z"
   },
   {
    "duration": 24,
    "start_time": "2022-11-05T12:53:20.335Z"
   },
   {
    "duration": 36,
    "start_time": "2022-11-05T12:53:26.455Z"
   },
   {
    "duration": 9,
    "start_time": "2022-11-05T12:53:27.247Z"
   },
   {
    "duration": 12,
    "start_time": "2022-11-05T12:53:27.457Z"
   },
   {
    "duration": 10,
    "start_time": "2022-11-05T12:53:27.632Z"
   },
   {
    "duration": 9,
    "start_time": "2022-11-05T12:53:28.455Z"
   },
   {
    "duration": 10,
    "start_time": "2022-11-05T12:53:29.462Z"
   },
   {
    "duration": 1031,
    "start_time": "2022-11-05T13:11:50.471Z"
   },
   {
    "duration": 31,
    "start_time": "2022-11-05T13:11:51.504Z"
   },
   {
    "duration": 17,
    "start_time": "2022-11-05T13:11:51.536Z"
   },
   {
    "duration": 13,
    "start_time": "2022-11-05T13:11:51.555Z"
   },
   {
    "duration": 16,
    "start_time": "2022-11-05T13:11:51.570Z"
   },
   {
    "duration": 9,
    "start_time": "2022-11-05T13:11:51.588Z"
   },
   {
    "duration": 38,
    "start_time": "2022-11-05T13:11:51.598Z"
   },
   {
    "duration": 15,
    "start_time": "2022-11-05T13:11:51.639Z"
   },
   {
    "duration": 9,
    "start_time": "2022-11-05T13:11:51.656Z"
   },
   {
    "duration": 322,
    "start_time": "2022-11-05T13:11:51.668Z"
   },
   {
    "duration": 324,
    "start_time": "2022-11-05T13:11:51.992Z"
   },
   {
    "duration": 19,
    "start_time": "2022-11-05T13:11:52.318Z"
   },
   {
    "duration": 12,
    "start_time": "2022-11-05T13:11:52.338Z"
   },
   {
    "duration": 581,
    "start_time": "2022-11-05T13:11:52.352Z"
   },
   {
    "duration": 16,
    "start_time": "2022-11-05T13:11:52.935Z"
   },
   {
    "duration": 22,
    "start_time": "2022-11-05T13:11:52.953Z"
   },
   {
    "duration": 312,
    "start_time": "2022-11-05T13:11:52.977Z"
   },
   {
    "duration": 280,
    "start_time": "2022-11-05T13:11:53.291Z"
   },
   {
    "duration": 73,
    "start_time": "2022-11-05T13:11:53.573Z"
   },
   {
    "duration": 0,
    "start_time": "2022-11-05T13:11:53.648Z"
   },
   {
    "duration": 0,
    "start_time": "2022-11-05T13:11:53.649Z"
   },
   {
    "duration": 0,
    "start_time": "2022-11-05T13:11:53.650Z"
   },
   {
    "duration": 0,
    "start_time": "2022-11-05T13:11:53.651Z"
   },
   {
    "duration": 0,
    "start_time": "2022-11-05T13:11:53.653Z"
   },
   {
    "duration": 0,
    "start_time": "2022-11-05T13:11:53.654Z"
   },
   {
    "duration": 0,
    "start_time": "2022-11-05T13:11:53.655Z"
   },
   {
    "duration": 0,
    "start_time": "2022-11-05T13:11:53.656Z"
   },
   {
    "duration": 0,
    "start_time": "2022-11-05T13:11:53.657Z"
   },
   {
    "duration": 0,
    "start_time": "2022-11-05T13:11:53.658Z"
   },
   {
    "duration": 0,
    "start_time": "2022-11-05T13:11:53.659Z"
   },
   {
    "duration": 0,
    "start_time": "2022-11-05T13:11:53.661Z"
   },
   {
    "duration": 0,
    "start_time": "2022-11-05T13:11:53.662Z"
   },
   {
    "duration": 0,
    "start_time": "2022-11-05T13:11:53.663Z"
   },
   {
    "duration": 0,
    "start_time": "2022-11-05T13:11:53.664Z"
   },
   {
    "duration": 0,
    "start_time": "2022-11-05T13:11:53.665Z"
   },
   {
    "duration": 0,
    "start_time": "2022-11-05T13:11:53.666Z"
   },
   {
    "duration": 716,
    "start_time": "2022-11-05T13:12:44.746Z"
   },
   {
    "duration": 30,
    "start_time": "2022-11-05T13:12:45.465Z"
   },
   {
    "duration": 15,
    "start_time": "2022-11-05T13:12:45.497Z"
   },
   {
    "duration": 10,
    "start_time": "2022-11-05T13:12:45.524Z"
   },
   {
    "duration": 12,
    "start_time": "2022-11-05T13:12:45.535Z"
   },
   {
    "duration": 10,
    "start_time": "2022-11-05T13:12:45.549Z"
   },
   {
    "duration": 22,
    "start_time": "2022-11-05T13:12:45.563Z"
   },
   {
    "duration": 15,
    "start_time": "2022-11-05T13:12:45.624Z"
   },
   {
    "duration": 8,
    "start_time": "2022-11-05T13:12:45.641Z"
   },
   {
    "duration": 254,
    "start_time": "2022-11-05T13:12:45.652Z"
   },
   {
    "duration": 308,
    "start_time": "2022-11-05T13:12:45.908Z"
   },
   {
    "duration": 16,
    "start_time": "2022-11-05T13:12:46.217Z"
   },
   {
    "duration": 11,
    "start_time": "2022-11-05T13:12:46.235Z"
   },
   {
    "duration": 579,
    "start_time": "2022-11-05T13:12:46.248Z"
   },
   {
    "duration": 17,
    "start_time": "2022-11-05T13:12:46.830Z"
   },
   {
    "duration": 22,
    "start_time": "2022-11-05T13:12:46.848Z"
   },
   {
    "duration": 306,
    "start_time": "2022-11-05T13:12:46.872Z"
   },
   {
    "duration": 273,
    "start_time": "2022-11-05T13:12:47.180Z"
   },
   {
    "duration": 721,
    "start_time": "2022-11-05T13:12:47.455Z"
   },
   {
    "duration": 718,
    "start_time": "2022-11-05T13:12:48.178Z"
   },
   {
    "duration": 698,
    "start_time": "2022-11-05T13:12:48.897Z"
   },
   {
    "duration": 775,
    "start_time": "2022-11-05T13:12:49.597Z"
   },
   {
    "duration": 196,
    "start_time": "2022-11-05T13:12:50.374Z"
   },
   {
    "duration": 307,
    "start_time": "2022-11-05T13:12:50.571Z"
   },
   {
    "duration": 32,
    "start_time": "2022-11-05T13:12:50.879Z"
   },
   {
    "duration": 27,
    "start_time": "2022-11-05T13:12:50.926Z"
   },
   {
    "duration": 26,
    "start_time": "2022-11-05T13:12:50.955Z"
   },
   {
    "duration": 54,
    "start_time": "2022-11-05T13:12:50.985Z"
   },
   {
    "duration": 27,
    "start_time": "2022-11-05T13:12:51.041Z"
   },
   {
    "duration": 26,
    "start_time": "2022-11-05T13:12:51.070Z"
   },
   {
    "duration": 44,
    "start_time": "2022-11-05T13:12:51.098Z"
   },
   {
    "duration": 17,
    "start_time": "2022-11-05T13:12:51.145Z"
   },
   {
    "duration": 18,
    "start_time": "2022-11-05T13:12:51.164Z"
   },
   {
    "duration": 482,
    "start_time": "2022-11-05T13:12:51.184Z"
   },
   {
    "duration": 9,
    "start_time": "2022-11-05T13:12:51.668Z"
   },
   {
    "duration": 53,
    "start_time": "2022-11-06T10:45:08.334Z"
   },
   {
    "duration": 1022,
    "start_time": "2022-11-06T10:45:15.463Z"
   },
   {
    "duration": 31,
    "start_time": "2022-11-06T10:45:16.487Z"
   },
   {
    "duration": 17,
    "start_time": "2022-11-06T10:45:16.520Z"
   },
   {
    "duration": 10,
    "start_time": "2022-11-06T10:45:16.848Z"
   },
   {
    "duration": 12,
    "start_time": "2022-11-06T10:45:21.615Z"
   },
   {
    "duration": 12,
    "start_time": "2022-11-06T10:45:21.840Z"
   },
   {
    "duration": 15,
    "start_time": "2022-11-06T10:45:23.247Z"
   },
   {
    "duration": 25,
    "start_time": "2022-11-06T10:45:23.760Z"
   },
   {
    "duration": 39,
    "start_time": "2022-11-06T10:45:52.807Z"
   },
   {
    "duration": 42,
    "start_time": "2022-11-06T10:46:04.512Z"
   },
   {
    "duration": 44,
    "start_time": "2022-11-06T10:46:43.887Z"
   },
   {
    "duration": 42,
    "start_time": "2022-11-06T10:46:54.102Z"
   },
   {
    "duration": 780,
    "start_time": "2022-11-06T11:43:34.053Z"
   },
   {
    "duration": 26,
    "start_time": "2022-11-06T11:43:34.835Z"
   },
   {
    "duration": 21,
    "start_time": "2022-11-06T11:43:34.863Z"
   },
   {
    "duration": 16,
    "start_time": "2022-11-06T11:43:34.887Z"
   },
   {
    "duration": 16,
    "start_time": "2022-11-06T11:43:35.150Z"
   },
   {
    "duration": 15,
    "start_time": "2022-11-06T11:43:35.346Z"
   },
   {
    "duration": 23,
    "start_time": "2022-11-06T11:43:35.898Z"
   },
   {
    "duration": 59,
    "start_time": "2022-11-06T11:43:36.105Z"
   },
   {
    "duration": 7,
    "start_time": "2022-11-06T11:43:36.674Z"
   },
   {
    "duration": 358,
    "start_time": "2022-11-06T11:43:37.644Z"
   },
   {
    "duration": 321,
    "start_time": "2022-11-06T11:43:44.259Z"
   },
   {
    "duration": 16,
    "start_time": "2022-11-06T11:43:44.646Z"
   },
   {
    "duration": 13,
    "start_time": "2022-11-06T11:43:45.369Z"
   },
   {
    "duration": 535,
    "start_time": "2022-11-06T11:43:45.565Z"
   },
   {
    "duration": 18,
    "start_time": "2022-11-06T11:43:46.103Z"
   },
   {
    "duration": 31,
    "start_time": "2022-11-06T11:43:47.040Z"
   },
   {
    "duration": 444,
    "start_time": "2022-11-06T11:43:47.218Z"
   },
   {
    "duration": 430,
    "start_time": "2022-11-06T11:43:47.794Z"
   },
   {
    "duration": 1082,
    "start_time": "2022-11-06T11:43:48.750Z"
   },
   {
    "duration": 791,
    "start_time": "2022-11-06T11:43:49.835Z"
   },
   {
    "duration": 785,
    "start_time": "2022-11-06T11:43:50.628Z"
   },
   {
    "duration": 876,
    "start_time": "2022-11-06T11:43:51.425Z"
   },
   {
    "duration": 248,
    "start_time": "2022-11-06T11:43:52.303Z"
   },
   {
    "duration": 340,
    "start_time": "2022-11-06T11:43:52.553Z"
   },
   {
    "duration": 38,
    "start_time": "2022-11-06T11:43:52.896Z"
   },
   {
    "duration": 194,
    "start_time": "2022-11-06T11:43:52.937Z"
   },
   {
    "duration": 36,
    "start_time": "2022-11-06T11:43:53.134Z"
   },
   {
    "duration": 38,
    "start_time": "2022-11-06T11:43:53.681Z"
   },
   {
    "duration": 37,
    "start_time": "2022-11-06T11:43:54.074Z"
   },
   {
    "duration": 35,
    "start_time": "2022-11-06T11:43:54.457Z"
   },
   {
    "duration": 14,
    "start_time": "2022-11-06T11:43:55.377Z"
   },
   {
    "duration": 14,
    "start_time": "2022-11-06T11:43:55.578Z"
   },
   {
    "duration": 12,
    "start_time": "2022-11-06T11:43:55.762Z"
   },
   {
    "duration": 13,
    "start_time": "2022-11-06T11:43:57.157Z"
   },
   {
    "duration": 12,
    "start_time": "2022-11-06T11:43:58.154Z"
   },
   {
    "duration": 1476,
    "start_time": "2022-11-08T15:57:20.580Z"
   },
   {
    "duration": 34,
    "start_time": "2022-11-08T15:57:22.058Z"
   },
   {
    "duration": 15,
    "start_time": "2022-11-08T15:57:22.094Z"
   },
   {
    "duration": 10,
    "start_time": "2022-11-08T15:57:22.111Z"
   },
   {
    "duration": 13,
    "start_time": "2022-11-08T15:57:22.122Z"
   },
   {
    "duration": 39,
    "start_time": "2022-11-08T15:57:22.136Z"
   },
   {
    "duration": 21,
    "start_time": "2022-11-08T15:57:22.556Z"
   },
   {
    "duration": 44,
    "start_time": "2022-11-08T15:57:22.756Z"
   },
   {
    "duration": 6,
    "start_time": "2022-11-08T15:57:23.323Z"
   },
   {
    "duration": 224,
    "start_time": "2022-11-08T15:57:24.437Z"
   },
   {
    "duration": 277,
    "start_time": "2022-11-08T15:57:25.019Z"
   },
   {
    "duration": 13,
    "start_time": "2022-11-08T15:57:25.412Z"
   },
   {
    "duration": 10,
    "start_time": "2022-11-08T15:57:25.987Z"
   },
   {
    "duration": 581,
    "start_time": "2022-11-08T15:57:26.164Z"
   },
   {
    "duration": 15,
    "start_time": "2022-11-08T15:57:26.748Z"
   },
   {
    "duration": 19,
    "start_time": "2022-11-08T15:57:27.691Z"
   },
   {
    "duration": 263,
    "start_time": "2022-11-08T15:57:27.900Z"
   },
   {
    "duration": 240,
    "start_time": "2022-11-08T15:57:28.498Z"
   },
   {
    "duration": 759,
    "start_time": "2022-11-08T15:57:29.483Z"
   },
   {
    "duration": 648,
    "start_time": "2022-11-08T15:57:30.747Z"
   },
   {
    "duration": 710,
    "start_time": "2022-11-08T15:57:31.397Z"
   },
   {
    "duration": 1299,
    "start_time": "2023-04-02T12:32:24.026Z"
   },
   {
    "duration": 96,
    "start_time": "2023-04-02T12:32:25.327Z"
   },
   {
    "duration": 29,
    "start_time": "2023-04-02T12:32:25.425Z"
   },
   {
    "duration": 16,
    "start_time": "2023-04-02T12:32:25.457Z"
   },
   {
    "duration": 9,
    "start_time": "2023-04-02T12:32:25.475Z"
   },
   {
    "duration": 12,
    "start_time": "2023-04-02T12:32:25.489Z"
   },
   {
    "duration": 9,
    "start_time": "2023-04-02T12:32:25.697Z"
   },
   {
    "duration": 19,
    "start_time": "2023-04-02T12:32:26.473Z"
   },
   {
    "duration": 39,
    "start_time": "2023-04-02T12:32:26.705Z"
   },
   {
    "duration": 5,
    "start_time": "2023-04-02T12:32:27.337Z"
   },
   {
    "duration": 216,
    "start_time": "2023-04-02T12:32:28.452Z"
   },
   {
    "duration": 291,
    "start_time": "2023-04-02T12:37:10.962Z"
   },
   {
    "duration": 1130,
    "start_time": "2023-04-02T12:37:25.593Z"
   },
   {
    "duration": 47,
    "start_time": "2023-04-02T12:37:26.725Z"
   },
   {
    "duration": 29,
    "start_time": "2023-04-02T12:37:26.774Z"
   },
   {
    "duration": 15,
    "start_time": "2023-04-02T12:37:26.805Z"
   },
   {
    "duration": 9,
    "start_time": "2023-04-02T12:37:26.822Z"
   },
   {
    "duration": 36,
    "start_time": "2023-04-02T12:37:26.832Z"
   },
   {
    "duration": 9,
    "start_time": "2023-04-02T12:37:26.870Z"
   },
   {
    "duration": 18,
    "start_time": "2023-04-02T12:37:26.880Z"
   },
   {
    "duration": 37,
    "start_time": "2023-04-02T12:37:26.899Z"
   },
   {
    "duration": 24,
    "start_time": "2023-04-02T12:37:26.939Z"
   },
   {
    "duration": 299,
    "start_time": "2023-04-02T12:37:26.965Z"
   },
   {
    "duration": 288,
    "start_time": "2023-04-02T12:37:27.265Z"
   },
   {
    "duration": 12,
    "start_time": "2023-04-02T12:37:27.554Z"
   },
   {
    "duration": 12,
    "start_time": "2023-04-02T12:37:27.568Z"
   },
   {
    "duration": 448,
    "start_time": "2023-04-02T12:37:27.581Z"
   },
   {
    "duration": 32,
    "start_time": "2023-04-02T12:37:28.031Z"
   },
   {
    "duration": 23,
    "start_time": "2023-04-02T12:37:28.065Z"
   },
   {
    "duration": 276,
    "start_time": "2023-04-02T12:37:28.090Z"
   },
   {
    "duration": 252,
    "start_time": "2023-04-02T12:37:28.368Z"
   },
   {
    "duration": 764,
    "start_time": "2023-04-02T12:37:28.622Z"
   },
   {
    "duration": 645,
    "start_time": "2023-04-02T12:37:29.388Z"
   },
   {
    "duration": 648,
    "start_time": "2023-04-02T12:37:30.035Z"
   },
   {
    "duration": 1121,
    "start_time": "2023-04-02T12:37:30.685Z"
   },
   {
    "duration": 383,
    "start_time": "2023-04-02T12:37:31.808Z"
   },
   {
    "duration": 611,
    "start_time": "2023-04-02T12:37:32.193Z"
   },
   {
    "duration": 78,
    "start_time": "2023-04-02T12:37:32.806Z"
   },
   {
    "duration": 241,
    "start_time": "2023-04-02T12:37:32.885Z"
   },
   {
    "duration": 43,
    "start_time": "2023-04-02T12:37:33.130Z"
   },
   {
    "duration": 28,
    "start_time": "2023-04-02T12:37:33.175Z"
   },
   {
    "duration": 28,
    "start_time": "2023-04-02T12:37:33.205Z"
   },
   {
    "duration": 50,
    "start_time": "2023-04-02T12:37:33.235Z"
   },
   {
    "duration": 10,
    "start_time": "2023-04-02T12:37:33.287Z"
   },
   {
    "duration": 10,
    "start_time": "2023-04-02T12:37:33.298Z"
   },
   {
    "duration": 12,
    "start_time": "2023-04-02T12:37:33.310Z"
   },
   {
    "duration": 43,
    "start_time": "2023-04-02T12:37:33.324Z"
   },
   {
    "duration": 9,
    "start_time": "2023-04-02T12:37:33.369Z"
   },
   {
    "duration": 190,
    "start_time": "2023-04-02T12:37:51.703Z"
   },
   {
    "duration": 268,
    "start_time": "2023-04-02T12:38:03.231Z"
   },
   {
    "duration": 304,
    "start_time": "2023-04-02T12:38:11.440Z"
   },
   {
    "duration": 268,
    "start_time": "2023-04-02T12:38:28.655Z"
   },
   {
    "duration": 279,
    "start_time": "2023-04-02T12:40:08.254Z"
   },
   {
    "duration": 351,
    "start_time": "2023-04-02T12:40:15.693Z"
   },
   {
    "duration": 372,
    "start_time": "2023-04-02T12:40:22.374Z"
   },
   {
    "duration": 321,
    "start_time": "2023-04-02T12:40:34.805Z"
   },
   {
    "duration": 16,
    "start_time": "2023-04-02T12:44:36.740Z"
   },
   {
    "duration": 26,
    "start_time": "2023-04-02T13:07:00.729Z"
   },
   {
    "duration": 259,
    "start_time": "2023-04-02T13:07:24.784Z"
   },
   {
    "duration": 203,
    "start_time": "2023-04-02T13:08:59.744Z"
   },
   {
    "duration": 226,
    "start_time": "2023-04-02T13:09:02.648Z"
   },
   {
    "duration": 223,
    "start_time": "2023-04-02T13:10:42.112Z"
   },
   {
    "duration": 251,
    "start_time": "2023-04-02T13:11:00.663Z"
   },
   {
    "duration": 254,
    "start_time": "2023-04-02T13:12:02.424Z"
   },
   {
    "duration": 264,
    "start_time": "2023-04-02T13:13:21.719Z"
   },
   {
    "duration": 281,
    "start_time": "2023-04-02T13:13:32.077Z"
   },
   {
    "duration": 360,
    "start_time": "2023-04-02T13:21:35.594Z"
   },
   {
    "duration": 258,
    "start_time": "2023-04-02T13:22:49.360Z"
   },
   {
    "duration": 181,
    "start_time": "2023-04-02T13:30:45.534Z"
   },
   {
    "duration": 307,
    "start_time": "2023-04-02T13:32:33.717Z"
   },
   {
    "duration": 27,
    "start_time": "2023-04-02T13:33:43.580Z"
   },
   {
    "duration": 35,
    "start_time": "2023-04-02T13:33:50.508Z"
   },
   {
    "duration": 29,
    "start_time": "2023-04-02T13:33:59.547Z"
   },
   {
    "duration": 26,
    "start_time": "2023-04-02T13:34:35.572Z"
   },
   {
    "duration": 30,
    "start_time": "2023-04-02T13:34:44.339Z"
   },
   {
    "duration": 29,
    "start_time": "2023-04-02T13:34:50.427Z"
   },
   {
    "duration": 12,
    "start_time": "2023-04-02T13:35:41.598Z"
   },
   {
    "duration": 12,
    "start_time": "2023-04-02T13:35:48.194Z"
   },
   {
    "duration": 11,
    "start_time": "2023-04-02T13:35:54.787Z"
   },
   {
    "duration": 1383,
    "start_time": "2023-04-03T08:06:49.896Z"
   },
   {
    "duration": 199,
    "start_time": "2023-04-03T08:06:51.281Z"
   },
   {
    "duration": 30,
    "start_time": "2023-04-03T08:06:51.482Z"
   },
   {
    "duration": 15,
    "start_time": "2023-04-03T08:06:51.514Z"
   },
   {
    "duration": 10,
    "start_time": "2023-04-03T08:06:51.531Z"
   },
   {
    "duration": 16,
    "start_time": "2023-04-03T08:06:51.543Z"
   },
   {
    "duration": 36,
    "start_time": "2023-04-03T08:06:51.561Z"
   },
   {
    "duration": 21,
    "start_time": "2023-04-03T08:06:51.599Z"
   },
   {
    "duration": 40,
    "start_time": "2023-04-03T08:06:51.621Z"
   },
   {
    "duration": 28,
    "start_time": "2023-04-03T08:06:51.662Z"
   },
   {
    "duration": 317,
    "start_time": "2023-04-03T08:06:51.692Z"
   },
   {
    "duration": 323,
    "start_time": "2023-04-03T08:06:52.011Z"
   },
   {
    "duration": 17,
    "start_time": "2023-04-03T08:06:52.336Z"
   },
   {
    "duration": 11,
    "start_time": "2023-04-03T08:06:52.356Z"
   },
   {
    "duration": 257,
    "start_time": "2023-04-03T08:06:52.386Z"
   },
   {
    "duration": 262,
    "start_time": "2023-04-03T08:06:52.644Z"
   },
   {
    "duration": 16,
    "start_time": "2023-04-03T08:06:52.908Z"
   },
   {
    "duration": 29,
    "start_time": "2023-04-03T08:06:52.926Z"
   },
   {
    "duration": 388,
    "start_time": "2023-04-03T08:06:52.957Z"
   },
   {
    "duration": 306,
    "start_time": "2023-04-03T08:06:53.346Z"
   },
   {
    "duration": 759,
    "start_time": "2023-04-03T08:06:53.654Z"
   },
   {
    "duration": 668,
    "start_time": "2023-04-03T08:06:54.415Z"
   },
   {
    "duration": 673,
    "start_time": "2023-04-03T08:06:55.084Z"
   },
   {
    "duration": 676,
    "start_time": "2023-04-03T08:06:55.759Z"
   },
   {
    "duration": 207,
    "start_time": "2023-04-03T08:06:56.437Z"
   },
   {
    "duration": 302,
    "start_time": "2023-04-03T08:06:56.646Z"
   },
   {
    "duration": 37,
    "start_time": "2023-04-03T08:06:56.950Z"
   },
   {
    "duration": 28,
    "start_time": "2023-04-03T08:06:56.989Z"
   },
   {
    "duration": 28,
    "start_time": "2023-04-03T08:06:57.019Z"
   },
   {
    "duration": 55,
    "start_time": "2023-04-03T08:06:57.049Z"
   },
   {
    "duration": 31,
    "start_time": "2023-04-03T08:06:57.105Z"
   },
   {
    "duration": 38,
    "start_time": "2023-04-03T08:06:57.138Z"
   },
   {
    "duration": 12,
    "start_time": "2023-04-03T08:06:57.188Z"
   },
   {
    "duration": 27,
    "start_time": "2023-04-03T08:06:57.201Z"
   },
   {
    "duration": 10,
    "start_time": "2023-04-03T08:06:57.230Z"
   },
   {
    "duration": 9,
    "start_time": "2023-04-03T08:06:57.242Z"
   },
   {
    "duration": 10,
    "start_time": "2023-04-03T08:06:57.253Z"
   },
   {
    "duration": 1428,
    "start_time": "2023-04-10T14:16:02.882Z"
   },
   {
    "duration": 264,
    "start_time": "2023-04-10T14:16:04.312Z"
   },
   {
    "duration": 32,
    "start_time": "2023-04-10T14:16:04.580Z"
   },
   {
    "duration": 40,
    "start_time": "2023-04-10T14:16:04.614Z"
   },
   {
    "duration": 74,
    "start_time": "2023-04-10T14:16:04.657Z"
   },
   {
    "duration": 67,
    "start_time": "2023-04-10T14:16:04.733Z"
   },
   {
    "duration": 30,
    "start_time": "2023-04-10T14:16:04.802Z"
   },
   {
    "duration": 83,
    "start_time": "2023-04-10T14:16:04.834Z"
   },
   {
    "duration": 121,
    "start_time": "2023-04-10T14:16:04.919Z"
   },
   {
    "duration": 15,
    "start_time": "2023-04-10T14:16:05.043Z"
   },
   {
    "duration": 415,
    "start_time": "2023-04-10T14:16:05.067Z"
   },
   {
    "duration": 375,
    "start_time": "2023-04-10T14:16:05.487Z"
   },
   {
    "duration": 21,
    "start_time": "2023-04-10T14:16:05.874Z"
   },
   {
    "duration": 52,
    "start_time": "2023-04-10T14:16:05.899Z"
   },
   {
    "duration": 365,
    "start_time": "2023-04-10T14:16:05.954Z"
   },
   {
    "duration": 308,
    "start_time": "2023-04-10T14:16:06.322Z"
   },
   {
    "duration": 26,
    "start_time": "2023-04-10T14:16:06.632Z"
   },
   {
    "duration": 156,
    "start_time": "2023-04-10T14:16:06.661Z"
   },
   {
    "duration": 347,
    "start_time": "2023-04-10T14:16:06.819Z"
   },
   {
    "duration": 323,
    "start_time": "2023-04-10T14:16:07.167Z"
   },
   {
    "duration": 956,
    "start_time": "2023-04-10T14:16:07.492Z"
   },
   {
    "duration": 785,
    "start_time": "2023-04-10T14:16:08.450Z"
   },
   {
    "duration": 783,
    "start_time": "2023-04-10T14:16:09.240Z"
   },
   {
    "duration": 799,
    "start_time": "2023-04-10T14:16:10.025Z"
   },
   {
    "duration": 228,
    "start_time": "2023-04-10T14:16:10.826Z"
   },
   {
    "duration": 367,
    "start_time": "2023-04-10T14:16:11.058Z"
   },
   {
    "duration": 46,
    "start_time": "2023-04-10T14:16:11.427Z"
   },
   {
    "duration": 79,
    "start_time": "2023-04-10T14:16:11.476Z"
   },
   {
    "duration": 73,
    "start_time": "2023-04-10T14:16:11.557Z"
   },
   {
    "duration": 71,
    "start_time": "2023-04-10T14:16:11.632Z"
   },
   {
    "duration": 107,
    "start_time": "2023-04-10T14:16:11.704Z"
   },
   {
    "duration": 116,
    "start_time": "2023-04-10T14:16:11.813Z"
   },
   {
    "duration": 63,
    "start_time": "2023-04-10T14:16:11.931Z"
   },
   {
    "duration": 119,
    "start_time": "2023-04-10T14:16:11.995Z"
   },
   {
    "duration": 77,
    "start_time": "2023-04-10T14:16:12.115Z"
   },
   {
    "duration": 81,
    "start_time": "2023-04-10T14:16:12.194Z"
   },
   {
    "duration": 91,
    "start_time": "2023-04-10T14:16:12.283Z"
   }
  ],
  "kernelspec": {
   "display_name": "Python 3 (ipykernel)",
   "language": "python",
   "name": "python3"
  },
  "language_info": {
   "codemirror_mode": {
    "name": "ipython",
    "version": 3
   },
   "file_extension": ".py",
   "mimetype": "text/x-python",
   "name": "python",
   "nbconvert_exporter": "python",
   "pygments_lexer": "ipython3",
   "version": "3.9.13"
  },
  "toc": {
   "base_numbering": 1,
   "nav_menu": {},
   "number_sections": true,
   "sideBar": true,
   "skip_h1_title": true,
   "title_cell": "Содержание",
   "title_sidebar": "Содержание",
   "toc_cell": true,
   "toc_position": {},
   "toc_section_display": true,
   "toc_window_display": true
  }
 },
 "nbformat": 4,
 "nbformat_minor": 2
}
