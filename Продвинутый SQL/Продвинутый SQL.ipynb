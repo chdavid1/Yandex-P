{
 "cells": [
  {
   "cell_type": "markdown",
   "id": "4cb6fd4f",
   "metadata": {},
   "source": [
    "# Продвинутый SQL"
   ]
  },
  {
   "cell_type": "markdown",
   "id": "c1657a84",
   "metadata": {},
   "source": [
    "## Задание 1"
   ]
  },
  {
   "cell_type": "markdown",
   "id": "5e6ceadb",
   "metadata": {},
   "source": [
    "Найдите количество вопросов, которые набрали больше 300 очков или как минимум 100 раз были добавлены в «Закладки»."
   ]
  },
  {
   "cell_type": "markdown",
   "id": "2cd73892",
   "metadata": {},
   "source": [
    "* SELECT COUNT(id)\n",
    "* FROM stackoverflow.posts\n",
    "* WHERE post_type_id = 1\n",
    "AND (score > 300\n",
    "OR favorites_count >=100)"
   ]
  },
  {
   "cell_type": "markdown",
   "id": "15ac74d0",
   "metadata": {},
   "source": [
    "## Задание 2"
   ]
  },
  {
   "cell_type": "markdown",
   "id": "c557dcdc",
   "metadata": {},
   "source": [
    "Сколько в среднем в день задавали вопросов с 1 по 18 ноября 2008 включительно? Результат округлите до целого числа."
   ]
  },
  {
   "cell_type": "markdown",
   "id": "492cc018",
   "metadata": {},
   "source": [
    "* SELECT ROUND(AVG(a.cnt_id))\n",
    "* FROM\n",
    "\n",
    "         (SELECT COUNT(id) AS cnt_id, DATE_TRUNC('day', creation_date::date) AS dt\n",
    "         FROM stackoverflow.posts\n",
    "         WHERE (DATE_TRUNC('day', creation_date::date) BETWEEN '2008-11-01' AND '2008-11-18') AND post_type_id = 1\n",
    "         GROUP BY dt) AS a;"
   ]
  },
  {
   "cell_type": "markdown",
   "id": "76e36ce3",
   "metadata": {},
   "source": [
    "## Задание 3"
   ]
  },
  {
   "cell_type": "markdown",
   "id": "a4284f31",
   "metadata": {},
   "source": [
    "Сколько пользователей получили значки сразу в день регистрации? Выведите количество уникальных пользователей."
   ]
  },
  {
   "cell_type": "markdown",
   "id": "ab391d53",
   "metadata": {},
   "source": [
    "* select count(distinct b.user_id) as sum\n",
    "* from stackoverflow.badges as b\n",
    "* join stackoverflow.users as u on b.user_id=u.id\n",
    "* where u.creation_date::date=b.creation_date::date\n"
   ]
  },
  {
   "cell_type": "markdown",
   "id": "bc6c1413",
   "metadata": {},
   "source": [
    "## Задание 4"
   ]
  },
  {
   "cell_type": "markdown",
   "id": "562c12d5",
   "metadata": {},
   "source": [
    "Сколько уникальных постов пользователя с именем _Joel Coehoorn_ получили хотя бы один голос?"
   ]
  },
  {
   "cell_type": "markdown",
   "id": "95e5d9ea",
   "metadata": {},
   "source": [
    "* select count(distinct a.id)\n",
    "* from stackoverflow.posts as a\n",
    "* join stackoverflow.users as u on a.user_id=u.id\n",
    "* JOIN stackoverflow.votes v ON a.id = v.post_id\n",
    "* WHERE u.display_name = 'Joel Coehoorn'"
   ]
  },
  {
   "cell_type": "markdown",
   "id": "60535b51",
   "metadata": {},
   "source": [
    "## Задание 5"
   ]
  },
  {
   "cell_type": "markdown",
   "id": "81204b68",
   "metadata": {},
   "source": [
    "Выгрузите все поля таблицы _vote_types_. Добавьте к таблице поле rank, в которое войдут номера записей в обратном порядке. Таблица должна быть отсортирована по полю _id_."
   ]
  },
  {
   "cell_type": "markdown",
   "id": "dd2f44bc",
   "metadata": {},
   "source": [
    "* SELECT *,\n",
    "* ROW_NUMBER() OVER (ORDER BY id DESC) AS rank\n",
    "* FROM stackoverflow.vote_types\n",
    "* ORDER BY id"
   ]
  },
  {
   "cell_type": "markdown",
   "id": "97787967",
   "metadata": {},
   "source": [
    "## Задание 6"
   ]
  },
  {
   "cell_type": "markdown",
   "id": "d0d97e9d",
   "metadata": {},
   "source": [
    "Отберите 10 пользователей, которые поставили больше всего голосов типа Close. Отобразите таблицу из двух полей: идентификатором пользователя и количеством голосов. Отсортируйте данные сначала по убыванию количества голосов, потом по убыванию значения идентификатора пользователя."
   ]
  },
  {
   "cell_type": "markdown",
   "id": "d7d8674b",
   "metadata": {},
   "source": [
    "* select u.id, count(vt.name)\n",
    "* from stackoverflow.users as u\n",
    "* join stackoverflow.votes as v on u.id=v.user_id\n",
    "* join stackoverflow.vote_types as vt on v.vote_type_id=vt.id\n",
    "* WHERE vt.name = 'Close'\n",
    "* group by u.id\n",
    "* ORDER BY count(vt.name) DESC, u.id DESC\n",
    "* LIMIT 10"
   ]
  },
  {
   "cell_type": "markdown",
   "id": "a0d2c155",
   "metadata": {},
   "source": [
    "## Задание 7"
   ]
  },
  {
   "cell_type": "markdown",
   "id": "8b6bbcac",
   "metadata": {},
   "source": [
    "* Отберите 10 пользователей по количеству значков, полученных в период с 15 ноября по 15 декабря 2008 года включительно.\n",
    "* Отобразите несколько полей:\n",
    "       \n",
    "       * идентификатор пользователя;\n",
    "       * число значков;\n",
    "       * место в рейтинге — чем больше значков, тем выше рейтинг.\n",
    "       \n",
    "* Пользователям, которые набрали одинаковое количество значков, присвойте одно и то же место в рейтинге.\n",
    "* Отсортируйте записи по количеству значков по убыванию, а затем по возрастанию значения идентификатора пользователя."
   ]
  },
  {
   "cell_type": "markdown",
   "id": "5bde6113",
   "metadata": {},
   "source": [
    "* select user_id, count(id) c_bad, DENSE_RANK() over(order by count(id) DESC)\n",
    "* from stackoverflow.badges\n",
    "* where creation_date::date between '2008-11-15' and '2008-12-15'\n",
    "* group by user_id\n",
    "* order by c_bad desc, user_id\n",
    "* limit 10"
   ]
  },
  {
   "cell_type": "markdown",
   "id": "b6f416ee",
   "metadata": {},
   "source": [
    "## Задание 8"
   ]
  },
  {
   "cell_type": "markdown",
   "id": "76410eda",
   "metadata": {},
   "source": [
    "* Сколько в среднем очков получает пост каждого пользователя?\n",
    "\n",
    "* Сформируйте таблицу из следующих полей:\n",
    "        \n",
    "      * заголовок поста;\n",
    "      * идентификатор пользователя;\n",
    "      * число очков поста;\n",
    "      * среднее число очков пользователя за пост, округлённое до целого числа.\n",
    "      * Не учитывайте посты без заголовка, а также те, что набрали ноль очков."
   ]
  },
  {
   "cell_type": "markdown",
   "id": "6ebdff4a",
   "metadata": {},
   "source": [
    "* WITH ss AS\n",
    "\n",
    "      (select p.title, p.user_id, p.score, round(avg(score) over (partition by user_id)) as avg_score\n",
    "       from stackoverflow.posts p\n",
    "       where p.title != 'NULL' and p.score!=0) \n",
    "\n",
    "* SELECT title, user_id, score, avg_score\n",
    "* FROM ss"
   ]
  },
  {
   "cell_type": "markdown",
   "id": "3762c78d",
   "metadata": {},
   "source": [
    "## Задание 9"
   ]
  },
  {
   "cell_type": "markdown",
   "id": "7b89c567",
   "metadata": {},
   "source": [
    "Отобразите заголовки постов, которые были написаны пользователями, получившими более 1000 значков. Посты без заголовков не должны попасть в список."
   ]
  },
  {
   "cell_type": "markdown",
   "id": "3191e8fd",
   "metadata": {},
   "source": [
    "* with b as \n",
    "        \n",
    "      (with a as\n",
    "    (select *,count(user_id) over (partition by user_id) as count_badges\n",
    "       from stackoverflow.badges)\n",
    "           select distinct title\n",
    "           from a\n",
    "           join stackoverflow.posts as p on p.user_id=a.user_id\n",
    "           where count_badges>1000)\n",
    "           select *\n",
    "           from b\n",
    "           where title!=''"
   ]
  },
  {
   "cell_type": "markdown",
   "id": "6190b84d",
   "metadata": {},
   "source": [
    "## Задание 10"
   ]
  },
  {
   "cell_type": "markdown",
   "id": "7e0cb0d6",
   "metadata": {},
   "source": [
    "* Напишите запрос, который выгрузит данные о пользователях из США (англ. United States). \n",
    "* Разделите пользователей на три группы в зависимости от количества просмотров их профилей:\n",
    "\n",
    "        * пользователям с числом просмотров больше либо равным 350 присвойте группу 1;\n",
    "        * пользователям с числом просмотров меньше 350, но больше либо равно 100 — группу 2;\n",
    "        * пользователям с числом просмотров меньше 100 — группу 3.\n",
    "        * Отобразите в итоговой таблице идентификатор пользователя, количество просмотров профиля и группу. Пользователи с нулевым количеством просмотров не должны войти в итоговую таблицу."
   ]
  },
  {
   "cell_type": "markdown",
   "id": "aa9e39b1",
   "metadata": {},
   "source": [
    "* SELECT id, views,\n",
    "\n",
    "       CASE\n",
    "           WHEN views >= 350  THEN 1\n",
    "           WHEN views <350  AND views >= 100 THEN 2\n",
    "           WHEN views < 100 and views >0 THEN 3\n",
    "       END\n",
    "* FROM stackoverflow.users\n",
    "* WHERE location LIKE '%United States%' and views >0"
   ]
  },
  {
   "cell_type": "markdown",
   "id": "93ff768a",
   "metadata": {},
   "source": [
    "## Задание 11"
   ]
  },
  {
   "cell_type": "markdown",
   "id": "709d2d25",
   "metadata": {},
   "source": [
    "* SELECT id, group_number, views\n",
    "* FROM \n",
    "\n",
    "      (SELECT *,MAX(views) OVER (PARTITION BY group_number) AS max_value \n",
    "      FROM \n",
    "          (SELECT id, views,\n",
    "                      CASE\n",
    "                            WHEN views >= 350 THEN 1\n",
    "                            WHEN views >= 100 THEN 2\n",
    "                            ELSE 3\n",
    "                            END AS group_number\n",
    "           FROM stackoverflow.users AS u\n",
    "           WHERE location LIKE '%United States%' AND views> 0) AS a) AS foo\n",
    "* WHERE max_value = views\n",
    "* ORDER BY views DESC, id"
   ]
  },
  {
   "cell_type": "markdown",
   "id": "6929ea3f",
   "metadata": {},
   "source": [
    "## Задание 12"
   ]
  },
  {
   "cell_type": "markdown",
   "id": "a314ebcb",
   "metadata": {},
   "source": [
    "* Посчитайте ежедневный прирост новых пользователей в ноябре 2008 года. Сформируйте таблицу с полями:\n",
    "\n",
    "        * номер дня;\n",
    "        * число пользователей, зарегистрированных в этот день;\n",
    "        * сумму пользователей с накоплением."
   ]
  },
  {
   "cell_type": "markdown",
   "id": "53df971b",
   "metadata": {},
   "source": [
    "* WITH users_1 AS \n",
    "\n",
    "      (SELECT EXTRACT(DAY FROM creation_date) AS day_reg, COUNT(id) AS count_id\n",
    "       FROM stackoverflow.users u\n",
    "       WHERE EXTRACT(MONTH FROM creation_date) = 11 AND EXTRACT(YEAR FROM creation_date) = 2008\n",
    "       GROUP BY day_reg)\n",
    "       \n",
    "* SELECT *,\n",
    "* SUM(count_id) OVER (ORDER BY day_reg)\n",
    "* FROM users_1;\n"
   ]
  },
  {
   "cell_type": "markdown",
   "id": "dcee1032",
   "metadata": {},
   "source": [
    "## Задание 13"
   ]
  },
  {
   "cell_type": "markdown",
   "id": "bb835ea7",
   "metadata": {},
   "source": [
    "Для каждого пользователя, который написал хотя бы один пост, найдите интервал между регистрацией и временем создания первого поста. \n",
    "Отобразите:\n",
    "\n",
    "    * идентификатор пользователя;\n",
    "    * разницу во времени между регистрацией и первым постом."
   ]
  },
  {
   "cell_type": "markdown",
   "id": "f43e423b",
   "metadata": {},
   "source": [
    "* SELECT u.id, p.first_post_dt - u.creation_date AS diff\n",
    "* FROM\n",
    "\n",
    "      (SELECT DISTINCT user_id,\n",
    "       FIRST_VALUE(creation_date) OVER (PARTITION BY user_id ORDER BY creation_date) first_post_dt\n",
    "       FROM stackoverflow.posts) AS p\n",
    "       \n",
    "* JOIN stackoverflow.users AS u ON u.id = p.user_id;"
   ]
  },
  {
   "cell_type": "markdown",
   "id": "9337af30",
   "metadata": {},
   "source": [
    "## Задание 14"
   ]
  },
  {
   "cell_type": "markdown",
   "id": "76c58de7",
   "metadata": {},
   "source": [
    "Выведите общую сумму просмотров постов за каждый месяц 2008 года. Если данных за какой-либо месяц в базе нет, такой месяц можно пропустить. Результат отсортируйте по убыванию общего количества просмотров."
   ]
  },
  {
   "cell_type": "markdown",
   "id": "7284e09f",
   "metadata": {},
   "source": [
    "* select sum(views_count) as total_views, date_trunc('month', creation_date)::date as month\n",
    "* from stackoverflow.posts\n",
    "* group by month\n",
    "* order by total_views desc"
   ]
  },
  {
   "cell_type": "markdown",
   "id": "7a705f43",
   "metadata": {},
   "source": [
    "## Задание 15"
   ]
  },
  {
   "cell_type": "markdown",
   "id": "5a0b17d8",
   "metadata": {},
   "source": [
    "Выведите имена самых активных пользователей, которые в первый месяц после регистрации (включая день регистрации) дали больше 100 ответов. Вопросы, которые задавали пользователи, не учитывайте. Для каждого имени пользователя выведите количество уникальных значений user_id. Отсортируйте результат по полю с именами в лексикографическом порядке."
   ]
  },
  {
   "cell_type": "markdown",
   "id": "1e9c4335",
   "metadata": {},
   "source": [
    "* select distinct u.display_name, count(distinct p.user_id)\n",
    "* from stackoverflow.users u\n",
    "* join stackoverflow.posts p on p.user_id=u.id\n",
    "* join stackoverflow.post_types pt on pt.id=p.post_type_id\n",
    "* where pt.type = 'Answer' and date_trunc('day', p.creation_date) <= date_trunc('day', u.creation_date) + INTERVAL '1 month'\n",
    "* group by 1\n",
    "* having count(p.user_id) > 100\n",
    "* order by 1"
   ]
  },
  {
   "cell_type": "markdown",
   "id": "28de287b",
   "metadata": {},
   "source": [
    "## Задание 16"
   ]
  },
  {
   "cell_type": "markdown",
   "id": "8df85e5a",
   "metadata": {},
   "source": [
    "Выведите количество постов за 2008 год по месяцам. Отберите посты от пользователей, которые зарегистрировались в сентябре 2008 года и сделали хотя бы один пост в декабре того же года. Отсортируйте таблицу по значению месяца по убыванию."
   ]
  },
  {
   "cell_type": "markdown",
   "id": "96355b28",
   "metadata": {},
   "source": [
    "* SELECT DATE_TRUNC('month', p.creation_date) :: date AS month, COUNT(p.id)\n",
    "* FROM stackoverflow.posts p\n",
    "* WHERE p.user_id IN\n",
    "\n",
    "      (SELECT p.user_id AS user_id\n",
    "       FROM stackoverflow.posts p\n",
    "      JOIN stackoverflow.users u ON u.id = p.user_id\n",
    "      WHERE u.creation_date :: date BETWEEN '2008-09-01' AND '2008-09-30'\n",
    "          AND p.creation_date :: date BETWEEN '2008-12-01' AND '2008-12-31')\n",
    "          \n",
    "* GROUP BY month\n",
    "* ORDER BY month DESC"
   ]
  },
  {
   "cell_type": "markdown",
   "id": "9b7756f6",
   "metadata": {},
   "source": [
    "## Задание 17"
   ]
  },
  {
   "cell_type": "markdown",
   "id": "6882bc25",
   "metadata": {},
   "source": [
    "* Используя данные о постах, выведите несколько полей:\n",
    "    \n",
    "      1) идентификатор пользователя, который написал пост;\n",
    "      2) дата создания поста;\n",
    "      3) количество просмотров у текущего поста;\n",
    "      4) сумму просмотров постов автора с накоплением.\n",
    "      5) Данные в таблице должны быть отсортированы по возрастанию идентификаторов пользователей, а данные об одном и том же пользователе — по возрастанию даты создания поста."
   ]
  },
  {
   "cell_type": "markdown",
   "id": "f3e02b21",
   "metadata": {},
   "source": [
    "* SELECT p.user_id, p.creation_date, p.views_count, SUM(views_count) OVER (PARTITION BY user_id\n",
    "ORDER BY creation_date)\n",
    "* FROM stackoverflow.posts p"
   ]
  },
  {
   "cell_type": "markdown",
   "id": "bb10f07d",
   "metadata": {},
   "source": [
    "## Задание 18"
   ]
  },
  {
   "cell_type": "markdown",
   "id": "5d0a5b70",
   "metadata": {},
   "source": [
    "Сколько в среднем дней в период с 1 по 7 декабря 2008 года включительно пользователи взаимодействовали с платформой? Для каждого пользователя отберите дни, в которые он или она опубликовали хотя бы один пост. Нужно получить одно целое число — не забудьте округлить результат."
   ]
  },
  {
   "cell_type": "markdown",
   "id": "e9245e52",
   "metadata": {},
   "source": [
    "* with i as\n",
    "\n",
    "      (SELECT user_id, COUNT( distinct EXTRACT(DAY from creation_date::date)) AS activ_days\n",
    "       FROM stackoverflow.posts\n",
    "       WHERE (creation_date::date BETWEEN '2008-12-01' AND '2008-12-07')\n",
    "       GROUP BY user_id)\n",
    "\n",
    "* SELECT round(AVG(i.activ_days))\n",
    "* FROM i"
   ]
  },
  {
   "cell_type": "markdown",
   "id": "818641bc",
   "metadata": {},
   "source": [
    "## Задание 19"
   ]
  },
  {
   "cell_type": "markdown",
   "id": "a850b309",
   "metadata": {},
   "source": [
    "* На сколько процентов менялось количество постов ежемесячно с 1 сентября по 31 декабря 2008 года? Отобразите таблицу со следующими полями:\n",
    "\n",
    "      * номер месяца;\n",
    "      * количество постов за месяц;\n",
    "      * процент, который показывает, насколько изменилось количество постов в текущем месяце по сравнению с предыдущим.\n",
    "      \n",
    "* Если постов стало меньше, значение процента должно быть отрицательным, если больше — положительным. Округлите значение процента до двух знаков после запятой.\n"
   ]
  },
  {
   "cell_type": "markdown",
   "id": "75119179",
   "metadata": {},
   "source": [
    "* with i as\n",
    "\n",
    "      (select extract(month from creation_date) as month, count(distinct id) as id\n",
    "       from stackoverflow.posts\n",
    "       where creation_date::date between '2008-09-01' and '2008-12-31'\n",
    "       group by 1)\n",
    "\n",
    "* select month,id, round((id::numeric / lag(id, 1, null) over (order by month))*100-100, 2)\n",
    "* from i"
   ]
  },
  {
   "cell_type": "markdown",
   "id": "afc3d0c2",
   "metadata": {},
   "source": [
    "## Задание 20"
   ]
  },
  {
   "cell_type": "markdown",
   "id": "8359beff",
   "metadata": {},
   "source": [
    "Выгрузите данные активности пользователя, который опубликовал больше всего постов за всё время. Выведите данные за октябрь 2008 года в таком виде:\n",
    "номер недели;\n",
    "дата и время последнего поста, опубликованного на этой неделе."
   ]
  },
  {
   "cell_type": "markdown",
   "id": "e55b2d79",
   "metadata": {},
   "source": [
    "* WITH i AS\n",
    "\n",
    "      (SELECT creation_date AS date, EXTRACT (week FROM creation_date) AS week, user_id\n",
    "       FROM stackoverflow.posts\n",
    "       WHERE user_id IN \n",
    "           (SELECT user_id\n",
    "            FROM stackoverflow.posts\n",
    "            GROUP BY user_id\n",
    "            ORDER BY COUNT(*) DESC\n",
    "            LIMIT 1))\n",
    "\n",
    "* SELECT DISTINCT(week), MAX(date) AS date\n",
    "* FROM i\n",
    "* WHERE  date::date BETWEEN '2008-10-01' AND '2008-10-31'\n",
    "* GROUP BY week;"
   ]
  },
  {
   "cell_type": "code",
   "execution_count": null,
   "id": "adac44c2",
   "metadata": {},
   "outputs": [],
   "source": []
  }
 ],
 "metadata": {
  "kernelspec": {
   "display_name": "Python 3 (ipykernel)",
   "language": "python",
   "name": "python3"
  },
  "language_info": {
   "codemirror_mode": {
    "name": "ipython",
    "version": 3
   },
   "file_extension": ".py",
   "mimetype": "text/x-python",
   "name": "python",
   "nbconvert_exporter": "python",
   "pygments_lexer": "ipython3",
   "version": "3.9.13"
  }
 },
 "nbformat": 4,
 "nbformat_minor": 5
}
