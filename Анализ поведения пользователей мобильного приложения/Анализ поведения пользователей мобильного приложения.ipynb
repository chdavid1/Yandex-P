{
 "cells": [
  {
   "cell_type": "markdown",
   "metadata": {},
   "source": [
    "# Анализ поведения пользователей мобильного приложения"
   ]
  },
  {
   "cell_type": "markdown",
   "metadata": {},
   "source": [
    "На основе данных использования мобильного приложения для продажи продуктов питания проанализировать воронку продаж, а также оценить результаты A/B-тестирования. Были проанализированы результаты A/B-теста введения новых шрифтов, где 2 контрольные группы со старыми шрифтами сравнивались с эксеприментальной. Различий в поведении пользователей выявлено не было"
   ]
  },
  {
   "cell_type": "markdown",
   "metadata": {
    "toc": true
   },
   "source": [
    "<h1>Содержание<span class=\"tocSkip\"></span></h1>\n",
    "<div class=\"toc\"><ul class=\"toc-item\"><li><span><a href=\"#Подготовка-данных\" data-toc-modified-id=\"Подготовка-данных-1\"><span class=\"toc-item-num\">1&nbsp;&nbsp;</span>Подготовка данных</a></span></li><li><span><a href=\"#Изучение-и-проверка-данных\" data-toc-modified-id=\"Изучение-и-проверка-данных-2\"><span class=\"toc-item-num\">2&nbsp;&nbsp;</span>Изучение и проверка данных</a></span></li><li><span><a href=\"#Изучение-воронки-событий\" data-toc-modified-id=\"Изучение-воронки-событий-3\"><span class=\"toc-item-num\">3&nbsp;&nbsp;</span>Изучение воронки событий</a></span></li><li><span><a href=\"#Изучение-результатов-эксперимента\" data-toc-modified-id=\"Изучение-результатов-эксперимента-4\"><span class=\"toc-item-num\">4&nbsp;&nbsp;</span>Изучение результатов эксперимента</a></span><ul class=\"toc-item\"><li><span><a href=\"#Проверка-статистических-критериев-на-наличие-разницы-между-выборками-246-и-247.\" data-toc-modified-id=\"Проверка-статистических-критериев-на-наличие-разницы-между-выборками-246-и-247.-4.1\"><span class=\"toc-item-num\">4.1&nbsp;&nbsp;</span>Проверка статистических критериев на наличие разницы между выборками 246 и 247.</a></span></li><li><span><a href=\"#Функция-для-z-теста\" data-toc-modified-id=\"Функция-для-z-теста-4.2\"><span class=\"toc-item-num\">4.2&nbsp;&nbsp;</span>Функция для z-теста</a></span></li><li><span><a href=\"#Сравнение-групп-при-уровне-значимости-5%\" data-toc-modified-id=\"Сравнение-групп-при-уровне-значимости-5%-4.3\"><span class=\"toc-item-num\">4.3&nbsp;&nbsp;</span>Сравнение групп при уровне значимости 5%</a></span><ul class=\"toc-item\"><li><span><a href=\"#Сравнение-контрольной-группы-246-с-группой-247.\" data-toc-modified-id=\"Сравнение-контрольной-группы-246-с-группой-247.-4.3.1\"><span class=\"toc-item-num\">4.3.1&nbsp;&nbsp;</span>Сравнение контрольной группы 246 с группой 247.</a></span></li><li><span><a href=\"#Сравнение-контрольной-группы-246-с-экспериментальной.\" data-toc-modified-id=\"Сравнение-контрольной-группы-246-с-экспериментальной.-4.3.2\"><span class=\"toc-item-num\">4.3.2&nbsp;&nbsp;</span>Сравнение контрольной группы 246 с экспериментальной.</a></span></li><li><span><a href=\"#Сравнение-контрольной-группы-247-с-экспериментальной.\" data-toc-modified-id=\"Сравнение-контрольной-группы-247-с-экспериментальной.-4.3.3\"><span class=\"toc-item-num\">4.3.3&nbsp;&nbsp;</span>Сравнение контрольной группы 247 с экспериментальной.</a></span></li><li><span><a href=\"#Сравнение-объединенной-контрольной-группы-(246-и-247)-с-экспериментальной.\" data-toc-modified-id=\"Сравнение-объединенной-контрольной-группы-(246-и-247)-с-экспериментальной.-4.3.4\"><span class=\"toc-item-num\">4.3.4&nbsp;&nbsp;</span>Сравнение объединенной контрольной группы (246 и 247) с экспериментальной.</a></span></li></ul></li><li><span><a href=\"#Сравнение-групп-при-уровне-значимости-1%\" data-toc-modified-id=\"Сравнение-групп-при-уровне-значимости-1%-4.4\"><span class=\"toc-item-num\">4.4&nbsp;&nbsp;</span>Сравнение групп при уровне значимости 1%</a></span><ul class=\"toc-item\"><li><span><a href=\"#Сравнение-контрольной-группы-246-с-группой-247.\" data-toc-modified-id=\"Сравнение-контрольной-группы-246-с-группой-247.-4.4.1\"><span class=\"toc-item-num\">4.4.1&nbsp;&nbsp;</span>Сравнение контрольной группы 246 с группой 247.</a></span></li><li><span><a href=\"#Сравнение-контрольной-группы-246-с-экспериментальной.\" data-toc-modified-id=\"Сравнение-контрольной-группы-246-с-экспериментальной.-4.4.2\"><span class=\"toc-item-num\">4.4.2&nbsp;&nbsp;</span>Сравнение контрольной группы 246 с экспериментальной.</a></span></li><li><span><a href=\"#Сравнение-контрольной-группы-247-с-экспериментальной\" data-toc-modified-id=\"Сравнение-контрольной-группы-247-с-экспериментальной-4.4.3\"><span class=\"toc-item-num\">4.4.3&nbsp;&nbsp;</span>Сравнение контрольной группы 247 с экспериментальной</a></span></li><li><span><a href=\"#Сравнение-объединенной-контрольной-группы-(246-и-247)-с-экспериментальной.\" data-toc-modified-id=\"Сравнение-объединенной-контрольной-группы-(246-и-247)-с-экспериментальной.-4.4.4\"><span class=\"toc-item-num\">4.4.4&nbsp;&nbsp;</span>Сравнение объединенной контрольной группы (246 и 247) с экспериментальной.</a></span></li></ul></li></ul></li><li><span><a href=\"#Вывод\" data-toc-modified-id=\"Вывод-5\"><span class=\"toc-item-num\">5&nbsp;&nbsp;</span>Вывод</a></span></li><li><span><a href=\"#Общий-комментарий\" data-toc-modified-id=\"Общий-комментарий-6\"><span class=\"toc-item-num\">6&nbsp;&nbsp;</span>Общий комментарий</a></span></li></ul></div>"
   ]
  },
  {
   "cell_type": "markdown",
   "metadata": {},
   "source": [
    "## Подготовка данных "
   ]
  },
  {
   "cell_type": "code",
   "execution_count": 1,
   "metadata": {},
   "outputs": [],
   "source": [
    "import pandas as pd\n",
    "import datetime as dt\n",
    "import scipy.stats as stats\n",
    "import numpy as np\n",
    "import seaborn as sns\n",
    "import matplotlib.pyplot as plt\n",
    "from pandas.plotting import register_matplotlib_converters\n",
    "import math as mth\n",
    "from scipy import stats as st\n",
    "from scipy.stats import norm\n",
    "import warnings\n",
    "\n",
    "warnings.filterwarnings('ignore')"
   ]
  },
  {
   "cell_type": "code",
   "execution_count": 2,
   "metadata": {},
   "outputs": [],
   "source": [
    "data = pd.read_csv('/datasets/logs_exp.csv', sep='\\t')"
   ]
  },
  {
   "cell_type": "code",
   "execution_count": 3,
   "metadata": {},
   "outputs": [
    {
     "data": {
      "text/html": [
       "<div>\n",
       "<style scoped>\n",
       "    .dataframe tbody tr th:only-of-type {\n",
       "        vertical-align: middle;\n",
       "    }\n",
       "\n",
       "    .dataframe tbody tr th {\n",
       "        vertical-align: top;\n",
       "    }\n",
       "\n",
       "    .dataframe thead th {\n",
       "        text-align: right;\n",
       "    }\n",
       "</style>\n",
       "<table border=\"1\" class=\"dataframe\">\n",
       "  <thead>\n",
       "    <tr style=\"text-align: right;\">\n",
       "      <th></th>\n",
       "      <th>EventName</th>\n",
       "      <th>DeviceIDHash</th>\n",
       "      <th>EventTimestamp</th>\n",
       "      <th>ExpId</th>\n",
       "    </tr>\n",
       "  </thead>\n",
       "  <tbody>\n",
       "    <tr>\n",
       "      <th>0</th>\n",
       "      <td>MainScreenAppear</td>\n",
       "      <td>4575588528974610257</td>\n",
       "      <td>1564029816</td>\n",
       "      <td>246</td>\n",
       "    </tr>\n",
       "    <tr>\n",
       "      <th>1</th>\n",
       "      <td>MainScreenAppear</td>\n",
       "      <td>7416695313311560658</td>\n",
       "      <td>1564053102</td>\n",
       "      <td>246</td>\n",
       "    </tr>\n",
       "    <tr>\n",
       "      <th>2</th>\n",
       "      <td>PaymentScreenSuccessful</td>\n",
       "      <td>3518123091307005509</td>\n",
       "      <td>1564054127</td>\n",
       "      <td>248</td>\n",
       "    </tr>\n",
       "    <tr>\n",
       "      <th>3</th>\n",
       "      <td>CartScreenAppear</td>\n",
       "      <td>3518123091307005509</td>\n",
       "      <td>1564054127</td>\n",
       "      <td>248</td>\n",
       "    </tr>\n",
       "    <tr>\n",
       "      <th>4</th>\n",
       "      <td>PaymentScreenSuccessful</td>\n",
       "      <td>6217807653094995999</td>\n",
       "      <td>1564055322</td>\n",
       "      <td>248</td>\n",
       "    </tr>\n",
       "    <tr>\n",
       "      <th>...</th>\n",
       "      <td>...</td>\n",
       "      <td>...</td>\n",
       "      <td>...</td>\n",
       "      <td>...</td>\n",
       "    </tr>\n",
       "    <tr>\n",
       "      <th>244121</th>\n",
       "      <td>MainScreenAppear</td>\n",
       "      <td>4599628364049201812</td>\n",
       "      <td>1565212345</td>\n",
       "      <td>247</td>\n",
       "    </tr>\n",
       "    <tr>\n",
       "      <th>244122</th>\n",
       "      <td>MainScreenAppear</td>\n",
       "      <td>5849806612437486590</td>\n",
       "      <td>1565212439</td>\n",
       "      <td>246</td>\n",
       "    </tr>\n",
       "    <tr>\n",
       "      <th>244123</th>\n",
       "      <td>MainScreenAppear</td>\n",
       "      <td>5746969938801999050</td>\n",
       "      <td>1565212483</td>\n",
       "      <td>246</td>\n",
       "    </tr>\n",
       "    <tr>\n",
       "      <th>244124</th>\n",
       "      <td>MainScreenAppear</td>\n",
       "      <td>5746969938801999050</td>\n",
       "      <td>1565212498</td>\n",
       "      <td>246</td>\n",
       "    </tr>\n",
       "    <tr>\n",
       "      <th>244125</th>\n",
       "      <td>OffersScreenAppear</td>\n",
       "      <td>5746969938801999050</td>\n",
       "      <td>1565212517</td>\n",
       "      <td>246</td>\n",
       "    </tr>\n",
       "  </tbody>\n",
       "</table>\n",
       "<p>244126 rows × 4 columns</p>\n",
       "</div>"
      ],
      "text/plain": [
       "                      EventName         DeviceIDHash  EventTimestamp  ExpId\n",
       "0              MainScreenAppear  4575588528974610257      1564029816    246\n",
       "1              MainScreenAppear  7416695313311560658      1564053102    246\n",
       "2       PaymentScreenSuccessful  3518123091307005509      1564054127    248\n",
       "3              CartScreenAppear  3518123091307005509      1564054127    248\n",
       "4       PaymentScreenSuccessful  6217807653094995999      1564055322    248\n",
       "...                         ...                  ...             ...    ...\n",
       "244121         MainScreenAppear  4599628364049201812      1565212345    247\n",
       "244122         MainScreenAppear  5849806612437486590      1565212439    246\n",
       "244123         MainScreenAppear  5746969938801999050      1565212483    246\n",
       "244124         MainScreenAppear  5746969938801999050      1565212498    246\n",
       "244125       OffersScreenAppear  5746969938801999050      1565212517    246\n",
       "\n",
       "[244126 rows x 4 columns]"
      ]
     },
     "metadata": {},
     "output_type": "display_data"
    }
   ],
   "source": [
    "display(data)"
   ]
  },
  {
   "cell_type": "markdown",
   "metadata": {},
   "source": [
    "Всего в таблице 4 колонки и 244126 строк с данными. Колонки содержат данные о \"Названии события\", \"Id пользователя\", \"Времени события\" и \"Номере эксперимента\""
   ]
  },
  {
   "cell_type": "code",
   "execution_count": 4,
   "metadata": {},
   "outputs": [
    {
     "name": "stdout",
     "output_type": "stream",
     "text": [
      "<class 'pandas.core.frame.DataFrame'>\n",
      "RangeIndex: 244126 entries, 0 to 244125\n",
      "Data columns (total 4 columns):\n",
      " #   Column          Non-Null Count   Dtype \n",
      "---  ------          --------------   ----- \n",
      " 0   EventName       244126 non-null  object\n",
      " 1   DeviceIDHash    244126 non-null  int64 \n",
      " 2   EventTimestamp  244126 non-null  int64 \n",
      " 3   ExpId           244126 non-null  int64 \n",
      "dtypes: int64(3), object(1)\n",
      "memory usage: 7.5+ MB\n"
     ]
    }
   ],
   "source": [
    "data.info()"
   ]
  },
  {
   "cell_type": "markdown",
   "metadata": {},
   "source": [
    "Тип данные в столбце EventName - object, в других int, в том числе в колонке с датами"
   ]
  },
  {
   "cell_type": "markdown",
   "metadata": {},
   "source": [
    "Приведем названия колонок к более удобному виду"
   ]
  },
  {
   "cell_type": "code",
   "execution_count": 5,
   "metadata": {},
   "outputs": [
    {
     "data": {
      "text/html": [
       "<div>\n",
       "<style scoped>\n",
       "    .dataframe tbody tr th:only-of-type {\n",
       "        vertical-align: middle;\n",
       "    }\n",
       "\n",
       "    .dataframe tbody tr th {\n",
       "        vertical-align: top;\n",
       "    }\n",
       "\n",
       "    .dataframe thead th {\n",
       "        text-align: right;\n",
       "    }\n",
       "</style>\n",
       "<table border=\"1\" class=\"dataframe\">\n",
       "  <thead>\n",
       "    <tr style=\"text-align: right;\">\n",
       "      <th></th>\n",
       "      <th>event_name</th>\n",
       "      <th>device_id_hash</th>\n",
       "      <th>event_timestamp</th>\n",
       "      <th>exp_id</th>\n",
       "    </tr>\n",
       "  </thead>\n",
       "  <tbody>\n",
       "    <tr>\n",
       "      <th>0</th>\n",
       "      <td>MainScreenAppear</td>\n",
       "      <td>4575588528974610257</td>\n",
       "      <td>1564029816</td>\n",
       "      <td>246</td>\n",
       "    </tr>\n",
       "    <tr>\n",
       "      <th>1</th>\n",
       "      <td>MainScreenAppear</td>\n",
       "      <td>7416695313311560658</td>\n",
       "      <td>1564053102</td>\n",
       "      <td>246</td>\n",
       "    </tr>\n",
       "    <tr>\n",
       "      <th>2</th>\n",
       "      <td>PaymentScreenSuccessful</td>\n",
       "      <td>3518123091307005509</td>\n",
       "      <td>1564054127</td>\n",
       "      <td>248</td>\n",
       "    </tr>\n",
       "    <tr>\n",
       "      <th>3</th>\n",
       "      <td>CartScreenAppear</td>\n",
       "      <td>3518123091307005509</td>\n",
       "      <td>1564054127</td>\n",
       "      <td>248</td>\n",
       "    </tr>\n",
       "    <tr>\n",
       "      <th>4</th>\n",
       "      <td>PaymentScreenSuccessful</td>\n",
       "      <td>6217807653094995999</td>\n",
       "      <td>1564055322</td>\n",
       "      <td>248</td>\n",
       "    </tr>\n",
       "    <tr>\n",
       "      <th>...</th>\n",
       "      <td>...</td>\n",
       "      <td>...</td>\n",
       "      <td>...</td>\n",
       "      <td>...</td>\n",
       "    </tr>\n",
       "    <tr>\n",
       "      <th>244121</th>\n",
       "      <td>MainScreenAppear</td>\n",
       "      <td>4599628364049201812</td>\n",
       "      <td>1565212345</td>\n",
       "      <td>247</td>\n",
       "    </tr>\n",
       "    <tr>\n",
       "      <th>244122</th>\n",
       "      <td>MainScreenAppear</td>\n",
       "      <td>5849806612437486590</td>\n",
       "      <td>1565212439</td>\n",
       "      <td>246</td>\n",
       "    </tr>\n",
       "    <tr>\n",
       "      <th>244123</th>\n",
       "      <td>MainScreenAppear</td>\n",
       "      <td>5746969938801999050</td>\n",
       "      <td>1565212483</td>\n",
       "      <td>246</td>\n",
       "    </tr>\n",
       "    <tr>\n",
       "      <th>244124</th>\n",
       "      <td>MainScreenAppear</td>\n",
       "      <td>5746969938801999050</td>\n",
       "      <td>1565212498</td>\n",
       "      <td>246</td>\n",
       "    </tr>\n",
       "    <tr>\n",
       "      <th>244125</th>\n",
       "      <td>OffersScreenAppear</td>\n",
       "      <td>5746969938801999050</td>\n",
       "      <td>1565212517</td>\n",
       "      <td>246</td>\n",
       "    </tr>\n",
       "  </tbody>\n",
       "</table>\n",
       "<p>244126 rows × 4 columns</p>\n",
       "</div>"
      ],
      "text/plain": [
       "                     event_name       device_id_hash  event_timestamp  exp_id\n",
       "0              MainScreenAppear  4575588528974610257       1564029816     246\n",
       "1              MainScreenAppear  7416695313311560658       1564053102     246\n",
       "2       PaymentScreenSuccessful  3518123091307005509       1564054127     248\n",
       "3              CartScreenAppear  3518123091307005509       1564054127     248\n",
       "4       PaymentScreenSuccessful  6217807653094995999       1564055322     248\n",
       "...                         ...                  ...              ...     ...\n",
       "244121         MainScreenAppear  4599628364049201812       1565212345     247\n",
       "244122         MainScreenAppear  5849806612437486590       1565212439     246\n",
       "244123         MainScreenAppear  5746969938801999050       1565212483     246\n",
       "244124         MainScreenAppear  5746969938801999050       1565212498     246\n",
       "244125       OffersScreenAppear  5746969938801999050       1565212517     246\n",
       "\n",
       "[244126 rows x 4 columns]"
      ]
     },
     "metadata": {},
     "output_type": "display_data"
    }
   ],
   "source": [
    "data = data.rename(columns={\"EventName\": \"event_name\", \"DeviceIDHash\": \"device_id_hash\", \n",
    "                   \"EventTimestamp\": \"event_timestamp\", \"ExpId\": \"exp_id\"})\n",
    "display(data)"
   ]
  },
  {
   "cell_type": "markdown",
   "metadata": {},
   "source": [
    "Проверка данных на предмет наличия пропусков"
   ]
  },
  {
   "cell_type": "code",
   "execution_count": 6,
   "metadata": {},
   "outputs": [
    {
     "data": {
      "text/plain": [
       "event_name         0\n",
       "device_id_hash     0\n",
       "event_timestamp    0\n",
       "exp_id             0\n",
       "dtype: int64"
      ]
     },
     "execution_count": 6,
     "metadata": {},
     "output_type": "execute_result"
    }
   ],
   "source": [
    "data.isna().sum() #пропусков нет"
   ]
  },
  {
   "cell_type": "markdown",
   "metadata": {},
   "source": [
    "Проверка данных на предмет наличия дубликатов"
   ]
  },
  {
   "cell_type": "code",
   "execution_count": 7,
   "metadata": {},
   "outputs": [
    {
     "data": {
      "text/plain": [
       "413"
      ]
     },
     "execution_count": 7,
     "metadata": {},
     "output_type": "execute_result"
    }
   ],
   "source": [
    "data.duplicated().sum()"
   ]
  },
  {
   "cell_type": "markdown",
   "metadata": {},
   "source": [
    "Всего в таблице 4143 дубликатов. Есть смысл их удалить чтобы они не искажали данные."
   ]
  },
  {
   "cell_type": "code",
   "execution_count": 8,
   "metadata": {},
   "outputs": [
    {
     "name": "stdout",
     "output_type": "stream",
     "text": [
      "<class 'pandas.core.frame.DataFrame'>\n",
      "Int64Index: 243713 entries, 0 to 244125\n",
      "Data columns (total 4 columns):\n",
      " #   Column           Non-Null Count   Dtype \n",
      "---  ------           --------------   ----- \n",
      " 0   event_name       243713 non-null  object\n",
      " 1   device_id_hash   243713 non-null  int64 \n",
      " 2   event_timestamp  243713 non-null  int64 \n",
      " 3   exp_id           243713 non-null  int64 \n",
      "dtypes: int64(3), object(1)\n",
      "memory usage: 9.3+ MB\n"
     ]
    }
   ],
   "source": [
    "data=data.drop_duplicates()\n",
    "data.info()"
   ]
  },
  {
   "cell_type": "markdown",
   "metadata": {},
   "source": [
    "Добавим столбец даты и времени, а также отдельный столбец дат"
   ]
  },
  {
   "cell_type": "code",
   "execution_count": 9,
   "metadata": {
    "scrolled": true
   },
   "outputs": [
    {
     "data": {
      "text/html": [
       "<div>\n",
       "<style scoped>\n",
       "    .dataframe tbody tr th:only-of-type {\n",
       "        vertical-align: middle;\n",
       "    }\n",
       "\n",
       "    .dataframe tbody tr th {\n",
       "        vertical-align: top;\n",
       "    }\n",
       "\n",
       "    .dataframe thead th {\n",
       "        text-align: right;\n",
       "    }\n",
       "</style>\n",
       "<table border=\"1\" class=\"dataframe\">\n",
       "  <thead>\n",
       "    <tr style=\"text-align: right;\">\n",
       "      <th></th>\n",
       "      <th>event_name</th>\n",
       "      <th>device_id_hash</th>\n",
       "      <th>event_timestamp</th>\n",
       "      <th>exp_id</th>\n",
       "      <th>date_time</th>\n",
       "      <th>date</th>\n",
       "    </tr>\n",
       "  </thead>\n",
       "  <tbody>\n",
       "    <tr>\n",
       "      <th>0</th>\n",
       "      <td>MainScreenAppear</td>\n",
       "      <td>4575588528974610257</td>\n",
       "      <td>1564029816</td>\n",
       "      <td>246</td>\n",
       "      <td>2019-07-25 04:43:36</td>\n",
       "      <td>2019-07-25</td>\n",
       "    </tr>\n",
       "    <tr>\n",
       "      <th>1</th>\n",
       "      <td>MainScreenAppear</td>\n",
       "      <td>7416695313311560658</td>\n",
       "      <td>1564053102</td>\n",
       "      <td>246</td>\n",
       "      <td>2019-07-25 11:11:42</td>\n",
       "      <td>2019-07-25</td>\n",
       "    </tr>\n",
       "    <tr>\n",
       "      <th>2</th>\n",
       "      <td>PaymentScreenSuccessful</td>\n",
       "      <td>3518123091307005509</td>\n",
       "      <td>1564054127</td>\n",
       "      <td>248</td>\n",
       "      <td>2019-07-25 11:28:47</td>\n",
       "      <td>2019-07-25</td>\n",
       "    </tr>\n",
       "    <tr>\n",
       "      <th>3</th>\n",
       "      <td>CartScreenAppear</td>\n",
       "      <td>3518123091307005509</td>\n",
       "      <td>1564054127</td>\n",
       "      <td>248</td>\n",
       "      <td>2019-07-25 11:28:47</td>\n",
       "      <td>2019-07-25</td>\n",
       "    </tr>\n",
       "    <tr>\n",
       "      <th>4</th>\n",
       "      <td>PaymentScreenSuccessful</td>\n",
       "      <td>6217807653094995999</td>\n",
       "      <td>1564055322</td>\n",
       "      <td>248</td>\n",
       "      <td>2019-07-25 11:48:42</td>\n",
       "      <td>2019-07-25</td>\n",
       "    </tr>\n",
       "    <tr>\n",
       "      <th>...</th>\n",
       "      <td>...</td>\n",
       "      <td>...</td>\n",
       "      <td>...</td>\n",
       "      <td>...</td>\n",
       "      <td>...</td>\n",
       "      <td>...</td>\n",
       "    </tr>\n",
       "    <tr>\n",
       "      <th>244121</th>\n",
       "      <td>MainScreenAppear</td>\n",
       "      <td>4599628364049201812</td>\n",
       "      <td>1565212345</td>\n",
       "      <td>247</td>\n",
       "      <td>2019-08-07 21:12:25</td>\n",
       "      <td>2019-08-07</td>\n",
       "    </tr>\n",
       "    <tr>\n",
       "      <th>244122</th>\n",
       "      <td>MainScreenAppear</td>\n",
       "      <td>5849806612437486590</td>\n",
       "      <td>1565212439</td>\n",
       "      <td>246</td>\n",
       "      <td>2019-08-07 21:13:59</td>\n",
       "      <td>2019-08-07</td>\n",
       "    </tr>\n",
       "    <tr>\n",
       "      <th>244123</th>\n",
       "      <td>MainScreenAppear</td>\n",
       "      <td>5746969938801999050</td>\n",
       "      <td>1565212483</td>\n",
       "      <td>246</td>\n",
       "      <td>2019-08-07 21:14:43</td>\n",
       "      <td>2019-08-07</td>\n",
       "    </tr>\n",
       "    <tr>\n",
       "      <th>244124</th>\n",
       "      <td>MainScreenAppear</td>\n",
       "      <td>5746969938801999050</td>\n",
       "      <td>1565212498</td>\n",
       "      <td>246</td>\n",
       "      <td>2019-08-07 21:14:58</td>\n",
       "      <td>2019-08-07</td>\n",
       "    </tr>\n",
       "    <tr>\n",
       "      <th>244125</th>\n",
       "      <td>OffersScreenAppear</td>\n",
       "      <td>5746969938801999050</td>\n",
       "      <td>1565212517</td>\n",
       "      <td>246</td>\n",
       "      <td>2019-08-07 21:15:17</td>\n",
       "      <td>2019-08-07</td>\n",
       "    </tr>\n",
       "  </tbody>\n",
       "</table>\n",
       "<p>243713 rows × 6 columns</p>\n",
       "</div>"
      ],
      "text/plain": [
       "                     event_name       device_id_hash  event_timestamp  exp_id  \\\n",
       "0              MainScreenAppear  4575588528974610257       1564029816     246   \n",
       "1              MainScreenAppear  7416695313311560658       1564053102     246   \n",
       "2       PaymentScreenSuccessful  3518123091307005509       1564054127     248   \n",
       "3              CartScreenAppear  3518123091307005509       1564054127     248   \n",
       "4       PaymentScreenSuccessful  6217807653094995999       1564055322     248   \n",
       "...                         ...                  ...              ...     ...   \n",
       "244121         MainScreenAppear  4599628364049201812       1565212345     247   \n",
       "244122         MainScreenAppear  5849806612437486590       1565212439     246   \n",
       "244123         MainScreenAppear  5746969938801999050       1565212483     246   \n",
       "244124         MainScreenAppear  5746969938801999050       1565212498     246   \n",
       "244125       OffersScreenAppear  5746969938801999050       1565212517     246   \n",
       "\n",
       "                 date_time       date  \n",
       "0      2019-07-25 04:43:36 2019-07-25  \n",
       "1      2019-07-25 11:11:42 2019-07-25  \n",
       "2      2019-07-25 11:28:47 2019-07-25  \n",
       "3      2019-07-25 11:28:47 2019-07-25  \n",
       "4      2019-07-25 11:48:42 2019-07-25  \n",
       "...                    ...        ...  \n",
       "244121 2019-08-07 21:12:25 2019-08-07  \n",
       "244122 2019-08-07 21:13:59 2019-08-07  \n",
       "244123 2019-08-07 21:14:43 2019-08-07  \n",
       "244124 2019-08-07 21:14:58 2019-08-07  \n",
       "244125 2019-08-07 21:15:17 2019-08-07  \n",
       "\n",
       "[243713 rows x 6 columns]"
      ]
     },
     "metadata": {},
     "output_type": "display_data"
    }
   ],
   "source": [
    "data['date_time']=pd.to_datetime(data['event_timestamp'], unit='s')\n",
    "data['date']=data['date_time'].dt.normalize()\n",
    "\n",
    "display(data)\n"
   ]
  },
  {
   "cell_type": "markdown",
   "metadata": {},
   "source": [
    "1) Всего в выгруженной таблице 4 колонки и 244126 строк с данными. Колонки содержат данные о \"Названии события\", \"Id пользователя\", \"Времени события\" и \"Номере эксперимента\". Тип данные в столбце EventName - object, в других int, в том числе в колонке с датами.\n",
    "\n",
    "2) Названия колонок были приведены к более удобному виду\n",
    "\n",
    "3) Пропусков в данных не найдено\n",
    "\n",
    "4) Была проведена проверка на предмет наличия дубликатов. Их было всего 4143.\n",
    "\n",
    "5) Были добавлены столбцы даты и времени, а также отдельный столбец дат"
   ]
  },
  {
   "cell_type": "markdown",
   "metadata": {},
   "source": [
    "## Изучение и проверка данных"
   ]
  },
  {
   "cell_type": "code",
   "execution_count": 10,
   "metadata": {},
   "outputs": [
    {
     "name": "stdout",
     "output_type": "stream",
     "text": [
      "Число событий: 243713\n",
      "Виды событий: 5\n"
     ]
    }
   ],
   "source": [
    "print(\"Число событий:\",data['event_name'].count())\n",
    "print(\"Виды событий:\",data['event_name'].nunique())\n",
    "old=data['event_name'].count()"
   ]
  },
  {
   "cell_type": "markdown",
   "metadata": {},
   "source": [
    "Всего в таблице 243713 событий, которые разделены на 5 типов: MainScreenAppear, PaymentScreenSuccessful,CartScreenAppear,OffersScreenAppear и Tutorial."
   ]
  },
  {
   "cell_type": "code",
   "execution_count": 11,
   "metadata": {},
   "outputs": [
    {
     "name": "stdout",
     "output_type": "stream",
     "text": [
      "Количество уникальных пользователей: 7551\n"
     ]
    }
   ],
   "source": [
    "print(\"Количество уникальных пользователей:\",data['device_id_hash'].nunique())"
   ]
  },
  {
   "cell_type": "markdown",
   "metadata": {},
   "source": [
    "В экспериментах учатвовало всего 7551 человек"
   ]
  },
  {
   "cell_type": "markdown",
   "metadata": {},
   "source": [
    "Проверим оказались ли некоторые пользователи одновременно в нескольких группах"
   ]
  },
  {
   "cell_type": "code",
   "execution_count": 12,
   "metadata": {},
   "outputs": [
    {
     "data": {
      "text/plain": [
       "0"
      ]
     },
     "execution_count": 12,
     "metadata": {},
     "output_type": "execute_result"
    }
   ],
   "source": [
    "unique_visitors = data.loc[:, ['device_id_hash', 'exp_id']].drop_duplicates().drop(columns=['exp_id'])\n",
    "unique_visitors.device_id_hash.duplicated().sum()"
   ]
  },
  {
   "cell_type": "code",
   "execution_count": 13,
   "metadata": {
    "scrolled": false
   },
   "outputs": [
    {
     "data": {
      "image/png": "[encoded data removed]",
      "text/plain": [
       "<Figure size 1440x720 with 1 Axes>"
      ]
     },
     "metadata": {
      "needs_background": "light"
     },
     "output_type": "display_data"
    }
   ],
   "source": [
    "\n",
    "data.groupby('device_id_hash').agg({'event_timestamp': 'count'}).hist(range=(0,70), bins=70,figsize=(20, 10))\n",
    "\n",
    "plt.title('Количество событий в среднем на 1 пользователя')\n",
    "\n",
    "plt.xlabel('Количество событий')\n",
    "plt.ylabel('Количество пользователей')\n",
    "plt.show()"
   ]
  },
  {
   "cell_type": "code",
   "execution_count": 14,
   "metadata": {},
   "outputs": [
    {
     "data": {
      "text/html": [
       "<div>\n",
       "<style scoped>\n",
       "    .dataframe tbody tr th:only-of-type {\n",
       "        vertical-align: middle;\n",
       "    }\n",
       "\n",
       "    .dataframe tbody tr th {\n",
       "        vertical-align: top;\n",
       "    }\n",
       "\n",
       "    .dataframe thead th {\n",
       "        text-align: right;\n",
       "    }\n",
       "</style>\n",
       "<table border=\"1\" class=\"dataframe\">\n",
       "  <thead>\n",
       "    <tr style=\"text-align: right;\">\n",
       "      <th></th>\n",
       "      <th>event_timestamp</th>\n",
       "    </tr>\n",
       "  </thead>\n",
       "  <tbody>\n",
       "    <tr>\n",
       "      <th>count</th>\n",
       "      <td>7551.000000</td>\n",
       "    </tr>\n",
       "    <tr>\n",
       "      <th>mean</th>\n",
       "      <td>32.275593</td>\n",
       "    </tr>\n",
       "    <tr>\n",
       "      <th>std</th>\n",
       "      <td>65.154219</td>\n",
       "    </tr>\n",
       "    <tr>\n",
       "      <th>min</th>\n",
       "      <td>1.000000</td>\n",
       "    </tr>\n",
       "    <tr>\n",
       "      <th>25%</th>\n",
       "      <td>9.000000</td>\n",
       "    </tr>\n",
       "    <tr>\n",
       "      <th>50%</th>\n",
       "      <td>20.000000</td>\n",
       "    </tr>\n",
       "    <tr>\n",
       "      <th>75%</th>\n",
       "      <td>37.000000</td>\n",
       "    </tr>\n",
       "    <tr>\n",
       "      <th>max</th>\n",
       "      <td>2307.000000</td>\n",
       "    </tr>\n",
       "  </tbody>\n",
       "</table>\n",
       "</div>"
      ],
      "text/plain": [
       "       event_timestamp\n",
       "count      7551.000000\n",
       "mean         32.275593\n",
       "std          65.154219\n",
       "min           1.000000\n",
       "25%           9.000000\n",
       "50%          20.000000\n",
       "75%          37.000000\n",
       "max        2307.000000"
      ]
     },
     "execution_count": 14,
     "metadata": {},
     "output_type": "execute_result"
    }
   ],
   "source": [
    "data.groupby('device_id_hash').agg({'event_timestamp': 'count'}).describe()"
   ]
  },
  {
   "cell_type": "markdown",
   "metadata": {},
   "source": [
    "На пользователя в среднем приходится 32,2 событий. Медианное значение - 20 событий. "
   ]
  },
  {
   "cell_type": "code",
   "execution_count": 15,
   "metadata": {},
   "outputs": [
    {
     "data": {
      "text/plain": [
       "Timestamp('2019-07-25 00:00:00')"
      ]
     },
     "metadata": {},
     "output_type": "display_data"
    },
    {
     "data": {
      "text/plain": [
       "Timestamp('2019-08-07 00:00:00')"
      ]
     },
     "metadata": {},
     "output_type": "display_data"
    }
   ],
   "source": [
    "#минимальная и максимальная дата\n",
    "display(min(data['date']))\n",
    "display(max(data['date']))"
   ]
  },
  {
   "cell_type": "code",
   "execution_count": 16,
   "metadata": {
    "scrolled": true
   },
   "outputs": [
    {
     "data": {
      "text/html": [
       "<div>\n",
       "<style scoped>\n",
       "    .dataframe tbody tr th:only-of-type {\n",
       "        vertical-align: middle;\n",
       "    }\n",
       "\n",
       "    .dataframe tbody tr th {\n",
       "        vertical-align: top;\n",
       "    }\n",
       "\n",
       "    .dataframe thead th {\n",
       "        text-align: right;\n",
       "    }\n",
       "</style>\n",
       "<table border=\"1\" class=\"dataframe\">\n",
       "  <thead>\n",
       "    <tr style=\"text-align: right;\">\n",
       "      <th></th>\n",
       "      <th>event_name</th>\n",
       "      <th>device_id_hash</th>\n",
       "      <th>event_timestamp</th>\n",
       "      <th>exp_id</th>\n",
       "      <th>date_time</th>\n",
       "      <th>date</th>\n",
       "    </tr>\n",
       "  </thead>\n",
       "  <tbody>\n",
       "    <tr>\n",
       "      <th>0</th>\n",
       "      <td>MainScreenAppear</td>\n",
       "      <td>4575588528974610257</td>\n",
       "      <td>1564029816</td>\n",
       "      <td>246</td>\n",
       "      <td>2019-07-25 04:43:36</td>\n",
       "      <td>2019-07-25</td>\n",
       "    </tr>\n",
       "    <tr>\n",
       "      <th>1</th>\n",
       "      <td>MainScreenAppear</td>\n",
       "      <td>7416695313311560658</td>\n",
       "      <td>1564053102</td>\n",
       "      <td>246</td>\n",
       "      <td>2019-07-25 11:11:42</td>\n",
       "      <td>2019-07-25</td>\n",
       "    </tr>\n",
       "    <tr>\n",
       "      <th>2</th>\n",
       "      <td>PaymentScreenSuccessful</td>\n",
       "      <td>3518123091307005509</td>\n",
       "      <td>1564054127</td>\n",
       "      <td>248</td>\n",
       "      <td>2019-07-25 11:28:47</td>\n",
       "      <td>2019-07-25</td>\n",
       "    </tr>\n",
       "    <tr>\n",
       "      <th>3</th>\n",
       "      <td>CartScreenAppear</td>\n",
       "      <td>3518123091307005509</td>\n",
       "      <td>1564054127</td>\n",
       "      <td>248</td>\n",
       "      <td>2019-07-25 11:28:47</td>\n",
       "      <td>2019-07-25</td>\n",
       "    </tr>\n",
       "    <tr>\n",
       "      <th>4</th>\n",
       "      <td>PaymentScreenSuccessful</td>\n",
       "      <td>6217807653094995999</td>\n",
       "      <td>1564055322</td>\n",
       "      <td>248</td>\n",
       "      <td>2019-07-25 11:48:42</td>\n",
       "      <td>2019-07-25</td>\n",
       "    </tr>\n",
       "    <tr>\n",
       "      <th>...</th>\n",
       "      <td>...</td>\n",
       "      <td>...</td>\n",
       "      <td>...</td>\n",
       "      <td>...</td>\n",
       "      <td>...</td>\n",
       "      <td>...</td>\n",
       "    </tr>\n",
       "    <tr>\n",
       "      <th>244121</th>\n",
       "      <td>MainScreenAppear</td>\n",
       "      <td>4599628364049201812</td>\n",
       "      <td>1565212345</td>\n",
       "      <td>247</td>\n",
       "      <td>2019-08-07 21:12:25</td>\n",
       "      <td>2019-08-07</td>\n",
       "    </tr>\n",
       "    <tr>\n",
       "      <th>244122</th>\n",
       "      <td>MainScreenAppear</td>\n",
       "      <td>5849806612437486590</td>\n",
       "      <td>1565212439</td>\n",
       "      <td>246</td>\n",
       "      <td>2019-08-07 21:13:59</td>\n",
       "      <td>2019-08-07</td>\n",
       "    </tr>\n",
       "    <tr>\n",
       "      <th>244123</th>\n",
       "      <td>MainScreenAppear</td>\n",
       "      <td>5746969938801999050</td>\n",
       "      <td>1565212483</td>\n",
       "      <td>246</td>\n",
       "      <td>2019-08-07 21:14:43</td>\n",
       "      <td>2019-08-07</td>\n",
       "    </tr>\n",
       "    <tr>\n",
       "      <th>244124</th>\n",
       "      <td>MainScreenAppear</td>\n",
       "      <td>5746969938801999050</td>\n",
       "      <td>1565212498</td>\n",
       "      <td>246</td>\n",
       "      <td>2019-08-07 21:14:58</td>\n",
       "      <td>2019-08-07</td>\n",
       "    </tr>\n",
       "    <tr>\n",
       "      <th>244125</th>\n",
       "      <td>OffersScreenAppear</td>\n",
       "      <td>5746969938801999050</td>\n",
       "      <td>1565212517</td>\n",
       "      <td>246</td>\n",
       "      <td>2019-08-07 21:15:17</td>\n",
       "      <td>2019-08-07</td>\n",
       "    </tr>\n",
       "  </tbody>\n",
       "</table>\n",
       "<p>243713 rows × 6 columns</p>\n",
       "</div>"
      ],
      "text/plain": [
       "                     event_name       device_id_hash  event_timestamp  exp_id  \\\n",
       "0              MainScreenAppear  4575588528974610257       1564029816     246   \n",
       "1              MainScreenAppear  7416695313311560658       1564053102     246   \n",
       "2       PaymentScreenSuccessful  3518123091307005509       1564054127     248   \n",
       "3              CartScreenAppear  3518123091307005509       1564054127     248   \n",
       "4       PaymentScreenSuccessful  6217807653094995999       1564055322     248   \n",
       "...                         ...                  ...              ...     ...   \n",
       "244121         MainScreenAppear  4599628364049201812       1565212345     247   \n",
       "244122         MainScreenAppear  5849806612437486590       1565212439     246   \n",
       "244123         MainScreenAppear  5746969938801999050       1565212483     246   \n",
       "244124         MainScreenAppear  5746969938801999050       1565212498     246   \n",
       "244125       OffersScreenAppear  5746969938801999050       1565212517     246   \n",
       "\n",
       "                 date_time       date  \n",
       "0      2019-07-25 04:43:36 2019-07-25  \n",
       "1      2019-07-25 11:11:42 2019-07-25  \n",
       "2      2019-07-25 11:28:47 2019-07-25  \n",
       "3      2019-07-25 11:28:47 2019-07-25  \n",
       "4      2019-07-25 11:48:42 2019-07-25  \n",
       "...                    ...        ...  \n",
       "244121 2019-08-07 21:12:25 2019-08-07  \n",
       "244122 2019-08-07 21:13:59 2019-08-07  \n",
       "244123 2019-08-07 21:14:43 2019-08-07  \n",
       "244124 2019-08-07 21:14:58 2019-08-07  \n",
       "244125 2019-08-07 21:15:17 2019-08-07  \n",
       "\n",
       "[243713 rows x 6 columns]"
      ]
     },
     "metadata": {},
     "output_type": "display_data"
    }
   ],
   "source": [
    "display(data)"
   ]
  },
  {
   "cell_type": "code",
   "execution_count": 17,
   "metadata": {},
   "outputs": [
    {
     "name": "stdout",
     "output_type": "stream",
     "text": [
      "<class 'pandas.core.frame.DataFrame'>\n",
      "Int64Index: 243713 entries, 0 to 244125\n",
      "Data columns (total 6 columns):\n",
      " #   Column           Non-Null Count   Dtype         \n",
      "---  ------           --------------   -----         \n",
      " 0   event_name       243713 non-null  object        \n",
      " 1   device_id_hash   243713 non-null  int64         \n",
      " 2   event_timestamp  243713 non-null  int64         \n",
      " 3   exp_id           243713 non-null  int64         \n",
      " 4   date_time        243713 non-null  datetime64[ns]\n",
      " 5   date             243713 non-null  datetime64[ns]\n",
      "dtypes: datetime64[ns](2), int64(3), object(1)\n",
      "memory usage: 13.0+ MB\n"
     ]
    }
   ],
   "source": [
    "data.info()"
   ]
  },
  {
   "cell_type": "code",
   "execution_count": 18,
   "metadata": {},
   "outputs": [
    {
     "data": {
      "image/png": "[encoded data removed]",
      "text/plain": [
       "<Figure size 1080x576 with 1 Axes>"
      ]
     },
     "metadata": {
      "needs_background": "light"
     },
     "output_type": "display_data"
    }
   ],
   "source": [
    "ks=data.groupby('date')['event_name'].count()\n",
    "plt.figure(figsize=(15,8))\n",
    "sns.lineplot(data=ks)\n",
    "\n",
    "plt.ylabel('Количество событий')\n",
    "plt.xlabel('Дата')\n",
    "plt.title('линейный график по дате и времени');"
   ]
  },
  {
   "cell_type": "markdown",
   "metadata": {},
   "source": [
    "Данных за июль не так много, абсолютная часть данных приходится на август, есть смысл эти данные удалить."
   ]
  },
  {
   "cell_type": "code",
   "execution_count": 19,
   "metadata": {},
   "outputs": [
    {
     "name": "stdout",
     "output_type": "stream",
     "text": [
      "<class 'pandas.core.frame.DataFrame'>\n",
      "Int64Index: 240887 entries, 2828 to 244125\n",
      "Data columns (total 6 columns):\n",
      " #   Column           Non-Null Count   Dtype         \n",
      "---  ------           --------------   -----         \n",
      " 0   event_name       240887 non-null  object        \n",
      " 1   device_id_hash   240887 non-null  int64         \n",
      " 2   event_timestamp  240887 non-null  int64         \n",
      " 3   exp_id           240887 non-null  int64         \n",
      " 4   date_time        240887 non-null  datetime64[ns]\n",
      " 5   date             240887 non-null  datetime64[ns]\n",
      "dtypes: datetime64[ns](2), int64(3), object(1)\n",
      "memory usage: 12.9+ MB\n"
     ]
    }
   ],
   "source": [
    "data=data.query('date>= \"2019-08-01\"')\n",
    "data.info()"
   ]
  },
  {
   "cell_type": "code",
   "execution_count": 20,
   "metadata": {},
   "outputs": [
    {
     "name": "stdout",
     "output_type": "stream",
     "text": [
      "Удалено : 2826\n",
      "Удалено в процентах : 1.16\n"
     ]
    }
   ],
   "source": [
    "new=data['event_name'].count()\n",
    "dif=old-new\n",
    "\n",
    "print(\"Удалено :\",dif)\n",
    "check=((dif/old)*100).round(2)\n",
    "print(\"Удалено в процентах :\",check)\n"
   ]
  },
  {
   "cell_type": "markdown",
   "metadata": {},
   "source": [
    "Всего было удалено 2826 строк что меньше порога удаления данных - 5%"
   ]
  },
  {
   "cell_type": "code",
   "execution_count": 21,
   "metadata": {},
   "outputs": [
    {
     "data": {
      "text/plain": [
       "248    84563\n",
       "246    79302\n",
       "247    77022\n",
       "Name: exp_id, dtype: int64"
      ]
     },
     "execution_count": 21,
     "metadata": {},
     "output_type": "execute_result"
    }
   ],
   "source": [
    "data['exp_id'].value_counts()"
   ]
  },
  {
   "cell_type": "markdown",
   "metadata": {},
   "source": [
    "В таблице есть данные по всем 3 экспериментам"
   ]
  },
  {
   "cell_type": "markdown",
   "metadata": {},
   "source": [
    "1) Всего в таблице, на данный момент, 244126 событий, которые разделены на 5 типов: MainScreenAppear, PaymentScreenSuccessful,CartScreenAppear,OffersScreenAppear и Tutorial. \n",
    "2) В экспериментах учатвовало всего 7551 человек\n",
    "3) Минимальная дата: 2019-07-25\n",
    "   Максимальная дата: 2019-08-07\n",
    "\n",
    "3) Был построен график по датам и отброшены данные за июль месяц, так как за этот период данные практичеки отсутствуют"
   ]
  },
  {
   "cell_type": "markdown",
   "metadata": {},
   "source": [
    "## Изучение воронки событий"
   ]
  },
  {
   "cell_type": "code",
   "execution_count": 22,
   "metadata": {},
   "outputs": [
    {
     "data": {
      "text/plain": [
       "MainScreenAppear           117328\n",
       "OffersScreenAppear          46333\n",
       "CartScreenAppear            42303\n",
       "PaymentScreenSuccessful     33918\n",
       "Tutorial                     1005\n",
       "Name: event_name, dtype: int64"
      ]
     },
     "execution_count": 22,
     "metadata": {},
     "output_type": "execute_result"
    }
   ],
   "source": [
    "data['event_name'].value_counts()"
   ]
  },
  {
   "cell_type": "markdown",
   "metadata": {},
   "source": [
    "В логах перечислено 5 событий. Чаще всего пользователи заходят на главную страницу (MainScreenAppear) - 117 328 событий. Затем на экран с предложениями, или каталог (OffersScreenAppear) - 46 333, в корзину (CartScreenAppear) - 42 303, успешно оплачивают (PaymentScreenSuccessful) в 33 918 событиях. Меньше всего пользователи смотрят справочник (Tutorial) - 1 005."
   ]
  },
  {
   "cell_type": "code",
   "execution_count": 23,
   "metadata": {
    "scrolled": true
   },
   "outputs": [
    {
     "data": {
      "text/html": [
       "<div>\n",
       "<style scoped>\n",
       "    .dataframe tbody tr th:only-of-type {\n",
       "        vertical-align: middle;\n",
       "    }\n",
       "\n",
       "    .dataframe tbody tr th {\n",
       "        vertical-align: top;\n",
       "    }\n",
       "\n",
       "    .dataframe thead th {\n",
       "        text-align: right;\n",
       "    }\n",
       "</style>\n",
       "<table border=\"1\" class=\"dataframe\">\n",
       "  <thead>\n",
       "    <tr style=\"text-align: right;\">\n",
       "      <th></th>\n",
       "      <th>device_id_hash</th>\n",
       "      <th>share</th>\n",
       "    </tr>\n",
       "    <tr>\n",
       "      <th>event_name</th>\n",
       "      <th></th>\n",
       "      <th></th>\n",
       "    </tr>\n",
       "  </thead>\n",
       "  <tbody>\n",
       "    <tr>\n",
       "      <th>MainScreenAppear</th>\n",
       "      <td>7419</td>\n",
       "      <td>98.473586</td>\n",
       "    </tr>\n",
       "    <tr>\n",
       "      <th>OffersScreenAppear</th>\n",
       "      <td>4593</td>\n",
       "      <td>60.963632</td>\n",
       "    </tr>\n",
       "    <tr>\n",
       "      <th>CartScreenAppear</th>\n",
       "      <td>3734</td>\n",
       "      <td>49.561986</td>\n",
       "    </tr>\n",
       "    <tr>\n",
       "      <th>PaymentScreenSuccessful</th>\n",
       "      <td>3539</td>\n",
       "      <td>46.973719</td>\n",
       "    </tr>\n",
       "    <tr>\n",
       "      <th>Tutorial</th>\n",
       "      <td>840</td>\n",
       "      <td>11.149456</td>\n",
       "    </tr>\n",
       "  </tbody>\n",
       "</table>\n",
       "</div>"
      ],
      "text/plain": [
       "                         device_id_hash      share\n",
       "event_name                                        \n",
       "MainScreenAppear                   7419  98.473586\n",
       "OffersScreenAppear                 4593  60.963632\n",
       "CartScreenAppear                   3734  49.561986\n",
       "PaymentScreenSuccessful            3539  46.973719\n",
       "Tutorial                            840  11.149456"
      ]
     },
     "metadata": {},
     "output_type": "display_data"
    }
   ],
   "source": [
    "users = data.groupby('event_name').agg({'device_id_hash': 'nunique'}).sort_values(by='device_id_hash', ascending=False)\n",
    "users['share'] = users / data.device_id_hash.nunique() * 100\n",
    "display(users)\n"
   ]
  },
  {
   "cell_type": "markdown",
   "metadata": {},
   "source": [
    "7 419, или 98,47% от всех зарегистрированных пользователей зашли на главный экран.\n",
    "\n",
    "4 593, или 60,96% - в каталог.\n",
    "\n",
    "3 744, или 49,56% - добавили товар в корзину.\n",
    "\n",
    "3 539, или 46,97% - купили товар.\n",
    "\n",
    "840, или 11,15% прочитали справочную информацию."
   ]
  },
  {
   "cell_type": "markdown",
   "metadata": {},
   "source": [
    "В целом видно что основная последовательность действий пользваотеля такова: Пользователь заходит на главную страницу, далее в каталог товаров, добавляет нужный товар в корзину, покупает его."
   ]
  },
  {
   "cell_type": "code",
   "execution_count": 24,
   "metadata": {},
   "outputs": [
    {
     "data": {
      "text/plain": [
       "MainScreenAppear           6305\n",
       "Tutorial                    783\n",
       "OffersScreenAppear          288\n",
       "PaymentScreenSuccessful      96\n",
       "CartScreenAppear             62\n",
       "Name: event_name, dtype: int64"
      ]
     },
     "execution_count": 24,
     "metadata": {},
     "output_type": "execute_result"
    }
   ],
   "source": [
    "first_step =  data.sort_values(by=['device_id_hash', 'date_time']).groupby(['device_id_hash']).agg({'date_time': 'first', 'event_name': 'first'}).reset_index()\n",
    "first_step.event_name.value_counts()"
   ]
  },
  {
   "cell_type": "markdown",
   "metadata": {},
   "source": [
    "Однако иногда эта цепочка рушится так как некоторе пользователи пропускают главную страницу и сразу, например, попадают на страницу товара, возможно по рекламной солсылке. Это касается справочника, в основном в него заходят на первом этапе, но большинство пользователей игнорируют эту страницу, по этой причине  данное событие будет исключено из дальнейшего исследования."
   ]
  },
  {
   "cell_type": "code",
   "execution_count": 25,
   "metadata": {},
   "outputs": [
    {
     "data": {
      "text/plain": [
       "7534"
      ]
     },
     "execution_count": 25,
     "metadata": {},
     "output_type": "execute_result"
    }
   ],
   "source": [
    "data.device_id_hash.nunique()"
   ]
  },
  {
   "cell_type": "code",
   "execution_count": 26,
   "metadata": {},
   "outputs": [
    {
     "data": {
      "text/html": [
       "<div>\n",
       "<style scoped>\n",
       "    .dataframe tbody tr th:only-of-type {\n",
       "        vertical-align: middle;\n",
       "    }\n",
       "\n",
       "    .dataframe tbody tr th {\n",
       "        vertical-align: top;\n",
       "    }\n",
       "\n",
       "    .dataframe thead th {\n",
       "        text-align: right;\n",
       "    }\n",
       "</style>\n",
       "<table border=\"1\" class=\"dataframe\">\n",
       "  <thead>\n",
       "    <tr style=\"text-align: right;\">\n",
       "      <th></th>\n",
       "      <th>device_id_hash</th>\n",
       "      <th>share</th>\n",
       "      <th>share2</th>\n",
       "      <th>share1</th>\n",
       "    </tr>\n",
       "    <tr>\n",
       "      <th>event_name</th>\n",
       "      <th></th>\n",
       "      <th></th>\n",
       "      <th></th>\n",
       "      <th></th>\n",
       "    </tr>\n",
       "  </thead>\n",
       "  <tbody>\n",
       "    <tr>\n",
       "      <th>MainScreenAppear</th>\n",
       "      <td>7419</td>\n",
       "      <td>98.473586</td>\n",
       "      <td>0</td>\n",
       "      <td>1.00</td>\n",
       "    </tr>\n",
       "    <tr>\n",
       "      <th>OffersScreenAppear</th>\n",
       "      <td>4593</td>\n",
       "      <td>60.963632</td>\n",
       "      <td>7419</td>\n",
       "      <td>0.62</td>\n",
       "    </tr>\n",
       "    <tr>\n",
       "      <th>CartScreenAppear</th>\n",
       "      <td>3734</td>\n",
       "      <td>49.561986</td>\n",
       "      <td>4593</td>\n",
       "      <td>0.81</td>\n",
       "    </tr>\n",
       "    <tr>\n",
       "      <th>PaymentScreenSuccessful</th>\n",
       "      <td>3539</td>\n",
       "      <td>46.973719</td>\n",
       "      <td>3734</td>\n",
       "      <td>0.95</td>\n",
       "    </tr>\n",
       "    <tr>\n",
       "      <th>Tutorial</th>\n",
       "      <td>840</td>\n",
       "      <td>11.149456</td>\n",
       "      <td>3539</td>\n",
       "      <td>0.24</td>\n",
       "    </tr>\n",
       "  </tbody>\n",
       "</table>\n",
       "</div>"
      ],
      "text/plain": [
       "                         device_id_hash      share  share2  share1\n",
       "event_name                                                        \n",
       "MainScreenAppear                   7419  98.473586       0    1.00\n",
       "OffersScreenAppear                 4593  60.963632    7419    0.62\n",
       "CartScreenAppear                   3734  49.561986    4593    0.81\n",
       "PaymentScreenSuccessful            3539  46.973719    3734    0.95\n",
       "Tutorial                            840  11.149456    3539    0.24"
      ]
     },
     "metadata": {},
     "output_type": "display_data"
    }
   ],
   "source": [
    "\n",
    "users['share2']=users.shift(1,fill_value=0)['device_id_hash']\n",
    "users['share1']=(users['device_id_hash']/users.shift(1,fill_value=0)['device_id_hash']).round(2)\n",
    "users.loc['MainScreenAppear', 'share1'] = 1\n",
    "\n",
    "\n",
    "display(users)\n"
   ]
  },
  {
   "cell_type": "markdown",
   "metadata": {},
   "source": [
    "Самые большие потери происходят на этапе перехода из главной страницы на страницу каталога - 38% не доходят до второго этапа. То же касается Tutorial."
   ]
  },
  {
   "cell_type": "code",
   "execution_count": 27,
   "metadata": {},
   "outputs": [
    {
     "name": "stdout",
     "output_type": "stream",
     "text": [
      "0.48\n"
     ]
    }
   ],
   "source": [
    "share=(users.loc['PaymentScreenSuccessful', 'device_id_hash']/users.loc['MainScreenAppear', 'device_id_hash']).round(2)\n",
    "\n",
    "print(share)"
   ]
  },
  {
   "cell_type": "markdown",
   "metadata": {},
   "source": [
    "От первого события до оплаты доходят 48% пользователей."
   ]
  },
  {
   "cell_type": "markdown",
   "metadata": {},
   "source": [
    "1) В логах перечислено 5 событий. Чаще всего пользователи заходят на главную страницу (MainScreenAppear) - 117 431 событий. Затем на экран с предложениями, или каталог (OffersScreenAppear) - 46 350, в корзину (CartScreenAppear) - 42 365, успешно оплачивают (PaymentScreenSuccessful) в 33 113 событиях. Меньше всего пользователи смотрят справочник (Tutorial) - 1 039.\n",
    "2) В целом видно что основная последовательность действий пользваотеля такова: Пользователь заходит на главную страницу, далее в каталог товаров, добавляет нужный товар в корзину, покупает его. Однако иногда эта цепочка рушится так как некоторе пользователи пропускают главную страницу и сразу, например, попадают на страницу товара, возможно по рекламной ссылке. Это касается справочника, в основном в него заходят на первом этапе, но большинство пользователей игнорируют эту страницу, по этой причине  данное событие будет исключено из дальнейшего исследования.\n",
    "3) Самые большие потери происходят на этапе перехода из главной страницы на страницу каталога - 38% не доходят до второго этапа. То же касается Tutorial. От первого события до оплаты доходят 48% пользователей."
   ]
  },
  {
   "cell_type": "markdown",
   "metadata": {},
   "source": [
    "## Изучение результатов эксперимента"
   ]
  },
  {
   "cell_type": "code",
   "execution_count": 28,
   "metadata": {},
   "outputs": [],
   "source": [
    "data['exp_id'].value_counts()\n",
    "data=data.query('event_name != \"Tutorial\"')\n"
   ]
  },
  {
   "cell_type": "code",
   "execution_count": 29,
   "metadata": {},
   "outputs": [
    {
     "data": {
      "text/html": [
       "<div>\n",
       "<style scoped>\n",
       "    .dataframe tbody tr th:only-of-type {\n",
       "        vertical-align: middle;\n",
       "    }\n",
       "\n",
       "    .dataframe tbody tr th {\n",
       "        vertical-align: top;\n",
       "    }\n",
       "\n",
       "    .dataframe thead th {\n",
       "        text-align: right;\n",
       "    }\n",
       "</style>\n",
       "<table border=\"1\" class=\"dataframe\">\n",
       "  <thead>\n",
       "    <tr style=\"text-align: right;\">\n",
       "      <th></th>\n",
       "      <th>device_id_hash</th>\n",
       "    </tr>\n",
       "    <tr>\n",
       "      <th>exp_id</th>\n",
       "      <th></th>\n",
       "    </tr>\n",
       "  </thead>\n",
       "  <tbody>\n",
       "    <tr>\n",
       "      <th>246</th>\n",
       "      <td>2483</td>\n",
       "    </tr>\n",
       "    <tr>\n",
       "      <th>247</th>\n",
       "      <td>2512</td>\n",
       "    </tr>\n",
       "    <tr>\n",
       "      <th>248</th>\n",
       "      <td>2535</td>\n",
       "    </tr>\n",
       "  </tbody>\n",
       "</table>\n",
       "</div>"
      ],
      "text/plain": [
       "        device_id_hash\n",
       "exp_id                \n",
       "246               2483\n",
       "247               2512\n",
       "248               2535"
      ]
     },
     "metadata": {},
     "output_type": "display_data"
    }
   ],
   "source": [
    "sem=data.groupby('exp_id').agg({'device_id_hash': 'nunique'})\n",
    "display(sem)"
   ]
  },
  {
   "cell_type": "markdown",
   "metadata": {},
   "source": [
    "В группе 246 - 2483 пользователя\n",
    "В группе 247 - 2512 пользователя\n",
    "В группе 247 - 2535 пользователей"
   ]
  },
  {
   "cell_type": "markdown",
   "metadata": {},
   "source": [
    "### Проверка статистических критериев на наличие разницы между выборками 246 и 247."
   ]
  },
  {
   "cell_type": "code",
   "execution_count": 30,
   "metadata": {},
   "outputs": [
    {
     "data": {
      "text/html": [
       "<div>\n",
       "<style scoped>\n",
       "    .dataframe tbody tr th:only-of-type {\n",
       "        vertical-align: middle;\n",
       "    }\n",
       "\n",
       "    .dataframe tbody tr th {\n",
       "        vertical-align: top;\n",
       "    }\n",
       "\n",
       "    .dataframe thead th {\n",
       "        text-align: right;\n",
       "    }\n",
       "</style>\n",
       "<table border=\"1\" class=\"dataframe\">\n",
       "  <thead>\n",
       "    <tr style=\"text-align: right;\">\n",
       "      <th></th>\n",
       "      <th>events_246</th>\n",
       "      <th>events_247</th>\n",
       "      <th>users_246</th>\n",
       "      <th>users_247</th>\n",
       "      <th>events_246_247</th>\n",
       "      <th>users_246_247</th>\n",
       "    </tr>\n",
       "    <tr>\n",
       "      <th>event_name</th>\n",
       "      <th></th>\n",
       "      <th></th>\n",
       "      <th></th>\n",
       "      <th></th>\n",
       "      <th></th>\n",
       "      <th></th>\n",
       "    </tr>\n",
       "  </thead>\n",
       "  <tbody>\n",
       "    <tr>\n",
       "      <th>MainScreenAppear</th>\n",
       "      <td>37676</td>\n",
       "      <td>39090</td>\n",
       "      <td>2450</td>\n",
       "      <td>2476</td>\n",
       "      <td>76766</td>\n",
       "      <td>4926</td>\n",
       "    </tr>\n",
       "    <tr>\n",
       "      <th>OffersScreenAppear</th>\n",
       "      <td>14767</td>\n",
       "      <td>15179</td>\n",
       "      <td>1542</td>\n",
       "      <td>1520</td>\n",
       "      <td>29946</td>\n",
       "      <td>3062</td>\n",
       "    </tr>\n",
       "    <tr>\n",
       "      <th>CartScreenAppear</th>\n",
       "      <td>14690</td>\n",
       "      <td>12434</td>\n",
       "      <td>1266</td>\n",
       "      <td>1238</td>\n",
       "      <td>27124</td>\n",
       "      <td>2504</td>\n",
       "    </tr>\n",
       "    <tr>\n",
       "      <th>PaymentScreenSuccessful</th>\n",
       "      <td>11852</td>\n",
       "      <td>9981</td>\n",
       "      <td>1200</td>\n",
       "      <td>1158</td>\n",
       "      <td>21833</td>\n",
       "      <td>2358</td>\n",
       "    </tr>\n",
       "  </tbody>\n",
       "</table>\n",
       "</div>"
      ],
      "text/plain": [
       "                         events_246  events_247  users_246  users_247  \\\n",
       "event_name                                                              \n",
       "MainScreenAppear              37676       39090       2450       2476   \n",
       "OffersScreenAppear            14767       15179       1542       1520   \n",
       "CartScreenAppear              14690       12434       1266       1238   \n",
       "PaymentScreenSuccessful       11852        9981       1200       1158   \n",
       "\n",
       "                         events_246_247  users_246_247  \n",
       "event_name                                              \n",
       "MainScreenAppear                  76766           4926  \n",
       "OffersScreenAppear                29946           3062  \n",
       "CartScreenAppear                  27124           2504  \n",
       "PaymentScreenSuccessful           21833           2358  "
      ]
     },
     "execution_count": 30,
     "metadata": {},
     "output_type": "execute_result"
    }
   ],
   "source": [
    "events_and_users = data[data.exp_id != 248].pivot_table(index=data.event_name, columns=data.exp_id, aggfunc={'count', 'nunique'})['device_id_hash']\n",
    "events_and_users.columns = ['events_246', 'events_247', 'users_246', 'users_247']\n",
    "events_and_users['events_246_247'] = events_and_users.events_246 + events_and_users.events_247\n",
    "events_and_users['users_246_247'] = events_and_users.users_246 + events_and_users.users_247\n",
    "events_and_users.sort_values(by='events_246', ascending=False)"
   ]
  },
  {
   "cell_type": "markdown",
   "metadata": {},
   "source": [
    " Выделяющиеся отличия по пользователям между группами отсутствуют."
   ]
  },
  {
   "cell_type": "markdown",
   "metadata": {},
   "source": [
    "### Функция для z-теста"
   ]
  },
  {
   "cell_type": "markdown",
   "metadata": {},
   "source": [
    "Нулевая гипотеза: доли по событиям между группами одинаковы.\n",
    "\n",
    "Альтернативная гипотеза: доли по событиям между группами различаются."
   ]
  },
  {
   "cell_type": "markdown",
   "metadata": {},
   "source": [
    "Напишем функцию для z-теста"
   ]
  },
  {
   "cell_type": "code",
   "execution_count": 31,
   "metadata": {},
   "outputs": [],
   "source": [
    "def z_test(n1, x1, n2, x2):\n",
    "    p1=x1/n1\n",
    "    p2=x2/n2\n",
    "    p=(x1+x2)/(n1+n2)\n",
    "    SE=np.sqrt(p*(1-p)*(1/n1+1/n2))\n",
    "    z_stat=(p1-p2)/SE\n",
    "    p=norm.cdf(np.abs(z_stat))\n",
    "    return 2 *(1-p)"
   ]
  },
  {
   "cell_type": "markdown",
   "metadata": {},
   "source": [
    "### Сравнение групп при уровне значимости 5%"
   ]
  },
  {
   "cell_type": "markdown",
   "metadata": {},
   "source": [
    "#### Сравнение контрольной группы 246 с группой 247."
   ]
  },
  {
   "cell_type": "code",
   "execution_count": 32,
   "metadata": {},
   "outputs": [],
   "source": [
    "# критический уровень статистической значимости\n",
    "alpha = 0.05  "
   ]
  },
  {
   "cell_type": "code",
   "execution_count": 33,
   "metadata": {
    "scrolled": true
   },
   "outputs": [
    {
     "data": {
      "text/html": [
       "<div>\n",
       "<style scoped>\n",
       "    .dataframe tbody tr th:only-of-type {\n",
       "        vertical-align: middle;\n",
       "    }\n",
       "\n",
       "    .dataframe tbody tr th {\n",
       "        vertical-align: top;\n",
       "    }\n",
       "\n",
       "    .dataframe thead th {\n",
       "        text-align: right;\n",
       "    }\n",
       "</style>\n",
       "<table border=\"1\" class=\"dataframe\">\n",
       "  <thead>\n",
       "    <tr style=\"text-align: right;\">\n",
       "      <th>exp_id</th>\n",
       "      <th>A</th>\n",
       "      <th>B</th>\n",
       "      <th>alpha</th>\n",
       "      <th>p-value</th>\n",
       "    </tr>\n",
       "    <tr>\n",
       "      <th>event_name</th>\n",
       "      <th></th>\n",
       "      <th></th>\n",
       "      <th></th>\n",
       "      <th></th>\n",
       "    </tr>\n",
       "  </thead>\n",
       "  <tbody>\n",
       "    <tr>\n",
       "      <th>CartScreenAppear</th>\n",
       "      <td>1266</td>\n",
       "      <td>1238</td>\n",
       "      <td>0.00625</td>\n",
       "      <td>0.228676</td>\n",
       "    </tr>\n",
       "    <tr>\n",
       "      <th>MainScreenAppear</th>\n",
       "      <td>2450</td>\n",
       "      <td>2476</td>\n",
       "      <td>0.00625</td>\n",
       "      <td>0.752670</td>\n",
       "    </tr>\n",
       "    <tr>\n",
       "      <th>OffersScreenAppear</th>\n",
       "      <td>1542</td>\n",
       "      <td>1520</td>\n",
       "      <td>0.00625</td>\n",
       "      <td>0.247861</td>\n",
       "    </tr>\n",
       "    <tr>\n",
       "      <th>PaymentScreenSuccessful</th>\n",
       "      <td>1200</td>\n",
       "      <td>1158</td>\n",
       "      <td>0.00625</td>\n",
       "      <td>0.114466</td>\n",
       "    </tr>\n",
       "  </tbody>\n",
       "</table>\n",
       "</div>"
      ],
      "text/plain": [
       "exp_id                      A     B    alpha   p-value\n",
       "event_name                                            \n",
       "CartScreenAppear         1266  1238  0.00625  0.228676\n",
       "MainScreenAppear         2450  2476  0.00625  0.752670\n",
       "OffersScreenAppear       1542  1520  0.00625  0.247861\n",
       "PaymentScreenSuccessful  1200  1158  0.00625  0.114466"
      ]
     },
     "execution_count": 33,
     "metadata": {},
     "output_type": "execute_result"
    }
   ],
   "source": [
    "events=data.copy()\n",
    "events['exp_id']=events['exp_id'].astype(str).str.replace('246','A').str.replace('247','B')\n",
    "#display(events)\n",
    "totals=events.groupby('exp_id').agg({'device_id_hash':'nunique'})['device_id_hash']\n",
    "#display(totals)\n",
    "counts=events.pivot_table(index='event_name', columns='exp_id', values='device_id_hash', aggfunc='nunique').drop(columns = ['248'],axis = 1)\n",
    "counts['alpha']=0.05/(counts.shape[0]*2)\n",
    "counts['p-value']=counts.apply(lambda x:z_test(totals['A'], x['A'], totals['B'], x['B']), axis=1)     \n",
    "counts\n",
    "            "
   ]
  },
  {
   "cell_type": "code",
   "execution_count": 34,
   "metadata": {},
   "outputs": [
    {
     "data": {
      "text/plain": [
       "exp_id\n",
       "248    2535\n",
       "A      2483\n",
       "B      2512\n",
       "Name: device_id_hash, dtype: int64"
      ]
     },
     "execution_count": 34,
     "metadata": {},
     "output_type": "execute_result"
    }
   ],
   "source": [
    "totals=events.groupby('exp_id').agg({'device_id_hash':'nunique'})['device_id_hash']\n",
    "totals"
   ]
  },
  {
   "cell_type": "markdown",
   "metadata": {},
   "source": [
    "Разницы между двумя группами не обнаружено по пользователям всех четырех шагов."
   ]
  },
  {
   "cell_type": "markdown",
   "metadata": {},
   "source": [
    "#### Сравнение контрольной группы 246 с экспериментальной."
   ]
  },
  {
   "cell_type": "code",
   "execution_count": 35,
   "metadata": {
    "scrolled": true
   },
   "outputs": [
    {
     "data": {
      "text/html": [
       "<div>\n",
       "<style scoped>\n",
       "    .dataframe tbody tr th:only-of-type {\n",
       "        vertical-align: middle;\n",
       "    }\n",
       "\n",
       "    .dataframe tbody tr th {\n",
       "        vertical-align: top;\n",
       "    }\n",
       "\n",
       "    .dataframe thead th {\n",
       "        text-align: right;\n",
       "    }\n",
       "</style>\n",
       "<table border=\"1\" class=\"dataframe\">\n",
       "  <thead>\n",
       "    <tr style=\"text-align: right;\">\n",
       "      <th>exp_id</th>\n",
       "      <th>A</th>\n",
       "      <th>B</th>\n",
       "      <th>alpha</th>\n",
       "      <th>p-value</th>\n",
       "    </tr>\n",
       "    <tr>\n",
       "      <th>event_name</th>\n",
       "      <th></th>\n",
       "      <th></th>\n",
       "      <th></th>\n",
       "      <th></th>\n",
       "    </tr>\n",
       "  </thead>\n",
       "  <tbody>\n",
       "    <tr>\n",
       "      <th>CartScreenAppear</th>\n",
       "      <td>1266</td>\n",
       "      <td>1230</td>\n",
       "      <td>0.00625</td>\n",
       "      <td>0.080674</td>\n",
       "    </tr>\n",
       "    <tr>\n",
       "      <th>MainScreenAppear</th>\n",
       "      <td>2450</td>\n",
       "      <td>2493</td>\n",
       "      <td>0.00625</td>\n",
       "      <td>0.338711</td>\n",
       "    </tr>\n",
       "    <tr>\n",
       "      <th>OffersScreenAppear</th>\n",
       "      <td>1542</td>\n",
       "      <td>1531</td>\n",
       "      <td>0.00625</td>\n",
       "      <td>0.214425</td>\n",
       "    </tr>\n",
       "    <tr>\n",
       "      <th>PaymentScreenSuccessful</th>\n",
       "      <td>1200</td>\n",
       "      <td>1181</td>\n",
       "      <td>0.00625</td>\n",
       "      <td>0.216930</td>\n",
       "    </tr>\n",
       "  </tbody>\n",
       "</table>\n",
       "</div>"
      ],
      "text/plain": [
       "exp_id                      A     B    alpha   p-value\n",
       "event_name                                            \n",
       "CartScreenAppear         1266  1230  0.00625  0.080674\n",
       "MainScreenAppear         2450  2493  0.00625  0.338711\n",
       "OffersScreenAppear       1542  1531  0.00625  0.214425\n",
       "PaymentScreenSuccessful  1200  1181  0.00625  0.216930"
      ]
     },
     "execution_count": 35,
     "metadata": {},
     "output_type": "execute_result"
    }
   ],
   "source": [
    "events=data.copy()\n",
    "events['exp_id']=events['exp_id'].astype(str).str.replace('246','A').str.replace('248','B')\n",
    "#display(events)\n",
    "totals=events.groupby('exp_id').agg({'device_id_hash':'nunique'})['device_id_hash']\n",
    "#display(totals)\n",
    "counts=events.pivot_table(index='event_name', columns='exp_id', values='device_id_hash', aggfunc='nunique').drop(columns = ['247'],axis = 1)\n",
    "counts['alpha']=0.05/(counts.shape[0]*2)\n",
    "counts['p-value']=counts.apply(lambda x:z_test(totals['A'], x['A'], totals['B'], x['B']), axis=1)     \n",
    "counts"
   ]
  },
  {
   "cell_type": "markdown",
   "metadata": {},
   "source": [
    "Разницы между двумя группами не обнаружено по пользователям всех четырех шагов."
   ]
  },
  {
   "cell_type": "markdown",
   "metadata": {},
   "source": [
    "#### Сравнение контрольной группы 247 с экспериментальной."
   ]
  },
  {
   "cell_type": "code",
   "execution_count": 36,
   "metadata": {},
   "outputs": [
    {
     "data": {
      "text/html": [
       "<div>\n",
       "<style scoped>\n",
       "    .dataframe tbody tr th:only-of-type {\n",
       "        vertical-align: middle;\n",
       "    }\n",
       "\n",
       "    .dataframe tbody tr th {\n",
       "        vertical-align: top;\n",
       "    }\n",
       "\n",
       "    .dataframe thead th {\n",
       "        text-align: right;\n",
       "    }\n",
       "</style>\n",
       "<table border=\"1\" class=\"dataframe\">\n",
       "  <thead>\n",
       "    <tr style=\"text-align: right;\">\n",
       "      <th>exp_id</th>\n",
       "      <th>A</th>\n",
       "      <th>B</th>\n",
       "      <th>alpha</th>\n",
       "      <th>p-value</th>\n",
       "    </tr>\n",
       "    <tr>\n",
       "      <th>event_name</th>\n",
       "      <th></th>\n",
       "      <th></th>\n",
       "      <th></th>\n",
       "      <th></th>\n",
       "    </tr>\n",
       "  </thead>\n",
       "  <tbody>\n",
       "    <tr>\n",
       "      <th>CartScreenAppear</th>\n",
       "      <td>1238</td>\n",
       "      <td>1230</td>\n",
       "      <td>0.00625</td>\n",
       "      <td>0.587828</td>\n",
       "    </tr>\n",
       "    <tr>\n",
       "      <th>MainScreenAppear</th>\n",
       "      <td>2476</td>\n",
       "      <td>2493</td>\n",
       "      <td>0.00625</td>\n",
       "      <td>0.519496</td>\n",
       "    </tr>\n",
       "    <tr>\n",
       "      <th>OffersScreenAppear</th>\n",
       "      <td>1520</td>\n",
       "      <td>1531</td>\n",
       "      <td>0.00625</td>\n",
       "      <td>0.933375</td>\n",
       "    </tr>\n",
       "    <tr>\n",
       "      <th>PaymentScreenSuccessful</th>\n",
       "      <td>1158</td>\n",
       "      <td>1181</td>\n",
       "      <td>0.00625</td>\n",
       "      <td>0.727572</td>\n",
       "    </tr>\n",
       "  </tbody>\n",
       "</table>\n",
       "</div>"
      ],
      "text/plain": [
       "exp_id                      A     B    alpha   p-value\n",
       "event_name                                            \n",
       "CartScreenAppear         1238  1230  0.00625  0.587828\n",
       "MainScreenAppear         2476  2493  0.00625  0.519496\n",
       "OffersScreenAppear       1520  1531  0.00625  0.933375\n",
       "PaymentScreenSuccessful  1158  1181  0.00625  0.727572"
      ]
     },
     "execution_count": 36,
     "metadata": {},
     "output_type": "execute_result"
    }
   ],
   "source": [
    "events=data.copy()\n",
    "events['exp_id']=events['exp_id'].astype(str).str.replace('247','A').str.replace('248','B')\n",
    "#display(events)\n",
    "totals=events.groupby('exp_id').agg({'device_id_hash':'nunique'})['device_id_hash']\n",
    "#display(totals)\n",
    "counts=events.pivot_table(index='event_name', columns='exp_id', values='device_id_hash', aggfunc='nunique').drop(columns = ['246'],axis = 1)\n",
    "counts['alpha']=0.05/(counts.shape[0]*2)\n",
    "counts['p-value']=counts.apply(lambda x:z_test(totals['A'], x['A'], totals['B'], x['B']), axis=1)     \n",
    "counts"
   ]
  },
  {
   "cell_type": "markdown",
   "metadata": {},
   "source": [
    "Разницы между двумя группами не обнаружено по пользователям всех четырех шагов."
   ]
  },
  {
   "cell_type": "markdown",
   "metadata": {},
   "source": [
    "#### Сравнение объединенной контрольной группы (246 и 247) с экспериментальной."
   ]
  },
  {
   "cell_type": "code",
   "execution_count": 37,
   "metadata": {},
   "outputs": [
    {
     "data": {
      "text/html": [
       "<div>\n",
       "<style scoped>\n",
       "    .dataframe tbody tr th:only-of-type {\n",
       "        vertical-align: middle;\n",
       "    }\n",
       "\n",
       "    .dataframe tbody tr th {\n",
       "        vertical-align: top;\n",
       "    }\n",
       "\n",
       "    .dataframe thead th {\n",
       "        text-align: right;\n",
       "    }\n",
       "</style>\n",
       "<table border=\"1\" class=\"dataframe\">\n",
       "  <thead>\n",
       "    <tr style=\"text-align: right;\">\n",
       "      <th>exp_id</th>\n",
       "      <th>A</th>\n",
       "      <th>B</th>\n",
       "      <th>alpha</th>\n",
       "      <th>p-value</th>\n",
       "    </tr>\n",
       "    <tr>\n",
       "      <th>event_name</th>\n",
       "      <th></th>\n",
       "      <th></th>\n",
       "      <th></th>\n",
       "      <th></th>\n",
       "    </tr>\n",
       "  </thead>\n",
       "  <tbody>\n",
       "    <tr>\n",
       "      <th>CartScreenAppear</th>\n",
       "      <td>2504</td>\n",
       "      <td>1230</td>\n",
       "      <td>0.00625</td>\n",
       "      <td>0.186836</td>\n",
       "    </tr>\n",
       "    <tr>\n",
       "      <th>MainScreenAppear</th>\n",
       "      <td>4926</td>\n",
       "      <td>2493</td>\n",
       "      <td>0.00625</td>\n",
       "      <td>0.348668</td>\n",
       "    </tr>\n",
       "    <tr>\n",
       "      <th>OffersScreenAppear</th>\n",
       "      <td>3062</td>\n",
       "      <td>1531</td>\n",
       "      <td>0.00625</td>\n",
       "      <td>0.445827</td>\n",
       "    </tr>\n",
       "    <tr>\n",
       "      <th>PaymentScreenSuccessful</th>\n",
       "      <td>2358</td>\n",
       "      <td>1181</td>\n",
       "      <td>0.00625</td>\n",
       "      <td>0.610792</td>\n",
       "    </tr>\n",
       "  </tbody>\n",
       "</table>\n",
       "</div>"
      ],
      "text/plain": [
       "exp_id                      A     B    alpha   p-value\n",
       "event_name                                            \n",
       "CartScreenAppear         2504  1230  0.00625  0.186836\n",
       "MainScreenAppear         4926  2493  0.00625  0.348668\n",
       "OffersScreenAppear       3062  1531  0.00625  0.445827\n",
       "PaymentScreenSuccessful  2358  1181  0.00625  0.610792"
      ]
     },
     "metadata": {},
     "output_type": "display_data"
    }
   ],
   "source": [
    "events=data.copy()\n",
    "events['exp_id']=events['exp_id'].astype(str).str.replace('246|247','A').str.replace('248','B')\n",
    "#display(events)\n",
    "totals=events.groupby('exp_id').agg({'device_id_hash':'nunique'})['device_id_hash']\n",
    "#display(totals)\n",
    "counts=events.pivot_table(index='event_name', columns='exp_id', values='device_id_hash', aggfunc='nunique')\n",
    "counts['alpha']=0.05/(counts.shape[0]*2)\n",
    "counts['p-value']=counts.apply(lambda x:z_test(totals['A'], x['A'], totals['B'], x['B']), axis=1)     \n",
    "display(counts)\n",
    "warnings.filterwarnings('ignore')            "
   ]
  },
  {
   "cell_type": "markdown",
   "metadata": {},
   "source": [
    "Было сделано 4 сравнения и 16 проверок. Разницы между двумя группами не обнаружено по пользователям всех четырех шагов. Это значит что изменение шрифта никак не повлияло на повнедение пользвоателей(при значимости в 5%)"
   ]
  },
  {
   "cell_type": "markdown",
   "metadata": {},
   "source": [
    "### Сравнение групп при уровне значимости 1%"
   ]
  },
  {
   "cell_type": "markdown",
   "metadata": {},
   "source": [
    "Сравним группы при уровне значимости 0.1"
   ]
  },
  {
   "cell_type": "code",
   "execution_count": 38,
   "metadata": {},
   "outputs": [],
   "source": [
    "# критический уровень статистической значимости\n",
    "alpha = 0.01  "
   ]
  },
  {
   "cell_type": "markdown",
   "metadata": {},
   "source": [
    "#### Сравнение контрольной группы 246 с группой 247."
   ]
  },
  {
   "cell_type": "code",
   "execution_count": 39,
   "metadata": {},
   "outputs": [
    {
     "data": {
      "text/html": [
       "<div>\n",
       "<style scoped>\n",
       "    .dataframe tbody tr th:only-of-type {\n",
       "        vertical-align: middle;\n",
       "    }\n",
       "\n",
       "    .dataframe tbody tr th {\n",
       "        vertical-align: top;\n",
       "    }\n",
       "\n",
       "    .dataframe thead th {\n",
       "        text-align: right;\n",
       "    }\n",
       "</style>\n",
       "<table border=\"1\" class=\"dataframe\">\n",
       "  <thead>\n",
       "    <tr style=\"text-align: right;\">\n",
       "      <th>exp_id</th>\n",
       "      <th>A</th>\n",
       "      <th>B</th>\n",
       "      <th>alpha</th>\n",
       "      <th>p-value</th>\n",
       "    </tr>\n",
       "    <tr>\n",
       "      <th>event_name</th>\n",
       "      <th></th>\n",
       "      <th></th>\n",
       "      <th></th>\n",
       "      <th></th>\n",
       "    </tr>\n",
       "  </thead>\n",
       "  <tbody>\n",
       "    <tr>\n",
       "      <th>CartScreenAppear</th>\n",
       "      <td>1266</td>\n",
       "      <td>1238</td>\n",
       "      <td>0.00125</td>\n",
       "      <td>0.228676</td>\n",
       "    </tr>\n",
       "    <tr>\n",
       "      <th>MainScreenAppear</th>\n",
       "      <td>2450</td>\n",
       "      <td>2476</td>\n",
       "      <td>0.00125</td>\n",
       "      <td>0.752670</td>\n",
       "    </tr>\n",
       "    <tr>\n",
       "      <th>OffersScreenAppear</th>\n",
       "      <td>1542</td>\n",
       "      <td>1520</td>\n",
       "      <td>0.00125</td>\n",
       "      <td>0.247861</td>\n",
       "    </tr>\n",
       "    <tr>\n",
       "      <th>PaymentScreenSuccessful</th>\n",
       "      <td>1200</td>\n",
       "      <td>1158</td>\n",
       "      <td>0.00125</td>\n",
       "      <td>0.114466</td>\n",
       "    </tr>\n",
       "  </tbody>\n",
       "</table>\n",
       "</div>"
      ],
      "text/plain": [
       "exp_id                      A     B    alpha   p-value\n",
       "event_name                                            \n",
       "CartScreenAppear         1266  1238  0.00125  0.228676\n",
       "MainScreenAppear         2450  2476  0.00125  0.752670\n",
       "OffersScreenAppear       1542  1520  0.00125  0.247861\n",
       "PaymentScreenSuccessful  1200  1158  0.00125  0.114466"
      ]
     },
     "execution_count": 39,
     "metadata": {},
     "output_type": "execute_result"
    }
   ],
   "source": [
    "events=data.copy()\n",
    "events['exp_id']=events['exp_id'].astype(str).str.replace('246','A').str.replace('247','B')\n",
    "#display(events)\n",
    "totals=events.groupby('exp_id').agg({'device_id_hash':'nunique'})['device_id_hash']\n",
    "#display(totals)\n",
    "counts=events.pivot_table(index='event_name', columns='exp_id', values='device_id_hash', aggfunc='nunique').drop(columns = ['248'],axis = 1)\n",
    "counts['alpha']=0.01/(counts.shape[0]*2)\n",
    "counts['p-value']=counts.apply(lambda x:z_test(totals['A'], x['A'], totals['B'], x['B']), axis=1)     \n",
    "counts"
   ]
  },
  {
   "cell_type": "markdown",
   "metadata": {},
   "source": [
    "Разницы между двумя группами не обнаружено по пользователям всех четырех шагов."
   ]
  },
  {
   "cell_type": "markdown",
   "metadata": {},
   "source": [
    "#### Сравнение контрольной группы 246 с экспериментальной."
   ]
  },
  {
   "cell_type": "code",
   "execution_count": 40,
   "metadata": {},
   "outputs": [
    {
     "data": {
      "text/html": [
       "<div>\n",
       "<style scoped>\n",
       "    .dataframe tbody tr th:only-of-type {\n",
       "        vertical-align: middle;\n",
       "    }\n",
       "\n",
       "    .dataframe tbody tr th {\n",
       "        vertical-align: top;\n",
       "    }\n",
       "\n",
       "    .dataframe thead th {\n",
       "        text-align: right;\n",
       "    }\n",
       "</style>\n",
       "<table border=\"1\" class=\"dataframe\">\n",
       "  <thead>\n",
       "    <tr style=\"text-align: right;\">\n",
       "      <th>exp_id</th>\n",
       "      <th>A</th>\n",
       "      <th>B</th>\n",
       "      <th>alpha</th>\n",
       "      <th>p-value</th>\n",
       "    </tr>\n",
       "    <tr>\n",
       "      <th>event_name</th>\n",
       "      <th></th>\n",
       "      <th></th>\n",
       "      <th></th>\n",
       "      <th></th>\n",
       "    </tr>\n",
       "  </thead>\n",
       "  <tbody>\n",
       "    <tr>\n",
       "      <th>CartScreenAppear</th>\n",
       "      <td>1266</td>\n",
       "      <td>1230</td>\n",
       "      <td>0.00125</td>\n",
       "      <td>0.080674</td>\n",
       "    </tr>\n",
       "    <tr>\n",
       "      <th>MainScreenAppear</th>\n",
       "      <td>2450</td>\n",
       "      <td>2493</td>\n",
       "      <td>0.00125</td>\n",
       "      <td>0.338711</td>\n",
       "    </tr>\n",
       "    <tr>\n",
       "      <th>OffersScreenAppear</th>\n",
       "      <td>1542</td>\n",
       "      <td>1531</td>\n",
       "      <td>0.00125</td>\n",
       "      <td>0.214425</td>\n",
       "    </tr>\n",
       "    <tr>\n",
       "      <th>PaymentScreenSuccessful</th>\n",
       "      <td>1200</td>\n",
       "      <td>1181</td>\n",
       "      <td>0.00125</td>\n",
       "      <td>0.216930</td>\n",
       "    </tr>\n",
       "  </tbody>\n",
       "</table>\n",
       "</div>"
      ],
      "text/plain": [
       "exp_id                      A     B    alpha   p-value\n",
       "event_name                                            \n",
       "CartScreenAppear         1266  1230  0.00125  0.080674\n",
       "MainScreenAppear         2450  2493  0.00125  0.338711\n",
       "OffersScreenAppear       1542  1531  0.00125  0.214425\n",
       "PaymentScreenSuccessful  1200  1181  0.00125  0.216930"
      ]
     },
     "execution_count": 40,
     "metadata": {},
     "output_type": "execute_result"
    }
   ],
   "source": [
    "events=data.copy()\n",
    "events['exp_id']=events['exp_id'].astype(str).str.replace('246','A').str.replace('248','B')\n",
    "#display(events)\n",
    "totals=events.groupby('exp_id').agg({'device_id_hash':'nunique'})['device_id_hash']\n",
    "#display(totals)\n",
    "counts=events.pivot_table(index='event_name', columns='exp_id', values='device_id_hash', aggfunc='nunique').drop(columns = ['247'],axis = 1)\n",
    "counts['alpha']=0.01/(counts.shape[0]*2)\n",
    "counts['p-value']=counts.apply(lambda x:z_test(totals['A'], x['A'], totals['B'], x['B']), axis=1)     \n",
    "counts"
   ]
  },
  {
   "cell_type": "markdown",
   "metadata": {},
   "source": [
    "Разницы между двумя группами не обнаружено по пользователям всех четырех шагов."
   ]
  },
  {
   "cell_type": "markdown",
   "metadata": {},
   "source": [
    "#### Сравнение контрольной группы 247 с экспериментальной"
   ]
  },
  {
   "cell_type": "code",
   "execution_count": 41,
   "metadata": {},
   "outputs": [
    {
     "data": {
      "text/html": [
       "<div>\n",
       "<style scoped>\n",
       "    .dataframe tbody tr th:only-of-type {\n",
       "        vertical-align: middle;\n",
       "    }\n",
       "\n",
       "    .dataframe tbody tr th {\n",
       "        vertical-align: top;\n",
       "    }\n",
       "\n",
       "    .dataframe thead th {\n",
       "        text-align: right;\n",
       "    }\n",
       "</style>\n",
       "<table border=\"1\" class=\"dataframe\">\n",
       "  <thead>\n",
       "    <tr style=\"text-align: right;\">\n",
       "      <th>exp_id</th>\n",
       "      <th>A</th>\n",
       "      <th>B</th>\n",
       "      <th>alpha</th>\n",
       "      <th>p-value</th>\n",
       "    </tr>\n",
       "    <tr>\n",
       "      <th>event_name</th>\n",
       "      <th></th>\n",
       "      <th></th>\n",
       "      <th></th>\n",
       "      <th></th>\n",
       "    </tr>\n",
       "  </thead>\n",
       "  <tbody>\n",
       "    <tr>\n",
       "      <th>CartScreenAppear</th>\n",
       "      <td>1238</td>\n",
       "      <td>1230</td>\n",
       "      <td>0.00125</td>\n",
       "      <td>0.587828</td>\n",
       "    </tr>\n",
       "    <tr>\n",
       "      <th>MainScreenAppear</th>\n",
       "      <td>2476</td>\n",
       "      <td>2493</td>\n",
       "      <td>0.00125</td>\n",
       "      <td>0.519496</td>\n",
       "    </tr>\n",
       "    <tr>\n",
       "      <th>OffersScreenAppear</th>\n",
       "      <td>1520</td>\n",
       "      <td>1531</td>\n",
       "      <td>0.00125</td>\n",
       "      <td>0.933375</td>\n",
       "    </tr>\n",
       "    <tr>\n",
       "      <th>PaymentScreenSuccessful</th>\n",
       "      <td>1158</td>\n",
       "      <td>1181</td>\n",
       "      <td>0.00125</td>\n",
       "      <td>0.727572</td>\n",
       "    </tr>\n",
       "  </tbody>\n",
       "</table>\n",
       "</div>"
      ],
      "text/plain": [
       "exp_id                      A     B    alpha   p-value\n",
       "event_name                                            \n",
       "CartScreenAppear         1238  1230  0.00125  0.587828\n",
       "MainScreenAppear         2476  2493  0.00125  0.519496\n",
       "OffersScreenAppear       1520  1531  0.00125  0.933375\n",
       "PaymentScreenSuccessful  1158  1181  0.00125  0.727572"
      ]
     },
     "execution_count": 41,
     "metadata": {},
     "output_type": "execute_result"
    }
   ],
   "source": [
    "events=data.copy()\n",
    "events['exp_id']=events['exp_id'].astype(str).str.replace('247','A').str.replace('248','B')\n",
    "#display(events)\n",
    "totals=events.groupby('exp_id').agg({'device_id_hash':'nunique'})['device_id_hash']\n",
    "#display(totals)\n",
    "counts=events.pivot_table(index='event_name', columns='exp_id', values='device_id_hash', aggfunc='nunique').drop(columns = ['246'],axis = 1)\n",
    "counts['alpha']=0.01/(counts.shape[0]*2)\n",
    "counts['p-value']=counts.apply(lambda x:z_test(totals['A'], x['A'], totals['B'], x['B']), axis=1)     \n",
    "counts"
   ]
  },
  {
   "cell_type": "markdown",
   "metadata": {},
   "source": [
    "Разницы между двумя группами не обнаружено по пользователям всех четырех шагов."
   ]
  },
  {
   "cell_type": "markdown",
   "metadata": {},
   "source": [
    "#### Сравнение объединенной контрольной группы (246 и 247) с экспериментальной."
   ]
  },
  {
   "cell_type": "code",
   "execution_count": 42,
   "metadata": {},
   "outputs": [
    {
     "data": {
      "text/html": [
       "<div>\n",
       "<style scoped>\n",
       "    .dataframe tbody tr th:only-of-type {\n",
       "        vertical-align: middle;\n",
       "    }\n",
       "\n",
       "    .dataframe tbody tr th {\n",
       "        vertical-align: top;\n",
       "    }\n",
       "\n",
       "    .dataframe thead th {\n",
       "        text-align: right;\n",
       "    }\n",
       "</style>\n",
       "<table border=\"1\" class=\"dataframe\">\n",
       "  <thead>\n",
       "    <tr style=\"text-align: right;\">\n",
       "      <th>exp_id</th>\n",
       "      <th>A</th>\n",
       "      <th>B</th>\n",
       "      <th>alpha</th>\n",
       "      <th>p-value</th>\n",
       "    </tr>\n",
       "    <tr>\n",
       "      <th>event_name</th>\n",
       "      <th></th>\n",
       "      <th></th>\n",
       "      <th></th>\n",
       "      <th></th>\n",
       "    </tr>\n",
       "  </thead>\n",
       "  <tbody>\n",
       "    <tr>\n",
       "      <th>CartScreenAppear</th>\n",
       "      <td>2504</td>\n",
       "      <td>1230</td>\n",
       "      <td>0.00125</td>\n",
       "      <td>0.186836</td>\n",
       "    </tr>\n",
       "    <tr>\n",
       "      <th>MainScreenAppear</th>\n",
       "      <td>4926</td>\n",
       "      <td>2493</td>\n",
       "      <td>0.00125</td>\n",
       "      <td>0.348668</td>\n",
       "    </tr>\n",
       "    <tr>\n",
       "      <th>OffersScreenAppear</th>\n",
       "      <td>3062</td>\n",
       "      <td>1531</td>\n",
       "      <td>0.00125</td>\n",
       "      <td>0.445827</td>\n",
       "    </tr>\n",
       "    <tr>\n",
       "      <th>PaymentScreenSuccessful</th>\n",
       "      <td>2358</td>\n",
       "      <td>1181</td>\n",
       "      <td>0.00125</td>\n",
       "      <td>0.610792</td>\n",
       "    </tr>\n",
       "  </tbody>\n",
       "</table>\n",
       "</div>"
      ],
      "text/plain": [
       "exp_id                      A     B    alpha   p-value\n",
       "event_name                                            \n",
       "CartScreenAppear         2504  1230  0.00125  0.186836\n",
       "MainScreenAppear         4926  2493  0.00125  0.348668\n",
       "OffersScreenAppear       3062  1531  0.00125  0.445827\n",
       "PaymentScreenSuccessful  2358  1181  0.00125  0.610792"
      ]
     },
     "metadata": {},
     "output_type": "display_data"
    }
   ],
   "source": [
    "events=data.copy()\n",
    "events['exp_id']=events['exp_id'].astype(str).str.replace('246|247','A').str.replace('248','B')\n",
    "#display(events)\n",
    "totals=events.groupby('exp_id').agg({'device_id_hash':'nunique'})['device_id_hash']\n",
    "#display(totals)\n",
    "counts=events.pivot_table(index='event_name', columns='exp_id', values='device_id_hash', aggfunc='nunique')\n",
    "counts['alpha']=0.01/(counts.shape[0]*2)\n",
    "counts['p-value']=counts.apply(lambda x:z_test(totals['A'], x['A'], totals['B'], x['B']), axis=1)     \n",
    "display(counts)\n",
    "warnings.filterwarnings('ignore')"
   ]
  },
  {
   "cell_type": "markdown",
   "metadata": {},
   "source": [
    "Ситуация аналогичная, изменение уровня значимости никак не повлияло на результат"
   ]
  },
  {
   "cell_type": "markdown",
   "metadata": {},
   "source": [
    "Можно прийти к выводу, что изменения шрифта никак не влияет на поведение пользователей"
   ]
  },
  {
   "cell_type": "markdown",
   "metadata": {},
   "source": [
    "## Вывод"
   ]
  },
  {
   "cell_type": "markdown",
   "metadata": {},
   "source": [
    "В работе был проведен анализ данных по анализу имеющихся данных по стартапу который продает продукты питания.  В экспериментах учатвовало всего 7551 человек. Эксперименты проводились 07.25 по 08.07 2019 года. Однако при постороении графика относительно дат, было определно что данные за июль месяц практически отсутствуют. Было решено эти данные отбросить и анализировать данные только за август.\n",
    "\n",
    "В целом видно что основная последовательность действий пользваотеля такова: Пользователь заходит на главную страницу, далее в каталог товаров, добавляет нужный товар в корзину, покупает его. Однако иногда эта цепочка рушится так как некоторе пользователи пропускают главную страницу и сразу, например, попадают на страницу товара, возможно по рекламной ссылке. Это касается справочника, в основном в него заходят на первом этапе, но большинство пользователей игнорируют эту страницу, по этой причине  данное событие было исключено из дальнейшего исследования.\n",
    "\n",
    "Самые большие потери происходят на этапе перехода из главной страницы на страницу каталога - 38% не доходят до второго этапа. То же касается Tutorial. От первого события до оплаты доходят 48% пользователей.\n",
    "\n",
    "При проведении A/B тестов при уровнях значимости 0.01 и 0.05 было выяснено что изменение шрифта в приложении никак не влияет на поведение пользователей\n",
    "\n"
   ]
  }
 ],
 "metadata": {
  "ExecuteTimeLog": [
   {
    "duration": 1236,
    "start_time": "2023-01-16T08:37:07.127Z"
   },
   {
    "duration": 881,
    "start_time": "2023-01-16T08:37:30.310Z"
   },
   {
    "duration": 13,
    "start_time": "2023-01-16T08:37:37.398Z"
   },
   {
    "duration": 169,
    "start_time": "2023-01-16T08:38:27.973Z"
   },
   {
    "duration": 9,
    "start_time": "2023-01-16T08:38:28.453Z"
   },
   {
    "duration": 20,
    "start_time": "2023-01-16T08:38:53.505Z"
   },
   {
    "duration": 4,
    "start_time": "2023-01-16T08:39:44.245Z"
   },
   {
    "duration": 1211,
    "start_time": "2023-01-16T08:41:26.285Z"
   },
   {
    "duration": 1167,
    "start_time": "2023-01-16T08:41:40.484Z"
   },
   {
    "duration": 3,
    "start_time": "2023-01-16T08:41:50.356Z"
   },
   {
    "duration": 156,
    "start_time": "2023-01-16T08:41:50.548Z"
   },
   {
    "duration": 9,
    "start_time": "2023-01-16T08:41:50.724Z"
   },
   {
    "duration": 19,
    "start_time": "2023-01-16T08:41:50.931Z"
   },
   {
    "duration": 11,
    "start_time": "2023-01-16T08:41:51.140Z"
   },
   {
    "duration": 34,
    "start_time": "2023-01-16T08:44:57.466Z"
   },
   {
    "duration": 22,
    "start_time": "2023-01-16T08:45:13.058Z"
   },
   {
    "duration": 72,
    "start_time": "2023-01-16T08:50:50.901Z"
   },
   {
    "duration": 8,
    "start_time": "2023-01-16T08:50:58.175Z"
   },
   {
    "duration": 13,
    "start_time": "2023-01-16T08:51:58.191Z"
   },
   {
    "duration": 16,
    "start_time": "2023-01-16T08:56:38.892Z"
   },
   {
    "duration": 56,
    "start_time": "2023-01-16T08:57:14.550Z"
   },
   {
    "duration": 64,
    "start_time": "2023-01-16T08:57:40.371Z"
   },
   {
    "duration": 59,
    "start_time": "2023-01-16T08:58:16.027Z"
   },
   {
    "duration": 53,
    "start_time": "2023-01-16T08:58:26.787Z"
   },
   {
    "duration": 65,
    "start_time": "2023-01-16T09:01:27.259Z"
   },
   {
    "duration": 17,
    "start_time": "2023-01-16T09:02:12.698Z"
   },
   {
    "duration": 1136,
    "start_time": "2023-01-16T09:02:23.838Z"
   },
   {
    "duration": 165,
    "start_time": "2023-01-16T09:02:24.976Z"
   },
   {
    "duration": 12,
    "start_time": "2023-01-16T09:02:25.143Z"
   },
   {
    "duration": 33,
    "start_time": "2023-01-16T09:02:25.157Z"
   },
   {
    "duration": 21,
    "start_time": "2023-01-16T09:02:25.192Z"
   },
   {
    "duration": 29,
    "start_time": "2023-01-16T09:02:25.215Z"
   },
   {
    "duration": 80,
    "start_time": "2023-01-16T09:02:25.245Z"
   },
   {
    "duration": 74,
    "start_time": "2023-01-16T09:02:25.327Z"
   },
   {
    "duration": 107,
    "start_time": "2023-01-16T09:06:52.654Z"
   },
   {
    "duration": 3,
    "start_time": "2023-01-16T09:08:08.110Z"
   },
   {
    "duration": 168,
    "start_time": "2023-01-16T09:08:08.293Z"
   },
   {
    "duration": 10,
    "start_time": "2023-01-16T09:08:08.462Z"
   },
   {
    "duration": 20,
    "start_time": "2023-01-16T09:08:08.629Z"
   },
   {
    "duration": 15,
    "start_time": "2023-01-16T09:08:08.821Z"
   },
   {
    "duration": 16,
    "start_time": "2023-01-16T09:08:08.989Z"
   },
   {
    "duration": 51,
    "start_time": "2023-01-16T09:08:09.165Z"
   },
   {
    "duration": 70,
    "start_time": "2023-01-16T09:08:10.278Z"
   },
   {
    "duration": 12,
    "start_time": "2023-01-16T09:08:10.478Z"
   },
   {
    "duration": 1161,
    "start_time": "2023-01-16T09:08:43.544Z"
   },
   {
    "duration": 4,
    "start_time": "2023-01-16T09:11:28.013Z"
   },
   {
    "duration": 13,
    "start_time": "2023-01-16T09:12:34.251Z"
   },
   {
    "duration": 5,
    "start_time": "2023-01-16T09:13:11.539Z"
   },
   {
    "duration": 5,
    "start_time": "2023-01-16T09:13:22.235Z"
   },
   {
    "duration": 10,
    "start_time": "2023-01-16T09:13:29.731Z"
   },
   {
    "duration": 6,
    "start_time": "2023-01-16T09:13:41.003Z"
   },
   {
    "duration": 5,
    "start_time": "2023-01-16T09:13:50.459Z"
   },
   {
    "duration": 9,
    "start_time": "2023-01-16T09:14:04.075Z"
   },
   {
    "duration": 7,
    "start_time": "2023-01-16T09:14:50.507Z"
   },
   {
    "duration": 59,
    "start_time": "2023-01-16T09:15:41.466Z"
   },
   {
    "duration": 55,
    "start_time": "2023-01-16T09:15:54.890Z"
   },
   {
    "duration": 45,
    "start_time": "2023-01-16T09:16:03.786Z"
   },
   {
    "duration": 37,
    "start_time": "2023-01-16T09:17:34.713Z"
   },
   {
    "duration": 36,
    "start_time": "2023-01-16T09:17:48.201Z"
   },
   {
    "duration": 78,
    "start_time": "2023-01-16T09:18:35.401Z"
   },
   {
    "duration": 42,
    "start_time": "2023-01-16T09:18:42.656Z"
   },
   {
    "duration": 34,
    "start_time": "2023-01-16T09:18:57.297Z"
   },
   {
    "duration": 2,
    "start_time": "2023-01-16T09:19:10.680Z"
   },
   {
    "duration": 6,
    "start_time": "2023-01-16T09:20:38.456Z"
   },
   {
    "duration": 8,
    "start_time": "2023-01-16T09:20:46.839Z"
   },
   {
    "duration": 16,
    "start_time": "2023-01-16T09:23:57.366Z"
   },
   {
    "duration": 15,
    "start_time": "2023-01-16T09:24:13.390Z"
   },
   {
    "duration": 71,
    "start_time": "2023-01-16T09:26:24.405Z"
   },
   {
    "duration": 11,
    "start_time": "2023-01-16T09:26:29.357Z"
   },
   {
    "duration": 12,
    "start_time": "2023-01-16T09:26:56.684Z"
   },
   {
    "duration": 12,
    "start_time": "2023-01-16T09:27:06.540Z"
   },
   {
    "duration": 33,
    "start_time": "2023-01-16T09:32:36.362Z"
   },
   {
    "duration": 42,
    "start_time": "2023-01-16T09:32:47.385Z"
   },
   {
    "duration": 46,
    "start_time": "2023-01-18T08:08:37.834Z"
   },
   {
    "duration": 1257,
    "start_time": "2023-01-18T08:08:41.044Z"
   },
   {
    "duration": 670,
    "start_time": "2023-01-18T08:08:42.304Z"
   },
   {
    "duration": 17,
    "start_time": "2023-01-18T08:08:42.976Z"
   },
   {
    "duration": 22,
    "start_time": "2023-01-18T08:08:42.996Z"
   },
   {
    "duration": 15,
    "start_time": "2023-01-18T08:08:43.021Z"
   },
   {
    "duration": 45,
    "start_time": "2023-01-18T08:08:43.039Z"
   },
   {
    "duration": 58,
    "start_time": "2023-01-18T08:08:43.086Z"
   },
   {
    "duration": 99,
    "start_time": "2023-01-18T08:08:43.145Z"
   },
   {
    "duration": 17,
    "start_time": "2023-01-18T08:08:43.246Z"
   },
   {
    "duration": 39,
    "start_time": "2023-01-18T08:08:43.283Z"
   },
   {
    "duration": 28,
    "start_time": "2023-01-18T08:10:58.956Z"
   },
   {
    "duration": 71,
    "start_time": "2023-01-18T08:11:32.636Z"
   },
   {
    "duration": 16,
    "start_time": "2023-01-18T08:11:46.603Z"
   },
   {
    "duration": 72,
    "start_time": "2023-01-18T08:29:53.368Z"
   },
   {
    "duration": 1146,
    "start_time": "2023-01-18T08:30:09.912Z"
   },
   {
    "duration": 157,
    "start_time": "2023-01-18T08:30:11.060Z"
   },
   {
    "duration": 16,
    "start_time": "2023-01-18T08:30:11.218Z"
   },
   {
    "duration": 32,
    "start_time": "2023-01-18T08:30:11.236Z"
   },
   {
    "duration": 48,
    "start_time": "2023-01-18T08:30:11.270Z"
   },
   {
    "duration": 43,
    "start_time": "2023-01-18T08:30:11.320Z"
   },
   {
    "duration": 82,
    "start_time": "2023-01-18T08:30:11.364Z"
   },
   {
    "duration": 78,
    "start_time": "2023-01-18T08:30:11.448Z"
   },
   {
    "duration": 66,
    "start_time": "2023-01-18T08:30:11.527Z"
   },
   {
    "duration": 37,
    "start_time": "2023-01-18T08:30:11.596Z"
   },
   {
    "duration": 7,
    "start_time": "2023-01-18T08:30:11.634Z"
   },
   {
    "duration": 38,
    "start_time": "2023-01-18T08:30:11.643Z"
   },
   {
    "duration": 31,
    "start_time": "2023-01-18T08:30:39.825Z"
   },
   {
    "duration": 74,
    "start_time": "2023-01-18T08:30:50.120Z"
   },
   {
    "duration": 25,
    "start_time": "2023-01-18T08:31:03.425Z"
   },
   {
    "duration": 21,
    "start_time": "2023-01-18T08:32:38.615Z"
   },
   {
    "duration": 97,
    "start_time": "2023-01-18T08:35:54.171Z"
   },
   {
    "duration": 720,
    "start_time": "2023-01-18T08:36:06.184Z"
   },
   {
    "duration": 525,
    "start_time": "2023-01-18T08:38:16.466Z"
   },
   {
    "duration": 16,
    "start_time": "2023-01-18T08:38:27.887Z"
   },
   {
    "duration": 395,
    "start_time": "2023-01-18T08:38:36.708Z"
   },
   {
    "duration": 366,
    "start_time": "2023-01-18T08:38:49.709Z"
   },
   {
    "duration": 478,
    "start_time": "2023-01-18T08:38:58.240Z"
   },
   {
    "duration": 10,
    "start_time": "2023-01-18T08:44:34.566Z"
   },
   {
    "duration": 17,
    "start_time": "2023-01-18T08:44:40.493Z"
   },
   {
    "duration": 45,
    "start_time": "2023-01-18T08:44:53.508Z"
   },
   {
    "duration": 8,
    "start_time": "2023-01-18T08:47:58.829Z"
   },
   {
    "duration": 33,
    "start_time": "2023-01-18T08:54:05.091Z"
   },
   {
    "duration": 10,
    "start_time": "2023-01-18T09:11:15.032Z"
   },
   {
    "duration": 62,
    "start_time": "2023-01-18T09:11:22.528Z"
   },
   {
    "duration": 88,
    "start_time": "2023-01-18T09:11:36.408Z"
   },
   {
    "duration": 60,
    "start_time": "2023-01-18T09:13:35.300Z"
   },
   {
    "duration": 56,
    "start_time": "2023-01-18T09:13:54.822Z"
   },
   {
    "duration": 56,
    "start_time": "2023-01-18T09:14:05.784Z"
   },
   {
    "duration": 79,
    "start_time": "2023-01-18T09:14:16.781Z"
   },
   {
    "duration": 58,
    "start_time": "2023-01-18T09:14:33.773Z"
   },
   {
    "duration": 60,
    "start_time": "2023-01-18T09:24:03.681Z"
   },
   {
    "duration": 55,
    "start_time": "2023-01-18T09:24:13.168Z"
   },
   {
    "duration": 88,
    "start_time": "2023-01-18T09:24:29.489Z"
   },
   {
    "duration": 10,
    "start_time": "2023-01-18T09:27:18.111Z"
   },
   {
    "duration": 7,
    "start_time": "2023-01-18T09:32:45.868Z"
   },
   {
    "duration": 44,
    "start_time": "2023-01-18T09:40:54.729Z"
   },
   {
    "duration": 34,
    "start_time": "2023-01-18T09:41:44.217Z"
   },
   {
    "duration": 1106,
    "start_time": "2023-01-18T09:42:01.432Z"
   },
   {
    "duration": 150,
    "start_time": "2023-01-18T09:42:02.540Z"
   },
   {
    "duration": 13,
    "start_time": "2023-01-18T09:42:02.692Z"
   },
   {
    "duration": 45,
    "start_time": "2023-01-18T09:42:02.707Z"
   },
   {
    "duration": 15,
    "start_time": "2023-01-18T09:42:02.755Z"
   },
   {
    "duration": 19,
    "start_time": "2023-01-18T09:42:02.772Z"
   },
   {
    "duration": 66,
    "start_time": "2023-01-18T09:42:02.793Z"
   },
   {
    "duration": 96,
    "start_time": "2023-01-18T09:42:02.861Z"
   },
   {
    "duration": 34,
    "start_time": "2023-01-18T09:42:02.959Z"
   },
   {
    "duration": 37,
    "start_time": "2023-01-18T09:42:02.994Z"
   },
   {
    "duration": 10,
    "start_time": "2023-01-18T09:42:03.033Z"
   },
   {
    "duration": 37,
    "start_time": "2023-01-18T09:42:03.045Z"
   },
   {
    "duration": 717,
    "start_time": "2023-01-18T09:42:03.084Z"
   },
   {
    "duration": 528,
    "start_time": "2023-01-18T09:42:03.805Z"
   },
   {
    "duration": 46,
    "start_time": "2023-01-18T09:42:04.335Z"
   },
   {
    "duration": 7,
    "start_time": "2023-01-18T09:42:04.383Z"
   },
   {
    "duration": 22,
    "start_time": "2023-01-18T09:42:04.391Z"
   },
   {
    "duration": 81,
    "start_time": "2023-01-18T09:42:04.415Z"
   },
   {
    "duration": 7,
    "start_time": "2023-01-18T09:42:04.498Z"
   },
   {
    "duration": 50,
    "start_time": "2023-01-18T09:42:04.507Z"
   },
   {
    "duration": 33,
    "start_time": "2023-01-18T09:45:00.224Z"
   },
   {
    "duration": 40,
    "start_time": "2023-01-18T09:45:34.978Z"
   },
   {
    "duration": 45,
    "start_time": "2023-01-18T09:45:41.166Z"
   },
   {
    "duration": 34,
    "start_time": "2023-01-18T09:49:59.302Z"
   },
   {
    "duration": 32,
    "start_time": "2023-01-18T09:50:27.646Z"
   },
   {
    "duration": 10,
    "start_time": "2023-01-18T09:51:38.030Z"
   },
   {
    "duration": 12,
    "start_time": "2023-01-18T09:52:20.467Z"
   },
   {
    "duration": 39,
    "start_time": "2023-01-18T09:54:54.796Z"
   },
   {
    "duration": 36,
    "start_time": "2023-01-18T09:55:13.470Z"
   },
   {
    "duration": 12,
    "start_time": "2023-01-18T09:55:47.884Z"
   },
   {
    "duration": 14,
    "start_time": "2023-01-18T09:57:17.011Z"
   },
   {
    "duration": 108,
    "start_time": "2023-01-18T09:58:44.407Z"
   },
   {
    "duration": 14,
    "start_time": "2023-01-18T09:58:55.538Z"
   },
   {
    "duration": 4,
    "start_time": "2023-01-18T10:01:12.401Z"
   },
   {
    "duration": 4,
    "start_time": "2023-01-18T10:01:36.714Z"
   },
   {
    "duration": 5,
    "start_time": "2023-01-18T10:02:36.529Z"
   },
   {
    "duration": 4,
    "start_time": "2023-01-18T10:02:58.744Z"
   },
   {
    "duration": 4,
    "start_time": "2023-01-18T10:03:10.271Z"
   },
   {
    "duration": 6,
    "start_time": "2023-01-18T10:08:19.360Z"
   },
   {
    "duration": 12,
    "start_time": "2023-01-18T10:08:31.110Z"
   },
   {
    "duration": 8,
    "start_time": "2023-01-18T10:09:06.821Z"
   },
   {
    "duration": 15,
    "start_time": "2023-01-18T10:10:27.037Z"
   },
   {
    "duration": 46,
    "start_time": "2023-01-18T10:10:33.637Z"
   },
   {
    "duration": 36,
    "start_time": "2023-01-18T10:10:55.140Z"
   },
   {
    "duration": 15,
    "start_time": "2023-01-18T10:27:39.325Z"
   },
   {
    "duration": 39,
    "start_time": "2023-01-18T10:27:59.413Z"
   },
   {
    "duration": 56,
    "start_time": "2023-01-19T11:07:08.737Z"
   },
   {
    "duration": 1406,
    "start_time": "2023-01-19T11:07:16.480Z"
   },
   {
    "duration": 625,
    "start_time": "2023-01-19T11:07:17.891Z"
   },
   {
    "duration": 15,
    "start_time": "2023-01-19T11:07:18.517Z"
   },
   {
    "duration": 21,
    "start_time": "2023-01-19T11:07:18.534Z"
   },
   {
    "duration": 14,
    "start_time": "2023-01-19T11:07:18.557Z"
   },
   {
    "duration": 29,
    "start_time": "2023-01-19T11:07:18.573Z"
   },
   {
    "duration": 62,
    "start_time": "2023-01-19T11:07:18.603Z"
   },
   {
    "duration": 86,
    "start_time": "2023-01-19T11:07:18.667Z"
   },
   {
    "duration": 22,
    "start_time": "2023-01-19T11:07:18.755Z"
   },
   {
    "duration": 37,
    "start_time": "2023-01-19T11:07:18.792Z"
   },
   {
    "duration": 10,
    "start_time": "2023-01-19T11:07:18.831Z"
   },
   {
    "duration": 14,
    "start_time": "2023-01-19T11:07:18.842Z"
   },
   {
    "duration": 638,
    "start_time": "2023-01-19T11:07:18.859Z"
   },
   {
    "duration": 508,
    "start_time": "2023-01-19T11:07:19.499Z"
   },
   {
    "duration": 36,
    "start_time": "2023-01-19T11:07:20.008Z"
   },
   {
    "duration": 8,
    "start_time": "2023-01-19T11:07:20.046Z"
   },
   {
    "duration": 43,
    "start_time": "2023-01-19T11:07:20.055Z"
   },
   {
    "duration": 72,
    "start_time": "2023-01-19T11:07:20.100Z"
   },
   {
    "duration": 8,
    "start_time": "2023-01-19T11:07:20.174Z"
   },
   {
    "duration": 15,
    "start_time": "2023-01-19T11:07:20.193Z"
   },
   {
    "duration": 14,
    "start_time": "2023-01-19T11:07:20.209Z"
   },
   {
    "duration": 16,
    "start_time": "2023-01-19T11:07:20.224Z"
   },
   {
    "duration": 54,
    "start_time": "2023-01-19T11:07:20.242Z"
   },
   {
    "duration": 286,
    "start_time": "2023-01-19T11:07:20.298Z"
   },
   {
    "duration": 7,
    "start_time": "2023-01-19T11:07:20.586Z"
   },
   {
    "duration": 9,
    "start_time": "2023-01-19T11:07:20.595Z"
   },
   {
    "duration": 7,
    "start_time": "2023-01-19T11:07:26.432Z"
   },
   {
    "duration": 6,
    "start_time": "2023-01-19T11:09:11.504Z"
   },
   {
    "duration": 5,
    "start_time": "2023-01-19T11:09:47.862Z"
   },
   {
    "duration": 3,
    "start_time": "2023-01-19T11:09:48.053Z"
   },
   {
    "duration": 2,
    "start_time": "2023-01-19T11:09:48.238Z"
   },
   {
    "duration": 144,
    "start_time": "2023-01-19T11:09:48.493Z"
   },
   {
    "duration": 3,
    "start_time": "2023-01-19T11:10:15.293Z"
   },
   {
    "duration": 1156,
    "start_time": "2023-01-19T11:10:21.258Z"
   },
   {
    "duration": 153,
    "start_time": "2023-01-19T11:10:22.416Z"
   },
   {
    "duration": 21,
    "start_time": "2023-01-19T11:10:22.571Z"
   },
   {
    "duration": 21,
    "start_time": "2023-01-19T11:10:22.594Z"
   },
   {
    "duration": 13,
    "start_time": "2023-01-19T11:10:22.618Z"
   },
   {
    "duration": 13,
    "start_time": "2023-01-19T11:10:22.633Z"
   },
   {
    "duration": 82,
    "start_time": "2023-01-19T11:10:22.647Z"
   },
   {
    "duration": 81,
    "start_time": "2023-01-19T11:10:22.730Z"
   },
   {
    "duration": 20,
    "start_time": "2023-01-19T11:10:22.813Z"
   },
   {
    "duration": 34,
    "start_time": "2023-01-19T11:10:22.835Z"
   },
   {
    "duration": 25,
    "start_time": "2023-01-19T11:10:22.870Z"
   },
   {
    "duration": 15,
    "start_time": "2023-01-19T11:10:22.897Z"
   },
   {
    "duration": 647,
    "start_time": "2023-01-19T11:10:22.914Z"
   },
   {
    "duration": 518,
    "start_time": "2023-01-19T11:10:23.564Z"
   },
   {
    "duration": 35,
    "start_time": "2023-01-19T11:10:24.091Z"
   },
   {
    "duration": 7,
    "start_time": "2023-01-19T11:10:24.128Z"
   },
   {
    "duration": 26,
    "start_time": "2023-01-19T11:10:24.137Z"
   },
   {
    "duration": 84,
    "start_time": "2023-01-19T11:10:24.164Z"
   },
   {
    "duration": 7,
    "start_time": "2023-01-19T11:10:24.249Z"
   },
   {
    "duration": 11,
    "start_time": "2023-01-19T11:10:24.258Z"
   },
   {
    "duration": 5,
    "start_time": "2023-01-19T11:10:24.291Z"
   },
   {
    "duration": 22,
    "start_time": "2023-01-19T11:10:24.297Z"
   },
   {
    "duration": 37,
    "start_time": "2023-01-19T11:10:24.321Z"
   },
   {
    "duration": 278,
    "start_time": "2023-01-19T11:10:24.360Z"
   },
   {
    "duration": 5,
    "start_time": "2023-01-19T11:10:24.640Z"
   },
   {
    "duration": 7,
    "start_time": "2023-01-19T11:10:24.647Z"
   },
   {
    "duration": 4,
    "start_time": "2023-01-19T11:10:24.656Z"
   },
   {
    "duration": 0,
    "start_time": "2023-01-19T11:10:24.824Z"
   },
   {
    "duration": 52,
    "start_time": "2023-01-19T11:10:27.258Z"
   },
   {
    "duration": 1193,
    "start_time": "2023-01-19T11:10:48.865Z"
   },
   {
    "duration": 153,
    "start_time": "2023-01-19T11:10:50.060Z"
   },
   {
    "duration": 13,
    "start_time": "2023-01-19T11:10:50.214Z"
   },
   {
    "duration": 40,
    "start_time": "2023-01-19T11:10:50.229Z"
   },
   {
    "duration": 21,
    "start_time": "2023-01-19T11:10:50.271Z"
   },
   {
    "duration": 14,
    "start_time": "2023-01-19T11:10:50.293Z"
   },
   {
    "duration": 88,
    "start_time": "2023-01-19T11:10:50.308Z"
   },
   {
    "duration": 82,
    "start_time": "2023-01-19T11:10:50.397Z"
   },
   {
    "duration": 25,
    "start_time": "2023-01-19T11:10:50.493Z"
   },
   {
    "duration": 40,
    "start_time": "2023-01-19T11:10:50.520Z"
   },
   {
    "duration": 34,
    "start_time": "2023-01-19T11:10:50.562Z"
   },
   {
    "duration": 19,
    "start_time": "2023-01-19T11:10:50.598Z"
   },
   {
    "duration": 676,
    "start_time": "2023-01-19T11:10:50.619Z"
   },
   {
    "duration": 521,
    "start_time": "2023-01-19T11:10:51.298Z"
   },
   {
    "duration": 35,
    "start_time": "2023-01-19T11:10:51.821Z"
   },
   {
    "duration": 6,
    "start_time": "2023-01-19T11:10:51.858Z"
   },
   {
    "duration": 42,
    "start_time": "2023-01-19T11:10:51.865Z"
   },
   {
    "duration": 69,
    "start_time": "2023-01-19T11:10:51.909Z"
   },
   {
    "duration": 15,
    "start_time": "2023-01-19T11:10:51.979Z"
   },
   {
    "duration": 14,
    "start_time": "2023-01-19T11:10:51.995Z"
   },
   {
    "duration": 26,
    "start_time": "2023-01-19T11:10:52.011Z"
   },
   {
    "duration": 14,
    "start_time": "2023-01-19T11:10:52.039Z"
   },
   {
    "duration": 55,
    "start_time": "2023-01-19T11:10:52.055Z"
   },
   {
    "duration": 262,
    "start_time": "2023-01-19T11:10:52.112Z"
   },
   {
    "duration": 6,
    "start_time": "2023-01-19T11:10:52.375Z"
   },
   {
    "duration": 13,
    "start_time": "2023-01-19T11:10:52.382Z"
   },
   {
    "duration": 9,
    "start_time": "2023-01-19T11:10:52.396Z"
   },
   {
    "duration": 166,
    "start_time": "2023-01-19T11:10:52.406Z"
   },
   {
    "duration": 146,
    "start_time": "2023-01-19T11:11:29.261Z"
   },
   {
    "duration": 148,
    "start_time": "2023-01-19T11:12:03.925Z"
   },
   {
    "duration": 153,
    "start_time": "2023-01-19T11:15:54.621Z"
   },
   {
    "duration": 3,
    "start_time": "2023-01-19T11:15:58.563Z"
   },
   {
    "duration": 155,
    "start_time": "2023-01-19T11:15:58.915Z"
   },
   {
    "duration": 140,
    "start_time": "2023-01-19T11:17:08.601Z"
   },
   {
    "duration": 3,
    "start_time": "2023-01-19T11:17:12.771Z"
   },
   {
    "duration": 188,
    "start_time": "2023-01-19T11:17:13.058Z"
   },
   {
    "duration": 2,
    "start_time": "2023-01-19T11:18:08.707Z"
   },
   {
    "duration": 194,
    "start_time": "2023-01-19T11:19:07.218Z"
   },
   {
    "duration": 1252,
    "start_time": "2023-01-19T11:22:25.158Z"
   },
   {
    "duration": 163,
    "start_time": "2023-01-19T11:22:26.413Z"
   },
   {
    "duration": 18,
    "start_time": "2023-01-19T11:22:26.578Z"
   },
   {
    "duration": 28,
    "start_time": "2023-01-19T11:22:26.598Z"
   },
   {
    "duration": 16,
    "start_time": "2023-01-19T11:22:26.629Z"
   },
   {
    "duration": 14,
    "start_time": "2023-01-19T11:22:26.647Z"
   },
   {
    "duration": 82,
    "start_time": "2023-01-19T11:22:26.662Z"
   },
   {
    "duration": 84,
    "start_time": "2023-01-19T11:22:26.746Z"
   },
   {
    "duration": 22,
    "start_time": "2023-01-19T11:22:26.831Z"
   },
   {
    "duration": 52,
    "start_time": "2023-01-19T11:22:26.854Z"
   },
   {
    "duration": 10,
    "start_time": "2023-01-19T11:22:26.908Z"
   },
   {
    "duration": 16,
    "start_time": "2023-01-19T11:22:26.920Z"
   },
   {
    "duration": 628,
    "start_time": "2023-01-19T11:22:26.937Z"
   },
   {
    "duration": 496,
    "start_time": "2023-01-19T11:22:27.568Z"
   },
   {
    "duration": 42,
    "start_time": "2023-01-19T11:22:28.066Z"
   },
   {
    "duration": 7,
    "start_time": "2023-01-19T11:22:28.110Z"
   },
   {
    "duration": 22,
    "start_time": "2023-01-19T11:22:28.119Z"
   },
   {
    "duration": 100,
    "start_time": "2023-01-19T11:22:28.144Z"
   },
   {
    "duration": 6,
    "start_time": "2023-01-19T11:22:28.246Z"
   },
   {
    "duration": 11,
    "start_time": "2023-01-19T11:22:28.254Z"
   },
   {
    "duration": 25,
    "start_time": "2023-01-19T11:22:28.267Z"
   },
   {
    "duration": 12,
    "start_time": "2023-01-19T11:22:28.294Z"
   },
   {
    "duration": 49,
    "start_time": "2023-01-19T11:22:28.308Z"
   },
   {
    "duration": 275,
    "start_time": "2023-01-19T11:22:28.359Z"
   },
   {
    "duration": 6,
    "start_time": "2023-01-19T11:22:28.636Z"
   },
   {
    "duration": 7,
    "start_time": "2023-01-19T11:22:28.644Z"
   },
   {
    "duration": 4,
    "start_time": "2023-01-19T11:22:28.653Z"
   },
   {
    "duration": 155,
    "start_time": "2023-01-19T11:22:28.658Z"
   },
   {
    "duration": 3,
    "start_time": "2023-01-19T11:22:28.814Z"
   },
   {
    "duration": 156,
    "start_time": "2023-01-19T11:22:28.819Z"
   },
   {
    "duration": 2,
    "start_time": "2023-01-19T11:22:28.977Z"
   },
   {
    "duration": 151,
    "start_time": "2023-01-19T11:22:28.991Z"
   },
   {
    "duration": 3,
    "start_time": "2023-01-19T11:22:29.146Z"
   },
   {
    "duration": 189,
    "start_time": "2023-01-19T11:22:29.151Z"
   },
   {
    "duration": 3,
    "start_time": "2023-01-19T11:22:29.341Z"
   },
   {
    "duration": 7,
    "start_time": "2023-01-19T11:22:29.345Z"
   },
   {
    "duration": 162,
    "start_time": "2023-01-19T11:22:29.353Z"
   },
   {
    "duration": 2,
    "start_time": "2023-01-19T11:22:29.517Z"
   },
   {
    "duration": 171,
    "start_time": "2023-01-19T11:22:29.521Z"
   },
   {
    "duration": 3,
    "start_time": "2023-01-19T11:22:29.693Z"
   },
   {
    "duration": 175,
    "start_time": "2023-01-19T11:22:29.699Z"
   },
   {
    "duration": 16,
    "start_time": "2023-01-19T11:22:29.876Z"
   },
   {
    "duration": 219,
    "start_time": "2023-01-19T11:22:29.894Z"
   },
   {
    "duration": 46,
    "start_time": "2023-01-20T09:37:30.190Z"
   },
   {
    "duration": 1271,
    "start_time": "2023-01-20T09:37:40.096Z"
   },
   {
    "duration": 667,
    "start_time": "2023-01-20T09:37:41.369Z"
   },
   {
    "duration": 13,
    "start_time": "2023-01-20T09:37:42.037Z"
   },
   {
    "duration": 20,
    "start_time": "2023-01-20T09:37:42.052Z"
   },
   {
    "duration": 12,
    "start_time": "2023-01-20T09:37:42.073Z"
   },
   {
    "duration": 30,
    "start_time": "2023-01-20T09:37:42.087Z"
   },
   {
    "duration": 64,
    "start_time": "2023-01-20T09:37:42.119Z"
   },
   {
    "duration": 71,
    "start_time": "2023-01-20T09:37:42.185Z"
   },
   {
    "duration": 35,
    "start_time": "2023-01-20T09:37:42.257Z"
   },
   {
    "duration": 37,
    "start_time": "2023-01-20T09:37:42.295Z"
   },
   {
    "duration": 12,
    "start_time": "2023-01-20T09:37:42.334Z"
   },
   {
    "duration": 148,
    "start_time": "2023-01-20T09:37:42.348Z"
   },
   {
    "duration": 0,
    "start_time": "2023-01-20T09:37:42.500Z"
   },
   {
    "duration": 0,
    "start_time": "2023-01-20T09:37:42.501Z"
   },
   {
    "duration": 0,
    "start_time": "2023-01-20T09:37:42.503Z"
   },
   {
    "duration": 0,
    "start_time": "2023-01-20T09:37:42.504Z"
   },
   {
    "duration": 0,
    "start_time": "2023-01-20T09:37:42.505Z"
   },
   {
    "duration": 0,
    "start_time": "2023-01-20T09:37:42.507Z"
   },
   {
    "duration": 0,
    "start_time": "2023-01-20T09:37:42.508Z"
   },
   {
    "duration": 0,
    "start_time": "2023-01-20T09:37:42.509Z"
   },
   {
    "duration": 0,
    "start_time": "2023-01-20T09:37:42.511Z"
   },
   {
    "duration": 0,
    "start_time": "2023-01-20T09:37:42.512Z"
   },
   {
    "duration": 0,
    "start_time": "2023-01-20T09:37:42.513Z"
   },
   {
    "duration": 0,
    "start_time": "2023-01-20T09:37:42.514Z"
   },
   {
    "duration": 0,
    "start_time": "2023-01-20T09:37:42.515Z"
   },
   {
    "duration": 0,
    "start_time": "2023-01-20T09:37:42.516Z"
   },
   {
    "duration": 0,
    "start_time": "2023-01-20T09:37:42.517Z"
   },
   {
    "duration": 0,
    "start_time": "2023-01-20T09:37:42.518Z"
   },
   {
    "duration": 0,
    "start_time": "2023-01-20T09:37:42.520Z"
   },
   {
    "duration": 0,
    "start_time": "2023-01-20T09:37:42.521Z"
   },
   {
    "duration": 0,
    "start_time": "2023-01-20T09:37:42.523Z"
   },
   {
    "duration": 0,
    "start_time": "2023-01-20T09:37:42.524Z"
   },
   {
    "duration": 0,
    "start_time": "2023-01-20T09:37:42.524Z"
   },
   {
    "duration": 0,
    "start_time": "2023-01-20T09:37:42.526Z"
   },
   {
    "duration": 0,
    "start_time": "2023-01-20T09:37:42.527Z"
   },
   {
    "duration": 0,
    "start_time": "2023-01-20T09:37:42.528Z"
   },
   {
    "duration": 0,
    "start_time": "2023-01-20T09:37:42.531Z"
   },
   {
    "duration": 0,
    "start_time": "2023-01-20T09:37:42.533Z"
   },
   {
    "duration": 0,
    "start_time": "2023-01-20T09:37:42.534Z"
   },
   {
    "duration": 1,
    "start_time": "2023-01-20T09:37:42.592Z"
   },
   {
    "duration": 0,
    "start_time": "2023-01-20T09:37:42.594Z"
   },
   {
    "duration": 0,
    "start_time": "2023-01-20T09:37:42.595Z"
   },
   {
    "duration": 0,
    "start_time": "2023-01-20T09:37:42.596Z"
   },
   {
    "duration": 0,
    "start_time": "2023-01-20T09:37:42.597Z"
   },
   {
    "duration": 15,
    "start_time": "2023-01-20T09:38:07.005Z"
   },
   {
    "duration": 4,
    "start_time": "2023-01-20T09:38:42.990Z"
   },
   {
    "duration": 9,
    "start_time": "2023-01-20T09:38:54.940Z"
   },
   {
    "duration": 21,
    "start_time": "2023-01-20T09:41:24.180Z"
   },
   {
    "duration": 18,
    "start_time": "2023-01-20T09:41:25.091Z"
   },
   {
    "duration": 594,
    "start_time": "2023-01-20T09:42:20.755Z"
   },
   {
    "duration": 479,
    "start_time": "2023-01-20T09:42:34.794Z"
   },
   {
    "duration": 32,
    "start_time": "2023-01-20T09:59:01.653Z"
   },
   {
    "duration": 18,
    "start_time": "2023-01-20T10:00:55.505Z"
   },
   {
    "duration": 1177,
    "start_time": "2023-01-20T10:01:03.636Z"
   },
   {
    "duration": 150,
    "start_time": "2023-01-20T10:01:04.815Z"
   },
   {
    "duration": 12,
    "start_time": "2023-01-20T10:01:04.967Z"
   },
   {
    "duration": 29,
    "start_time": "2023-01-20T10:01:04.980Z"
   },
   {
    "duration": 15,
    "start_time": "2023-01-20T10:01:05.011Z"
   },
   {
    "duration": 16,
    "start_time": "2023-01-20T10:01:05.027Z"
   },
   {
    "duration": 89,
    "start_time": "2023-01-20T10:01:05.045Z"
   },
   {
    "duration": 82,
    "start_time": "2023-01-20T10:01:05.136Z"
   },
   {
    "duration": 21,
    "start_time": "2023-01-20T10:01:05.220Z"
   },
   {
    "duration": 59,
    "start_time": "2023-01-20T10:01:05.243Z"
   },
   {
    "duration": 9,
    "start_time": "2023-01-20T10:01:05.303Z"
   },
   {
    "duration": 26,
    "start_time": "2023-01-20T10:01:05.314Z"
   },
   {
    "duration": 15,
    "start_time": "2023-01-20T10:01:05.341Z"
   },
   {
    "duration": 603,
    "start_time": "2023-01-20T10:01:05.359Z"
   },
   {
    "duration": 487,
    "start_time": "2023-01-20T10:01:05.963Z"
   },
   {
    "duration": 32,
    "start_time": "2023-01-20T10:01:06.451Z"
   },
   {
    "duration": 16,
    "start_time": "2023-01-20T10:01:06.485Z"
   },
   {
    "duration": 15,
    "start_time": "2023-01-20T10:01:06.503Z"
   },
   {
    "duration": 28,
    "start_time": "2023-01-20T10:01:06.520Z"
   },
   {
    "duration": 72,
    "start_time": "2023-01-20T10:01:06.549Z"
   },
   {
    "duration": 7,
    "start_time": "2023-01-20T10:01:06.622Z"
   },
   {
    "duration": 10,
    "start_time": "2023-01-20T10:01:06.631Z"
   },
   {
    "duration": 7,
    "start_time": "2023-01-20T10:01:06.643Z"
   },
   {
    "duration": 14,
    "start_time": "2023-01-20T10:01:06.651Z"
   },
   {
    "duration": 45,
    "start_time": "2023-01-20T10:01:06.666Z"
   },
   {
    "duration": 285,
    "start_time": "2023-01-20T10:01:06.712Z"
   },
   {
    "duration": 7,
    "start_time": "2023-01-20T10:01:06.999Z"
   },
   {
    "duration": 11,
    "start_time": "2023-01-20T10:01:07.008Z"
   },
   {
    "duration": 6,
    "start_time": "2023-01-20T10:01:07.020Z"
   },
   {
    "duration": 193,
    "start_time": "2023-01-20T10:01:07.028Z"
   },
   {
    "duration": 3,
    "start_time": "2023-01-20T10:01:07.222Z"
   },
   {
    "duration": 166,
    "start_time": "2023-01-20T10:01:07.227Z"
   },
   {
    "duration": 3,
    "start_time": "2023-01-20T10:01:07.395Z"
   },
   {
    "duration": 151,
    "start_time": "2023-01-20T10:01:07.399Z"
   },
   {
    "duration": 3,
    "start_time": "2023-01-20T10:01:07.551Z"
   },
   {
    "duration": 204,
    "start_time": "2023-01-20T10:01:07.555Z"
   },
   {
    "duration": 3,
    "start_time": "2023-01-20T10:01:07.760Z"
   },
   {
    "duration": 13,
    "start_time": "2023-01-20T10:01:07.765Z"
   },
   {
    "duration": 155,
    "start_time": "2023-01-20T10:01:07.780Z"
   },
   {
    "duration": 2,
    "start_time": "2023-01-20T10:01:07.937Z"
   },
   {
    "duration": 164,
    "start_time": "2023-01-20T10:01:07.943Z"
   },
   {
    "duration": 2,
    "start_time": "2023-01-20T10:01:08.109Z"
   },
   {
    "duration": 151,
    "start_time": "2023-01-20T10:01:08.112Z"
   },
   {
    "duration": 2,
    "start_time": "2023-01-20T10:01:08.265Z"
   },
   {
    "duration": 190,
    "start_time": "2023-01-20T10:01:08.268Z"
   },
   {
    "duration": 128,
    "start_time": "2023-01-20T10:01:27.785Z"
   },
   {
    "duration": 12,
    "start_time": "2023-01-20T10:01:39.800Z"
   },
   {
    "duration": 9,
    "start_time": "2023-01-20T10:14:00.987Z"
   },
   {
    "duration": 117,
    "start_time": "2023-01-20T10:22:18.167Z"
   },
   {
    "duration": 1099,
    "start_time": "2023-01-20T10:51:44.611Z"
   },
   {
    "duration": 145,
    "start_time": "2023-01-20T10:51:45.711Z"
   },
   {
    "duration": 13,
    "start_time": "2023-01-20T10:51:45.857Z"
   },
   {
    "duration": 23,
    "start_time": "2023-01-20T10:51:45.872Z"
   },
   {
    "duration": 13,
    "start_time": "2023-01-20T10:51:45.896Z"
   },
   {
    "duration": 13,
    "start_time": "2023-01-20T10:51:45.910Z"
   },
   {
    "duration": 75,
    "start_time": "2023-01-20T10:51:45.925Z"
   },
   {
    "duration": 69,
    "start_time": "2023-01-20T10:51:46.002Z"
   },
   {
    "duration": 33,
    "start_time": "2023-01-20T10:51:46.072Z"
   },
   {
    "duration": 53,
    "start_time": "2023-01-20T10:51:46.108Z"
   },
   {
    "duration": 9,
    "start_time": "2023-01-20T10:51:46.162Z"
   },
   {
    "duration": 38,
    "start_time": "2023-01-20T10:51:46.172Z"
   },
   {
    "duration": 14,
    "start_time": "2023-01-20T10:51:46.212Z"
   },
   {
    "duration": 595,
    "start_time": "2023-01-20T10:51:46.228Z"
   },
   {
    "duration": 454,
    "start_time": "2023-01-20T10:51:46.824Z"
   },
   {
    "duration": 39,
    "start_time": "2023-01-20T10:51:47.279Z"
   },
   {
    "duration": 10,
    "start_time": "2023-01-20T10:51:47.320Z"
   },
   {
    "duration": 37,
    "start_time": "2023-01-20T10:51:47.332Z"
   },
   {
    "duration": 38,
    "start_time": "2023-01-20T10:51:47.371Z"
   },
   {
    "duration": 90,
    "start_time": "2023-01-20T10:51:47.410Z"
   },
   {
    "duration": 109,
    "start_time": "2023-01-20T10:51:47.502Z"
   },
   {
    "duration": 8,
    "start_time": "2023-01-20T10:51:47.612Z"
   },
   {
    "duration": 10,
    "start_time": "2023-01-20T10:51:47.621Z"
   },
   {
    "duration": 5,
    "start_time": "2023-01-20T10:51:47.633Z"
   },
   {
    "duration": 8,
    "start_time": "2023-01-20T10:51:47.639Z"
   },
   {
    "duration": 56,
    "start_time": "2023-01-20T10:51:47.649Z"
   },
   {
    "duration": 263,
    "start_time": "2023-01-20T10:51:47.707Z"
   },
   {
    "duration": 5,
    "start_time": "2023-01-20T10:51:47.973Z"
   },
   {
    "duration": 14,
    "start_time": "2023-01-20T10:51:47.979Z"
   },
   {
    "duration": 3,
    "start_time": "2023-01-20T10:51:47.995Z"
   },
   {
    "duration": 132,
    "start_time": "2023-01-20T10:51:47.999Z"
   },
   {
    "duration": 2,
    "start_time": "2023-01-20T10:51:48.133Z"
   },
   {
    "duration": 132,
    "start_time": "2023-01-20T10:51:48.136Z"
   },
   {
    "duration": 2,
    "start_time": "2023-01-20T10:51:48.269Z"
   },
   {
    "duration": 136,
    "start_time": "2023-01-20T10:51:48.272Z"
   },
   {
    "duration": 2,
    "start_time": "2023-01-20T10:51:48.410Z"
   },
   {
    "duration": 155,
    "start_time": "2023-01-20T10:51:48.413Z"
   },
   {
    "duration": 2,
    "start_time": "2023-01-20T10:51:48.570Z"
   },
   {
    "duration": 5,
    "start_time": "2023-01-20T10:51:48.574Z"
   },
   {
    "duration": 140,
    "start_time": "2023-01-20T10:51:48.580Z"
   },
   {
    "duration": 2,
    "start_time": "2023-01-20T10:51:48.722Z"
   },
   {
    "duration": 139,
    "start_time": "2023-01-20T10:51:48.725Z"
   },
   {
    "duration": 2,
    "start_time": "2023-01-20T10:51:48.866Z"
   },
   {
    "duration": 151,
    "start_time": "2023-01-20T10:51:48.870Z"
   },
   {
    "duration": 3,
    "start_time": "2023-01-20T10:51:49.022Z"
   },
   {
    "duration": 167,
    "start_time": "2023-01-20T10:51:49.026Z"
   },
   {
    "duration": 2,
    "start_time": "2023-01-20T10:52:37.793Z"
   },
   {
    "duration": 1235,
    "start_time": "2023-01-21T12:18:42.650Z"
   },
   {
    "duration": 683,
    "start_time": "2023-01-21T12:18:43.887Z"
   },
   {
    "duration": 13,
    "start_time": "2023-01-21T12:18:44.571Z"
   },
   {
    "duration": 41,
    "start_time": "2023-01-21T12:18:44.586Z"
   },
   {
    "duration": 12,
    "start_time": "2023-01-21T12:18:44.629Z"
   },
   {
    "duration": 14,
    "start_time": "2023-01-21T12:18:44.643Z"
   },
   {
    "duration": 56,
    "start_time": "2023-01-21T12:18:44.659Z"
   },
   {
    "duration": 78,
    "start_time": "2023-01-21T12:18:44.717Z"
   },
   {
    "duration": 22,
    "start_time": "2023-01-21T12:18:44.797Z"
   },
   {
    "duration": 53,
    "start_time": "2023-01-21T12:18:44.821Z"
   },
   {
    "duration": 9,
    "start_time": "2023-01-21T12:18:44.875Z"
   },
   {
    "duration": 22,
    "start_time": "2023-01-21T12:18:44.885Z"
   },
   {
    "duration": 32,
    "start_time": "2023-01-21T12:18:44.908Z"
   },
   {
    "duration": 585,
    "start_time": "2023-01-21T12:18:44.944Z"
   },
   {
    "duration": 460,
    "start_time": "2023-01-21T12:18:45.530Z"
   },
   {
    "duration": 35,
    "start_time": "2023-01-21T12:18:45.992Z"
   },
   {
    "duration": 16,
    "start_time": "2023-01-21T12:18:46.029Z"
   },
   {
    "duration": 8,
    "start_time": "2023-01-21T12:18:46.046Z"
   },
   {
    "duration": 23,
    "start_time": "2023-01-21T12:18:46.055Z"
   },
   {
    "duration": 65,
    "start_time": "2023-01-21T12:18:46.080Z"
   },
   {
    "duration": 107,
    "start_time": "2023-01-21T12:18:46.147Z"
   },
   {
    "duration": 7,
    "start_time": "2023-01-21T12:18:46.256Z"
   },
   {
    "duration": 14,
    "start_time": "2023-01-21T12:18:46.264Z"
   },
   {
    "duration": 8,
    "start_time": "2023-01-21T12:18:46.280Z"
   },
   {
    "duration": 8,
    "start_time": "2023-01-21T12:18:46.290Z"
   },
   {
    "duration": 51,
    "start_time": "2023-01-21T12:18:46.299Z"
   },
   {
    "duration": 243,
    "start_time": "2023-01-21T12:18:46.351Z"
   },
   {
    "duration": 5,
    "start_time": "2023-01-21T12:18:46.596Z"
   },
   {
    "duration": 8,
    "start_time": "2023-01-21T12:18:46.602Z"
   },
   {
    "duration": 5,
    "start_time": "2023-01-21T12:18:46.611Z"
   },
   {
    "duration": 140,
    "start_time": "2023-01-21T12:18:46.617Z"
   },
   {
    "duration": 3,
    "start_time": "2023-01-21T12:18:46.758Z"
   },
   {
    "duration": 149,
    "start_time": "2023-01-21T12:18:46.762Z"
   },
   {
    "duration": 3,
    "start_time": "2023-01-21T12:18:46.913Z"
   },
   {
    "duration": 145,
    "start_time": "2023-01-21T12:18:46.918Z"
   },
   {
    "duration": 2,
    "start_time": "2023-01-21T12:18:47.065Z"
   },
   {
    "duration": 174,
    "start_time": "2023-01-21T12:18:47.069Z"
   },
   {
    "duration": 2,
    "start_time": "2023-01-21T12:18:47.244Z"
   },
   {
    "duration": 6,
    "start_time": "2023-01-21T12:18:47.248Z"
   },
   {
    "duration": 144,
    "start_time": "2023-01-21T12:18:47.255Z"
   },
   {
    "duration": 3,
    "start_time": "2023-01-21T12:18:47.402Z"
   },
   {
    "duration": 153,
    "start_time": "2023-01-21T12:18:47.406Z"
   },
   {
    "duration": 2,
    "start_time": "2023-01-21T12:18:47.561Z"
   },
   {
    "duration": 134,
    "start_time": "2023-01-21T12:18:47.565Z"
   },
   {
    "duration": 2,
    "start_time": "2023-01-21T12:18:47.701Z"
   },
   {
    "duration": 186,
    "start_time": "2023-01-21T12:18:47.704Z"
   },
   {
    "duration": 1118,
    "start_time": "2023-01-21T15:28:11.948Z"
   },
   {
    "duration": 154,
    "start_time": "2023-01-21T15:28:13.067Z"
   },
   {
    "duration": 12,
    "start_time": "2023-01-21T15:28:13.222Z"
   },
   {
    "duration": 28,
    "start_time": "2023-01-21T15:28:13.236Z"
   },
   {
    "duration": 13,
    "start_time": "2023-01-21T15:28:13.265Z"
   },
   {
    "duration": 16,
    "start_time": "2023-01-21T15:28:13.279Z"
   },
   {
    "duration": 81,
    "start_time": "2023-01-21T15:28:13.297Z"
   },
   {
    "duration": 78,
    "start_time": "2023-01-21T15:28:13.380Z"
   },
   {
    "duration": 23,
    "start_time": "2023-01-21T15:28:13.460Z"
   },
   {
    "duration": 72,
    "start_time": "2023-01-21T15:28:13.486Z"
   },
   {
    "duration": 12,
    "start_time": "2023-01-21T15:28:13.560Z"
   },
   {
    "duration": 22,
    "start_time": "2023-01-21T15:28:13.574Z"
   },
   {
    "duration": 15,
    "start_time": "2023-01-21T15:28:13.598Z"
   },
   {
    "duration": 615,
    "start_time": "2023-01-21T15:28:13.614Z"
   },
   {
    "duration": 497,
    "start_time": "2023-01-21T15:28:14.230Z"
   },
   {
    "duration": 39,
    "start_time": "2023-01-21T15:28:14.729Z"
   },
   {
    "duration": 12,
    "start_time": "2023-01-21T15:28:14.770Z"
   },
   {
    "duration": 12,
    "start_time": "2023-01-21T15:28:14.783Z"
   },
   {
    "duration": 24,
    "start_time": "2023-01-21T15:28:14.797Z"
   },
   {
    "duration": 69,
    "start_time": "2023-01-21T15:28:14.823Z"
   },
   {
    "duration": 108,
    "start_time": "2023-01-21T15:28:14.893Z"
   },
   {
    "duration": 9,
    "start_time": "2023-01-21T15:28:15.002Z"
   },
   {
    "duration": 17,
    "start_time": "2023-01-21T15:28:15.012Z"
   },
   {
    "duration": 23,
    "start_time": "2023-01-21T15:28:15.030Z"
   },
   {
    "duration": 6,
    "start_time": "2023-01-21T15:28:15.055Z"
   },
   {
    "duration": 34,
    "start_time": "2023-01-21T15:28:15.063Z"
   },
   {
    "duration": 275,
    "start_time": "2023-01-21T15:28:15.099Z"
   },
   {
    "duration": 6,
    "start_time": "2023-01-21T15:28:15.377Z"
   },
   {
    "duration": 15,
    "start_time": "2023-01-21T15:28:15.384Z"
   },
   {
    "duration": 12,
    "start_time": "2023-01-21T15:28:15.401Z"
   },
   {
    "duration": 152,
    "start_time": "2023-01-21T15:28:15.415Z"
   },
   {
    "duration": 2,
    "start_time": "2023-01-21T15:28:15.569Z"
   },
   {
    "duration": 150,
    "start_time": "2023-01-21T15:28:15.572Z"
   },
   {
    "duration": 3,
    "start_time": "2023-01-21T15:28:15.723Z"
   },
   {
    "duration": 152,
    "start_time": "2023-01-21T15:28:15.727Z"
   },
   {
    "duration": 2,
    "start_time": "2023-01-21T15:28:15.881Z"
   },
   {
    "duration": 203,
    "start_time": "2023-01-21T15:28:15.884Z"
   },
   {
    "duration": 2,
    "start_time": "2023-01-21T15:28:16.089Z"
   },
   {
    "duration": 6,
    "start_time": "2023-01-21T15:28:16.093Z"
   },
   {
    "duration": 195,
    "start_time": "2023-01-21T15:28:16.100Z"
   },
   {
    "duration": 3,
    "start_time": "2023-01-21T15:28:16.297Z"
   },
   {
    "duration": 186,
    "start_time": "2023-01-21T15:28:16.302Z"
   },
   {
    "duration": 3,
    "start_time": "2023-01-21T15:28:16.490Z"
   },
   {
    "duration": 177,
    "start_time": "2023-01-21T15:28:16.494Z"
   },
   {
    "duration": 2,
    "start_time": "2023-01-21T15:28:16.673Z"
   },
   {
    "duration": 194,
    "start_time": "2023-01-21T15:28:16.677Z"
   },
   {
    "duration": 45,
    "start_time": "2023-01-22T10:39:00.817Z"
   },
   {
    "duration": 4,
    "start_time": "2023-01-22T10:39:06.688Z"
   },
   {
    "duration": 6,
    "start_time": "2023-01-22T10:39:07.225Z"
   },
   {
    "duration": 1250,
    "start_time": "2023-01-22T10:39:39.898Z"
   },
   {
    "duration": 720,
    "start_time": "2023-01-22T10:39:41.150Z"
   },
   {
    "duration": 13,
    "start_time": "2023-01-22T10:39:41.871Z"
   },
   {
    "duration": 19,
    "start_time": "2023-01-22T10:39:41.885Z"
   },
   {
    "duration": 13,
    "start_time": "2023-01-22T10:39:41.905Z"
   },
   {
    "duration": 14,
    "start_time": "2023-01-22T10:39:41.919Z"
   },
   {
    "duration": 160,
    "start_time": "2023-01-22T10:39:41.934Z"
   },
   {
    "duration": 126,
    "start_time": "2023-01-22T10:39:42.096Z"
   },
   {
    "duration": 75,
    "start_time": "2023-01-22T10:39:42.223Z"
   },
   {
    "duration": 95,
    "start_time": "2023-01-22T10:39:42.301Z"
   },
   {
    "duration": 9,
    "start_time": "2023-01-22T10:39:42.397Z"
   },
   {
    "duration": 27,
    "start_time": "2023-01-22T10:39:42.407Z"
   },
   {
    "duration": 69,
    "start_time": "2023-01-22T10:39:42.436Z"
   },
   {
    "duration": 1108,
    "start_time": "2023-01-22T10:39:42.506Z"
   },
   {
    "duration": 499,
    "start_time": "2023-01-22T10:39:43.616Z"
   },
   {
    "duration": 31,
    "start_time": "2023-01-22T10:39:44.116Z"
   },
   {
    "duration": 18,
    "start_time": "2023-01-22T10:39:44.149Z"
   },
   {
    "duration": 27,
    "start_time": "2023-01-22T10:39:44.169Z"
   },
   {
    "duration": 24,
    "start_time": "2023-01-22T10:39:44.198Z"
   },
   {
    "duration": 75,
    "start_time": "2023-01-22T10:39:44.224Z"
   },
   {
    "duration": 112,
    "start_time": "2023-01-22T10:39:44.301Z"
   },
   {
    "duration": 7,
    "start_time": "2023-01-22T10:39:44.414Z"
   },
   {
    "duration": 11,
    "start_time": "2023-01-22T10:39:44.423Z"
   },
   {
    "duration": 5,
    "start_time": "2023-01-22T10:39:44.435Z"
   },
   {
    "duration": 8,
    "start_time": "2023-01-22T10:39:44.441Z"
   },
   {
    "duration": 51,
    "start_time": "2023-01-22T10:39:44.450Z"
   },
   {
    "duration": 257,
    "start_time": "2023-01-22T10:39:44.503Z"
   },
   {
    "duration": 5,
    "start_time": "2023-01-22T10:39:44.763Z"
   },
   {
    "duration": 7,
    "start_time": "2023-01-22T10:39:44.769Z"
   },
   {
    "duration": 5,
    "start_time": "2023-01-22T10:39:44.777Z"
   },
   {
    "duration": 130,
    "start_time": "2023-01-22T10:39:44.783Z"
   },
   {
    "duration": 3,
    "start_time": "2023-01-22T10:39:44.914Z"
   },
   {
    "duration": 144,
    "start_time": "2023-01-22T10:39:44.919Z"
   },
   {
    "duration": 3,
    "start_time": "2023-01-22T10:39:45.065Z"
   },
   {
    "duration": 147,
    "start_time": "2023-01-22T10:39:45.070Z"
   },
   {
    "duration": 2,
    "start_time": "2023-01-22T10:39:45.219Z"
   },
   {
    "duration": 195,
    "start_time": "2023-01-22T10:39:45.223Z"
   },
   {
    "duration": 3,
    "start_time": "2023-01-22T10:39:45.419Z"
   },
   {
    "duration": 5,
    "start_time": "2023-01-22T10:39:45.423Z"
   },
   {
    "duration": 5,
    "start_time": "2023-01-22T10:39:45.430Z"
   },
   {
    "duration": 130,
    "start_time": "2023-01-22T10:39:45.436Z"
   },
   {
    "duration": 134,
    "start_time": "2023-01-22T10:39:45.567Z"
   },
   {
    "duration": 3,
    "start_time": "2023-01-22T10:39:45.702Z"
   },
   {
    "duration": 218,
    "start_time": "2023-01-22T10:39:45.706Z"
   },
   {
    "duration": 3,
    "start_time": "2023-01-22T10:39:45.925Z"
   },
   {
    "duration": 212,
    "start_time": "2023-01-22T10:39:45.929Z"
   },
   {
    "duration": 2,
    "start_time": "2023-01-22T10:39:46.143Z"
   },
   {
    "duration": 182,
    "start_time": "2023-01-22T10:39:46.146Z"
   },
   {
    "duration": 71,
    "start_time": "2023-01-22T10:53:35.761Z"
   },
   {
    "duration": 69,
    "start_time": "2023-01-22T10:53:46.799Z"
   },
   {
    "duration": 73,
    "start_time": "2023-01-22T10:57:37.439Z"
   },
   {
    "duration": 73,
    "start_time": "2023-01-22T10:57:58.049Z"
   },
   {
    "duration": 106,
    "start_time": "2023-01-22T10:58:47.916Z"
   },
   {
    "duration": 3,
    "start_time": "2023-01-22T10:58:53.116Z"
   },
   {
    "duration": 9,
    "start_time": "2023-01-22T10:58:53.579Z"
   },
   {
    "duration": 9,
    "start_time": "2023-01-22T10:59:47.206Z"
   },
   {
    "duration": 9,
    "start_time": "2023-01-22T11:01:52.977Z"
   },
   {
    "duration": 10,
    "start_time": "2023-01-22T11:02:25.291Z"
   },
   {
    "duration": 8,
    "start_time": "2023-01-22T11:02:35.586Z"
   },
   {
    "duration": 71,
    "start_time": "2023-01-22T11:15:49.103Z"
   },
   {
    "duration": 70,
    "start_time": "2023-01-22T11:15:54.908Z"
   },
   {
    "duration": 9,
    "start_time": "2023-01-22T11:16:05.356Z"
   },
   {
    "duration": 9,
    "start_time": "2023-01-22T11:17:12.796Z"
   },
   {
    "duration": 3,
    "start_time": "2023-01-22T11:17:45.238Z"
   },
   {
    "duration": 8,
    "start_time": "2023-01-22T11:17:59.195Z"
   },
   {
    "duration": 4,
    "start_time": "2023-01-22T11:18:11.163Z"
   },
   {
    "duration": 10,
    "start_time": "2023-01-22T11:20:57.905Z"
   },
   {
    "duration": 21,
    "start_time": "2023-01-22T11:21:34.985Z"
   },
   {
    "duration": 3,
    "start_time": "2023-01-22T11:21:39.569Z"
   },
   {
    "duration": 104,
    "start_time": "2023-01-22T11:21:40.169Z"
   },
   {
    "duration": 6,
    "start_time": "2023-01-22T11:22:19.057Z"
   },
   {
    "duration": 75,
    "start_time": "2023-01-22T11:27:20.112Z"
   },
   {
    "duration": 282,
    "start_time": "2023-01-22T11:27:26.670Z"
   },
   {
    "duration": 70,
    "start_time": "2023-01-22T11:29:35.406Z"
   },
   {
    "duration": 177,
    "start_time": "2023-01-22T11:37:22.404Z"
   },
   {
    "duration": 3,
    "start_time": "2023-01-22T11:43:31.638Z"
   },
   {
    "duration": 3,
    "start_time": "2023-01-22T11:43:41.774Z"
   },
   {
    "duration": 552,
    "start_time": "2023-01-22T11:51:48.294Z"
   },
   {
    "duration": 580,
    "start_time": "2023-01-22T11:52:22.057Z"
   },
   {
    "duration": 3,
    "start_time": "2023-01-22T11:52:30.521Z"
   },
   {
    "duration": 541,
    "start_time": "2023-01-22T11:52:30.933Z"
   },
   {
    "duration": 446,
    "start_time": "2023-01-22T11:52:54.521Z"
   },
   {
    "duration": 83,
    "start_time": "2023-01-22T11:53:02.454Z"
   },
   {
    "duration": 9,
    "start_time": "2023-01-22T12:40:16.534Z"
   },
   {
    "duration": 65,
    "start_time": "2023-01-22T12:40:22.620Z"
   },
   {
    "duration": 422,
    "start_time": "2023-01-22T12:44:04.997Z"
   },
   {
    "duration": 8,
    "start_time": "2023-01-22T12:44:19.168Z"
   },
   {
    "duration": 429,
    "start_time": "2023-01-22T12:44:20.067Z"
   },
   {
    "duration": 408,
    "start_time": "2023-01-22T12:45:01.339Z"
   },
   {
    "duration": 85,
    "start_time": "2023-01-22T13:11:25.758Z"
   },
   {
    "duration": 3,
    "start_time": "2023-01-22T13:12:29.027Z"
   },
   {
    "duration": 3,
    "start_time": "2023-01-22T13:12:29.539Z"
   },
   {
    "duration": 77,
    "start_time": "2023-01-22T13:12:30.076Z"
   },
   {
    "duration": 95,
    "start_time": "2023-01-22T13:12:31.291Z"
   },
   {
    "duration": 4,
    "start_time": "2023-01-22T13:16:30.854Z"
   },
   {
    "duration": 9,
    "start_time": "2023-01-22T13:22:42.870Z"
   },
   {
    "duration": 300,
    "start_time": "2023-01-22T13:22:51.741Z"
   },
   {
    "duration": 10,
    "start_time": "2023-01-22T13:23:22.917Z"
   },
   {
    "duration": 214,
    "start_time": "2023-01-22T13:24:17.238Z"
   },
   {
    "duration": 375,
    "start_time": "2023-01-22T13:25:26.340Z"
   },
   {
    "duration": 252,
    "start_time": "2023-01-22T13:25:34.166Z"
   },
   {
    "duration": 203,
    "start_time": "2023-01-22T13:25:58.756Z"
   },
   {
    "duration": 221,
    "start_time": "2023-01-22T13:26:06.587Z"
   },
   {
    "duration": 504,
    "start_time": "2023-01-22T13:26:15.277Z"
   },
   {
    "duration": 318,
    "start_time": "2023-01-22T13:26:34.388Z"
   },
   {
    "duration": 275,
    "start_time": "2023-01-22T13:26:40.044Z"
   },
   {
    "duration": 18,
    "start_time": "2023-01-22T13:27:42.219Z"
   },
   {
    "duration": 305,
    "start_time": "2023-01-22T13:30:29.282Z"
   },
   {
    "duration": 391,
    "start_time": "2023-01-22T13:31:05.215Z"
   },
   {
    "duration": 308,
    "start_time": "2023-01-22T13:31:15.481Z"
   },
   {
    "duration": 346,
    "start_time": "2023-01-22T13:31:25.145Z"
   },
   {
    "duration": 379,
    "start_time": "2023-01-22T13:31:30.648Z"
   },
   {
    "duration": 331,
    "start_time": "2023-01-22T13:31:48.398Z"
   },
   {
    "duration": 388,
    "start_time": "2023-01-22T13:32:00.318Z"
   },
   {
    "duration": 450,
    "start_time": "2023-01-22T13:32:32.129Z"
   },
   {
    "duration": 258,
    "start_time": "2023-01-22T13:32:45.856Z"
   },
   {
    "duration": 413,
    "start_time": "2023-01-22T13:33:23.744Z"
   },
   {
    "duration": 339,
    "start_time": "2023-01-22T13:33:32.423Z"
   },
   {
    "duration": 68,
    "start_time": "2023-01-22T13:37:55.503Z"
   },
   {
    "duration": 81,
    "start_time": "2023-01-22T13:38:05.021Z"
   },
   {
    "duration": 19,
    "start_time": "2023-01-22T13:38:14.517Z"
   },
   {
    "duration": 17,
    "start_time": "2023-01-22T13:39:57.901Z"
   },
   {
    "duration": 21,
    "start_time": "2023-01-22T13:40:16.740Z"
   },
   {
    "duration": 34,
    "start_time": "2023-01-22T13:40:27.436Z"
   },
   {
    "duration": 79,
    "start_time": "2023-01-22T13:42:14.290Z"
   },
   {
    "duration": 68,
    "start_time": "2023-01-22T13:42:56.299Z"
   },
   {
    "duration": 64,
    "start_time": "2023-01-22T13:43:07.418Z"
   },
   {
    "duration": 22,
    "start_time": "2023-01-22T13:43:15.002Z"
   },
   {
    "duration": 22,
    "start_time": "2023-01-22T13:44:16.028Z"
   },
   {
    "duration": 22,
    "start_time": "2023-01-22T13:44:19.034Z"
   },
   {
    "duration": 1226,
    "start_time": "2023-01-22T13:44:33.796Z"
   },
   {
    "duration": 153,
    "start_time": "2023-01-22T13:44:35.024Z"
   },
   {
    "duration": 19,
    "start_time": "2023-01-22T13:44:35.179Z"
   },
   {
    "duration": 20,
    "start_time": "2023-01-22T13:44:35.200Z"
   },
   {
    "duration": 12,
    "start_time": "2023-01-22T13:44:35.223Z"
   },
   {
    "duration": 14,
    "start_time": "2023-01-22T13:44:35.236Z"
   },
   {
    "duration": 88,
    "start_time": "2023-01-22T13:44:35.251Z"
   },
   {
    "duration": 95,
    "start_time": "2023-01-22T13:44:35.341Z"
   },
   {
    "duration": 20,
    "start_time": "2023-01-22T13:44:35.438Z"
   },
   {
    "duration": 69,
    "start_time": "2023-01-22T13:44:35.460Z"
   },
   {
    "duration": 7,
    "start_time": "2023-01-22T13:44:35.530Z"
   },
   {
    "duration": 27,
    "start_time": "2023-01-22T13:44:35.539Z"
   },
   {
    "duration": 295,
    "start_time": "2023-01-22T13:44:35.567Z"
   },
   {
    "duration": 17,
    "start_time": "2023-01-22T13:44:35.864Z"
   },
   {
    "duration": 625,
    "start_time": "2023-01-22T13:44:35.883Z"
   },
   {
    "duration": 428,
    "start_time": "2023-01-22T13:44:36.510Z"
   },
   {
    "duration": 34,
    "start_time": "2023-01-22T13:44:36.940Z"
   },
   {
    "duration": 32,
    "start_time": "2023-01-22T13:44:36.976Z"
   },
   {
    "duration": 13,
    "start_time": "2023-01-22T13:44:37.009Z"
   },
   {
    "duration": 21,
    "start_time": "2023-01-22T13:44:37.024Z"
   },
   {
    "duration": 127,
    "start_time": "2023-01-22T13:44:37.046Z"
   },
   {
    "duration": 102,
    "start_time": "2023-01-22T13:44:37.174Z"
   },
   {
    "duration": 16,
    "start_time": "2023-01-22T13:44:37.278Z"
   },
   {
    "duration": 11,
    "start_time": "2023-01-22T13:44:37.296Z"
   },
   {
    "duration": 6,
    "start_time": "2023-01-22T13:44:37.308Z"
   },
   {
    "duration": 8,
    "start_time": "2023-01-22T13:44:37.315Z"
   },
   {
    "duration": 40,
    "start_time": "2023-01-22T13:44:37.325Z"
   },
   {
    "duration": 243,
    "start_time": "2023-01-22T13:44:37.367Z"
   },
   {
    "duration": 5,
    "start_time": "2023-01-22T13:44:37.612Z"
   },
   {
    "duration": 8,
    "start_time": "2023-01-22T13:44:37.619Z"
   },
   {
    "duration": 8,
    "start_time": "2023-01-22T13:44:37.629Z"
   },
   {
    "duration": 132,
    "start_time": "2023-01-22T13:44:37.638Z"
   },
   {
    "duration": 2,
    "start_time": "2023-01-22T13:44:37.771Z"
   },
   {
    "duration": 142,
    "start_time": "2023-01-22T13:44:37.775Z"
   },
   {
    "duration": 2,
    "start_time": "2023-01-22T13:44:37.919Z"
   },
   {
    "duration": 153,
    "start_time": "2023-01-22T13:44:37.923Z"
   },
   {
    "duration": 3,
    "start_time": "2023-01-22T13:44:38.078Z"
   },
   {
    "duration": 177,
    "start_time": "2023-01-22T13:44:38.093Z"
   },
   {
    "duration": 2,
    "start_time": "2023-01-22T13:44:38.272Z"
   },
   {
    "duration": 17,
    "start_time": "2023-01-22T13:44:38.276Z"
   },
   {
    "duration": 10,
    "start_time": "2023-01-22T13:44:38.297Z"
   },
   {
    "duration": 66,
    "start_time": "2023-01-22T13:44:38.309Z"
   },
   {
    "duration": 0,
    "start_time": "2023-01-22T13:44:38.376Z"
   },
   {
    "duration": 0,
    "start_time": "2023-01-22T13:44:38.378Z"
   },
   {
    "duration": 0,
    "start_time": "2023-01-22T13:44:38.379Z"
   },
   {
    "duration": 0,
    "start_time": "2023-01-22T13:44:38.380Z"
   },
   {
    "duration": 0,
    "start_time": "2023-01-22T13:44:38.381Z"
   },
   {
    "duration": 0,
    "start_time": "2023-01-22T13:44:38.382Z"
   },
   {
    "duration": 0,
    "start_time": "2023-01-22T13:44:38.383Z"
   },
   {
    "duration": 0,
    "start_time": "2023-01-22T13:44:38.384Z"
   },
   {
    "duration": 12,
    "start_time": "2023-01-22T13:47:49.262Z"
   },
   {
    "duration": 12,
    "start_time": "2023-01-22T13:48:34.415Z"
   },
   {
    "duration": 13,
    "start_time": "2023-01-22T13:50:34.866Z"
   },
   {
    "duration": 14,
    "start_time": "2023-01-22T13:50:54.013Z"
   },
   {
    "duration": 5,
    "start_time": "2023-01-22T13:51:14.362Z"
   },
   {
    "duration": 100,
    "start_time": "2023-01-22T13:51:17.621Z"
   },
   {
    "duration": 13,
    "start_time": "2023-01-22T13:51:23.285Z"
   },
   {
    "duration": 11,
    "start_time": "2023-01-22T13:51:55.117Z"
   },
   {
    "duration": 12,
    "start_time": "2023-01-22T13:52:09.469Z"
   },
   {
    "duration": 11,
    "start_time": "2023-01-22T13:52:22.821Z"
   },
   {
    "duration": 12,
    "start_time": "2023-01-22T13:52:33.386Z"
   },
   {
    "duration": 12,
    "start_time": "2023-01-22T13:52:47.164Z"
   },
   {
    "duration": 11,
    "start_time": "2023-01-22T13:53:11.956Z"
   },
   {
    "duration": 8,
    "start_time": "2023-01-23T09:00:59.261Z"
   },
   {
    "duration": 40,
    "start_time": "2023-01-23T09:12:22.456Z"
   },
   {
    "duration": 1363,
    "start_time": "2023-01-23T09:19:03.837Z"
   },
   {
    "duration": 682,
    "start_time": "2023-01-23T09:19:05.203Z"
   },
   {
    "duration": 13,
    "start_time": "2023-01-23T09:19:05.887Z"
   },
   {
    "duration": 34,
    "start_time": "2023-01-23T09:19:05.902Z"
   },
   {
    "duration": 14,
    "start_time": "2023-01-23T09:19:05.938Z"
   },
   {
    "duration": 82,
    "start_time": "2023-01-23T09:19:05.954Z"
   },
   {
    "duration": 97,
    "start_time": "2023-01-23T09:19:06.037Z"
   },
   {
    "duration": 116,
    "start_time": "2023-01-23T09:19:06.136Z"
   },
   {
    "duration": 21,
    "start_time": "2023-01-23T09:19:06.254Z"
   },
   {
    "duration": 59,
    "start_time": "2023-01-23T09:19:06.277Z"
   },
   {
    "duration": 7,
    "start_time": "2023-01-23T09:19:06.338Z"
   },
   {
    "duration": 43,
    "start_time": "2023-01-23T09:19:06.347Z"
   },
   {
    "duration": 303,
    "start_time": "2023-01-23T09:19:06.392Z"
   },
   {
    "duration": 18,
    "start_time": "2023-01-23T09:19:06.698Z"
   },
   {
    "duration": 683,
    "start_time": "2023-01-23T09:19:06.717Z"
   },
   {
    "duration": 484,
    "start_time": "2023-01-23T09:19:07.402Z"
   },
   {
    "duration": 46,
    "start_time": "2023-01-23T09:19:07.888Z"
   },
   {
    "duration": 11,
    "start_time": "2023-01-23T09:19:07.936Z"
   },
   {
    "duration": 28,
    "start_time": "2023-01-23T09:19:07.949Z"
   },
   {
    "duration": 38,
    "start_time": "2023-01-23T09:19:07.979Z"
   },
   {
    "duration": 131,
    "start_time": "2023-01-23T09:19:08.018Z"
   },
   {
    "duration": 110,
    "start_time": "2023-01-23T09:19:08.150Z"
   },
   {
    "duration": 7,
    "start_time": "2023-01-23T09:19:08.261Z"
   },
   {
    "duration": 31,
    "start_time": "2023-01-23T09:19:08.269Z"
   },
   {
    "duration": 12,
    "start_time": "2023-01-23T09:19:08.302Z"
   },
   {
    "duration": 19,
    "start_time": "2023-01-23T09:19:08.316Z"
   },
   {
    "duration": 44,
    "start_time": "2023-01-23T09:19:08.337Z"
   },
   {
    "duration": 254,
    "start_time": "2023-01-23T09:19:08.382Z"
   },
   {
    "duration": 4,
    "start_time": "2023-01-23T09:19:08.637Z"
   },
   {
    "duration": 427,
    "start_time": "2023-01-23T09:19:08.643Z"
   },
   {
    "duration": 0,
    "start_time": "2023-01-23T09:19:09.072Z"
   },
   {
    "duration": 0,
    "start_time": "2023-01-23T09:19:09.074Z"
   },
   {
    "duration": 0,
    "start_time": "2023-01-23T09:19:09.075Z"
   },
   {
    "duration": 0,
    "start_time": "2023-01-23T09:19:09.076Z"
   },
   {
    "duration": 0,
    "start_time": "2023-01-23T09:19:09.077Z"
   },
   {
    "duration": 0,
    "start_time": "2023-01-23T09:19:09.078Z"
   },
   {
    "duration": 0,
    "start_time": "2023-01-23T09:19:09.080Z"
   },
   {
    "duration": 0,
    "start_time": "2023-01-23T09:19:09.082Z"
   },
   {
    "duration": 0,
    "start_time": "2023-01-23T09:19:09.099Z"
   },
   {
    "duration": 0,
    "start_time": "2023-01-23T09:19:09.101Z"
   },
   {
    "duration": 0,
    "start_time": "2023-01-23T09:19:09.104Z"
   },
   {
    "duration": 0,
    "start_time": "2023-01-23T09:19:09.105Z"
   },
   {
    "duration": 0,
    "start_time": "2023-01-23T09:19:09.105Z"
   },
   {
    "duration": 0,
    "start_time": "2023-01-23T09:19:09.106Z"
   },
   {
    "duration": 0,
    "start_time": "2023-01-23T09:19:09.107Z"
   },
   {
    "duration": 0,
    "start_time": "2023-01-23T09:19:09.108Z"
   },
   {
    "duration": 0,
    "start_time": "2023-01-23T09:19:09.109Z"
   },
   {
    "duration": 0,
    "start_time": "2023-01-23T09:19:09.110Z"
   },
   {
    "duration": 0,
    "start_time": "2023-01-23T09:19:09.111Z"
   },
   {
    "duration": 0,
    "start_time": "2023-01-23T09:19:09.112Z"
   },
   {
    "duration": 0,
    "start_time": "2023-01-23T09:19:09.113Z"
   },
   {
    "duration": 0,
    "start_time": "2023-01-23T09:19:09.114Z"
   },
   {
    "duration": 341,
    "start_time": "2023-01-23T09:21:54.759Z"
   },
   {
    "duration": 305,
    "start_time": "2023-01-23T09:22:30.104Z"
   },
   {
    "duration": 344,
    "start_time": "2023-01-23T09:24:10.182Z"
   },
   {
    "duration": 324,
    "start_time": "2023-01-23T09:24:53.565Z"
   },
   {
    "duration": 361,
    "start_time": "2023-01-23T09:38:21.319Z"
   },
   {
    "duration": 10,
    "start_time": "2023-01-23T09:38:32.518Z"
   },
   {
    "duration": 501,
    "start_time": "2023-01-23T09:38:47.087Z"
   },
   {
    "duration": 399,
    "start_time": "2023-01-23T09:39:01.223Z"
   },
   {
    "duration": 339,
    "start_time": "2023-01-23T09:39:15.110Z"
   },
   {
    "duration": 355,
    "start_time": "2023-01-23T09:41:01.605Z"
   },
   {
    "duration": 375,
    "start_time": "2023-01-23T09:41:55.796Z"
   },
   {
    "duration": 376,
    "start_time": "2023-01-23T09:42:52.110Z"
   },
   {
    "duration": 422,
    "start_time": "2023-01-23T09:43:15.750Z"
   },
   {
    "duration": 581,
    "start_time": "2023-01-23T11:45:10.236Z"
   },
   {
    "duration": 530,
    "start_time": "2023-01-23T11:46:19.133Z"
   },
   {
    "duration": 564,
    "start_time": "2023-01-23T11:47:18.068Z"
   },
   {
    "duration": 1168,
    "start_time": "2023-01-23T11:48:45.863Z"
   },
   {
    "duration": 160,
    "start_time": "2023-01-23T11:48:47.034Z"
   },
   {
    "duration": 17,
    "start_time": "2023-01-23T11:48:47.196Z"
   },
   {
    "duration": 24,
    "start_time": "2023-01-23T11:48:47.215Z"
   },
   {
    "duration": 13,
    "start_time": "2023-01-23T11:48:47.241Z"
   },
   {
    "duration": 19,
    "start_time": "2023-01-23T11:48:47.256Z"
   },
   {
    "duration": 83,
    "start_time": "2023-01-23T11:48:47.277Z"
   },
   {
    "duration": 103,
    "start_time": "2023-01-23T11:48:47.361Z"
   },
   {
    "duration": 35,
    "start_time": "2023-01-23T11:48:47.466Z"
   },
   {
    "duration": 50,
    "start_time": "2023-01-23T11:48:47.504Z"
   },
   {
    "duration": 8,
    "start_time": "2023-01-23T11:48:47.556Z"
   },
   {
    "duration": 137,
    "start_time": "2023-01-23T11:48:47.565Z"
   },
   {
    "duration": 344,
    "start_time": "2023-01-23T11:48:47.703Z"
   },
   {
    "duration": 22,
    "start_time": "2023-01-23T11:48:48.050Z"
   },
   {
    "duration": 731,
    "start_time": "2023-01-23T11:48:48.074Z"
   },
   {
    "duration": 509,
    "start_time": "2023-01-23T11:48:48.807Z"
   },
   {
    "duration": 36,
    "start_time": "2023-01-23T11:48:49.318Z"
   },
   {
    "duration": 13,
    "start_time": "2023-01-23T11:48:49.356Z"
   },
   {
    "duration": 29,
    "start_time": "2023-01-23T11:48:49.371Z"
   },
   {
    "duration": 38,
    "start_time": "2023-01-23T11:48:49.402Z"
   },
   {
    "duration": 147,
    "start_time": "2023-01-23T11:48:49.442Z"
   },
   {
    "duration": 134,
    "start_time": "2023-01-23T11:48:49.592Z"
   },
   {
    "duration": 9,
    "start_time": "2023-01-23T11:48:49.728Z"
   },
   {
    "duration": 19,
    "start_time": "2023-01-23T11:48:49.738Z"
   },
   {
    "duration": 6,
    "start_time": "2023-01-23T11:48:49.759Z"
   },
   {
    "duration": 12,
    "start_time": "2023-01-23T11:48:49.767Z"
   },
   {
    "duration": 37,
    "start_time": "2023-01-23T11:48:49.800Z"
   },
   {
    "duration": 296,
    "start_time": "2023-01-23T11:48:49.841Z"
   },
   {
    "duration": 4,
    "start_time": "2023-01-23T11:48:50.139Z"
   },
   {
    "duration": 712,
    "start_time": "2023-01-23T11:48:50.145Z"
   },
   {
    "duration": 0,
    "start_time": "2023-01-23T11:48:50.859Z"
   },
   {
    "duration": 0,
    "start_time": "2023-01-23T11:48:50.860Z"
   },
   {
    "duration": 0,
    "start_time": "2023-01-23T11:48:50.861Z"
   },
   {
    "duration": 0,
    "start_time": "2023-01-23T11:48:50.862Z"
   },
   {
    "duration": 0,
    "start_time": "2023-01-23T11:48:50.864Z"
   },
   {
    "duration": 0,
    "start_time": "2023-01-23T11:48:50.865Z"
   },
   {
    "duration": 0,
    "start_time": "2023-01-23T11:48:50.866Z"
   },
   {
    "duration": 0,
    "start_time": "2023-01-23T11:48:50.867Z"
   },
   {
    "duration": 0,
    "start_time": "2023-01-23T11:48:50.868Z"
   },
   {
    "duration": 0,
    "start_time": "2023-01-23T11:48:50.869Z"
   },
   {
    "duration": 0,
    "start_time": "2023-01-23T11:48:50.870Z"
   },
   {
    "duration": 0,
    "start_time": "2023-01-23T11:48:50.872Z"
   },
   {
    "duration": 0,
    "start_time": "2023-01-23T11:48:50.899Z"
   },
   {
    "duration": 0,
    "start_time": "2023-01-23T11:48:50.900Z"
   },
   {
    "duration": 0,
    "start_time": "2023-01-23T11:48:50.902Z"
   },
   {
    "duration": 0,
    "start_time": "2023-01-23T11:48:50.903Z"
   },
   {
    "duration": 0,
    "start_time": "2023-01-23T11:48:50.904Z"
   },
   {
    "duration": 0,
    "start_time": "2023-01-23T11:48:50.905Z"
   },
   {
    "duration": 0,
    "start_time": "2023-01-23T11:48:50.907Z"
   },
   {
    "duration": 0,
    "start_time": "2023-01-23T11:48:50.908Z"
   },
   {
    "duration": 0,
    "start_time": "2023-01-23T11:48:50.909Z"
   },
   {
    "duration": 0,
    "start_time": "2023-01-23T11:48:50.910Z"
   },
   {
    "duration": 3,
    "start_time": "2023-01-23T11:51:29.862Z"
   },
   {
    "duration": 505,
    "start_time": "2023-01-23T11:51:30.469Z"
   },
   {
    "duration": 4,
    "start_time": "2023-01-23T11:52:44.220Z"
   },
   {
    "duration": 596,
    "start_time": "2023-01-23T11:52:45.041Z"
   },
   {
    "duration": 10,
    "start_time": "2023-01-23T11:53:42.187Z"
   },
   {
    "duration": 3,
    "start_time": "2023-01-23T11:53:52.933Z"
   },
   {
    "duration": 3,
    "start_time": "2023-01-23T11:54:04.331Z"
   },
   {
    "duration": 530,
    "start_time": "2023-01-23T11:54:07.112Z"
   },
   {
    "duration": 522,
    "start_time": "2023-01-23T11:55:15.180Z"
   },
   {
    "duration": 434,
    "start_time": "2023-01-23T11:59:03.538Z"
   },
   {
    "duration": 43,
    "start_time": "2023-01-23T11:59:28.144Z"
   },
   {
    "duration": 87,
    "start_time": "2023-01-23T12:08:36.899Z"
   },
   {
    "duration": 586,
    "start_time": "2023-01-23T12:30:23.368Z"
   },
   {
    "duration": 593,
    "start_time": "2023-01-23T12:31:27.025Z"
   },
   {
    "duration": 520,
    "start_time": "2023-01-23T12:32:08.022Z"
   },
   {
    "duration": 10,
    "start_time": "2023-01-23T12:32:28.023Z"
   },
   {
    "duration": 2,
    "start_time": "2023-01-23T12:32:32.438Z"
   },
   {
    "duration": 10,
    "start_time": "2023-01-23T12:32:32.726Z"
   },
   {
    "duration": 573,
    "start_time": "2023-01-23T12:33:45.880Z"
   },
   {
    "duration": 644,
    "start_time": "2023-01-23T12:34:43.894Z"
   },
   {
    "duration": 622,
    "start_time": "2023-01-23T12:37:25.249Z"
   },
   {
    "duration": 593,
    "start_time": "2023-01-23T12:40:48.771Z"
   },
   {
    "duration": 544,
    "start_time": "2023-01-23T12:41:40.850Z"
   },
   {
    "duration": 538,
    "start_time": "2023-01-23T12:43:48.888Z"
   },
   {
    "duration": 576,
    "start_time": "2023-01-23T12:44:51.385Z"
   },
   {
    "duration": 1991,
    "start_time": "2023-01-23T12:47:57.784Z"
   },
   {
    "duration": 592,
    "start_time": "2023-01-23T12:48:06.983Z"
   },
   {
    "duration": 602,
    "start_time": "2023-01-23T12:48:12.029Z"
   },
   {
    "duration": 552,
    "start_time": "2023-01-23T12:48:33.858Z"
   },
   {
    "duration": 572,
    "start_time": "2023-01-23T12:52:51.868Z"
   },
   {
    "duration": 540,
    "start_time": "2023-01-23T12:52:58.060Z"
   },
   {
    "duration": 1287,
    "start_time": "2023-01-23T12:53:04.884Z"
   },
   {
    "duration": 150,
    "start_time": "2023-01-23T12:53:06.173Z"
   },
   {
    "duration": 13,
    "start_time": "2023-01-23T12:53:06.325Z"
   },
   {
    "duration": 35,
    "start_time": "2023-01-23T12:53:06.340Z"
   },
   {
    "duration": 22,
    "start_time": "2023-01-23T12:53:06.380Z"
   },
   {
    "duration": 51,
    "start_time": "2023-01-23T12:53:06.404Z"
   },
   {
    "duration": 68,
    "start_time": "2023-01-23T12:53:06.457Z"
   },
   {
    "duration": 87,
    "start_time": "2023-01-23T12:53:06.526Z"
   },
   {
    "duration": 23,
    "start_time": "2023-01-23T12:53:06.616Z"
   },
   {
    "duration": 60,
    "start_time": "2023-01-23T12:53:06.641Z"
   },
   {
    "duration": 12,
    "start_time": "2023-01-23T12:53:06.703Z"
   },
   {
    "duration": 55,
    "start_time": "2023-01-23T12:53:06.717Z"
   },
   {
    "duration": 397,
    "start_time": "2023-01-23T12:53:06.773Z"
   },
   {
    "duration": 31,
    "start_time": "2023-01-23T12:53:07.174Z"
   },
   {
    "duration": 1007,
    "start_time": "2023-01-23T12:53:07.207Z"
   },
   {
    "duration": 992,
    "start_time": "2023-01-23T12:53:08.216Z"
   },
   {
    "duration": 99,
    "start_time": "2023-01-23T12:53:09.210Z"
   },
   {
    "duration": 16,
    "start_time": "2023-01-23T12:53:09.311Z"
   },
   {
    "duration": 71,
    "start_time": "2023-01-23T12:53:09.330Z"
   },
   {
    "duration": 31,
    "start_time": "2023-01-23T12:53:09.402Z"
   },
   {
    "duration": 257,
    "start_time": "2023-01-23T12:53:09.435Z"
   },
   {
    "duration": 135,
    "start_time": "2023-01-23T12:53:09.694Z"
   },
   {
    "duration": 7,
    "start_time": "2023-01-23T12:53:09.831Z"
   },
   {
    "duration": 23,
    "start_time": "2023-01-23T12:53:09.840Z"
   },
   {
    "duration": 48,
    "start_time": "2023-01-23T12:53:09.865Z"
   },
   {
    "duration": 325,
    "start_time": "2023-01-23T12:53:09.915Z"
   },
   {
    "duration": 89,
    "start_time": "2023-01-23T12:53:10.242Z"
   },
   {
    "duration": 263,
    "start_time": "2023-01-23T12:53:10.332Z"
   },
   {
    "duration": 5,
    "start_time": "2023-01-23T12:53:10.598Z"
   },
   {
    "duration": 79,
    "start_time": "2023-01-23T12:53:10.605Z"
   },
   {
    "duration": 596,
    "start_time": "2023-01-23T12:53:10.686Z"
   },
   {
    "duration": 502,
    "start_time": "2023-01-23T12:53:11.284Z"
   },
   {
    "duration": 496,
    "start_time": "2023-01-23T12:53:11.787Z"
   },
   {
    "duration": 538,
    "start_time": "2023-01-23T12:53:12.285Z"
   },
   {
    "duration": 2,
    "start_time": "2023-01-23T12:53:12.825Z"
   },
   {
    "duration": 645,
    "start_time": "2023-01-23T12:53:12.829Z"
   },
   {
    "duration": 565,
    "start_time": "2023-01-23T12:53:13.476Z"
   },
   {
    "duration": 4,
    "start_time": "2023-01-23T12:53:14.042Z"
   },
   {
    "duration": 153,
    "start_time": "2023-01-23T12:53:14.047Z"
   },
   {
    "duration": 538,
    "start_time": "2023-01-23T12:53:25.316Z"
   },
   {
    "duration": 528,
    "start_time": "2023-01-23T12:54:56.682Z"
   },
   {
    "duration": 547,
    "start_time": "2023-01-23T12:55:08.242Z"
   },
   {
    "duration": 517,
    "start_time": "2023-01-23T12:55:21.538Z"
   },
   {
    "duration": 490,
    "start_time": "2023-01-23T12:55:53.074Z"
   },
   {
    "duration": 1112,
    "start_time": "2023-01-23T12:56:33.450Z"
   },
   {
    "duration": 141,
    "start_time": "2023-01-23T12:56:34.564Z"
   },
   {
    "duration": 15,
    "start_time": "2023-01-23T12:56:34.706Z"
   },
   {
    "duration": 30,
    "start_time": "2023-01-23T12:56:34.723Z"
   },
   {
    "duration": 13,
    "start_time": "2023-01-23T12:56:34.755Z"
   },
   {
    "duration": 20,
    "start_time": "2023-01-23T12:56:34.770Z"
   },
   {
    "duration": 66,
    "start_time": "2023-01-23T12:56:34.791Z"
   },
   {
    "duration": 102,
    "start_time": "2023-01-23T12:56:34.858Z"
   },
   {
    "duration": 20,
    "start_time": "2023-01-23T12:56:34.962Z"
   },
   {
    "duration": 50,
    "start_time": "2023-01-23T12:56:34.984Z"
   },
   {
    "duration": 13,
    "start_time": "2023-01-23T12:56:35.036Z"
   },
   {
    "duration": 25,
    "start_time": "2023-01-23T12:56:35.050Z"
   },
   {
    "duration": 288,
    "start_time": "2023-01-23T12:56:35.077Z"
   },
   {
    "duration": 17,
    "start_time": "2023-01-23T12:56:35.367Z"
   },
   {
    "duration": 646,
    "start_time": "2023-01-23T12:56:35.386Z"
   },
   {
    "duration": 495,
    "start_time": "2023-01-23T12:56:36.033Z"
   },
   {
    "duration": 33,
    "start_time": "2023-01-23T12:56:36.529Z"
   },
   {
    "duration": 11,
    "start_time": "2023-01-23T12:56:36.563Z"
   },
   {
    "duration": 26,
    "start_time": "2023-01-23T12:56:36.575Z"
   },
   {
    "duration": 20,
    "start_time": "2023-01-23T12:56:36.602Z"
   },
   {
    "duration": 139,
    "start_time": "2023-01-23T12:56:36.623Z"
   },
   {
    "duration": 123,
    "start_time": "2023-01-23T12:56:36.764Z"
   },
   {
    "duration": 12,
    "start_time": "2023-01-23T12:56:36.888Z"
   },
   {
    "duration": 14,
    "start_time": "2023-01-23T12:56:36.902Z"
   },
   {
    "duration": 10,
    "start_time": "2023-01-23T12:56:36.918Z"
   },
   {
    "duration": 12,
    "start_time": "2023-01-23T12:56:36.930Z"
   },
   {
    "duration": 60,
    "start_time": "2023-01-23T12:56:36.944Z"
   },
   {
    "duration": 524,
    "start_time": "2023-01-23T12:56:37.007Z"
   },
   {
    "duration": 4,
    "start_time": "2023-01-23T12:56:37.532Z"
   },
   {
    "duration": 9,
    "start_time": "2023-01-23T12:56:37.537Z"
   },
   {
    "duration": 983,
    "start_time": "2023-01-23T12:56:37.547Z"
   },
   {
    "duration": 641,
    "start_time": "2023-01-23T12:56:38.532Z"
   },
   {
    "duration": 491,
    "start_time": "2023-01-23T12:56:39.175Z"
   },
   {
    "duration": 487,
    "start_time": "2023-01-23T12:56:39.668Z"
   },
   {
    "duration": 2,
    "start_time": "2023-01-23T12:56:40.157Z"
   },
   {
    "duration": 483,
    "start_time": "2023-01-23T12:56:40.160Z"
   },
   {
    "duration": 491,
    "start_time": "2023-01-23T12:56:40.644Z"
   },
   {
    "duration": 3,
    "start_time": "2023-01-23T12:56:41.136Z"
   },
   {
    "duration": 112,
    "start_time": "2023-01-23T12:56:41.140Z"
   },
   {
    "duration": 518,
    "start_time": "2023-01-23T12:59:05.993Z"
   },
   {
    "duration": 512,
    "start_time": "2023-01-23T13:01:22.255Z"
   },
   {
    "duration": 547,
    "start_time": "2023-01-23T13:02:47.295Z"
   },
   {
    "duration": 486,
    "start_time": "2023-01-23T13:03:33.024Z"
   },
   {
    "duration": 498,
    "start_time": "2023-01-23T13:04:06.343Z"
   },
   {
    "duration": 499,
    "start_time": "2023-01-23T13:04:15.334Z"
   },
   {
    "duration": 499,
    "start_time": "2023-01-23T13:04:24.279Z"
   },
   {
    "duration": 544,
    "start_time": "2023-01-23T13:04:26.955Z"
   },
   {
    "duration": 514,
    "start_time": "2023-01-23T13:04:35.376Z"
   },
   {
    "duration": 503,
    "start_time": "2023-01-23T13:04:52.277Z"
   },
   {
    "duration": 451,
    "start_time": "2023-01-23T13:05:29.238Z"
   },
   {
    "duration": 314,
    "start_time": "2023-01-23T13:06:35.589Z"
   },
   {
    "duration": 301,
    "start_time": "2023-01-23T13:06:45.932Z"
   },
   {
    "duration": 388,
    "start_time": "2023-01-23T13:06:52.308Z"
   },
   {
    "duration": 54,
    "start_time": "2023-01-24T07:54:18.427Z"
   },
   {
    "duration": 1308,
    "start_time": "2023-01-24T07:54:25.018Z"
   },
   {
    "duration": 672,
    "start_time": "2023-01-24T07:54:26.328Z"
   },
   {
    "duration": 16,
    "start_time": "2023-01-24T07:54:27.004Z"
   },
   {
    "duration": 66,
    "start_time": "2023-01-24T07:54:27.022Z"
   },
   {
    "duration": 15,
    "start_time": "2023-01-24T07:54:27.090Z"
   },
   {
    "duration": 15,
    "start_time": "2023-01-24T07:54:27.106Z"
   },
   {
    "duration": 175,
    "start_time": "2023-01-24T07:54:27.123Z"
   },
   {
    "duration": 185,
    "start_time": "2023-01-24T07:54:27.300Z"
   },
   {
    "duration": 20,
    "start_time": "2023-01-24T07:54:27.487Z"
   },
   {
    "duration": 102,
    "start_time": "2023-01-24T07:54:27.509Z"
   },
   {
    "duration": 7,
    "start_time": "2023-01-24T07:54:27.612Z"
   },
   {
    "duration": 82,
    "start_time": "2023-01-24T07:54:27.621Z"
   },
   {
    "duration": 655,
    "start_time": "2023-01-24T07:54:27.705Z"
   },
   {
    "duration": 24,
    "start_time": "2023-01-24T07:54:28.363Z"
   },
   {
    "duration": 667,
    "start_time": "2023-01-24T07:54:28.388Z"
   },
   {
    "duration": 486,
    "start_time": "2023-01-24T07:54:29.057Z"
   },
   {
    "duration": 56,
    "start_time": "2023-01-24T07:54:29.545Z"
   },
   {
    "duration": 12,
    "start_time": "2023-01-24T07:54:29.604Z"
   },
   {
    "duration": 12,
    "start_time": "2023-01-24T07:54:29.619Z"
   },
   {
    "duration": 48,
    "start_time": "2023-01-24T07:54:29.633Z"
   },
   {
    "duration": 130,
    "start_time": "2023-01-24T07:54:29.683Z"
   },
   {
    "duration": 111,
    "start_time": "2023-01-24T07:54:29.815Z"
   },
   {
    "duration": 8,
    "start_time": "2023-01-24T07:54:29.927Z"
   },
   {
    "duration": 14,
    "start_time": "2023-01-24T07:54:29.936Z"
   },
   {
    "duration": 5,
    "start_time": "2023-01-24T07:54:29.952Z"
   },
   {
    "duration": 25,
    "start_time": "2023-01-24T07:54:29.980Z"
   },
   {
    "duration": 41,
    "start_time": "2023-01-24T07:54:30.008Z"
   },
   {
    "duration": 303,
    "start_time": "2023-01-24T07:54:30.051Z"
   },
   {
    "duration": 5,
    "start_time": "2023-01-24T07:54:30.355Z"
   },
   {
    "duration": 44,
    "start_time": "2023-01-24T07:54:30.362Z"
   },
   {
    "duration": 560,
    "start_time": "2023-01-24T07:54:30.408Z"
   },
   {
    "duration": 534,
    "start_time": "2023-01-24T07:54:30.969Z"
   },
   {
    "duration": 546,
    "start_time": "2023-01-24T07:54:31.505Z"
   },
   {
    "duration": 505,
    "start_time": "2023-01-24T07:54:32.053Z"
   },
   {
    "duration": 3,
    "start_time": "2023-01-24T07:54:32.559Z"
   },
   {
    "duration": 524,
    "start_time": "2023-01-24T07:54:32.564Z"
   },
   {
    "duration": 505,
    "start_time": "2023-01-24T07:54:33.090Z"
   },
   {
    "duration": 522,
    "start_time": "2023-01-24T07:54:33.597Z"
   },
   {
    "duration": 552,
    "start_time": "2023-01-24T07:54:34.121Z"
   },
   {
    "duration": 44,
    "start_time": "2023-01-24T07:54:34.680Z"
   },
   {
    "duration": 481,
    "start_time": "2023-01-24T07:55:14.468Z"
   },
   {
    "duration": 1162,
    "start_time": "2023-01-24T08:18:36.527Z"
   },
   {
    "duration": 151,
    "start_time": "2023-01-24T08:18:37.691Z"
   },
   {
    "duration": 13,
    "start_time": "2023-01-24T08:18:37.844Z"
   },
   {
    "duration": 26,
    "start_time": "2023-01-24T08:18:37.859Z"
   },
   {
    "duration": 15,
    "start_time": "2023-01-24T08:18:37.887Z"
   },
   {
    "duration": 19,
    "start_time": "2023-01-24T08:18:37.905Z"
   },
   {
    "duration": 88,
    "start_time": "2023-01-24T08:18:37.926Z"
   },
   {
    "duration": 105,
    "start_time": "2023-01-24T08:18:38.016Z"
   },
   {
    "duration": 22,
    "start_time": "2023-01-24T08:18:38.122Z"
   },
   {
    "duration": 63,
    "start_time": "2023-01-24T08:18:38.145Z"
   },
   {
    "duration": 8,
    "start_time": "2023-01-24T08:18:38.210Z"
   },
   {
    "duration": 35,
    "start_time": "2023-01-24T08:18:38.220Z"
   },
   {
    "duration": 312,
    "start_time": "2023-01-24T08:18:38.257Z"
   },
   {
    "duration": 31,
    "start_time": "2023-01-24T08:18:38.574Z"
   },
   {
    "duration": 671,
    "start_time": "2023-01-24T08:18:38.607Z"
   },
   {
    "duration": 462,
    "start_time": "2023-01-24T08:18:39.281Z"
   },
   {
    "duration": 42,
    "start_time": "2023-01-24T08:18:39.745Z"
   },
   {
    "duration": 12,
    "start_time": "2023-01-24T08:18:39.789Z"
   },
   {
    "duration": 17,
    "start_time": "2023-01-24T08:18:39.803Z"
   },
   {
    "duration": 19,
    "start_time": "2023-01-24T08:18:39.823Z"
   },
   {
    "duration": 150,
    "start_time": "2023-01-24T08:18:39.844Z"
   },
   {
    "duration": 117,
    "start_time": "2023-01-24T08:18:39.996Z"
   },
   {
    "duration": 7,
    "start_time": "2023-01-24T08:18:40.116Z"
   },
   {
    "duration": 17,
    "start_time": "2023-01-24T08:18:40.125Z"
   },
   {
    "duration": 8,
    "start_time": "2023-01-24T08:18:40.143Z"
   },
   {
    "duration": 40,
    "start_time": "2023-01-24T08:18:40.152Z"
   },
   {
    "duration": 35,
    "start_time": "2023-01-24T08:18:40.194Z"
   },
   {
    "duration": 284,
    "start_time": "2023-01-24T08:18:40.231Z"
   },
   {
    "duration": 4,
    "start_time": "2023-01-24T08:18:40.516Z"
   },
   {
    "duration": 8,
    "start_time": "2023-01-24T08:18:40.521Z"
   },
   {
    "duration": 549,
    "start_time": "2023-01-24T08:18:40.530Z"
   },
   {
    "duration": 1026,
    "start_time": "2023-01-24T08:18:41.080Z"
   },
   {
    "duration": 1018,
    "start_time": "2023-01-24T08:18:42.108Z"
   },
   {
    "duration": 509,
    "start_time": "2023-01-24T08:18:43.127Z"
   },
   {
    "duration": 3,
    "start_time": "2023-01-24T08:18:43.638Z"
   },
   {
    "duration": 540,
    "start_time": "2023-01-24T08:18:43.643Z"
   },
   {
    "duration": 525,
    "start_time": "2023-01-24T08:18:44.185Z"
   },
   {
    "duration": 523,
    "start_time": "2023-01-24T08:18:44.711Z"
   },
   {
    "duration": 544,
    "start_time": "2023-01-24T08:18:45.236Z"
   },
   {
    "duration": 1159,
    "start_time": "2023-01-24T08:20:42.751Z"
   },
   {
    "duration": 157,
    "start_time": "2023-01-24T08:20:43.913Z"
   },
   {
    "duration": 15,
    "start_time": "2023-01-24T08:20:44.073Z"
   },
   {
    "duration": 20,
    "start_time": "2023-01-24T08:20:44.089Z"
   },
   {
    "duration": 20,
    "start_time": "2023-01-24T08:20:44.112Z"
   },
   {
    "duration": 21,
    "start_time": "2023-01-24T08:20:44.133Z"
   },
   {
    "duration": 64,
    "start_time": "2023-01-24T08:20:44.182Z"
   },
   {
    "duration": 92,
    "start_time": "2023-01-24T08:20:44.247Z"
   },
   {
    "duration": 21,
    "start_time": "2023-01-24T08:20:44.340Z"
   },
   {
    "duration": 55,
    "start_time": "2023-01-24T08:20:44.363Z"
   },
   {
    "duration": 7,
    "start_time": "2023-01-24T08:20:44.419Z"
   },
   {
    "duration": 20,
    "start_time": "2023-01-24T08:20:44.428Z"
   },
   {
    "duration": 345,
    "start_time": "2023-01-24T08:20:44.450Z"
   },
   {
    "duration": 20,
    "start_time": "2023-01-24T08:20:44.798Z"
   },
   {
    "duration": 655,
    "start_time": "2023-01-24T08:20:44.820Z"
   },
   {
    "duration": 494,
    "start_time": "2023-01-24T08:20:45.476Z"
   },
   {
    "duration": 38,
    "start_time": "2023-01-24T08:20:45.971Z"
   },
   {
    "duration": 11,
    "start_time": "2023-01-24T08:20:46.011Z"
   },
   {
    "duration": 9,
    "start_time": "2023-01-24T08:20:46.024Z"
   },
   {
    "duration": 19,
    "start_time": "2023-01-24T08:20:46.035Z"
   },
   {
    "duration": 144,
    "start_time": "2023-01-24T08:20:46.056Z"
   },
   {
    "duration": 146,
    "start_time": "2023-01-24T08:20:46.202Z"
   },
   {
    "duration": 8,
    "start_time": "2023-01-24T08:20:46.350Z"
   },
   {
    "duration": 47,
    "start_time": "2023-01-24T08:20:46.359Z"
   },
   {
    "duration": 29,
    "start_time": "2023-01-24T08:20:46.408Z"
   },
   {
    "duration": 51,
    "start_time": "2023-01-24T08:20:46.439Z"
   },
   {
    "duration": 48,
    "start_time": "2023-01-24T08:20:46.492Z"
   },
   {
    "duration": 290,
    "start_time": "2023-01-24T08:20:46.542Z"
   },
   {
    "duration": 4,
    "start_time": "2023-01-24T08:20:46.834Z"
   },
   {
    "duration": 14,
    "start_time": "2023-01-24T08:20:46.839Z"
   },
   {
    "duration": 538,
    "start_time": "2023-01-24T08:20:46.855Z"
   },
   {
    "duration": 554,
    "start_time": "2023-01-24T08:20:47.394Z"
   },
   {
    "duration": 513,
    "start_time": "2023-01-24T08:20:47.950Z"
   },
   {
    "duration": 520,
    "start_time": "2023-01-24T08:20:48.465Z"
   },
   {
    "duration": 3,
    "start_time": "2023-01-24T08:20:48.986Z"
   },
   {
    "duration": 547,
    "start_time": "2023-01-24T08:20:48.990Z"
   },
   {
    "duration": 527,
    "start_time": "2023-01-24T08:20:49.539Z"
   },
   {
    "duration": 1101,
    "start_time": "2023-01-24T08:20:50.081Z"
   },
   {
    "duration": 1011,
    "start_time": "2023-01-24T08:20:51.184Z"
   },
   {
    "duration": 1110,
    "start_time": "2023-01-24T15:54:49.791Z"
   },
   {
    "duration": 713,
    "start_time": "2023-01-24T15:54:50.903Z"
   },
   {
    "duration": 14,
    "start_time": "2023-01-24T15:54:51.617Z"
   },
   {
    "duration": 29,
    "start_time": "2023-01-24T15:54:51.632Z"
   },
   {
    "duration": 32,
    "start_time": "2023-01-24T15:54:51.663Z"
   },
   {
    "duration": 31,
    "start_time": "2023-01-24T15:54:51.697Z"
   },
   {
    "duration": 60,
    "start_time": "2023-01-24T15:54:51.729Z"
   },
   {
    "duration": 83,
    "start_time": "2023-01-24T15:54:51.790Z"
   },
   {
    "duration": 21,
    "start_time": "2023-01-24T15:54:51.885Z"
   },
   {
    "duration": 40,
    "start_time": "2023-01-24T15:54:51.908Z"
   },
   {
    "duration": 7,
    "start_time": "2023-01-24T15:54:51.950Z"
   },
   {
    "duration": 44,
    "start_time": "2023-01-24T15:54:51.959Z"
   },
   {
    "duration": 291,
    "start_time": "2023-01-24T15:54:52.005Z"
   },
   {
    "duration": 18,
    "start_time": "2023-01-24T15:54:52.298Z"
   },
   {
    "duration": 619,
    "start_time": "2023-01-24T15:54:52.318Z"
   },
   {
    "duration": 458,
    "start_time": "2023-01-24T15:54:52.939Z"
   },
   {
    "duration": 30,
    "start_time": "2023-01-24T15:54:53.399Z"
   },
   {
    "duration": 10,
    "start_time": "2023-01-24T15:54:53.431Z"
   },
   {
    "duration": 20,
    "start_time": "2023-01-24T15:54:53.443Z"
   },
   {
    "duration": 31,
    "start_time": "2023-01-24T15:54:53.464Z"
   },
   {
    "duration": 124,
    "start_time": "2023-01-24T15:54:53.496Z"
   },
   {
    "duration": 118,
    "start_time": "2023-01-24T15:54:53.622Z"
   },
   {
    "duration": 7,
    "start_time": "2023-01-24T15:54:53.742Z"
   },
   {
    "duration": 13,
    "start_time": "2023-01-24T15:54:53.751Z"
   },
   {
    "duration": 30,
    "start_time": "2023-01-24T15:54:53.766Z"
   },
   {
    "duration": 32,
    "start_time": "2023-01-24T15:54:53.798Z"
   },
   {
    "duration": 34,
    "start_time": "2023-01-24T15:54:53.832Z"
   },
   {
    "duration": 253,
    "start_time": "2023-01-24T15:54:53.869Z"
   },
   {
    "duration": 4,
    "start_time": "2023-01-24T15:54:54.124Z"
   },
   {
    "duration": 29,
    "start_time": "2023-01-24T15:54:54.129Z"
   },
   {
    "duration": 503,
    "start_time": "2023-01-24T15:54:54.160Z"
   },
   {
    "duration": 481,
    "start_time": "2023-01-24T15:54:54.664Z"
   },
   {
    "duration": 523,
    "start_time": "2023-01-24T15:54:55.146Z"
   },
   {
    "duration": 528,
    "start_time": "2023-01-24T15:54:55.671Z"
   },
   {
    "duration": 2,
    "start_time": "2023-01-24T15:54:56.201Z"
   },
   {
    "duration": 497,
    "start_time": "2023-01-24T15:54:56.204Z"
   },
   {
    "duration": 502,
    "start_time": "2023-01-24T15:54:56.702Z"
   },
   {
    "duration": 487,
    "start_time": "2023-01-24T15:54:57.206Z"
   },
   {
    "duration": 471,
    "start_time": "2023-01-24T15:54:57.695Z"
   },
   {
    "duration": 50,
    "start_time": "2023-01-25T09:23:28.952Z"
   },
   {
    "duration": 1322,
    "start_time": "2023-01-25T09:23:34.810Z"
   },
   {
    "duration": 730,
    "start_time": "2023-01-25T09:23:36.134Z"
   },
   {
    "duration": 14,
    "start_time": "2023-01-25T09:23:36.865Z"
   },
   {
    "duration": 61,
    "start_time": "2023-01-25T09:23:36.881Z"
   },
   {
    "duration": 22,
    "start_time": "2023-01-25T09:23:36.943Z"
   },
   {
    "duration": 27,
    "start_time": "2023-01-25T09:23:36.966Z"
   },
   {
    "duration": 74,
    "start_time": "2023-01-25T09:23:36.994Z"
   },
   {
    "duration": 90,
    "start_time": "2023-01-25T09:23:37.070Z"
   },
   {
    "duration": 21,
    "start_time": "2023-01-25T09:23:37.162Z"
   },
   {
    "duration": 58,
    "start_time": "2023-01-25T09:23:37.186Z"
   },
   {
    "duration": 7,
    "start_time": "2023-01-25T09:23:37.246Z"
   },
   {
    "duration": 34,
    "start_time": "2023-01-25T09:23:37.255Z"
   },
   {
    "duration": 300,
    "start_time": "2023-01-25T09:23:37.291Z"
   },
   {
    "duration": 18,
    "start_time": "2023-01-25T09:23:37.592Z"
   },
   {
    "duration": 606,
    "start_time": "2023-01-25T09:23:37.611Z"
   },
   {
    "duration": 442,
    "start_time": "2023-01-25T09:23:38.219Z"
   },
   {
    "duration": 31,
    "start_time": "2023-01-25T09:23:38.663Z"
   },
   {
    "duration": 12,
    "start_time": "2023-01-25T09:23:38.695Z"
   },
   {
    "duration": 52,
    "start_time": "2023-01-25T09:23:38.709Z"
   },
   {
    "duration": 67,
    "start_time": "2023-01-25T09:23:38.762Z"
   },
   {
    "duration": 160,
    "start_time": "2023-01-25T09:23:38.830Z"
   },
   {
    "duration": 103,
    "start_time": "2023-01-25T09:23:38.991Z"
   },
   {
    "duration": 8,
    "start_time": "2023-01-25T09:23:39.096Z"
   },
   {
    "duration": 60,
    "start_time": "2023-01-25T09:23:39.105Z"
   },
   {
    "duration": 22,
    "start_time": "2023-01-25T09:23:39.167Z"
   },
   {
    "duration": 58,
    "start_time": "2023-01-25T09:23:39.191Z"
   },
   {
    "duration": 49,
    "start_time": "2023-01-25T09:23:39.251Z"
   },
   {
    "duration": 250,
    "start_time": "2023-01-25T09:23:39.303Z"
   },
   {
    "duration": 3,
    "start_time": "2023-01-25T09:23:39.555Z"
   },
   {
    "duration": 33,
    "start_time": "2023-01-25T09:23:39.560Z"
   },
   {
    "duration": 484,
    "start_time": "2023-01-25T09:23:39.595Z"
   },
   {
    "duration": 861,
    "start_time": "2023-01-25T09:23:40.081Z"
   },
   {
    "duration": 1004,
    "start_time": "2023-01-25T09:23:40.944Z"
   },
   {
    "duration": 696,
    "start_time": "2023-01-25T09:23:41.950Z"
   },
   {
    "duration": 3,
    "start_time": "2023-01-25T09:23:42.648Z"
   },
   {
    "duration": 568,
    "start_time": "2023-01-25T09:23:42.653Z"
   },
   {
    "duration": 480,
    "start_time": "2023-01-25T09:23:43.222Z"
   },
   {
    "duration": 488,
    "start_time": "2023-01-25T09:23:43.704Z"
   },
   {
    "duration": 494,
    "start_time": "2023-01-25T09:23:44.194Z"
   },
   {
    "duration": 1072,
    "start_time": "2023-01-25T09:33:11.189Z"
   },
   {
    "duration": 143,
    "start_time": "2023-01-25T09:33:12.263Z"
   },
   {
    "duration": 14,
    "start_time": "2023-01-25T09:33:12.408Z"
   },
   {
    "duration": 25,
    "start_time": "2023-01-25T09:33:12.424Z"
   },
   {
    "duration": 13,
    "start_time": "2023-01-25T09:33:12.451Z"
   },
   {
    "duration": 14,
    "start_time": "2023-01-25T09:33:12.465Z"
   },
   {
    "duration": 82,
    "start_time": "2023-01-25T09:33:12.480Z"
   },
   {
    "duration": 87,
    "start_time": "2023-01-25T09:33:12.564Z"
   },
   {
    "duration": 22,
    "start_time": "2023-01-25T09:33:12.653Z"
   },
   {
    "duration": 58,
    "start_time": "2023-01-25T09:33:12.677Z"
   },
   {
    "duration": 8,
    "start_time": "2023-01-25T09:33:12.736Z"
   },
   {
    "duration": 22,
    "start_time": "2023-01-25T09:33:12.746Z"
   },
   {
    "duration": 323,
    "start_time": "2023-01-25T09:33:12.770Z"
   },
   {
    "duration": 19,
    "start_time": "2023-01-25T09:33:13.095Z"
   },
   {
    "duration": 636,
    "start_time": "2023-01-25T09:33:13.116Z"
   },
   {
    "duration": 474,
    "start_time": "2023-01-25T09:33:13.754Z"
   },
   {
    "duration": 32,
    "start_time": "2023-01-25T09:33:14.230Z"
   },
   {
    "duration": 12,
    "start_time": "2023-01-25T09:33:14.264Z"
   },
   {
    "duration": 9,
    "start_time": "2023-01-25T09:33:14.277Z"
   },
   {
    "duration": 43,
    "start_time": "2023-01-25T09:33:14.288Z"
   },
   {
    "duration": 126,
    "start_time": "2023-01-25T09:33:14.333Z"
   },
   {
    "duration": 113,
    "start_time": "2023-01-25T09:33:14.461Z"
   },
   {
    "duration": 7,
    "start_time": "2023-01-25T09:33:14.576Z"
   },
   {
    "duration": 35,
    "start_time": "2023-01-25T09:33:14.585Z"
   },
   {
    "duration": 41,
    "start_time": "2023-01-25T09:33:14.621Z"
   },
   {
    "duration": 70,
    "start_time": "2023-01-25T09:33:14.664Z"
   },
   {
    "duration": 51,
    "start_time": "2023-01-25T09:33:14.736Z"
   },
   {
    "duration": 269,
    "start_time": "2023-01-25T09:33:14.789Z"
   },
   {
    "duration": 4,
    "start_time": "2023-01-25T09:33:15.060Z"
   },
   {
    "duration": 42,
    "start_time": "2023-01-25T09:33:15.066Z"
   },
   {
    "duration": 523,
    "start_time": "2023-01-25T09:33:15.110Z"
   },
   {
    "duration": 497,
    "start_time": "2023-01-25T09:33:15.635Z"
   },
   {
    "duration": 518,
    "start_time": "2023-01-25T09:33:16.133Z"
   },
   {
    "duration": 510,
    "start_time": "2023-01-25T09:33:16.653Z"
   },
   {
    "duration": 3,
    "start_time": "2023-01-25T09:33:17.165Z"
   },
   {
    "duration": 500,
    "start_time": "2023-01-25T09:33:17.170Z"
   },
   {
    "duration": 488,
    "start_time": "2023-01-25T09:33:17.672Z"
   },
   {
    "duration": 494,
    "start_time": "2023-01-25T09:33:18.162Z"
   },
   {
    "duration": 486,
    "start_time": "2023-01-25T09:33:18.658Z"
   },
   {
    "duration": 1073,
    "start_time": "2023-01-26T05:23:57.352Z"
   },
   {
    "duration": 707,
    "start_time": "2023-01-26T05:23:58.427Z"
   },
   {
    "duration": 13,
    "start_time": "2023-01-26T05:23:59.136Z"
   },
   {
    "duration": 24,
    "start_time": "2023-01-26T05:23:59.151Z"
   },
   {
    "duration": 17,
    "start_time": "2023-01-26T05:23:59.177Z"
   },
   {
    "duration": 20,
    "start_time": "2023-01-26T05:23:59.195Z"
   },
   {
    "duration": 64,
    "start_time": "2023-01-26T05:23:59.217Z"
   },
   {
    "duration": 80,
    "start_time": "2023-01-26T05:23:59.283Z"
   },
   {
    "duration": 20,
    "start_time": "2023-01-26T05:23:59.364Z"
   },
   {
    "duration": 41,
    "start_time": "2023-01-26T05:23:59.401Z"
   },
   {
    "duration": 8,
    "start_time": "2023-01-26T05:23:59.444Z"
   },
   {
    "duration": 33,
    "start_time": "2023-01-26T05:23:59.454Z"
   },
   {
    "duration": 295,
    "start_time": "2023-01-26T05:23:59.500Z"
   },
   {
    "duration": 18,
    "start_time": "2023-01-26T05:23:59.798Z"
   },
   {
    "duration": 640,
    "start_time": "2023-01-26T05:23:59.818Z"
   },
   {
    "duration": 443,
    "start_time": "2023-01-26T05:24:00.460Z"
   },
   {
    "duration": 33,
    "start_time": "2023-01-26T05:24:00.905Z"
   },
   {
    "duration": 21,
    "start_time": "2023-01-26T05:24:00.939Z"
   },
   {
    "duration": 43,
    "start_time": "2023-01-26T05:24:00.962Z"
   },
   {
    "duration": 44,
    "start_time": "2023-01-26T05:24:01.007Z"
   },
   {
    "duration": 149,
    "start_time": "2023-01-26T05:24:01.052Z"
   },
   {
    "duration": 110,
    "start_time": "2023-01-26T05:24:01.202Z"
   },
   {
    "duration": 8,
    "start_time": "2023-01-26T05:24:01.315Z"
   },
   {
    "duration": 36,
    "start_time": "2023-01-26T05:24:01.325Z"
   },
   {
    "duration": 72,
    "start_time": "2023-01-26T05:24:01.363Z"
   },
   {
    "duration": 81,
    "start_time": "2023-01-26T05:24:01.437Z"
   },
   {
    "duration": 50,
    "start_time": "2023-01-26T05:24:01.520Z"
   },
   {
    "duration": 271,
    "start_time": "2023-01-26T05:24:01.573Z"
   },
   {
    "duration": 3,
    "start_time": "2023-01-26T05:24:01.846Z"
   },
   {
    "duration": 52,
    "start_time": "2023-01-26T05:24:01.851Z"
   },
   {
    "duration": 555,
    "start_time": "2023-01-26T05:24:01.905Z"
   },
   {
    "duration": 492,
    "start_time": "2023-01-26T05:24:02.461Z"
   },
   {
    "duration": 499,
    "start_time": "2023-01-26T05:24:02.954Z"
   },
   {
    "duration": 489,
    "start_time": "2023-01-26T05:24:03.455Z"
   },
   {
    "duration": 3,
    "start_time": "2023-01-26T05:24:03.946Z"
   },
   {
    "duration": 500,
    "start_time": "2023-01-26T05:24:03.951Z"
   },
   {
    "duration": 478,
    "start_time": "2023-01-26T05:24:04.453Z"
   },
   {
    "duration": 477,
    "start_time": "2023-01-26T05:24:04.933Z"
   },
   {
    "duration": 483,
    "start_time": "2023-01-26T05:24:05.412Z"
   },
   {
    "duration": 12,
    "start_time": "2023-01-26T05:24:49.049Z"
   },
   {
    "duration": 39,
    "start_time": "2023-01-26T05:26:22.507Z"
   },
   {
    "duration": 182,
    "start_time": "2023-01-26T05:26:28.693Z"
   },
   {
    "duration": 160,
    "start_time": "2023-01-26T05:26:33.449Z"
   },
   {
    "duration": 1331,
    "start_time": "2023-01-26T09:38:46.156Z"
   },
   {
    "duration": 558,
    "start_time": "2023-01-26T09:38:47.489Z"
   },
   {
    "duration": 19,
    "start_time": "2023-01-26T09:38:48.049Z"
   },
   {
    "duration": 23,
    "start_time": "2023-01-26T09:38:48.070Z"
   },
   {
    "duration": 17,
    "start_time": "2023-01-26T09:38:48.095Z"
   },
   {
    "duration": 14,
    "start_time": "2023-01-26T09:38:48.113Z"
   },
   {
    "duration": 89,
    "start_time": "2023-01-26T09:38:48.129Z"
   },
   {
    "duration": 104,
    "start_time": "2023-01-26T09:38:48.219Z"
   },
   {
    "duration": 25,
    "start_time": "2023-01-26T09:38:48.325Z"
   },
   {
    "duration": 69,
    "start_time": "2023-01-26T09:38:48.352Z"
   },
   {
    "duration": 8,
    "start_time": "2023-01-26T09:38:48.423Z"
   },
   {
    "duration": 24,
    "start_time": "2023-01-26T09:38:48.433Z"
   },
   {
    "duration": 323,
    "start_time": "2023-01-26T09:38:48.459Z"
   },
   {
    "duration": 18,
    "start_time": "2023-01-26T09:38:48.793Z"
   },
   {
    "duration": 647,
    "start_time": "2023-01-26T09:38:48.813Z"
   },
   {
    "duration": 341,
    "start_time": "2023-01-26T09:38:49.462Z"
   },
   {
    "duration": 39,
    "start_time": "2023-01-26T09:38:49.805Z"
   },
   {
    "duration": 12,
    "start_time": "2023-01-26T09:38:49.846Z"
   },
   {
    "duration": 16,
    "start_time": "2023-01-26T09:38:49.859Z"
   },
   {
    "duration": 24,
    "start_time": "2023-01-26T09:38:49.891Z"
   },
   {
    "duration": 62,
    "start_time": "2023-01-26T09:38:49.916Z"
   },
   {
    "duration": 119,
    "start_time": "2023-01-26T09:38:49.991Z"
   },
   {
    "duration": 8,
    "start_time": "2023-01-26T09:38:50.114Z"
   },
   {
    "duration": 17,
    "start_time": "2023-01-26T09:38:50.124Z"
   },
   {
    "duration": 8,
    "start_time": "2023-01-26T09:38:50.142Z"
   },
   {
    "duration": 40,
    "start_time": "2023-01-26T09:38:50.151Z"
   },
   {
    "duration": 31,
    "start_time": "2023-01-26T09:38:50.193Z"
   },
   {
    "duration": 290,
    "start_time": "2023-01-26T09:38:50.226Z"
   },
   {
    "duration": 3,
    "start_time": "2023-01-26T09:38:50.518Z"
   },
   {
    "duration": 8,
    "start_time": "2023-01-26T09:38:50.524Z"
   },
   {
    "duration": 546,
    "start_time": "2023-01-26T09:38:50.534Z"
   },
   {
    "duration": 520,
    "start_time": "2023-01-26T09:38:51.082Z"
   },
   {
    "duration": 539,
    "start_time": "2023-01-26T09:38:51.604Z"
   },
   {
    "duration": 892,
    "start_time": "2023-01-26T09:38:52.145Z"
   },
   {
    "duration": 2,
    "start_time": "2023-01-26T09:38:53.038Z"
   },
   {
    "duration": 944,
    "start_time": "2023-01-26T09:38:53.092Z"
   },
   {
    "duration": 888,
    "start_time": "2023-01-26T09:38:54.037Z"
   },
   {
    "duration": 987,
    "start_time": "2023-01-26T09:38:54.926Z"
   },
   {
    "duration": 1022,
    "start_time": "2023-01-26T09:38:55.915Z"
   },
   {
    "duration": 322,
    "start_time": "2023-01-26T09:39:18.385Z"
   },
   {
    "duration": 256,
    "start_time": "2023-01-26T09:39:56.401Z"
   },
   {
    "duration": 257,
    "start_time": "2023-01-26T09:41:16.400Z"
   },
   {
    "duration": 378,
    "start_time": "2023-01-26T09:41:25.399Z"
   },
   {
    "duration": 242,
    "start_time": "2023-01-26T09:41:39.351Z"
   },
   {
    "duration": 12,
    "start_time": "2023-01-26T09:50:59.194Z"
   },
   {
    "duration": 269,
    "start_time": "2023-01-26T09:52:13.802Z"
   },
   {
    "duration": 2387,
    "start_time": "2023-01-26T09:58:47.126Z"
   },
   {
    "duration": 255,
    "start_time": "2023-01-26T09:59:18.390Z"
   },
   {
    "duration": 22,
    "start_time": "2023-01-26T10:00:47.037Z"
   },
   {
    "duration": 256,
    "start_time": "2023-01-26T10:00:49.102Z"
   },
   {
    "duration": 23,
    "start_time": "2023-01-26T10:01:00.381Z"
   },
   {
    "duration": 264,
    "start_time": "2023-01-26T10:01:05.333Z"
   },
   {
    "duration": 266,
    "start_time": "2023-01-26T10:02:54.692Z"
   },
   {
    "duration": 197,
    "start_time": "2023-01-26T10:03:23.051Z"
   },
   {
    "duration": 238,
    "start_time": "2023-01-26T10:05:58.884Z"
   },
   {
    "duration": 149,
    "start_time": "2023-01-26T10:06:14.866Z"
   },
   {
    "duration": 201,
    "start_time": "2023-01-26T10:10:07.033Z"
   },
   {
    "duration": 313,
    "start_time": "2023-01-26T10:17:19.317Z"
   },
   {
    "duration": 1071,
    "start_time": "2023-01-26T10:17:32.148Z"
   },
   {
    "duration": 167,
    "start_time": "2023-01-26T10:17:33.221Z"
   },
   {
    "duration": 13,
    "start_time": "2023-01-26T10:17:33.389Z"
   },
   {
    "duration": 24,
    "start_time": "2023-01-26T10:17:33.404Z"
   },
   {
    "duration": 45,
    "start_time": "2023-01-26T10:17:33.431Z"
   },
   {
    "duration": 31,
    "start_time": "2023-01-26T10:17:33.478Z"
   },
   {
    "duration": 63,
    "start_time": "2023-01-26T10:17:33.511Z"
   },
   {
    "duration": 91,
    "start_time": "2023-01-26T10:17:33.576Z"
   },
   {
    "duration": 31,
    "start_time": "2023-01-26T10:17:33.669Z"
   },
   {
    "duration": 54,
    "start_time": "2023-01-26T10:17:33.703Z"
   },
   {
    "duration": 7,
    "start_time": "2023-01-26T10:17:33.759Z"
   },
   {
    "duration": 37,
    "start_time": "2023-01-26T10:17:33.768Z"
   },
   {
    "duration": 297,
    "start_time": "2023-01-26T10:17:33.807Z"
   },
   {
    "duration": 17,
    "start_time": "2023-01-26T10:17:34.106Z"
   },
   {
    "duration": 646,
    "start_time": "2023-01-26T10:17:34.124Z"
   },
   {
    "duration": 21,
    "start_time": "2023-01-26T10:17:34.771Z"
   },
   {
    "duration": 451,
    "start_time": "2023-01-26T10:17:34.794Z"
   },
   {
    "duration": 255,
    "start_time": "2023-01-26T10:17:35.247Z"
   },
   {
    "duration": 36,
    "start_time": "2023-01-26T10:17:35.503Z"
   },
   {
    "duration": 16,
    "start_time": "2023-01-26T10:17:35.541Z"
   },
   {
    "duration": 36,
    "start_time": "2023-01-26T10:17:35.559Z"
   },
   {
    "duration": 23,
    "start_time": "2023-01-26T10:17:35.597Z"
   },
   {
    "duration": 79,
    "start_time": "2023-01-26T10:17:35.622Z"
   },
   {
    "duration": 113,
    "start_time": "2023-01-26T10:17:35.703Z"
   },
   {
    "duration": 12,
    "start_time": "2023-01-26T10:17:35.818Z"
   },
   {
    "duration": 20,
    "start_time": "2023-01-26T10:17:35.832Z"
   },
   {
    "duration": 18,
    "start_time": "2023-01-26T10:17:35.854Z"
   },
   {
    "duration": 29,
    "start_time": "2023-01-26T10:17:35.875Z"
   },
   {
    "duration": 32,
    "start_time": "2023-01-26T10:17:35.906Z"
   },
   {
    "duration": 274,
    "start_time": "2023-01-26T10:17:35.939Z"
   },
   {
    "duration": 6,
    "start_time": "2023-01-26T10:17:36.215Z"
   },
   {
    "duration": 17,
    "start_time": "2023-01-26T10:17:36.223Z"
   },
   {
    "duration": 559,
    "start_time": "2023-01-26T10:17:36.241Z"
   },
   {
    "duration": 560,
    "start_time": "2023-01-26T10:17:36.802Z"
   },
   {
    "duration": 544,
    "start_time": "2023-01-26T10:17:37.364Z"
   },
   {
    "duration": 527,
    "start_time": "2023-01-26T10:17:37.909Z"
   },
   {
    "duration": 2,
    "start_time": "2023-01-26T10:17:38.439Z"
   },
   {
    "duration": 525,
    "start_time": "2023-01-26T10:17:38.443Z"
   },
   {
    "duration": 479,
    "start_time": "2023-01-26T10:17:38.969Z"
   },
   {
    "duration": 849,
    "start_time": "2023-01-26T10:17:39.450Z"
   },
   {
    "duration": 996,
    "start_time": "2023-01-26T10:17:40.301Z"
   },
   {
    "duration": 2535,
    "start_time": "2023-01-26T10:23:38.425Z"
   },
   {
    "duration": 3242,
    "start_time": "2023-01-26T10:24:22.080Z"
   },
   {
    "duration": 255,
    "start_time": "2023-01-26T10:32:40.243Z"
   },
   {
    "duration": 245,
    "start_time": "2023-01-26T10:33:20.075Z"
   },
   {
    "duration": 100,
    "start_time": "2023-01-26T10:34:56.451Z"
   },
   {
    "duration": 223,
    "start_time": "2023-01-26T10:35:02.401Z"
   },
   {
    "duration": 15,
    "start_time": "2023-01-26T10:35:38.738Z"
   },
   {
    "duration": 226,
    "start_time": "2023-01-26T10:35:45.426Z"
   },
   {
    "duration": 309,
    "start_time": "2023-01-26T10:35:59.497Z"
   },
   {
    "duration": 14,
    "start_time": "2023-01-26T10:36:29.681Z"
   },
   {
    "duration": 294,
    "start_time": "2023-01-26T10:37:18.250Z"
   },
   {
    "duration": 264,
    "start_time": "2023-01-26T10:37:36.281Z"
   },
   {
    "duration": 10,
    "start_time": "2023-01-26T10:41:21.743Z"
   },
   {
    "duration": 20,
    "start_time": "2023-01-26T10:41:27.847Z"
   },
   {
    "duration": 0,
    "start_time": "2023-01-26T10:42:04.255Z"
   },
   {
    "duration": 1113,
    "start_time": "2023-01-26T10:42:08.025Z"
   },
   {
    "duration": 163,
    "start_time": "2023-01-26T10:42:09.140Z"
   },
   {
    "duration": 16,
    "start_time": "2023-01-26T10:42:09.305Z"
   },
   {
    "duration": 32,
    "start_time": "2023-01-26T10:42:09.323Z"
   },
   {
    "duration": 16,
    "start_time": "2023-01-26T10:42:09.357Z"
   },
   {
    "duration": 30,
    "start_time": "2023-01-26T10:42:09.375Z"
   },
   {
    "duration": 62,
    "start_time": "2023-01-26T10:42:09.406Z"
   },
   {
    "duration": 98,
    "start_time": "2023-01-26T10:42:09.470Z"
   },
   {
    "duration": 32,
    "start_time": "2023-01-26T10:42:09.569Z"
   },
   {
    "duration": 51,
    "start_time": "2023-01-26T10:42:09.603Z"
   },
   {
    "duration": 8,
    "start_time": "2023-01-26T10:42:09.656Z"
   },
   {
    "duration": 43,
    "start_time": "2023-01-26T10:42:09.666Z"
   },
   {
    "duration": 347,
    "start_time": "2023-01-26T10:42:09.711Z"
   },
   {
    "duration": 40,
    "start_time": "2023-01-26T10:42:10.063Z"
   },
   {
    "duration": 902,
    "start_time": "2023-01-26T10:42:10.104Z"
   },
   {
    "duration": 13,
    "start_time": "2023-01-26T10:42:11.007Z"
   },
   {
    "duration": 0,
    "start_time": "2023-01-26T10:42:26.267Z"
   },
   {
    "duration": 0,
    "start_time": "2023-01-26T10:42:26.268Z"
   },
   {
    "duration": 0,
    "start_time": "2023-01-26T10:42:26.269Z"
   },
   {
    "duration": 0,
    "start_time": "2023-01-26T10:42:26.270Z"
   },
   {
    "duration": 0,
    "start_time": "2023-01-26T10:42:26.272Z"
   },
   {
    "duration": 0,
    "start_time": "2023-01-26T10:42:26.273Z"
   },
   {
    "duration": 0,
    "start_time": "2023-01-26T10:42:26.290Z"
   },
   {
    "duration": 0,
    "start_time": "2023-01-26T10:42:26.293Z"
   },
   {
    "duration": 0,
    "start_time": "2023-01-26T10:42:26.295Z"
   },
   {
    "duration": 0,
    "start_time": "2023-01-26T10:42:26.296Z"
   },
   {
    "duration": 0,
    "start_time": "2023-01-26T10:42:26.297Z"
   },
   {
    "duration": 0,
    "start_time": "2023-01-26T10:42:26.298Z"
   },
   {
    "duration": 0,
    "start_time": "2023-01-26T10:42:26.299Z"
   },
   {
    "duration": 0,
    "start_time": "2023-01-26T10:42:26.304Z"
   },
   {
    "duration": 0,
    "start_time": "2023-01-26T10:42:26.305Z"
   },
   {
    "duration": 0,
    "start_time": "2023-01-26T10:42:26.306Z"
   },
   {
    "duration": 0,
    "start_time": "2023-01-26T10:42:26.308Z"
   },
   {
    "duration": 0,
    "start_time": "2023-01-26T10:42:26.310Z"
   },
   {
    "duration": 0,
    "start_time": "2023-01-26T10:42:26.311Z"
   },
   {
    "duration": 0,
    "start_time": "2023-01-26T10:42:26.312Z"
   },
   {
    "duration": 0,
    "start_time": "2023-01-26T10:42:26.314Z"
   },
   {
    "duration": 0,
    "start_time": "2023-01-26T10:42:26.316Z"
   },
   {
    "duration": 0,
    "start_time": "2023-01-26T10:42:26.318Z"
   },
   {
    "duration": 0,
    "start_time": "2023-01-26T10:42:26.319Z"
   },
   {
    "duration": 0,
    "start_time": "2023-01-26T10:42:26.321Z"
   },
   {
    "duration": 624,
    "start_time": "2023-01-26T10:42:31.239Z"
   },
   {
    "duration": 14,
    "start_time": "2023-01-26T10:42:31.892Z"
   },
   {
    "duration": 13362,
    "start_time": "2023-01-26T10:42:33.437Z"
   },
   {
    "duration": 0,
    "start_time": "2023-01-26T10:42:46.801Z"
   },
   {
    "duration": 10292,
    "start_time": "2023-01-26T10:43:12.694Z"
   },
   {
    "duration": 10496,
    "start_time": "2023-01-26T10:43:43.749Z"
   },
   {
    "duration": 1108,
    "start_time": "2023-01-26T10:44:02.945Z"
   },
   {
    "duration": 170,
    "start_time": "2023-01-26T10:44:04.055Z"
   },
   {
    "duration": 14,
    "start_time": "2023-01-26T10:44:04.227Z"
   },
   {
    "duration": 28,
    "start_time": "2023-01-26T10:44:04.242Z"
   },
   {
    "duration": 26,
    "start_time": "2023-01-26T10:44:04.274Z"
   },
   {
    "duration": 22,
    "start_time": "2023-01-26T10:44:04.302Z"
   },
   {
    "duration": 86,
    "start_time": "2023-01-26T10:44:04.325Z"
   },
   {
    "duration": 97,
    "start_time": "2023-01-26T10:44:04.413Z"
   },
   {
    "duration": 22,
    "start_time": "2023-01-26T10:44:04.512Z"
   },
   {
    "duration": 68,
    "start_time": "2023-01-26T10:44:04.536Z"
   },
   {
    "duration": 8,
    "start_time": "2023-01-26T10:44:04.607Z"
   },
   {
    "duration": 23,
    "start_time": "2023-01-26T10:44:04.617Z"
   },
   {
    "duration": 358,
    "start_time": "2023-01-26T10:44:04.641Z"
   },
   {
    "duration": 23,
    "start_time": "2023-01-26T10:44:05.002Z"
   },
   {
    "duration": 640,
    "start_time": "2023-01-26T10:44:05.028Z"
   },
   {
    "duration": 21,
    "start_time": "2023-01-26T10:44:05.670Z"
   },
   {
    "duration": 18010,
    "start_time": "2023-01-26T10:44:05.693Z"
   },
   {
    "duration": 0,
    "start_time": "2023-01-26T10:44:23.704Z"
   },
   {
    "duration": 0,
    "start_time": "2023-01-26T10:44:23.705Z"
   },
   {
    "duration": 0,
    "start_time": "2023-01-26T10:44:23.706Z"
   },
   {
    "duration": 0,
    "start_time": "2023-01-26T10:44:23.707Z"
   },
   {
    "duration": 0,
    "start_time": "2023-01-26T10:44:23.708Z"
   },
   {
    "duration": 0,
    "start_time": "2023-01-26T10:44:23.709Z"
   },
   {
    "duration": 0,
    "start_time": "2023-01-26T10:44:23.710Z"
   },
   {
    "duration": 0,
    "start_time": "2023-01-26T10:44:23.711Z"
   },
   {
    "duration": 0,
    "start_time": "2023-01-26T10:44:23.712Z"
   },
   {
    "duration": 0,
    "start_time": "2023-01-26T10:44:23.713Z"
   },
   {
    "duration": 0,
    "start_time": "2023-01-26T10:44:23.714Z"
   },
   {
    "duration": 0,
    "start_time": "2023-01-26T10:44:23.715Z"
   },
   {
    "duration": 0,
    "start_time": "2023-01-26T10:44:23.716Z"
   },
   {
    "duration": 0,
    "start_time": "2023-01-26T10:44:23.717Z"
   },
   {
    "duration": 0,
    "start_time": "2023-01-26T10:44:23.718Z"
   },
   {
    "duration": 0,
    "start_time": "2023-01-26T10:44:23.719Z"
   },
   {
    "duration": 0,
    "start_time": "2023-01-26T10:44:23.720Z"
   },
   {
    "duration": 1,
    "start_time": "2023-01-26T10:44:23.721Z"
   },
   {
    "duration": 0,
    "start_time": "2023-01-26T10:44:23.723Z"
   },
   {
    "duration": 0,
    "start_time": "2023-01-26T10:44:23.724Z"
   },
   {
    "duration": 0,
    "start_time": "2023-01-26T10:44:23.725Z"
   },
   {
    "duration": 0,
    "start_time": "2023-01-26T10:44:23.726Z"
   },
   {
    "duration": 0,
    "start_time": "2023-01-26T10:44:23.728Z"
   },
   {
    "duration": 0,
    "start_time": "2023-01-26T10:44:23.729Z"
   },
   {
    "duration": 10191,
    "start_time": "2023-01-26T10:44:42.939Z"
   },
   {
    "duration": 10050,
    "start_time": "2023-01-26T10:45:15.382Z"
   },
   {
    "duration": 13356,
    "start_time": "2023-01-26T10:45:55.966Z"
   },
   {
    "duration": 49,
    "start_time": "2023-01-26T10:46:28.686Z"
   },
   {
    "duration": 360,
    "start_time": "2023-01-26T11:11:37.856Z"
   },
   {
    "duration": 307,
    "start_time": "2023-01-26T11:13:43.871Z"
   },
   {
    "duration": 910,
    "start_time": "2023-01-26T11:13:55.961Z"
   },
   {
    "duration": 732,
    "start_time": "2023-01-26T11:14:55.382Z"
   },
   {
    "duration": 1996,
    "start_time": "2023-01-26T11:16:52.838Z"
   },
   {
    "duration": 10,
    "start_time": "2023-01-26T11:19:25.839Z"
   },
   {
    "duration": 267,
    "start_time": "2023-01-26T11:20:56.438Z"
   },
   {
    "duration": 162,
    "start_time": "2023-01-26T11:21:27.066Z"
   },
   {
    "duration": 229,
    "start_time": "2023-01-26T11:22:06.505Z"
   },
   {
    "duration": 218,
    "start_time": "2023-01-26T11:22:57.609Z"
   },
   {
    "duration": 237,
    "start_time": "2023-01-26T11:23:33.056Z"
   },
   {
    "duration": 247,
    "start_time": "2023-01-26T11:24:20.264Z"
   },
   {
    "duration": 245,
    "start_time": "2023-01-26T11:24:33.168Z"
   },
   {
    "duration": 230,
    "start_time": "2023-01-26T11:25:24.424Z"
   },
   {
    "duration": 340,
    "start_time": "2023-01-26T11:25:33.383Z"
   },
   {
    "duration": 20,
    "start_time": "2023-01-26T11:25:48.311Z"
   },
   {
    "duration": 178,
    "start_time": "2023-01-26T11:30:11.092Z"
   },
   {
    "duration": 1212,
    "start_time": "2023-01-26T11:32:00.405Z"
   },
   {
    "duration": 165,
    "start_time": "2023-01-26T11:32:01.619Z"
   },
   {
    "duration": 18,
    "start_time": "2023-01-26T11:32:01.785Z"
   },
   {
    "duration": 24,
    "start_time": "2023-01-26T11:32:01.805Z"
   },
   {
    "duration": 14,
    "start_time": "2023-01-26T11:32:01.831Z"
   },
   {
    "duration": 36,
    "start_time": "2023-01-26T11:32:01.847Z"
   },
   {
    "duration": 70,
    "start_time": "2023-01-26T11:32:01.885Z"
   },
   {
    "duration": 90,
    "start_time": "2023-01-26T11:32:01.957Z"
   },
   {
    "duration": 19,
    "start_time": "2023-01-26T11:32:02.049Z"
   },
   {
    "duration": 61,
    "start_time": "2023-01-26T11:32:02.071Z"
   },
   {
    "duration": 8,
    "start_time": "2023-01-26T11:32:02.134Z"
   },
   {
    "duration": 36,
    "start_time": "2023-01-26T11:32:02.143Z"
   },
   {
    "duration": 332,
    "start_time": "2023-01-26T11:32:02.180Z"
   },
   {
    "duration": 26,
    "start_time": "2023-01-26T11:32:02.514Z"
   },
   {
    "duration": 643,
    "start_time": "2023-01-26T11:32:02.543Z"
   },
   {
    "duration": 13,
    "start_time": "2023-01-26T11:32:03.187Z"
   },
   {
    "duration": 323,
    "start_time": "2023-01-26T11:32:03.202Z"
   },
   {
    "duration": 0,
    "start_time": "2023-01-26T11:32:03.527Z"
   },
   {
    "duration": 0,
    "start_time": "2023-01-26T11:32:03.528Z"
   },
   {
    "duration": 0,
    "start_time": "2023-01-26T11:32:03.531Z"
   },
   {
    "duration": 0,
    "start_time": "2023-01-26T11:32:03.532Z"
   },
   {
    "duration": 0,
    "start_time": "2023-01-26T11:32:03.534Z"
   },
   {
    "duration": 0,
    "start_time": "2023-01-26T11:32:03.536Z"
   },
   {
    "duration": 0,
    "start_time": "2023-01-26T11:32:03.538Z"
   },
   {
    "duration": 0,
    "start_time": "2023-01-26T11:32:03.540Z"
   },
   {
    "duration": 0,
    "start_time": "2023-01-26T11:32:03.541Z"
   },
   {
    "duration": 0,
    "start_time": "2023-01-26T11:32:03.543Z"
   },
   {
    "duration": 0,
    "start_time": "2023-01-26T11:32:03.544Z"
   },
   {
    "duration": 0,
    "start_time": "2023-01-26T11:32:03.545Z"
   },
   {
    "duration": 0,
    "start_time": "2023-01-26T11:32:03.547Z"
   },
   {
    "duration": 0,
    "start_time": "2023-01-26T11:32:03.592Z"
   },
   {
    "duration": 0,
    "start_time": "2023-01-26T11:32:03.593Z"
   },
   {
    "duration": 0,
    "start_time": "2023-01-26T11:32:03.594Z"
   },
   {
    "duration": 0,
    "start_time": "2023-01-26T11:32:03.595Z"
   },
   {
    "duration": 0,
    "start_time": "2023-01-26T11:32:03.597Z"
   },
   {
    "duration": 0,
    "start_time": "2023-01-26T11:32:03.599Z"
   },
   {
    "duration": 0,
    "start_time": "2023-01-26T11:32:03.600Z"
   },
   {
    "duration": 0,
    "start_time": "2023-01-26T11:32:03.601Z"
   },
   {
    "duration": 0,
    "start_time": "2023-01-26T11:32:03.602Z"
   },
   {
    "duration": 0,
    "start_time": "2023-01-26T11:32:03.604Z"
   },
   {
    "duration": 0,
    "start_time": "2023-01-26T11:32:03.605Z"
   },
   {
    "duration": 385,
    "start_time": "2023-01-26T11:32:37.652Z"
   },
   {
    "duration": 17,
    "start_time": "2023-01-26T11:35:27.635Z"
   },
   {
    "duration": 10,
    "start_time": "2023-01-26T11:37:04.097Z"
   },
   {
    "duration": 12,
    "start_time": "2023-01-26T11:40:01.831Z"
   },
   {
    "duration": 359,
    "start_time": "2023-01-26T11:40:10.935Z"
   },
   {
    "duration": 26,
    "start_time": "2023-01-26T11:40:40.063Z"
   },
   {
    "duration": 223,
    "start_time": "2023-01-26T11:40:52.695Z"
   },
   {
    "duration": 261,
    "start_time": "2023-01-26T11:41:11.495Z"
   },
   {
    "duration": 256,
    "start_time": "2023-01-26T11:41:36.623Z"
   },
   {
    "duration": 249,
    "start_time": "2023-01-26T11:41:45.655Z"
   },
   {
    "duration": 179,
    "start_time": "2023-01-26T11:43:08.102Z"
   },
   {
    "duration": 184,
    "start_time": "2023-01-26T11:43:26.709Z"
   },
   {
    "duration": 11,
    "start_time": "2023-01-26T11:46:30.597Z"
   },
   {
    "duration": 11,
    "start_time": "2023-01-26T11:46:41.201Z"
   },
   {
    "duration": 12,
    "start_time": "2023-01-26T11:48:57.914Z"
   },
   {
    "duration": 10,
    "start_time": "2023-01-26T11:49:35.867Z"
   },
   {
    "duration": 9,
    "start_time": "2023-01-26T11:49:44.915Z"
   },
   {
    "duration": 9,
    "start_time": "2023-01-26T11:49:55.587Z"
   },
   {
    "duration": 106,
    "start_time": "2023-01-26T11:50:03.730Z"
   },
   {
    "duration": 45,
    "start_time": "2023-01-26T11:50:09.538Z"
   },
   {
    "duration": 65,
    "start_time": "2023-01-26T11:50:14.595Z"
   },
   {
    "duration": 60,
    "start_time": "2023-01-26T11:50:17.753Z"
   },
   {
    "duration": 10,
    "start_time": "2023-01-26T11:51:17.826Z"
   },
   {
    "duration": 3,
    "start_time": "2023-01-26T11:51:42.257Z"
   },
   {
    "duration": 3,
    "start_time": "2023-01-26T11:51:49.922Z"
   },
   {
    "duration": 4,
    "start_time": "2023-01-26T11:51:58.009Z"
   },
   {
    "duration": 5,
    "start_time": "2023-01-26T11:52:14.944Z"
   },
   {
    "duration": 4,
    "start_time": "2023-01-26T11:53:03.920Z"
   },
   {
    "duration": 10,
    "start_time": "2023-01-26T11:53:14.072Z"
   },
   {
    "duration": 271,
    "start_time": "2023-01-26T12:07:15.640Z"
   },
   {
    "duration": 13,
    "start_time": "2023-01-26T12:07:50.865Z"
   },
   {
    "duration": 30,
    "start_time": "2023-01-26T12:08:32.414Z"
   },
   {
    "duration": 345,
    "start_time": "2023-01-26T12:09:15.099Z"
   },
   {
    "duration": 387,
    "start_time": "2023-01-26T12:09:25.552Z"
   },
   {
    "duration": 9,
    "start_time": "2023-01-26T12:16:50.529Z"
   },
   {
    "duration": 171,
    "start_time": "2023-01-26T12:17:05.571Z"
   },
   {
    "duration": 281,
    "start_time": "2023-01-26T12:17:26.042Z"
   },
   {
    "duration": 181,
    "start_time": "2023-01-26T12:17:40.196Z"
   },
   {
    "duration": 153,
    "start_time": "2023-01-26T12:18:04.923Z"
   },
   {
    "duration": 212,
    "start_time": "2023-01-26T12:18:19.643Z"
   },
   {
    "duration": 184,
    "start_time": "2023-01-26T12:18:38.716Z"
   },
   {
    "duration": 176,
    "start_time": "2023-01-26T12:20:14.165Z"
   },
   {
    "duration": 19,
    "start_time": "2023-01-26T12:25:27.905Z"
   },
   {
    "duration": 20,
    "start_time": "2023-01-26T12:25:50.805Z"
   },
   {
    "duration": 191,
    "start_time": "2023-01-26T12:26:03.343Z"
   },
   {
    "duration": 162,
    "start_time": "2023-01-26T12:26:54.151Z"
   },
   {
    "duration": 213,
    "start_time": "2023-01-26T12:27:11.327Z"
   },
   {
    "duration": 238,
    "start_time": "2023-01-26T12:27:25.933Z"
   },
   {
    "duration": 228,
    "start_time": "2023-01-26T12:27:35.566Z"
   },
   {
    "duration": 204,
    "start_time": "2023-01-26T12:27:43.749Z"
   },
   {
    "duration": 171,
    "start_time": "2023-01-26T12:29:19.148Z"
   },
   {
    "duration": 206,
    "start_time": "2023-01-26T12:29:42.957Z"
   },
   {
    "duration": 299,
    "start_time": "2023-01-26T12:29:53.272Z"
   },
   {
    "duration": 215,
    "start_time": "2023-01-26T12:33:08.796Z"
   },
   {
    "duration": 1964,
    "start_time": "2023-01-26T12:33:20.262Z"
   },
   {
    "duration": 383,
    "start_time": "2023-01-26T12:33:22.229Z"
   },
   {
    "duration": 14,
    "start_time": "2023-01-26T12:33:22.614Z"
   },
   {
    "duration": 75,
    "start_time": "2023-01-26T12:33:22.632Z"
   },
   {
    "duration": 18,
    "start_time": "2023-01-26T12:33:22.710Z"
   },
   {
    "duration": 69,
    "start_time": "2023-01-26T12:33:22.730Z"
   },
   {
    "duration": 120,
    "start_time": "2023-01-26T12:33:22.800Z"
   },
   {
    "duration": 188,
    "start_time": "2023-01-26T12:33:22.921Z"
   },
   {
    "duration": 21,
    "start_time": "2023-01-26T12:33:23.111Z"
   },
   {
    "duration": 168,
    "start_time": "2023-01-26T12:33:23.133Z"
   },
   {
    "duration": 9,
    "start_time": "2023-01-26T12:33:23.303Z"
   },
   {
    "duration": 22,
    "start_time": "2023-01-26T12:33:23.314Z"
   },
   {
    "duration": 656,
    "start_time": "2023-01-26T12:33:23.337Z"
   },
   {
    "duration": 19,
    "start_time": "2023-01-26T12:33:23.996Z"
   },
   {
    "duration": 982,
    "start_time": "2023-01-26T12:33:24.017Z"
   },
   {
    "duration": 12,
    "start_time": "2023-01-26T12:33:25.000Z"
   },
   {
    "duration": 310,
    "start_time": "2023-01-26T12:33:25.014Z"
   },
   {
    "duration": 33,
    "start_time": "2023-01-26T12:33:25.326Z"
   },
   {
    "duration": 30,
    "start_time": "2023-01-26T12:33:25.361Z"
   },
   {
    "duration": 22,
    "start_time": "2023-01-26T12:33:25.393Z"
   },
   {
    "duration": 44,
    "start_time": "2023-01-26T12:33:25.417Z"
   },
   {
    "duration": 118,
    "start_time": "2023-01-26T12:33:25.462Z"
   },
   {
    "duration": 115,
    "start_time": "2023-01-26T12:33:25.582Z"
   },
   {
    "duration": 8,
    "start_time": "2023-01-26T12:33:25.699Z"
   },
   {
    "duration": 27,
    "start_time": "2023-01-26T12:33:25.709Z"
   },
   {
    "duration": 17,
    "start_time": "2023-01-26T12:33:25.737Z"
   },
   {
    "duration": 59,
    "start_time": "2023-01-26T12:33:25.756Z"
   },
   {
    "duration": 40,
    "start_time": "2023-01-26T12:33:25.818Z"
   },
   {
    "duration": 284,
    "start_time": "2023-01-26T12:33:25.860Z"
   },
   {
    "duration": 3,
    "start_time": "2023-01-26T12:33:26.146Z"
   },
   {
    "duration": 40,
    "start_time": "2023-01-26T12:33:26.151Z"
   },
   {
    "duration": 682,
    "start_time": "2023-01-26T12:33:26.195Z"
   },
   {
    "duration": 532,
    "start_time": "2023-01-26T12:33:26.879Z"
   },
   {
    "duration": 590,
    "start_time": "2023-01-26T12:33:27.413Z"
   },
   {
    "duration": 515,
    "start_time": "2023-01-26T12:33:28.004Z"
   },
   {
    "duration": 3,
    "start_time": "2023-01-26T12:33:28.521Z"
   },
   {
    "duration": 553,
    "start_time": "2023-01-26T12:33:28.526Z"
   },
   {
    "duration": 524,
    "start_time": "2023-01-26T12:33:29.080Z"
   },
   {
    "duration": 522,
    "start_time": "2023-01-26T12:33:29.605Z"
   },
   {
    "duration": 509,
    "start_time": "2023-01-26T12:33:30.129Z"
   },
   {
    "duration": 283,
    "start_time": "2023-01-26T12:34:04.562Z"
   },
   {
    "duration": 250,
    "start_time": "2023-01-26T12:34:29.546Z"
   },
   {
    "duration": 324,
    "start_time": "2023-01-26T12:34:46.371Z"
   },
   {
    "duration": 379,
    "start_time": "2023-01-26T12:34:52.577Z"
   },
   {
    "duration": 256,
    "start_time": "2023-01-26T12:34:58.137Z"
   },
   {
    "duration": 1226,
    "start_time": "2023-01-26T12:35:03.449Z"
   },
   {
    "duration": 167,
    "start_time": "2023-01-26T12:35:04.677Z"
   },
   {
    "duration": 14,
    "start_time": "2023-01-26T12:35:04.846Z"
   },
   {
    "duration": 36,
    "start_time": "2023-01-26T12:35:04.862Z"
   },
   {
    "duration": 14,
    "start_time": "2023-01-26T12:35:04.900Z"
   },
   {
    "duration": 17,
    "start_time": "2023-01-26T12:35:04.915Z"
   },
   {
    "duration": 81,
    "start_time": "2023-01-26T12:35:04.934Z"
   },
   {
    "duration": 97,
    "start_time": "2023-01-26T12:35:05.017Z"
   },
   {
    "duration": 20,
    "start_time": "2023-01-26T12:35:05.116Z"
   },
   {
    "duration": 69,
    "start_time": "2023-01-26T12:35:05.138Z"
   },
   {
    "duration": 8,
    "start_time": "2023-01-26T12:35:05.209Z"
   },
   {
    "duration": 29,
    "start_time": "2023-01-26T12:35:05.218Z"
   },
   {
    "duration": 317,
    "start_time": "2023-01-26T12:35:05.248Z"
   },
   {
    "duration": 26,
    "start_time": "2023-01-26T12:35:05.568Z"
   },
   {
    "duration": 653,
    "start_time": "2023-01-26T12:35:05.595Z"
   },
   {
    "duration": 13,
    "start_time": "2023-01-26T12:35:06.249Z"
   },
   {
    "duration": 315,
    "start_time": "2023-01-26T12:35:06.264Z"
   },
   {
    "duration": 48,
    "start_time": "2023-01-26T12:35:06.581Z"
   },
   {
    "duration": 15,
    "start_time": "2023-01-26T12:35:06.631Z"
   },
   {
    "duration": 22,
    "start_time": "2023-01-26T12:35:06.649Z"
   },
   {
    "duration": 36,
    "start_time": "2023-01-26T12:35:06.673Z"
   },
   {
    "duration": 73,
    "start_time": "2023-01-26T12:35:06.710Z"
   },
   {
    "duration": 149,
    "start_time": "2023-01-26T12:35:06.784Z"
   },
   {
    "duration": 60,
    "start_time": "2023-01-26T12:35:06.935Z"
   },
   {
    "duration": 15,
    "start_time": "2023-01-26T12:35:06.997Z"
   },
   {
    "duration": 16,
    "start_time": "2023-01-26T12:35:07.014Z"
   },
   {
    "duration": 77,
    "start_time": "2023-01-26T12:35:07.031Z"
   },
   {
    "duration": 86,
    "start_time": "2023-01-26T12:35:07.110Z"
   },
   {
    "duration": 508,
    "start_time": "2023-01-26T12:35:07.198Z"
   },
   {
    "duration": 4,
    "start_time": "2023-01-26T12:35:07.707Z"
   },
   {
    "duration": 15,
    "start_time": "2023-01-26T12:35:07.712Z"
   },
   {
    "duration": 1083,
    "start_time": "2023-01-26T12:35:07.729Z"
   },
   {
    "duration": 1087,
    "start_time": "2023-01-26T12:35:08.813Z"
   },
   {
    "duration": 1025,
    "start_time": "2023-01-26T12:35:09.902Z"
   },
   {
    "duration": 1076,
    "start_time": "2023-01-26T12:35:10.929Z"
   },
   {
    "duration": 3,
    "start_time": "2023-01-26T12:35:12.007Z"
   },
   {
    "duration": 1110,
    "start_time": "2023-01-26T12:35:12.011Z"
   },
   {
    "duration": 1073,
    "start_time": "2023-01-26T12:35:13.123Z"
   },
   {
    "duration": 1104,
    "start_time": "2023-01-26T12:35:14.197Z"
   },
   {
    "duration": 1116,
    "start_time": "2023-01-26T12:35:15.303Z"
   },
   {
    "duration": 311,
    "start_time": "2023-01-26T12:35:33.097Z"
   },
   {
    "duration": 263,
    "start_time": "2023-01-26T12:36:26.833Z"
   },
   {
    "duration": 277,
    "start_time": "2023-01-26T12:36:54.960Z"
   },
   {
    "duration": 109,
    "start_time": "2023-01-26T12:37:25.911Z"
   },
   {
    "duration": 254,
    "start_time": "2023-01-26T12:38:55.103Z"
   },
   {
    "duration": 166,
    "start_time": "2023-01-26T12:41:01.758Z"
   },
   {
    "duration": 1209,
    "start_time": "2023-01-26T12:41:14.932Z"
   },
   {
    "duration": 182,
    "start_time": "2023-01-26T12:41:16.143Z"
   },
   {
    "duration": 16,
    "start_time": "2023-01-26T12:41:16.328Z"
   },
   {
    "duration": 34,
    "start_time": "2023-01-26T12:41:16.346Z"
   },
   {
    "duration": 17,
    "start_time": "2023-01-26T12:41:16.391Z"
   },
   {
    "duration": 23,
    "start_time": "2023-01-26T12:41:16.410Z"
   },
   {
    "duration": 92,
    "start_time": "2023-01-26T12:41:16.435Z"
   },
   {
    "duration": 86,
    "start_time": "2023-01-26T12:41:16.529Z"
   },
   {
    "duration": 21,
    "start_time": "2023-01-26T12:41:16.617Z"
   },
   {
    "duration": 60,
    "start_time": "2023-01-26T12:41:16.640Z"
   },
   {
    "duration": 8,
    "start_time": "2023-01-26T12:41:16.702Z"
   },
   {
    "duration": 28,
    "start_time": "2023-01-26T12:41:16.711Z"
   },
   {
    "duration": 306,
    "start_time": "2023-01-26T12:41:16.740Z"
   },
   {
    "duration": 19,
    "start_time": "2023-01-26T12:41:17.049Z"
   },
   {
    "duration": 662,
    "start_time": "2023-01-26T12:41:17.070Z"
   },
   {
    "duration": 12,
    "start_time": "2023-01-26T12:41:17.733Z"
   },
   {
    "duration": 188,
    "start_time": "2023-01-26T12:41:17.747Z"
   },
   {
    "duration": 148,
    "start_time": "2023-01-26T12:41:17.936Z"
   },
   {
    "duration": 37,
    "start_time": "2023-01-26T12:41:18.085Z"
   },
   {
    "duration": 12,
    "start_time": "2023-01-26T12:41:18.124Z"
   },
   {
    "duration": 9,
    "start_time": "2023-01-26T12:41:18.138Z"
   },
   {
    "duration": 46,
    "start_time": "2023-01-26T12:41:18.149Z"
   },
   {
    "duration": 61,
    "start_time": "2023-01-26T12:41:18.197Z"
   },
   {
    "duration": 133,
    "start_time": "2023-01-26T12:41:18.259Z"
   },
   {
    "duration": 7,
    "start_time": "2023-01-26T12:41:18.394Z"
   },
   {
    "duration": 10,
    "start_time": "2023-01-26T12:41:18.403Z"
   },
   {
    "duration": 16,
    "start_time": "2023-01-26T12:41:18.415Z"
   },
   {
    "duration": 19,
    "start_time": "2023-01-26T12:41:18.432Z"
   },
   {
    "duration": 50,
    "start_time": "2023-01-26T12:41:18.453Z"
   },
   {
    "duration": 292,
    "start_time": "2023-01-26T12:41:18.504Z"
   },
   {
    "duration": 4,
    "start_time": "2023-01-26T12:41:18.798Z"
   },
   {
    "duration": 14,
    "start_time": "2023-01-26T12:41:18.804Z"
   },
   {
    "duration": 519,
    "start_time": "2023-01-26T12:41:18.819Z"
   },
   {
    "duration": 478,
    "start_time": "2023-01-26T12:41:19.340Z"
   },
   {
    "duration": 916,
    "start_time": "2023-01-26T12:41:19.820Z"
   },
   {
    "duration": 924,
    "start_time": "2023-01-26T12:41:20.738Z"
   },
   {
    "duration": 2,
    "start_time": "2023-01-26T12:41:21.692Z"
   },
   {
    "duration": 529,
    "start_time": "2023-01-26T12:41:21.696Z"
   },
   {
    "duration": 867,
    "start_time": "2023-01-26T12:41:22.226Z"
   },
   {
    "duration": 1000,
    "start_time": "2023-01-26T12:41:23.095Z"
   },
   {
    "duration": 994,
    "start_time": "2023-01-26T12:41:24.099Z"
   },
   {
    "duration": 160,
    "start_time": "2023-01-26T12:41:48.670Z"
   },
   {
    "duration": 162,
    "start_time": "2023-01-26T12:43:28.412Z"
   },
   {
    "duration": 302,
    "start_time": "2023-01-26T12:46:45.363Z"
   },
   {
    "duration": 177,
    "start_time": "2023-01-26T12:47:00.227Z"
   },
   {
    "duration": 209,
    "start_time": "2023-01-26T12:47:26.163Z"
   },
   {
    "duration": 184,
    "start_time": "2023-01-26T12:47:46.738Z"
   },
   {
    "duration": 206,
    "start_time": "2023-01-26T12:48:03.411Z"
   },
   {
    "duration": 189,
    "start_time": "2023-01-26T12:48:15.962Z"
   },
   {
    "duration": 126,
    "start_time": "2023-01-26T12:50:14.273Z"
   },
   {
    "duration": 136,
    "start_time": "2023-01-26T12:50:27.289Z"
   },
   {
    "duration": 185,
    "start_time": "2023-01-26T12:50:39.368Z"
   },
   {
    "duration": 179,
    "start_time": "2023-01-26T12:50:51.753Z"
   },
   {
    "duration": 188,
    "start_time": "2023-01-26T12:59:24.781Z"
   },
   {
    "duration": 204,
    "start_time": "2023-01-26T13:01:04.012Z"
   },
   {
    "duration": 197,
    "start_time": "2023-01-26T13:01:42.068Z"
   },
   {
    "duration": 250,
    "start_time": "2023-01-26T13:06:47.048Z"
   },
   {
    "duration": 177,
    "start_time": "2023-01-26T13:07:56.552Z"
   },
   {
    "duration": 105,
    "start_time": "2023-01-26T13:13:33.502Z"
   },
   {
    "duration": 164,
    "start_time": "2023-01-26T13:13:37.237Z"
   },
   {
    "duration": 23,
    "start_time": "2023-01-26T13:13:49.053Z"
   },
   {
    "duration": 162,
    "start_time": "2023-01-26T13:14:01.015Z"
   },
   {
    "duration": 1650,
    "start_time": "2023-01-26T13:14:18.404Z"
   },
   {
    "duration": 1201,
    "start_time": "2023-01-26T13:14:48.101Z"
   },
   {
    "duration": 171,
    "start_time": "2023-01-26T13:14:49.304Z"
   },
   {
    "duration": 18,
    "start_time": "2023-01-26T13:14:49.477Z"
   },
   {
    "duration": 20,
    "start_time": "2023-01-26T13:14:49.497Z"
   },
   {
    "duration": 13,
    "start_time": "2023-01-26T13:14:49.519Z"
   },
   {
    "duration": 15,
    "start_time": "2023-01-26T13:14:49.533Z"
   },
   {
    "duration": 87,
    "start_time": "2023-01-26T13:14:49.549Z"
   },
   {
    "duration": 97,
    "start_time": "2023-01-26T13:14:49.638Z"
   },
   {
    "duration": 20,
    "start_time": "2023-01-26T13:14:49.736Z"
   },
   {
    "duration": 62,
    "start_time": "2023-01-26T13:14:49.758Z"
   },
   {
    "duration": 8,
    "start_time": "2023-01-26T13:14:49.822Z"
   },
   {
    "duration": 26,
    "start_time": "2023-01-26T13:14:49.832Z"
   },
   {
    "duration": 336,
    "start_time": "2023-01-26T13:14:49.860Z"
   },
   {
    "duration": 20,
    "start_time": "2023-01-26T13:14:50.200Z"
   },
   {
    "duration": 632,
    "start_time": "2023-01-26T13:14:50.222Z"
   },
   {
    "duration": 12,
    "start_time": "2023-01-26T13:14:50.855Z"
   },
   {
    "duration": 134,
    "start_time": "2023-01-26T14:51:32.248Z"
   },
   {
    "duration": 591,
    "start_time": "2023-01-26T14:51:54.901Z"
   },
   {
    "duration": 13,
    "start_time": "2023-01-26T14:51:55.552Z"
   },
   {
    "duration": 140,
    "start_time": "2023-01-26T14:51:56.133Z"
   },
   {
    "duration": 185,
    "start_time": "2023-01-26T14:51:57.052Z"
   },
   {
    "duration": 1263,
    "start_time": "2023-01-26T14:52:21.183Z"
   },
   {
    "duration": 182,
    "start_time": "2023-01-26T14:52:22.449Z"
   },
   {
    "duration": 14,
    "start_time": "2023-01-26T14:52:22.633Z"
   },
   {
    "duration": 46,
    "start_time": "2023-01-26T14:52:22.650Z"
   },
   {
    "duration": 17,
    "start_time": "2023-01-26T14:52:22.697Z"
   },
   {
    "duration": 44,
    "start_time": "2023-01-26T14:52:22.717Z"
   },
   {
    "duration": 91,
    "start_time": "2023-01-26T14:52:22.763Z"
   },
   {
    "duration": 101,
    "start_time": "2023-01-26T14:52:22.856Z"
   },
   {
    "duration": 33,
    "start_time": "2023-01-26T14:52:22.959Z"
   },
   {
    "duration": 57,
    "start_time": "2023-01-26T14:52:22.996Z"
   },
   {
    "duration": 9,
    "start_time": "2023-01-26T14:52:23.055Z"
   },
   {
    "duration": 41,
    "start_time": "2023-01-26T14:52:23.065Z"
   },
   {
    "duration": 278,
    "start_time": "2023-01-26T14:52:23.108Z"
   },
   {
    "duration": 18,
    "start_time": "2023-01-26T14:52:23.392Z"
   },
   {
    "duration": 680,
    "start_time": "2023-01-26T14:52:23.411Z"
   },
   {
    "duration": 18,
    "start_time": "2023-01-26T14:52:24.093Z"
   },
   {
    "duration": 210,
    "start_time": "2023-01-26T14:52:24.112Z"
   },
   {
    "duration": 508,
    "start_time": "2023-01-26T14:52:24.324Z"
   },
   {
    "duration": 790,
    "start_time": "2023-01-26T14:52:24.834Z"
   },
   {
    "duration": 92,
    "start_time": "2023-01-26T14:52:25.626Z"
   },
   {
    "duration": 13,
    "start_time": "2023-01-26T14:52:25.719Z"
   },
   {
    "duration": 62,
    "start_time": "2023-01-26T14:52:25.734Z"
   },
   {
    "duration": 38,
    "start_time": "2023-01-26T14:52:25.798Z"
   },
   {
    "duration": 275,
    "start_time": "2023-01-26T14:52:25.838Z"
   },
   {
    "duration": 279,
    "start_time": "2023-01-26T14:52:26.114Z"
   },
   {
    "duration": 9,
    "start_time": "2023-01-26T14:52:26.395Z"
   },
   {
    "duration": 43,
    "start_time": "2023-01-26T14:52:26.406Z"
   },
   {
    "duration": 21,
    "start_time": "2023-01-26T14:52:26.493Z"
   },
   {
    "duration": 31,
    "start_time": "2023-01-26T14:52:26.515Z"
   },
   {
    "duration": 34,
    "start_time": "2023-01-26T14:52:26.547Z"
   },
   {
    "duration": 270,
    "start_time": "2023-01-26T14:52:26.583Z"
   },
   {
    "duration": 4,
    "start_time": "2023-01-26T14:52:26.854Z"
   },
   {
    "duration": 17,
    "start_time": "2023-01-26T14:52:26.860Z"
   },
   {
    "duration": 494,
    "start_time": "2023-01-26T14:52:26.879Z"
   },
   {
    "duration": 517,
    "start_time": "2023-01-26T14:52:27.375Z"
   },
   {
    "duration": 535,
    "start_time": "2023-01-26T14:52:27.894Z"
   },
   {
    "duration": 603,
    "start_time": "2023-01-26T14:52:28.431Z"
   },
   {
    "duration": 2,
    "start_time": "2023-01-26T14:52:29.036Z"
   },
   {
    "duration": 518,
    "start_time": "2023-01-26T14:52:29.040Z"
   },
   {
    "duration": 513,
    "start_time": "2023-01-26T14:52:29.560Z"
   },
   {
    "duration": 524,
    "start_time": "2023-01-26T14:52:30.075Z"
   },
   {
    "duration": 536,
    "start_time": "2023-01-26T14:52:30.600Z"
   },
   {
    "duration": 628,
    "start_time": "2023-01-26T14:52:54.128Z"
   },
   {
    "duration": 683,
    "start_time": "2023-01-26T14:54:26.461Z"
   },
   {
    "duration": 612,
    "start_time": "2023-01-26T14:54:45.579Z"
   },
   {
    "duration": 631,
    "start_time": "2023-01-26T14:54:57.124Z"
   },
   {
    "duration": 620,
    "start_time": "2023-01-26T14:55:19.876Z"
   },
   {
    "duration": 1074,
    "start_time": "2023-01-26T14:55:28.235Z"
   },
   {
    "duration": 158,
    "start_time": "2023-01-26T14:55:29.311Z"
   },
   {
    "duration": 21,
    "start_time": "2023-01-26T14:55:29.471Z"
   },
   {
    "duration": 21,
    "start_time": "2023-01-26T14:55:29.494Z"
   },
   {
    "duration": 13,
    "start_time": "2023-01-26T14:55:29.517Z"
   },
   {
    "duration": 17,
    "start_time": "2023-01-26T14:55:29.532Z"
   },
   {
    "duration": 96,
    "start_time": "2023-01-26T14:55:29.551Z"
   },
   {
    "duration": 100,
    "start_time": "2023-01-26T14:55:29.649Z"
   },
   {
    "duration": 21,
    "start_time": "2023-01-26T14:55:29.751Z"
   },
   {
    "duration": 59,
    "start_time": "2023-01-26T14:55:29.774Z"
   },
   {
    "duration": 8,
    "start_time": "2023-01-26T14:55:29.835Z"
   },
   {
    "duration": 28,
    "start_time": "2023-01-26T14:55:29.845Z"
   },
   {
    "duration": 307,
    "start_time": "2023-01-26T14:55:29.891Z"
   },
   {
    "duration": 18,
    "start_time": "2023-01-26T14:55:30.201Z"
   },
   {
    "duration": 654,
    "start_time": "2023-01-26T14:55:30.221Z"
   },
   {
    "duration": 20,
    "start_time": "2023-01-26T14:55:30.876Z"
   },
   {
    "duration": 208,
    "start_time": "2023-01-26T14:55:30.898Z"
   },
   {
    "duration": 215,
    "start_time": "2023-01-26T14:55:31.108Z"
   },
   {
    "duration": 254,
    "start_time": "2023-01-26T14:55:31.325Z"
   },
   {
    "duration": 39,
    "start_time": "2023-01-26T14:55:31.581Z"
   },
   {
    "duration": 33,
    "start_time": "2023-01-26T14:55:31.622Z"
   },
   {
    "duration": 38,
    "start_time": "2023-01-26T14:55:31.657Z"
   },
   {
    "duration": 38,
    "start_time": "2023-01-26T14:55:31.696Z"
   },
   {
    "duration": 59,
    "start_time": "2023-01-26T14:55:31.736Z"
   },
   {
    "duration": 123,
    "start_time": "2023-01-26T14:55:31.797Z"
   },
   {
    "duration": 7,
    "start_time": "2023-01-26T14:55:31.922Z"
   },
   {
    "duration": 27,
    "start_time": "2023-01-26T14:55:31.930Z"
   },
   {
    "duration": 23,
    "start_time": "2023-01-26T14:55:31.959Z"
   },
   {
    "duration": 40,
    "start_time": "2023-01-26T14:55:31.984Z"
   },
   {
    "duration": 33,
    "start_time": "2023-01-26T14:55:32.026Z"
   },
   {
    "duration": 252,
    "start_time": "2023-01-26T14:55:32.060Z"
   },
   {
    "duration": 4,
    "start_time": "2023-01-26T14:55:32.313Z"
   },
   {
    "duration": 11,
    "start_time": "2023-01-26T14:55:32.318Z"
   },
   {
    "duration": 517,
    "start_time": "2023-01-26T14:55:32.330Z"
   },
   {
    "duration": 673,
    "start_time": "2023-01-26T14:55:32.849Z"
   },
   {
    "duration": 1076,
    "start_time": "2023-01-26T14:55:33.524Z"
   },
   {
    "duration": 668,
    "start_time": "2023-01-26T14:55:34.602Z"
   },
   {
    "duration": 2,
    "start_time": "2023-01-26T14:55:35.272Z"
   },
   {
    "duration": 553,
    "start_time": "2023-01-26T14:55:35.276Z"
   },
   {
    "duration": 518,
    "start_time": "2023-01-26T14:55:35.830Z"
   },
   {
    "duration": 550,
    "start_time": "2023-01-26T14:55:36.351Z"
   },
   {
    "duration": 503,
    "start_time": "2023-01-26T14:55:36.902Z"
   },
   {
    "duration": 3,
    "start_time": "2023-01-26T14:55:39.579Z"
   },
   {
    "duration": 154,
    "start_time": "2023-01-26T14:55:39.979Z"
   },
   {
    "duration": 10,
    "start_time": "2023-01-26T14:55:40.275Z"
   },
   {
    "duration": 19,
    "start_time": "2023-01-26T14:55:40.955Z"
   },
   {
    "duration": 13,
    "start_time": "2023-01-26T14:56:12.962Z"
   },
   {
    "duration": 4,
    "start_time": "2023-01-26T14:56:28.842Z"
   },
   {
    "duration": 149,
    "start_time": "2023-01-26T14:56:29.010Z"
   },
   {
    "duration": 10,
    "start_time": "2023-01-26T14:56:29.323Z"
   },
   {
    "duration": 18,
    "start_time": "2023-01-26T14:56:29.690Z"
   },
   {
    "duration": 14,
    "start_time": "2023-01-26T14:56:30.714Z"
   },
   {
    "duration": 16,
    "start_time": "2023-01-26T14:56:31.289Z"
   },
   {
    "duration": 59,
    "start_time": "2023-01-26T14:56:43.570Z"
   },
   {
    "duration": 68,
    "start_time": "2023-01-26T14:56:44.260Z"
   },
   {
    "duration": 21,
    "start_time": "2023-01-26T14:56:46.538Z"
   },
   {
    "duration": 13,
    "start_time": "2023-01-26T14:56:57.409Z"
   },
   {
    "duration": 59,
    "start_time": "2023-01-26T14:57:06.426Z"
   },
   {
    "duration": 12,
    "start_time": "2023-01-26T14:57:08.498Z"
   },
   {
    "duration": 22,
    "start_time": "2023-01-26T14:57:09.562Z"
   },
   {
    "duration": 361,
    "start_time": "2023-01-26T14:57:10.970Z"
   },
   {
    "duration": 18,
    "start_time": "2023-01-26T14:57:12.426Z"
   },
   {
    "duration": 665,
    "start_time": "2023-01-26T14:57:18.226Z"
   },
   {
    "duration": 18,
    "start_time": "2023-01-26T14:57:20.242Z"
   },
   {
    "duration": 213,
    "start_time": "2023-01-26T14:57:20.898Z"
   },
   {
    "duration": 214,
    "start_time": "2023-01-26T14:57:21.528Z"
   },
   {
    "duration": 199,
    "start_time": "2023-01-26T14:58:00.857Z"
   },
   {
    "duration": 108,
    "start_time": "2023-01-26T14:58:49.801Z"
   },
   {
    "duration": 379,
    "start_time": "2023-01-26T14:58:59.152Z"
   },
   {
    "duration": 195,
    "start_time": "2023-01-26T14:59:05.937Z"
   },
   {
    "duration": 191,
    "start_time": "2023-01-26T14:59:50.886Z"
   },
   {
    "duration": 21,
    "start_time": "2023-01-26T15:00:46.783Z"
   },
   {
    "duration": 196,
    "start_time": "2023-01-26T15:01:04.160Z"
   },
   {
    "duration": 174,
    "start_time": "2023-01-26T15:02:37.341Z"
   },
   {
    "duration": 296,
    "start_time": "2023-01-26T15:03:20.662Z"
   },
   {
    "duration": 288,
    "start_time": "2023-01-26T15:03:29.927Z"
   },
   {
    "duration": 59,
    "start_time": "2023-01-26T15:05:18.141Z"
   },
   {
    "duration": 46,
    "start_time": "2023-01-26T15:06:58.564Z"
   },
   {
    "duration": 1052,
    "start_time": "2023-01-26T15:12:46.423Z"
   },
   {
    "duration": 148,
    "start_time": "2023-01-26T15:12:47.477Z"
   },
   {
    "duration": 13,
    "start_time": "2023-01-26T15:12:47.626Z"
   },
   {
    "duration": 20,
    "start_time": "2023-01-26T15:12:47.641Z"
   },
   {
    "duration": 30,
    "start_time": "2023-01-26T15:12:47.662Z"
   },
   {
    "duration": 13,
    "start_time": "2023-01-26T15:12:47.694Z"
   },
   {
    "duration": 59,
    "start_time": "2023-01-26T15:12:47.708Z"
   },
   {
    "duration": 96,
    "start_time": "2023-01-26T15:12:47.769Z"
   },
   {
    "duration": 31,
    "start_time": "2023-01-26T15:12:47.867Z"
   },
   {
    "duration": 44,
    "start_time": "2023-01-26T15:12:47.899Z"
   },
   {
    "duration": 7,
    "start_time": "2023-01-26T15:12:47.944Z"
   },
   {
    "duration": 40,
    "start_time": "2023-01-26T15:12:47.952Z"
   },
   {
    "duration": 271,
    "start_time": "2023-01-26T15:12:47.993Z"
   },
   {
    "duration": 17,
    "start_time": "2023-01-26T15:12:48.266Z"
   },
   {
    "duration": 1104,
    "start_time": "2023-01-26T15:12:48.291Z"
   },
   {
    "duration": 16,
    "start_time": "2023-01-26T15:12:49.397Z"
   },
   {
    "duration": 81,
    "start_time": "2023-01-26T15:12:49.414Z"
   },
   {
    "duration": 516,
    "start_time": "2023-01-26T15:12:49.496Z"
   },
   {
    "duration": 82,
    "start_time": "2023-01-26T15:12:50.014Z"
   },
   {
    "duration": 12,
    "start_time": "2023-01-26T15:12:50.098Z"
   },
   {
    "duration": 8,
    "start_time": "2023-01-26T15:12:50.111Z"
   },
   {
    "duration": 71,
    "start_time": "2023-01-26T15:12:50.121Z"
   },
   {
    "duration": 99,
    "start_time": "2023-01-26T15:12:50.193Z"
   },
   {
    "duration": 210,
    "start_time": "2023-01-26T15:12:50.294Z"
   },
   {
    "duration": 6,
    "start_time": "2023-01-26T15:12:50.505Z"
   },
   {
    "duration": 21,
    "start_time": "2023-01-26T15:12:50.512Z"
   },
   {
    "duration": 4,
    "start_time": "2023-01-26T15:12:50.535Z"
   },
   {
    "duration": 61,
    "start_time": "2023-01-26T15:12:50.541Z"
   },
   {
    "duration": 30,
    "start_time": "2023-01-26T15:12:50.604Z"
   },
   {
    "duration": 568,
    "start_time": "2023-01-26T15:12:50.635Z"
   },
   {
    "duration": 3,
    "start_time": "2023-01-26T15:12:51.204Z"
   },
   {
    "duration": 5,
    "start_time": "2023-01-26T15:12:51.209Z"
   },
   {
    "duration": 990,
    "start_time": "2023-01-26T15:12:51.216Z"
   },
   {
    "duration": 927,
    "start_time": "2023-01-26T15:12:52.208Z"
   },
   {
    "duration": 974,
    "start_time": "2023-01-26T15:12:53.136Z"
   },
   {
    "duration": 916,
    "start_time": "2023-01-26T15:12:54.111Z"
   },
   {
    "duration": 2,
    "start_time": "2023-01-26T15:12:55.028Z"
   },
   {
    "duration": 972,
    "start_time": "2023-01-26T15:12:55.032Z"
   },
   {
    "duration": 991,
    "start_time": "2023-01-26T15:12:56.005Z"
   },
   {
    "duration": 934,
    "start_time": "2023-01-26T15:12:56.997Z"
   },
   {
    "duration": 980,
    "start_time": "2023-01-26T15:12:57.934Z"
   },
   {
    "duration": 1083,
    "start_time": "2023-01-26T15:21:11.417Z"
   },
   {
    "duration": 158,
    "start_time": "2023-01-26T15:21:12.502Z"
   },
   {
    "duration": 15,
    "start_time": "2023-01-26T15:21:12.661Z"
   },
   {
    "duration": 23,
    "start_time": "2023-01-26T15:21:12.690Z"
   },
   {
    "duration": 15,
    "start_time": "2023-01-26T15:21:12.714Z"
   },
   {
    "duration": 16,
    "start_time": "2023-01-26T15:21:12.730Z"
   },
   {
    "duration": 96,
    "start_time": "2023-01-26T15:21:12.747Z"
   },
   {
    "duration": 101,
    "start_time": "2023-01-26T15:21:12.844Z"
   },
   {
    "duration": 21,
    "start_time": "2023-01-26T15:21:12.947Z"
   },
   {
    "duration": 60,
    "start_time": "2023-01-26T15:21:12.971Z"
   },
   {
    "duration": 8,
    "start_time": "2023-01-26T15:21:13.033Z"
   },
   {
    "duration": 23,
    "start_time": "2023-01-26T15:21:13.043Z"
   },
   {
    "duration": 330,
    "start_time": "2023-01-26T15:21:13.067Z"
   },
   {
    "duration": 20,
    "start_time": "2023-01-26T15:21:13.398Z"
   },
   {
    "duration": 706,
    "start_time": "2023-01-26T15:21:13.420Z"
   },
   {
    "duration": 13,
    "start_time": "2023-01-26T15:21:14.128Z"
   },
   {
    "duration": 23,
    "start_time": "2023-01-26T15:21:14.142Z"
   },
   {
    "duration": 293,
    "start_time": "2023-01-26T15:21:14.166Z"
   },
   {
    "duration": 44,
    "start_time": "2023-01-26T15:21:14.460Z"
   },
   {
    "duration": 13,
    "start_time": "2023-01-26T15:21:14.505Z"
   },
   {
    "duration": 24,
    "start_time": "2023-01-26T15:21:14.520Z"
   },
   {
    "duration": 28,
    "start_time": "2023-01-26T15:21:14.546Z"
   },
   {
    "duration": 64,
    "start_time": "2023-01-26T15:21:14.576Z"
   },
   {
    "duration": 112,
    "start_time": "2023-01-26T15:21:14.642Z"
   },
   {
    "duration": 7,
    "start_time": "2023-01-26T15:21:14.755Z"
   },
   {
    "duration": 17,
    "start_time": "2023-01-26T15:21:14.763Z"
   },
   {
    "duration": 3,
    "start_time": "2023-01-26T15:21:14.792Z"
   },
   {
    "duration": 23,
    "start_time": "2023-01-26T15:21:14.798Z"
   },
   {
    "duration": 31,
    "start_time": "2023-01-26T15:21:14.822Z"
   },
   {
    "duration": 287,
    "start_time": "2023-01-26T15:21:14.855Z"
   },
   {
    "duration": 4,
    "start_time": "2023-01-26T15:21:15.144Z"
   },
   {
    "duration": 24,
    "start_time": "2023-01-26T15:21:15.150Z"
   },
   {
    "duration": 532,
    "start_time": "2023-01-26T15:21:15.176Z"
   },
   {
    "duration": 525,
    "start_time": "2023-01-26T15:21:15.710Z"
   },
   {
    "duration": 577,
    "start_time": "2023-01-26T15:21:16.237Z"
   },
   {
    "duration": 1028,
    "start_time": "2023-01-26T15:21:16.816Z"
   },
   {
    "duration": 3,
    "start_time": "2023-01-26T15:21:17.892Z"
   },
   {
    "duration": 1016,
    "start_time": "2023-01-26T15:21:17.896Z"
   },
   {
    "duration": 991,
    "start_time": "2023-01-26T15:21:18.913Z"
   },
   {
    "duration": 996,
    "start_time": "2023-01-26T15:21:19.905Z"
   },
   {
    "duration": 996,
    "start_time": "2023-01-26T15:21:20.902Z"
   },
   {
    "duration": 1076,
    "start_time": "2023-01-26T15:26:51.340Z"
   },
   {
    "duration": 159,
    "start_time": "2023-01-26T15:26:52.418Z"
   },
   {
    "duration": 17,
    "start_time": "2023-01-26T15:26:52.578Z"
   },
   {
    "duration": 20,
    "start_time": "2023-01-26T15:26:52.596Z"
   },
   {
    "duration": 13,
    "start_time": "2023-01-26T15:26:52.617Z"
   },
   {
    "duration": 14,
    "start_time": "2023-01-26T15:26:52.632Z"
   },
   {
    "duration": 89,
    "start_time": "2023-01-26T15:26:52.647Z"
   },
   {
    "duration": 89,
    "start_time": "2023-01-26T15:26:52.737Z"
   },
   {
    "duration": 20,
    "start_time": "2023-01-26T15:26:52.828Z"
   },
   {
    "duration": 63,
    "start_time": "2023-01-26T15:26:52.851Z"
   },
   {
    "duration": 8,
    "start_time": "2023-01-26T15:26:52.916Z"
   },
   {
    "duration": 23,
    "start_time": "2023-01-26T15:26:52.926Z"
   },
   {
    "duration": 315,
    "start_time": "2023-01-26T15:26:52.950Z"
   },
   {
    "duration": 27,
    "start_time": "2023-01-26T15:26:53.267Z"
   },
   {
    "duration": 650,
    "start_time": "2023-01-26T15:26:53.296Z"
   },
   {
    "duration": 14,
    "start_time": "2023-01-26T15:26:53.948Z"
   },
   {
    "duration": 33,
    "start_time": "2023-01-26T15:26:53.963Z"
   },
   {
    "duration": 305,
    "start_time": "2023-01-26T15:26:53.997Z"
   },
   {
    "duration": 35,
    "start_time": "2023-01-26T15:26:54.304Z"
   },
   {
    "duration": 13,
    "start_time": "2023-01-26T15:26:54.341Z"
   },
   {
    "duration": 11,
    "start_time": "2023-01-26T15:26:54.356Z"
   },
   {
    "duration": 44,
    "start_time": "2023-01-26T15:26:54.369Z"
   },
   {
    "duration": 71,
    "start_time": "2023-01-26T15:26:54.415Z"
   },
   {
    "duration": 129,
    "start_time": "2023-01-26T15:26:54.492Z"
   },
   {
    "duration": 7,
    "start_time": "2023-01-26T15:26:54.623Z"
   },
   {
    "duration": 13,
    "start_time": "2023-01-26T15:26:54.632Z"
   },
   {
    "duration": 10,
    "start_time": "2023-01-26T15:26:54.647Z"
   },
   {
    "duration": 54,
    "start_time": "2023-01-26T15:26:54.662Z"
   },
   {
    "duration": 38,
    "start_time": "2023-01-26T15:26:54.718Z"
   },
   {
    "duration": 289,
    "start_time": "2023-01-26T15:26:54.758Z"
   },
   {
    "duration": 4,
    "start_time": "2023-01-26T15:26:55.049Z"
   },
   {
    "duration": 14,
    "start_time": "2023-01-26T15:26:55.055Z"
   },
   {
    "duration": 540,
    "start_time": "2023-01-26T15:26:55.071Z"
   },
   {
    "duration": 523,
    "start_time": "2023-01-26T15:26:55.613Z"
   },
   {
    "duration": 591,
    "start_time": "2023-01-26T15:26:56.137Z"
   },
   {
    "duration": 528,
    "start_time": "2023-01-26T15:26:56.730Z"
   },
   {
    "duration": 3,
    "start_time": "2023-01-26T15:26:57.259Z"
   },
   {
    "duration": 517,
    "start_time": "2023-01-26T15:26:57.263Z"
   },
   {
    "duration": 539,
    "start_time": "2023-01-26T15:26:57.782Z"
   },
   {
    "duration": 557,
    "start_time": "2023-01-26T15:26:58.322Z"
   },
   {
    "duration": 555,
    "start_time": "2023-01-26T15:26:58.881Z"
   },
   {
    "duration": 49,
    "start_time": "2023-03-15T10:14:52.432Z"
   },
   {
    "duration": 1513,
    "start_time": "2023-03-15T10:14:58.528Z"
   },
   {
    "duration": 776,
    "start_time": "2023-03-15T10:15:00.043Z"
   },
   {
    "duration": 14,
    "start_time": "2023-03-15T10:15:00.820Z"
   },
   {
    "duration": 70,
    "start_time": "2023-03-15T10:15:00.835Z"
   },
   {
    "duration": 46,
    "start_time": "2023-03-15T10:15:00.907Z"
   },
   {
    "duration": 35,
    "start_time": "2023-03-15T10:15:00.955Z"
   },
   {
    "duration": 108,
    "start_time": "2023-03-15T10:15:00.992Z"
   },
   {
    "duration": 95,
    "start_time": "2023-03-15T10:15:01.101Z"
   },
   {
    "duration": 23,
    "start_time": "2023-03-15T10:15:01.197Z"
   },
   {
    "duration": 75,
    "start_time": "2023-03-15T10:15:01.222Z"
   },
   {
    "duration": 34,
    "start_time": "2023-03-15T10:15:01.299Z"
   },
   {
    "duration": 50,
    "start_time": "2023-03-15T10:15:01.335Z"
   },
   {
    "duration": 293,
    "start_time": "2023-03-15T10:15:01.387Z"
   },
   {
    "duration": 18,
    "start_time": "2023-03-15T10:15:01.683Z"
   },
   {
    "duration": 621,
    "start_time": "2023-03-15T10:15:01.703Z"
   },
   {
    "duration": 12,
    "start_time": "2023-03-15T10:15:02.326Z"
   },
   {
    "duration": 33,
    "start_time": "2023-03-15T10:15:02.340Z"
   },
   {
    "duration": 295,
    "start_time": "2023-03-15T10:15:02.374Z"
   },
   {
    "duration": 32,
    "start_time": "2023-03-15T10:15:02.671Z"
   },
   {
    "duration": 13,
    "start_time": "2023-03-15T10:15:02.704Z"
   },
   {
    "duration": 20,
    "start_time": "2023-03-15T10:15:02.719Z"
   },
   {
    "duration": 32,
    "start_time": "2023-03-15T10:15:02.741Z"
   },
   {
    "duration": 73,
    "start_time": "2023-03-15T10:15:02.775Z"
   },
   {
    "duration": 110,
    "start_time": "2023-03-15T10:15:02.849Z"
   },
   {
    "duration": 12,
    "start_time": "2023-03-15T10:15:02.960Z"
   },
   {
    "duration": 12,
    "start_time": "2023-03-15T10:15:02.973Z"
   },
   {
    "duration": 6,
    "start_time": "2023-03-15T10:15:02.987Z"
   },
   {
    "duration": 21,
    "start_time": "2023-03-15T10:15:02.995Z"
   },
   {
    "duration": 53,
    "start_time": "2023-03-15T10:15:03.017Z"
   },
   {
    "duration": 273,
    "start_time": "2023-03-15T10:15:03.072Z"
   },
   {
    "duration": 4,
    "start_time": "2023-03-15T10:15:03.347Z"
   },
   {
    "duration": 107,
    "start_time": "2023-03-15T10:15:03.352Z"
   },
   {
    "duration": 0,
    "start_time": "2023-03-15T10:15:03.460Z"
   },
   {
    "duration": 0,
    "start_time": "2023-03-15T10:15:03.462Z"
   },
   {
    "duration": 0,
    "start_time": "2023-03-15T10:15:03.462Z"
   },
   {
    "duration": 0,
    "start_time": "2023-03-15T10:15:03.463Z"
   },
   {
    "duration": 0,
    "start_time": "2023-03-15T10:15:03.464Z"
   },
   {
    "duration": 0,
    "start_time": "2023-03-15T10:15:03.469Z"
   },
   {
    "duration": 0,
    "start_time": "2023-03-15T10:15:03.470Z"
   },
   {
    "duration": 0,
    "start_time": "2023-03-15T10:15:03.471Z"
   },
   {
    "duration": 0,
    "start_time": "2023-03-15T10:15:03.472Z"
   },
   {
    "duration": 0,
    "start_time": "2023-03-15T10:15:03.473Z"
   },
   {
    "duration": 8,
    "start_time": "2023-03-15T10:15:49.576Z"
   },
   {
    "duration": 583,
    "start_time": "2023-03-15T10:15:53.652Z"
   },
   {
    "duration": 59,
    "start_time": "2023-03-15T10:15:54.236Z"
   },
   {
    "duration": 9,
    "start_time": "2023-03-15T10:17:48.212Z"
   },
   {
    "duration": 85,
    "start_time": "2023-04-05T08:37:40.575Z"
   },
   {
    "duration": 0,
    "start_time": "2023-04-05T08:37:40.662Z"
   },
   {
    "duration": 0,
    "start_time": "2023-04-05T08:37:40.663Z"
   },
   {
    "duration": 0,
    "start_time": "2023-04-05T08:37:40.665Z"
   },
   {
    "duration": 0,
    "start_time": "2023-04-05T08:37:40.666Z"
   },
   {
    "duration": 0,
    "start_time": "2023-04-05T08:37:40.667Z"
   },
   {
    "duration": 0,
    "start_time": "2023-04-05T08:37:40.668Z"
   },
   {
    "duration": 0,
    "start_time": "2023-04-05T08:37:40.669Z"
   },
   {
    "duration": 0,
    "start_time": "2023-04-05T08:37:40.670Z"
   },
   {
    "duration": 0,
    "start_time": "2023-04-05T08:37:40.671Z"
   },
   {
    "duration": 0,
    "start_time": "2023-04-05T08:37:40.672Z"
   },
   {
    "duration": 0,
    "start_time": "2023-04-05T08:37:40.673Z"
   },
   {
    "duration": 0,
    "start_time": "2023-04-05T08:37:40.675Z"
   },
   {
    "duration": 0,
    "start_time": "2023-04-05T08:37:40.676Z"
   },
   {
    "duration": 0,
    "start_time": "2023-04-05T08:37:40.677Z"
   },
   {
    "duration": 0,
    "start_time": "2023-04-05T08:37:40.678Z"
   },
   {
    "duration": 0,
    "start_time": "2023-04-05T08:37:40.680Z"
   },
   {
    "duration": 0,
    "start_time": "2023-04-05T08:37:40.681Z"
   },
   {
    "duration": 0,
    "start_time": "2023-04-05T08:37:40.682Z"
   },
   {
    "duration": 0,
    "start_time": "2023-04-05T08:37:40.683Z"
   },
   {
    "duration": 0,
    "start_time": "2023-04-05T08:37:40.684Z"
   },
   {
    "duration": 0,
    "start_time": "2023-04-05T08:37:40.685Z"
   },
   {
    "duration": 0,
    "start_time": "2023-04-05T08:37:40.686Z"
   },
   {
    "duration": 0,
    "start_time": "2023-04-05T08:37:40.687Z"
   },
   {
    "duration": 0,
    "start_time": "2023-04-05T08:37:40.688Z"
   },
   {
    "duration": 0,
    "start_time": "2023-04-05T08:37:40.689Z"
   },
   {
    "duration": 0,
    "start_time": "2023-04-05T08:37:40.690Z"
   },
   {
    "duration": 0,
    "start_time": "2023-04-05T08:37:40.691Z"
   },
   {
    "duration": 0,
    "start_time": "2023-04-05T08:37:40.692Z"
   },
   {
    "duration": 0,
    "start_time": "2023-04-05T08:37:40.695Z"
   },
   {
    "duration": 127,
    "start_time": "2023-04-05T08:37:40.698Z"
   },
   {
    "duration": 0,
    "start_time": "2023-04-05T08:37:40.828Z"
   },
   {
    "duration": 0,
    "start_time": "2023-04-05T08:37:40.829Z"
   },
   {
    "duration": 0,
    "start_time": "2023-04-05T08:37:40.831Z"
   },
   {
    "duration": 0,
    "start_time": "2023-04-05T08:37:40.833Z"
   },
   {
    "duration": 0,
    "start_time": "2023-04-05T08:37:40.834Z"
   },
   {
    "duration": 0,
    "start_time": "2023-04-05T08:37:40.875Z"
   },
   {
    "duration": 0,
    "start_time": "2023-04-05T08:37:40.877Z"
   },
   {
    "duration": 0,
    "start_time": "2023-04-05T08:37:40.878Z"
   },
   {
    "duration": 0,
    "start_time": "2023-04-05T08:37:40.880Z"
   },
   {
    "duration": 0,
    "start_time": "2023-04-05T08:37:40.882Z"
   },
   {
    "duration": 0,
    "start_time": "2023-04-05T08:37:40.883Z"
   },
   {
    "duration": 0,
    "start_time": "2023-04-05T08:37:40.884Z"
   },
   {
    "duration": 0,
    "start_time": "2023-04-05T08:37:40.886Z"
   },
   {
    "duration": 0,
    "start_time": "2023-04-05T08:37:40.887Z"
   },
   {
    "duration": 0,
    "start_time": "2023-04-05T08:37:40.889Z"
   },
   {
    "duration": 3,
    "start_time": "2023-04-05T08:38:11.523Z"
   },
   {
    "duration": 5,
    "start_time": "2023-04-05T08:39:08.777Z"
   },
   {
    "duration": 5,
    "start_time": "2023-04-05T08:39:27.682Z"
   },
   {
    "duration": 5,
    "start_time": "2023-04-05T08:39:35.625Z"
   },
   {
    "duration": 4,
    "start_time": "2023-04-05T08:40:17.720Z"
   },
   {
    "duration": 27,
    "start_time": "2023-04-05T08:40:17.726Z"
   },
   {
    "duration": 43,
    "start_time": "2023-04-05T08:40:17.755Z"
   },
   {
    "duration": 1390,
    "start_time": "2023-04-05T08:40:17.800Z"
   },
   {
    "duration": 1089,
    "start_time": "2023-04-05T08:40:19.193Z"
   },
   {
    "duration": 15,
    "start_time": "2023-04-05T08:40:20.284Z"
   },
   {
    "duration": 24,
    "start_time": "2023-04-05T08:40:20.301Z"
   },
   {
    "duration": 14,
    "start_time": "2023-04-05T08:40:20.327Z"
   },
   {
    "duration": 18,
    "start_time": "2023-04-05T08:40:20.343Z"
   },
   {
    "duration": 101,
    "start_time": "2023-04-05T08:40:20.374Z"
   },
   {
    "duration": 99,
    "start_time": "2023-04-05T08:40:20.480Z"
   },
   {
    "duration": 27,
    "start_time": "2023-04-05T08:40:20.581Z"
   },
   {
    "duration": 46,
    "start_time": "2023-04-05T08:40:20.610Z"
   },
   {
    "duration": 12,
    "start_time": "2023-04-05T08:40:20.675Z"
   },
   {
    "duration": 38,
    "start_time": "2023-04-05T08:40:20.688Z"
   },
   {
    "duration": 322,
    "start_time": "2023-04-05T08:40:20.728Z"
   },
   {
    "duration": 37,
    "start_time": "2023-04-05T08:40:21.052Z"
   },
   {
    "duration": 643,
    "start_time": "2023-04-05T08:40:21.091Z"
   },
   {
    "duration": 13,
    "start_time": "2023-04-05T08:40:21.736Z"
   },
   {
    "duration": 39,
    "start_time": "2023-04-05T08:40:21.750Z"
   },
   {
    "duration": 312,
    "start_time": "2023-04-05T08:40:21.791Z"
   },
   {
    "duration": 30,
    "start_time": "2023-04-05T08:40:22.105Z"
   },
   {
    "duration": 11,
    "start_time": "2023-04-05T08:40:22.137Z"
   },
   {
    "duration": 36,
    "start_time": "2023-04-05T08:40:22.150Z"
   },
   {
    "duration": 24,
    "start_time": "2023-04-05T08:40:22.188Z"
   },
   {
    "duration": 71,
    "start_time": "2023-04-05T08:40:22.213Z"
   },
   {
    "duration": 137,
    "start_time": "2023-04-05T08:40:22.285Z"
   },
   {
    "duration": 8,
    "start_time": "2023-04-05T08:40:22.424Z"
   },
   {
    "duration": 15,
    "start_time": "2023-04-05T08:40:22.433Z"
   },
   {
    "duration": 5,
    "start_time": "2023-04-05T08:40:22.450Z"
   },
   {
    "duration": 48,
    "start_time": "2023-04-05T08:40:22.456Z"
   },
   {
    "duration": 34,
    "start_time": "2023-04-05T08:40:22.506Z"
   },
   {
    "duration": 279,
    "start_time": "2023-04-05T08:40:22.541Z"
   },
   {
    "duration": 3,
    "start_time": "2023-04-05T08:40:22.822Z"
   },
   {
    "duration": 14,
    "start_time": "2023-04-05T08:40:22.827Z"
   },
   {
    "duration": 553,
    "start_time": "2023-04-05T08:40:22.842Z"
   },
   {
    "duration": 48,
    "start_time": "2023-04-05T08:40:23.397Z"
   },
   {
    "duration": 563,
    "start_time": "2023-04-05T08:40:23.446Z"
   },
   {
    "duration": 609,
    "start_time": "2023-04-05T08:40:24.011Z"
   },
   {
    "duration": 578,
    "start_time": "2023-04-05T08:40:24.622Z"
   },
   {
    "duration": 2,
    "start_time": "2023-04-05T08:40:25.204Z"
   },
   {
    "duration": 546,
    "start_time": "2023-04-05T08:40:25.208Z"
   },
   {
    "duration": 577,
    "start_time": "2023-04-05T08:40:25.756Z"
   },
   {
    "duration": 561,
    "start_time": "2023-04-05T08:40:26.335Z"
   },
   {
    "duration": 553,
    "start_time": "2023-04-05T08:40:26.898Z"
   },
   {
    "duration": 4,
    "start_time": "2023-04-05T08:40:45.417Z"
   },
   {
    "duration": 151,
    "start_time": "2023-04-05T08:40:45.657Z"
   },
   {
    "duration": 1185,
    "start_time": "2023-04-05T08:40:55.411Z"
   },
   {
    "duration": 158,
    "start_time": "2023-04-05T08:40:56.599Z"
   },
   {
    "duration": 13,
    "start_time": "2023-04-05T08:40:56.759Z"
   },
   {
    "duration": 20,
    "start_time": "2023-04-05T08:40:56.788Z"
   },
   {
    "duration": 14,
    "start_time": "2023-04-05T08:40:56.811Z"
   },
   {
    "duration": 14,
    "start_time": "2023-04-05T08:40:56.826Z"
   },
   {
    "duration": 83,
    "start_time": "2023-04-05T08:40:56.842Z"
   },
   {
    "duration": 95,
    "start_time": "2023-04-05T08:40:56.927Z"
   },
   {
    "duration": 21,
    "start_time": "2023-04-05T08:40:57.024Z"
   },
   {
    "duration": 69,
    "start_time": "2023-04-05T08:40:57.046Z"
   },
   {
    "duration": 7,
    "start_time": "2023-04-05T08:40:57.117Z"
   },
   {
    "duration": 35,
    "start_time": "2023-04-05T08:40:57.126Z"
   },
   {
    "duration": 344,
    "start_time": "2023-04-05T08:40:57.162Z"
   },
   {
    "duration": 19,
    "start_time": "2023-04-05T08:40:57.509Z"
   },
   {
    "duration": 704,
    "start_time": "2023-04-05T08:40:57.530Z"
   },
   {
    "duration": 14,
    "start_time": "2023-04-05T08:40:58.235Z"
   },
   {
    "duration": 45,
    "start_time": "2023-04-05T08:40:58.251Z"
   },
   {
    "duration": 329,
    "start_time": "2023-04-05T08:40:58.297Z"
   },
   {
    "duration": 31,
    "start_time": "2023-04-05T08:40:58.628Z"
   },
   {
    "duration": 28,
    "start_time": "2023-04-05T08:40:58.660Z"
   },
   {
    "duration": 10,
    "start_time": "2023-04-05T08:40:58.690Z"
   },
   {
    "duration": 22,
    "start_time": "2023-04-05T08:40:58.702Z"
   },
   {
    "duration": 86,
    "start_time": "2023-04-05T08:40:58.725Z"
   },
   {
    "duration": 125,
    "start_time": "2023-04-05T08:40:58.813Z"
   },
   {
    "duration": 7,
    "start_time": "2023-04-05T08:40:58.940Z"
   },
   {
    "duration": 30,
    "start_time": "2023-04-05T08:40:58.949Z"
   },
   {
    "duration": 5,
    "start_time": "2023-04-05T08:40:58.988Z"
   },
   {
    "duration": 23,
    "start_time": "2023-04-05T08:40:58.994Z"
   },
   {
    "duration": 36,
    "start_time": "2023-04-05T08:40:59.019Z"
   },
   {
    "duration": 318,
    "start_time": "2023-04-05T08:40:59.057Z"
   },
   {
    "duration": 4,
    "start_time": "2023-04-05T08:40:59.388Z"
   },
   {
    "duration": 7,
    "start_time": "2023-04-05T08:40:59.394Z"
   },
   {
    "duration": 579,
    "start_time": "2023-04-05T08:40:59.403Z"
   },
   {
    "duration": 52,
    "start_time": "2023-04-05T08:40:59.984Z"
   },
   {
    "duration": 585,
    "start_time": "2023-04-05T08:41:00.038Z"
   },
   {
    "duration": 666,
    "start_time": "2023-04-05T08:41:00.625Z"
   },
   {
    "duration": 725,
    "start_time": "2023-04-05T08:41:01.293Z"
   },
   {
    "duration": 3,
    "start_time": "2023-04-05T08:41:02.020Z"
   },
   {
    "duration": 597,
    "start_time": "2023-04-05T08:41:02.025Z"
   },
   {
    "duration": 570,
    "start_time": "2023-04-05T08:41:02.624Z"
   },
   {
    "duration": 560,
    "start_time": "2023-04-05T08:41:03.197Z"
   },
   {
    "duration": 632,
    "start_time": "2023-04-05T08:41:03.759Z"
   },
   {
    "duration": 1668,
    "start_time": "2023-04-10T13:57:59.012Z"
   },
   {
    "duration": 618,
    "start_time": "2023-04-10T13:58:00.686Z"
   },
   {
    "duration": 24,
    "start_time": "2023-04-10T13:58:01.306Z"
   },
   {
    "duration": 49,
    "start_time": "2023-04-10T13:58:01.332Z"
   },
   {
    "duration": 68,
    "start_time": "2023-04-10T13:58:01.384Z"
   },
   {
    "duration": 45,
    "start_time": "2023-04-10T13:58:01.454Z"
   },
   {
    "duration": 154,
    "start_time": "2023-04-10T13:58:01.501Z"
   },
   {
    "duration": 135,
    "start_time": "2023-04-10T13:58:01.657Z"
   },
   {
    "duration": 24,
    "start_time": "2023-04-10T13:58:01.795Z"
   },
   {
    "duration": 103,
    "start_time": "2023-04-10T13:58:01.823Z"
   },
   {
    "duration": 9,
    "start_time": "2023-04-10T13:58:01.928Z"
   },
   {
    "duration": 63,
    "start_time": "2023-04-10T13:58:01.939Z"
   },
   {
    "duration": 416,
    "start_time": "2023-04-10T13:58:02.004Z"
   },
   {
    "duration": 40,
    "start_time": "2023-04-10T13:58:02.422Z"
   },
   {
    "duration": 871,
    "start_time": "2023-04-10T13:58:02.464Z"
   },
   {
    "duration": 21,
    "start_time": "2023-04-10T13:58:03.341Z"
   },
   {
    "duration": 31,
    "start_time": "2023-04-10T13:58:03.364Z"
   },
   {
    "duration": 325,
    "start_time": "2023-04-10T13:58:03.397Z"
   },
   {
    "duration": 52,
    "start_time": "2023-04-10T13:58:03.724Z"
   },
   {
    "duration": 12,
    "start_time": "2023-04-10T13:58:03.778Z"
   },
   {
    "duration": 13,
    "start_time": "2023-04-10T13:58:03.792Z"
   },
   {
    "duration": 50,
    "start_time": "2023-04-10T13:58:03.807Z"
   },
   {
    "duration": 73,
    "start_time": "2023-04-10T13:58:03.860Z"
   },
   {
    "duration": 154,
    "start_time": "2023-04-10T13:58:03.935Z"
   },
   {
    "duration": 10,
    "start_time": "2023-04-10T13:58:04.091Z"
   },
   {
    "duration": 21,
    "start_time": "2023-04-10T13:58:04.104Z"
   },
   {
    "duration": 12,
    "start_time": "2023-04-10T13:58:04.141Z"
   },
   {
    "duration": 60,
    "start_time": "2023-04-10T13:58:04.160Z"
   },
   {
    "duration": 74,
    "start_time": "2023-04-10T13:58:04.223Z"
   },
   {
    "duration": 300,
    "start_time": "2023-04-10T13:58:04.299Z"
   },
   {
    "duration": 5,
    "start_time": "2023-04-10T13:58:04.601Z"
   },
   {
    "duration": 17,
    "start_time": "2023-04-10T13:58:04.608Z"
   },
   {
    "duration": 596,
    "start_time": "2023-04-10T13:58:04.628Z"
   },
   {
    "duration": 66,
    "start_time": "2023-04-10T13:58:05.226Z"
   },
   {
    "duration": 618,
    "start_time": "2023-04-10T13:58:05.294Z"
   },
   {
    "duration": 656,
    "start_time": "2023-04-10T13:58:05.914Z"
   },
   {
    "duration": 611,
    "start_time": "2023-04-10T13:58:06.572Z"
   },
   {
    "duration": 3,
    "start_time": "2023-04-10T13:58:07.186Z"
   },
   {
    "duration": 625,
    "start_time": "2023-04-10T13:58:07.191Z"
   },
   {
    "duration": 657,
    "start_time": "2023-04-10T13:58:07.818Z"
   },
   {
    "duration": 600,
    "start_time": "2023-04-10T13:58:08.477Z"
   },
   {
    "duration": 674,
    "start_time": "2023-04-10T13:58:09.079Z"
   }
  ],
  "kernelspec": {
   "display_name": "Python 3 (ipykernel)",
   "language": "python",
   "name": "python3"
  },
  "language_info": {
   "codemirror_mode": {
    "name": "ipython",
    "version": 3
   },
   "file_extension": ".py",
   "mimetype": "text/x-python",
   "name": "python",
   "nbconvert_exporter": "python",
   "pygments_lexer": "ipython3",
   "version": "3.9.5"
  },
  "toc": {
   "base_numbering": 1,
   "nav_menu": {
    "height": "127px",
    "width": "256px"
   },
   "number_sections": true,
   "sideBar": true,
   "skip_h1_title": true,
   "title_cell": "Содержание",
   "title_sidebar": "Contents",
   "toc_cell": true,
   "toc_position": {
    "height": "calc(100% - 180px)",
    "left": "10px",
    "top": "150px",
    "width": "284.434px"
   },
   "toc_section_display": true,
   "toc_window_display": false
  }
 },
 "nbformat": 4,
 "nbformat_minor": 2
}
