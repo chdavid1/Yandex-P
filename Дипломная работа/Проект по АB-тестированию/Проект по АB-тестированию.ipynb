{
 "cells": [
  {
   "cell_type": "markdown",
   "metadata": {},
   "source": [
    "# Проект по А/B-тестированию"
   ]
  },
  {
   "cell_type": "markdown",
   "metadata": {},
   "source": [
    "Задача — провести оценку результатов A/B-теста. В  распоряжении есть датасет с действиями пользователей, техническое задание и несколько вспомогательных датасетов.\n",
    "Требуется:\n",
    "- Оценить корректность проведения теста\n",
    "- Проанализировать результаты теста"
   ]
  },
  {
   "cell_type": "markdown",
   "metadata": {
    "toc": true
   },
   "source": [
    "<h1>Содержание<span class=\"tocSkip\"></span></h1>\n",
    "<div class=\"toc\"><ul class=\"toc-item\"><li><span><a href=\"#Загрузка-данных-и-изучение-общей-информации\" data-toc-modified-id=\"Загрузка-данных-и-изучение-общей-информации-1\"><span class=\"toc-item-num\">1&nbsp;&nbsp;</span>Загрузка данных и изучение общей информации</a></span></li><li><span><a href=\"#Предобработка-данных\" data-toc-modified-id=\"Предобработка-данных-2\"><span class=\"toc-item-num\">2&nbsp;&nbsp;</span>Предобработка данных</a></span><ul class=\"toc-item\"><li><span><a href=\"#Работа-с-датой\" data-toc-modified-id=\"Работа-с-датой-2.1\"><span class=\"toc-item-num\">2.1&nbsp;&nbsp;</span>Работа с датой</a></span></li><li><span><a href=\"#Поиск-дубликатов-и-пропусков\" data-toc-modified-id=\"Поиск-дубликатов-и-пропусков-2.2\"><span class=\"toc-item-num\">2.2&nbsp;&nbsp;</span>Поиск дубликатов и пропусков</a></span></li><li><span><a href=\"#Выводы\" data-toc-modified-id=\"Выводы-2.3\"><span class=\"toc-item-num\">2.3&nbsp;&nbsp;</span>Выводы</a></span></li></ul></li><li><span><a href=\"#Проверка-технического-задания-на-корректность\" data-toc-modified-id=\"Проверка-технического-задания-на-корректность-3\"><span class=\"toc-item-num\">3&nbsp;&nbsp;</span>Проверка технического задания на корректность</a></span><ul class=\"toc-item\"><li><span><a href=\"#Выводы\" data-toc-modified-id=\"Выводы-3.1\"><span class=\"toc-item-num\">3.1&nbsp;&nbsp;</span>Выводы</a></span></li></ul></li><li><span><a href=\"#Исследовательский-анализ-данных\" data-toc-modified-id=\"Исследовательский-анализ-данных-4\"><span class=\"toc-item-num\">4&nbsp;&nbsp;</span>Исследовательский анализ данных</a></span><ul class=\"toc-item\"><li><span><a href=\"#Распределение-количества-событий-на-пользователя-в-выборках\" data-toc-modified-id=\"Распределение-количества-событий-на-пользователя-в-выборках-4.1\"><span class=\"toc-item-num\">4.1&nbsp;&nbsp;</span>Распределение количества событий на пользователя в выборках</a></span></li><li><span><a href=\"#Даты-регистрации-пользователей\" data-toc-modified-id=\"Даты-регистрации-пользователей-4.2\"><span class=\"toc-item-num\">4.2&nbsp;&nbsp;</span>Даты регистрации пользователей</a></span></li><li><span><a href=\"#Распределение-числа-событий-по-дням\" data-toc-modified-id=\"Распределение-числа-событий-по-дням-4.3\"><span class=\"toc-item-num\">4.3&nbsp;&nbsp;</span>Распределение числа событий по дням</a></span></li><li><span><a href=\"#Изменение-конверсии-в-воронке-в-выборках-на-разных-этапах\" data-toc-modified-id=\"Изменение-конверсии-в-воронке-в-выборках-на-разных-этапах-4.4\"><span class=\"toc-item-num\">4.4&nbsp;&nbsp;</span>Изменение конверсии в воронке в выборках на разных этапах</a></span></li><li><span><a href=\"#Выводы\" data-toc-modified-id=\"Выводы-4.5\"><span class=\"toc-item-num\">4.5&nbsp;&nbsp;</span>Выводы</a></span></li></ul></li><li><span><a href=\"#Оценка-результатов-A/B-тестирования\" data-toc-modified-id=\"Оценка-результатов-A/B-тестирования-5\"><span class=\"toc-item-num\">5&nbsp;&nbsp;</span>Оценка результатов A/B-тестирования</a></span></li><li><span><a href=\"#Результаты-работы\" data-toc-modified-id=\"Результаты-работы-6\"><span class=\"toc-item-num\">6&nbsp;&nbsp;</span>Результаты работы</a></span></li></ul></div>"
   ]
  },
  {
   "cell_type": "markdown",
   "metadata": {},
   "source": [
    "## Загрузка данных и изучение общей информации"
   ]
  },
  {
   "cell_type": "code",
   "execution_count": 1,
   "metadata": {},
   "outputs": [],
   "source": [
    "import pandas as pd\n",
    "import matplotlib.pyplot as plt\n",
    "import seaborn as sns\n",
    "from plotly import graph_objects as go \n",
    "import plotly.express as px\n",
    "from statsmodels. stats.weightstats import ztest as ztest\n",
    "from scipy import stats as st\n",
    "import numpy as np\n",
    "import math as mth"
   ]
  },
  {
   "cell_type": "code",
   "execution_count": 2,
   "metadata": {},
   "outputs": [],
   "source": [
    "marketing_events=pd.read_csv('/datasets/ab_project_marketing_events.csv')"
   ]
  },
  {
   "cell_type": "code",
   "execution_count": 3,
   "metadata": {},
   "outputs": [],
   "source": [
    "new_users=pd.read_csv('/datasets/final_ab_new_users.csv')"
   ]
  },
  {
   "cell_type": "code",
   "execution_count": 4,
   "metadata": {},
   "outputs": [],
   "source": [
    "participants=pd.read_csv('/datasets/final_ab_participants.csv')"
   ]
  },
  {
   "cell_type": "code",
   "execution_count": 5,
   "metadata": {},
   "outputs": [],
   "source": [
    "final_ab_events=pd.read_csv('/datasets/final_ab_events.csv')"
   ]
  },
  {
   "cell_type": "code",
   "execution_count": 6,
   "metadata": {},
   "outputs": [
    {
     "data": {
      "text/html": [
       "<div>\n",
       "<style scoped>\n",
       "    .dataframe tbody tr th:only-of-type {\n",
       "        vertical-align: middle;\n",
       "    }\n",
       "\n",
       "    .dataframe tbody tr th {\n",
       "        vertical-align: top;\n",
       "    }\n",
       "\n",
       "    .dataframe thead th {\n",
       "        text-align: right;\n",
       "    }\n",
       "</style>\n",
       "<table border=\"1\" class=\"dataframe\">\n",
       "  <thead>\n",
       "    <tr style=\"text-align: right;\">\n",
       "      <th></th>\n",
       "      <th>name</th>\n",
       "      <th>regions</th>\n",
       "      <th>start_dt</th>\n",
       "      <th>finish_dt</th>\n",
       "    </tr>\n",
       "  </thead>\n",
       "  <tbody>\n",
       "    <tr>\n",
       "      <th>0</th>\n",
       "      <td>Christmas&amp;New Year Promo</td>\n",
       "      <td>EU, N.America</td>\n",
       "      <td>2020-12-25</td>\n",
       "      <td>2021-01-03</td>\n",
       "    </tr>\n",
       "    <tr>\n",
       "      <th>1</th>\n",
       "      <td>St. Valentine's Day Giveaway</td>\n",
       "      <td>EU, CIS, APAC, N.America</td>\n",
       "      <td>2020-02-14</td>\n",
       "      <td>2020-02-16</td>\n",
       "    </tr>\n",
       "    <tr>\n",
       "      <th>2</th>\n",
       "      <td>St. Patric's Day Promo</td>\n",
       "      <td>EU, N.America</td>\n",
       "      <td>2020-03-17</td>\n",
       "      <td>2020-03-19</td>\n",
       "    </tr>\n",
       "    <tr>\n",
       "      <th>3</th>\n",
       "      <td>Easter Promo</td>\n",
       "      <td>EU, CIS, APAC, N.America</td>\n",
       "      <td>2020-04-12</td>\n",
       "      <td>2020-04-19</td>\n",
       "    </tr>\n",
       "    <tr>\n",
       "      <th>4</th>\n",
       "      <td>4th of July Promo</td>\n",
       "      <td>N.America</td>\n",
       "      <td>2020-07-04</td>\n",
       "      <td>2020-07-11</td>\n",
       "    </tr>\n",
       "  </tbody>\n",
       "</table>\n",
       "</div>"
      ],
      "text/plain": [
       "                           name                   regions    start_dt  \\\n",
       "0      Christmas&New Year Promo             EU, N.America  2020-12-25   \n",
       "1  St. Valentine's Day Giveaway  EU, CIS, APAC, N.America  2020-02-14   \n",
       "2        St. Patric's Day Promo             EU, N.America  2020-03-17   \n",
       "3                  Easter Promo  EU, CIS, APAC, N.America  2020-04-12   \n",
       "4             4th of July Promo                 N.America  2020-07-04   \n",
       "\n",
       "    finish_dt  \n",
       "0  2021-01-03  \n",
       "1  2020-02-16  \n",
       "2  2020-03-19  \n",
       "3  2020-04-19  \n",
       "4  2020-07-11  "
      ]
     },
     "execution_count": 6,
     "metadata": {},
     "output_type": "execute_result"
    }
   ],
   "source": [
    "marketing_events.head()"
   ]
  },
  {
   "cell_type": "markdown",
   "metadata": {},
   "source": [
    "В данном датасете хранятся маркетинговые события за 2020 год. В нем следующие столбцы: название события, регион, начальная дата и окончание"
   ]
  },
  {
   "cell_type": "code",
   "execution_count": 7,
   "metadata": {},
   "outputs": [
    {
     "name": "stdout",
     "output_type": "stream",
     "text": [
      "<class 'pandas.core.frame.DataFrame'>\n",
      "RangeIndex: 14 entries, 0 to 13\n",
      "Data columns (total 4 columns):\n",
      " #   Column     Non-Null Count  Dtype \n",
      "---  ------     --------------  ----- \n",
      " 0   name       14 non-null     object\n",
      " 1   regions    14 non-null     object\n",
      " 2   start_dt   14 non-null     object\n",
      " 3   finish_dt  14 non-null     object\n",
      "dtypes: object(4)\n",
      "memory usage: 576.0+ bytes\n"
     ]
    }
   ],
   "source": [
    "marketing_events.info()"
   ]
  },
  {
   "cell_type": "markdown",
   "metadata": {},
   "source": [
    "В столбцах с датой неверно указан тип данных. Нужно будет изменить"
   ]
  },
  {
   "cell_type": "code",
   "execution_count": 8,
   "metadata": {},
   "outputs": [
    {
     "data": {
      "text/html": [
       "<div>\n",
       "<style scoped>\n",
       "    .dataframe tbody tr th:only-of-type {\n",
       "        vertical-align: middle;\n",
       "    }\n",
       "\n",
       "    .dataframe tbody tr th {\n",
       "        vertical-align: top;\n",
       "    }\n",
       "\n",
       "    .dataframe thead th {\n",
       "        text-align: right;\n",
       "    }\n",
       "</style>\n",
       "<table border=\"1\" class=\"dataframe\">\n",
       "  <thead>\n",
       "    <tr style=\"text-align: right;\">\n",
       "      <th></th>\n",
       "      <th>user_id</th>\n",
       "      <th>first_date</th>\n",
       "      <th>region</th>\n",
       "      <th>device</th>\n",
       "    </tr>\n",
       "  </thead>\n",
       "  <tbody>\n",
       "    <tr>\n",
       "      <th>0</th>\n",
       "      <td>D72A72121175D8BE</td>\n",
       "      <td>2020-12-07</td>\n",
       "      <td>EU</td>\n",
       "      <td>PC</td>\n",
       "    </tr>\n",
       "    <tr>\n",
       "      <th>1</th>\n",
       "      <td>F1C668619DFE6E65</td>\n",
       "      <td>2020-12-07</td>\n",
       "      <td>N.America</td>\n",
       "      <td>Android</td>\n",
       "    </tr>\n",
       "    <tr>\n",
       "      <th>2</th>\n",
       "      <td>2E1BF1D4C37EA01F</td>\n",
       "      <td>2020-12-07</td>\n",
       "      <td>EU</td>\n",
       "      <td>PC</td>\n",
       "    </tr>\n",
       "    <tr>\n",
       "      <th>3</th>\n",
       "      <td>50734A22C0C63768</td>\n",
       "      <td>2020-12-07</td>\n",
       "      <td>EU</td>\n",
       "      <td>iPhone</td>\n",
       "    </tr>\n",
       "    <tr>\n",
       "      <th>4</th>\n",
       "      <td>E1BDDCE0DAFA2679</td>\n",
       "      <td>2020-12-07</td>\n",
       "      <td>N.America</td>\n",
       "      <td>iPhone</td>\n",
       "    </tr>\n",
       "  </tbody>\n",
       "</table>\n",
       "</div>"
      ],
      "text/plain": [
       "            user_id  first_date     region   device\n",
       "0  D72A72121175D8BE  2020-12-07         EU       PC\n",
       "1  F1C668619DFE6E65  2020-12-07  N.America  Android\n",
       "2  2E1BF1D4C37EA01F  2020-12-07         EU       PC\n",
       "3  50734A22C0C63768  2020-12-07         EU   iPhone\n",
       "4  E1BDDCE0DAFA2679  2020-12-07  N.America   iPhone"
      ]
     },
     "execution_count": 8,
     "metadata": {},
     "output_type": "execute_result"
    }
   ],
   "source": [
    "new_users.head()"
   ]
  },
  {
   "cell_type": "markdown",
   "metadata": {},
   "source": [
    "В данной таблице хранятся данные по всем пользователям, зарегистрировавшимся с 7 по 21 декабря 2020 года. Есть столбцы с уникальным номером пользователя, датой регистрации, регионом и типом устройства."
   ]
  },
  {
   "cell_type": "code",
   "execution_count": 9,
   "metadata": {},
   "outputs": [
    {
     "name": "stdout",
     "output_type": "stream",
     "text": [
      "<class 'pandas.core.frame.DataFrame'>\n",
      "RangeIndex: 61733 entries, 0 to 61732\n",
      "Data columns (total 4 columns):\n",
      " #   Column      Non-Null Count  Dtype \n",
      "---  ------      --------------  ----- \n",
      " 0   user_id     61733 non-null  object\n",
      " 1   first_date  61733 non-null  object\n",
      " 2   region      61733 non-null  object\n",
      " 3   device      61733 non-null  object\n",
      "dtypes: object(4)\n",
      "memory usage: 1.9+ MB\n"
     ]
    }
   ],
   "source": [
    "new_users.info()"
   ]
  },
  {
   "cell_type": "markdown",
   "metadata": {},
   "source": [
    "Здесь также имеются проблемы с датой"
   ]
  },
  {
   "cell_type": "code",
   "execution_count": 10,
   "metadata": {},
   "outputs": [
    {
     "data": {
      "text/html": [
       "<div>\n",
       "<style scoped>\n",
       "    .dataframe tbody tr th:only-of-type {\n",
       "        vertical-align: middle;\n",
       "    }\n",
       "\n",
       "    .dataframe tbody tr th {\n",
       "        vertical-align: top;\n",
       "    }\n",
       "\n",
       "    .dataframe thead th {\n",
       "        text-align: right;\n",
       "    }\n",
       "</style>\n",
       "<table border=\"1\" class=\"dataframe\">\n",
       "  <thead>\n",
       "    <tr style=\"text-align: right;\">\n",
       "      <th></th>\n",
       "      <th>user_id</th>\n",
       "      <th>group</th>\n",
       "      <th>ab_test</th>\n",
       "    </tr>\n",
       "  </thead>\n",
       "  <tbody>\n",
       "    <tr>\n",
       "      <th>0</th>\n",
       "      <td>D1ABA3E2887B6A73</td>\n",
       "      <td>A</td>\n",
       "      <td>recommender_system_test</td>\n",
       "    </tr>\n",
       "    <tr>\n",
       "      <th>1</th>\n",
       "      <td>A7A3664BD6242119</td>\n",
       "      <td>A</td>\n",
       "      <td>recommender_system_test</td>\n",
       "    </tr>\n",
       "    <tr>\n",
       "      <th>2</th>\n",
       "      <td>DABC14FDDFADD29E</td>\n",
       "      <td>A</td>\n",
       "      <td>recommender_system_test</td>\n",
       "    </tr>\n",
       "    <tr>\n",
       "      <th>3</th>\n",
       "      <td>04988C5DF189632E</td>\n",
       "      <td>A</td>\n",
       "      <td>recommender_system_test</td>\n",
       "    </tr>\n",
       "    <tr>\n",
       "      <th>4</th>\n",
       "      <td>482F14783456D21B</td>\n",
       "      <td>B</td>\n",
       "      <td>recommender_system_test</td>\n",
       "    </tr>\n",
       "  </tbody>\n",
       "</table>\n",
       "</div>"
      ],
      "text/plain": [
       "            user_id group                  ab_test\n",
       "0  D1ABA3E2887B6A73     A  recommender_system_test\n",
       "1  A7A3664BD6242119     A  recommender_system_test\n",
       "2  DABC14FDDFADD29E     A  recommender_system_test\n",
       "3  04988C5DF189632E     A  recommender_system_test\n",
       "4  482F14783456D21B     B  recommender_system_test"
      ]
     },
     "execution_count": 10,
     "metadata": {},
     "output_type": "execute_result"
    }
   ],
   "source": [
    "participants.head()"
   ]
  },
  {
   "cell_type": "markdown",
   "metadata": {},
   "source": [
    "Это таблица участников тестов. В ней хранятся id пользователей, номер группы и название теста"
   ]
  },
  {
   "cell_type": "code",
   "execution_count": 11,
   "metadata": {},
   "outputs": [
    {
     "name": "stdout",
     "output_type": "stream",
     "text": [
      "<class 'pandas.core.frame.DataFrame'>\n",
      "RangeIndex: 18268 entries, 0 to 18267\n",
      "Data columns (total 3 columns):\n",
      " #   Column   Non-Null Count  Dtype \n",
      "---  ------   --------------  ----- \n",
      " 0   user_id  18268 non-null  object\n",
      " 1   group    18268 non-null  object\n",
      " 2   ab_test  18268 non-null  object\n",
      "dtypes: object(3)\n",
      "memory usage: 428.3+ KB\n"
     ]
    }
   ],
   "source": [
    "participants.info()"
   ]
  },
  {
   "cell_type": "markdown",
   "metadata": {},
   "source": [
    "Проблем с типами данных нет"
   ]
  },
  {
   "cell_type": "code",
   "execution_count": 12,
   "metadata": {},
   "outputs": [
    {
     "data": {
      "text/html": [
       "<div>\n",
       "<style scoped>\n",
       "    .dataframe tbody tr th:only-of-type {\n",
       "        vertical-align: middle;\n",
       "    }\n",
       "\n",
       "    .dataframe tbody tr th {\n",
       "        vertical-align: top;\n",
       "    }\n",
       "\n",
       "    .dataframe thead th {\n",
       "        text-align: right;\n",
       "    }\n",
       "</style>\n",
       "<table border=\"1\" class=\"dataframe\">\n",
       "  <thead>\n",
       "    <tr style=\"text-align: right;\">\n",
       "      <th></th>\n",
       "      <th>user_id</th>\n",
       "      <th>event_dt</th>\n",
       "      <th>event_name</th>\n",
       "      <th>details</th>\n",
       "    </tr>\n",
       "  </thead>\n",
       "  <tbody>\n",
       "    <tr>\n",
       "      <th>0</th>\n",
       "      <td>E1BDDCE0DAFA2679</td>\n",
       "      <td>2020-12-07 20:22:03</td>\n",
       "      <td>purchase</td>\n",
       "      <td>99.99</td>\n",
       "    </tr>\n",
       "    <tr>\n",
       "      <th>1</th>\n",
       "      <td>7B6452F081F49504</td>\n",
       "      <td>2020-12-07 09:22:53</td>\n",
       "      <td>purchase</td>\n",
       "      <td>9.99</td>\n",
       "    </tr>\n",
       "    <tr>\n",
       "      <th>2</th>\n",
       "      <td>9CD9F34546DF254C</td>\n",
       "      <td>2020-12-07 12:59:29</td>\n",
       "      <td>purchase</td>\n",
       "      <td>4.99</td>\n",
       "    </tr>\n",
       "    <tr>\n",
       "      <th>3</th>\n",
       "      <td>96F27A054B191457</td>\n",
       "      <td>2020-12-07 04:02:40</td>\n",
       "      <td>purchase</td>\n",
       "      <td>4.99</td>\n",
       "    </tr>\n",
       "    <tr>\n",
       "      <th>4</th>\n",
       "      <td>1FD7660FDF94CA1F</td>\n",
       "      <td>2020-12-07 10:15:09</td>\n",
       "      <td>purchase</td>\n",
       "      <td>4.99</td>\n",
       "    </tr>\n",
       "  </tbody>\n",
       "</table>\n",
       "</div>"
      ],
      "text/plain": [
       "            user_id             event_dt event_name  details\n",
       "0  E1BDDCE0DAFA2679  2020-12-07 20:22:03   purchase    99.99\n",
       "1  7B6452F081F49504  2020-12-07 09:22:53   purchase     9.99\n",
       "2  9CD9F34546DF254C  2020-12-07 12:59:29   purchase     4.99\n",
       "3  96F27A054B191457  2020-12-07 04:02:40   purchase     4.99\n",
       "4  1FD7660FDF94CA1F  2020-12-07 10:15:09   purchase     4.99"
      ]
     },
     "execution_count": 12,
     "metadata": {},
     "output_type": "execute_result"
    }
   ],
   "source": [
    "final_ab_events.head()"
   ]
  },
  {
   "cell_type": "markdown",
   "metadata": {},
   "source": [
    "В этйо таблице хранятся действия новых пользователей в период с 7 декабря 2020 по 4 января 2021 года. В столбцах указаны id пользователя, дата события, название события, дополнительные данные"
   ]
  },
  {
   "cell_type": "code",
   "execution_count": 13,
   "metadata": {},
   "outputs": [
    {
     "name": "stdout",
     "output_type": "stream",
     "text": [
      "<class 'pandas.core.frame.DataFrame'>\n",
      "RangeIndex: 440317 entries, 0 to 440316\n",
      "Data columns (total 4 columns):\n",
      " #   Column      Non-Null Count   Dtype  \n",
      "---  ------      --------------   -----  \n",
      " 0   user_id     440317 non-null  object \n",
      " 1   event_dt    440317 non-null  object \n",
      " 2   event_name  440317 non-null  object \n",
      " 3   details     62740 non-null   float64\n",
      "dtypes: float64(1), object(3)\n",
      "memory usage: 13.4+ MB\n"
     ]
    }
   ],
   "source": [
    "final_ab_events.info()"
   ]
  },
  {
   "cell_type": "markdown",
   "metadata": {},
   "source": [
    "Здесь также проблема с датой"
   ]
  },
  {
   "cell_type": "markdown",
   "metadata": {},
   "source": [
    "## Предобработка данных"
   ]
  },
  {
   "cell_type": "markdown",
   "metadata": {},
   "source": [
    "### Работа с датой "
   ]
  },
  {
   "cell_type": "markdown",
   "metadata": {},
   "source": [
    "Приведем дату в marketing_events,new_users, final_ab_events к нужному виду"
   ]
  },
  {
   "cell_type": "code",
   "execution_count": 14,
   "metadata": {},
   "outputs": [],
   "source": [
    "marketing_events['start_dt']=pd.to_datetime(marketing_events['start_dt'])\n",
    "marketing_events['finish_dt']=pd.to_datetime(marketing_events['finish_dt'])"
   ]
  },
  {
   "cell_type": "code",
   "execution_count": 15,
   "metadata": {},
   "outputs": [],
   "source": [
    "new_users['first_date']=pd.to_datetime(new_users['first_date'])"
   ]
  },
  {
   "cell_type": "code",
   "execution_count": 16,
   "metadata": {},
   "outputs": [],
   "source": [
    "final_ab_events['event_dt']=final_ab_events['event_dt'].astype('datetime64[D]')\n"
   ]
  },
  {
   "cell_type": "markdown",
   "metadata": {},
   "source": [
    "Во всех таблицах стоблцы с датой приведены к нужному типу"
   ]
  },
  {
   "cell_type": "markdown",
   "metadata": {},
   "source": [
    "### Поиск дубликатов и пропусков"
   ]
  },
  {
   "cell_type": "code",
   "execution_count": 17,
   "metadata": {},
   "outputs": [
    {
     "data": {
      "text/plain": [
       "name         0\n",
       "regions      0\n",
       "start_dt     0\n",
       "finish_dt    0\n",
       "dtype: int64"
      ]
     },
     "execution_count": 17,
     "metadata": {},
     "output_type": "execute_result"
    }
   ],
   "source": [
    "marketing_events.isna().sum()"
   ]
  },
  {
   "cell_type": "code",
   "execution_count": 18,
   "metadata": {},
   "outputs": [
    {
     "data": {
      "text/plain": [
       "0"
      ]
     },
     "execution_count": 18,
     "metadata": {},
     "output_type": "execute_result"
    }
   ],
   "source": [
    "marketing_events.duplicated().sum()"
   ]
  },
  {
   "cell_type": "markdown",
   "metadata": {},
   "source": [
    "В marketing_events пропусков и дубликатов нет"
   ]
  },
  {
   "cell_type": "code",
   "execution_count": 19,
   "metadata": {},
   "outputs": [
    {
     "data": {
      "text/plain": [
       "user_id       0\n",
       "first_date    0\n",
       "region        0\n",
       "device        0\n",
       "dtype: int64"
      ]
     },
     "execution_count": 19,
     "metadata": {},
     "output_type": "execute_result"
    }
   ],
   "source": [
    "new_users.isna().sum()"
   ]
  },
  {
   "cell_type": "code",
   "execution_count": 20,
   "metadata": {},
   "outputs": [
    {
     "data": {
      "text/plain": [
       "0"
      ]
     },
     "execution_count": 20,
     "metadata": {},
     "output_type": "execute_result"
    }
   ],
   "source": [
    "new_users.duplicated().sum()"
   ]
  },
  {
   "cell_type": "markdown",
   "metadata": {},
   "source": [
    "В new_users пропусков и дубликатов тоже нет"
   ]
  },
  {
   "cell_type": "code",
   "execution_count": 21,
   "metadata": {},
   "outputs": [
    {
     "data": {
      "text/plain": [
       "user_id    0\n",
       "group      0\n",
       "ab_test    0\n",
       "dtype: int64"
      ]
     },
     "execution_count": 21,
     "metadata": {},
     "output_type": "execute_result"
    }
   ],
   "source": [
    "participants.isna().sum()"
   ]
  },
  {
   "cell_type": "code",
   "execution_count": 22,
   "metadata": {},
   "outputs": [
    {
     "data": {
      "text/plain": [
       "0"
      ]
     },
     "execution_count": 22,
     "metadata": {},
     "output_type": "execute_result"
    }
   ],
   "source": [
    "participants.duplicated().sum()"
   ]
  },
  {
   "cell_type": "markdown",
   "metadata": {},
   "source": [
    "Пропусков, дубликатов не обнаружено"
   ]
  },
  {
   "cell_type": "code",
   "execution_count": 23,
   "metadata": {},
   "outputs": [
    {
     "data": {
      "text/plain": [
       "2"
      ]
     },
     "execution_count": 23,
     "metadata": {},
     "output_type": "execute_result"
    }
   ],
   "source": [
    "final_ab_events.duplicated().sum()"
   ]
  },
  {
   "cell_type": "markdown",
   "metadata": {},
   "source": [
    "Найдено два дубликата, удалим их"
   ]
  },
  {
   "cell_type": "code",
   "execution_count": 24,
   "metadata": {},
   "outputs": [],
   "source": [
    "final_ab_events=final_ab_events.drop_duplicates()"
   ]
  },
  {
   "cell_type": "code",
   "execution_count": 25,
   "metadata": {},
   "outputs": [
    {
     "data": {
      "text/plain": [
       "user_id            0\n",
       "event_dt           0\n",
       "event_name         0\n",
       "details       377576\n",
       "dtype: int64"
      ]
     },
     "execution_count": 25,
     "metadata": {},
     "output_type": "execute_result"
    }
   ],
   "source": [
    "final_ab_events.isna().sum()"
   ]
  },
  {
   "cell_type": "markdown",
   "metadata": {},
   "source": [
    "В данной таблице также есть пропуски в столбце details"
   ]
  },
  {
   "cell_type": "code",
   "execution_count": 26,
   "metadata": {},
   "outputs": [
    {
     "data": {
      "text/plain": [
       "4.99      46361\n",
       "9.99       9530\n",
       "99.99      5631\n",
       "499.99     1217\n",
       "Name: details, dtype: int64"
      ]
     },
     "execution_count": 26,
     "metadata": {},
     "output_type": "execute_result"
    }
   ],
   "source": [
    "final_ab_events['details'].value_counts()"
   ]
  },
  {
   "cell_type": "markdown",
   "metadata": {},
   "source": [
    "Пропуски здесь могут быть объяснены тем, что данный столбец хранит в себе данные по стоимости покупки, а они отображаюся только при покупке, событие purchase"
   ]
  },
  {
   "cell_type": "markdown",
   "metadata": {},
   "source": [
    "На всякий случай посмотрим есть ли пропуски в details при событии purchase"
   ]
  },
  {
   "cell_type": "code",
   "execution_count": 27,
   "metadata": {},
   "outputs": [
    {
     "data": {
      "text/plain": [
       "0"
      ]
     },
     "execution_count": 27,
     "metadata": {},
     "output_type": "execute_result"
    }
   ],
   "source": [
    "final_ab_events['event_name'].isna().sum()"
   ]
  },
  {
   "cell_type": "code",
   "execution_count": 28,
   "metadata": {},
   "outputs": [
    {
     "data": {
      "text/plain": [
       "0"
      ]
     },
     "execution_count": 28,
     "metadata": {},
     "output_type": "execute_result"
    }
   ],
   "source": [
    "final_ab_events[final_ab_events['event_name']=='purchase']['details'].isna().sum()"
   ]
  },
  {
   "cell_type": "markdown",
   "metadata": {},
   "source": [
    "Пропусков нет"
   ]
  },
  {
   "cell_type": "code",
   "execution_count": 29,
   "metadata": {},
   "outputs": [],
   "source": [
    "check_details=final_ab_events[final_ab_events['event_name']!='purchase']"
   ]
  },
  {
   "cell_type": "code",
   "execution_count": 30,
   "metadata": {},
   "outputs": [
    {
     "data": {
      "text/plain": [
       "Series([], Name: details, dtype: int64)"
      ]
     },
     "execution_count": 30,
     "metadata": {},
     "output_type": "execute_result"
    }
   ],
   "source": [
    "check_details['details'].value_counts()"
   ]
  },
  {
   "cell_type": "markdown",
   "metadata": {},
   "source": [
    "Пропуски в столбце details во всех этапах покупки кроме purchase"
   ]
  },
  {
   "cell_type": "markdown",
   "metadata": {},
   "source": [
    "### Выводы "
   ]
  },
  {
   "cell_type": "markdown",
   "metadata": {},
   "source": [
    "На этапе предобработки была проведена проверка на наличие пропусков и дубликатов. Были удалены дубликаты и найдены пропуски в датафрейме final_ab_events. Пропуски объясняются тем, что  столбец с пропусками хранит в себе данные по стоимости покупки, а они отображаюся только при покупке, событие purchase. Также были приведены столбцы с датой к нужному виду"
   ]
  },
  {
   "cell_type": "markdown",
   "metadata": {},
   "source": [
    "## Проверка технического задания на корректность"
   ]
  },
  {
   "cell_type": "code",
   "execution_count": 31,
   "metadata": {},
   "outputs": [
    {
     "data": {
      "text/html": [
       "<div>\n",
       "<style scoped>\n",
       "    .dataframe tbody tr th:only-of-type {\n",
       "        vertical-align: middle;\n",
       "    }\n",
       "\n",
       "    .dataframe tbody tr th {\n",
       "        vertical-align: top;\n",
       "    }\n",
       "\n",
       "    .dataframe thead th {\n",
       "        text-align: right;\n",
       "    }\n",
       "</style>\n",
       "<table border=\"1\" class=\"dataframe\">\n",
       "  <thead>\n",
       "    <tr style=\"text-align: right;\">\n",
       "      <th></th>\n",
       "      <th>user_id</th>\n",
       "      <th>first_date</th>\n",
       "      <th>region</th>\n",
       "      <th>device</th>\n",
       "    </tr>\n",
       "  </thead>\n",
       "  <tbody>\n",
       "    <tr>\n",
       "      <th>0</th>\n",
       "      <td>D72A72121175D8BE</td>\n",
       "      <td>2020-12-07</td>\n",
       "      <td>EU</td>\n",
       "      <td>PC</td>\n",
       "    </tr>\n",
       "    <tr>\n",
       "      <th>1</th>\n",
       "      <td>F1C668619DFE6E65</td>\n",
       "      <td>2020-12-07</td>\n",
       "      <td>N.America</td>\n",
       "      <td>Android</td>\n",
       "    </tr>\n",
       "    <tr>\n",
       "      <th>2</th>\n",
       "      <td>2E1BF1D4C37EA01F</td>\n",
       "      <td>2020-12-07</td>\n",
       "      <td>EU</td>\n",
       "      <td>PC</td>\n",
       "    </tr>\n",
       "    <tr>\n",
       "      <th>3</th>\n",
       "      <td>50734A22C0C63768</td>\n",
       "      <td>2020-12-07</td>\n",
       "      <td>EU</td>\n",
       "      <td>iPhone</td>\n",
       "    </tr>\n",
       "    <tr>\n",
       "      <th>4</th>\n",
       "      <td>E1BDDCE0DAFA2679</td>\n",
       "      <td>2020-12-07</td>\n",
       "      <td>N.America</td>\n",
       "      <td>iPhone</td>\n",
       "    </tr>\n",
       "  </tbody>\n",
       "</table>\n",
       "</div>"
      ],
      "text/plain": [
       "            user_id first_date     region   device\n",
       "0  D72A72121175D8BE 2020-12-07         EU       PC\n",
       "1  F1C668619DFE6E65 2020-12-07  N.America  Android\n",
       "2  2E1BF1D4C37EA01F 2020-12-07         EU       PC\n",
       "3  50734A22C0C63768 2020-12-07         EU   iPhone\n",
       "4  E1BDDCE0DAFA2679 2020-12-07  N.America   iPhone"
      ]
     },
     "execution_count": 31,
     "metadata": {},
     "output_type": "execute_result"
    }
   ],
   "source": [
    "new_users.head()"
   ]
  },
  {
   "cell_type": "code",
   "execution_count": 32,
   "metadata": {},
   "outputs": [
    {
     "data": {
      "text/plain": [
       "Timestamp('2020-12-07 00:00:00')"
      ]
     },
     "execution_count": 32,
     "metadata": {},
     "output_type": "execute_result"
    }
   ],
   "source": [
    "min(new_users['first_date'])"
   ]
  },
  {
   "cell_type": "code",
   "execution_count": 33,
   "metadata": {},
   "outputs": [
    {
     "data": {
      "text/plain": [
       "Timestamp('2020-12-23 00:00:00')"
      ]
     },
     "execution_count": 33,
     "metadata": {},
     "output_type": "execute_result"
    }
   ],
   "source": [
    "max(new_users['first_date'])"
   ]
  },
  {
   "cell_type": "code",
   "execution_count": 34,
   "metadata": {},
   "outputs": [],
   "source": [
    "new_users=new_users.query('first_date<=\"2020-12-21\"')"
   ]
  },
  {
   "cell_type": "code",
   "execution_count": 35,
   "metadata": {},
   "outputs": [
    {
     "data": {
      "text/plain": [
       "EU           42340\n",
       "N.America     8347\n",
       "CIS           2900\n",
       "APAC          2883\n",
       "Name: region, dtype: int64"
      ]
     },
     "execution_count": 35,
     "metadata": {},
     "output_type": "execute_result"
    }
   ],
   "source": [
    "new_users['region'].value_counts()"
   ]
  },
  {
   "cell_type": "markdown",
   "metadata": {},
   "source": [
    "По техническому заданию нас интересуют только пользователи из Европы, удалим остальных"
   ]
  },
  {
   "cell_type": "code",
   "execution_count": 36,
   "metadata": {},
   "outputs": [],
   "source": [
    "new_users=new_users[new_users['region']=='EU']"
   ]
  },
  {
   "cell_type": "markdown",
   "metadata": {},
   "source": [
    "Присоединим таблицы new users и partisipants по user_id"
   ]
  },
  {
   "cell_type": "code",
   "execution_count": 37,
   "metadata": {},
   "outputs": [
    {
     "data": {
      "text/html": [
       "<div>\n",
       "<style scoped>\n",
       "    .dataframe tbody tr th:only-of-type {\n",
       "        vertical-align: middle;\n",
       "    }\n",
       "\n",
       "    .dataframe tbody tr th {\n",
       "        vertical-align: top;\n",
       "    }\n",
       "\n",
       "    .dataframe thead th {\n",
       "        text-align: right;\n",
       "    }\n",
       "</style>\n",
       "<table border=\"1\" class=\"dataframe\">\n",
       "  <thead>\n",
       "    <tr style=\"text-align: right;\">\n",
       "      <th></th>\n",
       "      <th>user_id</th>\n",
       "      <th>first_date</th>\n",
       "      <th>region</th>\n",
       "      <th>device</th>\n",
       "      <th>group</th>\n",
       "      <th>ab_test</th>\n",
       "    </tr>\n",
       "  </thead>\n",
       "  <tbody>\n",
       "    <tr>\n",
       "      <th>0</th>\n",
       "      <td>D72A72121175D8BE</td>\n",
       "      <td>2020-12-07</td>\n",
       "      <td>EU</td>\n",
       "      <td>PC</td>\n",
       "      <td>A</td>\n",
       "      <td>recommender_system_test</td>\n",
       "    </tr>\n",
       "    <tr>\n",
       "      <th>1</th>\n",
       "      <td>2E1BF1D4C37EA01F</td>\n",
       "      <td>2020-12-07</td>\n",
       "      <td>EU</td>\n",
       "      <td>PC</td>\n",
       "      <td>A</td>\n",
       "      <td>interface_eu_test</td>\n",
       "    </tr>\n",
       "    <tr>\n",
       "      <th>2</th>\n",
       "      <td>50734A22C0C63768</td>\n",
       "      <td>2020-12-07</td>\n",
       "      <td>EU</td>\n",
       "      <td>iPhone</td>\n",
       "      <td>B</td>\n",
       "      <td>interface_eu_test</td>\n",
       "    </tr>\n",
       "    <tr>\n",
       "      <th>3</th>\n",
       "      <td>E6DE857AFBDC6102</td>\n",
       "      <td>2020-12-07</td>\n",
       "      <td>EU</td>\n",
       "      <td>PC</td>\n",
       "      <td>B</td>\n",
       "      <td>recommender_system_test</td>\n",
       "    </tr>\n",
       "    <tr>\n",
       "      <th>4</th>\n",
       "      <td>E6DE857AFBDC6102</td>\n",
       "      <td>2020-12-07</td>\n",
       "      <td>EU</td>\n",
       "      <td>PC</td>\n",
       "      <td>B</td>\n",
       "      <td>interface_eu_test</td>\n",
       "    </tr>\n",
       "  </tbody>\n",
       "</table>\n",
       "</div>"
      ],
      "text/plain": [
       "            user_id first_date region  device group                  ab_test\n",
       "0  D72A72121175D8BE 2020-12-07     EU      PC     A  recommender_system_test\n",
       "1  2E1BF1D4C37EA01F 2020-12-07     EU      PC     A        interface_eu_test\n",
       "2  50734A22C0C63768 2020-12-07     EU  iPhone     B        interface_eu_test\n",
       "3  E6DE857AFBDC6102 2020-12-07     EU      PC     B  recommender_system_test\n",
       "4  E6DE857AFBDC6102 2020-12-07     EU      PC     B        interface_eu_test"
      ]
     },
     "execution_count": 37,
     "metadata": {},
     "output_type": "execute_result"
    }
   ],
   "source": [
    "new_users_participants=new_users.merge(participants)\n",
    "new_users_participants.head()"
   ]
  },
  {
   "cell_type": "code",
   "execution_count": 38,
   "metadata": {},
   "outputs": [],
   "source": [
    "data=new_users_participants.groupby(['ab_test', 'group', 'region']).agg({'user_id':'nunique'}).reset_index()"
   ]
  },
  {
   "cell_type": "code",
   "execution_count": 39,
   "metadata": {},
   "outputs": [
    {
     "data": {
      "text/html": [
       "<div>\n",
       "<style scoped>\n",
       "    .dataframe tbody tr th:only-of-type {\n",
       "        vertical-align: middle;\n",
       "    }\n",
       "\n",
       "    .dataframe tbody tr th {\n",
       "        vertical-align: top;\n",
       "    }\n",
       "\n",
       "    .dataframe thead th {\n",
       "        text-align: right;\n",
       "    }\n",
       "</style>\n",
       "<table border=\"1\" class=\"dataframe\">\n",
       "  <thead>\n",
       "    <tr style=\"text-align: right;\">\n",
       "      <th></th>\n",
       "      <th>ab_test</th>\n",
       "      <th>group</th>\n",
       "      <th>region</th>\n",
       "      <th>user_id</th>\n",
       "    </tr>\n",
       "  </thead>\n",
       "  <tbody>\n",
       "    <tr>\n",
       "      <th>0</th>\n",
       "      <td>interface_eu_test</td>\n",
       "      <td>A</td>\n",
       "      <td>EU</td>\n",
       "      <td>5342</td>\n",
       "    </tr>\n",
       "    <tr>\n",
       "      <th>1</th>\n",
       "      <td>interface_eu_test</td>\n",
       "      <td>B</td>\n",
       "      <td>EU</td>\n",
       "      <td>5223</td>\n",
       "    </tr>\n",
       "    <tr>\n",
       "      <th>2</th>\n",
       "      <td>recommender_system_test</td>\n",
       "      <td>A</td>\n",
       "      <td>EU</td>\n",
       "      <td>3634</td>\n",
       "    </tr>\n",
       "    <tr>\n",
       "      <th>3</th>\n",
       "      <td>recommender_system_test</td>\n",
       "      <td>B</td>\n",
       "      <td>EU</td>\n",
       "      <td>2717</td>\n",
       "    </tr>\n",
       "  </tbody>\n",
       "</table>\n",
       "</div>"
      ],
      "text/plain": [
       "                   ab_test group region  user_id\n",
       "0        interface_eu_test     A     EU     5342\n",
       "1        interface_eu_test     B     EU     5223\n",
       "2  recommender_system_test     A     EU     3634\n",
       "3  recommender_system_test     B     EU     2717"
      ]
     },
     "execution_count": 39,
     "metadata": {},
     "output_type": "execute_result"
    }
   ],
   "source": [
    "data"
   ]
  },
  {
   "cell_type": "markdown",
   "metadata": {},
   "source": [
    "Всего проводилось 2 теста, из них нас по техническому заданию интересует только recommender_system_test, удалим interface_eu_test"
   ]
  },
  {
   "cell_type": "code",
   "execution_count": 40,
   "metadata": {},
   "outputs": [],
   "source": [
    "data=data.drop([0,1],axis=0)"
   ]
  },
  {
   "cell_type": "code",
   "execution_count": 41,
   "metadata": {},
   "outputs": [
    {
     "data": {
      "text/html": [
       "<div>\n",
       "<style scoped>\n",
       "    .dataframe tbody tr th:only-of-type {\n",
       "        vertical-align: middle;\n",
       "    }\n",
       "\n",
       "    .dataframe tbody tr th {\n",
       "        vertical-align: top;\n",
       "    }\n",
       "\n",
       "    .dataframe thead th {\n",
       "        text-align: right;\n",
       "    }\n",
       "</style>\n",
       "<table border=\"1\" class=\"dataframe\">\n",
       "  <thead>\n",
       "    <tr style=\"text-align: right;\">\n",
       "      <th></th>\n",
       "      <th>ab_test</th>\n",
       "      <th>group</th>\n",
       "      <th>region</th>\n",
       "      <th>user_id</th>\n",
       "    </tr>\n",
       "  </thead>\n",
       "  <tbody>\n",
       "    <tr>\n",
       "      <th>2</th>\n",
       "      <td>recommender_system_test</td>\n",
       "      <td>A</td>\n",
       "      <td>EU</td>\n",
       "      <td>3634</td>\n",
       "    </tr>\n",
       "    <tr>\n",
       "      <th>3</th>\n",
       "      <td>recommender_system_test</td>\n",
       "      <td>B</td>\n",
       "      <td>EU</td>\n",
       "      <td>2717</td>\n",
       "    </tr>\n",
       "  </tbody>\n",
       "</table>\n",
       "</div>"
      ],
      "text/plain": [
       "                   ab_test group region  user_id\n",
       "2  recommender_system_test     A     EU     3634\n",
       "3  recommender_system_test     B     EU     2717"
      ]
     },
     "execution_count": 41,
     "metadata": {},
     "output_type": "execute_result"
    }
   ],
   "source": [
    "data"
   ]
  },
  {
   "cell_type": "code",
   "execution_count": 42,
   "metadata": {},
   "outputs": [
    {
     "name": "stdout",
     "output_type": "stream",
     "text": [
      "917\n"
     ]
    }
   ],
   "source": [
    "print(data['user_id'][2]-data['user_id'][3])"
   ]
  },
  {
   "cell_type": "markdown",
   "metadata": {},
   "source": [
    "В группе А участвовало несколько больше человек чем в группе В. Впрочем это не является проблемой"
   ]
  },
  {
   "cell_type": "code",
   "execution_count": 43,
   "metadata": {},
   "outputs": [
    {
     "data": {
      "text/html": [
       "<div>\n",
       "<style scoped>\n",
       "    .dataframe tbody tr th:only-of-type {\n",
       "        vertical-align: middle;\n",
       "    }\n",
       "\n",
       "    .dataframe tbody tr th {\n",
       "        vertical-align: top;\n",
       "    }\n",
       "\n",
       "    .dataframe thead th {\n",
       "        text-align: right;\n",
       "    }\n",
       "</style>\n",
       "<table border=\"1\" class=\"dataframe\">\n",
       "  <thead>\n",
       "    <tr style=\"text-align: right;\">\n",
       "      <th></th>\n",
       "      <th>user_id</th>\n",
       "      <th>first_date</th>\n",
       "      <th>region</th>\n",
       "      <th>device</th>\n",
       "      <th>group</th>\n",
       "      <th>ab_test</th>\n",
       "    </tr>\n",
       "  </thead>\n",
       "  <tbody>\n",
       "    <tr>\n",
       "      <th>0</th>\n",
       "      <td>D72A72121175D8BE</td>\n",
       "      <td>2020-12-07</td>\n",
       "      <td>EU</td>\n",
       "      <td>PC</td>\n",
       "      <td>A</td>\n",
       "      <td>recommender_system_test</td>\n",
       "    </tr>\n",
       "    <tr>\n",
       "      <th>3</th>\n",
       "      <td>E6DE857AFBDC6102</td>\n",
       "      <td>2020-12-07</td>\n",
       "      <td>EU</td>\n",
       "      <td>PC</td>\n",
       "      <td>B</td>\n",
       "      <td>recommender_system_test</td>\n",
       "    </tr>\n",
       "    <tr>\n",
       "      <th>7</th>\n",
       "      <td>DD4352CDCF8C3D57</td>\n",
       "      <td>2020-12-07</td>\n",
       "      <td>EU</td>\n",
       "      <td>Android</td>\n",
       "      <td>B</td>\n",
       "      <td>recommender_system_test</td>\n",
       "    </tr>\n",
       "    <tr>\n",
       "      <th>10</th>\n",
       "      <td>831887FE7F2D6CBA</td>\n",
       "      <td>2020-12-07</td>\n",
       "      <td>EU</td>\n",
       "      <td>Android</td>\n",
       "      <td>A</td>\n",
       "      <td>recommender_system_test</td>\n",
       "    </tr>\n",
       "    <tr>\n",
       "      <th>12</th>\n",
       "      <td>4CB179C7F847320B</td>\n",
       "      <td>2020-12-07</td>\n",
       "      <td>EU</td>\n",
       "      <td>iPhone</td>\n",
       "      <td>B</td>\n",
       "      <td>recommender_system_test</td>\n",
       "    </tr>\n",
       "  </tbody>\n",
       "</table>\n",
       "</div>"
      ],
      "text/plain": [
       "             user_id first_date region   device group                  ab_test\n",
       "0   D72A72121175D8BE 2020-12-07     EU       PC     A  recommender_system_test\n",
       "3   E6DE857AFBDC6102 2020-12-07     EU       PC     B  recommender_system_test\n",
       "7   DD4352CDCF8C3D57 2020-12-07     EU  Android     B  recommender_system_test\n",
       "10  831887FE7F2D6CBA 2020-12-07     EU  Android     A  recommender_system_test\n",
       "12  4CB179C7F847320B 2020-12-07     EU   iPhone     B  recommender_system_test"
      ]
     },
     "execution_count": 43,
     "metadata": {},
     "output_type": "execute_result"
    }
   ],
   "source": [
    "data=new_users_participants[new_users_participants['ab_test']=='recommender_system_test']\n",
    "data=data[data['region']=='EU']\n",
    "data.head()"
   ]
  },
  {
   "cell_type": "code",
   "execution_count": 44,
   "metadata": {},
   "outputs": [
    {
     "data": {
      "text/plain": [
       "6351"
      ]
     },
     "execution_count": 44,
     "metadata": {},
     "output_type": "execute_result"
    }
   ],
   "source": [
    "data['user_id'].nunique()"
   ]
  },
  {
   "cell_type": "markdown",
   "metadata": {},
   "source": [
    "Всего в тесте участвовало 6351 человек, что несколько больше ичем упомянутые в тех задании 6000."
   ]
  },
  {
   "cell_type": "code",
   "execution_count": 45,
   "metadata": {},
   "outputs": [
    {
     "data": {
      "text/plain": [
       "Timestamp('2020-12-07 00:00:00')"
      ]
     },
     "execution_count": 45,
     "metadata": {},
     "output_type": "execute_result"
    }
   ],
   "source": [
    "min(data['first_date'])"
   ]
  },
  {
   "cell_type": "markdown",
   "metadata": {},
   "source": [
    "Начальная дата регистрации пользователей в recommender_system_test совпадает с значением в техническом задании"
   ]
  },
  {
   "cell_type": "code",
   "execution_count": 46,
   "metadata": {},
   "outputs": [
    {
     "data": {
      "text/plain": [
       "Timestamp('2020-12-21 00:00:00')"
      ]
     },
     "execution_count": 46,
     "metadata": {},
     "output_type": "execute_result"
    }
   ],
   "source": [
    "max(data['first_date'])"
   ]
  },
  {
   "cell_type": "markdown",
   "metadata": {},
   "source": [
    "То же можно сказать и про конечную дату набора"
   ]
  },
  {
   "cell_type": "markdown",
   "metadata": {},
   "source": [
    "Проверим действительно ли 15% новых пользователей из региона EU"
   ]
  },
  {
   "cell_type": "code",
   "execution_count": 47,
   "metadata": {},
   "outputs": [],
   "source": [
    "new_1=data['user_id'].nunique()"
   ]
  },
  {
   "cell_type": "code",
   "execution_count": 48,
   "metadata": {},
   "outputs": [
    {
     "data": {
      "text/plain": [
       "42340"
      ]
     },
     "execution_count": 48,
     "metadata": {},
     "output_type": "execute_result"
    }
   ],
   "source": [
    "new_users['user_id'].nunique()"
   ]
  },
  {
   "cell_type": "code",
   "execution_count": 49,
   "metadata": {},
   "outputs": [],
   "source": [
    "lkm=new_users.query(\"first_date<='2020-12-21'\")\n",
    "new_2=lkm[lkm['region']=='EU']['user_id'].count()"
   ]
  },
  {
   "cell_type": "code",
   "execution_count": 50,
   "metadata": {},
   "outputs": [
    {
     "data": {
      "text/plain": [
       "0.15"
      ]
     },
     "execution_count": 50,
     "metadata": {},
     "output_type": "execute_result"
    }
   ],
   "source": [
    "new_1/new_2"
   ]
  },
  {
   "cell_type": "markdown",
   "metadata": {},
   "source": [
    "Да, все верно"
   ]
  },
  {
   "cell_type": "markdown",
   "metadata": {},
   "source": [
    "Как уже было замечено, одновременно проводилось 2 теста: recommender_system_test и interface_eu_test. Проверим попали ли некоторые пользователи в оба теста"
   ]
  },
  {
   "cell_type": "code",
   "execution_count": 51,
   "metadata": {},
   "outputs": [],
   "source": [
    "system=new_users_participants[new_users_participants['ab_test']=='recommender_system_test']\n",
    "interface=new_users_participants[new_users_participants['ab_test']=='interface_eu_test']"
   ]
  },
  {
   "cell_type": "code",
   "execution_count": 52,
   "metadata": {},
   "outputs": [],
   "source": [
    "str1=system['user_id'].reset_index()\n",
    "str1=str1.drop('index', axis=1)\n",
    "str1=str1['user_id'].tolist()"
   ]
  },
  {
   "cell_type": "code",
   "execution_count": 53,
   "metadata": {},
   "outputs": [
    {
     "data": {
      "text/plain": [
       "1602"
      ]
     },
     "execution_count": 53,
     "metadata": {},
     "output_type": "execute_result"
    }
   ],
   "source": [
    "people=interface.query('user_id in @str1')\n",
    "people['user_id'].count()"
   ]
  },
  {
   "cell_type": "markdown",
   "metadata": {},
   "source": [
    "Пересечения присутствуют"
   ]
  },
  {
   "cell_type": "markdown",
   "metadata": {},
   "source": [
    "Посмотрим участвовали ли люди в двух тестовых группах одновременно"
   ]
  },
  {
   "cell_type": "code",
   "execution_count": 54,
   "metadata": {},
   "outputs": [
    {
     "data": {
      "text/plain": [
       "False    6351\n",
       "Name: group, dtype: int64"
      ]
     },
     "execution_count": 54,
     "metadata": {},
     "output_type": "execute_result"
    }
   ],
   "source": [
    "check=system.pivot_table(index='user_id', values='group',aggfunc='nunique')\n",
    "(check['group']>1).value_counts()\n"
   ]
  },
  {
   "cell_type": "markdown",
   "metadata": {},
   "source": [
    "Таковых нет"
   ]
  },
  {
   "cell_type": "markdown",
   "metadata": {},
   "source": [
    "В техническом задании указано, что ожидаемый эффект должен быть достигнут за 14 дней. Посмотрим все ли пользователи уложились в данное время"
   ]
  },
  {
   "cell_type": "code",
   "execution_count": 55,
   "metadata": {},
   "outputs": [
    {
     "data": {
      "text/plain": [
       "23420"
      ]
     },
     "execution_count": 55,
     "metadata": {},
     "output_type": "execute_result"
    }
   ],
   "source": [
    "data_1=data.merge(final_ab_events)\n",
    "data_1['event_name'].count()"
   ]
  },
  {
   "cell_type": "code",
   "execution_count": 56,
   "metadata": {},
   "outputs": [],
   "source": [
    "data_1['delta']=((data_1['event_dt']-data_1['first_date']).dt.days).astype('int')"
   ]
  },
  {
   "cell_type": "markdown",
   "metadata": {},
   "source": [
    "Как следовало ожидать лайфтайм для некоторых пользователей составил больше 14 дней. Верным решением будет удалить события которые произошли после прошествия 14 дней от дня регистрации"
   ]
  },
  {
   "cell_type": "code",
   "execution_count": 57,
   "metadata": {},
   "outputs": [],
   "source": [
    "data_1=data_1[data_1['delta']<=14]"
   ]
  },
  {
   "cell_type": "code",
   "execution_count": 58,
   "metadata": {},
   "outputs": [
    {
     "data": {
      "text/plain": [
       "22828"
      ]
     },
     "execution_count": 58,
     "metadata": {},
     "output_type": "execute_result"
    }
   ],
   "source": [
    "data_1['event_name'].count()"
   ]
  },
  {
   "cell_type": "markdown",
   "metadata": {},
   "source": [
    "Проверим имели ли сторонние события влияние на поведение пользователей  групп"
   ]
  },
  {
   "cell_type": "markdown",
   "metadata": {},
   "source": [
    "Посмотрим на дату последнего по времени события"
   ]
  },
  {
   "cell_type": "code",
   "execution_count": 59,
   "metadata": {},
   "outputs": [
    {
     "data": {
      "text/plain": [
       "Timestamp('2020-12-29 00:00:00')"
      ]
     },
     "execution_count": 59,
     "metadata": {},
     "output_type": "execute_result"
    }
   ],
   "source": [
    "max(data_1['event_dt'])"
   ]
  },
  {
   "cell_type": "code",
   "execution_count": 60,
   "metadata": {},
   "outputs": [
    {
     "data": {
      "image/png": "[encoded data removed]",
      "text/plain": [
       "<Figure size 1008x720 with 1 Axes>"
      ]
     },
     "metadata": {
      "needs_background": "light"
     },
     "output_type": "display_data"
    }
   ],
   "source": [
    "data_1.pivot_table(index='event_dt', values='event_name',aggfunc='count').plot(grid='true',figsize=(14, 10))\n",
    "plt.title('Количество событий по дням')\n",
    "plt.xlabel('Дни')\n",
    "plt.ylabel('Количество событий') \n",
    "plt.show()"
   ]
  },
  {
   "cell_type": "markdown",
   "metadata": {},
   "source": [
    "Отчетливо можно видеть резкий всплеск пользовательской активности 14 и 21 декабря"
   ]
  },
  {
   "cell_type": "code",
   "execution_count": 61,
   "metadata": {},
   "outputs": [
    {
     "data": {
      "text/html": [
       "<div>\n",
       "<style scoped>\n",
       "    .dataframe tbody tr th:only-of-type {\n",
       "        vertical-align: middle;\n",
       "    }\n",
       "\n",
       "    .dataframe tbody tr th {\n",
       "        vertical-align: top;\n",
       "    }\n",
       "\n",
       "    .dataframe thead th {\n",
       "        text-align: right;\n",
       "    }\n",
       "</style>\n",
       "<table border=\"1\" class=\"dataframe\">\n",
       "  <thead>\n",
       "    <tr style=\"text-align: right;\">\n",
       "      <th></th>\n",
       "      <th>name</th>\n",
       "      <th>regions</th>\n",
       "      <th>start_dt</th>\n",
       "      <th>finish_dt</th>\n",
       "    </tr>\n",
       "  </thead>\n",
       "  <tbody>\n",
       "    <tr>\n",
       "      <th>0</th>\n",
       "      <td>Christmas&amp;New Year Promo</td>\n",
       "      <td>EU, N.America</td>\n",
       "      <td>2020-12-25</td>\n",
       "      <td>2021-01-03</td>\n",
       "    </tr>\n",
       "    <tr>\n",
       "      <th>1</th>\n",
       "      <td>St. Valentine's Day Giveaway</td>\n",
       "      <td>EU, CIS, APAC, N.America</td>\n",
       "      <td>2020-02-14</td>\n",
       "      <td>2020-02-16</td>\n",
       "    </tr>\n",
       "    <tr>\n",
       "      <th>2</th>\n",
       "      <td>St. Patric's Day Promo</td>\n",
       "      <td>EU, N.America</td>\n",
       "      <td>2020-03-17</td>\n",
       "      <td>2020-03-19</td>\n",
       "    </tr>\n",
       "    <tr>\n",
       "      <th>3</th>\n",
       "      <td>Easter Promo</td>\n",
       "      <td>EU, CIS, APAC, N.America</td>\n",
       "      <td>2020-04-12</td>\n",
       "      <td>2020-04-19</td>\n",
       "    </tr>\n",
       "    <tr>\n",
       "      <th>4</th>\n",
       "      <td>4th of July Promo</td>\n",
       "      <td>N.America</td>\n",
       "      <td>2020-07-04</td>\n",
       "      <td>2020-07-11</td>\n",
       "    </tr>\n",
       "  </tbody>\n",
       "</table>\n",
       "</div>"
      ],
      "text/plain": [
       "                           name                   regions   start_dt  \\\n",
       "0      Christmas&New Year Promo             EU, N.America 2020-12-25   \n",
       "1  St. Valentine's Day Giveaway  EU, CIS, APAC, N.America 2020-02-14   \n",
       "2        St. Patric's Day Promo             EU, N.America 2020-03-17   \n",
       "3                  Easter Promo  EU, CIS, APAC, N.America 2020-04-12   \n",
       "4             4th of July Promo                 N.America 2020-07-04   \n",
       "\n",
       "   finish_dt  \n",
       "0 2021-01-03  \n",
       "1 2020-02-16  \n",
       "2 2020-03-19  \n",
       "3 2020-04-19  \n",
       "4 2020-07-11  "
      ]
     },
     "execution_count": 61,
     "metadata": {},
     "output_type": "execute_result"
    }
   ],
   "source": [
    "marketing_events.head()"
   ]
  },
  {
   "cell_type": "code",
   "execution_count": 62,
   "metadata": {},
   "outputs": [
    {
     "data": {
      "text/html": [
       "<div>\n",
       "<style scoped>\n",
       "    .dataframe tbody tr th:only-of-type {\n",
       "        vertical-align: middle;\n",
       "    }\n",
       "\n",
       "    .dataframe tbody tr th {\n",
       "        vertical-align: top;\n",
       "    }\n",
       "\n",
       "    .dataframe thead th {\n",
       "        text-align: right;\n",
       "    }\n",
       "</style>\n",
       "<table border=\"1\" class=\"dataframe\">\n",
       "  <thead>\n",
       "    <tr style=\"text-align: right;\">\n",
       "      <th></th>\n",
       "      <th>name</th>\n",
       "      <th>regions</th>\n",
       "      <th>start_dt</th>\n",
       "      <th>finish_dt</th>\n",
       "    </tr>\n",
       "  </thead>\n",
       "  <tbody>\n",
       "    <tr>\n",
       "      <th>0</th>\n",
       "      <td>Christmas&amp;New Year Promo</td>\n",
       "      <td>EU, N.America</td>\n",
       "      <td>2020-12-25</td>\n",
       "      <td>2021-01-03</td>\n",
       "    </tr>\n",
       "  </tbody>\n",
       "</table>\n",
       "</div>"
      ],
      "text/plain": [
       "                       name        regions   start_dt  finish_dt\n",
       "0  Christmas&New Year Promo  EU, N.America 2020-12-25 2021-01-03"
      ]
     },
     "execution_count": 62,
     "metadata": {},
     "output_type": "execute_result"
    }
   ],
   "source": [
    "marketing_events.query('start_dt>=\"2020-12-07\" and finish_dt<=\"2021-01-03\"')"
   ]
  },
  {
   "cell_type": "markdown",
   "metadata": {},
   "source": [
    "Несмотря на то, что тест проводился одновременно с новогодней распродажей, большого влияния на тест это не произвело. Так как пики количества событий приходятся на 14 и 21 числа а новогоднее промо началось 25 декабря. Хотя, безусловно, для большей корректности теста нужно было выбрать другие даты, так как все равно могут быть те, кто пришел именно из-за распродажи"
   ]
  },
  {
   "cell_type": "markdown",
   "metadata": {},
   "source": [
    "### Выводы "
   ]
  },
  {
   "cell_type": "markdown",
   "metadata": {},
   "source": [
    "1) В таблице new_users были найдены пользователи из других регионов, что не является корректным\n",
    "2) В техническом задании было указано что пользователей 6000, на деле их больше\n",
    "3) Начальная дата регистрации пользователей в recommender_system_test совпадает с значением в техническом задании, то же можно сказать и про конечную дату набора\n",
    "4) Одновременно с recommender_system_test проходил и другой тест: interface_eu_test. 1602 человека участвовали в обоих тестах\n",
    "5) Пользователи не попадали одновременно в группы А и В\n",
    "6) Тест пересекался с новогодней распродажей"
   ]
  },
  {
   "cell_type": "markdown",
   "metadata": {},
   "source": [
    "## Исследовательский анализ данных "
   ]
  },
  {
   "cell_type": "markdown",
   "metadata": {},
   "source": [
    "### Распределение количества событий на пользователя в выборках"
   ]
  },
  {
   "cell_type": "markdown",
   "metadata": {},
   "source": [
    "Группа А"
   ]
  },
  {
   "cell_type": "code",
   "execution_count": 63,
   "metadata": {},
   "outputs": [],
   "source": [
    "data_1_pivot=data_1.pivot_table(index=['user_id','group'],values='event_name', aggfunc='count').reset_index()"
   ]
  },
  {
   "cell_type": "code",
   "execution_count": 64,
   "metadata": {
    "scrolled": false
   },
   "outputs": [
    {
     "data": {
      "image/png": "[encoded data removed]",
      "text/plain": [
       "<Figure size 720x432 with 1 Axes>"
      ]
     },
     "metadata": {
      "needs_background": "light"
     },
     "output_type": "display_data"
    }
   ],
   "source": [
    "data_1_pivot[data_1_pivot['group']=='A'].hist(bins = 80, figsize = (10,6),range = (0,25))\n",
    "plt.title('Распределение количества событий на пользователя в выборке А')\n",
    "plt.xlabel('Количество событий')\n",
    "plt.ylabel('Число пользователей') \n",
    "plt.show()"
   ]
  },
  {
   "cell_type": "markdown",
   "metadata": {},
   "source": [
    "Чаще всего в первой группе пользователи совершают 4 или 6 действий. Остальные намного меньше"
   ]
  },
  {
   "cell_type": "markdown",
   "metadata": {},
   "source": [
    "Группа В"
   ]
  },
  {
   "cell_type": "code",
   "execution_count": 65,
   "metadata": {},
   "outputs": [
    {
     "data": {
      "image/png": "[encoded data removed]",
      "text/plain": [
       "<Figure size 720x432 with 1 Axes>"
      ]
     },
     "metadata": {
      "needs_background": "light"
     },
     "output_type": "display_data"
    }
   ],
   "source": [
    "data_1_pivot[data_1_pivot['group']=='B'].hist(bins = 80, figsize = (10,6),range = (0,25))\n",
    "plt.title('Распределение количества событий на пользователя в выборке В')\n",
    "plt.xlabel('Количество событий')\n",
    "plt.ylabel('Частота') \n",
    "plt.show()"
   ]
  },
  {
   "cell_type": "markdown",
   "metadata": {},
   "source": [
    "В группе B количество действий в целом попоставимо с группой А, хотя и несколько уступает. соедует отметить, что группа А значительно превосходит в числе пользователей группу В"
   ]
  },
  {
   "cell_type": "code",
   "execution_count": 66,
   "metadata": {},
   "outputs": [
    {
     "data": {
      "text/html": [
       "<div>\n",
       "<style scoped>\n",
       "    .dataframe tbody tr th:only-of-type {\n",
       "        vertical-align: middle;\n",
       "    }\n",
       "\n",
       "    .dataframe tbody tr th {\n",
       "        vertical-align: top;\n",
       "    }\n",
       "\n",
       "    .dataframe thead th {\n",
       "        text-align: right;\n",
       "    }\n",
       "</style>\n",
       "<table border=\"1\" class=\"dataframe\">\n",
       "  <thead>\n",
       "    <tr style=\"text-align: right;\">\n",
       "      <th></th>\n",
       "      <th>event_name</th>\n",
       "    </tr>\n",
       "    <tr>\n",
       "      <th>group</th>\n",
       "      <th></th>\n",
       "    </tr>\n",
       "  </thead>\n",
       "  <tbody>\n",
       "    <tr>\n",
       "      <th>A</th>\n",
       "      <td>6</td>\n",
       "    </tr>\n",
       "    <tr>\n",
       "      <th>B</th>\n",
       "      <td>4</td>\n",
       "    </tr>\n",
       "  </tbody>\n",
       "</table>\n",
       "</div>"
      ],
      "text/plain": [
       "       event_name\n",
       "group            \n",
       "A               6\n",
       "B               4"
      ]
     },
     "execution_count": 66,
     "metadata": {},
     "output_type": "execute_result"
    }
   ],
   "source": [
    "data_1_pivot.pivot_table(index='group',values='event_name', aggfunc='median')"
   ]
  },
  {
   "cell_type": "markdown",
   "metadata": {},
   "source": [
    "В среднем в группе A пользователи совершали 6 действий, в группе B - 4"
   ]
  },
  {
   "cell_type": "markdown",
   "metadata": {},
   "source": [
    "### Даты регистрации пользователей  "
   ]
  },
  {
   "cell_type": "code",
   "execution_count": 67,
   "metadata": {
    "scrolled": false
   },
   "outputs": [
    {
     "data": {
      "image/png": "[encoded data removed]",
      "text/plain": [
       "<Figure size 720x432 with 1 Axes>"
      ]
     },
     "metadata": {
      "needs_background": "light"
     },
     "output_type": "display_data"
    }
   ],
   "source": [
    "data.pivot_table(index='first_date',values='user_id',aggfunc='count').plot(kind='bar',grid=True,figsize = (10,6))\n",
    "plt.title('Даты регистрации пользователей')\n",
    "plt.xlabel('Дата')\n",
    "plt.ylabel('Частота') \n",
    "plt.show()"
   ]
  },
  {
   "cell_type": "markdown",
   "metadata": {},
   "source": [
    "Больше всего регистраций было в начале - 7, 13, 14 и 21 декабря"
   ]
  },
  {
   "cell_type": "markdown",
   "metadata": {},
   "source": [
    "Посмотрим все ли пользоавтели участвовали в тесте"
   ]
  },
  {
   "cell_type": "code",
   "execution_count": 68,
   "metadata": {},
   "outputs": [],
   "source": [
    "ss=final_ab_events['user_id'].tolist()"
   ]
  },
  {
   "cell_type": "code",
   "execution_count": 69,
   "metadata": {},
   "outputs": [],
   "source": [
    "checki=data.query('user_id not in @ss')"
   ]
  },
  {
   "cell_type": "code",
   "execution_count": 70,
   "metadata": {},
   "outputs": [
    {
     "data": {
      "text/plain": [
       "2870"
      ]
     },
     "execution_count": 70,
     "metadata": {},
     "output_type": "execute_result"
    }
   ],
   "source": [
    "checki['user_id'].count()"
   ]
  },
  {
   "cell_type": "markdown",
   "metadata": {},
   "source": [
    "Как можно заметить из 6351 участников теста 2870 человек не совершили ни одного действия."
   ]
  },
  {
   "cell_type": "code",
   "execution_count": 71,
   "metadata": {},
   "outputs": [
    {
     "data": {
      "text/plain": [
       "B    1840\n",
       "A    1030\n",
       "Name: group, dtype: int64"
      ]
     },
     "execution_count": 71,
     "metadata": {},
     "output_type": "execute_result"
    }
   ],
   "source": [
    "checki['group'].value_counts()"
   ]
  },
  {
   "cell_type": "markdown",
   "metadata": {},
   "source": [
    "Больше всего таких пользователей в группе В"
   ]
  },
  {
   "cell_type": "markdown",
   "metadata": {},
   "source": [
    "Посмотрим когда эти пользователи зарегистрировались"
   ]
  },
  {
   "cell_type": "code",
   "execution_count": 72,
   "metadata": {},
   "outputs": [
    {
     "data": {
      "image/png": "[encoded data removed]",
      "text/plain": [
       "<Figure size 720x432 with 1 Axes>"
      ]
     },
     "metadata": {
      "needs_background": "light"
     },
     "output_type": "display_data"
    }
   ],
   "source": [
    "checki.pivot_table(index='first_date',values='user_id',aggfunc='count').plot(kind='bar',grid=True,figsize = (10,6))\n",
    "plt.title('Даты регистрации не активных пользователей')\n",
    "plt.xlabel('Дата')\n",
    "plt.ylabel('Частота') \n",
    "plt.show()"
   ]
  },
  {
   "cell_type": "markdown",
   "metadata": {},
   "source": [
    "Больше всего такого рода пользователи регистрировались 12 и 13 числа. Скорее всего в эти даты произошли технические неполадки и либо участники не смогли сделать заказ, либо данные просто не сохранились"
   ]
  },
  {
   "cell_type": "markdown",
   "metadata": {},
   "source": [
    "### Распределение числа событий по дням"
   ]
  },
  {
   "cell_type": "code",
   "execution_count": 73,
   "metadata": {},
   "outputs": [],
   "source": [
    "data_1_pivot2=data_1.pivot_table(index=['group','event_dt'],values='event_name',aggfunc='count').reset_index()"
   ]
  },
  {
   "cell_type": "code",
   "execution_count": 74,
   "metadata": {},
   "outputs": [
    {
     "data": {
      "text/html": [
       "<div>\n",
       "<style scoped>\n",
       "    .dataframe tbody tr th:only-of-type {\n",
       "        vertical-align: middle;\n",
       "    }\n",
       "\n",
       "    .dataframe tbody tr th {\n",
       "        vertical-align: top;\n",
       "    }\n",
       "\n",
       "    .dataframe thead th {\n",
       "        text-align: right;\n",
       "    }\n",
       "</style>\n",
       "<table border=\"1\" class=\"dataframe\">\n",
       "  <thead>\n",
       "    <tr style=\"text-align: right;\">\n",
       "      <th></th>\n",
       "      <th>group</th>\n",
       "      <th>event_dt</th>\n",
       "      <th>event_name</th>\n",
       "    </tr>\n",
       "  </thead>\n",
       "  <tbody>\n",
       "    <tr>\n",
       "      <th>0</th>\n",
       "      <td>A</td>\n",
       "      <td>2020-12-07</td>\n",
       "      <td>318</td>\n",
       "    </tr>\n",
       "    <tr>\n",
       "      <th>1</th>\n",
       "      <td>A</td>\n",
       "      <td>2020-12-08</td>\n",
       "      <td>313</td>\n",
       "    </tr>\n",
       "    <tr>\n",
       "      <th>2</th>\n",
       "      <td>A</td>\n",
       "      <td>2020-12-09</td>\n",
       "      <td>371</td>\n",
       "    </tr>\n",
       "    <tr>\n",
       "      <th>3</th>\n",
       "      <td>A</td>\n",
       "      <td>2020-12-10</td>\n",
       "      <td>331</td>\n",
       "    </tr>\n",
       "    <tr>\n",
       "      <th>4</th>\n",
       "      <td>A</td>\n",
       "      <td>2020-12-11</td>\n",
       "      <td>356</td>\n",
       "    </tr>\n",
       "  </tbody>\n",
       "</table>\n",
       "</div>"
      ],
      "text/plain": [
       "  group   event_dt  event_name\n",
       "0     A 2020-12-07         318\n",
       "1     A 2020-12-08         313\n",
       "2     A 2020-12-09         371\n",
       "3     A 2020-12-10         331\n",
       "4     A 2020-12-11         356"
      ]
     },
     "execution_count": 74,
     "metadata": {},
     "output_type": "execute_result"
    }
   ],
   "source": [
    "data_1_pivot2.head()"
   ]
  },
  {
   "cell_type": "code",
   "execution_count": 75,
   "metadata": {},
   "outputs": [],
   "source": [
    "fig = px.line(data_1_pivot2, # загружаем данные\n",
    "              x='event_dt', # указываем столбец с данными для оси X\n",
    "              y='event_name',color='group' # указываем столбец с данными для оси Y\n",
    "              ) # отображаем маркеры (точки) на графике\n",
    "#fig.update_layout(title='Распределение числа событий по дням',\n",
    "                   #xaxis_title='Время',\n",
    "                  # yaxis_title='События')\n",
    "#fig.show() # выводим график"
   ]
  },
  {
   "attachments": {
    "newplot%20%2810%29.png": {
     "image/png": "[encoded data removed]"
    }
   },
   "cell_type": "markdown",
   "metadata": {},
   "source": [
    "![newplot%20%2810%29.png](attachment:newplot%20%2810%29.png)"
   ]
  },
  {
   "cell_type": "markdown",
   "metadata": {},
   "source": [
    "Резкий всплеск количества событий в группе А виден  14 и 21 декабря. После 21 декабря идет прродолжительынй спад. Пользователи из группы В более активны 9,16,21 декабря."
   ]
  },
  {
   "cell_type": "markdown",
   "metadata": {},
   "source": [
    "###  Изменение конверсии в воронке в выборках на разных этапах"
   ]
  },
  {
   "cell_type": "code",
   "execution_count": 76,
   "metadata": {},
   "outputs": [
    {
     "data": {
      "text/html": [
       "<div>\n",
       "<style scoped>\n",
       "    .dataframe tbody tr th:only-of-type {\n",
       "        vertical-align: middle;\n",
       "    }\n",
       "\n",
       "    .dataframe tbody tr th {\n",
       "        vertical-align: top;\n",
       "    }\n",
       "\n",
       "    .dataframe thead th {\n",
       "        text-align: right;\n",
       "    }\n",
       "</style>\n",
       "<table border=\"1\" class=\"dataframe\">\n",
       "  <thead>\n",
       "    <tr style=\"text-align: right;\">\n",
       "      <th></th>\n",
       "      <th>user_id</th>\n",
       "      <th>first_date</th>\n",
       "      <th>region</th>\n",
       "      <th>device</th>\n",
       "      <th>group</th>\n",
       "      <th>ab_test</th>\n",
       "      <th>event_dt</th>\n",
       "      <th>event_name</th>\n",
       "      <th>details</th>\n",
       "      <th>delta</th>\n",
       "    </tr>\n",
       "  </thead>\n",
       "  <tbody>\n",
       "    <tr>\n",
       "      <th>0</th>\n",
       "      <td>D72A72121175D8BE</td>\n",
       "      <td>2020-12-07</td>\n",
       "      <td>EU</td>\n",
       "      <td>PC</td>\n",
       "      <td>A</td>\n",
       "      <td>recommender_system_test</td>\n",
       "      <td>2020-12-07</td>\n",
       "      <td>product_page</td>\n",
       "      <td>NaN</td>\n",
       "      <td>0</td>\n",
       "    </tr>\n",
       "    <tr>\n",
       "      <th>1</th>\n",
       "      <td>D72A72121175D8BE</td>\n",
       "      <td>2020-12-07</td>\n",
       "      <td>EU</td>\n",
       "      <td>PC</td>\n",
       "      <td>A</td>\n",
       "      <td>recommender_system_test</td>\n",
       "      <td>2020-12-07</td>\n",
       "      <td>login</td>\n",
       "      <td>NaN</td>\n",
       "      <td>0</td>\n",
       "    </tr>\n",
       "    <tr>\n",
       "      <th>2</th>\n",
       "      <td>DD4352CDCF8C3D57</td>\n",
       "      <td>2020-12-07</td>\n",
       "      <td>EU</td>\n",
       "      <td>Android</td>\n",
       "      <td>B</td>\n",
       "      <td>recommender_system_test</td>\n",
       "      <td>2020-12-07</td>\n",
       "      <td>product_page</td>\n",
       "      <td>NaN</td>\n",
       "      <td>0</td>\n",
       "    </tr>\n",
       "    <tr>\n",
       "      <th>3</th>\n",
       "      <td>DD4352CDCF8C3D57</td>\n",
       "      <td>2020-12-07</td>\n",
       "      <td>EU</td>\n",
       "      <td>Android</td>\n",
       "      <td>B</td>\n",
       "      <td>recommender_system_test</td>\n",
       "      <td>2020-12-08</td>\n",
       "      <td>product_page</td>\n",
       "      <td>NaN</td>\n",
       "      <td>1</td>\n",
       "    </tr>\n",
       "    <tr>\n",
       "      <th>4</th>\n",
       "      <td>DD4352CDCF8C3D57</td>\n",
       "      <td>2020-12-07</td>\n",
       "      <td>EU</td>\n",
       "      <td>Android</td>\n",
       "      <td>B</td>\n",
       "      <td>recommender_system_test</td>\n",
       "      <td>2020-12-10</td>\n",
       "      <td>product_page</td>\n",
       "      <td>NaN</td>\n",
       "      <td>3</td>\n",
       "    </tr>\n",
       "  </tbody>\n",
       "</table>\n",
       "</div>"
      ],
      "text/plain": [
       "            user_id first_date region   device group                  ab_test  \\\n",
       "0  D72A72121175D8BE 2020-12-07     EU       PC     A  recommender_system_test   \n",
       "1  D72A72121175D8BE 2020-12-07     EU       PC     A  recommender_system_test   \n",
       "2  DD4352CDCF8C3D57 2020-12-07     EU  Android     B  recommender_system_test   \n",
       "3  DD4352CDCF8C3D57 2020-12-07     EU  Android     B  recommender_system_test   \n",
       "4  DD4352CDCF8C3D57 2020-12-07     EU  Android     B  recommender_system_test   \n",
       "\n",
       "    event_dt    event_name  details  delta  \n",
       "0 2020-12-07  product_page      NaN      0  \n",
       "1 2020-12-07         login      NaN      0  \n",
       "2 2020-12-07  product_page      NaN      0  \n",
       "3 2020-12-08  product_page      NaN      1  \n",
       "4 2020-12-10  product_page      NaN      3  "
      ]
     },
     "execution_count": 76,
     "metadata": {},
     "output_type": "execute_result"
    }
   ],
   "source": [
    "data_1.head()"
   ]
  },
  {
   "cell_type": "code",
   "execution_count": 77,
   "metadata": {},
   "outputs": [],
   "source": [
    "ks=data_1.pivot_table(index='group',values='user_id', columns='event_name',aggfunc='nunique')\n"
   ]
  },
  {
   "cell_type": "code",
   "execution_count": 78,
   "metadata": {},
   "outputs": [],
   "source": [
    "ks.insert(loc= 0 , column='users', value=[3634,2717])"
   ]
  },
  {
   "cell_type": "code",
   "execution_count": 79,
   "metadata": {},
   "outputs": [],
   "source": [
    "def swap_columns (df, col1, col2):\n",
    "    col_list = list(df.columns )\n",
    "    x, y = col_list. index (col1), col_list. index (col2)\n",
    "    col_list[y], col_list[x] = col_list[x], col_list[y]\n",
    "    df = df[col_list]\n",
    "    return df"
   ]
  },
  {
   "cell_type": "code",
   "execution_count": 80,
   "metadata": {},
   "outputs": [],
   "source": [
    "ks1 = swap_columns (ks, 'product_cart', 'product_page')\n",
    "ks2=ks1.copy()"
   ]
  },
  {
   "cell_type": "code",
   "execution_count": 81,
   "metadata": {},
   "outputs": [],
   "source": [
    "ks2['login/users']=(ks2['login']/ks2['users'])-1"
   ]
  },
  {
   "cell_type": "code",
   "execution_count": 82,
   "metadata": {},
   "outputs": [],
   "source": [
    "ks2['product_page/users']=(ks2['product_page']/ks2['users'])-1"
   ]
  },
  {
   "cell_type": "code",
   "execution_count": 83,
   "metadata": {},
   "outputs": [],
   "source": [
    "ks2['product_cart/users']=(ks2['product_cart']/ks2['users'])-1"
   ]
  },
  {
   "cell_type": "code",
   "execution_count": 84,
   "metadata": {},
   "outputs": [
    {
     "data": {
      "text/html": [
       "<div>\n",
       "<style scoped>\n",
       "    .dataframe tbody tr th:only-of-type {\n",
       "        vertical-align: middle;\n",
       "    }\n",
       "\n",
       "    .dataframe tbody tr th {\n",
       "        vertical-align: top;\n",
       "    }\n",
       "\n",
       "    .dataframe thead th {\n",
       "        text-align: right;\n",
       "    }\n",
       "</style>\n",
       "<table border=\"1\" class=\"dataframe\">\n",
       "  <thead>\n",
       "    <tr style=\"text-align: right;\">\n",
       "      <th>event_name</th>\n",
       "      <th>users</th>\n",
       "      <th>login</th>\n",
       "      <th>product_page</th>\n",
       "      <th>product_cart</th>\n",
       "      <th>purchase</th>\n",
       "      <th>login/users</th>\n",
       "      <th>product_page/users</th>\n",
       "      <th>product_cart/users</th>\n",
       "      <th>purchase/users</th>\n",
       "    </tr>\n",
       "    <tr>\n",
       "      <th>group</th>\n",
       "      <th></th>\n",
       "      <th></th>\n",
       "      <th></th>\n",
       "      <th></th>\n",
       "      <th></th>\n",
       "      <th></th>\n",
       "      <th></th>\n",
       "      <th></th>\n",
       "      <th></th>\n",
       "    </tr>\n",
       "  </thead>\n",
       "  <tbody>\n",
       "    <tr>\n",
       "      <th>A</th>\n",
       "      <td>3634</td>\n",
       "      <td>2604</td>\n",
       "      <td>1685</td>\n",
       "      <td>782</td>\n",
       "      <td>833</td>\n",
       "      <td>-0.283434</td>\n",
       "      <td>-0.536324</td>\n",
       "      <td>-0.784810</td>\n",
       "      <td>-0.770776</td>\n",
       "    </tr>\n",
       "    <tr>\n",
       "      <th>B</th>\n",
       "      <td>2717</td>\n",
       "      <td>876</td>\n",
       "      <td>493</td>\n",
       "      <td>244</td>\n",
       "      <td>249</td>\n",
       "      <td>-0.677586</td>\n",
       "      <td>-0.818550</td>\n",
       "      <td>-0.910195</td>\n",
       "      <td>-0.908355</td>\n",
       "    </tr>\n",
       "  </tbody>\n",
       "</table>\n",
       "</div>"
      ],
      "text/plain": [
       "event_name  users  login  product_page  product_cart  purchase  login/users  \\\n",
       "group                                                                         \n",
       "A            3634   2604          1685           782       833    -0.283434   \n",
       "B            2717    876           493           244       249    -0.677586   \n",
       "\n",
       "event_name  product_page/users  product_cart/users  purchase/users  \n",
       "group                                                               \n",
       "A                    -0.536324           -0.784810       -0.770776  \n",
       "B                    -0.818550           -0.910195       -0.908355  "
      ]
     },
     "execution_count": 84,
     "metadata": {},
     "output_type": "execute_result"
    }
   ],
   "source": [
    "ks2['purchase/users']=(ks2['purchase']/ks2['users'])-1\n",
    "ks2"
   ]
  },
  {
   "cell_type": "code",
   "execution_count": 85,
   "metadata": {},
   "outputs": [],
   "source": [
    "ks1=ks1.T"
   ]
  },
  {
   "cell_type": "code",
   "execution_count": 92,
   "metadata": {},
   "outputs": [],
   "source": [
    "fig = px.funnel(ks1)\n",
    "#fig.update_layout(title='Изменение конверсии в воронке в выборках на разных этапах',\n",
    "                   #yaxis_title='Этап')\n",
    "#fig.show() # выводим график"
   ]
  },
  {
   "attachments": {
    "newplot%20%2811%29.png": {
     "image/png": "[encoded data removed]"
    }
   },
   "cell_type": "markdown",
   "metadata": {},
   "source": [
    "![newplot%20%2811%29.png](attachment:newplot%20%2811%29.png)"
   ]
  },
  {
   "cell_type": "markdown",
   "metadata": {},
   "source": [
    "В группе А конверсия в целом распределена равномерно что нельзя сказать про пользователей из группы B. Из начальных 2717 человек, залогинились только 876 человек. И с каждым этапом это число продолжило падать. И купили товар в этой группе только 10%. Для сравнения в группе А эта цифра выше-23%. также следует отметить что, судя по всему, просмотр корзины это не обязательный пункт, так как в корзину зашло меньше человек чем купило товар."
   ]
  },
  {
   "cell_type": "markdown",
   "metadata": {},
   "source": [
    "### Выводы "
   ]
  },
  {
   "cell_type": "markdown",
   "metadata": {},
   "source": [
    "Было выяснено, что:\n",
    "1) Чаще всего в первой группе пользователи совершают 4 или 6 действий. Остальные намного меньше,В группе B количество действий в целом попоставимо с группой А, хотя и несколько уступает. Следует отметить, что группа А значительно превосходит в числе пользователей группу В\n",
    "2) Из 6351 участников теста 2870 человек не совершили ни одного действия. Причем больше всего таких пользователей в группе B. Такие пользователи регистрировались чаще всего 12 и 13 декабря. Возможно технический сбой.\n",
    "3) Пользователи из группы А более активны начиная с 13 декабря по 21 декабря, пользователи из группы В более активны 9,16,21 декабря. К концу теста по какой-то причине намечается спад пользовательской активности\n",
    "4) В группе А конверсия в целом распределена равномерно что нельзя сказать про пользователей из группы B. Из начальных 2717 человек, залогинились только 877 человек. И с каждым этапом это число продолжило падать. И купили товар в этой группе только 10%. Для сравнения в группе А эта цифра выше-23%. также следует отметить что, судя по всему, просмотр корзины это не обязательный пункт, так как в корзину зашло меньше человек чем купило товар.\n",
    "\n",
    "Прежде чем приступать к тесту нужно учесть как эти так и другие факторы которые были рассмотрены в прошлых пунктах, в частности:\n",
    "1) По какой-то причине в тесте участовали люди из других регионов мира(Данные пользователи были удалены)\n",
    "2) Тест пересекался с новогодней распродажей\n",
    "3) Одновременно проводилось 2 теста: recommender_system_test и interface_eu_test и часть пользователей участвовала в обоих тестах"
   ]
  },
  {
   "cell_type": "markdown",
   "metadata": {},
   "source": [
    "## Оценка результатов A/B-тестирования"
   ]
  },
  {
   "cell_type": "markdown",
   "metadata": {},
   "source": [
    "H0 - Доли контрольной и тестовой групп не отличаются друг от друга\n",
    "H1 - Доли контрольной и тестовой групп  отличаются друг от друга"
   ]
  },
  {
   "cell_type": "code",
   "execution_count": 87,
   "metadata": {},
   "outputs": [],
   "source": [
    "def z_test(c,s):\n",
    "\n",
    "    alpha = .05/3 # критический уровень статистической значимости\n",
    "    successes = np.array([c, s])\n",
    "    trials = np.array([ks1['A'][0], ks1['B'][0]])\n",
    "\n",
    "    # пропорция успехов в первой группе:\n",
    "    p1 = successes[0]/trials[0]\n",
    "\n",
    "    # пропорция успехов во второй группе:\n",
    "    p2 = successes[1]/trials[1]\n",
    "\n",
    "    # пропорция успехов в комбинированном датасете:\n",
    "    p_combined = (successes[0] + successes[1]) / (trials[0] + trials[1])\n",
    "\n",
    "    # разница пропорций в датасетах\n",
    "    difference = p1 - p2 \n",
    "    \n",
    "    # считаем статистику в ст.отклонениях стандартного нормального распределения\n",
    "    z_value = difference / mth.sqrt(p_combined * (1 - p_combined) * (1/trials[0] + 1/trials[1]))\n",
    "\n",
    "    # задаем стандартное нормальное распределение (среднее 0, ст.отклонение 1)\n",
    "    distr = st.norm(0, 1)  \n",
    "    p_value = (1 - distr.cdf(abs(z_value))) * 2\n",
    "\n",
    "    print('p-значение: ',\"{0:.20f}\".format(p_value)) \n",
    "\n",
    "    if p_value < alpha:\n",
    "        print('Отвергаем нулевую гипотезу, между долями есть значимая разница')\n",
    "    else:\n",
    "        print(\n",
    "        'Не получилось отвергнуть нулевую гипотезу,нет оснований считать доли разными') \n",
    "        "
   ]
  },
  {
   "cell_type": "code",
   "execution_count": 88,
   "metadata": {},
   "outputs": [
    {
     "data": {
      "text/html": [
       "<div>\n",
       "<style scoped>\n",
       "    .dataframe tbody tr th:only-of-type {\n",
       "        vertical-align: middle;\n",
       "    }\n",
       "\n",
       "    .dataframe tbody tr th {\n",
       "        vertical-align: top;\n",
       "    }\n",
       "\n",
       "    .dataframe thead th {\n",
       "        text-align: right;\n",
       "    }\n",
       "</style>\n",
       "<table border=\"1\" class=\"dataframe\">\n",
       "  <thead>\n",
       "    <tr style=\"text-align: right;\">\n",
       "      <th>group</th>\n",
       "      <th>A</th>\n",
       "      <th>B</th>\n",
       "    </tr>\n",
       "    <tr>\n",
       "      <th>event_name</th>\n",
       "      <th></th>\n",
       "      <th></th>\n",
       "    </tr>\n",
       "  </thead>\n",
       "  <tbody>\n",
       "    <tr>\n",
       "      <th>users</th>\n",
       "      <td>3634</td>\n",
       "      <td>2717</td>\n",
       "    </tr>\n",
       "    <tr>\n",
       "      <th>login</th>\n",
       "      <td>2604</td>\n",
       "      <td>876</td>\n",
       "    </tr>\n",
       "    <tr>\n",
       "      <th>product_page</th>\n",
       "      <td>1685</td>\n",
       "      <td>493</td>\n",
       "    </tr>\n",
       "    <tr>\n",
       "      <th>product_cart</th>\n",
       "      <td>782</td>\n",
       "      <td>244</td>\n",
       "    </tr>\n",
       "    <tr>\n",
       "      <th>purchase</th>\n",
       "      <td>833</td>\n",
       "      <td>249</td>\n",
       "    </tr>\n",
       "  </tbody>\n",
       "</table>\n",
       "</div>"
      ],
      "text/plain": [
       "group            A     B\n",
       "event_name              \n",
       "users         3634  2717\n",
       "login         2604   876\n",
       "product_page  1685   493\n",
       "product_cart   782   244\n",
       "purchase       833   249"
      ]
     },
     "execution_count": 88,
     "metadata": {},
     "output_type": "execute_result"
    }
   ],
   "source": [
    "ks1"
   ]
  },
  {
   "cell_type": "code",
   "execution_count": 89,
   "metadata": {},
   "outputs": [
    {
     "name": "stdout",
     "output_type": "stream",
     "text": [
      "product_page\n",
      "p-значение:  0.00000000000000000000\n",
      "Отвергаем нулевую гипотезу, между долями есть значимая разница\n"
     ]
    }
   ],
   "source": [
    "print('product_page')\n",
    "z_test(ks1['A'][2],ks1['B'][2])"
   ]
  },
  {
   "cell_type": "code",
   "execution_count": 90,
   "metadata": {},
   "outputs": [
    {
     "name": "stdout",
     "output_type": "stream",
     "text": [
      "product_cart\n",
      "p-значение:  0.00000000000000000000\n",
      "Отвергаем нулевую гипотезу, между долями есть значимая разница\n"
     ]
    }
   ],
   "source": [
    "print('product_cart')\n",
    "z_test(ks1['A'][3],ks1['B'][3])"
   ]
  },
  {
   "cell_type": "code",
   "execution_count": 91,
   "metadata": {},
   "outputs": [
    {
     "name": "stdout",
     "output_type": "stream",
     "text": [
      "purchase\n",
      "p-значение:  0.00000000000000000000\n",
      "Отвергаем нулевую гипотезу, между долями есть значимая разница\n"
     ]
    }
   ],
   "source": [
    "print('purchase')\n",
    "z_test(ks1['A'][4],ks1['B'][4])"
   ]
  },
  {
   "cell_type": "markdown",
   "metadata": {},
   "source": [
    "По результатам теста можно сказать, что конверсия в группе B, меньше чем в группе А."
   ]
  },
  {
   "cell_type": "markdown",
   "metadata": {},
   "source": [
    "## Результаты работы "
   ]
  },
  {
   "cell_type": "markdown",
   "metadata": {},
   "source": [
    "1) На этапе предобработки была проведена проверка на наличие пропусков и дубликатов. Были удалены дубликаты и найдены пропуски в датафрейме final_ab_events. Пропуски объясняются тем, что столбец с пропусками хранит в себе данные по стоимости покупки, а они отображаюся только при покупке, событие purchase. Также были приведены столбцы с датой к нужному виду.\n",
    "\n",
    "2) Было выяснено, что:\n",
    "   а) По какой-то причине в тесте участовали люди из других регионов мира(Данные пользователи были удалены)\n",
    "   б) Тест пересекался с новогодней распродажей\n",
    "   в) Одновременно проводилось 2 теста: recommender_system_test и interface_eu_test и часть пользователей участвовала в обоих тестах\n",
    "   г) Чаще всего в первой группе пользователи совершают 4 или 6 действий. Остальные намного меньше,В группе B количество действий в целом попоставимо с группой А, хотя и несколько уступает. Следует отметить, что группа А значительно превосходит в числе пользователей группу В\n",
    "   д) Из 6351 участников теста 2870 человек не совершили ни одного действия. Причем больше всего таких пользователей в группе B. Такие пользователи регистрировались чаще всего 12 и 13 декабря. Возможно технический сбой.\n",
    "   е) Пользователи из группы А более активны начиная с 13 декабря по 21 декабря, пользователи из группы В более активны 9,16,21 декабря. К концу теста по какой-то причине намечается спад пользовательской активности\n",
    "   ж) В группе А конверсия в целом распределена равномерно что нельзя сказать про пользователей из группы B. Из начальных 2717 человек, залогинились только 877 человек. И с каждым этапом это число продолжило падать. И купили товар в этой группе только 10%. Для сравнения в группе А эта цифра выше-23%. также следует отметить что, судя по всему, просмотр корзины это не обязательный пункт, так как в корзину зашло меньше человек чем купило товар.\n",
    "\n",
    "Была проведена проверка гипотезы о том, что в тестовой группе конверсия по каждой метрике улучшится на 10%, z-критерий показал что эта гипотеза ошибочна. Сам A/B тест был проведен не совсем корректно, однако с учетом коррекций которые были проведены  в течении работы, можно сказать что в тестовой группе увеличения конверсии по всем частям воронки не произошло.\n",
    "\n",
    "\n",
    "\n",
    "\n",
    "\n",
    "\n"
   ]
  }
 ],
 "metadata": {
  "ExecuteTimeLog": [
   {
    "duration": 1488,
    "start_time": "2023-03-16T08:03:36.983Z"
   },
   {
    "duration": 66,
    "start_time": "2023-03-16T08:03:38.473Z"
   },
   {
    "duration": 142,
    "start_time": "2023-03-16T08:03:38.541Z"
   },
   {
    "duration": 25,
    "start_time": "2023-03-16T08:04:37.504Z"
   },
   {
    "duration": 67,
    "start_time": "2023-03-16T08:04:37.632Z"
   },
   {
    "duration": 129,
    "start_time": "2023-03-16T08:04:37.816Z"
   },
   {
    "duration": 33,
    "start_time": "2023-03-16T08:04:38.008Z"
   },
   {
    "duration": 1294,
    "start_time": "2023-03-16T08:05:13.155Z"
   },
   {
    "duration": 34,
    "start_time": "2023-03-16T08:05:14.452Z"
   },
   {
    "duration": 81,
    "start_time": "2023-03-16T08:05:14.489Z"
   },
   {
    "duration": 133,
    "start_time": "2023-03-16T08:05:14.571Z"
   },
   {
    "duration": 0,
    "start_time": "2023-03-16T08:05:14.706Z"
   },
   {
    "duration": 0,
    "start_time": "2023-03-16T08:05:14.707Z"
   },
   {
    "duration": 35,
    "start_time": "2023-03-16T08:05:23.432Z"
   },
   {
    "duration": 86,
    "start_time": "2023-03-16T08:05:38.087Z"
   },
   {
    "duration": 39,
    "start_time": "2023-03-16T08:05:44.895Z"
   },
   {
    "duration": 620,
    "start_time": "2023-03-16T08:05:45.097Z"
   },
   {
    "duration": 12,
    "start_time": "2023-03-16T08:05:45.719Z"
   },
   {
    "duration": 11,
    "start_time": "2023-03-16T08:05:57.322Z"
   },
   {
    "duration": 8,
    "start_time": "2023-03-16T08:21:09.224Z"
   },
   {
    "duration": 19,
    "start_time": "2023-03-16T08:21:09.484Z"
   },
   {
    "duration": 8,
    "start_time": "2023-03-16T08:21:36.831Z"
   },
   {
    "duration": 13,
    "start_time": "2023-03-16T08:21:37.220Z"
   },
   {
    "duration": 10,
    "start_time": "2023-03-16T08:21:52.495Z"
   },
   {
    "duration": 69,
    "start_time": "2023-03-16T08:21:52.719Z"
   },
   {
    "duration": 5,
    "start_time": "2023-03-16T08:46:02.192Z"
   },
   {
    "duration": 5,
    "start_time": "2023-03-16T08:47:21.229Z"
   },
   {
    "duration": 12,
    "start_time": "2023-03-16T08:47:21.576Z"
   },
   {
    "duration": 110,
    "start_time": "2023-03-16T08:47:21.928Z"
   },
   {
    "duration": 4,
    "start_time": "2023-03-16T08:47:24.966Z"
   },
   {
    "duration": 14,
    "start_time": "2023-03-16T08:47:25.343Z"
   },
   {
    "duration": 29,
    "start_time": "2023-03-16T08:47:25.836Z"
   },
   {
    "duration": 54,
    "start_time": "2023-03-16T08:49:38.482Z"
   },
   {
    "duration": 6,
    "start_time": "2023-03-16T08:50:27.975Z"
   },
   {
    "duration": 7,
    "start_time": "2023-03-16T08:51:06.232Z"
   },
   {
    "duration": 28,
    "start_time": "2023-03-16T08:51:19.871Z"
   },
   {
    "duration": 13,
    "start_time": "2023-03-16T08:51:22.055Z"
   },
   {
    "duration": 8,
    "start_time": "2023-03-16T08:52:39.033Z"
   },
   {
    "duration": 11,
    "start_time": "2023-03-16T08:52:39.287Z"
   },
   {
    "duration": 42,
    "start_time": "2023-03-16T08:53:06.468Z"
   },
   {
    "duration": 166,
    "start_time": "2023-03-16T08:53:35.624Z"
   },
   {
    "duration": 52,
    "start_time": "2023-03-16T08:53:36.337Z"
   },
   {
    "duration": 195,
    "start_time": "2023-03-16T08:54:03.996Z"
   },
   {
    "duration": 49,
    "start_time": "2023-03-16T08:54:04.857Z"
   },
   {
    "duration": 9,
    "start_time": "2023-03-16T08:55:33.248Z"
   },
   {
    "duration": 42,
    "start_time": "2023-03-16T09:00:12.324Z"
   },
   {
    "duration": 24,
    "start_time": "2023-03-16T09:01:27.116Z"
   },
   {
    "duration": 5,
    "start_time": "2023-03-16T09:02:45.618Z"
   },
   {
    "duration": 3,
    "start_time": "2023-03-16T09:02:46.013Z"
   },
   {
    "duration": 11,
    "start_time": "2023-03-16T09:02:46.447Z"
   },
   {
    "duration": 4,
    "start_time": "2023-03-16T09:02:47.085Z"
   },
   {
    "duration": 19,
    "start_time": "2023-03-16T09:02:47.689Z"
   },
   {
    "duration": 19,
    "start_time": "2023-03-16T09:04:30.032Z"
   },
   {
    "duration": 12,
    "start_time": "2023-03-16T09:04:55.182Z"
   },
   {
    "duration": 9,
    "start_time": "2023-03-16T09:04:55.437Z"
   },
   {
    "duration": 7,
    "start_time": "2023-03-16T09:09:03.401Z"
   },
   {
    "duration": 22,
    "start_time": "2023-03-16T09:09:15.323Z"
   },
   {
    "duration": 7,
    "start_time": "2023-03-16T09:09:22.738Z"
   },
   {
    "duration": 19,
    "start_time": "2023-03-16T09:09:23.004Z"
   },
   {
    "duration": 22,
    "start_time": "2023-03-16T09:09:48.888Z"
   },
   {
    "duration": 22,
    "start_time": "2023-03-16T09:10:13.104Z"
   },
   {
    "duration": 9,
    "start_time": "2023-03-16T09:11:05.848Z"
   },
   {
    "duration": 7,
    "start_time": "2023-03-16T09:11:08.438Z"
   },
   {
    "duration": 20,
    "start_time": "2023-03-16T09:11:08.592Z"
   },
   {
    "duration": 21,
    "start_time": "2023-03-16T09:11:08.753Z"
   },
   {
    "duration": 7,
    "start_time": "2023-03-16T09:11:08.984Z"
   },
   {
    "duration": 16,
    "start_time": "2023-03-16T09:11:39.756Z"
   },
   {
    "duration": 4,
    "start_time": "2023-03-16T09:11:51.240Z"
   },
   {
    "duration": 7,
    "start_time": "2023-03-16T09:14:20.584Z"
   },
   {
    "duration": 12,
    "start_time": "2023-03-16T09:15:06.831Z"
   },
   {
    "duration": 10,
    "start_time": "2023-03-16T09:15:09.704Z"
   },
   {
    "duration": 6,
    "start_time": "2023-03-16T09:15:09.832Z"
   },
   {
    "duration": 21,
    "start_time": "2023-03-16T09:15:10.011Z"
   },
   {
    "duration": 157,
    "start_time": "2023-03-16T09:17:56.780Z"
   },
   {
    "duration": 23,
    "start_time": "2023-03-16T09:18:07.454Z"
   },
   {
    "duration": 311,
    "start_time": "2023-03-16T09:19:19.318Z"
   },
   {
    "duration": 431,
    "start_time": "2023-03-16T09:19:54.419Z"
   },
   {
    "duration": 347,
    "start_time": "2023-03-16T09:20:18.394Z"
   },
   {
    "duration": 337,
    "start_time": "2023-03-16T09:20:46.714Z"
   },
   {
    "duration": 16,
    "start_time": "2023-03-16T09:22:18.405Z"
   },
   {
    "duration": 9,
    "start_time": "2023-03-16T09:33:36.228Z"
   },
   {
    "duration": 13,
    "start_time": "2023-03-16T09:45:18.008Z"
   },
   {
    "duration": 16,
    "start_time": "2023-03-16T09:45:31.627Z"
   },
   {
    "duration": 15,
    "start_time": "2023-03-16T09:47:41.535Z"
   },
   {
    "duration": 11,
    "start_time": "2023-03-16T09:48:15.648Z"
   },
   {
    "duration": 23,
    "start_time": "2023-03-16T09:53:22.688Z"
   },
   {
    "duration": 49,
    "start_time": "2023-03-16T09:55:47.632Z"
   },
   {
    "duration": 4,
    "start_time": "2023-03-16T09:55:52.987Z"
   },
   {
    "duration": 4,
    "start_time": "2023-03-16T09:55:57.479Z"
   },
   {
    "duration": 735,
    "start_time": "2023-03-16T09:57:48.242Z"
   },
   {
    "duration": 823,
    "start_time": "2023-03-16T09:58:04.431Z"
   },
   {
    "duration": 10,
    "start_time": "2023-03-16T09:58:54.112Z"
   },
   {
    "duration": 27,
    "start_time": "2023-03-16T10:01:38.409Z"
   },
   {
    "duration": 1379,
    "start_time": "2023-03-16T10:01:45.749Z"
   },
   {
    "duration": 27,
    "start_time": "2023-03-16T10:01:47.130Z"
   },
   {
    "duration": 91,
    "start_time": "2023-03-16T10:01:47.159Z"
   },
   {
    "duration": 31,
    "start_time": "2023-03-16T10:01:47.253Z"
   },
   {
    "duration": 546,
    "start_time": "2023-03-16T10:01:47.287Z"
   },
   {
    "duration": 13,
    "start_time": "2023-03-16T10:01:47.835Z"
   },
   {
    "duration": 11,
    "start_time": "2023-03-16T10:01:47.850Z"
   },
   {
    "duration": 29,
    "start_time": "2023-03-16T10:01:47.862Z"
   },
   {
    "duration": 29,
    "start_time": "2023-03-16T10:01:47.895Z"
   },
   {
    "duration": 9,
    "start_time": "2023-03-16T10:01:47.926Z"
   },
   {
    "duration": 17,
    "start_time": "2023-03-16T10:01:47.937Z"
   },
   {
    "duration": 36,
    "start_time": "2023-03-16T10:01:47.956Z"
   },
   {
    "duration": 72,
    "start_time": "2023-03-16T10:01:47.995Z"
   },
   {
    "duration": 5,
    "start_time": "2023-03-16T10:01:48.070Z"
   },
   {
    "duration": 34,
    "start_time": "2023-03-16T10:01:48.077Z"
   },
   {
    "duration": 131,
    "start_time": "2023-03-16T10:01:48.113Z"
   },
   {
    "duration": 7,
    "start_time": "2023-03-16T10:01:48.245Z"
   },
   {
    "duration": 9,
    "start_time": "2023-03-16T10:01:48.253Z"
   },
   {
    "duration": 44,
    "start_time": "2023-03-16T10:01:48.264Z"
   },
   {
    "duration": 46,
    "start_time": "2023-03-16T10:01:48.311Z"
   },
   {
    "duration": 9,
    "start_time": "2023-03-16T10:01:48.359Z"
   },
   {
    "duration": 29,
    "start_time": "2023-03-16T10:01:48.369Z"
   },
   {
    "duration": 216,
    "start_time": "2023-03-16T10:01:48.401Z"
   },
   {
    "duration": 227,
    "start_time": "2023-03-16T10:01:48.619Z"
   },
   {
    "duration": 52,
    "start_time": "2023-03-16T10:01:48.848Z"
   },
   {
    "duration": 13,
    "start_time": "2023-03-16T10:01:48.905Z"
   },
   {
    "duration": 43,
    "start_time": "2023-03-16T10:01:48.920Z"
   },
   {
    "duration": 19,
    "start_time": "2023-03-16T10:01:48.990Z"
   },
   {
    "duration": 5,
    "start_time": "2023-03-16T10:01:49.011Z"
   },
   {
    "duration": 8,
    "start_time": "2023-03-16T10:01:49.018Z"
   },
   {
    "duration": 15,
    "start_time": "2023-03-16T10:01:49.028Z"
   },
   {
    "duration": 5,
    "start_time": "2023-03-16T10:01:49.045Z"
   },
   {
    "duration": 48,
    "start_time": "2023-03-16T10:01:49.052Z"
   },
   {
    "duration": 10,
    "start_time": "2023-03-16T10:01:49.102Z"
   },
   {
    "duration": 18,
    "start_time": "2023-03-16T10:01:49.114Z"
   },
   {
    "duration": 11,
    "start_time": "2023-03-16T10:01:49.134Z"
   },
   {
    "duration": 11,
    "start_time": "2023-03-16T10:01:49.148Z"
   },
   {
    "duration": 55,
    "start_time": "2023-03-16T10:01:49.162Z"
   },
   {
    "duration": 18,
    "start_time": "2023-03-16T10:01:49.219Z"
   },
   {
    "duration": 4,
    "start_time": "2023-03-16T10:01:49.239Z"
   },
   {
    "duration": 9,
    "start_time": "2023-03-16T10:01:49.247Z"
   },
   {
    "duration": 6,
    "start_time": "2023-03-16T10:01:49.258Z"
   },
   {
    "duration": 50,
    "start_time": "2023-03-16T10:01:49.265Z"
   },
   {
    "duration": 12,
    "start_time": "2023-03-16T10:01:49.317Z"
   },
   {
    "duration": 23,
    "start_time": "2023-03-16T10:01:49.331Z"
   },
   {
    "duration": 3,
    "start_time": "2023-03-16T10:01:49.356Z"
   },
   {
    "duration": 136,
    "start_time": "2023-03-16T10:01:49.390Z"
   },
   {
    "duration": 0,
    "start_time": "2023-03-16T10:01:49.527Z"
   },
   {
    "duration": 0,
    "start_time": "2023-03-16T10:01:49.529Z"
   },
   {
    "duration": 0,
    "start_time": "2023-03-16T10:01:49.531Z"
   },
   {
    "duration": 0,
    "start_time": "2023-03-16T10:01:49.533Z"
   },
   {
    "duration": 11,
    "start_time": "2023-03-16T10:01:56.632Z"
   },
   {
    "duration": 28,
    "start_time": "2023-03-16T10:01:57.372Z"
   },
   {
    "duration": 12,
    "start_time": "2023-03-16T10:03:54.267Z"
   },
   {
    "duration": 17,
    "start_time": "2023-03-16T10:04:00.360Z"
   },
   {
    "duration": 28,
    "start_time": "2023-03-16T10:04:13.303Z"
   },
   {
    "duration": 29,
    "start_time": "2023-03-16T10:04:26.188Z"
   },
   {
    "duration": 1372,
    "start_time": "2023-03-16T10:05:04.925Z"
   },
   {
    "duration": 28,
    "start_time": "2023-03-16T10:05:06.301Z"
   },
   {
    "duration": 74,
    "start_time": "2023-03-16T10:05:06.330Z"
   },
   {
    "duration": 39,
    "start_time": "2023-03-16T10:05:06.408Z"
   },
   {
    "duration": 630,
    "start_time": "2023-03-16T10:05:06.450Z"
   },
   {
    "duration": 15,
    "start_time": "2023-03-16T10:05:07.082Z"
   },
   {
    "duration": 32,
    "start_time": "2023-03-16T10:05:07.100Z"
   },
   {
    "duration": 34,
    "start_time": "2023-03-16T10:05:07.134Z"
   },
   {
    "duration": 55,
    "start_time": "2023-03-16T10:05:07.170Z"
   },
   {
    "duration": 32,
    "start_time": "2023-03-16T10:05:07.227Z"
   },
   {
    "duration": 31,
    "start_time": "2023-03-16T10:05:07.262Z"
   },
   {
    "duration": 25,
    "start_time": "2023-03-16T10:05:07.295Z"
   },
   {
    "duration": 111,
    "start_time": "2023-03-16T10:05:07.322Z"
   },
   {
    "duration": 5,
    "start_time": "2023-03-16T10:05:07.436Z"
   },
   {
    "duration": 20,
    "start_time": "2023-03-16T10:05:07.443Z"
   },
   {
    "duration": 136,
    "start_time": "2023-03-16T10:05:07.464Z"
   },
   {
    "duration": 11,
    "start_time": "2023-03-16T10:05:07.602Z"
   },
   {
    "duration": 15,
    "start_time": "2023-03-16T10:05:07.615Z"
   },
   {
    "duration": 22,
    "start_time": "2023-03-16T10:05:07.631Z"
   },
   {
    "duration": 62,
    "start_time": "2023-03-16T10:05:07.655Z"
   },
   {
    "duration": 8,
    "start_time": "2023-03-16T10:05:07.719Z"
   },
   {
    "duration": 17,
    "start_time": "2023-03-16T10:05:07.729Z"
   },
   {
    "duration": 205,
    "start_time": "2023-03-16T10:05:07.749Z"
   },
   {
    "duration": 216,
    "start_time": "2023-03-16T10:05:07.956Z"
   },
   {
    "duration": 58,
    "start_time": "2023-03-16T10:05:08.174Z"
   },
   {
    "duration": 21,
    "start_time": "2023-03-16T10:05:08.234Z"
   },
   {
    "duration": 89,
    "start_time": "2023-03-16T10:05:08.257Z"
   },
   {
    "duration": 51,
    "start_time": "2023-03-16T10:05:08.348Z"
   },
   {
    "duration": 17,
    "start_time": "2023-03-16T10:05:08.401Z"
   },
   {
    "duration": 10,
    "start_time": "2023-03-16T10:05:08.420Z"
   },
   {
    "duration": 26,
    "start_time": "2023-03-16T10:05:08.432Z"
   },
   {
    "duration": 18,
    "start_time": "2023-03-16T10:05:08.460Z"
   },
   {
    "duration": 41,
    "start_time": "2023-03-16T10:05:08.481Z"
   },
   {
    "duration": 7,
    "start_time": "2023-03-16T10:05:08.523Z"
   },
   {
    "duration": 17,
    "start_time": "2023-03-16T10:05:08.532Z"
   },
   {
    "duration": 20,
    "start_time": "2023-03-16T10:05:08.551Z"
   },
   {
    "duration": 7,
    "start_time": "2023-03-16T10:05:08.574Z"
   },
   {
    "duration": 30,
    "start_time": "2023-03-16T10:05:08.583Z"
   },
   {
    "duration": 19,
    "start_time": "2023-03-16T10:05:08.615Z"
   },
   {
    "duration": 8,
    "start_time": "2023-03-16T10:05:08.636Z"
   },
   {
    "duration": 9,
    "start_time": "2023-03-16T10:05:08.649Z"
   },
   {
    "duration": 39,
    "start_time": "2023-03-16T10:05:08.660Z"
   },
   {
    "duration": 24,
    "start_time": "2023-03-16T10:05:08.703Z"
   },
   {
    "duration": 20,
    "start_time": "2023-03-16T10:05:08.729Z"
   },
   {
    "duration": 28,
    "start_time": "2023-03-16T10:05:08.751Z"
   },
   {
    "duration": 10,
    "start_time": "2023-03-16T10:05:08.781Z"
   },
   {
    "duration": 160,
    "start_time": "2023-03-16T10:05:08.797Z"
   },
   {
    "duration": 0,
    "start_time": "2023-03-16T10:05:08.959Z"
   },
   {
    "duration": 0,
    "start_time": "2023-03-16T10:05:08.960Z"
   },
   {
    "duration": 0,
    "start_time": "2023-03-16T10:05:08.961Z"
   },
   {
    "duration": 0,
    "start_time": "2023-03-16T10:05:08.962Z"
   },
   {
    "duration": 20,
    "start_time": "2023-03-16T10:06:09.476Z"
   },
   {
    "duration": 7,
    "start_time": "2023-03-16T10:09:45.275Z"
   },
   {
    "duration": 23,
    "start_time": "2023-03-16T10:10:02.272Z"
   },
   {
    "duration": 17,
    "start_time": "2023-03-16T10:15:24.684Z"
   },
   {
    "duration": 17,
    "start_time": "2023-03-16T10:15:59.032Z"
   },
   {
    "duration": 14,
    "start_time": "2023-03-16T10:16:09.624Z"
   },
   {
    "duration": 25,
    "start_time": "2023-03-16T10:18:41.305Z"
   },
   {
    "duration": 36,
    "start_time": "2023-03-16T10:18:55.752Z"
   },
   {
    "duration": 20,
    "start_time": "2023-03-16T10:21:49.712Z"
   },
   {
    "duration": 10,
    "start_time": "2023-03-16T10:22:36.618Z"
   },
   {
    "duration": 17,
    "start_time": "2023-03-16T10:22:47.999Z"
   },
   {
    "duration": 23,
    "start_time": "2023-03-16T10:24:32.219Z"
   },
   {
    "duration": 22,
    "start_time": "2023-03-16T10:25:01.213Z"
   },
   {
    "duration": 19,
    "start_time": "2023-03-16T10:25:32.314Z"
   },
   {
    "duration": 30,
    "start_time": "2023-03-16T10:25:41.627Z"
   },
   {
    "duration": 25,
    "start_time": "2023-03-16T10:25:59.020Z"
   },
   {
    "duration": 49,
    "start_time": "2023-03-16T10:26:11.028Z"
   },
   {
    "duration": 23,
    "start_time": "2023-03-16T10:26:18.083Z"
   },
   {
    "duration": 10,
    "start_time": "2023-03-16T10:30:14.820Z"
   },
   {
    "duration": 7,
    "start_time": "2023-03-16T10:30:26.127Z"
   },
   {
    "duration": 10,
    "start_time": "2023-03-16T10:33:49.597Z"
   },
   {
    "duration": 1251,
    "start_time": "2023-03-16T10:34:03.209Z"
   },
   {
    "duration": 28,
    "start_time": "2023-03-16T10:34:04.462Z"
   },
   {
    "duration": 81,
    "start_time": "2023-03-16T10:34:04.492Z"
   },
   {
    "duration": 26,
    "start_time": "2023-03-16T10:34:04.575Z"
   },
   {
    "duration": 528,
    "start_time": "2023-03-16T10:34:04.603Z"
   },
   {
    "duration": 12,
    "start_time": "2023-03-16T10:34:05.133Z"
   },
   {
    "duration": 13,
    "start_time": "2023-03-16T10:34:05.147Z"
   },
   {
    "duration": 23,
    "start_time": "2023-03-16T10:34:05.162Z"
   },
   {
    "duration": 28,
    "start_time": "2023-03-16T10:34:05.187Z"
   },
   {
    "duration": 10,
    "start_time": "2023-03-16T10:34:05.217Z"
   },
   {
    "duration": 18,
    "start_time": "2023-03-16T10:34:05.229Z"
   },
   {
    "duration": 12,
    "start_time": "2023-03-16T10:34:05.249Z"
   },
   {
    "duration": 131,
    "start_time": "2023-03-16T10:34:05.263Z"
   },
   {
    "duration": 7,
    "start_time": "2023-03-16T10:34:05.398Z"
   },
   {
    "duration": 21,
    "start_time": "2023-03-16T10:34:05.407Z"
   },
   {
    "duration": 128,
    "start_time": "2023-03-16T10:34:05.430Z"
   },
   {
    "duration": 6,
    "start_time": "2023-03-16T10:34:05.560Z"
   },
   {
    "duration": 12,
    "start_time": "2023-03-16T10:34:05.567Z"
   },
   {
    "duration": 13,
    "start_time": "2023-03-16T10:34:05.590Z"
   },
   {
    "duration": 34,
    "start_time": "2023-03-16T10:34:05.605Z"
   },
   {
    "duration": 8,
    "start_time": "2023-03-16T10:34:05.641Z"
   },
   {
    "duration": 22,
    "start_time": "2023-03-16T10:34:05.651Z"
   },
   {
    "duration": 185,
    "start_time": "2023-03-16T10:34:05.690Z"
   },
   {
    "duration": 203,
    "start_time": "2023-03-16T10:34:05.876Z"
   },
   {
    "duration": 53,
    "start_time": "2023-03-16T10:34:06.081Z"
   },
   {
    "duration": 8,
    "start_time": "2023-03-16T10:34:06.136Z"
   },
   {
    "duration": 68,
    "start_time": "2023-03-16T10:34:06.146Z"
   },
   {
    "duration": 44,
    "start_time": "2023-03-16T10:34:06.215Z"
   },
   {
    "duration": 6,
    "start_time": "2023-03-16T10:34:06.261Z"
   },
   {
    "duration": 10,
    "start_time": "2023-03-16T10:34:06.270Z"
   },
   {
    "duration": 17,
    "start_time": "2023-03-16T10:34:06.282Z"
   },
   {
    "duration": 20,
    "start_time": "2023-03-16T10:34:06.300Z"
   },
   {
    "duration": 49,
    "start_time": "2023-03-16T10:34:06.322Z"
   },
   {
    "duration": 17,
    "start_time": "2023-03-16T10:34:06.373Z"
   },
   {
    "duration": 21,
    "start_time": "2023-03-16T10:34:06.392Z"
   },
   {
    "duration": 33,
    "start_time": "2023-03-16T10:34:06.416Z"
   },
   {
    "duration": 44,
    "start_time": "2023-03-16T10:34:06.451Z"
   },
   {
    "duration": 37,
    "start_time": "2023-03-16T10:34:06.497Z"
   },
   {
    "duration": 29,
    "start_time": "2023-03-16T10:34:06.535Z"
   },
   {
    "duration": 6,
    "start_time": "2023-03-16T10:34:06.566Z"
   },
   {
    "duration": 9,
    "start_time": "2023-03-16T10:34:06.589Z"
   },
   {
    "duration": 7,
    "start_time": "2023-03-16T10:34:06.600Z"
   },
   {
    "duration": 30,
    "start_time": "2023-03-16T10:34:06.608Z"
   },
   {
    "duration": 24,
    "start_time": "2023-03-16T10:34:06.640Z"
   },
   {
    "duration": 169,
    "start_time": "2023-03-16T10:34:06.666Z"
   },
   {
    "duration": 22,
    "start_time": "2023-03-16T10:34:06.837Z"
   },
   {
    "duration": 311,
    "start_time": "2023-03-16T10:34:06.861Z"
   },
   {
    "duration": 17,
    "start_time": "2023-03-16T10:34:07.174Z"
   },
   {
    "duration": 31,
    "start_time": "2023-03-16T10:34:07.193Z"
   },
   {
    "duration": 317,
    "start_time": "2023-03-16T10:34:19.429Z"
   },
   {
    "duration": 299,
    "start_time": "2023-03-16T10:37:24.340Z"
   },
   {
    "duration": 259,
    "start_time": "2023-03-16T10:37:59.504Z"
   },
   {
    "duration": 253,
    "start_time": "2023-03-16T10:41:32.530Z"
   },
   {
    "duration": 12,
    "start_time": "2023-03-16T10:43:42.304Z"
   },
   {
    "duration": 23,
    "start_time": "2023-03-16T10:44:39.254Z"
   },
   {
    "duration": 22,
    "start_time": "2023-03-16T10:47:38.276Z"
   },
   {
    "duration": 15,
    "start_time": "2023-03-16T10:48:07.983Z"
   },
   {
    "duration": 14,
    "start_time": "2023-03-16T10:48:30.179Z"
   },
   {
    "duration": 6,
    "start_time": "2023-03-16T10:48:30.395Z"
   },
   {
    "duration": 480,
    "start_time": "2023-03-16T10:48:30.743Z"
   },
   {
    "duration": 54,
    "start_time": "2023-03-16T10:49:18.411Z"
   },
   {
    "duration": 61,
    "start_time": "2023-03-16T10:50:08.407Z"
   },
   {
    "duration": 20,
    "start_time": "2023-03-16T10:51:42.502Z"
   },
   {
    "duration": 157,
    "start_time": "2023-03-16T10:55:45.867Z"
   },
   {
    "duration": 18,
    "start_time": "2023-03-16T10:55:50.588Z"
   },
   {
    "duration": 12,
    "start_time": "2023-03-16T11:01:05.268Z"
   },
   {
    "duration": 24,
    "start_time": "2023-03-16T11:01:05.719Z"
   },
   {
    "duration": 3,
    "start_time": "2023-03-16T11:05:13.791Z"
   },
   {
    "duration": 3,
    "start_time": "2023-03-16T11:05:14.181Z"
   },
   {
    "duration": 16,
    "start_time": "2023-03-16T11:05:20.519Z"
   },
   {
    "duration": 14,
    "start_time": "2023-03-16T11:05:25.747Z"
   },
   {
    "duration": 3,
    "start_time": "2023-03-16T11:05:31.447Z"
   },
   {
    "duration": 13,
    "start_time": "2023-03-16T11:05:31.638Z"
   },
   {
    "duration": 8,
    "start_time": "2023-03-16T11:05:38.834Z"
   },
   {
    "duration": 1342,
    "start_time": "2023-03-16T11:05:45.484Z"
   },
   {
    "duration": 27,
    "start_time": "2023-03-16T11:05:46.828Z"
   },
   {
    "duration": 68,
    "start_time": "2023-03-16T11:05:46.856Z"
   },
   {
    "duration": 27,
    "start_time": "2023-03-16T11:05:46.927Z"
   },
   {
    "duration": 489,
    "start_time": "2023-03-16T11:05:46.957Z"
   },
   {
    "duration": 12,
    "start_time": "2023-03-16T11:05:47.447Z"
   },
   {
    "duration": 15,
    "start_time": "2023-03-16T11:05:47.460Z"
   },
   {
    "duration": 18,
    "start_time": "2023-03-16T11:05:47.476Z"
   },
   {
    "duration": 24,
    "start_time": "2023-03-16T11:05:47.496Z"
   },
   {
    "duration": 8,
    "start_time": "2023-03-16T11:05:47.521Z"
   },
   {
    "duration": 13,
    "start_time": "2023-03-16T11:05:47.530Z"
   },
   {
    "duration": 12,
    "start_time": "2023-03-16T11:05:47.545Z"
   },
   {
    "duration": 79,
    "start_time": "2023-03-16T11:05:47.559Z"
   },
   {
    "duration": 5,
    "start_time": "2023-03-16T11:05:47.641Z"
   },
   {
    "duration": 17,
    "start_time": "2023-03-16T11:05:47.647Z"
   },
   {
    "duration": 135,
    "start_time": "2023-03-16T11:05:47.665Z"
   },
   {
    "duration": 6,
    "start_time": "2023-03-16T11:05:47.802Z"
   },
   {
    "duration": 8,
    "start_time": "2023-03-16T11:05:47.809Z"
   },
   {
    "duration": 16,
    "start_time": "2023-03-16T11:05:47.819Z"
   },
   {
    "duration": 43,
    "start_time": "2023-03-16T11:05:47.836Z"
   },
   {
    "duration": 12,
    "start_time": "2023-03-16T11:05:47.881Z"
   },
   {
    "duration": 15,
    "start_time": "2023-03-16T11:05:47.895Z"
   },
   {
    "duration": 171,
    "start_time": "2023-03-16T11:05:47.911Z"
   },
   {
    "duration": 194,
    "start_time": "2023-03-16T11:05:48.089Z"
   },
   {
    "duration": 44,
    "start_time": "2023-03-16T11:05:48.284Z"
   },
   {
    "duration": 9,
    "start_time": "2023-03-16T11:05:48.329Z"
   },
   {
    "duration": 59,
    "start_time": "2023-03-16T11:05:48.339Z"
   },
   {
    "duration": 16,
    "start_time": "2023-03-16T11:05:48.399Z"
   },
   {
    "duration": 3,
    "start_time": "2023-03-16T11:05:48.417Z"
   },
   {
    "duration": 10,
    "start_time": "2023-03-16T11:05:48.422Z"
   },
   {
    "duration": 15,
    "start_time": "2023-03-16T11:05:48.434Z"
   },
   {
    "duration": 6,
    "start_time": "2023-03-16T11:05:48.451Z"
   },
   {
    "duration": 32,
    "start_time": "2023-03-16T11:05:48.459Z"
   },
   {
    "duration": 6,
    "start_time": "2023-03-16T11:05:48.493Z"
   },
   {
    "duration": 10,
    "start_time": "2023-03-16T11:05:48.500Z"
   },
   {
    "duration": 11,
    "start_time": "2023-03-16T11:05:48.511Z"
   },
   {
    "duration": 9,
    "start_time": "2023-03-16T11:05:48.523Z"
   },
   {
    "duration": 22,
    "start_time": "2023-03-16T11:05:48.534Z"
   },
   {
    "duration": 42,
    "start_time": "2023-03-16T11:05:48.557Z"
   },
   {
    "duration": 4,
    "start_time": "2023-03-16T11:05:48.601Z"
   },
   {
    "duration": 9,
    "start_time": "2023-03-16T11:05:48.609Z"
   },
   {
    "duration": 9,
    "start_time": "2023-03-16T11:05:48.620Z"
   },
   {
    "duration": 20,
    "start_time": "2023-03-16T11:05:48.631Z"
   },
   {
    "duration": 38,
    "start_time": "2023-03-16T11:05:48.653Z"
   },
   {
    "duration": 140,
    "start_time": "2023-03-16T11:05:48.692Z"
   },
   {
    "duration": 23,
    "start_time": "2023-03-16T11:05:48.834Z"
   },
   {
    "duration": 292,
    "start_time": "2023-03-16T11:05:48.859Z"
   },
   {
    "duration": 10,
    "start_time": "2023-03-16T11:05:49.153Z"
   },
   {
    "duration": 30,
    "start_time": "2023-03-16T11:05:49.165Z"
   },
   {
    "duration": 320,
    "start_time": "2023-03-16T11:05:49.196Z"
   },
   {
    "duration": 248,
    "start_time": "2023-03-16T11:05:49.518Z"
   },
   {
    "duration": 22,
    "start_time": "2023-03-16T11:05:49.768Z"
   },
   {
    "duration": 4,
    "start_time": "2023-03-16T11:05:49.791Z"
   },
   {
    "duration": 362,
    "start_time": "2023-03-16T11:05:49.797Z"
   },
   {
    "duration": 59,
    "start_time": "2023-03-16T11:05:50.160Z"
   },
   {
    "duration": 70,
    "start_time": "2023-03-16T11:05:50.221Z"
   },
   {
    "duration": 23,
    "start_time": "2023-03-16T11:05:50.293Z"
   },
   {
    "duration": 2,
    "start_time": "2023-03-16T11:05:50.318Z"
   },
   {
    "duration": 9,
    "start_time": "2023-03-16T11:05:50.322Z"
   },
   {
    "duration": 7,
    "start_time": "2023-03-16T11:05:50.333Z"
   },
   {
    "duration": 158,
    "start_time": "2023-03-16T11:06:29.219Z"
   },
   {
    "duration": 14,
    "start_time": "2023-03-16T11:06:39.452Z"
   },
   {
    "duration": 1301,
    "start_time": "2023-03-16T11:06:44.099Z"
   },
   {
    "duration": 26,
    "start_time": "2023-03-16T11:06:45.402Z"
   },
   {
    "duration": 68,
    "start_time": "2023-03-16T11:06:45.430Z"
   },
   {
    "duration": 26,
    "start_time": "2023-03-16T11:06:45.500Z"
   },
   {
    "duration": 470,
    "start_time": "2023-03-16T11:06:45.528Z"
   },
   {
    "duration": 12,
    "start_time": "2023-03-16T11:06:46.000Z"
   },
   {
    "duration": 10,
    "start_time": "2023-03-16T11:06:46.014Z"
   },
   {
    "duration": 12,
    "start_time": "2023-03-16T11:06:46.025Z"
   },
   {
    "duration": 21,
    "start_time": "2023-03-16T11:06:46.039Z"
   },
   {
    "duration": 28,
    "start_time": "2023-03-16T11:06:46.062Z"
   },
   {
    "duration": 13,
    "start_time": "2023-03-16T11:06:46.092Z"
   },
   {
    "duration": 14,
    "start_time": "2023-03-16T11:06:46.109Z"
   },
   {
    "duration": 78,
    "start_time": "2023-03-16T11:06:46.125Z"
   },
   {
    "duration": 5,
    "start_time": "2023-03-16T11:06:46.205Z"
   },
   {
    "duration": 23,
    "start_time": "2023-03-16T11:06:46.212Z"
   },
   {
    "duration": 119,
    "start_time": "2023-03-16T11:06:46.236Z"
   },
   {
    "duration": 6,
    "start_time": "2023-03-16T11:06:46.357Z"
   },
   {
    "duration": 24,
    "start_time": "2023-03-16T11:06:46.365Z"
   },
   {
    "duration": 16,
    "start_time": "2023-03-16T11:06:46.391Z"
   },
   {
    "duration": 31,
    "start_time": "2023-03-16T11:06:46.408Z"
   },
   {
    "duration": 9,
    "start_time": "2023-03-16T11:06:46.441Z"
   },
   {
    "duration": 23,
    "start_time": "2023-03-16T11:06:46.452Z"
   },
   {
    "duration": 181,
    "start_time": "2023-03-16T11:06:46.489Z"
   },
   {
    "duration": 208,
    "start_time": "2023-03-16T11:06:46.672Z"
   },
   {
    "duration": 42,
    "start_time": "2023-03-16T11:06:46.882Z"
   },
   {
    "duration": 13,
    "start_time": "2023-03-16T11:06:46.925Z"
   },
   {
    "duration": 57,
    "start_time": "2023-03-16T11:06:46.940Z"
   },
   {
    "duration": 18,
    "start_time": "2023-03-16T11:06:47.001Z"
   },
   {
    "duration": 4,
    "start_time": "2023-03-16T11:06:47.020Z"
   },
   {
    "duration": 9,
    "start_time": "2023-03-16T11:06:47.025Z"
   },
   {
    "duration": 11,
    "start_time": "2023-03-16T11:06:47.035Z"
   },
   {
    "duration": 5,
    "start_time": "2023-03-16T11:06:47.047Z"
   },
   {
    "duration": 46,
    "start_time": "2023-03-16T11:06:47.054Z"
   },
   {
    "duration": 8,
    "start_time": "2023-03-16T11:06:47.101Z"
   },
   {
    "duration": 13,
    "start_time": "2023-03-16T11:06:47.110Z"
   },
   {
    "duration": 11,
    "start_time": "2023-03-16T11:06:47.125Z"
   },
   {
    "duration": 9,
    "start_time": "2023-03-16T11:06:47.137Z"
   },
   {
    "duration": 51,
    "start_time": "2023-03-16T11:06:47.148Z"
   },
   {
    "duration": 16,
    "start_time": "2023-03-16T11:06:47.201Z"
   },
   {
    "duration": 4,
    "start_time": "2023-03-16T11:06:47.218Z"
   },
   {
    "duration": 9,
    "start_time": "2023-03-16T11:06:47.224Z"
   },
   {
    "duration": 17,
    "start_time": "2023-03-16T11:06:47.235Z"
   },
   {
    "duration": 24,
    "start_time": "2023-03-16T11:06:47.254Z"
   },
   {
    "duration": 27,
    "start_time": "2023-03-16T11:06:47.280Z"
   },
   {
    "duration": 160,
    "start_time": "2023-03-16T11:06:47.309Z"
   },
   {
    "duration": 31,
    "start_time": "2023-03-16T11:06:47.472Z"
   },
   {
    "duration": 335,
    "start_time": "2023-03-16T11:06:47.505Z"
   },
   {
    "duration": 11,
    "start_time": "2023-03-16T11:06:47.842Z"
   },
   {
    "duration": 35,
    "start_time": "2023-03-16T11:06:47.855Z"
   },
   {
    "duration": 317,
    "start_time": "2023-03-16T11:06:47.891Z"
   },
   {
    "duration": 257,
    "start_time": "2023-03-16T11:06:48.210Z"
   },
   {
    "duration": 21,
    "start_time": "2023-03-16T11:06:48.469Z"
   },
   {
    "duration": 5,
    "start_time": "2023-03-16T11:06:48.491Z"
   },
   {
    "duration": 377,
    "start_time": "2023-03-16T11:06:48.497Z"
   },
   {
    "duration": 52,
    "start_time": "2023-03-16T11:06:48.875Z"
   },
   {
    "duration": 62,
    "start_time": "2023-03-16T11:06:48.929Z"
   },
   {
    "duration": 29,
    "start_time": "2023-03-16T11:06:48.994Z"
   },
   {
    "duration": 5,
    "start_time": "2023-03-16T11:06:49.024Z"
   },
   {
    "duration": 20,
    "start_time": "2023-03-16T11:06:53.399Z"
   },
   {
    "duration": 4,
    "start_time": "2023-03-16T11:06:54.115Z"
   },
   {
    "duration": 8,
    "start_time": "2023-03-16T11:06:59.027Z"
   },
   {
    "duration": 166,
    "start_time": "2023-03-16T11:07:16.431Z"
   },
   {
    "duration": 1263,
    "start_time": "2023-03-16T11:07:31.552Z"
   },
   {
    "duration": 26,
    "start_time": "2023-03-16T11:07:32.817Z"
   },
   {
    "duration": 73,
    "start_time": "2023-03-16T11:07:32.844Z"
   },
   {
    "duration": 27,
    "start_time": "2023-03-16T11:07:32.918Z"
   },
   {
    "duration": 489,
    "start_time": "2023-03-16T11:07:32.948Z"
   },
   {
    "duration": 11,
    "start_time": "2023-03-16T11:07:33.439Z"
   },
   {
    "duration": 10,
    "start_time": "2023-03-16T11:07:33.451Z"
   },
   {
    "duration": 8,
    "start_time": "2023-03-16T11:07:33.462Z"
   },
   {
    "duration": 33,
    "start_time": "2023-03-16T11:07:33.472Z"
   },
   {
    "duration": 7,
    "start_time": "2023-03-16T11:07:33.506Z"
   },
   {
    "duration": 23,
    "start_time": "2023-03-16T11:07:33.514Z"
   },
   {
    "duration": 16,
    "start_time": "2023-03-16T11:07:33.538Z"
   },
   {
    "duration": 71,
    "start_time": "2023-03-16T11:07:33.556Z"
   },
   {
    "duration": 5,
    "start_time": "2023-03-16T11:07:33.630Z"
   },
   {
    "duration": 19,
    "start_time": "2023-03-16T11:07:33.636Z"
   },
   {
    "duration": 115,
    "start_time": "2023-03-16T11:07:33.656Z"
   },
   {
    "duration": 6,
    "start_time": "2023-03-16T11:07:33.773Z"
   },
   {
    "duration": 16,
    "start_time": "2023-03-16T11:07:33.780Z"
   },
   {
    "duration": 17,
    "start_time": "2023-03-16T11:07:33.797Z"
   },
   {
    "duration": 29,
    "start_time": "2023-03-16T11:07:33.816Z"
   },
   {
    "duration": 7,
    "start_time": "2023-03-16T11:07:33.847Z"
   },
   {
    "duration": 12,
    "start_time": "2023-03-16T11:07:33.855Z"
   },
   {
    "duration": 160,
    "start_time": "2023-03-16T11:07:33.889Z"
   },
   {
    "duration": 184,
    "start_time": "2023-03-16T11:07:34.051Z"
   },
   {
    "duration": 57,
    "start_time": "2023-03-16T11:07:34.237Z"
   },
   {
    "duration": 9,
    "start_time": "2023-03-16T11:07:34.296Z"
   },
   {
    "duration": 42,
    "start_time": "2023-03-16T11:07:34.307Z"
   },
   {
    "duration": 40,
    "start_time": "2023-03-16T11:07:34.350Z"
   },
   {
    "duration": 9,
    "start_time": "2023-03-16T11:07:34.392Z"
   },
   {
    "duration": 12,
    "start_time": "2023-03-16T11:07:34.402Z"
   },
   {
    "duration": 23,
    "start_time": "2023-03-16T11:07:34.417Z"
   },
   {
    "duration": 19,
    "start_time": "2023-03-16T11:07:34.442Z"
   },
   {
    "duration": 28,
    "start_time": "2023-03-16T11:07:34.463Z"
   },
   {
    "duration": 6,
    "start_time": "2023-03-16T11:07:34.493Z"
   },
   {
    "duration": 11,
    "start_time": "2023-03-16T11:07:34.501Z"
   },
   {
    "duration": 15,
    "start_time": "2023-03-16T11:07:34.513Z"
   },
   {
    "duration": 20,
    "start_time": "2023-03-16T11:07:34.530Z"
   },
   {
    "duration": 41,
    "start_time": "2023-03-16T11:07:34.552Z"
   },
   {
    "duration": 18,
    "start_time": "2023-03-16T11:07:34.595Z"
   },
   {
    "duration": 3,
    "start_time": "2023-03-16T11:07:34.615Z"
   },
   {
    "duration": 8,
    "start_time": "2023-03-16T11:07:34.622Z"
   },
   {
    "duration": 8,
    "start_time": "2023-03-16T11:07:34.632Z"
   },
   {
    "duration": 22,
    "start_time": "2023-03-16T11:07:34.641Z"
   },
   {
    "duration": 37,
    "start_time": "2023-03-16T11:07:34.665Z"
   },
   {
    "duration": 137,
    "start_time": "2023-03-16T11:07:34.704Z"
   },
   {
    "duration": 32,
    "start_time": "2023-03-16T11:07:34.843Z"
   },
   {
    "duration": 300,
    "start_time": "2023-03-16T11:07:34.877Z"
   },
   {
    "duration": 16,
    "start_time": "2023-03-16T11:07:35.179Z"
   },
   {
    "duration": 23,
    "start_time": "2023-03-16T11:07:35.197Z"
   },
   {
    "duration": 319,
    "start_time": "2023-03-16T11:07:35.221Z"
   },
   {
    "duration": 261,
    "start_time": "2023-03-16T11:07:35.542Z"
   },
   {
    "duration": 13,
    "start_time": "2023-03-16T11:07:35.805Z"
   },
   {
    "duration": 4,
    "start_time": "2023-03-16T11:07:35.820Z"
   },
   {
    "duration": 380,
    "start_time": "2023-03-16T11:07:35.825Z"
   },
   {
    "duration": 109,
    "start_time": "2023-03-16T11:07:36.207Z"
   },
   {
    "duration": 22,
    "start_time": "2023-03-16T11:07:36.318Z"
   },
   {
    "duration": 30,
    "start_time": "2023-03-16T11:07:36.389Z"
   },
   {
    "duration": 10,
    "start_time": "2023-03-16T11:07:36.421Z"
   },
   {
    "duration": 28,
    "start_time": "2023-03-16T11:07:36.432Z"
   },
   {
    "duration": 4,
    "start_time": "2023-03-16T11:07:52.588Z"
   },
   {
    "duration": 4,
    "start_time": "2023-03-16T11:07:52.744Z"
   },
   {
    "duration": 8,
    "start_time": "2023-03-16T11:08:21.791Z"
   },
   {
    "duration": 3,
    "start_time": "2023-03-16T11:08:26.648Z"
   },
   {
    "duration": 5,
    "start_time": "2023-03-16T11:08:26.883Z"
   },
   {
    "duration": 8,
    "start_time": "2023-03-16T11:08:27.214Z"
   },
   {
    "duration": 161,
    "start_time": "2023-03-16T11:08:49.917Z"
   },
   {
    "duration": 4,
    "start_time": "2023-03-16T11:08:50.090Z"
   },
   {
    "duration": 4,
    "start_time": "2023-03-16T11:08:50.299Z"
   },
   {
    "duration": 9,
    "start_time": "2023-03-16T11:08:50.519Z"
   },
   {
    "duration": 15,
    "start_time": "2023-03-16T11:09:45.022Z"
   },
   {
    "duration": 3,
    "start_time": "2023-03-16T11:09:48.987Z"
   },
   {
    "duration": 6,
    "start_time": "2023-03-16T11:09:49.183Z"
   },
   {
    "duration": 9,
    "start_time": "2023-03-16T11:09:53.363Z"
   },
   {
    "duration": 14,
    "start_time": "2023-03-16T11:10:02.727Z"
   },
   {
    "duration": 1200,
    "start_time": "2023-03-16T11:10:25.204Z"
   },
   {
    "duration": 26,
    "start_time": "2023-03-16T11:10:26.406Z"
   },
   {
    "duration": 83,
    "start_time": "2023-03-16T11:10:26.434Z"
   },
   {
    "duration": 42,
    "start_time": "2023-03-16T11:10:26.518Z"
   },
   {
    "duration": 551,
    "start_time": "2023-03-16T11:10:26.562Z"
   },
   {
    "duration": 12,
    "start_time": "2023-03-16T11:10:27.114Z"
   },
   {
    "duration": 24,
    "start_time": "2023-03-16T11:10:27.128Z"
   },
   {
    "duration": 28,
    "start_time": "2023-03-16T11:10:27.153Z"
   },
   {
    "duration": 39,
    "start_time": "2023-03-16T11:10:27.183Z"
   },
   {
    "duration": 22,
    "start_time": "2023-03-16T11:10:27.224Z"
   },
   {
    "duration": 27,
    "start_time": "2023-03-16T11:10:27.247Z"
   },
   {
    "duration": 22,
    "start_time": "2023-03-16T11:10:27.275Z"
   },
   {
    "duration": 66,
    "start_time": "2023-03-16T11:10:27.298Z"
   },
   {
    "duration": 5,
    "start_time": "2023-03-16T11:10:27.368Z"
   },
   {
    "duration": 23,
    "start_time": "2023-03-16T11:10:27.374Z"
   },
   {
    "duration": 118,
    "start_time": "2023-03-16T11:10:27.398Z"
   },
   {
    "duration": 5,
    "start_time": "2023-03-16T11:10:27.518Z"
   },
   {
    "duration": 7,
    "start_time": "2023-03-16T11:10:27.525Z"
   },
   {
    "duration": 15,
    "start_time": "2023-03-16T11:10:27.533Z"
   },
   {
    "duration": 51,
    "start_time": "2023-03-16T11:10:27.550Z"
   },
   {
    "duration": 8,
    "start_time": "2023-03-16T11:10:27.603Z"
   },
   {
    "duration": 13,
    "start_time": "2023-03-16T11:10:27.613Z"
   },
   {
    "duration": 179,
    "start_time": "2023-03-16T11:10:27.628Z"
   },
   {
    "duration": 198,
    "start_time": "2023-03-16T11:10:27.809Z"
   },
   {
    "duration": 45,
    "start_time": "2023-03-16T11:10:28.009Z"
   },
   {
    "duration": 31,
    "start_time": "2023-03-16T11:10:28.056Z"
   },
   {
    "duration": 64,
    "start_time": "2023-03-16T11:10:28.090Z"
   },
   {
    "duration": 34,
    "start_time": "2023-03-16T11:10:28.156Z"
   },
   {
    "duration": 4,
    "start_time": "2023-03-16T11:10:28.192Z"
   },
   {
    "duration": 7,
    "start_time": "2023-03-16T11:10:28.197Z"
   },
   {
    "duration": 10,
    "start_time": "2023-03-16T11:10:28.205Z"
   },
   {
    "duration": 7,
    "start_time": "2023-03-16T11:10:28.217Z"
   },
   {
    "duration": 27,
    "start_time": "2023-03-16T11:10:28.226Z"
   },
   {
    "duration": 6,
    "start_time": "2023-03-16T11:10:28.254Z"
   },
   {
    "duration": 30,
    "start_time": "2023-03-16T11:10:28.262Z"
   },
   {
    "duration": 10,
    "start_time": "2023-03-16T11:10:28.294Z"
   },
   {
    "duration": 10,
    "start_time": "2023-03-16T11:10:28.306Z"
   },
   {
    "duration": 22,
    "start_time": "2023-03-16T11:10:28.317Z"
   },
   {
    "duration": 15,
    "start_time": "2023-03-16T11:10:28.341Z"
   },
   {
    "duration": 35,
    "start_time": "2023-03-16T11:10:28.357Z"
   },
   {
    "duration": 12,
    "start_time": "2023-03-16T11:10:28.397Z"
   },
   {
    "duration": 15,
    "start_time": "2023-03-16T11:10:28.411Z"
   },
   {
    "duration": 26,
    "start_time": "2023-03-16T11:10:28.429Z"
   },
   {
    "duration": 39,
    "start_time": "2023-03-16T11:10:28.456Z"
   },
   {
    "duration": 139,
    "start_time": "2023-03-16T11:10:28.497Z"
   },
   {
    "duration": 25,
    "start_time": "2023-03-16T11:10:28.637Z"
   },
   {
    "duration": 288,
    "start_time": "2023-03-16T11:10:28.663Z"
   },
   {
    "duration": 11,
    "start_time": "2023-03-16T11:10:28.953Z"
   },
   {
    "duration": 31,
    "start_time": "2023-03-16T11:10:28.965Z"
   },
   {
    "duration": 316,
    "start_time": "2023-03-16T11:10:28.998Z"
   },
   {
    "duration": 265,
    "start_time": "2023-03-16T11:10:29.316Z"
   },
   {
    "duration": 14,
    "start_time": "2023-03-16T11:10:29.583Z"
   },
   {
    "duration": 9,
    "start_time": "2023-03-16T11:10:29.599Z"
   },
   {
    "duration": 363,
    "start_time": "2023-03-16T11:10:29.609Z"
   },
   {
    "duration": 119,
    "start_time": "2023-03-16T11:10:29.974Z"
   },
   {
    "duration": 13,
    "start_time": "2023-03-16T11:10:30.095Z"
   },
   {
    "duration": 35,
    "start_time": "2023-03-16T11:10:30.109Z"
   },
   {
    "duration": 6,
    "start_time": "2023-03-16T11:10:30.146Z"
   },
   {
    "duration": 16,
    "start_time": "2023-03-16T11:10:30.153Z"
   },
   {
    "duration": 24,
    "start_time": "2023-03-16T11:10:30.170Z"
   },
   {
    "duration": 16,
    "start_time": "2023-03-16T11:10:30.196Z"
   },
   {
    "duration": 23,
    "start_time": "2023-03-16T11:10:30.213Z"
   },
   {
    "duration": 30,
    "start_time": "2023-03-16T11:10:30.238Z"
   },
   {
    "duration": 9,
    "start_time": "2023-03-16T11:13:50.787Z"
   },
   {
    "duration": 15,
    "start_time": "2023-03-16T11:13:51.283Z"
   },
   {
    "duration": 3,
    "start_time": "2023-03-16T11:14:41.580Z"
   },
   {
    "duration": 10,
    "start_time": "2023-03-16T11:14:42.021Z"
   },
   {
    "duration": 4,
    "start_time": "2023-03-16T11:15:28.194Z"
   },
   {
    "duration": 5,
    "start_time": "2023-03-16T11:15:29.235Z"
   },
   {
    "duration": 4,
    "start_time": "2023-03-16T11:15:29.617Z"
   },
   {
    "duration": 6,
    "start_time": "2023-03-16T11:15:29.987Z"
   },
   {
    "duration": 10,
    "start_time": "2023-03-16T11:15:30.379Z"
   },
   {
    "duration": 10,
    "start_time": "2023-03-16T11:19:11.916Z"
   },
   {
    "duration": 3,
    "start_time": "2023-03-16T11:33:26.096Z"
   },
   {
    "duration": 5,
    "start_time": "2023-03-16T11:33:26.599Z"
   },
   {
    "duration": 3,
    "start_time": "2023-03-16T11:34:01.853Z"
   },
   {
    "duration": 6,
    "start_time": "2023-03-16T11:34:53.657Z"
   },
   {
    "duration": 5,
    "start_time": "2023-03-16T11:34:54.112Z"
   },
   {
    "duration": 6,
    "start_time": "2023-03-16T11:34:54.777Z"
   },
   {
    "duration": 4,
    "start_time": "2023-03-16T11:34:55.488Z"
   },
   {
    "duration": 3,
    "start_time": "2023-03-16T11:35:16.262Z"
   },
   {
    "duration": 8,
    "start_time": "2023-03-16T11:35:16.434Z"
   },
   {
    "duration": 4,
    "start_time": "2023-03-16T11:35:17.879Z"
   },
   {
    "duration": 10,
    "start_time": "2023-03-16T11:35:17.885Z"
   },
   {
    "duration": 4,
    "start_time": "2023-03-16T11:35:18.050Z"
   },
   {
    "duration": 5,
    "start_time": "2023-03-16T11:35:18.210Z"
   },
   {
    "duration": 17,
    "start_time": "2023-03-16T11:42:27.787Z"
   },
   {
    "duration": 21,
    "start_time": "2023-03-16T11:44:41.700Z"
   },
   {
    "duration": 39,
    "start_time": "2023-03-16T11:45:30.727Z"
   },
   {
    "duration": 30,
    "start_time": "2023-03-16T11:45:58.142Z"
   },
   {
    "duration": 977,
    "start_time": "2023-03-16T11:56:57.096Z"
   },
   {
    "duration": 11,
    "start_time": "2023-03-16T12:25:39.388Z"
   },
   {
    "duration": 1282,
    "start_time": "2023-03-16T12:25:47.800Z"
   },
   {
    "duration": 26,
    "start_time": "2023-03-16T12:25:49.084Z"
   },
   {
    "duration": 68,
    "start_time": "2023-03-16T12:25:49.112Z"
   },
   {
    "duration": 26,
    "start_time": "2023-03-16T12:25:49.181Z"
   },
   {
    "duration": 488,
    "start_time": "2023-03-16T12:25:49.210Z"
   },
   {
    "duration": 11,
    "start_time": "2023-03-16T12:25:49.700Z"
   },
   {
    "duration": 10,
    "start_time": "2023-03-16T12:25:49.713Z"
   },
   {
    "duration": 11,
    "start_time": "2023-03-16T12:25:49.725Z"
   },
   {
    "duration": 22,
    "start_time": "2023-03-16T12:25:49.737Z"
   },
   {
    "duration": 7,
    "start_time": "2023-03-16T12:25:49.760Z"
   },
   {
    "duration": 17,
    "start_time": "2023-03-16T12:25:49.789Z"
   },
   {
    "duration": 11,
    "start_time": "2023-03-16T12:25:49.809Z"
   },
   {
    "duration": 96,
    "start_time": "2023-03-16T12:25:49.822Z"
   },
   {
    "duration": 5,
    "start_time": "2023-03-16T12:25:49.921Z"
   },
   {
    "duration": 14,
    "start_time": "2023-03-16T12:25:49.928Z"
   },
   {
    "duration": 124,
    "start_time": "2023-03-16T12:25:49.944Z"
   },
   {
    "duration": 6,
    "start_time": "2023-03-16T12:25:50.070Z"
   },
   {
    "duration": 6,
    "start_time": "2023-03-16T12:25:50.089Z"
   },
   {
    "duration": 17,
    "start_time": "2023-03-16T12:25:50.097Z"
   },
   {
    "duration": 34,
    "start_time": "2023-03-16T12:25:50.115Z"
   },
   {
    "duration": 8,
    "start_time": "2023-03-16T12:25:50.150Z"
   },
   {
    "duration": 37,
    "start_time": "2023-03-16T12:25:50.159Z"
   },
   {
    "duration": 174,
    "start_time": "2023-03-16T12:25:50.198Z"
   },
   {
    "duration": 199,
    "start_time": "2023-03-16T12:25:50.374Z"
   },
   {
    "duration": 44,
    "start_time": "2023-03-16T12:25:50.575Z"
   },
   {
    "duration": 10,
    "start_time": "2023-03-16T12:25:50.621Z"
   },
   {
    "duration": 21,
    "start_time": "2023-03-16T12:25:50.632Z"
   },
   {
    "duration": 51,
    "start_time": "2023-03-16T12:25:50.655Z"
   },
   {
    "duration": 38,
    "start_time": "2023-03-16T12:25:50.708Z"
   },
   {
    "duration": 16,
    "start_time": "2023-03-16T12:25:50.747Z"
   },
   {
    "duration": 4,
    "start_time": "2023-03-16T12:25:50.764Z"
   },
   {
    "duration": 3,
    "start_time": "2023-03-16T12:25:50.790Z"
   },
   {
    "duration": 17,
    "start_time": "2023-03-16T12:25:50.795Z"
   },
   {
    "duration": 7,
    "start_time": "2023-03-16T12:25:50.813Z"
   },
   {
    "duration": 24,
    "start_time": "2023-03-16T12:25:50.822Z"
   },
   {
    "duration": 7,
    "start_time": "2023-03-16T12:25:50.847Z"
   },
   {
    "duration": 10,
    "start_time": "2023-03-16T12:25:50.856Z"
   },
   {
    "duration": 29,
    "start_time": "2023-03-16T12:25:50.868Z"
   },
   {
    "duration": 14,
    "start_time": "2023-03-16T12:25:50.898Z"
   },
   {
    "duration": 20,
    "start_time": "2023-03-16T12:25:50.914Z"
   },
   {
    "duration": 16,
    "start_time": "2023-03-16T12:25:50.938Z"
   },
   {
    "duration": 9,
    "start_time": "2023-03-16T12:25:50.955Z"
   },
   {
    "duration": 28,
    "start_time": "2023-03-16T12:25:50.965Z"
   },
   {
    "duration": 6,
    "start_time": "2023-03-16T12:25:50.995Z"
   },
   {
    "duration": 29,
    "start_time": "2023-03-16T12:25:51.002Z"
   },
   {
    "duration": 23,
    "start_time": "2023-03-16T12:25:51.034Z"
   },
   {
    "duration": 149,
    "start_time": "2023-03-16T12:25:51.059Z"
   },
   {
    "duration": 23,
    "start_time": "2023-03-16T12:25:51.210Z"
   },
   {
    "duration": 299,
    "start_time": "2023-03-16T12:25:51.235Z"
   },
   {
    "duration": 11,
    "start_time": "2023-03-16T12:25:51.536Z"
   },
   {
    "duration": 25,
    "start_time": "2023-03-16T12:25:51.548Z"
   },
   {
    "duration": 314,
    "start_time": "2023-03-16T12:25:51.575Z"
   },
   {
    "duration": 264,
    "start_time": "2023-03-16T12:25:51.891Z"
   },
   {
    "duration": 15,
    "start_time": "2023-03-16T12:25:52.156Z"
   },
   {
    "duration": 18,
    "start_time": "2023-03-16T12:25:52.172Z"
   },
   {
    "duration": 355,
    "start_time": "2023-03-16T12:25:52.192Z"
   },
   {
    "duration": 67,
    "start_time": "2023-03-16T12:25:52.549Z"
   },
   {
    "duration": 15,
    "start_time": "2023-03-16T12:25:52.617Z"
   },
   {
    "duration": 72,
    "start_time": "2023-03-16T12:25:52.634Z"
   },
   {
    "duration": 4,
    "start_time": "2023-03-16T12:25:52.708Z"
   },
   {
    "duration": 13,
    "start_time": "2023-03-16T12:25:52.713Z"
   },
   {
    "duration": 14,
    "start_time": "2023-03-16T12:25:52.728Z"
   },
   {
    "duration": 15,
    "start_time": "2023-03-16T12:25:52.743Z"
   },
   {
    "duration": 10,
    "start_time": "2023-03-16T12:25:52.760Z"
   },
   {
    "duration": 6,
    "start_time": "2023-03-16T12:25:52.772Z"
   },
   {
    "duration": 19,
    "start_time": "2023-03-16T12:25:52.779Z"
   },
   {
    "duration": 169,
    "start_time": "2023-03-16T12:25:52.800Z"
   },
   {
    "duration": 0,
    "start_time": "2023-03-16T12:25:52.970Z"
   },
   {
    "duration": 0,
    "start_time": "2023-03-16T12:25:52.972Z"
   },
   {
    "duration": 0,
    "start_time": "2023-03-16T12:25:52.973Z"
   },
   {
    "duration": 0,
    "start_time": "2023-03-16T12:25:52.974Z"
   },
   {
    "duration": 0,
    "start_time": "2023-03-16T12:25:52.975Z"
   },
   {
    "duration": 0,
    "start_time": "2023-03-16T12:25:52.976Z"
   },
   {
    "duration": 20,
    "start_time": "2023-03-16T12:25:58.140Z"
   },
   {
    "duration": 20,
    "start_time": "2023-03-16T12:58:11.932Z"
   },
   {
    "duration": 195,
    "start_time": "2023-03-16T12:58:29.628Z"
   },
   {
    "duration": 273,
    "start_time": "2023-03-16T12:59:29.835Z"
   },
   {
    "duration": 14,
    "start_time": "2023-03-16T12:59:43.903Z"
   },
   {
    "duration": 22,
    "start_time": "2023-03-16T13:02:29.034Z"
   },
   {
    "duration": 20,
    "start_time": "2023-03-16T13:03:15.070Z"
   },
   {
    "duration": 39,
    "start_time": "2023-03-16T13:06:52.785Z"
   },
   {
    "duration": 14,
    "start_time": "2023-03-16T13:06:59.297Z"
   },
   {
    "duration": 14,
    "start_time": "2023-03-16T13:07:19.743Z"
   },
   {
    "duration": 19,
    "start_time": "2023-03-16T13:07:46.311Z"
   },
   {
    "duration": 199,
    "start_time": "2023-03-16T13:08:16.775Z"
   },
   {
    "duration": 17,
    "start_time": "2023-03-16T13:11:52.910Z"
   },
   {
    "duration": 13,
    "start_time": "2023-03-16T13:14:32.369Z"
   },
   {
    "duration": 14,
    "start_time": "2023-03-16T13:15:48.636Z"
   },
   {
    "duration": 37,
    "start_time": "2023-03-16T13:16:25.204Z"
   },
   {
    "duration": 4,
    "start_time": "2023-03-16T13:16:32.178Z"
   },
   {
    "duration": 60,
    "start_time": "2023-03-16T13:16:32.452Z"
   },
   {
    "duration": 15,
    "start_time": "2023-03-16T13:16:37.956Z"
   },
   {
    "duration": 59,
    "start_time": "2023-03-17T06:14:13.416Z"
   },
   {
    "duration": 1548,
    "start_time": "2023-03-17T06:14:19.170Z"
   },
   {
    "duration": 74,
    "start_time": "2023-03-17T06:14:20.721Z"
   },
   {
    "duration": 132,
    "start_time": "2023-03-17T06:14:20.797Z"
   },
   {
    "duration": 77,
    "start_time": "2023-03-17T06:14:20.931Z"
   },
   {
    "duration": 643,
    "start_time": "2023-03-17T06:14:21.010Z"
   },
   {
    "duration": 13,
    "start_time": "2023-03-17T06:14:21.655Z"
   },
   {
    "duration": 15,
    "start_time": "2023-03-17T06:14:21.669Z"
   },
   {
    "duration": 13,
    "start_time": "2023-03-17T06:14:21.686Z"
   },
   {
    "duration": 22,
    "start_time": "2023-03-17T06:14:21.700Z"
   },
   {
    "duration": 7,
    "start_time": "2023-03-17T06:14:21.724Z"
   },
   {
    "duration": 14,
    "start_time": "2023-03-17T06:14:21.733Z"
   },
   {
    "duration": 30,
    "start_time": "2023-03-17T06:14:21.749Z"
   },
   {
    "duration": 70,
    "start_time": "2023-03-17T06:14:21.780Z"
   },
   {
    "duration": 7,
    "start_time": "2023-03-17T06:14:21.853Z"
   },
   {
    "duration": 12,
    "start_time": "2023-03-17T06:14:21.873Z"
   },
   {
    "duration": 123,
    "start_time": "2023-03-17T06:14:21.887Z"
   },
   {
    "duration": 7,
    "start_time": "2023-03-17T06:14:22.011Z"
   },
   {
    "duration": 11,
    "start_time": "2023-03-17T06:14:22.019Z"
   },
   {
    "duration": 16,
    "start_time": "2023-03-17T06:14:22.032Z"
   },
   {
    "duration": 52,
    "start_time": "2023-03-17T06:14:22.050Z"
   },
   {
    "duration": 9,
    "start_time": "2023-03-17T06:14:22.104Z"
   },
   {
    "duration": 35,
    "start_time": "2023-03-17T06:14:22.114Z"
   },
   {
    "duration": 182,
    "start_time": "2023-03-17T06:14:22.151Z"
   },
   {
    "duration": 213,
    "start_time": "2023-03-17T06:14:22.335Z"
   },
   {
    "duration": 53,
    "start_time": "2023-03-17T06:14:22.550Z"
   },
   {
    "duration": 9,
    "start_time": "2023-03-17T06:14:22.604Z"
   },
   {
    "duration": 21,
    "start_time": "2023-03-17T06:14:22.614Z"
   },
   {
    "duration": 53,
    "start_time": "2023-03-17T06:14:22.637Z"
   },
   {
    "duration": 43,
    "start_time": "2023-03-17T06:14:22.692Z"
   },
   {
    "duration": 16,
    "start_time": "2023-03-17T06:14:22.736Z"
   },
   {
    "duration": 21,
    "start_time": "2023-03-17T06:14:22.754Z"
   },
   {
    "duration": 16,
    "start_time": "2023-03-17T06:14:22.776Z"
   },
   {
    "duration": 13,
    "start_time": "2023-03-17T06:14:22.793Z"
   },
   {
    "duration": 13,
    "start_time": "2023-03-17T06:14:22.808Z"
   },
   {
    "duration": 31,
    "start_time": "2023-03-17T06:14:22.823Z"
   },
   {
    "duration": 8,
    "start_time": "2023-03-17T06:14:22.856Z"
   },
   {
    "duration": 21,
    "start_time": "2023-03-17T06:14:22.866Z"
   },
   {
    "duration": 17,
    "start_time": "2023-03-17T06:14:22.889Z"
   },
   {
    "duration": 10,
    "start_time": "2023-03-17T06:14:22.908Z"
   },
   {
    "duration": 28,
    "start_time": "2023-03-17T06:14:22.920Z"
   },
   {
    "duration": 16,
    "start_time": "2023-03-17T06:14:22.953Z"
   },
   {
    "duration": 5,
    "start_time": "2023-03-17T06:14:22.970Z"
   },
   {
    "duration": 10,
    "start_time": "2023-03-17T06:14:22.976Z"
   },
   {
    "duration": 6,
    "start_time": "2023-03-17T06:14:22.988Z"
   },
   {
    "duration": 18,
    "start_time": "2023-03-17T06:14:22.995Z"
   },
   {
    "duration": 22,
    "start_time": "2023-03-17T06:14:23.015Z"
   },
   {
    "duration": 184,
    "start_time": "2023-03-17T06:14:23.038Z"
   },
   {
    "duration": 25,
    "start_time": "2023-03-17T06:14:23.224Z"
   },
   {
    "duration": 313,
    "start_time": "2023-03-17T06:14:23.251Z"
   },
   {
    "duration": 13,
    "start_time": "2023-03-17T06:14:23.566Z"
   },
   {
    "duration": 22,
    "start_time": "2023-03-17T06:14:23.581Z"
   },
   {
    "duration": 382,
    "start_time": "2023-03-17T06:14:23.604Z"
   },
   {
    "duration": 279,
    "start_time": "2023-03-17T06:14:23.988Z"
   },
   {
    "duration": 234,
    "start_time": "2023-03-17T06:14:24.269Z"
   },
   {
    "duration": 14,
    "start_time": "2023-03-17T06:14:24.505Z"
   },
   {
    "duration": 133,
    "start_time": "2023-03-17T06:14:24.520Z"
   },
   {
    "duration": 0,
    "start_time": "2023-03-17T06:14:24.654Z"
   },
   {
    "duration": 0,
    "start_time": "2023-03-17T06:14:24.656Z"
   },
   {
    "duration": 0,
    "start_time": "2023-03-17T06:14:24.657Z"
   },
   {
    "duration": 0,
    "start_time": "2023-03-17T06:14:24.673Z"
   },
   {
    "duration": 0,
    "start_time": "2023-03-17T06:14:24.674Z"
   },
   {
    "duration": 0,
    "start_time": "2023-03-17T06:14:24.675Z"
   },
   {
    "duration": 0,
    "start_time": "2023-03-17T06:14:24.676Z"
   },
   {
    "duration": 0,
    "start_time": "2023-03-17T06:14:24.678Z"
   },
   {
    "duration": 0,
    "start_time": "2023-03-17T06:14:24.679Z"
   },
   {
    "duration": 0,
    "start_time": "2023-03-17T06:14:24.680Z"
   },
   {
    "duration": 0,
    "start_time": "2023-03-17T06:14:24.681Z"
   },
   {
    "duration": 0,
    "start_time": "2023-03-17T06:14:24.682Z"
   },
   {
    "duration": 0,
    "start_time": "2023-03-17T06:14:24.684Z"
   },
   {
    "duration": 0,
    "start_time": "2023-03-17T06:14:24.685Z"
   },
   {
    "duration": 0,
    "start_time": "2023-03-17T06:14:24.686Z"
   },
   {
    "duration": 0,
    "start_time": "2023-03-17T06:14:24.687Z"
   },
   {
    "duration": 0,
    "start_time": "2023-03-17T06:14:24.688Z"
   },
   {
    "duration": 0,
    "start_time": "2023-03-17T06:14:24.690Z"
   },
   {
    "duration": 0,
    "start_time": "2023-03-17T06:14:24.692Z"
   },
   {
    "duration": 0,
    "start_time": "2023-03-17T06:14:24.693Z"
   },
   {
    "duration": 0,
    "start_time": "2023-03-17T06:14:24.694Z"
   },
   {
    "duration": 0,
    "start_time": "2023-03-17T06:14:24.695Z"
   },
   {
    "duration": 0,
    "start_time": "2023-03-17T06:14:24.696Z"
   },
   {
    "duration": 0,
    "start_time": "2023-03-17T06:14:24.697Z"
   },
   {
    "duration": 258,
    "start_time": "2023-03-17T06:15:23.103Z"
   },
   {
    "duration": 16,
    "start_time": "2023-03-17T06:34:33.573Z"
   },
   {
    "duration": 4,
    "start_time": "2023-03-17T06:34:34.093Z"
   },
   {
    "duration": 68,
    "start_time": "2023-03-17T06:34:34.862Z"
   },
   {
    "duration": 17,
    "start_time": "2023-03-17T06:34:35.309Z"
   },
   {
    "duration": 106,
    "start_time": "2023-03-17T06:36:33.509Z"
   },
   {
    "duration": 52,
    "start_time": "2023-03-17T06:38:44.275Z"
   },
   {
    "duration": 16,
    "start_time": "2023-03-17T06:38:51.123Z"
   },
   {
    "duration": 53,
    "start_time": "2023-03-17T06:45:04.657Z"
   },
   {
    "duration": 42,
    "start_time": "2023-03-17T06:45:25.544Z"
   },
   {
    "duration": 10,
    "start_time": "2023-03-17T06:45:55.040Z"
   },
   {
    "duration": 100,
    "start_time": "2023-03-17T06:46:13.480Z"
   },
   {
    "duration": 110,
    "start_time": "2023-03-17T06:46:16.561Z"
   },
   {
    "duration": 16,
    "start_time": "2023-03-17T06:46:16.752Z"
   },
   {
    "duration": 125,
    "start_time": "2023-03-17T06:46:40.399Z"
   },
   {
    "duration": 15,
    "start_time": "2023-03-17T06:46:40.679Z"
   },
   {
    "duration": 15,
    "start_time": "2023-03-17T06:46:49.072Z"
   },
   {
    "duration": 13,
    "start_time": "2023-03-17T06:47:45.542Z"
   },
   {
    "duration": 89,
    "start_time": "2023-03-17T06:47:45.742Z"
   },
   {
    "duration": 15,
    "start_time": "2023-03-17T06:47:45.968Z"
   },
   {
    "duration": 10,
    "start_time": "2023-03-17T06:48:04.311Z"
   },
   {
    "duration": 8,
    "start_time": "2023-03-17T06:48:12.415Z"
   },
   {
    "duration": 6,
    "start_time": "2023-03-17T06:48:24.344Z"
   },
   {
    "duration": 319,
    "start_time": "2023-03-17T06:52:59.580Z"
   },
   {
    "duration": 10,
    "start_time": "2023-03-17T06:59:16.065Z"
   },
   {
    "duration": 46,
    "start_time": "2023-03-17T07:01:05.463Z"
   },
   {
    "duration": 7,
    "start_time": "2023-03-17T07:01:07.391Z"
   },
   {
    "duration": 7,
    "start_time": "2023-03-17T07:01:07.576Z"
   },
   {
    "duration": 16,
    "start_time": "2023-03-17T07:01:07.942Z"
   },
   {
    "duration": 35,
    "start_time": "2023-03-17T07:01:08.127Z"
   },
   {
    "duration": 9,
    "start_time": "2023-03-17T07:01:08.495Z"
   },
   {
    "duration": 11,
    "start_time": "2023-03-17T07:01:08.671Z"
   },
   {
    "duration": 178,
    "start_time": "2023-03-17T07:01:09.024Z"
   },
   {
    "duration": 1525,
    "start_time": "2023-03-17T07:01:13.707Z"
   },
   {
    "duration": 29,
    "start_time": "2023-03-17T07:01:15.234Z"
   },
   {
    "duration": 75,
    "start_time": "2023-03-17T07:01:15.265Z"
   },
   {
    "duration": 30,
    "start_time": "2023-03-17T07:01:15.342Z"
   },
   {
    "duration": 557,
    "start_time": "2023-03-17T07:01:15.373Z"
   },
   {
    "duration": 13,
    "start_time": "2023-03-17T07:01:15.932Z"
   },
   {
    "duration": 27,
    "start_time": "2023-03-17T07:01:15.948Z"
   },
   {
    "duration": 22,
    "start_time": "2023-03-17T07:01:15.977Z"
   },
   {
    "duration": 48,
    "start_time": "2023-03-17T07:01:16.002Z"
   },
   {
    "duration": 9,
    "start_time": "2023-03-17T07:01:16.053Z"
   },
   {
    "duration": 15,
    "start_time": "2023-03-17T07:01:16.073Z"
   },
   {
    "duration": 10,
    "start_time": "2023-03-17T07:01:16.090Z"
   },
   {
    "duration": 106,
    "start_time": "2023-03-17T07:01:16.102Z"
   },
   {
    "duration": 7,
    "start_time": "2023-03-17T07:01:16.211Z"
   },
   {
    "duration": 21,
    "start_time": "2023-03-17T07:01:16.220Z"
   },
   {
    "duration": 155,
    "start_time": "2023-03-17T07:01:16.243Z"
   },
   {
    "duration": 7,
    "start_time": "2023-03-17T07:01:16.400Z"
   },
   {
    "duration": 9,
    "start_time": "2023-03-17T07:01:16.409Z"
   },
   {
    "duration": 20,
    "start_time": "2023-03-17T07:01:16.419Z"
   },
   {
    "duration": 51,
    "start_time": "2023-03-17T07:01:16.441Z"
   },
   {
    "duration": 8,
    "start_time": "2023-03-17T07:01:16.494Z"
   },
   {
    "duration": 11,
    "start_time": "2023-03-17T07:01:16.504Z"
   },
   {
    "duration": 216,
    "start_time": "2023-03-17T07:01:16.517Z"
   },
   {
    "duration": 231,
    "start_time": "2023-03-17T07:01:16.736Z"
   },
   {
    "duration": 52,
    "start_time": "2023-03-17T07:01:16.969Z"
   },
   {
    "duration": 9,
    "start_time": "2023-03-17T07:01:17.023Z"
   },
   {
    "duration": 43,
    "start_time": "2023-03-17T07:01:17.034Z"
   },
   {
    "duration": 33,
    "start_time": "2023-03-17T07:01:17.081Z"
   },
   {
    "duration": 70,
    "start_time": "2023-03-17T07:01:17.116Z"
   },
   {
    "duration": 29,
    "start_time": "2023-03-17T07:01:17.188Z"
   },
   {
    "duration": 6,
    "start_time": "2023-03-17T07:01:17.219Z"
   },
   {
    "duration": 10,
    "start_time": "2023-03-17T07:01:17.226Z"
   },
   {
    "duration": 12,
    "start_time": "2023-03-17T07:01:17.239Z"
   },
   {
    "duration": 13,
    "start_time": "2023-03-17T07:01:17.273Z"
   },
   {
    "duration": 22,
    "start_time": "2023-03-17T07:01:17.288Z"
   },
   {
    "duration": 9,
    "start_time": "2023-03-17T07:01:17.313Z"
   },
   {
    "duration": 21,
    "start_time": "2023-03-17T07:01:17.324Z"
   },
   {
    "duration": 30,
    "start_time": "2023-03-17T07:01:17.347Z"
   },
   {
    "duration": 11,
    "start_time": "2023-03-17T07:01:17.379Z"
   },
   {
    "duration": 28,
    "start_time": "2023-03-17T07:01:17.392Z"
   },
   {
    "duration": 18,
    "start_time": "2023-03-17T07:01:17.422Z"
   },
   {
    "duration": 5,
    "start_time": "2023-03-17T07:01:17.442Z"
   },
   {
    "duration": 10,
    "start_time": "2023-03-17T07:01:17.473Z"
   },
   {
    "duration": 8,
    "start_time": "2023-03-17T07:01:17.484Z"
   },
   {
    "duration": 24,
    "start_time": "2023-03-17T07:01:17.494Z"
   },
   {
    "duration": 27,
    "start_time": "2023-03-17T07:01:17.520Z"
   },
   {
    "duration": 187,
    "start_time": "2023-03-17T07:01:17.549Z"
   },
   {
    "duration": 37,
    "start_time": "2023-03-17T07:01:17.738Z"
   },
   {
    "duration": 349,
    "start_time": "2023-03-17T07:01:17.778Z"
   },
   {
    "duration": 12,
    "start_time": "2023-03-17T07:01:18.129Z"
   },
   {
    "duration": 34,
    "start_time": "2023-03-17T07:01:18.143Z"
   },
   {
    "duration": 422,
    "start_time": "2023-03-17T07:01:18.180Z"
   },
   {
    "duration": 275,
    "start_time": "2023-03-17T07:01:18.604Z"
   },
   {
    "duration": 277,
    "start_time": "2023-03-17T07:01:18.881Z"
   },
   {
    "duration": 25,
    "start_time": "2023-03-17T07:01:19.161Z"
   },
   {
    "duration": 10,
    "start_time": "2023-03-17T07:01:19.188Z"
   },
   {
    "duration": 122,
    "start_time": "2023-03-17T07:01:19.201Z"
   },
   {
    "duration": 5,
    "start_time": "2023-03-17T07:01:19.325Z"
   },
   {
    "duration": 8,
    "start_time": "2023-03-17T07:01:19.332Z"
   },
   {
    "duration": 287,
    "start_time": "2023-03-17T07:01:19.341Z"
   },
   {
    "duration": 16,
    "start_time": "2023-03-17T07:01:19.630Z"
   },
   {
    "duration": 6,
    "start_time": "2023-03-17T07:01:19.648Z"
   },
   {
    "duration": 501,
    "start_time": "2023-03-17T07:01:19.672Z"
   },
   {
    "duration": 104,
    "start_time": "2023-03-17T07:01:20.175Z"
   },
   {
    "duration": 14,
    "start_time": "2023-03-17T07:01:20.280Z"
   },
   {
    "duration": 25,
    "start_time": "2023-03-17T07:01:20.296Z"
   },
   {
    "duration": 4,
    "start_time": "2023-03-17T07:01:20.374Z"
   },
   {
    "duration": 9,
    "start_time": "2023-03-17T07:01:20.380Z"
   },
   {
    "duration": 14,
    "start_time": "2023-03-17T07:01:20.391Z"
   },
   {
    "duration": 18,
    "start_time": "2023-03-17T07:01:20.407Z"
   },
   {
    "duration": 10,
    "start_time": "2023-03-17T07:01:20.429Z"
   },
   {
    "duration": 20,
    "start_time": "2023-03-17T07:01:20.442Z"
   },
   {
    "duration": 26,
    "start_time": "2023-03-17T07:01:20.465Z"
   },
   {
    "duration": 94,
    "start_time": "2023-03-17T07:01:20.493Z"
   },
   {
    "duration": 0,
    "start_time": "2023-03-17T07:01:20.589Z"
   },
   {
    "duration": 0,
    "start_time": "2023-03-17T07:01:20.591Z"
   },
   {
    "duration": 0,
    "start_time": "2023-03-17T07:01:20.593Z"
   },
   {
    "duration": 0,
    "start_time": "2023-03-17T07:01:20.595Z"
   },
   {
    "duration": 0,
    "start_time": "2023-03-17T07:01:20.596Z"
   },
   {
    "duration": 0,
    "start_time": "2023-03-17T07:01:20.598Z"
   },
   {
    "duration": 272,
    "start_time": "2023-03-17T07:01:31.055Z"
   },
   {
    "duration": 1488,
    "start_time": "2023-03-17T07:02:00.076Z"
   },
   {
    "duration": 30,
    "start_time": "2023-03-17T07:02:01.566Z"
   },
   {
    "duration": 97,
    "start_time": "2023-03-17T07:02:01.600Z"
   },
   {
    "duration": 30,
    "start_time": "2023-03-17T07:02:01.700Z"
   },
   {
    "duration": 550,
    "start_time": "2023-03-17T07:02:01.732Z"
   },
   {
    "duration": 15,
    "start_time": "2023-03-17T07:02:02.284Z"
   },
   {
    "duration": 12,
    "start_time": "2023-03-17T07:02:02.301Z"
   },
   {
    "duration": 11,
    "start_time": "2023-03-17T07:02:02.315Z"
   },
   {
    "duration": 53,
    "start_time": "2023-03-17T07:02:02.328Z"
   },
   {
    "duration": 9,
    "start_time": "2023-03-17T07:02:02.383Z"
   },
   {
    "duration": 29,
    "start_time": "2023-03-17T07:02:02.394Z"
   },
   {
    "duration": 19,
    "start_time": "2023-03-17T07:02:02.424Z"
   },
   {
    "duration": 78,
    "start_time": "2023-03-17T07:02:02.447Z"
   },
   {
    "duration": 6,
    "start_time": "2023-03-17T07:02:02.527Z"
   },
   {
    "duration": 26,
    "start_time": "2023-03-17T07:02:02.535Z"
   },
   {
    "duration": 118,
    "start_time": "2023-03-17T07:02:02.563Z"
   },
   {
    "duration": 7,
    "start_time": "2023-03-17T07:02:02.684Z"
   },
   {
    "duration": 24,
    "start_time": "2023-03-17T07:02:02.693Z"
   },
   {
    "duration": 35,
    "start_time": "2023-03-17T07:02:02.719Z"
   },
   {
    "duration": 37,
    "start_time": "2023-03-17T07:02:02.756Z"
   },
   {
    "duration": 8,
    "start_time": "2023-03-17T07:02:02.795Z"
   },
   {
    "duration": 34,
    "start_time": "2023-03-17T07:02:02.805Z"
   },
   {
    "duration": 211,
    "start_time": "2023-03-17T07:02:02.842Z"
   },
   {
    "duration": 242,
    "start_time": "2023-03-17T07:02:03.055Z"
   },
   {
    "duration": 47,
    "start_time": "2023-03-17T07:02:03.299Z"
   },
   {
    "duration": 29,
    "start_time": "2023-03-17T07:02:03.348Z"
   },
   {
    "duration": 22,
    "start_time": "2023-03-17T07:02:03.379Z"
   },
   {
    "duration": 34,
    "start_time": "2023-03-17T07:02:03.403Z"
   },
   {
    "duration": 65,
    "start_time": "2023-03-17T07:02:03.439Z"
   },
   {
    "duration": 17,
    "start_time": "2023-03-17T07:02:03.506Z"
   },
   {
    "duration": 4,
    "start_time": "2023-03-17T07:02:03.525Z"
   },
   {
    "duration": 10,
    "start_time": "2023-03-17T07:02:03.531Z"
   },
   {
    "duration": 30,
    "start_time": "2023-03-17T07:02:03.543Z"
   },
   {
    "duration": 7,
    "start_time": "2023-03-17T07:02:03.575Z"
   },
   {
    "duration": 25,
    "start_time": "2023-03-17T07:02:03.583Z"
   },
   {
    "duration": 8,
    "start_time": "2023-03-17T07:02:03.610Z"
   },
   {
    "duration": 12,
    "start_time": "2023-03-17T07:02:03.619Z"
   },
   {
    "duration": 10,
    "start_time": "2023-03-17T07:02:03.633Z"
   },
   {
    "duration": 7,
    "start_time": "2023-03-17T07:02:03.673Z"
   },
   {
    "duration": 24,
    "start_time": "2023-03-17T07:02:03.685Z"
   },
   {
    "duration": 18,
    "start_time": "2023-03-17T07:02:03.711Z"
   },
   {
    "duration": 5,
    "start_time": "2023-03-17T07:02:03.731Z"
   },
   {
    "duration": 38,
    "start_time": "2023-03-17T07:02:03.738Z"
   },
   {
    "duration": 10,
    "start_time": "2023-03-17T07:02:03.778Z"
   },
   {
    "duration": 22,
    "start_time": "2023-03-17T07:02:03.790Z"
   },
   {
    "duration": 22,
    "start_time": "2023-03-17T07:02:03.814Z"
   },
   {
    "duration": 171,
    "start_time": "2023-03-17T07:02:03.838Z"
   },
   {
    "duration": 26,
    "start_time": "2023-03-17T07:02:04.011Z"
   },
   {
    "duration": 585,
    "start_time": "2023-03-17T07:02:04.040Z"
   },
   {
    "duration": 12,
    "start_time": "2023-03-17T07:02:04.627Z"
   },
   {
    "duration": 37,
    "start_time": "2023-03-17T07:02:04.641Z"
   },
   {
    "duration": 366,
    "start_time": "2023-03-17T07:02:04.680Z"
   },
   {
    "duration": 311,
    "start_time": "2023-03-17T07:02:05.048Z"
   },
   {
    "duration": 281,
    "start_time": "2023-03-17T07:02:05.361Z"
   },
   {
    "duration": 16,
    "start_time": "2023-03-17T07:02:05.643Z"
   },
   {
    "duration": 11,
    "start_time": "2023-03-17T07:02:05.673Z"
   },
   {
    "duration": 123,
    "start_time": "2023-03-17T07:02:05.686Z"
   },
   {
    "duration": 6,
    "start_time": "2023-03-17T07:02:05.812Z"
   },
   {
    "duration": 15,
    "start_time": "2023-03-17T07:02:05.820Z"
   },
   {
    "duration": 303,
    "start_time": "2023-03-17T07:02:05.837Z"
   },
   {
    "duration": 33,
    "start_time": "2023-03-17T07:02:06.142Z"
   },
   {
    "duration": 7,
    "start_time": "2023-03-17T07:02:06.177Z"
   },
   {
    "duration": 930,
    "start_time": "2023-03-17T07:02:06.186Z"
   },
   {
    "duration": 212,
    "start_time": "2023-03-17T07:02:07.118Z"
   },
   {
    "duration": 20,
    "start_time": "2023-03-17T07:02:07.333Z"
   },
   {
    "duration": 31,
    "start_time": "2023-03-17T07:02:07.373Z"
   },
   {
    "duration": 5,
    "start_time": "2023-03-17T07:02:07.407Z"
   },
   {
    "duration": 56,
    "start_time": "2023-03-17T07:02:07.415Z"
   },
   {
    "duration": 18,
    "start_time": "2023-03-17T07:02:07.473Z"
   },
   {
    "duration": 7,
    "start_time": "2023-03-17T07:02:07.494Z"
   },
   {
    "duration": 9,
    "start_time": "2023-03-17T07:02:07.503Z"
   },
   {
    "duration": 12,
    "start_time": "2023-03-17T07:02:07.513Z"
   },
   {
    "duration": 16,
    "start_time": "2023-03-17T07:02:07.527Z"
   },
   {
    "duration": 65,
    "start_time": "2023-03-17T07:02:07.544Z"
   },
   {
    "duration": 0,
    "start_time": "2023-03-17T07:02:07.611Z"
   },
   {
    "duration": 0,
    "start_time": "2023-03-17T07:02:07.612Z"
   },
   {
    "duration": 0,
    "start_time": "2023-03-17T07:02:07.614Z"
   },
   {
    "duration": 0,
    "start_time": "2023-03-17T07:02:07.615Z"
   },
   {
    "duration": 0,
    "start_time": "2023-03-17T07:02:07.616Z"
   },
   {
    "duration": 0,
    "start_time": "2023-03-17T07:02:07.618Z"
   },
   {
    "duration": 30,
    "start_time": "2023-03-17T07:02:27.758Z"
   },
   {
    "duration": 1431,
    "start_time": "2023-03-17T07:02:42.013Z"
   },
   {
    "duration": 30,
    "start_time": "2023-03-17T07:02:43.446Z"
   },
   {
    "duration": 75,
    "start_time": "2023-03-17T07:02:43.479Z"
   },
   {
    "duration": 30,
    "start_time": "2023-03-17T07:02:43.556Z"
   },
   {
    "duration": 540,
    "start_time": "2023-03-17T07:02:43.589Z"
   },
   {
    "duration": 14,
    "start_time": "2023-03-17T07:02:44.130Z"
   },
   {
    "duration": 29,
    "start_time": "2023-03-17T07:02:44.146Z"
   },
   {
    "duration": 15,
    "start_time": "2023-03-17T07:02:44.177Z"
   },
   {
    "duration": 21,
    "start_time": "2023-03-17T07:02:44.194Z"
   },
   {
    "duration": 14,
    "start_time": "2023-03-17T07:02:44.218Z"
   },
   {
    "duration": 46,
    "start_time": "2023-03-17T07:02:44.234Z"
   },
   {
    "duration": 17,
    "start_time": "2023-03-17T07:02:44.283Z"
   },
   {
    "duration": 87,
    "start_time": "2023-03-17T07:02:44.302Z"
   },
   {
    "duration": 6,
    "start_time": "2023-03-17T07:02:44.393Z"
   },
   {
    "duration": 23,
    "start_time": "2023-03-17T07:02:44.401Z"
   },
   {
    "duration": 126,
    "start_time": "2023-03-17T07:02:44.426Z"
   },
   {
    "duration": 23,
    "start_time": "2023-03-17T07:02:44.554Z"
   },
   {
    "duration": 9,
    "start_time": "2023-03-17T07:02:44.579Z"
   },
   {
    "duration": 14,
    "start_time": "2023-03-17T07:02:44.590Z"
   },
   {
    "duration": 33,
    "start_time": "2023-03-17T07:02:44.606Z"
   },
   {
    "duration": 33,
    "start_time": "2023-03-17T07:02:44.640Z"
   },
   {
    "duration": 11,
    "start_time": "2023-03-17T07:02:44.676Z"
   },
   {
    "duration": 214,
    "start_time": "2023-03-17T07:02:44.689Z"
   },
   {
    "duration": 243,
    "start_time": "2023-03-17T07:02:44.905Z"
   },
   {
    "duration": 54,
    "start_time": "2023-03-17T07:02:45.150Z"
   },
   {
    "duration": 14,
    "start_time": "2023-03-17T07:02:45.206Z"
   },
   {
    "duration": 22,
    "start_time": "2023-03-17T07:02:45.222Z"
   },
   {
    "duration": 55,
    "start_time": "2023-03-17T07:02:45.246Z"
   },
   {
    "duration": 47,
    "start_time": "2023-03-17T07:02:45.304Z"
   },
   {
    "duration": 35,
    "start_time": "2023-03-17T07:02:45.352Z"
   },
   {
    "duration": 4,
    "start_time": "2023-03-17T07:02:45.389Z"
   },
   {
    "duration": 9,
    "start_time": "2023-03-17T07:02:45.395Z"
   },
   {
    "duration": 17,
    "start_time": "2023-03-17T07:02:45.405Z"
   },
   {
    "duration": 9,
    "start_time": "2023-03-17T07:02:45.424Z"
   },
   {
    "duration": 39,
    "start_time": "2023-03-17T07:02:45.435Z"
   },
   {
    "duration": 8,
    "start_time": "2023-03-17T07:02:45.475Z"
   },
   {
    "duration": 13,
    "start_time": "2023-03-17T07:02:45.485Z"
   },
   {
    "duration": 12,
    "start_time": "2023-03-17T07:02:45.499Z"
   },
   {
    "duration": 13,
    "start_time": "2023-03-17T07:02:45.512Z"
   },
   {
    "duration": 47,
    "start_time": "2023-03-17T07:02:45.527Z"
   },
   {
    "duration": 18,
    "start_time": "2023-03-17T07:02:45.578Z"
   },
   {
    "duration": 6,
    "start_time": "2023-03-17T07:02:45.599Z"
   },
   {
    "duration": 14,
    "start_time": "2023-03-17T07:02:45.607Z"
   },
   {
    "duration": 10,
    "start_time": "2023-03-17T07:02:45.623Z"
   },
   {
    "duration": 46,
    "start_time": "2023-03-17T07:02:45.635Z"
   },
   {
    "duration": 22,
    "start_time": "2023-03-17T07:02:45.683Z"
   },
   {
    "duration": 182,
    "start_time": "2023-03-17T07:02:45.707Z"
   },
   {
    "duration": 25,
    "start_time": "2023-03-17T07:02:45.892Z"
   },
   {
    "duration": 323,
    "start_time": "2023-03-17T07:02:45.919Z"
   },
   {
    "duration": 11,
    "start_time": "2023-03-17T07:02:46.244Z"
   },
   {
    "duration": 32,
    "start_time": "2023-03-17T07:02:46.257Z"
   },
   {
    "duration": 375,
    "start_time": "2023-03-17T07:02:46.291Z"
   },
   {
    "duration": 283,
    "start_time": "2023-03-17T07:02:46.668Z"
   },
   {
    "duration": 286,
    "start_time": "2023-03-17T07:02:46.953Z"
   },
   {
    "duration": 16,
    "start_time": "2023-03-17T07:02:47.241Z"
   },
   {
    "duration": 23,
    "start_time": "2023-03-17T07:02:47.259Z"
   },
   {
    "duration": 129,
    "start_time": "2023-03-17T07:02:47.284Z"
   },
   {
    "duration": 5,
    "start_time": "2023-03-17T07:02:47.415Z"
   },
   {
    "duration": 15,
    "start_time": "2023-03-17T07:02:47.422Z"
   },
   {
    "duration": 367,
    "start_time": "2023-03-17T07:02:47.439Z"
   },
   {
    "duration": 15,
    "start_time": "2023-03-17T07:02:47.808Z"
   },
   {
    "duration": 5,
    "start_time": "2023-03-17T07:02:47.825Z"
   },
   {
    "duration": 410,
    "start_time": "2023-03-17T07:02:47.832Z"
   },
   {
    "duration": 236,
    "start_time": "2023-03-17T07:02:48.244Z"
   },
   {
    "duration": 18,
    "start_time": "2023-03-17T07:02:48.482Z"
   },
   {
    "duration": 38,
    "start_time": "2023-03-17T07:02:48.502Z"
   },
   {
    "duration": 4,
    "start_time": "2023-03-17T07:02:48.542Z"
   },
   {
    "duration": 15,
    "start_time": "2023-03-17T07:02:48.547Z"
   },
   {
    "duration": 11,
    "start_time": "2023-03-17T07:02:48.574Z"
   },
   {
    "duration": 13,
    "start_time": "2023-03-17T07:02:48.587Z"
   },
   {
    "duration": 20,
    "start_time": "2023-03-17T07:02:48.602Z"
   },
   {
    "duration": 21,
    "start_time": "2023-03-17T07:02:48.624Z"
   },
   {
    "duration": 17,
    "start_time": "2023-03-17T07:02:48.647Z"
   },
   {
    "duration": 637,
    "start_time": "2023-03-17T07:02:48.666Z"
   },
   {
    "duration": 0,
    "start_time": "2023-03-17T07:02:49.304Z"
   },
   {
    "duration": 0,
    "start_time": "2023-03-17T07:02:49.306Z"
   },
   {
    "duration": 0,
    "start_time": "2023-03-17T07:02:49.307Z"
   },
   {
    "duration": 0,
    "start_time": "2023-03-17T07:02:49.308Z"
   },
   {
    "duration": 0,
    "start_time": "2023-03-17T07:02:49.309Z"
   },
   {
    "duration": 0,
    "start_time": "2023-03-17T07:02:49.311Z"
   },
   {
    "duration": 6,
    "start_time": "2023-03-17T07:22:32.300Z"
   },
   {
    "duration": 3,
    "start_time": "2023-03-17T07:49:07.525Z"
   },
   {
    "duration": 5,
    "start_time": "2023-03-17T07:49:07.726Z"
   },
   {
    "duration": 5,
    "start_time": "2023-03-17T07:49:07.910Z"
   },
   {
    "duration": 4,
    "start_time": "2023-03-17T07:49:42.013Z"
   },
   {
    "duration": 6,
    "start_time": "2023-03-17T07:50:20.495Z"
   },
   {
    "duration": 5,
    "start_time": "2023-03-17T07:50:20.796Z"
   },
   {
    "duration": 6,
    "start_time": "2023-03-17T07:50:21.252Z"
   },
   {
    "duration": 6,
    "start_time": "2023-03-17T08:14:19.793Z"
   },
   {
    "duration": 6,
    "start_time": "2023-03-17T08:14:20.273Z"
   },
   {
    "duration": 5,
    "start_time": "2023-03-17T08:14:25.385Z"
   },
   {
    "duration": 6,
    "start_time": "2023-03-17T08:14:25.648Z"
   },
   {
    "duration": 4,
    "start_time": "2023-03-17T08:14:26.649Z"
   },
   {
    "duration": 5,
    "start_time": "2023-03-17T08:14:27.208Z"
   },
   {
    "duration": 5,
    "start_time": "2023-03-17T08:14:34.802Z"
   },
   {
    "duration": 11,
    "start_time": "2023-03-17T08:14:34.810Z"
   },
   {
    "duration": 5,
    "start_time": "2023-03-17T08:14:34.920Z"
   },
   {
    "duration": 5,
    "start_time": "2023-03-17T08:14:36.140Z"
   },
   {
    "duration": 6,
    "start_time": "2023-03-17T08:14:42.342Z"
   },
   {
    "duration": 5,
    "start_time": "2023-03-17T08:14:42.600Z"
   },
   {
    "duration": 5,
    "start_time": "2023-03-17T08:14:42.969Z"
   },
   {
    "duration": 5,
    "start_time": "2023-03-17T08:14:43.408Z"
   },
   {
    "duration": 6,
    "start_time": "2023-03-17T09:04:03.992Z"
   },
   {
    "duration": 20,
    "start_time": "2023-03-17T09:23:09.926Z"
   },
   {
    "duration": 25,
    "start_time": "2023-03-17T09:25:55.108Z"
   },
   {
    "duration": 236,
    "start_time": "2023-03-17T09:27:26.180Z"
   },
   {
    "duration": 4,
    "start_time": "2023-03-17T09:27:32.387Z"
   },
   {
    "duration": 31,
    "start_time": "2023-03-17T09:30:11.763Z"
   },
   {
    "duration": 53,
    "start_time": "2023-03-17T09:30:49.698Z"
   },
   {
    "duration": 22,
    "start_time": "2023-03-17T09:30:58.809Z"
   },
   {
    "duration": 12,
    "start_time": "2023-03-17T09:32:15.793Z"
   },
   {
    "duration": 21,
    "start_time": "2023-03-17T09:32:20.597Z"
   },
   {
    "duration": 5,
    "start_time": "2023-03-17T09:32:20.805Z"
   },
   {
    "duration": 13,
    "start_time": "2023-03-17T09:32:25.536Z"
   },
   {
    "duration": 128,
    "start_time": "2023-03-17T09:32:57.945Z"
   },
   {
    "duration": 5,
    "start_time": "2023-03-17T09:33:07.711Z"
   },
   {
    "duration": 12,
    "start_time": "2023-03-17T09:33:11.644Z"
   },
   {
    "duration": 25,
    "start_time": "2023-03-17T09:33:53.176Z"
   },
   {
    "duration": 12,
    "start_time": "2023-03-17T09:35:46.336Z"
   },
   {
    "duration": 14,
    "start_time": "2023-03-17T09:35:50.054Z"
   },
   {
    "duration": 832,
    "start_time": "2023-03-17T09:36:36.654Z"
   },
   {
    "duration": 5,
    "start_time": "2023-03-17T09:36:43.103Z"
   },
   {
    "duration": 10,
    "start_time": "2023-03-17T09:37:15.326Z"
   },
   {
    "duration": 21,
    "start_time": "2023-03-17T09:40:20.630Z"
   },
   {
    "duration": 12,
    "start_time": "2023-03-17T09:41:32.147Z"
   },
   {
    "duration": 4,
    "start_time": "2023-03-17T09:43:14.643Z"
   },
   {
    "duration": 12,
    "start_time": "2023-03-17T09:43:23.538Z"
   },
   {
    "duration": 4,
    "start_time": "2023-03-17T09:43:43.485Z"
   },
   {
    "duration": 12,
    "start_time": "2023-03-17T09:43:43.794Z"
   },
   {
    "duration": 545,
    "start_time": "2023-03-17T09:44:04.942Z"
   },
   {
    "duration": 0,
    "start_time": "2023-03-17T09:44:05.489Z"
   },
   {
    "duration": 12,
    "start_time": "2023-03-17T09:44:54.444Z"
   },
   {
    "duration": 1413,
    "start_time": "2023-03-17T09:45:01.304Z"
   },
   {
    "duration": 29,
    "start_time": "2023-03-17T09:45:02.720Z"
   },
   {
    "duration": 86,
    "start_time": "2023-03-17T09:45:02.751Z"
   },
   {
    "duration": 31,
    "start_time": "2023-03-17T09:45:02.839Z"
   },
   {
    "duration": 576,
    "start_time": "2023-03-17T09:45:02.873Z"
   },
   {
    "duration": 13,
    "start_time": "2023-03-17T09:45:03.450Z"
   },
   {
    "duration": 24,
    "start_time": "2023-03-17T09:45:03.465Z"
   },
   {
    "duration": 17,
    "start_time": "2023-03-17T09:45:03.491Z"
   },
   {
    "duration": 29,
    "start_time": "2023-03-17T09:45:03.509Z"
   },
   {
    "duration": 12,
    "start_time": "2023-03-17T09:45:03.540Z"
   },
   {
    "duration": 32,
    "start_time": "2023-03-17T09:45:03.554Z"
   },
   {
    "duration": 34,
    "start_time": "2023-03-17T09:45:03.589Z"
   },
   {
    "duration": 84,
    "start_time": "2023-03-17T09:45:03.625Z"
   },
   {
    "duration": 6,
    "start_time": "2023-03-17T09:45:03.712Z"
   },
   {
    "duration": 22,
    "start_time": "2023-03-17T09:45:03.720Z"
   },
   {
    "duration": 160,
    "start_time": "2023-03-17T09:45:03.744Z"
   },
   {
    "duration": 7,
    "start_time": "2023-03-17T09:45:03.905Z"
   },
   {
    "duration": 13,
    "start_time": "2023-03-17T09:45:03.914Z"
   },
   {
    "duration": 14,
    "start_time": "2023-03-17T09:45:03.929Z"
   },
   {
    "duration": 61,
    "start_time": "2023-03-17T09:45:03.945Z"
   },
   {
    "duration": 9,
    "start_time": "2023-03-17T09:45:04.008Z"
   },
   {
    "duration": 22,
    "start_time": "2023-03-17T09:45:04.018Z"
   },
   {
    "duration": 253,
    "start_time": "2023-03-17T09:45:04.042Z"
   },
   {
    "duration": 254,
    "start_time": "2023-03-17T09:45:04.298Z"
   },
   {
    "duration": 63,
    "start_time": "2023-03-17T09:45:04.554Z"
   },
   {
    "duration": 8,
    "start_time": "2023-03-17T09:45:04.620Z"
   },
   {
    "duration": 23,
    "start_time": "2023-03-17T09:45:04.630Z"
   },
   {
    "duration": 40,
    "start_time": "2023-03-17T09:45:04.673Z"
   },
   {
    "duration": 75,
    "start_time": "2023-03-17T09:45:04.715Z"
   },
   {
    "duration": 18,
    "start_time": "2023-03-17T09:45:04.792Z"
   },
   {
    "duration": 5,
    "start_time": "2023-03-17T09:45:04.813Z"
   },
   {
    "duration": 10,
    "start_time": "2023-03-17T09:45:04.820Z"
   },
   {
    "duration": 14,
    "start_time": "2023-03-17T09:45:04.832Z"
   },
   {
    "duration": 30,
    "start_time": "2023-03-17T09:45:04.848Z"
   },
   {
    "duration": 44,
    "start_time": "2023-03-17T09:45:04.880Z"
   },
   {
    "duration": 7,
    "start_time": "2023-03-17T09:45:04.926Z"
   },
   {
    "duration": 19,
    "start_time": "2023-03-17T09:45:04.935Z"
   },
   {
    "duration": 25,
    "start_time": "2023-03-17T09:45:04.956Z"
   },
   {
    "duration": 18,
    "start_time": "2023-03-17T09:45:04.982Z"
   },
   {
    "duration": 35,
    "start_time": "2023-03-17T09:45:05.002Z"
   },
   {
    "duration": 18,
    "start_time": "2023-03-17T09:45:05.042Z"
   },
   {
    "duration": 4,
    "start_time": "2023-03-17T09:45:05.062Z"
   },
   {
    "duration": 32,
    "start_time": "2023-03-17T09:45:05.068Z"
   },
   {
    "duration": 7,
    "start_time": "2023-03-17T09:45:05.102Z"
   },
   {
    "duration": 23,
    "start_time": "2023-03-17T09:45:05.112Z"
   },
   {
    "duration": 29,
    "start_time": "2023-03-17T09:45:05.138Z"
   },
   {
    "duration": 189,
    "start_time": "2023-03-17T09:45:05.173Z"
   },
   {
    "duration": 37,
    "start_time": "2023-03-17T09:45:05.365Z"
   },
   {
    "duration": 392,
    "start_time": "2023-03-17T09:45:05.404Z"
   },
   {
    "duration": 13,
    "start_time": "2023-03-17T09:45:05.798Z"
   },
   {
    "duration": 86,
    "start_time": "2023-03-17T09:45:05.813Z"
   },
   {
    "duration": 799,
    "start_time": "2023-03-17T09:45:05.901Z"
   },
   {
    "duration": 604,
    "start_time": "2023-03-17T09:45:06.702Z"
   },
   {
    "duration": 683,
    "start_time": "2023-03-17T09:45:07.307Z"
   },
   {
    "duration": 10,
    "start_time": "2023-03-17T09:45:07.991Z"
   },
   {
    "duration": 125,
    "start_time": "2023-03-17T09:45:08.004Z"
   },
   {
    "duration": 6,
    "start_time": "2023-03-17T09:45:08.131Z"
   },
   {
    "duration": 9,
    "start_time": "2023-03-17T09:45:08.139Z"
   },
   {
    "duration": 297,
    "start_time": "2023-03-17T09:45:08.150Z"
   },
   {
    "duration": 15,
    "start_time": "2023-03-17T09:45:08.449Z"
   },
   {
    "duration": 7,
    "start_time": "2023-03-17T09:45:08.473Z"
   },
   {
    "duration": 432,
    "start_time": "2023-03-17T09:45:08.482Z"
   },
   {
    "duration": 284,
    "start_time": "2023-03-17T09:45:08.916Z"
   },
   {
    "duration": 14,
    "start_time": "2023-03-17T09:45:09.202Z"
   },
   {
    "duration": 36,
    "start_time": "2023-03-17T09:45:09.218Z"
   },
   {
    "duration": 4,
    "start_time": "2023-03-17T09:45:09.256Z"
   },
   {
    "duration": 32,
    "start_time": "2023-03-17T09:45:09.262Z"
   },
   {
    "duration": 12,
    "start_time": "2023-03-17T09:45:09.297Z"
   },
   {
    "duration": 15,
    "start_time": "2023-03-17T09:45:09.311Z"
   },
   {
    "duration": 8,
    "start_time": "2023-03-17T09:45:09.328Z"
   },
   {
    "duration": 12,
    "start_time": "2023-03-17T09:45:09.338Z"
   },
   {
    "duration": 16,
    "start_time": "2023-03-17T09:45:09.352Z"
   },
   {
    "duration": 54,
    "start_time": "2023-03-17T09:45:09.370Z"
   },
   {
    "duration": 96,
    "start_time": "2023-03-17T09:45:09.426Z"
   },
   {
    "duration": 22,
    "start_time": "2023-03-17T09:45:09.524Z"
   },
   {
    "duration": 5,
    "start_time": "2023-03-17T09:45:09.548Z"
   },
   {
    "duration": 200,
    "start_time": "2023-03-17T09:45:09.555Z"
   },
   {
    "duration": 0,
    "start_time": "2023-03-17T09:45:09.757Z"
   },
   {
    "duration": 0,
    "start_time": "2023-03-17T09:45:09.759Z"
   },
   {
    "duration": 0,
    "start_time": "2023-03-17T09:45:09.760Z"
   },
   {
    "duration": 0,
    "start_time": "2023-03-17T09:45:09.761Z"
   },
   {
    "duration": 0,
    "start_time": "2023-03-17T09:45:09.762Z"
   },
   {
    "duration": 0,
    "start_time": "2023-03-17T09:45:09.772Z"
   },
   {
    "duration": 0,
    "start_time": "2023-03-17T09:45:09.773Z"
   },
   {
    "duration": 0,
    "start_time": "2023-03-17T09:45:09.776Z"
   },
   {
    "duration": 0,
    "start_time": "2023-03-17T09:45:09.777Z"
   },
   {
    "duration": 0,
    "start_time": "2023-03-17T09:45:09.779Z"
   },
   {
    "duration": 5,
    "start_time": "2023-03-17T09:45:20.553Z"
   },
   {
    "duration": 10,
    "start_time": "2023-03-17T09:45:20.785Z"
   },
   {
    "duration": 21,
    "start_time": "2023-03-17T09:45:21.129Z"
   },
   {
    "duration": 14,
    "start_time": "2023-03-17T09:50:54.199Z"
   },
   {
    "duration": 17,
    "start_time": "2023-03-17T09:51:02.334Z"
   },
   {
    "duration": 11,
    "start_time": "2023-03-17T09:51:07.638Z"
   },
   {
    "duration": 3,
    "start_time": "2023-03-17T09:53:47.340Z"
   },
   {
    "duration": 3,
    "start_time": "2023-03-17T09:55:55.387Z"
   },
   {
    "duration": 19,
    "start_time": "2023-03-17T09:55:55.554Z"
   },
   {
    "duration": 16,
    "start_time": "2023-03-17T09:57:22.022Z"
   },
   {
    "duration": 1300,
    "start_time": "2023-03-17T09:58:41.327Z"
   },
   {
    "duration": 29,
    "start_time": "2023-03-17T09:58:42.629Z"
   },
   {
    "duration": 79,
    "start_time": "2023-03-17T09:58:42.660Z"
   },
   {
    "duration": 29,
    "start_time": "2023-03-17T09:58:42.741Z"
   },
   {
    "duration": 543,
    "start_time": "2023-03-17T09:58:42.772Z"
   },
   {
    "duration": 12,
    "start_time": "2023-03-17T09:58:43.318Z"
   },
   {
    "duration": 15,
    "start_time": "2023-03-17T09:58:43.332Z"
   },
   {
    "duration": 10,
    "start_time": "2023-03-17T09:58:43.349Z"
   },
   {
    "duration": 22,
    "start_time": "2023-03-17T09:58:43.386Z"
   },
   {
    "duration": 8,
    "start_time": "2023-03-17T09:58:43.410Z"
   },
   {
    "duration": 15,
    "start_time": "2023-03-17T09:58:43.420Z"
   },
   {
    "duration": 20,
    "start_time": "2023-03-17T09:58:43.437Z"
   },
   {
    "duration": 80,
    "start_time": "2023-03-17T09:58:43.458Z"
   },
   {
    "duration": 5,
    "start_time": "2023-03-17T09:58:43.541Z"
   },
   {
    "duration": 30,
    "start_time": "2023-03-17T09:58:43.548Z"
   },
   {
    "duration": 134,
    "start_time": "2023-03-17T09:58:43.580Z"
   },
   {
    "duration": 6,
    "start_time": "2023-03-17T09:58:43.716Z"
   },
   {
    "duration": 15,
    "start_time": "2023-03-17T09:58:43.724Z"
   },
   {
    "duration": 18,
    "start_time": "2023-03-17T09:58:43.740Z"
   },
   {
    "duration": 45,
    "start_time": "2023-03-17T09:58:43.760Z"
   },
   {
    "duration": 8,
    "start_time": "2023-03-17T09:58:43.807Z"
   },
   {
    "duration": 14,
    "start_time": "2023-03-17T09:58:43.816Z"
   },
   {
    "duration": 223,
    "start_time": "2023-03-17T09:58:43.831Z"
   },
   {
    "duration": 244,
    "start_time": "2023-03-17T09:58:44.056Z"
   },
   {
    "duration": 46,
    "start_time": "2023-03-17T09:58:44.303Z"
   },
   {
    "duration": 26,
    "start_time": "2023-03-17T09:58:44.351Z"
   },
   {
    "duration": 27,
    "start_time": "2023-03-17T09:58:44.379Z"
   },
   {
    "duration": 32,
    "start_time": "2023-03-17T09:58:44.408Z"
   },
   {
    "duration": 64,
    "start_time": "2023-03-17T09:58:44.442Z"
   },
   {
    "duration": 17,
    "start_time": "2023-03-17T09:58:44.508Z"
   },
   {
    "duration": 4,
    "start_time": "2023-03-17T09:58:44.526Z"
   },
   {
    "duration": 19,
    "start_time": "2023-03-17T09:58:44.531Z"
   },
   {
    "duration": 22,
    "start_time": "2023-03-17T09:58:44.552Z"
   },
   {
    "duration": 23,
    "start_time": "2023-03-17T09:58:44.575Z"
   },
   {
    "duration": 21,
    "start_time": "2023-03-17T09:58:44.601Z"
   },
   {
    "duration": 7,
    "start_time": "2023-03-17T09:58:44.624Z"
   },
   {
    "duration": 19,
    "start_time": "2023-03-17T09:58:44.632Z"
   },
   {
    "duration": 10,
    "start_time": "2023-03-17T09:58:44.653Z"
   },
   {
    "duration": 13,
    "start_time": "2023-03-17T09:58:44.673Z"
   },
   {
    "duration": 25,
    "start_time": "2023-03-17T09:58:44.688Z"
   },
   {
    "duration": 18,
    "start_time": "2023-03-17T09:58:44.718Z"
   },
   {
    "duration": 4,
    "start_time": "2023-03-17T09:58:44.738Z"
   },
   {
    "duration": 40,
    "start_time": "2023-03-17T09:58:44.743Z"
   },
   {
    "duration": 7,
    "start_time": "2023-03-17T09:58:44.786Z"
   },
   {
    "duration": 21,
    "start_time": "2023-03-17T09:58:44.795Z"
   },
   {
    "duration": 22,
    "start_time": "2023-03-17T09:58:44.818Z"
   },
   {
    "duration": 164,
    "start_time": "2023-03-17T09:58:44.841Z"
   },
   {
    "duration": 25,
    "start_time": "2023-03-17T09:58:45.007Z"
   },
   {
    "duration": 353,
    "start_time": "2023-03-17T09:58:45.033Z"
   },
   {
    "duration": 13,
    "start_time": "2023-03-17T09:58:45.388Z"
   },
   {
    "duration": 24,
    "start_time": "2023-03-17T09:58:45.403Z"
   },
   {
    "duration": 361,
    "start_time": "2023-03-17T09:58:45.429Z"
   },
   {
    "duration": 272,
    "start_time": "2023-03-17T09:58:45.792Z"
   },
   {
    "duration": 287,
    "start_time": "2023-03-17T09:58:46.065Z"
   },
   {
    "duration": 10,
    "start_time": "2023-03-17T09:58:46.354Z"
   },
   {
    "duration": 121,
    "start_time": "2023-03-17T09:58:46.366Z"
   },
   {
    "duration": 6,
    "start_time": "2023-03-17T09:58:46.489Z"
   },
   {
    "duration": 10,
    "start_time": "2023-03-17T09:58:46.497Z"
   },
   {
    "duration": 346,
    "start_time": "2023-03-17T09:58:46.508Z"
   },
   {
    "duration": 29,
    "start_time": "2023-03-17T09:58:46.856Z"
   },
   {
    "duration": 5,
    "start_time": "2023-03-17T09:58:46.887Z"
   },
   {
    "duration": 448,
    "start_time": "2023-03-17T09:58:46.893Z"
   },
   {
    "duration": 193,
    "start_time": "2023-03-17T09:58:47.343Z"
   },
   {
    "duration": 13,
    "start_time": "2023-03-17T09:58:47.538Z"
   },
   {
    "duration": 47,
    "start_time": "2023-03-17T09:58:47.553Z"
   },
   {
    "duration": 31,
    "start_time": "2023-03-17T09:58:47.606Z"
   },
   {
    "duration": 8,
    "start_time": "2023-03-17T09:58:47.639Z"
   },
   {
    "duration": 21,
    "start_time": "2023-03-17T09:58:47.649Z"
   },
   {
    "duration": 17,
    "start_time": "2023-03-17T09:58:47.682Z"
   },
   {
    "duration": 8,
    "start_time": "2023-03-17T09:58:47.702Z"
   },
   {
    "duration": 18,
    "start_time": "2023-03-17T09:58:47.712Z"
   },
   {
    "duration": 34,
    "start_time": "2023-03-17T09:58:47.733Z"
   },
   {
    "duration": 36,
    "start_time": "2023-03-17T09:58:47.769Z"
   },
   {
    "duration": 31,
    "start_time": "2023-03-17T09:58:47.807Z"
   },
   {
    "duration": 30,
    "start_time": "2023-03-17T09:58:47.840Z"
   },
   {
    "duration": 22,
    "start_time": "2023-03-17T09:58:47.878Z"
   },
   {
    "duration": 9,
    "start_time": "2023-03-17T09:58:47.903Z"
   },
   {
    "duration": 219,
    "start_time": "2023-03-17T09:58:47.913Z"
   },
   {
    "duration": 0,
    "start_time": "2023-03-17T09:58:48.134Z"
   },
   {
    "duration": 0,
    "start_time": "2023-03-17T09:58:48.135Z"
   },
   {
    "duration": 0,
    "start_time": "2023-03-17T09:58:48.136Z"
   },
   {
    "duration": 0,
    "start_time": "2023-03-17T09:58:48.138Z"
   },
   {
    "duration": 0,
    "start_time": "2023-03-17T09:58:48.139Z"
   },
   {
    "duration": 0,
    "start_time": "2023-03-17T09:58:48.140Z"
   },
   {
    "duration": 0,
    "start_time": "2023-03-17T09:58:48.141Z"
   },
   {
    "duration": 0,
    "start_time": "2023-03-17T09:58:48.143Z"
   },
   {
    "duration": 0,
    "start_time": "2023-03-17T09:58:48.145Z"
   },
   {
    "duration": 0,
    "start_time": "2023-03-17T09:58:48.147Z"
   },
   {
    "duration": 0,
    "start_time": "2023-03-17T09:58:48.148Z"
   },
   {
    "duration": 0,
    "start_time": "2023-03-17T09:58:48.149Z"
   },
   {
    "duration": 24,
    "start_time": "2023-03-17T09:59:32.161Z"
   },
   {
    "duration": 5,
    "start_time": "2023-03-17T10:00:06.850Z"
   },
   {
    "duration": 11,
    "start_time": "2023-03-17T10:00:08.889Z"
   },
   {
    "duration": 7,
    "start_time": "2023-03-17T10:00:42.485Z"
   },
   {
    "duration": 16,
    "start_time": "2023-03-17T10:00:43.017Z"
   },
   {
    "duration": 25,
    "start_time": "2023-03-17T10:01:26.760Z"
   },
   {
    "duration": 6,
    "start_time": "2023-03-17T10:05:40.803Z"
   },
   {
    "duration": 25,
    "start_time": "2023-03-17T10:05:50.862Z"
   },
   {
    "duration": 21,
    "start_time": "2023-03-17T10:06:31.414Z"
   },
   {
    "duration": 6,
    "start_time": "2023-03-17T10:06:59.030Z"
   },
   {
    "duration": 7,
    "start_time": "2023-03-17T10:10:13.156Z"
   },
   {
    "duration": 1472,
    "start_time": "2023-03-17T10:10:19.998Z"
   },
   {
    "duration": 33,
    "start_time": "2023-03-17T10:10:21.473Z"
   },
   {
    "duration": 76,
    "start_time": "2023-03-17T10:10:21.507Z"
   },
   {
    "duration": 42,
    "start_time": "2023-03-17T10:10:21.585Z"
   },
   {
    "duration": 591,
    "start_time": "2023-03-17T10:10:21.629Z"
   },
   {
    "duration": 12,
    "start_time": "2023-03-17T10:10:22.222Z"
   },
   {
    "duration": 12,
    "start_time": "2023-03-17T10:10:22.235Z"
   },
   {
    "duration": 37,
    "start_time": "2023-03-17T10:10:22.248Z"
   },
   {
    "duration": 40,
    "start_time": "2023-03-17T10:10:22.287Z"
   },
   {
    "duration": 16,
    "start_time": "2023-03-17T10:10:22.329Z"
   },
   {
    "duration": 23,
    "start_time": "2023-03-17T10:10:22.347Z"
   },
   {
    "duration": 40,
    "start_time": "2023-03-17T10:10:22.372Z"
   },
   {
    "duration": 80,
    "start_time": "2023-03-17T10:10:22.415Z"
   },
   {
    "duration": 6,
    "start_time": "2023-03-17T10:10:22.500Z"
   },
   {
    "duration": 22,
    "start_time": "2023-03-17T10:10:22.508Z"
   },
   {
    "duration": 134,
    "start_time": "2023-03-17T10:10:22.532Z"
   },
   {
    "duration": 9,
    "start_time": "2023-03-17T10:10:22.672Z"
   },
   {
    "duration": 24,
    "start_time": "2023-03-17T10:10:22.684Z"
   },
   {
    "duration": 17,
    "start_time": "2023-03-17T10:10:22.709Z"
   },
   {
    "duration": 33,
    "start_time": "2023-03-17T10:10:22.728Z"
   },
   {
    "duration": 26,
    "start_time": "2023-03-17T10:10:22.762Z"
   },
   {
    "duration": 24,
    "start_time": "2023-03-17T10:10:22.789Z"
   },
   {
    "duration": 191,
    "start_time": "2023-03-17T10:10:22.815Z"
   },
   {
    "duration": 239,
    "start_time": "2023-03-17T10:10:23.008Z"
   },
   {
    "duration": 62,
    "start_time": "2023-03-17T10:10:23.249Z"
   },
   {
    "duration": 45,
    "start_time": "2023-03-17T10:10:23.313Z"
   },
   {
    "duration": 40,
    "start_time": "2023-03-17T10:10:23.361Z"
   },
   {
    "duration": 31,
    "start_time": "2023-03-17T10:10:23.403Z"
   },
   {
    "duration": 64,
    "start_time": "2023-03-17T10:10:23.436Z"
   },
   {
    "duration": 18,
    "start_time": "2023-03-17T10:10:23.503Z"
   },
   {
    "duration": 4,
    "start_time": "2023-03-17T10:10:23.522Z"
   },
   {
    "duration": 6,
    "start_time": "2023-03-17T10:10:23.528Z"
   },
   {
    "duration": 10,
    "start_time": "2023-03-17T10:10:23.536Z"
   },
   {
    "duration": 27,
    "start_time": "2023-03-17T10:10:23.548Z"
   },
   {
    "duration": 40,
    "start_time": "2023-03-17T10:10:23.587Z"
   },
   {
    "duration": 7,
    "start_time": "2023-03-17T10:10:23.629Z"
   },
   {
    "duration": 11,
    "start_time": "2023-03-17T10:10:23.637Z"
   },
   {
    "duration": 18,
    "start_time": "2023-03-17T10:10:23.650Z"
   },
   {
    "duration": 32,
    "start_time": "2023-03-17T10:10:23.669Z"
   },
   {
    "duration": 23,
    "start_time": "2023-03-17T10:10:23.702Z"
   },
   {
    "duration": 16,
    "start_time": "2023-03-17T10:10:23.729Z"
   },
   {
    "duration": 4,
    "start_time": "2023-03-17T10:10:23.747Z"
   },
   {
    "duration": 11,
    "start_time": "2023-03-17T10:10:23.752Z"
   },
   {
    "duration": 10,
    "start_time": "2023-03-17T10:10:23.764Z"
   },
   {
    "duration": 43,
    "start_time": "2023-03-17T10:10:23.775Z"
   },
   {
    "duration": 21,
    "start_time": "2023-03-17T10:10:23.820Z"
   },
   {
    "duration": 169,
    "start_time": "2023-03-17T10:10:23.843Z"
   },
   {
    "duration": 27,
    "start_time": "2023-03-17T10:10:24.014Z"
   },
   {
    "duration": 368,
    "start_time": "2023-03-17T10:10:24.043Z"
   },
   {
    "duration": 11,
    "start_time": "2023-03-17T10:10:24.413Z"
   },
   {
    "duration": 18,
    "start_time": "2023-03-17T10:10:24.426Z"
   },
   {
    "duration": 31,
    "start_time": "2023-03-17T10:10:24.446Z"
   },
   {
    "duration": 367,
    "start_time": "2023-03-17T10:10:24.480Z"
   },
   {
    "duration": 307,
    "start_time": "2023-03-17T10:10:24.849Z"
   },
   {
    "duration": 288,
    "start_time": "2023-03-17T10:10:25.158Z"
   },
   {
    "duration": 11,
    "start_time": "2023-03-17T10:10:25.448Z"
   },
   {
    "duration": 116,
    "start_time": "2023-03-17T10:10:25.479Z"
   },
   {
    "duration": 5,
    "start_time": "2023-03-17T10:10:25.597Z"
   },
   {
    "duration": 13,
    "start_time": "2023-03-17T10:10:25.604Z"
   },
   {
    "duration": 315,
    "start_time": "2023-03-17T10:10:25.619Z"
   },
   {
    "duration": 15,
    "start_time": "2023-03-17T10:10:25.935Z"
   },
   {
    "duration": 5,
    "start_time": "2023-03-17T10:10:25.952Z"
   },
   {
    "duration": 436,
    "start_time": "2023-03-17T10:10:25.974Z"
   },
   {
    "duration": 284,
    "start_time": "2023-03-17T10:10:26.413Z"
   },
   {
    "duration": 18,
    "start_time": "2023-03-17T10:10:26.700Z"
   },
   {
    "duration": 22,
    "start_time": "2023-03-17T10:10:26.720Z"
   },
   {
    "duration": 4,
    "start_time": "2023-03-17T10:10:26.744Z"
   },
   {
    "duration": 14,
    "start_time": "2023-03-17T10:10:26.783Z"
   },
   {
    "duration": 9,
    "start_time": "2023-03-17T10:10:26.806Z"
   },
   {
    "duration": 9,
    "start_time": "2023-03-17T10:10:26.816Z"
   },
   {
    "duration": 9,
    "start_time": "2023-03-17T10:10:26.827Z"
   },
   {
    "duration": 10,
    "start_time": "2023-03-17T10:10:26.837Z"
   },
   {
    "duration": 15,
    "start_time": "2023-03-17T10:10:26.849Z"
   },
   {
    "duration": 31,
    "start_time": "2023-03-17T10:10:26.866Z"
   },
   {
    "duration": 7,
    "start_time": "2023-03-17T10:10:26.903Z"
   },
   {
    "duration": 22,
    "start_time": "2023-03-17T10:10:26.912Z"
   },
   {
    "duration": 13,
    "start_time": "2023-03-17T10:10:26.936Z"
   },
   {
    "duration": 4,
    "start_time": "2023-03-17T10:10:26.951Z"
   },
   {
    "duration": 33,
    "start_time": "2023-03-17T10:10:26.957Z"
   },
   {
    "duration": 16,
    "start_time": "2023-03-17T10:10:27.003Z"
   },
   {
    "duration": 16,
    "start_time": "2023-03-17T10:10:27.021Z"
   },
   {
    "duration": 8,
    "start_time": "2023-03-17T10:10:27.039Z"
   },
   {
    "duration": 21,
    "start_time": "2023-03-17T10:10:39.620Z"
   },
   {
    "duration": 161,
    "start_time": "2023-03-17T10:31:51.529Z"
   },
   {
    "duration": 6,
    "start_time": "2023-03-17T10:31:51.792Z"
   },
   {
    "duration": 11,
    "start_time": "2023-03-17T10:31:52.291Z"
   },
   {
    "duration": 185,
    "start_time": "2023-03-17T10:32:15.410Z"
   },
   {
    "duration": 171,
    "start_time": "2023-03-17T10:32:49.418Z"
   },
   {
    "duration": 159,
    "start_time": "2023-03-17T10:33:19.402Z"
   },
   {
    "duration": 5,
    "start_time": "2023-03-17T10:33:19.650Z"
   },
   {
    "duration": 6,
    "start_time": "2023-03-17T10:37:53.956Z"
   },
   {
    "duration": 7,
    "start_time": "2023-03-17T10:37:56.289Z"
   },
   {
    "duration": 8,
    "start_time": "2023-03-17T10:37:56.600Z"
   },
   {
    "duration": 12,
    "start_time": "2023-03-17T10:37:56.871Z"
   },
   {
    "duration": 8,
    "start_time": "2023-03-17T10:40:49.070Z"
   },
   {
    "duration": 6,
    "start_time": "2023-03-17T10:40:50.334Z"
   },
   {
    "duration": 1330,
    "start_time": "2023-03-17T10:41:28.001Z"
   },
   {
    "duration": 29,
    "start_time": "2023-03-17T10:41:29.333Z"
   },
   {
    "duration": 81,
    "start_time": "2023-03-17T10:41:29.364Z"
   },
   {
    "duration": 39,
    "start_time": "2023-03-17T10:41:29.447Z"
   },
   {
    "duration": 553,
    "start_time": "2023-03-17T10:41:29.488Z"
   },
   {
    "duration": 14,
    "start_time": "2023-03-17T10:41:30.043Z"
   },
   {
    "duration": 30,
    "start_time": "2023-03-17T10:41:30.059Z"
   },
   {
    "duration": 22,
    "start_time": "2023-03-17T10:41:30.091Z"
   },
   {
    "duration": 31,
    "start_time": "2023-03-17T10:41:30.114Z"
   },
   {
    "duration": 9,
    "start_time": "2023-03-17T10:41:30.148Z"
   },
   {
    "duration": 26,
    "start_time": "2023-03-17T10:41:30.159Z"
   },
   {
    "duration": 21,
    "start_time": "2023-03-17T10:41:30.187Z"
   },
   {
    "duration": 110,
    "start_time": "2023-03-17T10:41:30.209Z"
   },
   {
    "duration": 5,
    "start_time": "2023-03-17T10:41:30.321Z"
   },
   {
    "duration": 29,
    "start_time": "2023-03-17T10:41:30.328Z"
   },
   {
    "duration": 178,
    "start_time": "2023-03-17T10:41:30.359Z"
   },
   {
    "duration": 8,
    "start_time": "2023-03-17T10:41:30.540Z"
   },
   {
    "duration": 47,
    "start_time": "2023-03-17T10:41:30.550Z"
   },
   {
    "duration": 47,
    "start_time": "2023-03-17T10:41:30.600Z"
   },
   {
    "duration": 54,
    "start_time": "2023-03-17T10:41:30.649Z"
   },
   {
    "duration": 25,
    "start_time": "2023-03-17T10:41:30.705Z"
   },
   {
    "duration": 29,
    "start_time": "2023-03-17T10:41:30.731Z"
   },
   {
    "duration": 240,
    "start_time": "2023-03-17T10:41:30.762Z"
   },
   {
    "duration": 232,
    "start_time": "2023-03-17T10:41:31.004Z"
   },
   {
    "duration": 57,
    "start_time": "2023-03-17T10:41:31.237Z"
   },
   {
    "duration": 24,
    "start_time": "2023-03-17T10:41:31.296Z"
   },
   {
    "duration": 49,
    "start_time": "2023-03-17T10:41:31.322Z"
   },
   {
    "duration": 50,
    "start_time": "2023-03-17T10:41:31.387Z"
   },
   {
    "duration": 78,
    "start_time": "2023-03-17T10:41:31.438Z"
   },
   {
    "duration": 30,
    "start_time": "2023-03-17T10:41:31.517Z"
   },
   {
    "duration": 58,
    "start_time": "2023-03-17T10:41:31.549Z"
   },
   {
    "duration": 17,
    "start_time": "2023-03-17T10:41:31.609Z"
   },
   {
    "duration": 11,
    "start_time": "2023-03-17T10:41:31.628Z"
   },
   {
    "duration": 8,
    "start_time": "2023-03-17T10:41:31.641Z"
   },
   {
    "duration": 29,
    "start_time": "2023-03-17T10:41:31.651Z"
   },
   {
    "duration": 15,
    "start_time": "2023-03-17T10:41:31.682Z"
   },
   {
    "duration": 22,
    "start_time": "2023-03-17T10:41:31.699Z"
   },
   {
    "duration": 43,
    "start_time": "2023-03-17T10:41:31.722Z"
   },
   {
    "duration": 46,
    "start_time": "2023-03-17T10:41:31.767Z"
   },
   {
    "duration": 48,
    "start_time": "2023-03-17T10:41:31.815Z"
   },
   {
    "duration": 22,
    "start_time": "2023-03-17T10:41:31.865Z"
   },
   {
    "duration": 16,
    "start_time": "2023-03-17T10:41:31.889Z"
   },
   {
    "duration": 18,
    "start_time": "2023-03-17T10:41:31.907Z"
   },
   {
    "duration": 29,
    "start_time": "2023-03-17T10:41:31.927Z"
   },
   {
    "duration": 58,
    "start_time": "2023-03-17T10:41:31.958Z"
   },
   {
    "duration": 32,
    "start_time": "2023-03-17T10:41:32.019Z"
   },
   {
    "duration": 169,
    "start_time": "2023-03-17T10:41:32.053Z"
   },
   {
    "duration": 6,
    "start_time": "2023-03-17T10:41:32.225Z"
   },
   {
    "duration": 21,
    "start_time": "2023-03-17T10:41:32.233Z"
   },
   {
    "duration": 36,
    "start_time": "2023-03-17T10:41:32.256Z"
   },
   {
    "duration": 28,
    "start_time": "2023-03-17T10:41:32.293Z"
   },
   {
    "duration": 391,
    "start_time": "2023-03-17T10:41:32.323Z"
   },
   {
    "duration": 11,
    "start_time": "2023-03-17T10:41:32.717Z"
   },
   {
    "duration": 23,
    "start_time": "2023-03-17T10:41:32.730Z"
   },
   {
    "duration": 369,
    "start_time": "2023-03-17T10:41:32.755Z"
   },
   {
    "duration": 284,
    "start_time": "2023-03-17T10:41:33.126Z"
   },
   {
    "duration": 294,
    "start_time": "2023-03-17T10:41:33.411Z"
   },
   {
    "duration": 10,
    "start_time": "2023-03-17T10:41:33.707Z"
   },
   {
    "duration": 116,
    "start_time": "2023-03-17T10:41:33.719Z"
   },
   {
    "duration": 5,
    "start_time": "2023-03-17T10:41:33.837Z"
   },
   {
    "duration": 8,
    "start_time": "2023-03-17T10:41:33.844Z"
   },
   {
    "duration": 293,
    "start_time": "2023-03-17T10:41:33.854Z"
   },
   {
    "duration": 29,
    "start_time": "2023-03-17T10:41:34.149Z"
   },
   {
    "duration": 6,
    "start_time": "2023-03-17T10:41:34.180Z"
   },
   {
    "duration": 405,
    "start_time": "2023-03-17T10:41:34.187Z"
   },
   {
    "duration": 261,
    "start_time": "2023-03-17T10:41:34.594Z"
   },
   {
    "duration": 31,
    "start_time": "2023-03-17T10:41:34.857Z"
   },
   {
    "duration": 31,
    "start_time": "2023-03-17T10:41:34.891Z"
   },
   {
    "duration": 4,
    "start_time": "2023-03-17T10:41:34.924Z"
   },
   {
    "duration": 18,
    "start_time": "2023-03-17T10:41:34.930Z"
   },
   {
    "duration": 9,
    "start_time": "2023-03-17T10:41:34.950Z"
   },
   {
    "duration": 8,
    "start_time": "2023-03-17T10:41:34.961Z"
   },
   {
    "duration": 22,
    "start_time": "2023-03-17T10:41:34.971Z"
   },
   {
    "duration": 9,
    "start_time": "2023-03-17T10:41:34.995Z"
   },
   {
    "duration": 18,
    "start_time": "2023-03-17T10:41:35.006Z"
   },
   {
    "duration": 27,
    "start_time": "2023-03-17T10:41:35.026Z"
   },
   {
    "duration": 7,
    "start_time": "2023-03-17T10:41:35.055Z"
   },
   {
    "duration": 26,
    "start_time": "2023-03-17T10:41:35.064Z"
   },
   {
    "duration": 7,
    "start_time": "2023-03-17T10:41:35.092Z"
   },
   {
    "duration": 6,
    "start_time": "2023-03-17T10:41:35.100Z"
   },
   {
    "duration": 8,
    "start_time": "2023-03-17T10:41:35.108Z"
   },
   {
    "duration": 11,
    "start_time": "2023-03-17T10:41:35.121Z"
   },
   {
    "duration": 13,
    "start_time": "2023-03-17T10:41:35.134Z"
   },
   {
    "duration": 34,
    "start_time": "2023-03-17T10:41:35.148Z"
   },
   {
    "duration": 8,
    "start_time": "2023-03-17T11:32:10.420Z"
   },
   {
    "duration": 5,
    "start_time": "2023-03-17T11:32:10.889Z"
   },
   {
    "duration": 5,
    "start_time": "2023-03-17T11:32:11.098Z"
   },
   {
    "duration": 7,
    "start_time": "2023-03-17T11:32:11.467Z"
   },
   {
    "duration": 1711,
    "start_time": "2023-03-18T06:13:47.037Z"
   },
   {
    "duration": 88,
    "start_time": "2023-03-18T06:13:48.751Z"
   },
   {
    "duration": 161,
    "start_time": "2023-03-18T06:13:48.841Z"
   },
   {
    "duration": 87,
    "start_time": "2023-03-18T06:13:49.005Z"
   },
   {
    "duration": 883,
    "start_time": "2023-03-18T06:13:49.096Z"
   },
   {
    "duration": 14,
    "start_time": "2023-03-18T06:13:49.981Z"
   },
   {
    "duration": 39,
    "start_time": "2023-03-18T06:13:49.998Z"
   },
   {
    "duration": 26,
    "start_time": "2023-03-18T06:13:50.039Z"
   },
   {
    "duration": 43,
    "start_time": "2023-03-18T06:13:50.067Z"
   },
   {
    "duration": 13,
    "start_time": "2023-03-18T06:13:50.115Z"
   },
   {
    "duration": 18,
    "start_time": "2023-03-18T06:13:50.130Z"
   },
   {
    "duration": 41,
    "start_time": "2023-03-18T06:13:50.151Z"
   },
   {
    "duration": 99,
    "start_time": "2023-03-18T06:13:50.194Z"
   },
   {
    "duration": 7,
    "start_time": "2023-03-18T06:13:50.305Z"
   },
   {
    "duration": 24,
    "start_time": "2023-03-18T06:13:50.314Z"
   },
   {
    "duration": 160,
    "start_time": "2023-03-18T06:13:50.340Z"
   },
   {
    "duration": 18,
    "start_time": "2023-03-18T06:13:50.503Z"
   },
   {
    "duration": 17,
    "start_time": "2023-03-18T06:13:50.523Z"
   },
   {
    "duration": 29,
    "start_time": "2023-03-18T06:13:50.543Z"
   },
   {
    "duration": 114,
    "start_time": "2023-03-18T06:13:50.574Z"
   },
   {
    "duration": 13,
    "start_time": "2023-03-18T06:13:50.690Z"
   },
   {
    "duration": 26,
    "start_time": "2023-03-18T06:13:50.707Z"
   },
   {
    "duration": 221,
    "start_time": "2023-03-18T06:13:50.735Z"
   },
   {
    "duration": 259,
    "start_time": "2023-03-18T06:13:50.958Z"
   },
   {
    "duration": 41,
    "start_time": "2023-03-18T06:13:51.219Z"
   },
   {
    "duration": 27,
    "start_time": "2023-03-18T06:13:51.262Z"
   },
   {
    "duration": 32,
    "start_time": "2023-03-18T06:13:51.291Z"
   },
   {
    "duration": 55,
    "start_time": "2023-03-18T06:13:51.328Z"
   },
   {
    "duration": 88,
    "start_time": "2023-03-18T06:13:51.388Z"
   },
   {
    "duration": 30,
    "start_time": "2023-03-18T06:13:51.479Z"
   },
   {
    "duration": 10,
    "start_time": "2023-03-18T06:13:51.512Z"
   },
   {
    "duration": 16,
    "start_time": "2023-03-18T06:13:51.524Z"
   },
   {
    "duration": 26,
    "start_time": "2023-03-18T06:13:51.543Z"
   },
   {
    "duration": 34,
    "start_time": "2023-03-18T06:13:51.571Z"
   },
   {
    "duration": 32,
    "start_time": "2023-03-18T06:13:51.609Z"
   },
   {
    "duration": 9,
    "start_time": "2023-03-18T06:13:51.643Z"
   },
   {
    "duration": 21,
    "start_time": "2023-03-18T06:13:51.654Z"
   },
   {
    "duration": 43,
    "start_time": "2023-03-18T06:13:51.677Z"
   },
   {
    "duration": 45,
    "start_time": "2023-03-18T06:13:51.722Z"
   },
   {
    "duration": 45,
    "start_time": "2023-03-18T06:13:51.769Z"
   },
   {
    "duration": 20,
    "start_time": "2023-03-18T06:13:51.816Z"
   },
   {
    "duration": 6,
    "start_time": "2023-03-18T06:13:51.839Z"
   },
   {
    "duration": 42,
    "start_time": "2023-03-18T06:13:51.847Z"
   },
   {
    "duration": 42,
    "start_time": "2023-03-18T06:13:51.891Z"
   },
   {
    "duration": 87,
    "start_time": "2023-03-18T06:13:51.936Z"
   },
   {
    "duration": 36,
    "start_time": "2023-03-18T06:13:52.026Z"
   },
   {
    "duration": 246,
    "start_time": "2023-03-18T06:13:52.064Z"
   },
   {
    "duration": 7,
    "start_time": "2023-03-18T06:13:52.313Z"
   },
   {
    "duration": 18,
    "start_time": "2023-03-18T06:13:52.323Z"
   },
   {
    "duration": 8,
    "start_time": "2023-03-18T06:13:52.343Z"
   },
   {
    "duration": 49,
    "start_time": "2023-03-18T06:13:52.354Z"
   },
   {
    "duration": 372,
    "start_time": "2023-03-18T06:13:52.405Z"
   },
   {
    "duration": 18,
    "start_time": "2023-03-18T06:13:52.787Z"
   },
   {
    "duration": 86,
    "start_time": "2023-03-18T06:13:52.807Z"
   },
   {
    "duration": 422,
    "start_time": "2023-03-18T06:13:52.901Z"
   },
   {
    "duration": 296,
    "start_time": "2023-03-18T06:13:53.326Z"
   },
   {
    "duration": 314,
    "start_time": "2023-03-18T06:13:53.624Z"
   },
   {
    "duration": 17,
    "start_time": "2023-03-18T06:13:53.940Z"
   },
   {
    "duration": 168,
    "start_time": "2023-03-18T06:13:53.960Z"
   },
   {
    "duration": 8,
    "start_time": "2023-03-18T06:13:54.131Z"
   },
   {
    "duration": 22,
    "start_time": "2023-03-18T06:13:54.145Z"
   },
   {
    "duration": 339,
    "start_time": "2023-03-18T06:13:54.170Z"
   },
   {
    "duration": 23,
    "start_time": "2023-03-18T06:13:54.512Z"
   },
   {
    "duration": 6,
    "start_time": "2023-03-18T06:13:54.538Z"
   },
   {
    "duration": 659,
    "start_time": "2023-03-18T06:13:54.546Z"
   },
   {
    "duration": 325,
    "start_time": "2023-03-18T06:13:55.207Z"
   },
   {
    "duration": 23,
    "start_time": "2023-03-18T06:13:55.535Z"
   },
   {
    "duration": 40,
    "start_time": "2023-03-18T06:13:55.560Z"
   },
   {
    "duration": 33,
    "start_time": "2023-03-18T06:13:55.604Z"
   },
   {
    "duration": 26,
    "start_time": "2023-03-18T06:13:55.639Z"
   },
   {
    "duration": 38,
    "start_time": "2023-03-18T06:13:55.667Z"
   },
   {
    "duration": 31,
    "start_time": "2023-03-18T06:13:55.708Z"
   },
   {
    "duration": 21,
    "start_time": "2023-03-18T06:13:55.742Z"
   },
   {
    "duration": 59,
    "start_time": "2023-03-18T06:13:55.765Z"
   },
   {
    "duration": 50,
    "start_time": "2023-03-18T06:13:55.827Z"
   },
   {
    "duration": 56,
    "start_time": "2023-03-18T06:13:55.879Z"
   },
   {
    "duration": 22,
    "start_time": "2023-03-18T06:13:55.937Z"
   },
   {
    "duration": 56,
    "start_time": "2023-03-18T06:13:55.961Z"
   },
   {
    "duration": 28,
    "start_time": "2023-03-18T06:13:56.020Z"
   },
   {
    "duration": 26,
    "start_time": "2023-03-18T06:13:56.050Z"
   },
   {
    "duration": 56,
    "start_time": "2023-03-18T07:23:13.822Z"
   },
   {
    "duration": 1496,
    "start_time": "2023-03-18T07:23:29.256Z"
   },
   {
    "duration": 99,
    "start_time": "2023-03-18T07:23:30.759Z"
   },
   {
    "duration": 297,
    "start_time": "2023-03-18T07:23:30.859Z"
   },
   {
    "duration": 133,
    "start_time": "2023-03-18T07:23:31.158Z"
   },
   {
    "duration": 1745,
    "start_time": "2023-03-18T07:23:31.293Z"
   },
   {
    "duration": 20,
    "start_time": "2023-03-18T07:23:33.045Z"
   },
   {
    "duration": 11,
    "start_time": "2023-03-18T07:23:33.066Z"
   },
   {
    "duration": 11,
    "start_time": "2023-03-18T07:23:33.078Z"
   },
   {
    "duration": 19,
    "start_time": "2023-03-18T07:23:33.090Z"
   },
   {
    "duration": 10,
    "start_time": "2023-03-18T07:23:33.111Z"
   },
   {
    "duration": 18,
    "start_time": "2023-03-18T07:23:33.150Z"
   },
   {
    "duration": 13,
    "start_time": "2023-03-18T07:23:33.170Z"
   },
   {
    "duration": 88,
    "start_time": "2023-03-18T07:23:33.185Z"
   },
   {
    "duration": 4,
    "start_time": "2023-03-18T07:23:33.278Z"
   },
   {
    "duration": 16,
    "start_time": "2023-03-18T07:23:33.284Z"
   },
   {
    "duration": 130,
    "start_time": "2023-03-18T07:23:33.302Z"
   },
   {
    "duration": 22,
    "start_time": "2023-03-18T07:23:33.434Z"
   },
   {
    "duration": 6,
    "start_time": "2023-03-18T07:23:33.458Z"
   },
   {
    "duration": 16,
    "start_time": "2023-03-18T07:23:33.465Z"
   },
   {
    "duration": 32,
    "start_time": "2023-03-18T07:23:33.483Z"
   },
   {
    "duration": 42,
    "start_time": "2023-03-18T07:23:33.517Z"
   },
   {
    "duration": 11,
    "start_time": "2023-03-18T07:23:33.560Z"
   },
   {
    "duration": 157,
    "start_time": "2023-03-18T07:23:33.572Z"
   },
   {
    "duration": 184,
    "start_time": "2023-03-18T07:23:33.730Z"
   },
   {
    "duration": 44,
    "start_time": "2023-03-18T07:23:33.915Z"
   },
   {
    "duration": 9,
    "start_time": "2023-03-18T07:23:33.961Z"
   },
   {
    "duration": 18,
    "start_time": "2023-03-18T07:23:33.971Z"
   },
   {
    "duration": 62,
    "start_time": "2023-03-18T07:23:33.991Z"
   },
   {
    "duration": 268,
    "start_time": "2023-03-18T07:23:34.054Z"
   },
   {
    "duration": 59,
    "start_time": "2023-03-18T07:23:34.324Z"
   },
   {
    "duration": 16,
    "start_time": "2023-03-18T07:23:34.384Z"
   },
   {
    "duration": 5,
    "start_time": "2023-03-18T07:23:34.401Z"
   },
   {
    "duration": 4,
    "start_time": "2023-03-18T07:23:34.408Z"
   },
   {
    "duration": 36,
    "start_time": "2023-03-18T07:23:34.413Z"
   },
   {
    "duration": 4,
    "start_time": "2023-03-18T07:23:34.458Z"
   },
   {
    "duration": 19,
    "start_time": "2023-03-18T07:23:34.464Z"
   },
   {
    "duration": 7,
    "start_time": "2023-03-18T07:23:34.485Z"
   },
   {
    "duration": 19,
    "start_time": "2023-03-18T07:23:34.494Z"
   },
   {
    "duration": 45,
    "start_time": "2023-03-18T07:23:34.517Z"
   },
   {
    "duration": 6,
    "start_time": "2023-03-18T07:23:34.565Z"
   },
   {
    "duration": 29,
    "start_time": "2023-03-18T07:23:34.577Z"
   },
   {
    "duration": 19,
    "start_time": "2023-03-18T07:23:34.608Z"
   },
   {
    "duration": 36,
    "start_time": "2023-03-18T07:23:34.630Z"
   },
   {
    "duration": 8,
    "start_time": "2023-03-18T07:23:34.668Z"
   },
   {
    "duration": 6,
    "start_time": "2023-03-18T07:23:34.678Z"
   },
   {
    "duration": 19,
    "start_time": "2023-03-18T07:23:34.685Z"
   },
   {
    "duration": 20,
    "start_time": "2023-03-18T07:23:34.706Z"
   },
   {
    "duration": 150,
    "start_time": "2023-03-18T07:23:34.727Z"
   },
   {
    "duration": 6,
    "start_time": "2023-03-18T07:23:34.879Z"
   },
   {
    "duration": 9,
    "start_time": "2023-03-18T07:23:34.887Z"
   },
   {
    "duration": 5,
    "start_time": "2023-03-18T07:23:34.898Z"
   },
   {
    "duration": 61,
    "start_time": "2023-03-18T07:23:34.905Z"
   },
   {
    "duration": 322,
    "start_time": "2023-03-18T07:23:34.969Z"
   },
   {
    "duration": 11,
    "start_time": "2023-03-18T07:23:35.293Z"
   },
   {
    "duration": 52,
    "start_time": "2023-03-18T07:23:35.306Z"
   },
   {
    "duration": 328,
    "start_time": "2023-03-18T07:23:35.360Z"
   },
   {
    "duration": 248,
    "start_time": "2023-03-18T07:23:35.690Z"
   },
   {
    "duration": 273,
    "start_time": "2023-03-18T07:23:35.941Z"
   },
   {
    "duration": 8,
    "start_time": "2023-03-18T07:23:36.216Z"
   },
   {
    "duration": 144,
    "start_time": "2023-03-18T07:23:36.225Z"
   },
   {
    "duration": 7,
    "start_time": "2023-03-18T07:23:36.371Z"
   },
   {
    "duration": 8,
    "start_time": "2023-03-18T07:23:36.380Z"
   },
   {
    "duration": 283,
    "start_time": "2023-03-18T07:23:36.390Z"
   },
   {
    "duration": 17,
    "start_time": "2023-03-18T07:23:36.675Z"
   },
   {
    "duration": 11,
    "start_time": "2023-03-18T07:23:36.694Z"
   },
   {
    "duration": 476,
    "start_time": "2023-03-18T07:23:36.707Z"
   },
   {
    "duration": 216,
    "start_time": "2023-03-18T07:23:37.185Z"
   },
   {
    "duration": 12,
    "start_time": "2023-03-18T07:23:37.403Z"
   },
   {
    "duration": 45,
    "start_time": "2023-03-18T07:23:37.418Z"
   },
   {
    "duration": 5,
    "start_time": "2023-03-18T07:23:37.465Z"
   },
   {
    "duration": 4,
    "start_time": "2023-03-18T07:23:37.471Z"
   },
   {
    "duration": 5,
    "start_time": "2023-03-18T07:23:37.477Z"
   },
   {
    "duration": 6,
    "start_time": "2023-03-18T07:23:37.483Z"
   },
   {
    "duration": 5,
    "start_time": "2023-03-18T07:23:37.490Z"
   },
   {
    "duration": 5,
    "start_time": "2023-03-18T07:23:37.497Z"
   },
   {
    "duration": 50,
    "start_time": "2023-03-18T07:23:37.503Z"
   },
   {
    "duration": 3,
    "start_time": "2023-03-18T07:23:37.554Z"
   },
   {
    "duration": 8,
    "start_time": "2023-03-18T07:23:37.558Z"
   },
   {
    "duration": 28,
    "start_time": "2023-03-18T07:23:37.568Z"
   },
   {
    "duration": 5,
    "start_time": "2023-03-18T07:23:37.598Z"
   },
   {
    "duration": 41,
    "start_time": "2023-03-18T07:23:37.604Z"
   },
   {
    "duration": 87,
    "start_time": "2023-03-18T07:28:00.372Z"
   },
   {
    "duration": 31,
    "start_time": "2023-03-18T07:28:31.372Z"
   },
   {
    "duration": 49,
    "start_time": "2023-03-18T07:28:32.056Z"
   },
   {
    "duration": 51,
    "start_time": "2023-03-18T07:28:37.459Z"
   },
   {
    "duration": 15,
    "start_time": "2023-03-18T07:34:21.991Z"
   },
   {
    "duration": 254,
    "start_time": "2023-03-18T07:36:01.856Z"
   },
   {
    "duration": 46,
    "start_time": "2023-03-18T07:36:24.039Z"
   },
   {
    "duration": 125,
    "start_time": "2023-03-18T07:37:04.274Z"
   },
   {
    "duration": 39,
    "start_time": "2023-03-18T07:40:58.941Z"
   },
   {
    "duration": 9,
    "start_time": "2023-03-18T07:41:16.000Z"
   },
   {
    "duration": 6,
    "start_time": "2023-03-18T07:42:10.899Z"
   },
   {
    "duration": 9,
    "start_time": "2023-03-18T07:42:25.235Z"
   },
   {
    "duration": 11,
    "start_time": "2023-03-18T07:45:22.746Z"
   },
   {
    "duration": 17,
    "start_time": "2023-03-18T07:47:28.841Z"
   },
   {
    "duration": 1260,
    "start_time": "2023-03-18T07:47:48.056Z"
   },
   {
    "duration": 28,
    "start_time": "2023-03-18T07:47:49.318Z"
   },
   {
    "duration": 97,
    "start_time": "2023-03-18T07:47:49.348Z"
   },
   {
    "duration": 28,
    "start_time": "2023-03-18T07:47:49.448Z"
   },
   {
    "duration": 459,
    "start_time": "2023-03-18T07:47:49.478Z"
   },
   {
    "duration": 12,
    "start_time": "2023-03-18T07:47:49.939Z"
   },
   {
    "duration": 9,
    "start_time": "2023-03-18T07:47:49.953Z"
   },
   {
    "duration": 12,
    "start_time": "2023-03-18T07:47:49.964Z"
   },
   {
    "duration": 21,
    "start_time": "2023-03-18T07:47:49.978Z"
   },
   {
    "duration": 7,
    "start_time": "2023-03-18T07:47:50.002Z"
   },
   {
    "duration": 11,
    "start_time": "2023-03-18T07:47:50.041Z"
   },
   {
    "duration": 12,
    "start_time": "2023-03-18T07:47:50.054Z"
   },
   {
    "duration": 77,
    "start_time": "2023-03-18T07:47:50.068Z"
   },
   {
    "duration": 5,
    "start_time": "2023-03-18T07:47:50.147Z"
   },
   {
    "duration": 14,
    "start_time": "2023-03-18T07:47:50.153Z"
   },
   {
    "duration": 127,
    "start_time": "2023-03-18T07:47:50.168Z"
   },
   {
    "duration": 5,
    "start_time": "2023-03-18T07:47:50.297Z"
   },
   {
    "duration": 7,
    "start_time": "2023-03-18T07:47:50.303Z"
   },
   {
    "duration": 35,
    "start_time": "2023-03-18T07:47:50.311Z"
   },
   {
    "duration": 47,
    "start_time": "2023-03-18T07:47:50.348Z"
   },
   {
    "duration": 10,
    "start_time": "2023-03-18T07:47:50.397Z"
   },
   {
    "duration": 34,
    "start_time": "2023-03-18T07:47:50.409Z"
   },
   {
    "duration": 174,
    "start_time": "2023-03-18T07:47:50.445Z"
   },
   {
    "duration": 183,
    "start_time": "2023-03-18T07:47:50.621Z"
   },
   {
    "duration": 38,
    "start_time": "2023-03-18T07:47:50.805Z"
   },
   {
    "duration": 21,
    "start_time": "2023-03-18T07:47:50.845Z"
   },
   {
    "duration": 20,
    "start_time": "2023-03-18T07:47:50.868Z"
   },
   {
    "duration": 42,
    "start_time": "2023-03-18T07:47:50.892Z"
   },
   {
    "duration": 12,
    "start_time": "2023-03-18T07:47:50.940Z"
   },
   {
    "duration": 161,
    "start_time": "2023-03-18T07:47:50.955Z"
   },
   {
    "duration": 54,
    "start_time": "2023-03-18T07:47:51.117Z"
   },
   {
    "duration": 7,
    "start_time": "2023-03-18T07:47:51.173Z"
   },
   {
    "duration": 9,
    "start_time": "2023-03-18T07:47:51.182Z"
   },
   {
    "duration": 9,
    "start_time": "2023-03-18T07:47:51.193Z"
   },
   {
    "duration": 74,
    "start_time": "2023-03-18T07:47:51.203Z"
   },
   {
    "duration": 16,
    "start_time": "2023-03-18T07:47:51.279Z"
   },
   {
    "duration": 4,
    "start_time": "2023-03-18T07:47:51.296Z"
   },
   {
    "duration": 4,
    "start_time": "2023-03-18T07:47:51.302Z"
   },
   {
    "duration": 37,
    "start_time": "2023-03-18T07:47:51.308Z"
   },
   {
    "duration": 1247,
    "start_time": "2023-03-18T07:47:51.347Z"
   },
   {
    "duration": 0,
    "start_time": "2023-03-18T07:47:52.596Z"
   },
   {
    "duration": 0,
    "start_time": "2023-03-18T07:47:52.598Z"
   },
   {
    "duration": 0,
    "start_time": "2023-03-18T07:47:52.599Z"
   },
   {
    "duration": 0,
    "start_time": "2023-03-18T07:47:52.600Z"
   },
   {
    "duration": 0,
    "start_time": "2023-03-18T07:47:52.601Z"
   },
   {
    "duration": 0,
    "start_time": "2023-03-18T07:47:52.602Z"
   },
   {
    "duration": 0,
    "start_time": "2023-03-18T07:47:52.603Z"
   },
   {
    "duration": 0,
    "start_time": "2023-03-18T07:47:52.604Z"
   },
   {
    "duration": 0,
    "start_time": "2023-03-18T07:47:52.605Z"
   },
   {
    "duration": 0,
    "start_time": "2023-03-18T07:47:52.607Z"
   },
   {
    "duration": 0,
    "start_time": "2023-03-18T07:47:52.608Z"
   },
   {
    "duration": 0,
    "start_time": "2023-03-18T07:47:52.609Z"
   },
   {
    "duration": 0,
    "start_time": "2023-03-18T07:47:52.610Z"
   },
   {
    "duration": 0,
    "start_time": "2023-03-18T07:47:52.612Z"
   },
   {
    "duration": 1,
    "start_time": "2023-03-18T07:47:52.612Z"
   },
   {
    "duration": 0,
    "start_time": "2023-03-18T07:47:52.614Z"
   },
   {
    "duration": 0,
    "start_time": "2023-03-18T07:47:52.615Z"
   },
   {
    "duration": 0,
    "start_time": "2023-03-18T07:47:52.616Z"
   },
   {
    "duration": 0,
    "start_time": "2023-03-18T07:47:52.618Z"
   },
   {
    "duration": 0,
    "start_time": "2023-03-18T07:47:52.619Z"
   },
   {
    "duration": 0,
    "start_time": "2023-03-18T07:47:52.620Z"
   },
   {
    "duration": 1,
    "start_time": "2023-03-18T07:47:52.621Z"
   },
   {
    "duration": 0,
    "start_time": "2023-03-18T07:47:52.623Z"
   },
   {
    "duration": 0,
    "start_time": "2023-03-18T07:47:52.624Z"
   },
   {
    "duration": 0,
    "start_time": "2023-03-18T07:47:52.626Z"
   },
   {
    "duration": 0,
    "start_time": "2023-03-18T07:47:52.627Z"
   },
   {
    "duration": 0,
    "start_time": "2023-03-18T07:47:52.628Z"
   },
   {
    "duration": 0,
    "start_time": "2023-03-18T07:47:52.630Z"
   },
   {
    "duration": 0,
    "start_time": "2023-03-18T07:47:52.631Z"
   },
   {
    "duration": 0,
    "start_time": "2023-03-18T07:47:52.632Z"
   },
   {
    "duration": 0,
    "start_time": "2023-03-18T07:47:52.640Z"
   },
   {
    "duration": 0,
    "start_time": "2023-03-18T07:47:52.641Z"
   },
   {
    "duration": 0,
    "start_time": "2023-03-18T07:47:52.642Z"
   },
   {
    "duration": 0,
    "start_time": "2023-03-18T07:47:52.644Z"
   },
   {
    "duration": 0,
    "start_time": "2023-03-18T07:47:52.645Z"
   },
   {
    "duration": 0,
    "start_time": "2023-03-18T07:47:52.646Z"
   },
   {
    "duration": 1,
    "start_time": "2023-03-18T07:47:52.647Z"
   },
   {
    "duration": 0,
    "start_time": "2023-03-18T07:47:52.648Z"
   },
   {
    "duration": 0,
    "start_time": "2023-03-18T07:47:52.650Z"
   },
   {
    "duration": 0,
    "start_time": "2023-03-18T07:47:52.650Z"
   },
   {
    "duration": 0,
    "start_time": "2023-03-18T07:47:52.652Z"
   },
   {
    "duration": 0,
    "start_time": "2023-03-18T07:47:52.653Z"
   },
   {
    "duration": 0,
    "start_time": "2023-03-18T07:47:52.654Z"
   },
   {
    "duration": 0,
    "start_time": "2023-03-18T07:47:52.655Z"
   },
   {
    "duration": 0,
    "start_time": "2023-03-18T07:47:52.657Z"
   },
   {
    "duration": 0,
    "start_time": "2023-03-18T07:47:52.658Z"
   },
   {
    "duration": 28,
    "start_time": "2023-03-18T07:49:00.272Z"
   },
   {
    "duration": 15,
    "start_time": "2023-03-18T07:49:01.456Z"
   },
   {
    "duration": 9,
    "start_time": "2023-03-18T07:50:14.512Z"
   },
   {
    "duration": 14,
    "start_time": "2023-03-18T07:50:30.190Z"
   },
   {
    "duration": 9,
    "start_time": "2023-03-18T07:50:37.943Z"
   },
   {
    "duration": 5,
    "start_time": "2023-03-18T07:50:47.159Z"
   },
   {
    "duration": 10,
    "start_time": "2023-03-18T07:50:47.485Z"
   },
   {
    "duration": 3,
    "start_time": "2023-03-18T07:50:48.913Z"
   },
   {
    "duration": 1154,
    "start_time": "2023-03-18T07:50:54.064Z"
   },
   {
    "duration": 5,
    "start_time": "2023-03-18T07:51:24.216Z"
   },
   {
    "duration": 8,
    "start_time": "2023-03-18T07:51:31.863Z"
   },
   {
    "duration": 6,
    "start_time": "2023-03-18T07:52:07.944Z"
   },
   {
    "duration": 11,
    "start_time": "2023-03-18T07:52:08.488Z"
   },
   {
    "duration": 3,
    "start_time": "2023-03-18T07:52:22.448Z"
   },
   {
    "duration": 6,
    "start_time": "2023-03-18T07:52:22.639Z"
   },
   {
    "duration": 14,
    "start_time": "2023-03-18T07:52:27.199Z"
   },
   {
    "duration": 4,
    "start_time": "2023-03-18T07:52:27.895Z"
   },
   {
    "duration": 8,
    "start_time": "2023-03-18T07:52:39.767Z"
   },
   {
    "duration": 1237,
    "start_time": "2023-03-18T07:52:47.598Z"
   },
   {
    "duration": 29,
    "start_time": "2023-03-18T07:52:48.837Z"
   },
   {
    "duration": 67,
    "start_time": "2023-03-18T07:52:48.867Z"
   },
   {
    "duration": 28,
    "start_time": "2023-03-18T07:52:48.935Z"
   },
   {
    "duration": 463,
    "start_time": "2023-03-18T07:52:48.965Z"
   },
   {
    "duration": 21,
    "start_time": "2023-03-18T07:52:49.430Z"
   },
   {
    "duration": 14,
    "start_time": "2023-03-18T07:52:49.453Z"
   },
   {
    "duration": 12,
    "start_time": "2023-03-18T07:52:49.469Z"
   },
   {
    "duration": 29,
    "start_time": "2023-03-18T07:52:49.483Z"
   },
   {
    "duration": 33,
    "start_time": "2023-03-18T07:52:49.514Z"
   },
   {
    "duration": 11,
    "start_time": "2023-03-18T07:52:49.549Z"
   },
   {
    "duration": 9,
    "start_time": "2023-03-18T07:52:49.562Z"
   },
   {
    "duration": 76,
    "start_time": "2023-03-18T07:52:49.573Z"
   },
   {
    "duration": 5,
    "start_time": "2023-03-18T07:52:49.653Z"
   },
   {
    "duration": 13,
    "start_time": "2023-03-18T07:52:49.660Z"
   },
   {
    "duration": 125,
    "start_time": "2023-03-18T07:52:49.675Z"
   },
   {
    "duration": 5,
    "start_time": "2023-03-18T07:52:49.802Z"
   },
   {
    "duration": 6,
    "start_time": "2023-03-18T07:52:49.809Z"
   },
   {
    "duration": 35,
    "start_time": "2023-03-18T07:52:49.816Z"
   },
   {
    "duration": 30,
    "start_time": "2023-03-18T07:52:49.852Z"
   },
   {
    "duration": 9,
    "start_time": "2023-03-18T07:52:49.883Z"
   },
   {
    "duration": 11,
    "start_time": "2023-03-18T07:52:49.893Z"
   },
   {
    "duration": 174,
    "start_time": "2023-03-18T07:52:49.905Z"
   },
   {
    "duration": 182,
    "start_time": "2023-03-18T07:52:50.080Z"
   },
   {
    "duration": 37,
    "start_time": "2023-03-18T07:52:50.264Z"
   },
   {
    "duration": 7,
    "start_time": "2023-03-18T07:52:50.303Z"
   },
   {
    "duration": 34,
    "start_time": "2023-03-18T07:52:50.312Z"
   },
   {
    "duration": 29,
    "start_time": "2023-03-18T07:52:50.348Z"
   },
   {
    "duration": 12,
    "start_time": "2023-03-18T07:52:50.379Z"
   },
   {
    "duration": 67,
    "start_time": "2023-03-18T07:52:50.392Z"
   },
   {
    "duration": 115,
    "start_time": "2023-03-18T07:52:50.461Z"
   },
   {
    "duration": 9,
    "start_time": "2023-03-18T07:52:50.578Z"
   },
   {
    "duration": 10,
    "start_time": "2023-03-18T07:52:50.588Z"
   },
   {
    "duration": 10,
    "start_time": "2023-03-18T07:52:50.600Z"
   },
   {
    "duration": 47,
    "start_time": "2023-03-18T07:52:50.639Z"
   },
   {
    "duration": 22,
    "start_time": "2023-03-18T07:52:50.689Z"
   },
   {
    "duration": 29,
    "start_time": "2023-03-18T07:52:50.713Z"
   },
   {
    "duration": 10,
    "start_time": "2023-03-18T07:52:50.743Z"
   },
   {
    "duration": 17,
    "start_time": "2023-03-18T07:52:50.755Z"
   },
   {
    "duration": 15,
    "start_time": "2023-03-18T07:52:50.773Z"
   },
   {
    "duration": 4,
    "start_time": "2023-03-18T07:52:50.793Z"
   },
   {
    "duration": 32,
    "start_time": "2023-03-18T07:52:50.798Z"
   },
   {
    "duration": 6,
    "start_time": "2023-03-18T07:52:50.831Z"
   },
   {
    "duration": 9,
    "start_time": "2023-03-18T07:52:50.840Z"
   },
   {
    "duration": 18,
    "start_time": "2023-03-18T07:52:50.850Z"
   },
   {
    "duration": 21,
    "start_time": "2023-03-18T07:52:50.870Z"
   },
   {
    "duration": 17,
    "start_time": "2023-03-18T07:52:50.892Z"
   },
   {
    "duration": 14,
    "start_time": "2023-03-18T07:52:50.910Z"
   },
   {
    "duration": 17,
    "start_time": "2023-03-18T07:52:50.925Z"
   },
   {
    "duration": 8,
    "start_time": "2023-03-18T07:52:50.944Z"
   },
   {
    "duration": 5,
    "start_time": "2023-03-18T07:52:50.954Z"
   },
   {
    "duration": 18,
    "start_time": "2023-03-18T07:52:50.961Z"
   },
   {
    "duration": 22,
    "start_time": "2023-03-18T07:52:50.981Z"
   },
   {
    "duration": 133,
    "start_time": "2023-03-18T07:52:51.040Z"
   },
   {
    "duration": 7,
    "start_time": "2023-03-18T07:52:51.175Z"
   },
   {
    "duration": 24,
    "start_time": "2023-03-18T07:52:51.184Z"
   },
   {
    "duration": 13,
    "start_time": "2023-03-18T07:52:51.210Z"
   },
   {
    "duration": 86,
    "start_time": "2023-03-18T07:52:51.224Z"
   },
   {
    "duration": 354,
    "start_time": "2023-03-18T07:52:51.312Z"
   },
   {
    "duration": 11,
    "start_time": "2023-03-18T07:52:51.668Z"
   },
   {
    "duration": 83,
    "start_time": "2023-03-18T07:52:51.681Z"
   },
   {
    "duration": 577,
    "start_time": "2023-03-18T07:52:51.766Z"
   },
   {
    "duration": 733,
    "start_time": "2023-03-18T07:52:52.345Z"
   },
   {
    "duration": 486,
    "start_time": "2023-03-18T07:52:53.080Z"
   },
   {
    "duration": 10,
    "start_time": "2023-03-18T07:52:53.567Z"
   },
   {
    "duration": 187,
    "start_time": "2023-03-18T07:52:53.580Z"
   },
   {
    "duration": 5,
    "start_time": "2023-03-18T07:52:53.769Z"
   },
   {
    "duration": 8,
    "start_time": "2023-03-18T07:52:53.776Z"
   },
   {
    "duration": 256,
    "start_time": "2023-03-18T07:52:53.786Z"
   },
   {
    "duration": 15,
    "start_time": "2023-03-18T07:52:54.043Z"
   },
   {
    "duration": 13,
    "start_time": "2023-03-18T07:52:54.060Z"
   },
   {
    "duration": 484,
    "start_time": "2023-03-18T07:52:54.074Z"
   },
   {
    "duration": 87,
    "start_time": "2023-03-18T07:52:54.560Z"
   },
   {
    "duration": 11,
    "start_time": "2023-03-18T07:52:54.649Z"
   },
   {
    "duration": 21,
    "start_time": "2023-03-18T07:52:54.662Z"
   },
   {
    "duration": 5,
    "start_time": "2023-03-18T07:52:54.740Z"
   },
   {
    "duration": 6,
    "start_time": "2023-03-18T07:52:54.746Z"
   },
   {
    "duration": 6,
    "start_time": "2023-03-18T07:52:54.753Z"
   },
   {
    "duration": 5,
    "start_time": "2023-03-18T07:52:54.761Z"
   },
   {
    "duration": 7,
    "start_time": "2023-03-18T07:52:54.768Z"
   },
   {
    "duration": 5,
    "start_time": "2023-03-18T07:52:54.776Z"
   },
   {
    "duration": 65,
    "start_time": "2023-03-18T07:52:54.782Z"
   },
   {
    "duration": 5,
    "start_time": "2023-03-18T07:52:54.849Z"
   },
   {
    "duration": 6,
    "start_time": "2023-03-18T07:52:54.855Z"
   },
   {
    "duration": 17,
    "start_time": "2023-03-18T07:52:54.862Z"
   },
   {
    "duration": 8,
    "start_time": "2023-03-18T07:52:54.880Z"
   },
   {
    "duration": 6,
    "start_time": "2023-03-18T07:52:54.890Z"
   },
   {
    "duration": 70,
    "start_time": "2023-03-18T07:58:03.700Z"
   },
   {
    "duration": 175,
    "start_time": "2023-03-18T07:58:12.693Z"
   },
   {
    "duration": 25,
    "start_time": "2023-03-18T07:58:29.197Z"
   },
   {
    "duration": 16,
    "start_time": "2023-03-18T07:58:47.133Z"
   },
   {
    "duration": 40,
    "start_time": "2023-03-18T07:59:19.707Z"
   },
   {
    "duration": 11,
    "start_time": "2023-03-18T07:59:36.275Z"
   },
   {
    "duration": 13,
    "start_time": "2023-03-18T07:59:44.869Z"
   },
   {
    "duration": 9,
    "start_time": "2023-03-18T08:00:03.131Z"
   },
   {
    "duration": 14,
    "start_time": "2023-03-18T08:00:06.266Z"
   },
   {
    "duration": 10,
    "start_time": "2023-03-18T08:00:06.610Z"
   },
   {
    "duration": 10,
    "start_time": "2023-03-18T08:01:04.754Z"
   },
   {
    "duration": 30,
    "start_time": "2023-03-18T08:02:11.642Z"
   },
   {
    "duration": 41,
    "start_time": "2023-03-18T08:02:19.355Z"
   },
   {
    "duration": 11,
    "start_time": "2023-03-18T08:02:33.916Z"
   },
   {
    "duration": 11,
    "start_time": "2023-03-18T08:03:27.256Z"
   },
   {
    "duration": 19,
    "start_time": "2023-03-18T08:06:19.338Z"
   },
   {
    "duration": 44,
    "start_time": "2023-03-18T08:11:21.127Z"
   },
   {
    "duration": 10,
    "start_time": "2023-03-18T08:12:03.118Z"
   },
   {
    "duration": 31,
    "start_time": "2023-03-18T08:12:57.230Z"
   },
   {
    "duration": 391,
    "start_time": "2023-03-18T08:23:10.059Z"
   },
   {
    "duration": 362,
    "start_time": "2023-03-18T08:23:39.780Z"
   },
   {
    "duration": 16,
    "start_time": "2023-03-18T08:28:33.607Z"
   },
   {
    "duration": 2,
    "start_time": "2023-03-18T08:28:33.905Z"
   },
   {
    "duration": 15,
    "start_time": "2023-03-18T08:28:41.405Z"
   },
   {
    "duration": 78,
    "start_time": "2023-03-18T08:28:59.238Z"
   },
   {
    "duration": 13,
    "start_time": "2023-03-18T08:32:37.068Z"
   },
   {
    "duration": 85,
    "start_time": "2023-03-18T08:34:48.828Z"
   },
   {
    "duration": 67,
    "start_time": "2023-03-18T08:37:54.971Z"
   },
   {
    "duration": 31,
    "start_time": "2023-03-18T08:46:58.524Z"
   },
   {
    "duration": 8,
    "start_time": "2023-03-18T08:47:22.699Z"
   },
   {
    "duration": 15,
    "start_time": "2023-03-18T08:47:34.087Z"
   },
   {
    "duration": 16,
    "start_time": "2023-03-18T08:48:39.856Z"
   },
   {
    "duration": 16,
    "start_time": "2023-03-18T08:49:58.620Z"
   },
   {
    "duration": 16,
    "start_time": "2023-03-18T08:50:10.181Z"
   },
   {
    "duration": 4,
    "start_time": "2023-03-18T08:50:13.359Z"
   },
   {
    "duration": 25,
    "start_time": "2023-03-18T08:50:13.563Z"
   },
   {
    "duration": 25,
    "start_time": "2023-03-18T08:52:00.667Z"
   },
   {
    "duration": 1247,
    "start_time": "2023-03-18T08:52:12.072Z"
   },
   {
    "duration": 48,
    "start_time": "2023-03-18T08:52:13.322Z"
   },
   {
    "duration": 94,
    "start_time": "2023-03-18T08:52:13.372Z"
   },
   {
    "duration": 28,
    "start_time": "2023-03-18T08:52:13.468Z"
   },
   {
    "duration": 632,
    "start_time": "2023-03-18T08:52:13.499Z"
   },
   {
    "duration": 21,
    "start_time": "2023-03-18T08:52:14.132Z"
   },
   {
    "duration": 15,
    "start_time": "2023-03-18T08:52:14.160Z"
   },
   {
    "duration": 9,
    "start_time": "2023-03-18T08:52:14.176Z"
   },
   {
    "duration": 29,
    "start_time": "2023-03-18T08:52:14.187Z"
   },
   {
    "duration": 27,
    "start_time": "2023-03-18T08:52:14.218Z"
   },
   {
    "duration": 19,
    "start_time": "2023-03-18T08:52:14.247Z"
   },
   {
    "duration": 9,
    "start_time": "2023-03-18T08:52:14.268Z"
   },
   {
    "duration": 110,
    "start_time": "2023-03-18T08:52:14.280Z"
   },
   {
    "duration": 5,
    "start_time": "2023-03-18T08:52:14.396Z"
   },
   {
    "duration": 12,
    "start_time": "2023-03-18T08:52:14.403Z"
   },
   {
    "duration": 160,
    "start_time": "2023-03-18T08:52:14.416Z"
   },
   {
    "duration": 13,
    "start_time": "2023-03-18T08:52:14.579Z"
   },
   {
    "duration": 8,
    "start_time": "2023-03-18T08:52:14.594Z"
   },
   {
    "duration": 13,
    "start_time": "2023-03-18T08:52:14.603Z"
   },
   {
    "duration": 55,
    "start_time": "2023-03-18T08:52:14.618Z"
   },
   {
    "duration": 11,
    "start_time": "2023-03-18T08:52:14.675Z"
   },
   {
    "duration": 15,
    "start_time": "2023-03-18T08:52:14.688Z"
   },
   {
    "duration": 189,
    "start_time": "2023-03-18T08:52:14.705Z"
   },
   {
    "duration": 199,
    "start_time": "2023-03-18T08:52:14.895Z"
   },
   {
    "duration": 58,
    "start_time": "2023-03-18T08:52:15.095Z"
   },
   {
    "duration": 11,
    "start_time": "2023-03-18T08:52:15.154Z"
   },
   {
    "duration": 28,
    "start_time": "2023-03-18T08:52:15.166Z"
   },
   {
    "duration": 30,
    "start_time": "2023-03-18T08:52:15.196Z"
   },
   {
    "duration": 37,
    "start_time": "2023-03-18T08:52:15.228Z"
   },
   {
    "duration": 94,
    "start_time": "2023-03-18T08:52:15.268Z"
   },
   {
    "duration": 107,
    "start_time": "2023-03-18T08:52:15.364Z"
   },
   {
    "duration": 11,
    "start_time": "2023-03-18T08:52:15.472Z"
   },
   {
    "duration": 31,
    "start_time": "2023-03-18T08:52:15.485Z"
   },
   {
    "duration": 13,
    "start_time": "2023-03-18T08:52:15.518Z"
   },
   {
    "duration": 52,
    "start_time": "2023-03-18T08:52:15.533Z"
   },
   {
    "duration": 23,
    "start_time": "2023-03-18T08:52:15.587Z"
   },
   {
    "duration": 9,
    "start_time": "2023-03-18T08:52:15.612Z"
   },
   {
    "duration": 34,
    "start_time": "2023-03-18T08:52:15.623Z"
   },
   {
    "duration": 10,
    "start_time": "2023-03-18T08:52:15.661Z"
   },
   {
    "duration": 13,
    "start_time": "2023-03-18T08:52:15.673Z"
   },
   {
    "duration": 28,
    "start_time": "2023-03-18T08:52:15.691Z"
   },
   {
    "duration": 10,
    "start_time": "2023-03-18T08:52:15.721Z"
   },
   {
    "duration": 21,
    "start_time": "2023-03-18T08:52:15.732Z"
   },
   {
    "duration": 17,
    "start_time": "2023-03-18T08:52:15.754Z"
   },
   {
    "duration": 7,
    "start_time": "2023-03-18T08:52:15.773Z"
   },
   {
    "duration": 36,
    "start_time": "2023-03-18T08:52:15.782Z"
   },
   {
    "duration": 43,
    "start_time": "2023-03-18T08:52:15.820Z"
   },
   {
    "duration": 5,
    "start_time": "2023-03-18T08:52:15.865Z"
   },
   {
    "duration": 12,
    "start_time": "2023-03-18T08:52:15.872Z"
   },
   {
    "duration": 7,
    "start_time": "2023-03-18T08:52:15.886Z"
   },
   {
    "duration": 25,
    "start_time": "2023-03-18T08:52:15.895Z"
   },
   {
    "duration": 50,
    "start_time": "2023-03-18T08:52:15.922Z"
   },
   {
    "duration": 157,
    "start_time": "2023-03-18T08:52:15.975Z"
   },
   {
    "duration": 12,
    "start_time": "2023-03-18T08:52:16.134Z"
   },
   {
    "duration": 16,
    "start_time": "2023-03-18T08:52:16.158Z"
   },
   {
    "duration": 15,
    "start_time": "2023-03-18T08:52:16.176Z"
   },
   {
    "duration": 102,
    "start_time": "2023-03-18T08:52:16.192Z"
   },
   {
    "duration": 387,
    "start_time": "2023-03-18T08:52:16.297Z"
   },
   {
    "duration": 12,
    "start_time": "2023-03-18T08:52:16.686Z"
   },
   {
    "duration": 21,
    "start_time": "2023-03-18T08:52:16.700Z"
   },
   {
    "duration": 39,
    "start_time": "2023-03-18T08:52:16.723Z"
   },
   {
    "duration": 321,
    "start_time": "2023-03-18T08:52:16.764Z"
   },
   {
    "duration": 317,
    "start_time": "2023-03-18T08:52:17.087Z"
   },
   {
    "duration": 16,
    "start_time": "2023-03-18T08:52:17.406Z"
   },
   {
    "duration": 301,
    "start_time": "2023-03-18T08:52:17.424Z"
   },
   {
    "duration": 21,
    "start_time": "2023-03-18T08:52:17.727Z"
   },
   {
    "duration": 112,
    "start_time": "2023-03-18T08:52:17.754Z"
   },
   {
    "duration": 5,
    "start_time": "2023-03-18T08:52:17.868Z"
   },
   {
    "duration": 9,
    "start_time": "2023-03-18T08:52:17.876Z"
   },
   {
    "duration": 300,
    "start_time": "2023-03-18T08:52:17.887Z"
   },
   {
    "duration": 14,
    "start_time": "2023-03-18T08:52:18.190Z"
   },
   {
    "duration": 13,
    "start_time": "2023-03-18T08:52:18.206Z"
   },
   {
    "duration": 545,
    "start_time": "2023-03-18T08:52:18.247Z"
   },
   {
    "duration": 19,
    "start_time": "2023-03-18T08:52:18.794Z"
   },
   {
    "duration": 50,
    "start_time": "2023-03-18T08:52:18.815Z"
   },
   {
    "duration": 6,
    "start_time": "2023-03-18T08:52:18.868Z"
   },
   {
    "duration": 5,
    "start_time": "2023-03-18T08:52:18.876Z"
   },
   {
    "duration": 5,
    "start_time": "2023-03-18T08:52:18.884Z"
   },
   {
    "duration": 9,
    "start_time": "2023-03-18T08:52:18.940Z"
   },
   {
    "duration": 15,
    "start_time": "2023-03-18T08:52:18.952Z"
   },
   {
    "duration": 7,
    "start_time": "2023-03-18T08:52:18.970Z"
   },
   {
    "duration": 23,
    "start_time": "2023-03-18T08:52:18.979Z"
   },
   {
    "duration": 11,
    "start_time": "2023-03-18T08:52:19.004Z"
   },
   {
    "duration": 3,
    "start_time": "2023-03-18T08:52:19.018Z"
   },
   {
    "duration": 224,
    "start_time": "2023-03-18T08:52:19.023Z"
   },
   {
    "duration": 0,
    "start_time": "2023-03-18T08:52:19.248Z"
   },
   {
    "duration": 0,
    "start_time": "2023-03-18T08:52:19.249Z"
   },
   {
    "duration": 0,
    "start_time": "2023-03-18T08:52:19.250Z"
   },
   {
    "duration": 0,
    "start_time": "2023-03-18T08:52:19.251Z"
   },
   {
    "duration": 0,
    "start_time": "2023-03-18T08:52:19.252Z"
   },
   {
    "duration": 3,
    "start_time": "2023-03-18T08:53:10.287Z"
   },
   {
    "duration": 9,
    "start_time": "2023-03-18T08:53:17.883Z"
   },
   {
    "duration": 6,
    "start_time": "2023-03-18T08:53:33.763Z"
   },
   {
    "duration": 19,
    "start_time": "2023-03-18T08:54:30.878Z"
   },
   {
    "duration": 114,
    "start_time": "2023-03-18T08:55:01.819Z"
   },
   {
    "duration": 40,
    "start_time": "2023-03-18T08:55:08.118Z"
   },
   {
    "duration": 8,
    "start_time": "2023-03-18T08:58:54.328Z"
   },
   {
    "duration": 9,
    "start_time": "2023-03-18T08:59:16.487Z"
   },
   {
    "duration": 10,
    "start_time": "2023-03-18T09:01:36.170Z"
   },
   {
    "duration": 6,
    "start_time": "2023-03-18T09:01:41.694Z"
   },
   {
    "duration": 16,
    "start_time": "2023-03-18T09:06:45.775Z"
   },
   {
    "duration": 20,
    "start_time": "2023-03-18T09:07:16.916Z"
   },
   {
    "duration": 20,
    "start_time": "2023-03-18T09:08:42.061Z"
   },
   {
    "duration": 90,
    "start_time": "2023-03-18T09:09:35.490Z"
   },
   {
    "duration": 100,
    "start_time": "2023-03-18T09:09:44.262Z"
   },
   {
    "duration": 12,
    "start_time": "2023-03-18T09:10:39.906Z"
   },
   {
    "duration": 16,
    "start_time": "2023-03-18T09:14:37.184Z"
   },
   {
    "duration": 23,
    "start_time": "2023-03-18T09:18:12.701Z"
   },
   {
    "duration": 7,
    "start_time": "2023-03-18T09:18:52.647Z"
   },
   {
    "duration": 20,
    "start_time": "2023-03-18T09:18:53.166Z"
   },
   {
    "duration": 22,
    "start_time": "2023-03-18T09:19:12.390Z"
   },
   {
    "duration": 7,
    "start_time": "2023-03-18T09:19:47.709Z"
   },
   {
    "duration": 11,
    "start_time": "2023-03-18T09:19:57.861Z"
   },
   {
    "duration": 13,
    "start_time": "2023-03-18T09:20:29.860Z"
   },
   {
    "duration": 16,
    "start_time": "2023-03-18T09:20:34.855Z"
   },
   {
    "duration": 35,
    "start_time": "2023-03-18T09:21:39.228Z"
   },
   {
    "duration": 15,
    "start_time": "2023-03-18T09:21:49.575Z"
   },
   {
    "duration": 10,
    "start_time": "2023-03-18T09:21:54.692Z"
   },
   {
    "duration": 1380,
    "start_time": "2023-03-18T09:22:26.105Z"
   },
   {
    "duration": 47,
    "start_time": "2023-03-18T09:22:27.488Z"
   },
   {
    "duration": 95,
    "start_time": "2023-03-18T09:22:27.538Z"
   },
   {
    "duration": 43,
    "start_time": "2023-03-18T09:22:27.636Z"
   },
   {
    "duration": 449,
    "start_time": "2023-03-18T09:22:27.681Z"
   },
   {
    "duration": 25,
    "start_time": "2023-03-18T09:22:28.132Z"
   },
   {
    "duration": 11,
    "start_time": "2023-03-18T09:22:28.159Z"
   },
   {
    "duration": 12,
    "start_time": "2023-03-18T09:22:28.171Z"
   },
   {
    "duration": 19,
    "start_time": "2023-03-18T09:22:28.184Z"
   },
   {
    "duration": 12,
    "start_time": "2023-03-18T09:22:28.205Z"
   },
   {
    "duration": 12,
    "start_time": "2023-03-18T09:22:28.219Z"
   },
   {
    "duration": 22,
    "start_time": "2023-03-18T09:22:28.233Z"
   },
   {
    "duration": 121,
    "start_time": "2023-03-18T09:22:28.257Z"
   },
   {
    "duration": 6,
    "start_time": "2023-03-18T09:22:28.380Z"
   },
   {
    "duration": 21,
    "start_time": "2023-03-18T09:22:28.388Z"
   },
   {
    "duration": 169,
    "start_time": "2023-03-18T09:22:28.411Z"
   },
   {
    "duration": 8,
    "start_time": "2023-03-18T09:22:28.583Z"
   },
   {
    "duration": 70,
    "start_time": "2023-03-18T09:22:28.593Z"
   },
   {
    "duration": 21,
    "start_time": "2023-03-18T09:22:28.665Z"
   },
   {
    "duration": 170,
    "start_time": "2023-03-18T09:22:28.688Z"
   },
   {
    "duration": 9,
    "start_time": "2023-03-18T09:22:28.860Z"
   },
   {
    "duration": 15,
    "start_time": "2023-03-18T09:22:28.871Z"
   },
   {
    "duration": 329,
    "start_time": "2023-03-18T09:22:28.888Z"
   },
   {
    "duration": 189,
    "start_time": "2023-03-18T09:22:29.218Z"
   },
   {
    "duration": 50,
    "start_time": "2023-03-18T09:22:29.408Z"
   },
   {
    "duration": 8,
    "start_time": "2023-03-18T09:22:29.460Z"
   },
   {
    "duration": 20,
    "start_time": "2023-03-18T09:22:29.470Z"
   },
   {
    "duration": 28,
    "start_time": "2023-03-18T09:22:29.495Z"
   },
   {
    "duration": 21,
    "start_time": "2023-03-18T09:22:29.540Z"
   },
   {
    "duration": 117,
    "start_time": "2023-03-18T09:22:29.563Z"
   },
   {
    "duration": 66,
    "start_time": "2023-03-18T09:22:29.681Z"
   },
   {
    "duration": 9,
    "start_time": "2023-03-18T09:22:29.758Z"
   },
   {
    "duration": 11,
    "start_time": "2023-03-18T09:22:29.768Z"
   },
   {
    "duration": 10,
    "start_time": "2023-03-18T09:22:29.780Z"
   },
   {
    "duration": 66,
    "start_time": "2023-03-18T09:22:29.792Z"
   },
   {
    "duration": 15,
    "start_time": "2023-03-18T09:22:29.859Z"
   },
   {
    "duration": 8,
    "start_time": "2023-03-18T09:22:29.875Z"
   },
   {
    "duration": 4,
    "start_time": "2023-03-18T09:22:29.885Z"
   },
   {
    "duration": 8,
    "start_time": "2023-03-18T09:22:29.890Z"
   },
   {
    "duration": 6,
    "start_time": "2023-03-18T09:22:29.900Z"
   },
   {
    "duration": 52,
    "start_time": "2023-03-18T09:22:29.907Z"
   },
   {
    "duration": 7,
    "start_time": "2023-03-18T09:22:29.961Z"
   },
   {
    "duration": 10,
    "start_time": "2023-03-18T09:22:29.970Z"
   },
   {
    "duration": 13,
    "start_time": "2023-03-18T09:22:29.981Z"
   },
   {
    "duration": 6,
    "start_time": "2023-03-18T09:22:29.996Z"
   },
   {
    "duration": 12,
    "start_time": "2023-03-18T09:22:30.004Z"
   },
   {
    "duration": 20,
    "start_time": "2023-03-18T09:22:30.049Z"
   },
   {
    "duration": 5,
    "start_time": "2023-03-18T09:22:30.071Z"
   },
   {
    "duration": 13,
    "start_time": "2023-03-18T09:22:30.077Z"
   },
   {
    "duration": 10,
    "start_time": "2023-03-18T09:22:30.092Z"
   },
   {
    "duration": 30,
    "start_time": "2023-03-18T09:22:30.103Z"
   },
   {
    "duration": 36,
    "start_time": "2023-03-18T09:22:30.134Z"
   },
   {
    "duration": 126,
    "start_time": "2023-03-18T09:22:30.172Z"
   },
   {
    "duration": 5,
    "start_time": "2023-03-18T09:22:30.300Z"
   },
   {
    "duration": 22,
    "start_time": "2023-03-18T09:22:30.307Z"
   },
   {
    "duration": 39,
    "start_time": "2023-03-18T09:22:30.331Z"
   },
   {
    "duration": 92,
    "start_time": "2023-03-18T09:22:30.372Z"
   },
   {
    "duration": 331,
    "start_time": "2023-03-18T09:22:30.465Z"
   },
   {
    "duration": 9,
    "start_time": "2023-03-18T09:22:30.797Z"
   },
   {
    "duration": 45,
    "start_time": "2023-03-18T09:22:30.808Z"
   },
   {
    "duration": 35,
    "start_time": "2023-03-18T09:22:30.854Z"
   },
   {
    "duration": 266,
    "start_time": "2023-03-18T09:22:30.891Z"
   },
   {
    "duration": 273,
    "start_time": "2023-03-18T09:22:31.159Z"
   },
   {
    "duration": 34,
    "start_time": "2023-03-18T09:22:31.433Z"
   },
   {
    "duration": 263,
    "start_time": "2023-03-18T09:22:31.469Z"
   },
   {
    "duration": 10,
    "start_time": "2023-03-18T09:22:31.754Z"
   },
   {
    "duration": 103,
    "start_time": "2023-03-18T09:22:31.766Z"
   },
   {
    "duration": 5,
    "start_time": "2023-03-18T09:22:31.871Z"
   },
   {
    "duration": 80,
    "start_time": "2023-03-18T09:22:31.878Z"
   },
   {
    "duration": 329,
    "start_time": "2023-03-18T09:22:31.960Z"
   },
   {
    "duration": 19,
    "start_time": "2023-03-18T09:22:32.291Z"
   },
   {
    "duration": 31,
    "start_time": "2023-03-18T09:22:32.312Z"
   },
   {
    "duration": 546,
    "start_time": "2023-03-18T09:22:32.344Z"
   },
   {
    "duration": 14,
    "start_time": "2023-03-18T09:22:32.892Z"
   },
   {
    "duration": 46,
    "start_time": "2023-03-18T09:22:32.908Z"
   },
   {
    "duration": 5,
    "start_time": "2023-03-18T09:22:32.956Z"
   },
   {
    "duration": 18,
    "start_time": "2023-03-18T09:22:32.962Z"
   },
   {
    "duration": 6,
    "start_time": "2023-03-18T09:22:32.982Z"
   },
   {
    "duration": 11,
    "start_time": "2023-03-18T09:22:32.989Z"
   },
   {
    "duration": 46,
    "start_time": "2023-03-18T09:22:33.002Z"
   },
   {
    "duration": 24,
    "start_time": "2023-03-18T09:22:33.050Z"
   },
   {
    "duration": 15,
    "start_time": "2023-03-18T09:22:33.080Z"
   },
   {
    "duration": 4,
    "start_time": "2023-03-18T09:22:33.097Z"
   },
   {
    "duration": 55,
    "start_time": "2023-03-18T09:22:33.103Z"
   },
   {
    "duration": 71,
    "start_time": "2023-03-18T09:22:33.160Z"
   },
   {
    "duration": 21,
    "start_time": "2023-03-18T09:22:33.232Z"
   },
   {
    "duration": 6,
    "start_time": "2023-03-18T09:22:33.258Z"
   },
   {
    "duration": 12,
    "start_time": "2023-03-18T09:22:33.266Z"
   },
   {
    "duration": 6,
    "start_time": "2023-03-18T09:22:33.279Z"
   },
   {
    "duration": 4,
    "start_time": "2023-03-18T09:22:33.287Z"
   },
   {
    "duration": 194,
    "start_time": "2023-03-18T09:23:03.069Z"
   },
   {
    "duration": 63,
    "start_time": "2023-03-18T09:23:21.323Z"
   },
   {
    "duration": 7,
    "start_time": "2023-03-18T09:23:50.283Z"
   },
   {
    "duration": 78,
    "start_time": "2023-03-18T09:24:07.020Z"
   },
   {
    "duration": 74,
    "start_time": "2023-03-18T09:24:14.587Z"
   },
   {
    "duration": 20,
    "start_time": "2023-03-18T09:24:33.099Z"
   },
   {
    "duration": 77,
    "start_time": "2023-03-18T09:25:04.187Z"
   },
   {
    "duration": 61,
    "start_time": "2023-03-18T09:27:19.057Z"
   },
   {
    "duration": 7,
    "start_time": "2023-03-18T09:27:37.458Z"
   },
   {
    "duration": 4,
    "start_time": "2023-03-18T09:27:44.529Z"
   },
   {
    "duration": 76,
    "start_time": "2023-03-18T09:27:45.106Z"
   },
   {
    "duration": 63,
    "start_time": "2023-03-18T09:29:25.889Z"
   },
   {
    "duration": 54,
    "start_time": "2023-03-18T09:30:12.169Z"
   },
   {
    "duration": 6,
    "start_time": "2023-03-18T09:39:57.487Z"
   },
   {
    "duration": 7,
    "start_time": "2023-03-18T09:39:58.110Z"
   },
   {
    "duration": 5,
    "start_time": "2023-03-18T09:39:58.687Z"
   },
   {
    "duration": 5,
    "start_time": "2023-03-18T09:39:59.263Z"
   },
   {
    "duration": 8,
    "start_time": "2023-03-18T09:42:54.428Z"
   },
   {
    "duration": 6,
    "start_time": "2023-03-18T09:42:54.787Z"
   },
   {
    "duration": 6,
    "start_time": "2023-03-18T09:42:55.403Z"
   },
   {
    "duration": 6,
    "start_time": "2023-03-18T09:42:55.915Z"
   },
   {
    "duration": 13,
    "start_time": "2023-03-18T09:45:01.905Z"
   },
   {
    "duration": 1536,
    "start_time": "2023-03-18T09:45:09.763Z"
   },
   {
    "duration": 28,
    "start_time": "2023-03-18T09:45:11.301Z"
   },
   {
    "duration": 88,
    "start_time": "2023-03-18T09:45:11.331Z"
   },
   {
    "duration": 40,
    "start_time": "2023-03-18T09:45:11.422Z"
   },
   {
    "duration": 467,
    "start_time": "2023-03-18T09:45:11.464Z"
   },
   {
    "duration": 31,
    "start_time": "2023-03-18T09:45:11.933Z"
   },
   {
    "duration": 12,
    "start_time": "2023-03-18T09:45:11.967Z"
   },
   {
    "duration": 10,
    "start_time": "2023-03-18T09:45:11.981Z"
   },
   {
    "duration": 21,
    "start_time": "2023-03-18T09:45:11.992Z"
   },
   {
    "duration": 9,
    "start_time": "2023-03-18T09:45:12.016Z"
   },
   {
    "duration": 22,
    "start_time": "2023-03-18T09:45:12.045Z"
   },
   {
    "duration": 9,
    "start_time": "2023-03-18T09:45:12.071Z"
   },
   {
    "duration": 83,
    "start_time": "2023-03-18T09:45:12.082Z"
   },
   {
    "duration": 6,
    "start_time": "2023-03-18T09:45:12.168Z"
   },
   {
    "duration": 12,
    "start_time": "2023-03-18T09:45:12.176Z"
   },
   {
    "duration": 123,
    "start_time": "2023-03-18T09:45:12.190Z"
   },
   {
    "duration": 9,
    "start_time": "2023-03-18T09:45:12.314Z"
   },
   {
    "duration": 36,
    "start_time": "2023-03-18T09:45:12.325Z"
   },
   {
    "duration": 21,
    "start_time": "2023-03-18T09:45:12.363Z"
   },
   {
    "duration": 47,
    "start_time": "2023-03-18T09:45:12.386Z"
   },
   {
    "duration": 19,
    "start_time": "2023-03-18T09:45:12.446Z"
   },
   {
    "duration": 15,
    "start_time": "2023-03-18T09:45:12.466Z"
   },
   {
    "duration": 231,
    "start_time": "2023-03-18T09:45:12.483Z"
   },
   {
    "duration": 185,
    "start_time": "2023-03-18T09:45:12.716Z"
   },
   {
    "duration": 73,
    "start_time": "2023-03-18T09:45:12.902Z"
   },
   {
    "duration": 9,
    "start_time": "2023-03-18T09:45:12.976Z"
   },
   {
    "duration": 31,
    "start_time": "2023-03-18T09:45:12.987Z"
   },
   {
    "duration": 56,
    "start_time": "2023-03-18T09:45:13.024Z"
   },
   {
    "duration": 13,
    "start_time": "2023-03-18T09:45:13.083Z"
   },
   {
    "duration": 150,
    "start_time": "2023-03-18T09:45:13.099Z"
   },
   {
    "duration": 52,
    "start_time": "2023-03-18T09:45:13.253Z"
   },
   {
    "duration": 11,
    "start_time": "2023-03-18T09:45:13.307Z"
   },
   {
    "duration": 28,
    "start_time": "2023-03-18T09:45:13.321Z"
   },
   {
    "duration": 23,
    "start_time": "2023-03-18T09:45:13.351Z"
   },
   {
    "duration": 39,
    "start_time": "2023-03-18T09:45:13.376Z"
   },
   {
    "duration": 35,
    "start_time": "2023-03-18T09:45:13.417Z"
   },
   {
    "duration": 8,
    "start_time": "2023-03-18T09:45:13.462Z"
   },
   {
    "duration": 4,
    "start_time": "2023-03-18T09:45:13.472Z"
   },
   {
    "duration": 13,
    "start_time": "2023-03-18T09:45:13.478Z"
   },
   {
    "duration": 7,
    "start_time": "2023-03-18T09:45:13.493Z"
   },
   {
    "duration": 26,
    "start_time": "2023-03-18T09:45:13.502Z"
   },
   {
    "duration": 23,
    "start_time": "2023-03-18T09:45:13.550Z"
   },
   {
    "duration": 14,
    "start_time": "2023-03-18T09:45:13.575Z"
   },
   {
    "duration": 52,
    "start_time": "2023-03-18T09:45:13.591Z"
   },
   {
    "duration": 15,
    "start_time": "2023-03-18T09:45:13.645Z"
   },
   {
    "duration": 15,
    "start_time": "2023-03-18T09:45:13.670Z"
   },
   {
    "duration": 71,
    "start_time": "2023-03-18T09:45:13.686Z"
   },
   {
    "duration": 6,
    "start_time": "2023-03-18T09:45:13.758Z"
   },
   {
    "duration": 10,
    "start_time": "2023-03-18T09:45:13.766Z"
   },
   {
    "duration": 8,
    "start_time": "2023-03-18T09:45:13.779Z"
   },
   {
    "duration": 80,
    "start_time": "2023-03-18T09:45:13.789Z"
   },
   {
    "duration": 80,
    "start_time": "2023-03-18T09:45:13.871Z"
   },
   {
    "duration": 315,
    "start_time": "2023-03-18T09:45:13.958Z"
   },
   {
    "duration": 6,
    "start_time": "2023-03-18T09:45:14.275Z"
   },
   {
    "duration": 9,
    "start_time": "2023-03-18T09:45:14.282Z"
   },
   {
    "duration": 56,
    "start_time": "2023-03-18T09:45:14.293Z"
   },
   {
    "duration": 191,
    "start_time": "2023-03-18T09:45:14.351Z"
   },
   {
    "duration": 741,
    "start_time": "2023-03-18T09:45:14.543Z"
   },
   {
    "duration": 59,
    "start_time": "2023-03-18T09:45:15.286Z"
   },
   {
    "duration": 33,
    "start_time": "2023-03-18T09:45:15.347Z"
   },
   {
    "duration": 83,
    "start_time": "2023-03-18T09:45:15.383Z"
   },
   {
    "duration": 703,
    "start_time": "2023-03-18T09:45:15.469Z"
   },
   {
    "duration": 310,
    "start_time": "2023-03-18T09:45:16.176Z"
   },
   {
    "duration": 14,
    "start_time": "2023-03-18T09:45:16.487Z"
   },
   {
    "duration": 324,
    "start_time": "2023-03-18T09:45:16.508Z"
   },
   {
    "duration": 22,
    "start_time": "2023-03-18T09:45:16.834Z"
   },
   {
    "duration": 121,
    "start_time": "2023-03-18T09:45:16.862Z"
   },
   {
    "duration": 7,
    "start_time": "2023-03-18T09:45:16.985Z"
   },
   {
    "duration": 7,
    "start_time": "2023-03-18T09:45:16.995Z"
   },
   {
    "duration": 367,
    "start_time": "2023-03-18T09:45:17.004Z"
   },
   {
    "duration": 19,
    "start_time": "2023-03-18T09:45:17.373Z"
   },
   {
    "duration": 13,
    "start_time": "2023-03-18T09:45:17.394Z"
   },
   {
    "duration": 614,
    "start_time": "2023-03-18T09:45:17.410Z"
   },
   {
    "duration": 28,
    "start_time": "2023-03-18T09:45:18.025Z"
   },
   {
    "duration": 33,
    "start_time": "2023-03-18T09:45:18.054Z"
   },
   {
    "duration": 4,
    "start_time": "2023-03-18T09:45:18.089Z"
   },
   {
    "duration": 9,
    "start_time": "2023-03-18T09:45:18.095Z"
   },
   {
    "duration": 39,
    "start_time": "2023-03-18T09:45:18.106Z"
   },
   {
    "duration": 6,
    "start_time": "2023-03-18T09:45:18.147Z"
   },
   {
    "duration": 6,
    "start_time": "2023-03-18T09:45:18.154Z"
   },
   {
    "duration": 8,
    "start_time": "2023-03-18T09:45:18.162Z"
   },
   {
    "duration": 16,
    "start_time": "2023-03-18T09:45:18.178Z"
   },
   {
    "duration": 45,
    "start_time": "2023-03-18T09:45:18.196Z"
   },
   {
    "duration": 106,
    "start_time": "2023-03-18T09:45:18.243Z"
   },
   {
    "duration": 8,
    "start_time": "2023-03-18T09:45:18.351Z"
   },
   {
    "duration": 263,
    "start_time": "2023-03-18T09:45:18.366Z"
   },
   {
    "duration": 0,
    "start_time": "2023-03-18T09:45:18.631Z"
   },
   {
    "duration": 0,
    "start_time": "2023-03-18T09:45:18.634Z"
   },
   {
    "duration": 0,
    "start_time": "2023-03-18T09:45:18.635Z"
   },
   {
    "duration": 7,
    "start_time": "2023-03-18T09:45:40.318Z"
   },
   {
    "duration": 20,
    "start_time": "2023-03-18T09:47:23.142Z"
   },
   {
    "duration": 1429,
    "start_time": "2023-03-18T09:47:34.661Z"
   },
   {
    "duration": 1353,
    "start_time": "2023-03-18T09:47:40.360Z"
   },
   {
    "duration": 1290,
    "start_time": "2023-03-18T09:48:52.469Z"
   },
   {
    "duration": 4,
    "start_time": "2023-03-18T09:49:07.916Z"
   },
   {
    "duration": 4,
    "start_time": "2023-03-18T09:49:40.932Z"
   },
   {
    "duration": 5,
    "start_time": "2023-03-18T09:50:31.587Z"
   },
   {
    "duration": 5,
    "start_time": "2023-03-18T09:50:31.963Z"
   },
   {
    "duration": 6,
    "start_time": "2023-03-18T09:50:32.570Z"
   },
   {
    "duration": 5,
    "start_time": "2023-03-18T09:50:44.995Z"
   },
   {
    "duration": 6,
    "start_time": "2023-03-18T09:50:59.970Z"
   },
   {
    "duration": 7,
    "start_time": "2023-03-18T09:51:00.314Z"
   },
   {
    "duration": 4,
    "start_time": "2023-03-18T09:51:00.882Z"
   },
   {
    "duration": 5,
    "start_time": "2023-03-18T09:51:01.369Z"
   },
   {
    "duration": 5,
    "start_time": "2023-03-18T09:51:01.586Z"
   },
   {
    "duration": 11,
    "start_time": "2023-03-18T09:51:01.834Z"
   },
   {
    "duration": 4,
    "start_time": "2023-03-18T09:51:15.482Z"
   },
   {
    "duration": 48,
    "start_time": "2023-03-18T10:23:26.387Z"
   },
   {
    "duration": 59,
    "start_time": "2023-03-18T10:23:39.976Z"
   },
   {
    "duration": 57,
    "start_time": "2023-03-18T10:24:01.159Z"
   },
   {
    "duration": 7,
    "start_time": "2023-03-18T10:24:07.571Z"
   },
   {
    "duration": 64,
    "start_time": "2023-03-18T10:24:18.738Z"
   },
   {
    "duration": 19,
    "start_time": "2023-03-18T10:24:20.168Z"
   },
   {
    "duration": 10,
    "start_time": "2023-03-18T10:24:37.467Z"
   },
   {
    "duration": 10,
    "start_time": "2023-03-18T10:38:53.490Z"
   },
   {
    "duration": 6,
    "start_time": "2023-03-18T10:48:13.505Z"
   },
   {
    "duration": 35,
    "start_time": "2023-03-18T10:48:14.138Z"
   },
   {
    "duration": 5,
    "start_time": "2023-03-18T10:48:14.713Z"
   },
   {
    "duration": 12,
    "start_time": "2023-03-18T10:48:14.937Z"
   },
   {
    "duration": 11,
    "start_time": "2023-03-18T10:48:15.173Z"
   },
   {
    "duration": 10,
    "start_time": "2023-03-18T10:51:59.700Z"
   },
   {
    "duration": 21,
    "start_time": "2023-03-18T10:52:11.490Z"
   },
   {
    "duration": 10,
    "start_time": "2023-03-18T10:52:12.108Z"
   },
   {
    "duration": 14,
    "start_time": "2023-03-18T10:52:36.517Z"
   },
   {
    "duration": 8,
    "start_time": "2023-03-18T10:52:45.796Z"
   },
   {
    "duration": 5,
    "start_time": "2023-03-18T10:55:17.303Z"
   },
   {
    "duration": 19,
    "start_time": "2023-03-18T10:55:17.871Z"
   },
   {
    "duration": 6,
    "start_time": "2023-03-18T10:55:18.479Z"
   },
   {
    "duration": 6,
    "start_time": "2023-03-18T10:55:19.023Z"
   },
   {
    "duration": 6,
    "start_time": "2023-03-18T10:55:19.593Z"
   },
   {
    "duration": 1784,
    "start_time": "2023-03-18T10:56:59.804Z"
   },
   {
    "duration": 28,
    "start_time": "2023-03-18T10:57:01.590Z"
   },
   {
    "duration": 87,
    "start_time": "2023-03-18T10:57:01.620Z"
   },
   {
    "duration": 27,
    "start_time": "2023-03-18T10:57:01.710Z"
   },
   {
    "duration": 623,
    "start_time": "2023-03-18T10:57:01.738Z"
   },
   {
    "duration": 12,
    "start_time": "2023-03-18T10:57:02.374Z"
   },
   {
    "duration": 35,
    "start_time": "2023-03-18T10:57:02.388Z"
   },
   {
    "duration": 32,
    "start_time": "2023-03-18T10:57:02.425Z"
   },
   {
    "duration": 40,
    "start_time": "2023-03-18T10:57:02.458Z"
   },
   {
    "duration": 28,
    "start_time": "2023-03-18T10:57:02.500Z"
   },
   {
    "duration": 47,
    "start_time": "2023-03-18T10:57:02.530Z"
   },
   {
    "duration": 26,
    "start_time": "2023-03-18T10:57:02.578Z"
   },
   {
    "duration": 92,
    "start_time": "2023-03-18T10:57:02.606Z"
   },
   {
    "duration": 5,
    "start_time": "2023-03-18T10:57:02.700Z"
   },
   {
    "duration": 32,
    "start_time": "2023-03-18T10:57:02.707Z"
   },
   {
    "duration": 147,
    "start_time": "2023-03-18T10:57:02.743Z"
   },
   {
    "duration": 7,
    "start_time": "2023-03-18T10:57:02.891Z"
   },
   {
    "duration": 19,
    "start_time": "2023-03-18T10:57:02.899Z"
   },
   {
    "duration": 13,
    "start_time": "2023-03-18T10:57:02.920Z"
   },
   {
    "duration": 41,
    "start_time": "2023-03-18T10:57:02.935Z"
   },
   {
    "duration": 8,
    "start_time": "2023-03-18T10:57:02.979Z"
   },
   {
    "duration": 14,
    "start_time": "2023-03-18T10:57:02.989Z"
   },
   {
    "duration": 191,
    "start_time": "2023-03-18T10:57:03.004Z"
   },
   {
    "duration": 210,
    "start_time": "2023-03-18T10:57:03.197Z"
   },
   {
    "duration": 54,
    "start_time": "2023-03-18T10:57:03.408Z"
   },
   {
    "duration": 10,
    "start_time": "2023-03-18T10:57:03.463Z"
   },
   {
    "duration": 23,
    "start_time": "2023-03-18T10:57:03.475Z"
   },
   {
    "duration": 49,
    "start_time": "2023-03-18T10:57:03.503Z"
   },
   {
    "duration": 60,
    "start_time": "2023-03-18T10:57:03.558Z"
   },
   {
    "duration": 7,
    "start_time": "2023-03-18T10:57:03.620Z"
   },
   {
    "duration": 8,
    "start_time": "2023-03-18T10:57:03.629Z"
   },
   {
    "duration": 129,
    "start_time": "2023-03-18T10:57:03.653Z"
   },
   {
    "duration": 81,
    "start_time": "2023-03-18T10:57:03.784Z"
   },
   {
    "duration": 11,
    "start_time": "2023-03-18T10:57:03.867Z"
   },
   {
    "duration": 9,
    "start_time": "2023-03-18T10:57:03.880Z"
   },
   {
    "duration": 13,
    "start_time": "2023-03-18T10:57:03.890Z"
   },
   {
    "duration": 59,
    "start_time": "2023-03-18T10:57:03.905Z"
   },
   {
    "duration": 18,
    "start_time": "2023-03-18T10:57:03.965Z"
   },
   {
    "duration": 9,
    "start_time": "2023-03-18T10:57:03.986Z"
   },
   {
    "duration": 4,
    "start_time": "2023-03-18T10:57:03.997Z"
   },
   {
    "duration": 14,
    "start_time": "2023-03-18T10:57:04.003Z"
   },
   {
    "duration": 8,
    "start_time": "2023-03-18T10:57:04.018Z"
   },
   {
    "duration": 33,
    "start_time": "2023-03-18T10:57:04.028Z"
   },
   {
    "duration": 10,
    "start_time": "2023-03-18T10:57:04.066Z"
   },
   {
    "duration": 9,
    "start_time": "2023-03-18T10:57:04.078Z"
   },
   {
    "duration": 7,
    "start_time": "2023-03-18T10:57:04.089Z"
   },
   {
    "duration": 8,
    "start_time": "2023-03-18T10:57:04.098Z"
   },
   {
    "duration": 12,
    "start_time": "2023-03-18T10:57:04.107Z"
   },
   {
    "duration": 20,
    "start_time": "2023-03-18T10:57:04.145Z"
   },
   {
    "duration": 9,
    "start_time": "2023-03-18T10:57:04.168Z"
   },
   {
    "duration": 8,
    "start_time": "2023-03-18T10:57:04.178Z"
   },
   {
    "duration": 6,
    "start_time": "2023-03-18T10:57:04.188Z"
   },
   {
    "duration": 13,
    "start_time": "2023-03-18T10:57:04.195Z"
   },
   {
    "duration": 59,
    "start_time": "2023-03-18T10:57:04.210Z"
   },
   {
    "duration": 141,
    "start_time": "2023-03-18T10:57:04.274Z"
   },
   {
    "duration": 5,
    "start_time": "2023-03-18T10:57:04.417Z"
   },
   {
    "duration": 11,
    "start_time": "2023-03-18T10:57:04.424Z"
   },
   {
    "duration": 7,
    "start_time": "2023-03-18T10:57:04.439Z"
   },
   {
    "duration": 85,
    "start_time": "2023-03-18T10:57:04.447Z"
   },
   {
    "duration": 325,
    "start_time": "2023-03-18T10:57:04.540Z"
   },
   {
    "duration": 10,
    "start_time": "2023-03-18T10:57:04.867Z"
   },
   {
    "duration": 10,
    "start_time": "2023-03-18T10:57:04.879Z"
   },
   {
    "duration": 17,
    "start_time": "2023-03-18T10:57:04.890Z"
   },
   {
    "duration": 294,
    "start_time": "2023-03-18T10:57:04.909Z"
   },
   {
    "duration": 279,
    "start_time": "2023-03-18T10:57:05.205Z"
   },
   {
    "duration": 12,
    "start_time": "2023-03-18T10:57:05.486Z"
   },
   {
    "duration": 301,
    "start_time": "2023-03-18T10:57:05.500Z"
   },
   {
    "duration": 9,
    "start_time": "2023-03-18T10:57:05.802Z"
   },
   {
    "duration": 114,
    "start_time": "2023-03-18T10:57:05.812Z"
   },
   {
    "duration": 6,
    "start_time": "2023-03-18T10:57:05.928Z"
   },
   {
    "duration": 24,
    "start_time": "2023-03-18T10:57:05.942Z"
   },
   {
    "duration": 262,
    "start_time": "2023-03-18T10:57:05.971Z"
   },
   {
    "duration": 26,
    "start_time": "2023-03-18T10:57:06.234Z"
   },
   {
    "duration": 20,
    "start_time": "2023-03-18T10:57:06.264Z"
   },
   {
    "duration": 576,
    "start_time": "2023-03-18T10:57:06.286Z"
   },
   {
    "duration": 16,
    "start_time": "2023-03-18T10:57:06.869Z"
   },
   {
    "duration": 67,
    "start_time": "2023-03-18T10:57:06.886Z"
   },
   {
    "duration": 7,
    "start_time": "2023-03-18T10:57:06.958Z"
   },
   {
    "duration": 12,
    "start_time": "2023-03-18T10:57:06.966Z"
   },
   {
    "duration": 7,
    "start_time": "2023-03-18T10:57:06.980Z"
   },
   {
    "duration": 7,
    "start_time": "2023-03-18T10:57:06.989Z"
   },
   {
    "duration": 60,
    "start_time": "2023-03-18T10:57:07.002Z"
   },
   {
    "duration": 11,
    "start_time": "2023-03-18T10:57:07.063Z"
   },
   {
    "duration": 13,
    "start_time": "2023-03-18T10:57:07.076Z"
   },
   {
    "duration": 6,
    "start_time": "2023-03-18T10:57:07.091Z"
   },
   {
    "duration": 101,
    "start_time": "2023-03-18T10:57:07.099Z"
   },
   {
    "duration": 5,
    "start_time": "2023-03-18T10:57:07.202Z"
   },
   {
    "duration": 9,
    "start_time": "2023-03-18T10:57:07.208Z"
   },
   {
    "duration": 6,
    "start_time": "2023-03-18T10:57:07.218Z"
   },
   {
    "duration": 20,
    "start_time": "2023-03-18T10:57:07.225Z"
   },
   {
    "duration": 25,
    "start_time": "2023-03-18T10:57:07.246Z"
   },
   {
    "duration": 1326,
    "start_time": "2023-03-18T17:15:12.055Z"
   },
   {
    "duration": 98,
    "start_time": "2023-03-18T17:15:13.383Z"
   },
   {
    "duration": 291,
    "start_time": "2023-03-18T17:15:13.483Z"
   },
   {
    "duration": 120,
    "start_time": "2023-03-18T17:15:13.776Z"
   },
   {
    "duration": 1676,
    "start_time": "2023-03-18T17:15:13.898Z"
   },
   {
    "duration": 14,
    "start_time": "2023-03-18T17:15:15.577Z"
   },
   {
    "duration": 13,
    "start_time": "2023-03-18T17:15:15.593Z"
   },
   {
    "duration": 11,
    "start_time": "2023-03-18T17:15:15.608Z"
   },
   {
    "duration": 32,
    "start_time": "2023-03-18T17:15:15.621Z"
   },
   {
    "duration": 10,
    "start_time": "2023-03-18T17:15:15.655Z"
   },
   {
    "duration": 15,
    "start_time": "2023-03-18T17:15:15.667Z"
   },
   {
    "duration": 10,
    "start_time": "2023-03-18T17:15:15.684Z"
   },
   {
    "duration": 112,
    "start_time": "2023-03-18T17:15:15.697Z"
   },
   {
    "duration": 6,
    "start_time": "2023-03-18T17:15:15.811Z"
   },
   {
    "duration": 26,
    "start_time": "2023-03-18T17:15:15.819Z"
   },
   {
    "duration": 121,
    "start_time": "2023-03-18T17:15:15.847Z"
   },
   {
    "duration": 7,
    "start_time": "2023-03-18T17:15:15.971Z"
   },
   {
    "duration": 12,
    "start_time": "2023-03-18T17:15:15.980Z"
   },
   {
    "duration": 17,
    "start_time": "2023-03-18T17:15:15.994Z"
   },
   {
    "duration": 65,
    "start_time": "2023-03-18T17:15:16.013Z"
   },
   {
    "duration": 11,
    "start_time": "2023-03-18T17:15:16.080Z"
   },
   {
    "duration": 13,
    "start_time": "2023-03-18T17:15:16.093Z"
   },
   {
    "duration": 224,
    "start_time": "2023-03-18T17:15:16.108Z"
   },
   {
    "duration": 205,
    "start_time": "2023-03-18T17:15:16.341Z"
   },
   {
    "duration": 43,
    "start_time": "2023-03-18T17:15:16.549Z"
   },
   {
    "duration": 9,
    "start_time": "2023-03-18T17:15:16.594Z"
   },
   {
    "duration": 36,
    "start_time": "2023-03-18T17:15:16.605Z"
   },
   {
    "duration": 28,
    "start_time": "2023-03-18T17:15:16.645Z"
   },
   {
    "duration": 39,
    "start_time": "2023-03-18T17:15:16.675Z"
   },
   {
    "duration": 27,
    "start_time": "2023-03-18T17:15:16.716Z"
   },
   {
    "duration": 10,
    "start_time": "2023-03-18T17:15:16.745Z"
   },
   {
    "duration": 145,
    "start_time": "2023-03-18T17:15:16.757Z"
   },
   {
    "duration": 58,
    "start_time": "2023-03-18T17:15:16.903Z"
   },
   {
    "duration": 12,
    "start_time": "2023-03-18T17:15:16.963Z"
   },
   {
    "duration": 10,
    "start_time": "2023-03-18T17:15:16.977Z"
   },
   {
    "duration": 25,
    "start_time": "2023-03-18T17:15:16.989Z"
   },
   {
    "duration": 49,
    "start_time": "2023-03-18T17:15:17.015Z"
   },
   {
    "duration": 23,
    "start_time": "2023-03-18T17:15:17.066Z"
   },
   {
    "duration": 10,
    "start_time": "2023-03-18T17:15:17.090Z"
   },
   {
    "duration": 4,
    "start_time": "2023-03-18T17:15:17.101Z"
   },
   {
    "duration": 35,
    "start_time": "2023-03-18T17:15:17.107Z"
   },
   {
    "duration": 5,
    "start_time": "2023-03-18T17:15:17.145Z"
   },
   {
    "duration": 23,
    "start_time": "2023-03-18T17:15:17.152Z"
   },
   {
    "duration": 9,
    "start_time": "2023-03-18T17:15:17.177Z"
   },
   {
    "duration": 10,
    "start_time": "2023-03-18T17:15:17.188Z"
   },
   {
    "duration": 45,
    "start_time": "2023-03-18T17:15:17.200Z"
   },
   {
    "duration": 6,
    "start_time": "2023-03-18T17:15:17.247Z"
   },
   {
    "duration": 13,
    "start_time": "2023-03-18T17:15:17.255Z"
   },
   {
    "duration": 16,
    "start_time": "2023-03-18T17:15:17.270Z"
   },
   {
    "duration": 5,
    "start_time": "2023-03-18T17:15:17.287Z"
   },
   {
    "duration": 47,
    "start_time": "2023-03-18T17:15:17.294Z"
   },
   {
    "duration": 7,
    "start_time": "2023-03-18T17:15:17.343Z"
   },
   {
    "duration": 13,
    "start_time": "2023-03-18T17:15:17.352Z"
   },
   {
    "duration": 29,
    "start_time": "2023-03-18T17:15:17.366Z"
   },
   {
    "duration": 167,
    "start_time": "2023-03-18T17:15:17.397Z"
   },
   {
    "duration": 7,
    "start_time": "2023-03-18T17:15:17.566Z"
   },
   {
    "duration": 12,
    "start_time": "2023-03-18T17:15:17.576Z"
   },
   {
    "duration": 7,
    "start_time": "2023-03-18T17:15:17.590Z"
   },
   {
    "duration": 147,
    "start_time": "2023-03-18T17:15:17.599Z"
   },
   {
    "duration": 396,
    "start_time": "2023-03-18T17:15:17.748Z"
   },
   {
    "duration": 11,
    "start_time": "2023-03-18T17:15:18.146Z"
   },
   {
    "duration": 11,
    "start_time": "2023-03-18T17:15:18.160Z"
   },
   {
    "duration": 20,
    "start_time": "2023-03-18T17:15:18.173Z"
   },
   {
    "duration": 287,
    "start_time": "2023-03-18T17:15:18.195Z"
   },
   {
    "duration": 285,
    "start_time": "2023-03-18T17:15:18.484Z"
   },
   {
    "duration": 15,
    "start_time": "2023-03-18T17:15:18.770Z"
   },
   {
    "duration": 326,
    "start_time": "2023-03-18T17:15:18.786Z"
   },
   {
    "duration": 11,
    "start_time": "2023-03-18T17:15:19.114Z"
   },
   {
    "duration": 116,
    "start_time": "2023-03-18T17:15:19.127Z"
   },
   {
    "duration": 5,
    "start_time": "2023-03-18T17:15:19.245Z"
   },
   {
    "duration": 7,
    "start_time": "2023-03-18T17:15:19.252Z"
   },
   {
    "duration": 296,
    "start_time": "2023-03-18T17:15:19.261Z"
   },
   {
    "duration": 15,
    "start_time": "2023-03-18T17:15:19.559Z"
   },
   {
    "duration": 11,
    "start_time": "2023-03-18T17:15:19.575Z"
   },
   {
    "duration": 788,
    "start_time": "2023-03-18T17:15:19.588Z"
   },
   {
    "duration": 17,
    "start_time": "2023-03-18T17:15:20.378Z"
   },
   {
    "duration": 67,
    "start_time": "2023-03-18T17:15:20.397Z"
   },
   {
    "duration": 5,
    "start_time": "2023-03-18T17:15:20.466Z"
   },
   {
    "duration": 22,
    "start_time": "2023-03-18T17:15:20.473Z"
   },
   {
    "duration": 50,
    "start_time": "2023-03-18T17:15:20.496Z"
   },
   {
    "duration": 29,
    "start_time": "2023-03-18T17:15:20.548Z"
   },
   {
    "duration": 8,
    "start_time": "2023-03-18T17:15:20.584Z"
   },
   {
    "duration": 43,
    "start_time": "2023-03-18T17:15:20.594Z"
   },
   {
    "duration": 18,
    "start_time": "2023-03-18T17:15:20.639Z"
   },
   {
    "duration": 6,
    "start_time": "2023-03-18T17:15:20.659Z"
   },
   {
    "duration": 88,
    "start_time": "2023-03-18T17:15:20.667Z"
   },
   {
    "duration": 9,
    "start_time": "2023-03-18T17:15:20.758Z"
   },
   {
    "duration": 19,
    "start_time": "2023-03-18T17:15:20.769Z"
   },
   {
    "duration": 9,
    "start_time": "2023-03-18T17:15:20.790Z"
   },
   {
    "duration": 42,
    "start_time": "2023-03-18T17:15:20.801Z"
   },
   {
    "duration": 40,
    "start_time": "2023-03-18T17:15:20.845Z"
   },
   {
    "duration": 80,
    "start_time": "2023-04-05T10:57:22.929Z"
   },
   {
    "duration": 1474,
    "start_time": "2023-04-05T10:57:30.561Z"
   },
   {
    "duration": 87,
    "start_time": "2023-04-05T10:57:32.037Z"
   },
   {
    "duration": 295,
    "start_time": "2023-04-05T10:57:32.126Z"
   },
   {
    "duration": 85,
    "start_time": "2023-04-05T10:57:32.423Z"
   },
   {
    "duration": 750,
    "start_time": "2023-04-05T10:57:32.510Z"
   },
   {
    "duration": 17,
    "start_time": "2023-04-05T10:57:33.262Z"
   },
   {
    "duration": 11,
    "start_time": "2023-04-05T10:57:33.286Z"
   },
   {
    "duration": 16,
    "start_time": "2023-04-05T10:57:33.299Z"
   },
   {
    "duration": 18,
    "start_time": "2023-04-05T10:57:33.316Z"
   },
   {
    "duration": 9,
    "start_time": "2023-04-05T10:57:33.336Z"
   },
   {
    "duration": 44,
    "start_time": "2023-04-05T10:57:33.347Z"
   },
   {
    "duration": 12,
    "start_time": "2023-04-05T10:57:33.397Z"
   },
   {
    "duration": 61,
    "start_time": "2023-04-05T10:57:33.411Z"
   },
   {
    "duration": 11,
    "start_time": "2023-04-05T10:57:33.486Z"
   },
   {
    "duration": 27,
    "start_time": "2023-04-05T10:57:33.502Z"
   },
   {
    "duration": 162,
    "start_time": "2023-04-05T10:57:33.531Z"
   },
   {
    "duration": 8,
    "start_time": "2023-04-05T10:57:33.695Z"
   },
   {
    "duration": 6,
    "start_time": "2023-04-05T10:57:33.707Z"
   },
   {
    "duration": 13,
    "start_time": "2023-04-05T10:57:33.714Z"
   },
   {
    "duration": 56,
    "start_time": "2023-04-05T10:57:33.729Z"
   },
   {
    "duration": 11,
    "start_time": "2023-04-05T10:57:33.788Z"
   },
   {
    "duration": 17,
    "start_time": "2023-04-05T10:57:33.800Z"
   },
   {
    "duration": 194,
    "start_time": "2023-04-05T10:57:33.819Z"
   },
   {
    "duration": 210,
    "start_time": "2023-04-05T10:57:34.014Z"
   },
   {
    "duration": 52,
    "start_time": "2023-04-05T10:57:34.226Z"
   },
   {
    "duration": 11,
    "start_time": "2023-04-05T10:57:34.280Z"
   },
   {
    "duration": 26,
    "start_time": "2023-04-05T10:57:34.292Z"
   },
   {
    "duration": 30,
    "start_time": "2023-04-05T10:57:34.319Z"
   },
   {
    "duration": 73,
    "start_time": "2023-04-05T10:57:34.351Z"
   },
   {
    "duration": 11,
    "start_time": "2023-04-05T10:57:34.426Z"
   },
   {
    "duration": 49,
    "start_time": "2023-04-05T10:57:34.438Z"
   },
   {
    "duration": 133,
    "start_time": "2023-04-05T10:57:34.489Z"
   },
   {
    "duration": 365,
    "start_time": "2023-04-05T10:57:34.626Z"
   },
   {
    "duration": 14,
    "start_time": "2023-04-05T10:57:34.993Z"
   },
   {
    "duration": 72,
    "start_time": "2023-04-05T10:57:35.009Z"
   },
   {
    "duration": 26,
    "start_time": "2023-04-05T10:57:35.086Z"
   },
   {
    "duration": 92,
    "start_time": "2023-04-05T10:57:35.114Z"
   },
   {
    "duration": 80,
    "start_time": "2023-04-05T10:57:35.208Z"
   },
   {
    "duration": 12,
    "start_time": "2023-04-05T10:57:35.290Z"
   },
   {
    "duration": 7,
    "start_time": "2023-04-05T10:57:35.309Z"
   },
   {
    "duration": 60,
    "start_time": "2023-04-05T10:57:35.323Z"
   },
   {
    "duration": 9,
    "start_time": "2023-04-05T10:57:35.385Z"
   },
   {
    "duration": 30,
    "start_time": "2023-04-05T10:57:35.396Z"
   },
   {
    "duration": 54,
    "start_time": "2023-04-05T10:57:35.429Z"
   },
   {
    "duration": 16,
    "start_time": "2023-04-05T10:57:35.491Z"
   },
   {
    "duration": 10,
    "start_time": "2023-04-05T10:57:35.509Z"
   },
   {
    "duration": 6,
    "start_time": "2023-04-05T10:57:35.521Z"
   },
   {
    "duration": 24,
    "start_time": "2023-04-05T10:57:35.575Z"
   },
   {
    "duration": 22,
    "start_time": "2023-04-05T10:57:35.602Z"
   },
   {
    "duration": 9,
    "start_time": "2023-04-05T10:57:35.682Z"
   },
   {
    "duration": 22,
    "start_time": "2023-04-05T10:57:35.693Z"
   },
   {
    "duration": 12,
    "start_time": "2023-04-05T10:57:35.717Z"
   },
   {
    "duration": 56,
    "start_time": "2023-04-05T10:57:35.731Z"
   },
   {
    "duration": 35,
    "start_time": "2023-04-05T10:57:35.789Z"
   },
   {
    "duration": 382,
    "start_time": "2023-04-05T10:57:35.825Z"
   },
   {
    "duration": 7,
    "start_time": "2023-04-05T10:57:36.209Z"
   },
   {
    "duration": 60,
    "start_time": "2023-04-05T10:57:36.218Z"
   },
   {
    "duration": 8,
    "start_time": "2023-04-05T10:57:36.280Z"
   },
   {
    "duration": 219,
    "start_time": "2023-04-05T10:57:36.290Z"
   },
   {
    "duration": 599,
    "start_time": "2023-04-05T10:57:36.512Z"
   },
   {
    "duration": 11,
    "start_time": "2023-04-05T10:57:37.112Z"
   },
   {
    "duration": 14,
    "start_time": "2023-04-05T10:57:37.126Z"
   },
   {
    "duration": 50,
    "start_time": "2023-04-05T10:57:37.142Z"
   },
   {
    "duration": 293,
    "start_time": "2023-04-05T10:57:37.200Z"
   },
   {
    "duration": 292,
    "start_time": "2023-04-05T10:57:37.498Z"
   },
   {
    "duration": 17,
    "start_time": "2023-04-05T10:57:37.794Z"
   },
   {
    "duration": 322,
    "start_time": "2023-04-05T10:57:37.814Z"
   },
   {
    "duration": 9,
    "start_time": "2023-04-05T10:57:38.138Z"
   },
   {
    "duration": 137,
    "start_time": "2023-04-05T10:57:38.149Z"
   },
   {
    "duration": 7,
    "start_time": "2023-04-05T10:57:38.292Z"
   },
   {
    "duration": 15,
    "start_time": "2023-04-05T10:57:38.302Z"
   },
   {
    "duration": 304,
    "start_time": "2023-04-05T10:57:38.319Z"
   },
   {
    "duration": 12,
    "start_time": "2023-04-05T10:57:38.625Z"
   },
   {
    "duration": 11,
    "start_time": "2023-04-05T10:57:38.639Z"
   },
   {
    "duration": 382,
    "start_time": "2023-04-05T10:57:38.652Z"
   },
   {
    "duration": 17,
    "start_time": "2023-04-05T10:57:39.036Z"
   },
   {
    "duration": 52,
    "start_time": "2023-04-05T10:57:39.055Z"
   },
   {
    "duration": 4,
    "start_time": "2023-04-05T10:57:39.110Z"
   },
   {
    "duration": 18,
    "start_time": "2023-04-05T10:57:39.116Z"
   },
   {
    "duration": 16,
    "start_time": "2023-04-05T10:57:39.136Z"
   },
   {
    "duration": 7,
    "start_time": "2023-04-05T10:57:39.154Z"
   },
   {
    "duration": 12,
    "start_time": "2023-04-05T10:57:39.163Z"
   },
   {
    "duration": 18,
    "start_time": "2023-04-05T10:57:39.181Z"
   },
   {
    "duration": 41,
    "start_time": "2023-04-05T10:57:39.204Z"
   },
   {
    "duration": 5,
    "start_time": "2023-04-05T10:57:39.247Z"
   },
   {
    "duration": 202,
    "start_time": "2023-04-05T10:57:39.254Z"
   },
   {
    "duration": 6,
    "start_time": "2023-04-05T10:57:39.458Z"
   },
   {
    "duration": 17,
    "start_time": "2023-04-05T10:57:39.466Z"
   },
   {
    "duration": 22,
    "start_time": "2023-04-05T10:57:39.485Z"
   },
   {
    "duration": 69,
    "start_time": "2023-04-05T10:57:39.509Z"
   },
   {
    "duration": 12,
    "start_time": "2023-04-05T10:57:39.580Z"
   },
   {
    "duration": 60,
    "start_time": "2023-04-05T10:58:33.390Z"
   }
  ],
  "kernelspec": {
   "display_name": "Python 3 (ipykernel)",
   "language": "python",
   "name": "python3"
  },
  "language_info": {
   "codemirror_mode": {
    "name": "ipython",
    "version": 3
   },
   "file_extension": ".py",
   "mimetype": "text/x-python",
   "name": "python",
   "nbconvert_exporter": "python",
   "pygments_lexer": "ipython3",
   "version": "3.9.13"
  },
  "toc": {
   "base_numbering": 1,
   "nav_menu": {},
   "number_sections": true,
   "sideBar": true,
   "skip_h1_title": true,
   "title_cell": "Содержание",
   "title_sidebar": "Содержание",
   "toc_cell": true,
   "toc_position": {
    "height": "calc(100% - 180px)",
    "left": "10px",
    "top": "150px",
    "width": "322.246px"
   },
   "toc_section_display": true,
   "toc_window_display": true
  }
 },
 "nbformat": 4,
 "nbformat_minor": 2
}
