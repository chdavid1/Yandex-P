{
 "cells": [
  {
   "cell_type": "markdown",
   "metadata": {},
   "source": [
    "# Проект по SQL"
   ]
  },
  {
   "cell_type": "markdown",
   "metadata": {},
   "source": [
    "Цель работы проанализировать базу данных о книгах, издательствах, авторах, а также пользовательские обзорах на книги и подготовить общую информацию по сфере для заказчика"
   ]
  },
  {
   "cell_type": "markdown",
   "metadata": {
    "toc": true
   },
   "source": [
    "<h1>Содержание<span class=\"tocSkip\"></span></h1>\n",
    "<div class=\"toc\"><ul class=\"toc-item\"><li><span><a href=\"#Загрузка-данных\" data-toc-modified-id=\"Загрузка-данных-1\"><span class=\"toc-item-num\">1&nbsp;&nbsp;</span>Загрузка данных</a></span></li><li><span><a href=\"#Задание-1\" data-toc-modified-id=\"Задание-1-2\"><span class=\"toc-item-num\">2&nbsp;&nbsp;</span>Задание 1</a></span></li><li><span><a href=\"#Задание-2\" data-toc-modified-id=\"Задание-2-3\"><span class=\"toc-item-num\">3&nbsp;&nbsp;</span>Задание 2</a></span></li><li><span><a href=\"#Задание-3\" data-toc-modified-id=\"Задание-3-4\"><span class=\"toc-item-num\">4&nbsp;&nbsp;</span>Задание 3</a></span></li><li><span><a href=\"#Задание-4\" data-toc-modified-id=\"Задание-4-5\"><span class=\"toc-item-num\">5&nbsp;&nbsp;</span>Задание 4</a></span></li><li><span><a href=\"#Задание-5\" data-toc-modified-id=\"Задание-5-6\"><span class=\"toc-item-num\">6&nbsp;&nbsp;</span>Задание 5</a></span></li><li><span><a href=\"#Результаты-работы\" data-toc-modified-id=\"Результаты-работы-7\"><span class=\"toc-item-num\">7&nbsp;&nbsp;</span>Результаты работы</a></span></li></ul></div>"
   ]
  },
  {
   "cell_type": "markdown",
   "metadata": {},
   "source": [
    "## Загрузка данных "
   ]
  },
  {
   "cell_type": "code",
   "execution_count": 1,
   "metadata": {},
   "outputs": [],
   "source": [
    "# импортируем библиотеки\n",
    "import pandas as pd\n",
    "from sqlalchemy import create_engine\n",
    "# устанавливаем параметры\n",
    "db_config = {'user': 'praktikum_student', # имя пользователя\n",
    "'pwd': 'Sdf4$2;d-d30pp', # пароль\n",
    "'host': 'rc1b-wcoijxj3yxfsf3fs.mdb.yandexcloud.net',\n",
    "'port': 6432, # порт подключения\n",
    "'db': 'data-analyst-final-project-db'} # название базы данных\n",
    "connection_string = 'postgresql://{}:{}@{}:{}/{}'.format(db_config['user'],\n",
    " db_config['pwd'],\n",
    " db_config['host'],\n",
    " db_config['port'],\n",
    " db_config['db'])\n",
    "# сохраняем коннектор\n",
    "engine = create_engine(connection_string, connect_args={'sslmode':'require'}) "
   ]
  },
  {
   "cell_type": "code",
   "execution_count": 2,
   "metadata": {},
   "outputs": [
    {
     "data": {
      "text/html": [
       "<div>\n",
       "<style scoped>\n",
       "    .dataframe tbody tr th:only-of-type {\n",
       "        vertical-align: middle;\n",
       "    }\n",
       "\n",
       "    .dataframe tbody tr th {\n",
       "        vertical-align: top;\n",
       "    }\n",
       "\n",
       "    .dataframe thead th {\n",
       "        text-align: right;\n",
       "    }\n",
       "</style>\n",
       "<table border=\"1\" class=\"dataframe\">\n",
       "  <thead>\n",
       "    <tr style=\"text-align: right;\">\n",
       "      <th></th>\n",
       "      <th>book_id</th>\n",
       "      <th>author_id</th>\n",
       "      <th>title</th>\n",
       "      <th>num_pages</th>\n",
       "      <th>publication_date</th>\n",
       "      <th>publisher_id</th>\n",
       "    </tr>\n",
       "  </thead>\n",
       "  <tbody>\n",
       "    <tr>\n",
       "      <th>0</th>\n",
       "      <td>1</td>\n",
       "      <td>546</td>\n",
       "      <td>'Salem's Lot</td>\n",
       "      <td>594</td>\n",
       "      <td>2005-11-01</td>\n",
       "      <td>93</td>\n",
       "    </tr>\n",
       "    <tr>\n",
       "      <th>1</th>\n",
       "      <td>2</td>\n",
       "      <td>465</td>\n",
       "      <td>1 000 Places to See Before You Die</td>\n",
       "      <td>992</td>\n",
       "      <td>2003-05-22</td>\n",
       "      <td>336</td>\n",
       "    </tr>\n",
       "    <tr>\n",
       "      <th>2</th>\n",
       "      <td>3</td>\n",
       "      <td>407</td>\n",
       "      <td>13 Little Blue Envelopes (Little Blue Envelope...</td>\n",
       "      <td>322</td>\n",
       "      <td>2010-12-21</td>\n",
       "      <td>135</td>\n",
       "    </tr>\n",
       "    <tr>\n",
       "      <th>3</th>\n",
       "      <td>4</td>\n",
       "      <td>82</td>\n",
       "      <td>1491: New Revelations of the Americas Before C...</td>\n",
       "      <td>541</td>\n",
       "      <td>2006-10-10</td>\n",
       "      <td>309</td>\n",
       "    </tr>\n",
       "    <tr>\n",
       "      <th>4</th>\n",
       "      <td>5</td>\n",
       "      <td>125</td>\n",
       "      <td>1776</td>\n",
       "      <td>386</td>\n",
       "      <td>2006-07-04</td>\n",
       "      <td>268</td>\n",
       "    </tr>\n",
       "  </tbody>\n",
       "</table>\n",
       "</div>"
      ],
      "text/plain": [
       "   book_id  author_id                                              title  \\\n",
       "0        1        546                                       'Salem's Lot   \n",
       "1        2        465                 1 000 Places to See Before You Die   \n",
       "2        3        407  13 Little Blue Envelopes (Little Blue Envelope...   \n",
       "3        4         82  1491: New Revelations of the Americas Before C...   \n",
       "4        5        125                                               1776   \n",
       "\n",
       "   num_pages publication_date  publisher_id  \n",
       "0        594       2005-11-01            93  \n",
       "1        992       2003-05-22           336  \n",
       "2        322       2010-12-21           135  \n",
       "3        541       2006-10-10           309  \n",
       "4        386       2006-07-04           268  "
      ]
     },
     "execution_count": 2,
     "metadata": {},
     "output_type": "execute_result"
    }
   ],
   "source": [
    "query_books = '''SELECT * FROM books'''\n",
    "books=pd.io.sql.read_sql(query_books, con = engine)\n",
    "books.head()"
   ]
  },
  {
   "cell_type": "code",
   "execution_count": 3,
   "metadata": {},
   "outputs": [
    {
     "data": {
      "text/html": [
       "<div>\n",
       "<style scoped>\n",
       "    .dataframe tbody tr th:only-of-type {\n",
       "        vertical-align: middle;\n",
       "    }\n",
       "\n",
       "    .dataframe tbody tr th {\n",
       "        vertical-align: top;\n",
       "    }\n",
       "\n",
       "    .dataframe thead th {\n",
       "        text-align: right;\n",
       "    }\n",
       "</style>\n",
       "<table border=\"1\" class=\"dataframe\">\n",
       "  <thead>\n",
       "    <tr style=\"text-align: right;\">\n",
       "      <th></th>\n",
       "      <th>author_id</th>\n",
       "      <th>author</th>\n",
       "    </tr>\n",
       "  </thead>\n",
       "  <tbody>\n",
       "    <tr>\n",
       "      <th>0</th>\n",
       "      <td>1</td>\n",
       "      <td>A.S. Byatt</td>\n",
       "    </tr>\n",
       "    <tr>\n",
       "      <th>1</th>\n",
       "      <td>2</td>\n",
       "      <td>Aesop/Laura Harris/Laura Gibbs</td>\n",
       "    </tr>\n",
       "    <tr>\n",
       "      <th>2</th>\n",
       "      <td>3</td>\n",
       "      <td>Agatha Christie</td>\n",
       "    </tr>\n",
       "    <tr>\n",
       "      <th>3</th>\n",
       "      <td>4</td>\n",
       "      <td>Alan Brennert</td>\n",
       "    </tr>\n",
       "    <tr>\n",
       "      <th>4</th>\n",
       "      <td>5</td>\n",
       "      <td>Alan Moore/David   Lloyd</td>\n",
       "    </tr>\n",
       "  </tbody>\n",
       "</table>\n",
       "</div>"
      ],
      "text/plain": [
       "   author_id                          author\n",
       "0          1                      A.S. Byatt\n",
       "1          2  Aesop/Laura Harris/Laura Gibbs\n",
       "2          3                 Agatha Christie\n",
       "3          4                   Alan Brennert\n",
       "4          5        Alan Moore/David   Lloyd"
      ]
     },
     "execution_count": 3,
     "metadata": {},
     "output_type": "execute_result"
    }
   ],
   "source": [
    "query_authors = '''SELECT * FROM authors'''\n",
    "authors=pd.io.sql.read_sql(query_authors, con = engine)\n",
    "authors.head()"
   ]
  },
  {
   "cell_type": "code",
   "execution_count": 4,
   "metadata": {},
   "outputs": [
    {
     "data": {
      "text/html": [
       "<div>\n",
       "<style scoped>\n",
       "    .dataframe tbody tr th:only-of-type {\n",
       "        vertical-align: middle;\n",
       "    }\n",
       "\n",
       "    .dataframe tbody tr th {\n",
       "        vertical-align: top;\n",
       "    }\n",
       "\n",
       "    .dataframe thead th {\n",
       "        text-align: right;\n",
       "    }\n",
       "</style>\n",
       "<table border=\"1\" class=\"dataframe\">\n",
       "  <thead>\n",
       "    <tr style=\"text-align: right;\">\n",
       "      <th></th>\n",
       "      <th>rating_id</th>\n",
       "      <th>book_id</th>\n",
       "      <th>username</th>\n",
       "      <th>rating</th>\n",
       "    </tr>\n",
       "  </thead>\n",
       "  <tbody>\n",
       "    <tr>\n",
       "      <th>0</th>\n",
       "      <td>1</td>\n",
       "      <td>1</td>\n",
       "      <td>ryanfranco</td>\n",
       "      <td>4</td>\n",
       "    </tr>\n",
       "    <tr>\n",
       "      <th>1</th>\n",
       "      <td>2</td>\n",
       "      <td>1</td>\n",
       "      <td>grantpatricia</td>\n",
       "      <td>2</td>\n",
       "    </tr>\n",
       "    <tr>\n",
       "      <th>2</th>\n",
       "      <td>3</td>\n",
       "      <td>1</td>\n",
       "      <td>brandtandrea</td>\n",
       "      <td>5</td>\n",
       "    </tr>\n",
       "    <tr>\n",
       "      <th>3</th>\n",
       "      <td>4</td>\n",
       "      <td>2</td>\n",
       "      <td>lorichen</td>\n",
       "      <td>3</td>\n",
       "    </tr>\n",
       "    <tr>\n",
       "      <th>4</th>\n",
       "      <td>5</td>\n",
       "      <td>2</td>\n",
       "      <td>mariokeller</td>\n",
       "      <td>2</td>\n",
       "    </tr>\n",
       "  </tbody>\n",
       "</table>\n",
       "</div>"
      ],
      "text/plain": [
       "   rating_id  book_id       username  rating\n",
       "0          1        1     ryanfranco       4\n",
       "1          2        1  grantpatricia       2\n",
       "2          3        1   brandtandrea       5\n",
       "3          4        2       lorichen       3\n",
       "4          5        2    mariokeller       2"
      ]
     },
     "execution_count": 4,
     "metadata": {},
     "output_type": "execute_result"
    }
   ],
   "source": [
    "query_ratings = '''SELECT * FROM ratings'''\n",
    "ratings=pd.io.sql.read_sql(query_ratings, con = engine)\n",
    "ratings.head()"
   ]
  },
  {
   "cell_type": "code",
   "execution_count": 5,
   "metadata": {},
   "outputs": [
    {
     "data": {
      "text/html": [
       "<div>\n",
       "<style scoped>\n",
       "    .dataframe tbody tr th:only-of-type {\n",
       "        vertical-align: middle;\n",
       "    }\n",
       "\n",
       "    .dataframe tbody tr th {\n",
       "        vertical-align: top;\n",
       "    }\n",
       "\n",
       "    .dataframe thead th {\n",
       "        text-align: right;\n",
       "    }\n",
       "</style>\n",
       "<table border=\"1\" class=\"dataframe\">\n",
       "  <thead>\n",
       "    <tr style=\"text-align: right;\">\n",
       "      <th></th>\n",
       "      <th>review_id</th>\n",
       "      <th>book_id</th>\n",
       "      <th>username</th>\n",
       "      <th>text</th>\n",
       "    </tr>\n",
       "  </thead>\n",
       "  <tbody>\n",
       "    <tr>\n",
       "      <th>0</th>\n",
       "      <td>1</td>\n",
       "      <td>1</td>\n",
       "      <td>brandtandrea</td>\n",
       "      <td>Mention society tell send professor analysis. ...</td>\n",
       "    </tr>\n",
       "    <tr>\n",
       "      <th>1</th>\n",
       "      <td>2</td>\n",
       "      <td>1</td>\n",
       "      <td>ryanfranco</td>\n",
       "      <td>Foot glass pretty audience hit themselves. Amo...</td>\n",
       "    </tr>\n",
       "    <tr>\n",
       "      <th>2</th>\n",
       "      <td>3</td>\n",
       "      <td>2</td>\n",
       "      <td>lorichen</td>\n",
       "      <td>Listen treat keep worry. Miss husband tax but ...</td>\n",
       "    </tr>\n",
       "    <tr>\n",
       "      <th>3</th>\n",
       "      <td>4</td>\n",
       "      <td>3</td>\n",
       "      <td>johnsonamanda</td>\n",
       "      <td>Finally month interesting blue could nature cu...</td>\n",
       "    </tr>\n",
       "    <tr>\n",
       "      <th>4</th>\n",
       "      <td>5</td>\n",
       "      <td>3</td>\n",
       "      <td>scotttamara</td>\n",
       "      <td>Nation purpose heavy give wait song will. List...</td>\n",
       "    </tr>\n",
       "  </tbody>\n",
       "</table>\n",
       "</div>"
      ],
      "text/plain": [
       "   review_id  book_id       username  \\\n",
       "0          1        1   brandtandrea   \n",
       "1          2        1     ryanfranco   \n",
       "2          3        2       lorichen   \n",
       "3          4        3  johnsonamanda   \n",
       "4          5        3    scotttamara   \n",
       "\n",
       "                                                text  \n",
       "0  Mention society tell send professor analysis. ...  \n",
       "1  Foot glass pretty audience hit themselves. Amo...  \n",
       "2  Listen treat keep worry. Miss husband tax but ...  \n",
       "3  Finally month interesting blue could nature cu...  \n",
       "4  Nation purpose heavy give wait song will. List...  "
      ]
     },
     "execution_count": 5,
     "metadata": {},
     "output_type": "execute_result"
    }
   ],
   "source": [
    "query_reviews = '''SELECT * FROM reviews'''\n",
    "reviews=pd.io.sql.read_sql(query_reviews, con = engine)\n",
    "reviews.head()"
   ]
  },
  {
   "cell_type": "code",
   "execution_count": 6,
   "metadata": {},
   "outputs": [
    {
     "data": {
      "text/html": [
       "<div>\n",
       "<style scoped>\n",
       "    .dataframe tbody tr th:only-of-type {\n",
       "        vertical-align: middle;\n",
       "    }\n",
       "\n",
       "    .dataframe tbody tr th {\n",
       "        vertical-align: top;\n",
       "    }\n",
       "\n",
       "    .dataframe thead th {\n",
       "        text-align: right;\n",
       "    }\n",
       "</style>\n",
       "<table border=\"1\" class=\"dataframe\">\n",
       "  <thead>\n",
       "    <tr style=\"text-align: right;\">\n",
       "      <th></th>\n",
       "      <th>publisher_id</th>\n",
       "      <th>publisher</th>\n",
       "    </tr>\n",
       "  </thead>\n",
       "  <tbody>\n",
       "    <tr>\n",
       "      <th>0</th>\n",
       "      <td>1</td>\n",
       "      <td>Ace</td>\n",
       "    </tr>\n",
       "    <tr>\n",
       "      <th>1</th>\n",
       "      <td>2</td>\n",
       "      <td>Ace Book</td>\n",
       "    </tr>\n",
       "    <tr>\n",
       "      <th>2</th>\n",
       "      <td>3</td>\n",
       "      <td>Ace Books</td>\n",
       "    </tr>\n",
       "    <tr>\n",
       "      <th>3</th>\n",
       "      <td>4</td>\n",
       "      <td>Ace Hardcover</td>\n",
       "    </tr>\n",
       "    <tr>\n",
       "      <th>4</th>\n",
       "      <td>5</td>\n",
       "      <td>Addison Wesley Publishing Company</td>\n",
       "    </tr>\n",
       "  </tbody>\n",
       "</table>\n",
       "</div>"
      ],
      "text/plain": [
       "   publisher_id                          publisher\n",
       "0             1                                Ace\n",
       "1             2                           Ace Book\n",
       "2             3                          Ace Books\n",
       "3             4                      Ace Hardcover\n",
       "4             5  Addison Wesley Publishing Company"
      ]
     },
     "execution_count": 6,
     "metadata": {},
     "output_type": "execute_result"
    }
   ],
   "source": [
    "query_publishers = '''SELECT * FROM publishers'''\n",
    "publishers=pd.io.sql.read_sql(query_publishers, con = engine)\n",
    "publishers.head()"
   ]
  },
  {
   "cell_type": "markdown",
   "metadata": {},
   "source": [
    "## Задание 1"
   ]
  },
  {
   "cell_type": "code",
   "execution_count": 7,
   "metadata": {},
   "outputs": [
    {
     "data": {
      "text/html": [
       "<div>\n",
       "<style scoped>\n",
       "    .dataframe tbody tr th:only-of-type {\n",
       "        vertical-align: middle;\n",
       "    }\n",
       "\n",
       "    .dataframe tbody tr th {\n",
       "        vertical-align: top;\n",
       "    }\n",
       "\n",
       "    .dataframe thead th {\n",
       "        text-align: right;\n",
       "    }\n",
       "</style>\n",
       "<table border=\"1\" class=\"dataframe\">\n",
       "  <thead>\n",
       "    <tr style=\"text-align: right;\">\n",
       "      <th></th>\n",
       "      <th>count</th>\n",
       "    </tr>\n",
       "  </thead>\n",
       "  <tbody>\n",
       "    <tr>\n",
       "      <th>0</th>\n",
       "      <td>819</td>\n",
       "    </tr>\n",
       "  </tbody>\n",
       "</table>\n",
       "</div>"
      ],
      "text/plain": [
       "   count\n",
       "0    819"
      ]
     },
     "execution_count": 7,
     "metadata": {},
     "output_type": "execute_result"
    }
   ],
   "source": [
    "task1='''SELECT count(book_id) \n",
    "        From books\n",
    "        WHERE publication_date>'2000-01-01'\n",
    "        '''\n",
    "data= pd.io.sql.read_sql(task1, con=engine)\n",
    "data"
   ]
  },
  {
   "cell_type": "markdown",
   "metadata": {},
   "source": [
    "Всего после 1 января 2000 года вышло 819 книг"
   ]
  },
  {
   "cell_type": "markdown",
   "metadata": {},
   "source": [
    "## Задание 2 "
   ]
  },
  {
   "cell_type": "code",
   "execution_count": 8,
   "metadata": {},
   "outputs": [
    {
     "data": {
      "text/html": [
       "<div>\n",
       "<style scoped>\n",
       "    .dataframe tbody tr th:only-of-type {\n",
       "        vertical-align: middle;\n",
       "    }\n",
       "\n",
       "    .dataframe tbody tr th {\n",
       "        vertical-align: top;\n",
       "    }\n",
       "\n",
       "    .dataframe thead th {\n",
       "        text-align: right;\n",
       "    }\n",
       "</style>\n",
       "<table border=\"1\" class=\"dataframe\">\n",
       "  <thead>\n",
       "    <tr style=\"text-align: right;\">\n",
       "      <th></th>\n",
       "      <th>count</th>\n",
       "    </tr>\n",
       "  </thead>\n",
       "  <tbody>\n",
       "    <tr>\n",
       "      <th>0</th>\n",
       "      <td>2793</td>\n",
       "    </tr>\n",
       "  </tbody>\n",
       "</table>\n",
       "</div>"
      ],
      "text/plain": [
       "   count\n",
       "0   2793"
      ]
     },
     "execution_count": 8,
     "metadata": {},
     "output_type": "execute_result"
    }
   ],
   "source": [
    "task2_1='''SELECT count(review_id) \n",
    "        From reviews\n",
    "        '''\n",
    "data= pd.io.sql.read_sql(task2_1, con=engine)\n",
    "data"
   ]
  },
  {
   "cell_type": "code",
   "execution_count": 9,
   "metadata": {},
   "outputs": [
    {
     "data": {
      "text/html": [
       "<div>\n",
       "<style scoped>\n",
       "    .dataframe tbody tr th:only-of-type {\n",
       "        vertical-align: middle;\n",
       "    }\n",
       "\n",
       "    .dataframe tbody tr th {\n",
       "        vertical-align: top;\n",
       "    }\n",
       "\n",
       "    .dataframe thead th {\n",
       "        text-align: right;\n",
       "    }\n",
       "</style>\n",
       "<table border=\"1\" class=\"dataframe\">\n",
       "  <thead>\n",
       "    <tr style=\"text-align: right;\">\n",
       "      <th></th>\n",
       "      <th>book_id</th>\n",
       "      <th>title</th>\n",
       "      <th>rev</th>\n",
       "      <th>rate</th>\n",
       "    </tr>\n",
       "  </thead>\n",
       "  <tbody>\n",
       "    <tr>\n",
       "      <th>0</th>\n",
       "      <td>673</td>\n",
       "      <td>The Catcher in the Rye</td>\n",
       "      <td>6.0</td>\n",
       "      <td>3.825581</td>\n",
       "    </tr>\n",
       "    <tr>\n",
       "      <th>1</th>\n",
       "      <td>415</td>\n",
       "      <td>Magic Bites (Kate Daniels  #1)</td>\n",
       "      <td>4.0</td>\n",
       "      <td>4.500000</td>\n",
       "    </tr>\n",
       "    <tr>\n",
       "      <th>2</th>\n",
       "      <td>7</td>\n",
       "      <td>2nd Chance (Women's Murder Club  #2)</td>\n",
       "      <td>3.0</td>\n",
       "      <td>3.000000</td>\n",
       "    </tr>\n",
       "    <tr>\n",
       "      <th>3</th>\n",
       "      <td>854</td>\n",
       "      <td>The Road</td>\n",
       "      <td>6.0</td>\n",
       "      <td>3.772727</td>\n",
       "    </tr>\n",
       "    <tr>\n",
       "      <th>4</th>\n",
       "      <td>270</td>\n",
       "      <td>Fullmetal Alchemist  Vol. 1 (Fullmetal Alchemi...</td>\n",
       "      <td>2.0</td>\n",
       "      <td>4.250000</td>\n",
       "    </tr>\n",
       "    <tr>\n",
       "      <th>...</th>\n",
       "      <td>...</td>\n",
       "      <td>...</td>\n",
       "      <td>...</td>\n",
       "      <td>...</td>\n",
       "    </tr>\n",
       "    <tr>\n",
       "      <th>995</th>\n",
       "      <td>277</td>\n",
       "      <td>Getting Things Done: The Art of Stress-Free Pr...</td>\n",
       "      <td>3.0</td>\n",
       "      <td>3.750000</td>\n",
       "    </tr>\n",
       "    <tr>\n",
       "      <th>996</th>\n",
       "      <td>783</td>\n",
       "      <td>The Looking Glass Wars</td>\n",
       "      <td>2.0</td>\n",
       "      <td>4.000000</td>\n",
       "    </tr>\n",
       "    <tr>\n",
       "      <th>997</th>\n",
       "      <td>520</td>\n",
       "      <td>Possession</td>\n",
       "      <td>3.0</td>\n",
       "      <td>4.000000</td>\n",
       "    </tr>\n",
       "    <tr>\n",
       "      <th>998</th>\n",
       "      <td>426</td>\n",
       "      <td>Memoirs of a Geisha</td>\n",
       "      <td>5.0</td>\n",
       "      <td>4.195652</td>\n",
       "    </tr>\n",
       "    <tr>\n",
       "      <th>999</th>\n",
       "      <td>375</td>\n",
       "      <td>King Lear</td>\n",
       "      <td>3.0</td>\n",
       "      <td>4.333333</td>\n",
       "    </tr>\n",
       "  </tbody>\n",
       "</table>\n",
       "<p>1000 rows × 4 columns</p>\n",
       "</div>"
      ],
      "text/plain": [
       "     book_id                                              title  rev      rate\n",
       "0        673                             The Catcher in the Rye  6.0  3.825581\n",
       "1        415                     Magic Bites (Kate Daniels  #1)  4.0  4.500000\n",
       "2          7               2nd Chance (Women's Murder Club  #2)  3.0  3.000000\n",
       "3        854                                           The Road  6.0  3.772727\n",
       "4        270  Fullmetal Alchemist  Vol. 1 (Fullmetal Alchemi...  2.0  4.250000\n",
       "..       ...                                                ...  ...       ...\n",
       "995      277  Getting Things Done: The Art of Stress-Free Pr...  3.0  3.750000\n",
       "996      783                             The Looking Glass Wars  2.0  4.000000\n",
       "997      520                                         Possession  3.0  4.000000\n",
       "998      426                                Memoirs of a Geisha  5.0  4.195652\n",
       "999      375                                          King Lear  3.0  4.333333\n",
       "\n",
       "[1000 rows x 4 columns]"
      ]
     },
     "execution_count": 9,
     "metadata": {},
     "output_type": "execute_result"
    }
   ],
   "source": [
    "task2='''with css as (Select book_id, count(review_id) rev \n",
    "                from reviews group by book_id),\n",
    "\n",
    "cssd as (Select book_id, avg(rating) rate from ratings group by book_id)\n",
    "\n",
    "        Select boo.book_id, boo.title, rev,rate\n",
    "        From books as boo\n",
    "        left join css on boo.book_id=css.book_id\n",
    "        Left join cssd on boo.book_id=cssd.book_id\n",
    "          Group by boo.book_id, boo.title,rev,rate\n",
    "        '''\n",
    "\n",
    "data= pd.io.sql.read_sql(task2, con=engine)\n",
    "data"
   ]
  },
  {
   "cell_type": "code",
   "execution_count": 10,
   "metadata": {},
   "outputs": [
    {
     "data": {
      "text/plain": [
       "2793.0"
      ]
     },
     "execution_count": 10,
     "metadata": {},
     "output_type": "execute_result"
    }
   ],
   "source": [
    "data['rev'].sum()#проверка"
   ]
  },
  {
   "cell_type": "markdown",
   "metadata": {},
   "source": [
    "Количество обзоров и средняя оценка для каждой книги посчитаны."
   ]
  },
  {
   "cell_type": "markdown",
   "metadata": {},
   "source": [
    "##  Задание 3 "
   ]
  },
  {
   "cell_type": "code",
   "execution_count": 11,
   "metadata": {},
   "outputs": [
    {
     "data": {
      "text/html": [
       "<div>\n",
       "<style scoped>\n",
       "    .dataframe tbody tr th:only-of-type {\n",
       "        vertical-align: middle;\n",
       "    }\n",
       "\n",
       "    .dataframe tbody tr th {\n",
       "        vertical-align: top;\n",
       "    }\n",
       "\n",
       "    .dataframe thead th {\n",
       "        text-align: right;\n",
       "    }\n",
       "</style>\n",
       "<table border=\"1\" class=\"dataframe\">\n",
       "  <thead>\n",
       "    <tr style=\"text-align: right;\">\n",
       "      <th></th>\n",
       "      <th>publisher_id</th>\n",
       "      <th>publisher</th>\n",
       "      <th>count</th>\n",
       "    </tr>\n",
       "  </thead>\n",
       "  <tbody>\n",
       "    <tr>\n",
       "      <th>0</th>\n",
       "      <td>212</td>\n",
       "      <td>Penguin Books</td>\n",
       "      <td>42</td>\n",
       "    </tr>\n",
       "  </tbody>\n",
       "</table>\n",
       "</div>"
      ],
      "text/plain": [
       "   publisher_id      publisher  count\n",
       "0           212  Penguin Books     42"
      ]
     },
     "execution_count": 11,
     "metadata": {},
     "output_type": "execute_result"
    }
   ],
   "source": [
    "task3='''SELECT boo.publisher_id, pub.publisher, count(boo.book_id)\n",
    "        From books as boo\n",
    "        INNER JOIN publishers as pub on boo.publisher_id=pub.publisher_id\n",
    "        Where boo.num_pages>50\n",
    "        GROUP BY boo.publisher_id, pub.publisher\n",
    "        ORDER BY count desc\n",
    "        Limit 1\n",
    "        '''\n",
    "data= pd.io.sql.read_sql(task3, con=engine)\n",
    "data\n"
   ]
  },
  {
   "cell_type": "markdown",
   "metadata": {},
   "source": [
    "Наибольшее число книг(50 страниц и более) выпустило издательство Penguin Books"
   ]
  },
  {
   "cell_type": "markdown",
   "metadata": {},
   "source": [
    "## Задание 4 "
   ]
  },
  {
   "cell_type": "code",
   "execution_count": 12,
   "metadata": {},
   "outputs": [
    {
     "data": {
      "text/html": [
       "<div>\n",
       "<style scoped>\n",
       "    .dataframe tbody tr th:only-of-type {\n",
       "        vertical-align: middle;\n",
       "    }\n",
       "\n",
       "    .dataframe tbody tr th {\n",
       "        vertical-align: top;\n",
       "    }\n",
       "\n",
       "    .dataframe thead th {\n",
       "        text-align: right;\n",
       "    }\n",
       "</style>\n",
       "<table border=\"1\" class=\"dataframe\">\n",
       "  <thead>\n",
       "    <tr style=\"text-align: right;\">\n",
       "      <th></th>\n",
       "      <th>author</th>\n",
       "      <th>avg</th>\n",
       "    </tr>\n",
       "  </thead>\n",
       "  <tbody>\n",
       "    <tr>\n",
       "      <th>0</th>\n",
       "      <td>J.K. Rowling/Mary GrandPré</td>\n",
       "      <td>4.283844</td>\n",
       "    </tr>\n",
       "    <tr>\n",
       "      <th>1</th>\n",
       "      <td>Markus Zusak/Cao Xuân Việt Khương</td>\n",
       "      <td>4.264151</td>\n",
       "    </tr>\n",
       "    <tr>\n",
       "      <th>2</th>\n",
       "      <td>J.R.R. Tolkien</td>\n",
       "      <td>4.258446</td>\n",
       "    </tr>\n",
       "    <tr>\n",
       "      <th>3</th>\n",
       "      <td>Louisa May Alcott</td>\n",
       "      <td>4.192308</td>\n",
       "    </tr>\n",
       "    <tr>\n",
       "      <th>4</th>\n",
       "      <td>Rick Riordan</td>\n",
       "      <td>4.080645</td>\n",
       "    </tr>\n",
       "  </tbody>\n",
       "</table>\n",
       "</div>"
      ],
      "text/plain": [
       "                              author       avg\n",
       "0         J.K. Rowling/Mary GrandPré  4.283844\n",
       "1  Markus Zusak/Cao Xuân Việt Khương  4.264151\n",
       "2                     J.R.R. Tolkien  4.258446\n",
       "3                  Louisa May Alcott  4.192308\n",
       "4                       Rick Riordan  4.080645"
      ]
     },
     "execution_count": 12,
     "metadata": {},
     "output_type": "execute_result"
    }
   ],
   "source": [
    "task4='''SELECT first.author, avg(da) as avg\n",
    "FROM \n",
    "(SELECT aut.author, avg(rat.rating) as da, count(rat.rating)\n",
    "FROM authors as aut\n",
    "Inner join books as boo on aut.author_id=boo.author_id\n",
    "Inner join ratings as rat on boo.book_id=rat.book_id\n",
    "Group by boo.book_id,aut.author\n",
    "HAVING count(rat.rating)>=50) as first\n",
    "Group by first.author\n",
    "order by avg desc\n",
    "limit 5'''\n",
    "data= pd.io.sql.read_sql(task4, con=engine)\n",
    "data"
   ]
  },
  {
   "cell_type": "markdown",
   "metadata": {},
   "source": [
    "Самая высокая средняя оценка книг у Джоан Роулинг"
   ]
  },
  {
   "cell_type": "markdown",
   "metadata": {},
   "source": [
    "## Задание 5 "
   ]
  },
  {
   "cell_type": "code",
   "execution_count": 13,
   "metadata": {},
   "outputs": [
    {
     "data": {
      "text/html": [
       "<div>\n",
       "<style scoped>\n",
       "    .dataframe tbody tr th:only-of-type {\n",
       "        vertical-align: middle;\n",
       "    }\n",
       "\n",
       "    .dataframe tbody tr th {\n",
       "        vertical-align: top;\n",
       "    }\n",
       "\n",
       "    .dataframe thead th {\n",
       "        text-align: right;\n",
       "    }\n",
       "</style>\n",
       "<table border=\"1\" class=\"dataframe\">\n",
       "  <thead>\n",
       "    <tr style=\"text-align: right;\">\n",
       "      <th></th>\n",
       "      <th>round</th>\n",
       "    </tr>\n",
       "  </thead>\n",
       "  <tbody>\n",
       "    <tr>\n",
       "      <th>0</th>\n",
       "      <td>24.0</td>\n",
       "    </tr>\n",
       "  </tbody>\n",
       "</table>\n",
       "</div>"
      ],
      "text/plain": [
       "   round\n",
       "0   24.0"
      ]
     },
     "execution_count": 13,
     "metadata": {},
     "output_type": "execute_result"
    }
   ],
   "source": [
    "task5='''SELECT  round(avg(da.rev1))\n",
    "From (Select username, count(review_id) as rev1\n",
    "from reviews as rev\n",
    "where username in (Select username\n",
    "from ratings \n",
    "Group by username\n",
    "Having count(rating_id)>=51)\n",
    "Group by username) as da'''\n",
    "\n",
    "data= pd.io.sql.read_sql(task5, con=engine)\n",
    "data\n",
    "#Посчитайте среднее количество обзоров от пользователей, которые поставили больше 50 оценок."
   ]
  },
  {
   "cell_type": "markdown",
   "metadata": {},
   "source": [
    "Среднее количество обзоров от пользователей, которые поставили больше 50 оценок - 24 ед."
   ]
  },
  {
   "cell_type": "markdown",
   "metadata": {},
   "source": [
    "## Результаты работы "
   ]
  },
  {
   "cell_type": "markdown",
   "metadata": {},
   "source": [
    "1) Всего после 1 января 2000 года вышло 819 книг\n",
    "2) Количество обзоров и средняя оценка для каждой книги посчитаны.\n",
    "3) Наибольшее число книг(50 страниц и более) выпустило издательство Penguin Books\n",
    "4) Самая высокая средняя оценка книг у Джоан Роулинг\n",
    "5) Среднее количество обзоров от пользователей, которые поставили больше 50 оценок - 24 ед."
   ]
  }
 ],
 "metadata": {
  "ExecuteTimeLog": [
   {
    "duration": 8234,
    "start_time": "2023-03-19T08:07:30.235Z"
   },
   {
    "duration": 65,
    "start_time": "2023-03-19T08:07:41.237Z"
   },
   {
    "duration": 3,
    "start_time": "2023-03-19T08:15:13.466Z"
   },
   {
    "duration": 3,
    "start_time": "2023-03-19T08:15:31.915Z"
   },
   {
    "duration": 73,
    "start_time": "2023-03-19T08:15:32.170Z"
   },
   {
    "duration": 20,
    "start_time": "2023-03-19T08:15:39.225Z"
   },
   {
    "duration": 9,
    "start_time": "2023-03-19T08:15:55.345Z"
   },
   {
    "duration": 13,
    "start_time": "2023-03-19T08:16:23.929Z"
   },
   {
    "duration": 8,
    "start_time": "2023-03-19T08:16:25.097Z"
   },
   {
    "duration": 10,
    "start_time": "2023-03-19T08:18:06.672Z"
   },
   {
    "duration": 9,
    "start_time": "2023-03-19T08:25:54.178Z"
   },
   {
    "duration": 6,
    "start_time": "2023-03-19T08:25:54.628Z"
   },
   {
    "duration": 36,
    "start_time": "2023-03-19T08:27:57.531Z"
   },
   {
    "duration": 20,
    "start_time": "2023-03-19T08:29:24.162Z"
   },
   {
    "duration": 26,
    "start_time": "2023-03-19T08:36:19.132Z"
   },
   {
    "duration": 90,
    "start_time": "2023-03-19T08:38:02.797Z"
   },
   {
    "duration": 3,
    "start_time": "2023-03-19T08:39:00.527Z"
   },
   {
    "duration": 4,
    "start_time": "2023-03-19T08:39:17.702Z"
   },
   {
    "duration": 9,
    "start_time": "2023-03-19T08:39:35.422Z"
   },
   {
    "duration": 8,
    "start_time": "2023-03-19T08:39:56.533Z"
   },
   {
    "duration": 5,
    "start_time": "2023-03-19T08:40:04.718Z"
   },
   {
    "duration": 10507,
    "start_time": "2023-03-19T08:40:11.565Z"
   },
   {
    "duration": 98,
    "start_time": "2023-03-19T08:40:22.075Z"
   },
   {
    "duration": 22,
    "start_time": "2023-03-19T08:40:22.180Z"
   },
   {
    "duration": 30,
    "start_time": "2023-03-19T08:40:22.204Z"
   },
   {
    "duration": 32,
    "start_time": "2023-03-19T08:40:22.236Z"
   },
   {
    "duration": 18,
    "start_time": "2023-03-19T08:40:22.270Z"
   },
   {
    "duration": 9,
    "start_time": "2023-03-19T08:40:22.297Z"
   },
   {
    "duration": 104,
    "start_time": "2023-03-19T08:43:24.092Z"
   },
   {
    "duration": 4,
    "start_time": "2023-03-19T08:43:35.694Z"
   },
   {
    "duration": 6,
    "start_time": "2023-03-19T08:48:54.441Z"
   },
   {
    "duration": 82,
    "start_time": "2023-03-19T08:48:54.454Z"
   },
   {
    "duration": 34,
    "start_time": "2023-03-19T08:48:54.538Z"
   },
   {
    "duration": 34,
    "start_time": "2023-03-19T08:48:54.573Z"
   },
   {
    "duration": 18,
    "start_time": "2023-03-19T08:48:54.609Z"
   },
   {
    "duration": 11,
    "start_time": "2023-03-19T08:48:54.630Z"
   },
   {
    "duration": 13,
    "start_time": "2023-03-19T08:48:54.642Z"
   },
   {
    "duration": 4,
    "start_time": "2023-03-19T08:49:19.931Z"
   },
   {
    "duration": 4,
    "start_time": "2023-03-19T08:49:40.496Z"
   },
   {
    "duration": 72,
    "start_time": "2023-03-19T08:50:34.604Z"
   },
   {
    "duration": 3,
    "start_time": "2023-03-19T08:55:10.394Z"
   },
   {
    "duration": 5,
    "start_time": "2023-03-19T08:55:16.395Z"
   },
   {
    "duration": 13,
    "start_time": "2023-03-19T08:55:54.433Z"
   },
   {
    "duration": 9,
    "start_time": "2023-03-19T08:58:36.593Z"
   },
   {
    "duration": 19,
    "start_time": "2023-03-19T08:58:43.032Z"
   },
   {
    "duration": 11,
    "start_time": "2023-03-19T09:08:40.307Z"
   },
   {
    "duration": 118,
    "start_time": "2023-03-19T09:08:41.028Z"
   },
   {
    "duration": 123,
    "start_time": "2023-03-19T09:09:47.858Z"
   },
   {
    "duration": 108,
    "start_time": "2023-03-19T09:10:11.676Z"
   },
   {
    "duration": 117,
    "start_time": "2023-03-19T09:11:20.392Z"
   },
   {
    "duration": 45,
    "start_time": "2023-03-19T09:11:39.924Z"
   },
   {
    "duration": 36,
    "start_time": "2023-03-19T09:12:59.904Z"
   },
   {
    "duration": 26,
    "start_time": "2023-03-19T09:13:18.308Z"
   },
   {
    "duration": 106,
    "start_time": "2023-03-19T09:22:55.708Z"
   },
   {
    "duration": 18,
    "start_time": "2023-03-19T09:23:19.424Z"
   },
   {
    "duration": 16,
    "start_time": "2023-03-19T09:24:28.361Z"
   },
   {
    "duration": 135,
    "start_time": "2023-03-19T09:56:51.363Z"
   },
   {
    "duration": 139,
    "start_time": "2023-03-19T09:57:43.468Z"
   },
   {
    "duration": 115,
    "start_time": "2023-03-19T09:58:15.773Z"
   },
   {
    "duration": 117,
    "start_time": "2023-03-19T10:00:27.712Z"
   },
   {
    "duration": 120,
    "start_time": "2023-03-19T10:01:04.298Z"
   },
   {
    "duration": 161,
    "start_time": "2023-03-19T10:01:36.257Z"
   },
   {
    "duration": 170,
    "start_time": "2023-03-19T10:03:13.718Z"
   },
   {
    "duration": 180,
    "start_time": "2023-03-19T10:03:35.175Z"
   },
   {
    "duration": 26,
    "start_time": "2023-03-19T10:03:56.925Z"
   },
   {
    "duration": 143,
    "start_time": "2023-03-19T10:04:23.582Z"
   },
   {
    "duration": 18,
    "start_time": "2023-03-19T10:04:42.796Z"
   },
   {
    "duration": 52,
    "start_time": "2023-03-19T10:05:59.401Z"
   },
   {
    "duration": 10,
    "start_time": "2023-03-19T10:10:02.002Z"
   },
   {
    "duration": 20,
    "start_time": "2023-03-19T10:10:18.606Z"
   },
   {
    "duration": 20,
    "start_time": "2023-03-19T10:15:57.174Z"
   },
   {
    "duration": 56,
    "start_time": "2023-03-19T10:16:05.944Z"
   },
   {
    "duration": 29,
    "start_time": "2023-03-19T10:16:06.577Z"
   },
   {
    "duration": 15098,
    "start_time": "2023-03-19T10:16:23.015Z"
   },
   {
    "duration": 216,
    "start_time": "2023-03-19T10:16:38.118Z"
   },
   {
    "duration": 87,
    "start_time": "2023-03-19T10:16:38.336Z"
   },
   {
    "duration": 96,
    "start_time": "2023-03-19T10:16:38.426Z"
   },
   {
    "duration": 92,
    "start_time": "2023-03-19T10:16:38.524Z"
   },
   {
    "duration": 119,
    "start_time": "2023-03-19T10:16:38.618Z"
   },
   {
    "duration": 58,
    "start_time": "2023-03-19T10:16:38.740Z"
   },
   {
    "duration": 133,
    "start_time": "2023-03-19T10:16:38.802Z"
   },
   {
    "duration": 86,
    "start_time": "2023-03-19T10:16:39.065Z"
   },
   {
    "duration": 103,
    "start_time": "2023-03-19T10:16:39.153Z"
   },
   {
    "duration": 82,
    "start_time": "2023-03-19T10:16:39.259Z"
   },
   {
    "duration": 110,
    "start_time": "2023-03-19T10:16:39.370Z"
   },
   {
    "duration": 345,
    "start_time": "2023-03-19T10:30:54.980Z"
   },
   {
    "duration": 251,
    "start_time": "2023-03-19T10:31:05.084Z"
   },
   {
    "duration": 217,
    "start_time": "2023-03-19T10:31:26.719Z"
   },
   {
    "duration": 110,
    "start_time": "2023-03-19T10:31:46.089Z"
   },
   {
    "duration": 219,
    "start_time": "2023-03-19T10:43:21.834Z"
   },
   {
    "duration": 206,
    "start_time": "2023-03-19T10:43:36.833Z"
   },
   {
    "duration": 326,
    "start_time": "2023-03-19T10:44:10.009Z"
   },
   {
    "duration": 136,
    "start_time": "2023-03-19T10:44:19.736Z"
   },
   {
    "duration": 69,
    "start_time": "2023-03-19T10:44:37.782Z"
   },
   {
    "duration": 95,
    "start_time": "2023-03-19T10:46:26.497Z"
   },
   {
    "duration": 13,
    "start_time": "2023-03-19T10:59:17.024Z"
   },
   {
    "duration": 82,
    "start_time": "2023-03-19T11:14:39.631Z"
   },
   {
    "duration": 35,
    "start_time": "2023-03-19T11:15:07.593Z"
   },
   {
    "duration": 48,
    "start_time": "2023-03-19T11:15:42.585Z"
   },
   {
    "duration": 22,
    "start_time": "2023-03-19T11:18:43.013Z"
   },
   {
    "duration": 113,
    "start_time": "2023-03-19T11:38:09.775Z"
   },
   {
    "duration": 123,
    "start_time": "2023-03-19T11:38:17.104Z"
   },
   {
    "duration": 143,
    "start_time": "2023-03-19T11:39:47.161Z"
   },
   {
    "duration": 133,
    "start_time": "2023-03-19T11:40:05.599Z"
   },
   {
    "duration": 128,
    "start_time": "2023-03-19T11:40:43.078Z"
   },
   {
    "duration": 145,
    "start_time": "2023-03-19T11:44:51.080Z"
   },
   {
    "duration": 170,
    "start_time": "2023-03-19T11:46:42.663Z"
   },
   {
    "duration": 149,
    "start_time": "2023-03-19T11:49:29.375Z"
   },
   {
    "duration": 116,
    "start_time": "2023-03-19T11:52:28.816Z"
   },
   {
    "duration": 18,
    "start_time": "2023-03-19T11:53:47.031Z"
   },
   {
    "duration": 159,
    "start_time": "2023-03-19T11:55:59.570Z"
   },
   {
    "duration": 16,
    "start_time": "2023-03-19T11:56:07.571Z"
   },
   {
    "duration": 15,
    "start_time": "2023-03-19T11:56:34.492Z"
   },
   {
    "duration": 13,
    "start_time": "2023-03-19T11:56:48.716Z"
   },
   {
    "duration": 14,
    "start_time": "2023-03-19T11:56:59.284Z"
   },
   {
    "duration": 13,
    "start_time": "2023-03-19T11:59:28.588Z"
   },
   {
    "duration": 46,
    "start_time": "2023-03-19T12:02:38.330Z"
   },
   {
    "duration": 41,
    "start_time": "2023-03-19T12:02:50.033Z"
   },
   {
    "duration": 49,
    "start_time": "2023-03-19T12:03:04.625Z"
   },
   {
    "duration": 22,
    "start_time": "2023-03-19T12:04:53.976Z"
   },
   {
    "duration": 28,
    "start_time": "2023-03-19T12:05:41.369Z"
   },
   {
    "duration": 40,
    "start_time": "2023-03-19T12:05:46.215Z"
   },
   {
    "duration": 34,
    "start_time": "2023-03-19T12:05:51.672Z"
   },
   {
    "duration": 39,
    "start_time": "2023-03-19T12:06:35.616Z"
   },
   {
    "duration": 10057,
    "start_time": "2023-03-19T12:06:41.668Z"
   },
   {
    "duration": 87,
    "start_time": "2023-03-19T12:06:51.728Z"
   },
   {
    "duration": 12,
    "start_time": "2023-03-19T12:06:51.817Z"
   },
   {
    "duration": 52,
    "start_time": "2023-03-19T12:06:51.831Z"
   },
   {
    "duration": 19,
    "start_time": "2023-03-19T12:06:51.886Z"
   },
   {
    "duration": 12,
    "start_time": "2023-03-19T12:06:51.907Z"
   },
   {
    "duration": 16,
    "start_time": "2023-03-19T12:06:51.921Z"
   },
   {
    "duration": 63,
    "start_time": "2023-03-19T12:06:51.938Z"
   },
   {
    "duration": 16,
    "start_time": "2023-03-19T12:06:52.003Z"
   },
   {
    "duration": 24,
    "start_time": "2023-03-19T12:06:52.022Z"
   },
   {
    "duration": 59,
    "start_time": "2023-03-19T12:06:52.048Z"
   },
   {
    "duration": 81,
    "start_time": "2023-03-19T12:07:05.136Z"
   },
   {
    "duration": 32,
    "start_time": "2023-03-19T12:07:22.368Z"
   },
   {
    "duration": 34,
    "start_time": "2023-03-19T12:07:28.000Z"
   },
   {
    "duration": 30,
    "start_time": "2023-03-19T12:07:55.313Z"
   },
   {
    "duration": 33,
    "start_time": "2023-03-19T12:07:58.369Z"
   },
   {
    "duration": 21,
    "start_time": "2023-03-19T12:10:35.685Z"
   },
   {
    "duration": 17,
    "start_time": "2023-03-19T12:21:48.979Z"
   },
   {
    "duration": 12414,
    "start_time": "2023-03-19T12:25:39.688Z"
   },
   {
    "duration": 120,
    "start_time": "2023-03-19T12:25:52.105Z"
   },
   {
    "duration": 12,
    "start_time": "2023-03-19T12:25:52.227Z"
   },
   {
    "duration": 70,
    "start_time": "2023-03-19T12:25:52.247Z"
   },
   {
    "duration": 24,
    "start_time": "2023-03-19T12:25:52.320Z"
   },
   {
    "duration": 70,
    "start_time": "2023-03-19T12:25:52.354Z"
   },
   {
    "duration": 11,
    "start_time": "2023-03-19T12:25:52.426Z"
   },
   {
    "duration": 79,
    "start_time": "2023-03-19T12:25:52.438Z"
   },
   {
    "duration": 19,
    "start_time": "2023-03-19T12:25:52.521Z"
   },
   {
    "duration": 82,
    "start_time": "2023-03-19T12:25:52.542Z"
   },
   {
    "duration": 24,
    "start_time": "2023-03-19T12:25:52.626Z"
   },
   {
    "duration": 8630,
    "start_time": "2023-03-19T19:10:11.619Z"
   },
   {
    "duration": 67,
    "start_time": "2023-03-19T19:10:20.251Z"
   },
   {
    "duration": 13,
    "start_time": "2023-03-19T19:10:20.320Z"
   },
   {
    "duration": 26,
    "start_time": "2023-03-19T19:10:20.336Z"
   },
   {
    "duration": 25,
    "start_time": "2023-03-19T19:10:20.364Z"
   },
   {
    "duration": 13,
    "start_time": "2023-03-19T19:10:20.391Z"
   },
   {
    "duration": 14,
    "start_time": "2023-03-19T19:10:20.405Z"
   },
   {
    "duration": 25,
    "start_time": "2023-03-19T19:10:20.421Z"
   },
   {
    "duration": 16,
    "start_time": "2023-03-19T19:10:20.449Z"
   },
   {
    "duration": 27,
    "start_time": "2023-03-19T19:10:20.467Z"
   },
   {
    "duration": 12,
    "start_time": "2023-03-19T19:10:20.495Z"
   },
   {
    "duration": 27,
    "start_time": "2023-03-19T19:10:58.088Z"
   },
   {
    "duration": 75,
    "start_time": "2023-03-19T19:31:17.397Z"
   },
   {
    "duration": 7035,
    "start_time": "2023-03-19T19:31:21.708Z"
   },
   {
    "duration": 317,
    "start_time": "2023-03-19T19:31:28.746Z"
   },
   {
    "duration": 87,
    "start_time": "2023-03-19T19:31:29.065Z"
   },
   {
    "duration": 120,
    "start_time": "2023-03-19T19:31:29.154Z"
   },
   {
    "duration": 109,
    "start_time": "2023-03-19T19:31:29.276Z"
   },
   {
    "duration": 88,
    "start_time": "2023-03-19T19:31:29.387Z"
   },
   {
    "duration": 89,
    "start_time": "2023-03-19T19:31:29.476Z"
   },
   {
    "duration": 128,
    "start_time": "2023-03-19T19:31:32.509Z"
   },
   {
    "duration": 80,
    "start_time": "2023-03-19T19:37:32.882Z"
   },
   {
    "duration": 185,
    "start_time": "2023-03-19T19:43:26.040Z"
   },
   {
    "duration": 161,
    "start_time": "2023-03-19T19:43:48.863Z"
   },
   {
    "duration": 133,
    "start_time": "2023-03-19T20:08:09.226Z"
   },
   {
    "duration": 131,
    "start_time": "2023-03-19T20:08:21.753Z"
   },
   {
    "duration": 167,
    "start_time": "2023-03-19T20:08:34.858Z"
   },
   {
    "duration": 131,
    "start_time": "2023-03-19T20:09:07.457Z"
   },
   {
    "duration": 181,
    "start_time": "2023-03-19T20:09:20.217Z"
   },
   {
    "duration": 148,
    "start_time": "2023-03-19T20:10:22.879Z"
   },
   {
    "duration": 133,
    "start_time": "2023-03-19T20:10:45.104Z"
   },
   {
    "duration": 164,
    "start_time": "2023-03-19T20:12:28.283Z"
   },
   {
    "duration": 108,
    "start_time": "2023-03-19T20:13:27.480Z"
   },
   {
    "duration": 140,
    "start_time": "2023-03-19T20:13:55.578Z"
   },
   {
    "duration": 110,
    "start_time": "2023-03-19T20:14:08.526Z"
   },
   {
    "duration": 215,
    "start_time": "2023-03-19T20:15:03.577Z"
   },
   {
    "duration": 81,
    "start_time": "2023-03-19T20:15:47.582Z"
   },
   {
    "duration": 118,
    "start_time": "2023-03-19T20:16:10.357Z"
   },
   {
    "duration": 129,
    "start_time": "2023-03-19T20:17:10.317Z"
   },
   {
    "duration": 108,
    "start_time": "2023-03-19T20:17:33.093Z"
   },
   {
    "duration": 150,
    "start_time": "2023-03-19T20:18:36.243Z"
   },
   {
    "duration": 97,
    "start_time": "2023-03-19T20:18:55.173Z"
   },
   {
    "duration": 115,
    "start_time": "2023-03-19T20:20:23.611Z"
   },
   {
    "duration": 106,
    "start_time": "2023-03-19T20:20:57.715Z"
   },
   {
    "duration": 105,
    "start_time": "2023-03-19T20:21:16.979Z"
   },
   {
    "duration": 163,
    "start_time": "2023-03-19T20:21:26.722Z"
   },
   {
    "duration": 179,
    "start_time": "2023-03-19T20:24:21.957Z"
   },
   {
    "duration": 167,
    "start_time": "2023-03-19T20:24:33.978Z"
   },
   {
    "duration": 114,
    "start_time": "2023-03-19T20:26:41.545Z"
   },
   {
    "duration": 103,
    "start_time": "2023-03-19T20:27:23.249Z"
   },
   {
    "duration": 135,
    "start_time": "2023-03-19T20:30:02.448Z"
   },
   {
    "duration": 10959,
    "start_time": "2023-03-19T20:30:20.488Z"
   },
   {
    "duration": 509,
    "start_time": "2023-03-19T20:30:31.452Z"
   },
   {
    "duration": 122,
    "start_time": "2023-03-19T20:30:31.985Z"
   },
   {
    "duration": 179,
    "start_time": "2023-03-19T20:30:32.113Z"
   },
   {
    "duration": 185,
    "start_time": "2023-03-19T20:30:32.298Z"
   },
   {
    "duration": 121,
    "start_time": "2023-03-19T20:30:32.485Z"
   },
   {
    "duration": 117,
    "start_time": "2023-03-19T20:30:32.609Z"
   },
   {
    "duration": 124,
    "start_time": "2023-03-19T20:30:32.728Z"
   },
   {
    "duration": 135,
    "start_time": "2023-03-19T20:30:32.862Z"
   },
   {
    "duration": 5,
    "start_time": "2023-03-19T20:30:33.001Z"
   },
   {
    "duration": 130,
    "start_time": "2023-03-19T20:30:33.008Z"
   },
   {
    "duration": 151,
    "start_time": "2023-03-19T20:30:33.140Z"
   },
   {
    "duration": 113,
    "start_time": "2023-03-19T20:30:33.293Z"
   },
   {
    "duration": 9223,
    "start_time": "2023-03-19T20:32:49.305Z"
   },
   {
    "duration": 569,
    "start_time": "2023-03-19T20:32:58.530Z"
   },
   {
    "duration": 99,
    "start_time": "2023-03-19T20:32:59.101Z"
   },
   {
    "duration": 165,
    "start_time": "2023-03-19T20:32:59.203Z"
   },
   {
    "duration": 144,
    "start_time": "2023-03-19T20:32:59.374Z"
   },
   {
    "duration": 115,
    "start_time": "2023-03-19T20:32:59.520Z"
   },
   {
    "duration": 123,
    "start_time": "2023-03-19T20:32:59.644Z"
   },
   {
    "duration": 141,
    "start_time": "2023-03-19T20:32:59.770Z"
   },
   {
    "duration": 172,
    "start_time": "2023-03-19T20:32:59.913Z"
   },
   {
    "duration": 9,
    "start_time": "2023-03-19T20:33:00.088Z"
   },
   {
    "duration": 222,
    "start_time": "2023-03-19T20:33:00.099Z"
   },
   {
    "duration": 116,
    "start_time": "2023-03-19T20:33:00.323Z"
   },
   {
    "duration": 137,
    "start_time": "2023-03-19T20:33:00.446Z"
   }
  ],
  "kernelspec": {
   "display_name": "Python 3 (ipykernel)",
   "language": "python",
   "name": "python3"
  },
  "language_info": {
   "codemirror_mode": {
    "name": "ipython",
    "version": 3
   },
   "file_extension": ".py",
   "mimetype": "text/x-python",
   "name": "python",
   "nbconvert_exporter": "python",
   "pygments_lexer": "ipython3",
   "version": "3.9.13"
  },
  "toc": {
   "base_numbering": 1,
   "nav_menu": {},
   "number_sections": true,
   "sideBar": true,
   "skip_h1_title": true,
   "title_cell": "Содержание",
   "title_sidebar": "Содержание",
   "toc_cell": true,
   "toc_position": {},
   "toc_section_display": true,
   "toc_window_display": true
  }
 },
 "nbformat": 4,
 "nbformat_minor": 2
}
