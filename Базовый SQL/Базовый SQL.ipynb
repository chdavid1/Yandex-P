{
 "cells": [
  {
   "cell_type": "markdown",
   "id": "e2a37d60",
   "metadata": {},
   "source": [
    "# Задания по SQL. Базовый уровень"
   ]
  },
  {
   "cell_type": "markdown",
   "id": "26e1423f",
   "metadata": {},
   "source": [
    "## Задание 1 "
   ]
  },
  {
   "cell_type": "markdown",
   "id": "c2597f3b",
   "metadata": {},
   "source": [
    "Посчитайте, сколько компаний закрылось."
   ]
  },
  {
   "cell_type": "markdown",
   "id": "221433e5",
   "metadata": {},
   "source": [
    "* SELECT count(id)\n",
    "* FROM company\n",
    "* WHERE status='closed'"
   ]
  },
  {
   "cell_type": "markdown",
   "id": "8efd2c7f",
   "metadata": {},
   "source": [
    "## Задание 2 "
   ]
  },
  {
   "cell_type": "markdown",
   "id": "165eab8b",
   "metadata": {},
   "source": [
    "Отобразите количество привлечённых средств для новостных компаний США. Используйте данные из таблицы _company_. Отсортируйте таблицу по убыванию значений в поле _funding_total_. "
   ]
  },
  {
   "cell_type": "markdown",
   "id": "1ff992b8",
   "metadata": {},
   "source": [
    "* SELECT funding_total\n",
    "* FROM company\n",
    "* WHERE country_code = 'USA' and category_code='news'\n",
    "* ORDER BY funding_total DESC"
   ]
  },
  {
   "cell_type": "markdown",
   "id": "1e70f0b2",
   "metadata": {},
   "source": [
    "## Задание 3"
   ]
  },
  {
   "cell_type": "markdown",
   "id": "5226827e",
   "metadata": {},
   "source": [
    "Найдите общую сумму сделок по покупке одних компаний другими в долларах. Отберите сделки, которые осуществлялись только за наличные с 2011 по 2013 год включительно."
   ]
  },
  {
   "cell_type": "markdown",
   "id": "9bdc4954",
   "metadata": {},
   "source": [
    "* SELECT sum(price_amount)\n",
    "* FROM acquisition\n",
    "* WHERE term_code='cash' and acquired_at between '01.01.2011' and '31.12.2013'"
   ]
  },
  {
   "cell_type": "markdown",
   "id": "f267c3ea",
   "metadata": {},
   "source": [
    "## Задание 4"
   ]
  },
  {
   "cell_type": "markdown",
   "id": "9f8f276d",
   "metadata": {},
   "source": [
    "Отобразите имя, фамилию и названия аккаунтов людей в твиттере, у которых названия аккаунтов начинаются на _Silver_."
   ]
  },
  {
   "cell_type": "markdown",
   "id": "74443d2d",
   "metadata": {},
   "source": [
    "* SELECT first_name,\n",
    "last_name,\n",
    "twitter_username\n",
    "* FROM people\n",
    "* WHERE twitter_username LIKE 'Silver%'"
   ]
  },
  {
   "cell_type": "markdown",
   "id": "c6e5ef39",
   "metadata": {},
   "source": [
    "## Задание 5"
   ]
  },
  {
   "cell_type": "markdown",
   "id": "83d35086",
   "metadata": {},
   "source": [
    "Выведите на экран всю информацию о людях, у которых названия аккаунтов в твиттере содержат подстроку _money_, а фамилия начинается на _K_."
   ]
  },
  {
   "cell_type": "markdown",
   "id": "aa78ce88",
   "metadata": {},
   "source": [
    "* SELECT *\n",
    "* FROM people\n",
    "* Where twitter_username like '%money%' and last_name like 'K%'"
   ]
  },
  {
   "cell_type": "markdown",
   "id": "80fdb649",
   "metadata": {},
   "source": [
    "## Задание 6"
   ]
  },
  {
   "cell_type": "markdown",
   "id": "984bd564",
   "metadata": {},
   "source": [
    "Для каждой страны отобразите общую сумму привлечённых инвестиций, которые получили компании, зарегистрированные в этой стране. Страну, в которой зарегистрирована компания, можно определить по коду страны. Отсортируйте данные по убыванию суммы."
   ]
  },
  {
   "cell_type": "markdown",
   "id": "555a79be",
   "metadata": {},
   "source": [
    "* SELECT sum(funding_total),\n",
    "country_code\n",
    "* FROM company\n",
    "* GROUP BY country_code\n",
    "* ORDER BY sum(funding_total) DESC"
   ]
  },
  {
   "cell_type": "markdown",
   "id": "5891cdae",
   "metadata": {},
   "source": [
    "## Задание 7 "
   ]
  },
  {
   "cell_type": "markdown",
   "id": "7869731f",
   "metadata": {},
   "source": [
    "Составьте таблицу, в которую войдёт дата проведения раунда, а также минимальное и максимальное значения суммы инвестиций, привлечённых в эту дату.\n",
    "Оставьте в итоговой таблице только те записи, в которых минимальное значение суммы инвестиций не равно нулю и не равно максимальному значению."
   ]
  },
  {
   "cell_type": "markdown",
   "id": "7b2ec642",
   "metadata": {},
   "source": [
    "* SELECT CAST(funded_at AS date),\n",
    "MIN(raised_amount),\n",
    "MAX(raised_amount)\n",
    "* FROM funding_round\n",
    "* GROUP BY CAST(funded_at AS date)\n",
    "* HAVING MIN(raised_amount)!=0 and MIN(raised_amount)!=Max(raised_amount)"
   ]
  },
  {
   "cell_type": "markdown",
   "id": "fbe62452",
   "metadata": {},
   "source": [
    "## Задание 8 "
   ]
  },
  {
   "cell_type": "markdown",
   "id": "38affcb7",
   "metadata": {},
   "source": [
    "Создайте поле с категориями:\n",
    "* Для фондов, которые инвестируют в 100 и более компаний, назначьте категорию high_activity.\n",
    "* Для фондов, которые инвестируют в 20 и более компаний до 100, назначьте категорию middle_activity.\n",
    "* Если количество инвестируемых компаний фонда не достигает 20, назначьте категорию low_activity.\n",
    "\n",
    "Отобразите все поля таблицы fund и новое поле с категориями."
   ]
  },
  {
   "cell_type": "markdown",
   "id": "25a39754",
   "metadata": {},
   "source": [
    "* SELECT *,\n",
    "\n",
    "* CASE \n",
    "WHEN  invested_companies>99 THEN 'high_activity'\n",
    "WHEN  invested_companies>19 and invested_companies<100 then 'middle_activity'\n",
    "ELSE 'low_activity'\n",
    "END AS i\n",
    "\n",
    "* FROM fund"
   ]
  },
  {
   "cell_type": "markdown",
   "id": "baba2375",
   "metadata": {},
   "source": [
    "## Задание 9 "
   ]
  },
  {
   "cell_type": "markdown",
   "id": "3e5127e6",
   "metadata": {},
   "source": [
    "Для каждой из категорий, назначенных в предыдущем задании, посчитайте округлённое до ближайшего целого числа среднее количество инвестиционных раундов, в которых фонд принимал участие. Выведите на экран категории и среднее число инвестиционных раундов. Отсортируйте таблицу по возрастанию среднего."
   ]
  },
  {
   "cell_type": "markdown",
   "id": "0bf323a1",
   "metadata": {},
   "source": [
    "* SELECT\n",
    "       CASE\n",
    "           WHEN invested_companies>=100 THEN 'high_activity'\n",
    "           WHEN invested_companies>=20 THEN 'middle_activity'\n",
    "           ELSE 'low_activity'\n",
    "       END AS activity,\n",
    "       round(avg(investment_rounds))\n",
    "* FROM fund\n",
    "* group by activity\n",
    "* order by round(avg(investment_rounds))"
   ]
  },
  {
   "cell_type": "markdown",
   "id": "6af043ea",
   "metadata": {},
   "source": [
    "## Задание 10"
   ]
  },
  {
   "cell_type": "markdown",
   "id": "c65fe74a",
   "metadata": {},
   "source": [
    "* Проанализируйте, в каких странах находятся фонды, которые чаще всего инвестируют в стартапы. \n",
    "* Для каждой страны посчитайте минимальное, максимальное и среднее число компаний, в которые инвестировали фонды этой страны, основанные с 2010 по 2012 год включительно. Исключите страны с фондами, у которых минимальное число компаний, получивших инвестиции, равно нулю. \n",
    "* Выгрузите десять самых активных стран-инвесторов: отсортируйте таблицу по среднему количеству компаний от большего к меньшему. Затем добавьте сортировку по коду страны в лексикографическом порядке."
   ]
  },
  {
   "cell_type": "markdown",
   "id": "1099b813",
   "metadata": {},
   "source": [
    "* SELECT country_code,\n",
    "min(invested_companies),\n",
    "max(invested_companies),\n",
    "avg(invested_companies)\n",
    "* from fund\n",
    "* WHERE CAST(founded_at AS date) between '2010-01-01' AND '2012-12-31'\n",
    "* GROUP BY country_code\n",
    "* HAVING MIN(invested_companies) <> 0\n",
    "* ORDER BY AVG(invested_companies) DESC,country_code \n",
    "* LIMIT 10"
   ]
  },
  {
   "cell_type": "markdown",
   "id": "084dbce3",
   "metadata": {},
   "source": [
    "## Задание 11"
   ]
  },
  {
   "cell_type": "markdown",
   "id": "2e75752a",
   "metadata": {},
   "source": [
    "Отобразите имя и фамилию всех сотрудников стартапов. Добавьте поле с названием учебного заведения, которое окончил сотрудник, если эта информация известна."
   ]
  },
  {
   "cell_type": "markdown",
   "id": "f106099d",
   "metadata": {},
   "source": [
    "* SELECT\n",
    "    first_name,\n",
    "    last_name,\n",
    "    instituition\n",
    "* FROM people AS i\n",
    "* LEFT OUTER JOIN education AS e ON i.id = e.person_id"
   ]
  },
  {
   "cell_type": "markdown",
   "id": "fecbca17",
   "metadata": {},
   "source": [
    "## Задание 12"
   ]
  },
  {
   "cell_type": "markdown",
   "id": "b58ed9d8",
   "metadata": {},
   "source": [
    "Для каждой компании найдите количество учебных заведений, которые окончили её сотрудники. Выведите название компании и число уникальных названий учебных заведений. Составьте топ-5 компаний по количеству университетов."
   ]
  },
  {
   "cell_type": "markdown",
   "id": "34c80a59",
   "metadata": {},
   "source": [
    "* SELECT c.name,\n",
    "count(distinct ed.instituition)\n",
    "* FROM company as c\n",
    "* INNER JOIN people as p ON c.id=p.company_id\n",
    "* INNER JOIN education as ed ON p.id=ed.person_id\n",
    "* GROUP BY c.name\n",
    "* ORDER BY COUNT(distinct ed.instituition) desc\n",
    "* limit 5;"
   ]
  },
  {
   "cell_type": "markdown",
   "id": "f86d80c7",
   "metadata": {},
   "source": [
    "## Задание 13"
   ]
  },
  {
   "cell_type": "markdown",
   "id": "745c60be",
   "metadata": {},
   "source": [
    "\n",
    "Составьте список с уникальными названиями закрытых компаний, для которых первый раунд финансирования оказался последним."
   ]
  },
  {
   "cell_type": "markdown",
   "id": "ec07a9b1",
   "metadata": {},
   "source": [
    "* SELECT  DISTINCT c.name\n",
    "* FROM company AS c\n",
    "* LEFT JOIN  funding_round AS f on f.company_id=c.id\n",
    "* WHERE  c.status='closed'\n",
    "and f.is_first_round=1\n",
    "and f.is_last_round=1\n"
   ]
  },
  {
   "cell_type": "markdown",
   "id": "0bfe84eb",
   "metadata": {},
   "source": [
    "## Задание 14"
   ]
  },
  {
   "cell_type": "markdown",
   "id": "8c375e71",
   "metadata": {},
   "source": [
    "Составьте список уникальных номеров сотрудников, которые работают в компаниях, отобранных в предыдущем задании."
   ]
  },
  {
   "cell_type": "markdown",
   "id": "5f09af04",
   "metadata": {},
   "source": [
    "* SELECT DISTINCT p.id\n",
    "* FROM people AS p\n",
    "* WHERE p.company_id IN \n",
    "        (SELECT DISTINCT c.id\n",
    "        FROM company AS c\n",
    "        JOIN funding_round AS fr\n",
    "        ON c.id = fr.company_id\n",
    "        WHERE c.status = 'closed'\n",
    "        AND is_first_round = 1\n",
    "        AND is_last_round = 1)\n"
   ]
  },
  {
   "cell_type": "markdown",
   "id": "a53e8531",
   "metadata": {},
   "source": [
    "## Задание 15"
   ]
  },
  {
   "cell_type": "markdown",
   "id": "3daa7eb6",
   "metadata": {},
   "source": [
    "Составьте таблицу, куда войдут уникальные пары с номерами сотрудников из предыдущей задачи и учебным заведением, которое окончил сотрудник."
   ]
  },
  {
   "cell_type": "markdown",
   "id": "f6981774",
   "metadata": {},
   "source": [
    "* SELECT DISTINCT p.id, e.instituition\n",
    "* FROM people AS p\n",
    "* JOIN education AS e ON p.id = e.person_id\n",
    "* WHERE p.company_id IN \n",
    "\n",
    "        (SELECT DISTINCT c.id\n",
    "        FROM company AS c\n",
    "        JOIN funding_round AS fr\n",
    "        ON c.id = fr.company_id\n",
    "        WHERE c.status = 'closed'\n",
    "        AND is_first_round = 1\n",
    "        AND is_last_round = 1)"
   ]
  },
  {
   "cell_type": "markdown",
   "id": "9b16b009",
   "metadata": {},
   "source": [
    "## Задание 16"
   ]
  },
  {
   "cell_type": "markdown",
   "id": "1aa2d4b0",
   "metadata": {},
   "source": [
    "Посчитайте количество учебных заведений для каждого сотрудника из предыдущего задания. При подсчёте учитывайте, что некоторые сотрудники могли окончить одно и то же заведение дважды."
   ]
  },
  {
   "cell_type": "markdown",
   "id": "ad932d5d",
   "metadata": {},
   "source": [
    "* SELECT DISTINCT p.id, count(e.instituition)\n",
    "* FROM people AS p\n",
    "* JOIN education AS e ON p.id = e.person_id\n",
    "* WHERE p.company_id IN \n",
    "\n",
    "        (SELECT DISTINCT c.id\n",
    "        FROM company AS c\n",
    "        JOIN funding_round AS fr\n",
    "        ON c.id = fr.company_id\n",
    "        WHERE c.status = 'closed'\n",
    "        AND is_first_round = 1\n",
    "        AND is_last_round = 1)\n",
    "* GROUP BY p.id"
   ]
  },
  {
   "cell_type": "markdown",
   "id": "ee768c00",
   "metadata": {},
   "source": [
    "## Задание 17"
   ]
  },
  {
   "cell_type": "markdown",
   "id": "7a722c9d",
   "metadata": {},
   "source": [
    "Дополните предыдущий запрос и выведите среднее число учебных заведений (всех, не только уникальных), которые окончили сотрудники разных компаний. Нужно вывести только одну запись, группировка здесь не понадобится."
   ]
  },
  {
   "cell_type": "markdown",
   "id": "68644272",
   "metadata": {},
   "source": [
    "* SELECT AVG(total)\n",
    "* FROM \n",
    "        (SELECT p.id, count(e.instituition) as total    \n",
    "         FROM people AS p\n",
    "         JOIN education AS e ON p.id = e.person_id\n",
    "         WHERE p.company_id IN \n",
    "\n",
    "        (SELECT DISTINCT c.id\n",
    "        FROM company AS c\n",
    "        JOIN funding_round AS fr\n",
    "        ON c.id = fr.company_id\n",
    "        WHERE c.status = 'closed'\n",
    "        AND is_first_round = 1\n",
    "        AND is_last_round = 1)\n",
    "        group by p.id) AS S1"
   ]
  },
  {
   "cell_type": "markdown",
   "id": "cce17b52",
   "metadata": {},
   "source": [
    "## Задание 18"
   ]
  },
  {
   "cell_type": "markdown",
   "id": "0804bf28",
   "metadata": {},
   "source": [
    "Напишите похожий запрос: выведите среднее число учебных заведений (всех, не только уникальных), которые окончили сотрудники Facebook"
   ]
  },
  {
   "cell_type": "markdown",
   "id": "f81b2b47",
   "metadata": {},
   "source": [
    "* SELECT avg(total_instituition)\n",
    "* FROM \n",
    "\n",
    "            (SELECT p.id, \n",
    "             COUNT(e.instituition) AS total_instituition\n",
    "             FROM people AS p JOIN education AS e ON  p.id = e.person_id\n",
    "             WHERE company_id IN \n",
    "                 \n",
    "                 (SELECT DISTINCT c.id\n",
    "                  FROM company AS c\n",
    "                  JOIN funding_round AS fr\n",
    "                  ON c.id = fr.company_id\n",
    "                  where c.name like 'Facebook')\n",
    "                  group by p.id) AS S1"
   ]
  },
  {
   "cell_type": "markdown",
   "id": "224ed14f",
   "metadata": {},
   "source": [
    "## Задание 19"
   ]
  },
  {
   "cell_type": "markdown",
   "id": "6b245d53",
   "metadata": {},
   "source": [
    "* Составьте таблицу из полей:\n",
    "_name_of_fund_ — название фонда;\n",
    "_name_of_company_ — название компании;\n",
    "_amount_ — сумма инвестиций, которую привлекла компания в раунде.\n",
    "* В таблицу войдут данные о компаниях, в истории которых было больше шести важных этапов, а раунды финансирования проходили с 2012 по 2013 год включительно."
   ]
  },
  {
   "cell_type": "markdown",
   "id": "a3ba9d4a",
   "metadata": {},
   "source": [
    "* SELECT f.NAME name_of_fund, c.NAME, fr.raised_amount amount\n",
    "* FROM investment i\n",
    "* JOIN company c ON i.company_id = c.id\n",
    "* JOIN fund f ON i.fund_id = f.id\n",
    "* JOIN funding_round fr ON fr.id = i.funding_round_id \n",
    "* WHERE c.milestones > 6 AND EXTRACT(YEAR FROM cast(fr.funded_at AS DATE)) IN (2012,2013)"
   ]
  },
  {
   "cell_type": "markdown",
   "id": "db9cf04b",
   "metadata": {},
   "source": [
    "## Задание 20"
   ]
  },
  {
   "cell_type": "markdown",
   "id": "57d9542a",
   "metadata": {},
   "source": [
    "* Выгрузите таблицу, в которой будут такие поля:\n",
    "            \n",
    "     * название компании-покупателя;\n",
    "     * сумма сделки;\n",
    "     * название компании, которую купили;\n",
    "     * сумма инвестиций, вложенных в купленную компанию;\n",
    "     * доля, которая отображает, во сколько раз сумма покупки превысила сумму вложенных в компанию инвестиций,округлённая до ближайшего целого числа. \n",
    "            \n",
    "* Не учитывайте те сделки, в которых сумма покупки равна нулю. Если сумма инвестиций в компанию равна нулю, исключите такую компанию из таблицы. \n",
    "* Отсортируйте таблицу по сумме сделки от большей к меньшей, а затем по названию купленной компании в лексикографическом порядке. Ограничьте таблицу первыми десятью записями."
   ]
  },
  {
   "cell_type": "markdown",
   "id": "39fdec81",
   "metadata": {},
   "source": [
    "* SELECT cc.name, c.name, a.price_amount, cc.funding_total, round(a.price_amount/cc.funding_total)\n",
    "* FROM acquisition as a\n",
    "* INNER JOIN company as c on a.acquiring_company_id=c.id\n",
    "* INNER JOIN company as cc on a.acquired_company_id=cc.id\n",
    "* WHERE a.price_amount!=0 and cc.funding_total!=0\n",
    "* ORDER BY a.price_amount DESC,cc.name\n",
    "* LIMIT 10"
   ]
  },
  {
   "cell_type": "markdown",
   "id": "8e8b628c",
   "metadata": {},
   "source": [
    "## Задание 21"
   ]
  },
  {
   "cell_type": "markdown",
   "id": "bbca66fc",
   "metadata": {},
   "source": [
    "Выгрузите таблицу, в которую войдут названия компаний из категории social, получившие финансирование с 2010 по 2013 год включительно. Проверьте, что сумма инвестиций не равна нулю. Выведите также номер месяца, в котором проходил раунд финансирования."
   ]
  },
  {
   "cell_type": "markdown",
   "id": "90ce3e39",
   "metadata": {},
   "source": [
    "* SELECT c.name AS social_c, EXTRACT(MONTH FROM CAST( funded_at AS DATE)) AS number_month\n",
    "* FROM company AS c\n",
    "* RIGHT OUTER JOIN funding_round AS fr ON c.id=fr.company_id\n",
    "* WHERE c.category_code = 'social' AND funded_at BETWEEN '2010-01-01' AND '2013-12-31'\n",
    "AND raised_amount >0;"
   ]
  },
  {
   "cell_type": "markdown",
   "id": "828c5300",
   "metadata": {},
   "source": [
    "## Задание 22"
   ]
  },
  {
   "cell_type": "markdown",
   "id": "0deaec20",
   "metadata": {},
   "source": [
    "* Отберите данные по месяцам с 2010 по 2013 год, когда проходили инвестиционные раунды. Сгруппируйте данные по номеру месяца и получите таблицу, в которой будут поля:\n",
    "номер месяца, в котором проходили раунды;\n",
    "* количество уникальных названий фондов из США, которые инвестировали в этом месяце;\n",
    "* количество компаний, купленных за этот месяц;\n",
    "* общая сумма сделок по покупкам в этом месяце."
   ]
  },
  {
   "cell_type": "markdown",
   "id": "09ae55a4",
   "metadata": {},
   "source": [
    "* WITH\n",
    "* c_f AS \n",
    "\n",
    "       (SELECT EXTRACT (MONTH FROM CAST(fr.funded_at AS date)) AS month,\n",
    "       COUNT(DISTINCT f.name) AS count_fund\n",
    "       FROM funding_round AS fr\n",
    "       RIGHT JOIN investment AS i ON fr.id=i.funding_round_id\n",
    "       LEFT JOIN fund AS f ON  i.fund_id=f.id\n",
    "       WHERE f.country_code = 'USA'\n",
    "       AND EXTRACT (YEAR FROM CAST(fr.funded_at AS date)) IN (2010, 2011, 2012, 2013)\n",
    "       GROUP BY month),\n",
    " \n",
    "* c_c AS \n",
    "\n",
    "       (SELECT EXTRACT(MONTH FROM acquired_at) AS MONTH,\n",
    "       COUNT(acquired_company_id) AS count_of_acquired,\n",
    "       SUM(price_amount) AS sum_of_acquired\n",
    "       FROM acquisition\n",
    "       WHERE EXTRACT(YEAR FROM acquired_at) BETWEEN 2010 AND 2013\n",
    "       GROUP BY MONTH)\n",
    " \n",
    "* SELECT c_f.month AS month_funding_round,\n",
    "       c_f.count_fund,\n",
    "       c_c.count_of_acquired,\n",
    "       c_c.sum_of_acquired\n",
    "* FROM c_f JOIN c_c ON c_f.month=c_c.month    "
   ]
  },
  {
   "cell_type": "markdown",
   "id": "f4163516",
   "metadata": {},
   "source": [
    "## Задание 23"
   ]
  },
  {
   "cell_type": "markdown",
   "id": "d00a7ebe",
   "metadata": {},
   "source": [
    "Составьте сводную таблицу и выведите среднюю сумму инвестиций для стран, в которых есть стартапы, зарегистрированные в 2011, 2012 и 2013 годах. Данные за каждый год должны быть в отдельном поле. Отсортируйте таблицу по среднему значению инвестиций за 2011 год от большего к меньшему."
   ]
  },
  {
   "cell_type": "markdown",
   "id": "6e4b7f7f",
   "metadata": {},
   "source": [
    "* with\n",
    "* a AS \n",
    "\n",
    "       (SELECT country_code, AVG(funding_total) AS year_2011\n",
    "       FROM company\n",
    "       WHERE EXTRACT(YEAR FROM founded_at)=2011\n",
    "       GROUP BY country_code),\n",
    "\n",
    "* b AS \n",
    "\n",
    "       (SELECT country_code, AVG(funding_total) AS year_2012\n",
    "       FROM company\n",
    "       WHERE EXTRACT(YEAR FROM founded_at)=2012\n",
    "       GROUP BY country_code),\n",
    "\n",
    "* c AS \n",
    "\n",
    "       (SELECT country_code, AVG(funding_total) AS year_2013\n",
    "       FROM company\n",
    "       WHERE EXTRACT(YEAR FROM founded_at)=2013\n",
    "       GROUP BY country_code)\n",
    "\n",
    "* SELECT a.country_code, a.year_2011, b.year_2012, c.year_2013\n",
    "* FROM a\n",
    "* JOIN b ON b.country_code=a.country_code\n",
    "* JOIN c ON c.country_code=b.country_code\n",
    "* ORDER BY year_2011 DESC"
   ]
  }
 ],
 "metadata": {
  "kernelspec": {
   "display_name": "Python 3 (ipykernel)",
   "language": "python",
   "name": "python3"
  },
  "language_info": {
   "codemirror_mode": {
    "name": "ipython",
    "version": 3
   },
   "file_extension": ".py",
   "mimetype": "text/x-python",
   "name": "python",
   "nbconvert_exporter": "python",
   "pygments_lexer": "ipython3",
   "version": "3.9.13"
  }
 },
 "nbformat": 4,
 "nbformat_minor": 5
}
